{
 "cells": [
  {
   "cell_type": "code",
   "execution_count": 1,
   "metadata": {},
   "outputs": [],
   "source": [
    "import pandas as pd"
   ]
  },
  {
   "cell_type": "code",
   "execution_count": 9,
   "metadata": {},
   "outputs": [],
   "source": [
    "accessible=pd.read_csv('/Volumes/T7/chroniclingamerica/american-stories/keywords/kkk-accessible-lemma.csv')\n",
    "first=pd.read_csv('/Volumes/T7/chroniclingamerica/american-stories/keywords/kkk-first-label.csv')\n",
    "second=pd.read_csv('/Volumes/T7/chroniclingamerica/american-stories/keywords/kkk-second-label.csv')"
   ]
  },
  {
   "cell_type": "code",
   "execution_count": 19,
   "metadata": {},
   "outputs": [
    {
     "data": {
      "text/plain": [
       "(46613, 7)"
      ]
     },
     "execution_count": 19,
     "metadata": {},
     "output_type": "execute_result"
    }
   ],
   "source": [
    "second.shape"
   ]
  },
  {
   "cell_type": "code",
   "execution_count": 18,
   "metadata": {},
   "outputs": [
    {
     "data": {
      "text/plain": [
       "\"Louisiana, Mo-, Sept.12.-A new form of lynching-by drowning-was the fate met by Love Rudd, a negro, who was taken from constable by mob from Clarksville Mo-, several days ago. This became apparent when Rudd's s body with big rock tied to the feet was found in the Mississippi river near Clarksville tonight. An unconfrmed report says the hands of the negro were still bound by the constable's handcuffs.\\n\\n Rudd several weeks ago was arrest ed for robbery and after being horse wipped by mob at that time, was or dered to leave the vicinity. He re- turned to Clarksville, however, and af- ter home had been robbed last week, was again arrested. Forty masked men waylaid the constable and took the negro from him.\\n\\n We will deliver The Daily News to you each afternon for ten cents per week.\""
      ]
     },
     "execution_count": 18,
     "metadata": {},
     "output_type": "execute_result"
    }
   ],
   "source": [
    "second['article'].iloc[3]"
   ]
  },
  {
   "cell_type": "code",
   "execution_count": 6,
   "metadata": {},
   "outputs": [
    {
     "name": "stdout",
     "output_type": "stream",
     "text": [
      "1870-12-18 1926-03-27\n"
     ]
    }
   ],
   "source": [
    "print(accessible['date'].min(), accessible['date'].max())"
   ]
  },
  {
   "cell_type": "code",
   "execution_count": 10,
   "metadata": {},
   "outputs": [
    {
     "name": "stdout",
     "output_type": "stream",
     "text": [
      "1866-01-01 1871-12-31\n"
     ]
    }
   ],
   "source": [
    "print(first['date'].min(), first['date'].max())"
   ]
  },
  {
   "cell_type": "code",
   "execution_count": 8,
   "metadata": {},
   "outputs": [
    {
     "name": "stdout",
     "output_type": "stream",
     "text": [
      "1915-01-01 1939-12-31\n"
     ]
    }
   ],
   "source": [
    "print(second['date'].min(), second['date'].max())"
   ]
  }
 ],
 "metadata": {
  "kernelspec": {
   "display_name": "py3.10",
   "language": "python",
   "name": "python3"
  },
  "language_info": {
   "codemirror_mode": {
    "name": "ipython",
    "version": 3
   },
   "file_extension": ".py",
   "mimetype": "text/x-python",
   "name": "python",
   "nbconvert_exporter": "python",
   "pygments_lexer": "ipython3",
   "version": "3.10.9"
  }
 },
 "nbformat": 4,
 "nbformat_minor": 2
}
