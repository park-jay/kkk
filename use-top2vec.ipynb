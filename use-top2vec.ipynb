{
 "cells": [
  {
   "cell_type": "code",
   "execution_count": 1,
   "metadata": {},
   "outputs": [
    {
     "name": "stderr",
     "output_type": "stream",
     "text": [
      "/Users/mstudio/miniconda3/envs/py3.10/lib/python3.10/site-packages/umap/distances.py:1063: NumbaDeprecationWarning: The 'nopython' keyword argument was not supplied to the 'numba.jit' decorator. The implicit default value for this argument is currently False, but it will be changed to True in Numba 0.59.0. See https://numba.readthedocs.io/en/stable/reference/deprecation.html#deprecation-of-object-mode-fall-back-behaviour-when-using-jit for details.\n",
      "  @numba.jit()\n",
      "/Users/mstudio/miniconda3/envs/py3.10/lib/python3.10/site-packages/umap/distances.py:1071: NumbaDeprecationWarning: The 'nopython' keyword argument was not supplied to the 'numba.jit' decorator. The implicit default value for this argument is currently False, but it will be changed to True in Numba 0.59.0. See https://numba.readthedocs.io/en/stable/reference/deprecation.html#deprecation-of-object-mode-fall-back-behaviour-when-using-jit for details.\n",
      "  @numba.jit()\n",
      "/Users/mstudio/miniconda3/envs/py3.10/lib/python3.10/site-packages/umap/distances.py:1086: NumbaDeprecationWarning: The 'nopython' keyword argument was not supplied to the 'numba.jit' decorator. The implicit default value for this argument is currently False, but it will be changed to True in Numba 0.59.0. See https://numba.readthedocs.io/en/stable/reference/deprecation.html#deprecation-of-object-mode-fall-back-behaviour-when-using-jit for details.\n",
      "  @numba.jit()\n",
      "/Users/mstudio/miniconda3/envs/py3.10/lib/python3.10/site-packages/tqdm/auto.py:22: TqdmWarning: IProgress not found. Please update jupyter and ipywidgets. See https://ipywidgets.readthedocs.io/en/stable/user_install.html\n",
      "  from .autonotebook import tqdm as notebook_tqdm\n",
      "/Users/mstudio/miniconda3/envs/py3.10/lib/python3.10/site-packages/umap/umap_.py:660: NumbaDeprecationWarning: The 'nopython' keyword argument was not supplied to the 'numba.jit' decorator. The implicit default value for this argument is currently False, but it will be changed to True in Numba 0.59.0. See https://numba.readthedocs.io/en/stable/reference/deprecation.html#deprecation-of-object-mode-fall-back-behaviour-when-using-jit for details.\n",
      "  @numba.jit()\n"
     ]
    }
   ],
   "source": [
    "import pandas as pd\n",
    "from top2vec import Top2Vec\n",
    "from tqdm import tqdm\n",
    "import nltk\n",
    "stop=nltk.corpus.stopwords.words('english')\n",
    "import spacy\n",
    "nlp=spacy.load('en_core_web_sm')\n",
    "from nltk import word_tokenize\n",
    "import os\n",
    "from collections import defaultdict"
   ]
  },
  {
   "cell_type": "code",
   "execution_count": 2,
   "metadata": {},
   "outputs": [],
   "source": [
    "model = Top2Vec.load(\"/Volumes/T7/chroniclingamerica/american-stories/keywords/top2vec/kkk-second-model\")"
   ]
  },
  {
   "cell_type": "code",
   "execution_count": 66,
   "metadata": {},
   "outputs": [],
   "source": [
    "def topic_score_dic(keyword:'str', num=int):\n",
    "    topic_words, word_scores, topic_scores, topic_nums = model.search_topics(keywords=[keyword], num_topics=num)\n",
    "    topic_dic={}\n",
    "    for i in range(0, len(topic_words)):\n",
    "        for k in range(0, len(topic_words[i])):\n",
    "            if topic_words[i][k] in topic_dic.keys():\n",
    "                topic_dic[topic_words[i][k]]=(topic_dic[topic_words[i][k]]+word_scores[i][k])/2\n",
    "            else:\n",
    "                topic_dic[topic_words[i][k]]=word_scores[i][k]\n",
    "    return topic_dic"
   ]
  },
  {
   "cell_type": "code",
   "execution_count": 105,
   "metadata": {},
   "outputs": [],
   "source": [
    "def topic_score_dic_higher(keyword:'str', num=int):\n",
    "    topic_words, word_scores, topic_scores, topic_nums = model.search_topics(keywords=[keyword], num_topics=num)\n",
    "    topic_dic = {}\n",
    "    for i in range(len(topic_words)):\n",
    "        for k in range(len(topic_words[i])):\n",
    "            if topic_words[i][k] in topic_dic.keys():\n",
    "                if word_scores[i][k] > topic_dic[topic_words[i][k]]:\n",
    "                    topic_dic[topic_words[i][k]] = word_scores[i][k]\n",
    "            else:\n",
    "                topic_dic[topic_words[i][k]] = word_scores[i][k]\n",
    "    return topic_dic"
   ]
  },
  {
   "cell_type": "code",
   "execution_count": 100,
   "metadata": {},
   "outputs": [],
   "source": [
    "keyword_dic_list=[]\n",
    "for word in ['ku', 'klux', 'klan', 'mob', 'lynch', 'flog', 'murder']:\n",
    "    dic_result=topic_score_dic(word, 5)\n",
    "    keyword_dic_list.append(dic_result)"
   ]
  },
  {
   "cell_type": "code",
   "execution_count": 111,
   "metadata": {},
   "outputs": [],
   "source": [
    "keyword_dic_list_higher=[]\n",
    "for word in ['ku', 'klux', 'klan', 'mob', 'lynch', 'flog', 'murder']:\n",
    "    dic_result=topic_score_dic_higher(word, 5)\n",
    "    keyword_dic_list_higher.append(dic_result)"
   ]
  },
  {
   "cell_type": "code",
   "execution_count": 118,
   "metadata": {},
   "outputs": [],
   "source": [
    "from collections import defaultdict\n",
    "\n",
    "sums = defaultdict(float)\n",
    "\n",
    "for d in keyword_dic_list_higher:\n",
    "    for key, value in d.items():\n",
    "        sums[key] = max(sums[key], value)\n",
    "\n",
    "max_dict = sums"
   ]
  },
  {
   "cell_type": "code",
   "execution_count": 121,
   "metadata": {},
   "outputs": [],
   "source": [
    "sorted_dict = dict(sorted(dict(max_dict).items(), key=lambda item: item[1], reverse=True))"
   ]
  },
  {
   "cell_type": "code",
   "execution_count": 129,
   "metadata": {},
   "outputs": [
    {
     "data": {
      "text/plain": [
       "['morehouse',\n",
       " 'bastrop',\n",
       " 'yarbrough',\n",
       " 'oberholtzer',\n",
       " 'stephenson',\n",
       " 'texarkana',\n",
       " 'rouge',\n",
       " 'weekend',\n",
       " 'watt',\n",
       " 'baird']"
      ]
     },
     "execution_count": 129,
     "metadata": {},
     "output_type": "execute_result"
    }
   ],
   "source": [
    "list(sorted_dict.keys())[:10]"
   ]
  },
  {
   "cell_type": "code",
   "execution_count": 130,
   "metadata": {},
   "outputs": [
    {
     "data": {
      "text/plain": [
       "[0.7974876,\n",
       " 0.7973625,\n",
       " 0.7747126,\n",
       " 0.7736914,\n",
       " 0.75117135,\n",
       " 0.7309516,\n",
       " 0.7245019,\n",
       " 0.72307205,\n",
       " 0.7151096,\n",
       " 0.6962029]"
      ]
     },
     "execution_count": 130,
     "metadata": {},
     "output_type": "execute_result"
    }
   ],
   "source": [
    "list(sorted_dict.values())[:10]"
   ]
  }
 ],
 "metadata": {
  "kernelspec": {
   "display_name": "py3.10",
   "language": "python",
   "name": "python3"
  },
  "language_info": {
   "codemirror_mode": {
    "name": "ipython",
    "version": 3
   },
   "file_extension": ".py",
   "mimetype": "text/x-python",
   "name": "python",
   "nbconvert_exporter": "python",
   "pygments_lexer": "ipython3",
   "version": "3.10.9"
  }
 },
 "nbformat": 4,
 "nbformat_minor": 2
}
