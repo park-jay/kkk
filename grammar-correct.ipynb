{
 "cells": [
  {
   "cell_type": "code",
   "execution_count": 7,
   "metadata": {},
   "outputs": [
    {
     "name": "stdout",
     "output_type": "stream",
     "text": [
      "[Gramformer] Grammar error correct/highlight model loaded..\n",
      "[Input]  That resolution passed by the Ameri can Legion does not apply to the Ku Klux Klan is known by all fair-mind ed individuals.\n",
      "[Correction]  That resolution passed by the American Legion does not apply to the Ku Klux Klan is known by all fair-minded individuals.\n",
      "----------------------------------------------------------------------------------------------------\n",
      "[Input]  But how does he quote Scrip ture. The American Legion’s resolu tion does not denounce the Ku Klux Klan anymore than it denounces one or any of the Protestant churches.\n",
      "[Correction]  But how does he quote Scripture? The American Legion’s resolu tion does not denounce the Ku Klux Klan anymore than it denounces one or any of the Protestant churches.\n",
      "----------------------------------------------------------------------------------------------------\n",
      "[Input]  A reorganized Ku-Klux Klan, with branches already established lh?onghout the South, has invaded the North with the avowed intention of becoming a national fraternal order. A den has been projected for New York City.\n",
      "[Correction]  A reorganized Ku-Klux Klan, with branches already established throughout the South, has invaded the North with the avowed intention of becoming a national fraternal order. A den has been projected for New York City.\n",
      "----------------------------------------------------------------------------------------------------\n",
      "[Input]  Äôs early life; along with him, inthis class, is he who boasts of beinga Northerner, he who enjoys withslight and scanty appreciation of hisancestry and people, all social, educationaland political liberties, hewhose ideas of any land but his ownare extremely crude, and likewiseworthless; he imagines through misguidedand misunderstood reading,that the south is still in the grip ofthe Klu Klux Klan and his brother isrepresented accurately by ‚ÄúThe Clansman‚Äùand ‚ÄúLeopard‚Äôs Spots‚Äù; he whodoes know. \n",
      "[Correction]  ôs early life; along with him, in this class, is he who boasts of being a Northerner, he who enjoys withslight and scanty appreciation of his ancestry and people, all social, educational and political liberties, he whose\n",
      "[Correction]  ôs early life; along with him, in this class, is he who boasts of being a Northerner, he who enjoys withslight and scanty appreciation of hisancestry and people, all social, educational and political liberties, he whose ideas of\n",
      "----------------------------------------------------------------------------------------------------\n"
     ]
    }
   ],
   "source": [
    "from gramformer import Gramformer\n",
    "import torch\n",
    "\n",
    "def set_seed(seed):\n",
    "  torch.manual_seed(seed)\n",
    "  if torch.cuda.is_available():\n",
    "    torch.cuda.manual_seed_all(seed)\n",
    "\n",
    "set_seed(1212)\n",
    "\n",
    "\n",
    "gf = Gramformer(models = 1, use_gpu=False) # 1=corrector, 2=detector\n",
    "\n",
    "influent_sentences = [\n",
    "\"That resolution passed by the Ameri can Legion does not apply to the Ku Klux Klan is known by all fair-mind ed individuals.\",\n",
    "\"But how does he quote Scrip ture. The American Legion’s resolu tion does not denounce the Ku Klux Klan anymore than it denounces one or any of the Protestant churches.\",\n",
    "\"A reorganized Ku-Klux Klan, with branches already established lh?onghout the South, has invaded the North with the avowed intention of becoming a national fraternal order. A den has been projected for New York City.\",\n",
    "\"Äôs early life; along with him, inthis class, is he who boasts of beinga Northerner, he who enjoys withslight and scanty appreciation of hisancestry and people, all social, educationaland political liberties, hewhose ideas of any land but his ownare extremely crude, and likewiseworthless; he imagines through misguidedand misunderstood reading,that the south is still in the grip ofthe Klu Klux Klan and his brother isrepresented accurately by ‚ÄúThe Clansman‚Äùand ‚ÄúLeopard‚Äôs Spots‚Äù; he whodoes know. \"\n",
    "]   \n",
    "\n",
    "for influent_sentence in influent_sentences:\n",
    "    corrected_sentences = gf.correct(influent_sentence, max_candidates=5)\n",
    "    print(\"[Input] \", influent_sentence)\n",
    "    for corrected_sentence in corrected_sentences:\n",
    "      print(\"[Correction] \",corrected_sentence)\n",
    "    print(\"-\" *100)"
   ]
  },
  {
   "cell_type": "code",
   "execution_count": null,
   "metadata": {},
   "outputs": [],
   "source": [
    "input_text_1 = \"That resolution passed by the Ameri can Legion does not apply to the Ku Klux Klan is known by all fair-mind ed individuals.\""
   ]
  },
  {
   "cell_type": "code",
   "execution_count": null,
   "metadata": {},
   "outputs": [],
   "source": [
    "type(input_text_1)"
   ]
  }
 ],
 "metadata": {
  "kernelspec": {
   "display_name": "py3.10",
   "language": "python",
   "name": "python3"
  },
  "language_info": {
   "codemirror_mode": {
    "name": "ipython",
    "version": 3
   },
   "file_extension": ".py",
   "mimetype": "text/x-python",
   "name": "python",
   "nbconvert_exporter": "python",
   "pygments_lexer": "ipython3",
   "version": "3.10.9"
  }
 },
 "nbformat": 4,
 "nbformat_minor": 2
}
