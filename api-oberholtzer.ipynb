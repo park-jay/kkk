{
 "cells": [
  {
   "cell_type": "code",
   "execution_count": 2,
   "metadata": {},
   "outputs": [],
   "source": [
    "import requests\n",
    "import time\n",
    "from datetime import timedelta\n",
    "from datetime import datetime\n",
    "import pandas as pd\n",
    "import urllib.request\n",
    "from tqdm import tqdm\n",
    "import json\n",
    "import asyncio\n",
    "import numpy as np\n",
    "import os\n",
    "from nltk import sent_tokenize\n",
    "from nltk import word_tokenize"
   ]
  },
  {
   "cell_type": "code",
   "execution_count": 28,
   "metadata": {},
   "outputs": [
    {
     "name": "stderr",
     "output_type": "stream",
     "text": [
      "100%|██████████| 47/47 [01:55<00:00,  2.45s/it]\n"
     ]
    }
   ],
   "source": [
    "def scrape_and_save_data(pageno):\n",
    "    city = []\n",
    "    state = []\n",
    "    date = []\n",
    "    lccn = []\n",
    "    text = []\n",
    "    title = []\n",
    "\n",
    "    try:\n",
    "        # https://chroniclingamerica.loc.gov/search/pages/results/?state=&date1=1770&date2=1963&proxtext=white+man+ticket&format=json&page=1\n",
    "        #https://chroniclingamerica.loc.gov/search/pages/results/?state=&date1=1770&date2=1963&proxtext=oberholtzer&rows=50&format=json\n",
    "        r = s.get(f'https://chroniclingamerica.loc.gov/search/pages/results/?state=&date1=1770&date2=1963&proxtext=oberholtzer&rows=100&format=json&page={pageno}', timeout=20)\n",
    "        r.raise_for_status()  # Check if the request was successful\n",
    "        data = r.json()\n",
    "\n",
    "        for item in data.get('items', []):\n",
    "            city.append(item.get('city', np.nan))\n",
    "            date.append(item.get('date', np.nan))\n",
    "            state.append(item.get('state', np.nan))\n",
    "            lccn.append(item.get('lccn', np.nan))\n",
    "            text.append(item.get('ocr_eng', np.nan))\n",
    "            title.append(item.get('title', np.nan))\n",
    "\n",
    "        df = pd.DataFrame({\n",
    "            'city': city,\n",
    "            'state': state,\n",
    "            'date': date,\n",
    "            'lCCN': lccn,\n",
    "            'text': text,\n",
    "            'title': title\n",
    "        })\n",
    "\n",
    "        output_dir =  '/Users/mstudio/Library/CloudStorage/Box-Box/oberholtzer/raw-data/'\n",
    "        os.makedirs(output_dir, exist_ok=True)\n",
    "        df.to_csv(f'{output_dir}oberholtzer_{pageno}.csv', index=False)\n",
    "        time.sleep(10)\n",
    "    except requests.exceptions.RequestException as e:\n",
    "        # print(f\"Error: {e}\")\n",
    "        failed_page.append(pageno)\n",
    "\n",
    "failed_page = []\n",
    "s = requests.Session()\n",
    "\n",
    "for pageno in tqdm(range(int(np.round(4590 / 100)) + 1)): #4590\n",
    "    no = pageno+1\n",
    "    if str(no) in [i.strip('oberholtzer_').strip('.csv') for i in os.listdir('/Users/mstudio/Library/CloudStorage/Box-Box/oberholtzer/raw-data/')]:\n",
    "        continue\n",
    "    else:\n",
    "        scrape_and_save_data(no)\n"
   ]
  },
  {
   "cell_type": "code",
   "execution_count": 3,
   "metadata": {},
   "outputs": [],
   "source": [
    "oberholtzer_path='/Users/mstudio/Library/CloudStorage/Box-Box/ticket/raw-data/'\n",
    "concat_list=[]\n",
    "for i in os.listdir(oberholtzer_path):\n",
    "    if i.startswith('.'):\n",
    "        continue\n",
    "    else:\n",
    "        df = pd.read_csv(oberholtzer_path+i)\n",
    "        df['filename'] = i.replace('.csv', '')  # Add new column with filename\n",
    "        concat_list.append(df)"
   ]
  },
  {
   "cell_type": "code",
   "execution_count": 15,
   "metadata": {},
   "outputs": [],
   "source": [
    "ticket_df=pd.concat(concat_list)\n",
    "ticket_df.to_excel('/Users/mstudio/Library/CloudStorage/Box-Box/oberholtzer/oberholtzer.xlsx', index=False)\n"
   ]
  }
 ],
 "metadata": {
  "kernelspec": {
   "display_name": "py3.10",
   "language": "python",
   "name": "python3"
  },
  "language_info": {
   "codemirror_mode": {
    "name": "ipython",
    "version": 3
   },
   "file_extension": ".py",
   "mimetype": "text/x-python",
   "name": "python",
   "nbconvert_exporter": "python",
   "pygments_lexer": "ipython3",
   "version": "3.10.9"
  }
 },
 "nbformat": 4,
 "nbformat_minor": 2
}
