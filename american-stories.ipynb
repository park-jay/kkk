{
 "cells": [
  {
   "cell_type": "code",
   "execution_count": 1,
   "metadata": {},
   "outputs": [
    {
     "name": "stderr",
     "output_type": "stream",
     "text": [
      "/Users/mstudio/miniconda3/envs/py3.10/lib/python3.10/site-packages/tqdm/auto.py:22: TqdmWarning: IProgress not found. Please update jupyter and ipywidgets. See https://ipywidgets.readthedocs.io/en/stable/user_install.html\n",
      "  from .autonotebook import tqdm as notebook_tqdm\n"
     ]
    }
   ],
   "source": [
    "from datasets import load_dataset\n",
    "from tqdm import tqdm\n",
    "from nltk.tokenize import word_tokenize\n",
    "from datetime import datetime\n",
    "import pandas as pd"
   ]
  },
  {
   "cell_type": "code",
   "execution_count": 2,
   "metadata": {},
   "outputs": [
    {
     "name": "stderr",
     "output_type": "stream",
     "text": [
      "Using custom data configuration subset_years-111bd3a2c766c1d1\n"
     ]
    },
    {
     "name": "stdout",
     "output_type": "stream",
     "text": [
      "Downloading and preparing dataset american_stories/subset_years to /Users/mstudio/.cache/huggingface/datasets/dell-research-harvard___american_stories/subset_years-111bd3a2c766c1d1/0.1.0/75a916c5166c4f1fe51a57e0f5074cc72e19157c2bb064a2dc3e6362e19892fb...\n",
      "Only taking a subset of years. Change name to 'all_years' to use all years in the dataset.\n",
      "{'1872': 'https://huggingface.co/datasets/dell-research-harvard/AmericanStories/resolve/main/faro_1872.tar.gz', '1873': 'https://huggingface.co/datasets/dell-research-harvard/AmericanStories/resolve/main/faro_1873.tar.gz', '1874': 'https://huggingface.co/datasets/dell-research-harvard/AmericanStories/resolve/main/faro_1874.tar.gz', '1875': 'https://huggingface.co/datasets/dell-research-harvard/AmericanStories/resolve/main/faro_1875.tar.gz', '1876': 'https://huggingface.co/datasets/dell-research-harvard/AmericanStories/resolve/main/faro_1876.tar.gz', '1877': 'https://huggingface.co/datasets/dell-research-harvard/AmericanStories/resolve/main/faro_1877.tar.gz', '1879': 'https://huggingface.co/datasets/dell-research-harvard/AmericanStories/resolve/main/faro_1879.tar.gz', '1880': 'https://huggingface.co/datasets/dell-research-harvard/AmericanStories/resolve/main/faro_1880.tar.gz', '1881': 'https://huggingface.co/datasets/dell-research-harvard/AmericanStories/resolve/main/faro_1881.tar.gz', '1882': 'https://huggingface.co/datasets/dell-research-harvard/AmericanStories/resolve/main/faro_1882.tar.gz', '1883': 'https://huggingface.co/datasets/dell-research-harvard/AmericanStories/resolve/main/faro_1883.tar.gz', '1884': 'https://huggingface.co/datasets/dell-research-harvard/AmericanStories/resolve/main/faro_1884.tar.gz', '1885': 'https://huggingface.co/datasets/dell-research-harvard/AmericanStories/resolve/main/faro_1885.tar.gz', '1886': 'https://huggingface.co/datasets/dell-research-harvard/AmericanStories/resolve/main/faro_1886.tar.gz', '1887': 'https://huggingface.co/datasets/dell-research-harvard/AmericanStories/resolve/main/faro_1887.tar.gz', '1888': 'https://huggingface.co/datasets/dell-research-harvard/AmericanStories/resolve/main/faro_1888.tar.gz', '1889': 'https://huggingface.co/datasets/dell-research-harvard/AmericanStories/resolve/main/faro_1889.tar.gz', '1890': 'https://huggingface.co/datasets/dell-research-harvard/AmericanStories/resolve/main/faro_1890.tar.gz', '1891': 'https://huggingface.co/datasets/dell-research-harvard/AmericanStories/resolve/main/faro_1891.tar.gz', '1892': 'https://huggingface.co/datasets/dell-research-harvard/AmericanStories/resolve/main/faro_1892.tar.gz', '1893': 'https://huggingface.co/datasets/dell-research-harvard/AmericanStories/resolve/main/faro_1893.tar.gz', '1894': 'https://huggingface.co/datasets/dell-research-harvard/AmericanStories/resolve/main/faro_1894.tar.gz', '1895': 'https://huggingface.co/datasets/dell-research-harvard/AmericanStories/resolve/main/faro_1895.tar.gz', '1896': 'https://huggingface.co/datasets/dell-research-harvard/AmericanStories/resolve/main/faro_1896.tar.gz', '1897': 'https://huggingface.co/datasets/dell-research-harvard/AmericanStories/resolve/main/faro_1897.tar.gz', '1898': 'https://huggingface.co/datasets/dell-research-harvard/AmericanStories/resolve/main/faro_1898.tar.gz', '1899': 'https://huggingface.co/datasets/dell-research-harvard/AmericanStories/resolve/main/faro_1899.tar.gz', '1900': 'https://huggingface.co/datasets/dell-research-harvard/AmericanStories/resolve/main/faro_1900.tar.gz', '1901': 'https://huggingface.co/datasets/dell-research-harvard/AmericanStories/resolve/main/faro_1901.tar.gz', '1902': 'https://huggingface.co/datasets/dell-research-harvard/AmericanStories/resolve/main/faro_1902.tar.gz', '1903': 'https://huggingface.co/datasets/dell-research-harvard/AmericanStories/resolve/main/faro_1903.tar.gz', '1904': 'https://huggingface.co/datasets/dell-research-harvard/AmericanStories/resolve/main/faro_1904.tar.gz', '1905': 'https://huggingface.co/datasets/dell-research-harvard/AmericanStories/resolve/main/faro_1905.tar.gz', '1906': 'https://huggingface.co/datasets/dell-research-harvard/AmericanStories/resolve/main/faro_1906.tar.gz', '1907': 'https://huggingface.co/datasets/dell-research-harvard/AmericanStories/resolve/main/faro_1907.tar.gz', '1908': 'https://huggingface.co/datasets/dell-research-harvard/AmericanStories/resolve/main/faro_1908.tar.gz', '1909': 'https://huggingface.co/datasets/dell-research-harvard/AmericanStories/resolve/main/faro_1909.tar.gz', '1910': 'https://huggingface.co/datasets/dell-research-harvard/AmericanStories/resolve/main/faro_1910.tar.gz', '1911': 'https://huggingface.co/datasets/dell-research-harvard/AmericanStories/resolve/main/faro_1911.tar.gz', '1912': 'https://huggingface.co/datasets/dell-research-harvard/AmericanStories/resolve/main/faro_1912.tar.gz', '1913': 'https://huggingface.co/datasets/dell-research-harvard/AmericanStories/resolve/main/faro_1913.tar.gz', '1914': 'https://huggingface.co/datasets/dell-research-harvard/AmericanStories/resolve/main/faro_1914.tar.gz'}\n"
     ]
    },
    {
     "name": "stderr",
     "output_type": "stream",
     "text": [
      "\n",
      "\n",
      "\n",
      "\n",
      "\n",
      "\n",
      "\n",
      "Downloading data files #7:   0%|          | 0/3 [00:00<?, ?obj/s]\u001b[A\u001b[A\u001b[A\u001b[A\u001b[A\u001b[A\u001b[A\n",
      "Downloading data files #7: 100%|██████████| 3/3 [00:00<00:00, 2760.02obj/s]\n",
      "Downloading data files #1: 100%|██████████| 3/3 [00:00<00:00, 2133.78obj/s]\n",
      "\n",
      "\n",
      "\n",
      "\n",
      "\n",
      "\n",
      "Downloading data files #6:   0%|          | 0/3 [00:00<?, ?obj/s]\u001b[A\u001b[A\u001b[A\u001b[A\u001b[A\u001b[A\n",
      "\n",
      "\n",
      "\n",
      "\n",
      "\n",
      "\n",
      "\n",
      "Downloading data files #6: 100%|██████████| 3/3 [00:00<00:00, 2424.92obj/s][A\u001b[A\u001b[A\u001b[A\u001b[A\n",
      "Downloading data files #8: 100%|██████████| 3/3 [00:00<00:00, 2946.13obj/s]\n",
      "\n",
      "\n",
      "Downloading data files #2: 100%|██████████| 3/3 [00:00<00:00, 2281.17obj/s]\n",
      "\n",
      "\n",
      "\n",
      "\n",
      "Downloading data files #4: 100%|██████████| 3/3 [00:00<00:00, 2824.45obj/s][A\n",
      "\n",
      "\n",
      "\n",
      "\n",
      "\n",
      "\n",
      "\n",
      "\n",
      "\n",
      "\n",
      "\n",
      "\n",
      "Downloading data files #12: 100%|██████████| 2/2 [00:00<00:00, 3006.67obj/s][A\u001b[A\u001b[A\u001b[A\u001b[A\u001b[A\u001b[A\u001b[A\u001b[A\n",
      "Downloading data files #0: 100%|██████████| 3/3 [00:00<00:00, 4154.15obj/s]\n",
      "\n",
      "\n",
      "\n",
      "\n",
      "\n",
      "\n",
      "\n",
      "\n",
      "\n",
      "\n",
      "\n",
      "\n",
      "\n",
      "Downloading data files #13:   0%|          | 0/2 [00:00<?, ?obj/s]\u001b[A\u001b[A\u001b[A\u001b[A\u001b[A\u001b[A\u001b[A\u001b[A\u001b[A\u001b[A\u001b[A\u001b[A\u001b[A\n",
      "\n",
      "\n",
      "\n",
      "\n",
      "Downloading data files #13: 100%|██████████| 2/2 [00:00<00:00, 2363.65obj/s]A\u001b[A\n",
      "Downloading data files #5: 100%|██████████| 3/3 [00:00<00:00, 3690.00obj/s]\n",
      "\n",
      "\n",
      "\n",
      "\n",
      "\n",
      "\n",
      "\n",
      "\n",
      "\n",
      "\n",
      "\n",
      "Downloading data files #11: 100%|██████████| 2/2 [00:00<00:00, 2989.53obj/s][A\u001b[A\u001b[A\u001b[A\u001b[A\u001b[A\u001b[A\u001b[A\n",
      "\n",
      "\n",
      "\n",
      "\n",
      "\n",
      "\n",
      "\n",
      "\n",
      "\n",
      "Downloading data files #9: 100%|██████████| 3/3 [00:00<00:00, 2884.00obj/s][A\u001b[A\u001b[A\u001b[A\u001b[A\u001b[A\n",
      "\n",
      "\n",
      "\n",
      "Downloading data files #3: 100%|██████████| 3/3 [00:00<00:00, 3754.97obj/s]\n",
      "\n",
      "\n",
      "\n",
      "\n",
      "\n",
      "\n",
      "\n",
      "\n",
      "\n",
      "\n",
      "\n",
      "\n",
      "\n",
      "\n",
      "Downloading data files #14: 100%|██████████| 2/2 [00:00<00:00, 3869.28obj/s][A\u001b[A\u001b[A\u001b[A\u001b[A\u001b[A\u001b[A\u001b[A\u001b[A\u001b[A\u001b[A\n",
      "\n",
      "\n",
      "\n",
      "\n",
      "\n",
      "\n",
      "\n",
      "\n",
      "\n",
      "\n",
      "Downloading data files #10: 100%|██████████| 2/2 [00:00<00:00, 2984.21obj/s][A\u001b[A\u001b[A\u001b[A\u001b[A\u001b[A\u001b[A\n",
      "\n",
      "\n",
      "\n",
      "\n",
      "\n",
      "\n",
      "\n",
      "\n",
      "\n",
      "\n",
      "\n",
      "\n",
      "\n",
      "\n",
      "\n",
      "Downloading data files #15: 100%|██████████| 2/2 [00:00<00:00, 2812.14obj/s][A\u001b[A\u001b[A\u001b[A\u001b[A\u001b[A\u001b[A\u001b[A\u001b[A\u001b[A\u001b[A\u001b[A\n",
      "Generating 1872 split: 1038 examples [00:00, 10371.18 examples/s]"
     ]
    },
    {
     "name": "stdout",
     "output_type": "stream",
     "text": [
      "Loading associated\n"
     ]
    },
    {
     "name": "stderr",
     "output_type": "stream",
     "text": [
      "Generating 1873 split: 1210 examples [00:00, 11933.76 examples/s]  "
     ]
    },
    {
     "name": "stdout",
     "output_type": "stream",
     "text": [
      "Loading associated\n"
     ]
    },
    {
     "name": "stderr",
     "output_type": "stream",
     "text": [
      "Generating 1874 split: 1243 examples [00:00, 12428.74 examples/s]  "
     ]
    },
    {
     "name": "stdout",
     "output_type": "stream",
     "text": [
      "Loading associated\n"
     ]
    },
    {
     "name": "stderr",
     "output_type": "stream",
     "text": [
      "Generating 1875 split: 1446 examples [00:00, 14311.28 examples/s]  "
     ]
    },
    {
     "name": "stdout",
     "output_type": "stream",
     "text": [
      "Loading associated\n"
     ]
    },
    {
     "name": "stderr",
     "output_type": "stream",
     "text": [
      "Generating 1876 split: 1246 examples [00:00, 12376.83 examples/s]  "
     ]
    },
    {
     "name": "stdout",
     "output_type": "stream",
     "text": [
      "Loading associated\n"
     ]
    },
    {
     "name": "stderr",
     "output_type": "stream",
     "text": [
      "Generating 1877 split: 1079 examples [00:00, 10789.47 examples/s]  "
     ]
    },
    {
     "name": "stdout",
     "output_type": "stream",
     "text": [
      "Loading associated\n"
     ]
    },
    {
     "name": "stderr",
     "output_type": "stream",
     "text": [
      "Generating 1877 split: 31587 examples [00:02, 12864.65 examples/s]"
     ]
    },
    {
     "name": "stdout",
     "output_type": "stream",
     "text": [
      "Error loading file: mnt/122a7683-fa4b-45dd-9f13-b18cc4f4a187/ca_rule_based_fa_clean/faro_1877/1877-02-23_p1_sn84022135_00295869495_1877022301_0241.json\n"
     ]
    },
    {
     "name": "stderr",
     "output_type": "stream",
     "text": [
      "Generating 1877 split: 117369 examples [00:09, 12702.61 examples/s]"
     ]
    },
    {
     "name": "stdout",
     "output_type": "stream",
     "text": [
      "Error loading file: mnt/122a7683-fa4b-45dd-9f13-b18cc4f4a187/ca_rule_based_fa_clean/faro_1877/1877-02-20_p1_sn84022135_00295869495_1877022001_0237.json\n"
     ]
    },
    {
     "name": "stderr",
     "output_type": "stream",
     "text": [
      "Generating 1877 split: 123908 examples [00:10, 11939.34 examples/s]"
     ]
    },
    {
     "name": "stdout",
     "output_type": "stream",
     "text": [
      "Error loading file: mnt/122a7683-fa4b-45dd-9f13-b18cc4f4a187/ca_rule_based_fa_clean/faro_1877/1877-03-02_p1_sn84022135_00295869495_1877030201_0249.json\n"
     ]
    },
    {
     "name": "stderr",
     "output_type": "stream",
     "text": [
      "Generating 1877 split: 138647 examples [00:11, 12196.81 examples/s]"
     ]
    },
    {
     "name": "stdout",
     "output_type": "stream",
     "text": [
      "Error loading file: mnt/122a7683-fa4b-45dd-9f13-b18cc4f4a187/ca_rule_based_fa_clean/faro_1877/1877-03-13_p1_sn84022135_00295869495_1877031301_0261.json\n"
     ]
    },
    {
     "name": "stderr",
     "output_type": "stream",
     "text": [
      "Generating 1877 split: 198778 examples [00:16, 13208.74 examples/s]"
     ]
    },
    {
     "name": "stdout",
     "output_type": "stream",
     "text": [
      "Error loading file: mnt/122a7683-fa4b-45dd-9f13-b18cc4f4a187/ca_rule_based_fa_clean/faro_1877/1877-03-16_p1_sn84022135_00295869495_1877031601_0265.json\n"
     ]
    },
    {
     "name": "stderr",
     "output_type": "stream",
     "text": [
      "Generating 1877 split: 218149 examples [00:18, 12095.99 examples/s]"
     ]
    },
    {
     "name": "stdout",
     "output_type": "stream",
     "text": [
      "Error loading file: mnt/122a7683-fa4b-45dd-9f13-b18cc4f4a187/ca_rule_based_fa_clean/faro_1877/1877-02-27_p1_sn84022135_00295869495_1877022701_0245.json\n"
     ]
    },
    {
     "name": "stderr",
     "output_type": "stream",
     "text": [
      "Generating 1879 split: 1262 examples [00:00, 12597.67 examples/s]  "
     ]
    },
    {
     "name": "stdout",
     "output_type": "stream",
     "text": [
      "Loading associated\n"
     ]
    },
    {
     "name": "stderr",
     "output_type": "stream",
     "text": [
      "Generating 1880 split: 1502 examples [00:00, 15019.26 examples/s]  "
     ]
    },
    {
     "name": "stdout",
     "output_type": "stream",
     "text": [
      "Loading associated\n"
     ]
    },
    {
     "name": "stderr",
     "output_type": "stream",
     "text": [
      "Generating 1880 split: 14732 examples [00:01, 12471.14 examples/s]"
     ]
    },
    {
     "name": "stdout",
     "output_type": "stream",
     "text": [
      "Error loading file: mnt/122a7683-fa4b-45dd-9f13-b18cc4f4a187/ca_rule_based_fa_clean/faro_1880/1880-03-19_p1_sn84022135_00295869598_1880031901_0503.json\n"
     ]
    },
    {
     "name": "stderr",
     "output_type": "stream",
     "text": [
      "Generating 1880 split: 35726 examples [00:02, 12740.70 examples/s]"
     ]
    },
    {
     "name": "stdout",
     "output_type": "stream",
     "text": [
      "Error loading file: mnt/122a7683-fa4b-45dd-9f13-b18cc4f4a187/ca_rule_based_fa_clean/faro_1880/1880-06-11_p1_sn84022135_00295869598_1880061101_0599.json\n"
     ]
    },
    {
     "name": "stderr",
     "output_type": "stream",
     "text": [
      "Generating 1880 split: 48020 examples [00:03, 11716.62 examples/s]"
     ]
    },
    {
     "name": "stdout",
     "output_type": "stream",
     "text": [
      "Error loading file: mnt/122a7683-fa4b-45dd-9f13-b18cc4f4a187/ca_rule_based_fa_clean/faro_1880/1880-06-18_p1_sn84022135_00295869598_1880061801_0607.json\n",
      "Error loading file: mnt/122a7683-fa4b-45dd-9f13-b18cc4f4a187/ca_rule_based_fa_clean/faro_1880/1880-02-03_p1_sn84022135_00295869598_1880020301_0451.json\n"
     ]
    },
    {
     "name": "stderr",
     "output_type": "stream",
     "text": [
      "Generating 1880 split: 55690 examples [00:04, 12306.54 examples/s]"
     ]
    },
    {
     "name": "stdout",
     "output_type": "stream",
     "text": [
      "Error loading file: mnt/122a7683-fa4b-45dd-9f13-b18cc4f4a187/ca_rule_based_fa_clean/faro_1880/1880-03-30_p1_sn84022135_00295869598_1880033001_0515.json\n"
     ]
    },
    {
     "name": "stderr",
     "output_type": "stream",
     "text": [
      "Generating 1880 split: 59418 examples [00:04, 11828.83 examples/s]"
     ]
    },
    {
     "name": "stdout",
     "output_type": "stream",
     "text": [
      "Error loading file: mnt/122a7683-fa4b-45dd-9f13-b18cc4f4a187/ca_rule_based_fa_clean/faro_1880/1880-06-25_p1_sn84022135_00295869598_1880062501_0615.json\n"
     ]
    },
    {
     "name": "stderr",
     "output_type": "stream",
     "text": [
      "Generating 1880 split: 70662 examples [00:05, 10920.67 examples/s]"
     ]
    },
    {
     "name": "stdout",
     "output_type": "stream",
     "text": [
      "Error loading file: mnt/122a7683-fa4b-45dd-9f13-b18cc4f4a187/ca_rule_based_fa_clean/faro_1880/1880-06-15_p1_sn84022135_00295869598_1880061501_0603.json\n"
     ]
    },
    {
     "name": "stderr",
     "output_type": "stream",
     "text": [
      "Generating 1880 split: 78137 examples [00:06, 11807.49 examples/s]"
     ]
    },
    {
     "name": "stdout",
     "output_type": "stream",
     "text": [
      "Error loading file: mnt/122a7683-fa4b-45dd-9f13-b18cc4f4a187/ca_rule_based_fa_clean/faro_1880/1880-01-20_p1_sn84022135_00295869598_1880012001_0435.json\n",
      "Error loading file: mnt/122a7683-fa4b-45dd-9f13-b18cc4f4a187/ca_rule_based_fa_clean/faro_1880/1880-05-07_p1_sn84022135_00295869598_1880050701_0559.json\n",
      "Error loading file: mnt/122a7683-fa4b-45dd-9f13-b18cc4f4a187/ca_rule_based_fa_clean/faro_1880/1880-06-08_p1_sn84022135_00295869598_1880060801_0595.json\n"
     ]
    },
    {
     "name": "stderr",
     "output_type": "stream",
     "text": [
      "Generating 1880 split: 88422 examples [00:07, 12174.23 examples/s]"
     ]
    },
    {
     "name": "stdout",
     "output_type": "stream",
     "text": [
      "Error loading file: mnt/122a7683-fa4b-45dd-9f13-b18cc4f4a187/ca_rule_based_fa_clean/faro_1880/1880-04-13_p1_sn84022135_00295869598_1880041301_0531.json\n",
      "Error loading file: mnt/122a7683-fa4b-45dd-9f13-b18cc4f4a187/ca_rule_based_fa_clean/faro_1880/1880-04-09_p1_sn84022135_00295869598_1880040901_0527.json\n",
      "Error loading file: mnt/122a7683-fa4b-45dd-9f13-b18cc4f4a187/ca_rule_based_fa_clean/faro_1880/1880-05-21_p1_sn84022135_00295869598_1880052101_0575.json\n"
     ]
    },
    {
     "name": "stderr",
     "output_type": "stream",
     "text": [
      "Generating 1880 split: 94872 examples [00:07, 12336.67 examples/s]"
     ]
    },
    {
     "name": "stdout",
     "output_type": "stream",
     "text": [
      "Error loading file: mnt/122a7683-fa4b-45dd-9f13-b18cc4f4a187/ca_rule_based_fa_clean/faro_1880/1880-05-04_p1_sn84022135_00295869598_1880050401_0555.json\n"
     ]
    },
    {
     "name": "stderr",
     "output_type": "stream",
     "text": [
      "Generating 1880 split: 99092 examples [00:08, 13312.08 examples/s]"
     ]
    },
    {
     "name": "stdout",
     "output_type": "stream",
     "text": [
      "Error loading file: mnt/122a7683-fa4b-45dd-9f13-b18cc4f4a187/ca_rule_based_fa_clean/faro_1880/1880-01-30_p1_sn84022135_00295869598_1880013001_0447.json\n"
     ]
    },
    {
     "name": "stderr",
     "output_type": "stream",
     "text": [
      "Generating 1880 split: 107107 examples [00:08, 12236.05 examples/s]"
     ]
    },
    {
     "name": "stdout",
     "output_type": "stream",
     "text": [
      "Error loading file: mnt/122a7683-fa4b-45dd-9f13-b18cc4f4a187/ca_rule_based_fa_clean/faro_1880/1880-04-27_p1_sn84022135_00295869598_1880042701_0547.json\n",
      "Error loading file: mnt/122a7683-fa4b-45dd-9f13-b18cc4f4a187/ca_rule_based_fa_clean/faro_1880/1880-01-16_p1_sn84022135_00295869598_1880011601_0431.json\n"
     ]
    },
    {
     "name": "stderr",
     "output_type": "stream",
     "text": [
      "Generating 1880 split: 116142 examples [00:09, 12946.84 examples/s]"
     ]
    },
    {
     "name": "stdout",
     "output_type": "stream",
     "text": [
      "Error loading file: mnt/122a7683-fa4b-45dd-9f13-b18cc4f4a187/ca_rule_based_fa_clean/faro_1880/1880-06-04_p1_sn84022135_00295869598_1880060401_0591.json\n"
     ]
    },
    {
     "name": "stderr",
     "output_type": "stream",
     "text": [
      "Generating 1880 split: 118614 examples [00:09, 10889.24 examples/s]"
     ]
    },
    {
     "name": "stdout",
     "output_type": "stream",
     "text": [
      "Error loading file: mnt/122a7683-fa4b-45dd-9f13-b18cc4f4a187/ca_rule_based_fa_clean/faro_1880/1880-01-09_p1_sn84022135_00295869598_1880010901_0423.json\n"
     ]
    },
    {
     "name": "stderr",
     "output_type": "stream",
     "text": [
      "Generating 1880 split: 148182 examples [00:12, 11360.73 examples/s]"
     ]
    },
    {
     "name": "stdout",
     "output_type": "stream",
     "text": [
      "Error loading file: mnt/122a7683-fa4b-45dd-9f13-b18cc4f4a187/ca_rule_based_fa_clean/faro_1880/1880-01-23_p1_sn84022135_00295869598_1880012301_0439.json\n",
      "Error loading file: mnt/122a7683-fa4b-45dd-9f13-b18cc4f4a187/ca_rule_based_fa_clean/faro_1880/1880-01-27_p1_sn84022135_00295869598_1880012701_0443.json\n"
     ]
    },
    {
     "name": "stderr",
     "output_type": "stream",
     "text": [
      "Generating 1880 split: 150786 examples [00:12, 11957.84 examples/s]"
     ]
    },
    {
     "name": "stdout",
     "output_type": "stream",
     "text": [
      "Error loading file: mnt/122a7683-fa4b-45dd-9f13-b18cc4f4a187/ca_rule_based_fa_clean/faro_1880/1880-04-20_p1_sn84022135_00295869598_1880042001_0539.json\n"
     ]
    },
    {
     "name": "stderr",
     "output_type": "stream",
     "text": [
      "Generating 1880 split: 170265 examples [00:14, 11579.65 examples/s]"
     ]
    },
    {
     "name": "stdout",
     "output_type": "stream",
     "text": [
      "Error loading file: mnt/122a7683-fa4b-45dd-9f13-b18cc4f4a187/ca_rule_based_fa_clean/faro_1880/1880-01-06_p1_sn84022135_00295869598_1880010601_0419.json\n",
      "Error loading file: mnt/122a7683-fa4b-45dd-9f13-b18cc4f4a187/ca_rule_based_fa_clean/faro_1880/1880-04-06_p1_sn84022135_00295869598_1880040601_0523.json\n",
      "Error loading file: mnt/122a7683-fa4b-45dd-9f13-b18cc4f4a187/ca_rule_based_fa_clean/faro_1880/1880-03-05_p1_sn84022135_00295869598_1880030501_0487.json\n"
     ]
    },
    {
     "name": "stderr",
     "output_type": "stream",
     "text": [
      "Generating 1880 split: 176474 examples [00:14, 12363.12 examples/s]"
     ]
    },
    {
     "name": "stdout",
     "output_type": "stream",
     "text": [
      "Error loading file: mnt/122a7683-fa4b-45dd-9f13-b18cc4f4a187/ca_rule_based_fa_clean/faro_1880/1880-03-23_p1_sn84022135_00295869598_1880032301_0507.json\n"
     ]
    },
    {
     "name": "stderr",
     "output_type": "stream",
     "text": [
      "Generating 1880 split: 184097 examples [00:15, 12409.32 examples/s]"
     ]
    },
    {
     "name": "stdout",
     "output_type": "stream",
     "text": [
      "Error loading file: mnt/122a7683-fa4b-45dd-9f13-b18cc4f4a187/ca_rule_based_fa_clean/faro_1880/1880-02-17_p1_sn84022135_00295869598_1880021701_0467.json\n",
      "Error loading file: mnt/122a7683-fa4b-45dd-9f13-b18cc4f4a187/ca_rule_based_fa_clean/faro_1880/1880-05-11_p1_sn84022135_00295869598_1880051101_0563.json\n",
      "Error loading file: mnt/122a7683-fa4b-45dd-9f13-b18cc4f4a187/ca_rule_based_fa_clean/faro_1880/1880-02-20_p1_sn84022135_00295869598_1880022001_0471.json\n"
     ]
    },
    {
     "name": "stderr",
     "output_type": "stream",
     "text": [
      "Generating 1880 split: 196685 examples [00:16, 12321.53 examples/s]"
     ]
    },
    {
     "name": "stdout",
     "output_type": "stream",
     "text": [
      "Error loading file: mnt/122a7683-fa4b-45dd-9f13-b18cc4f4a187/ca_rule_based_fa_clean/faro_1880/1880-04-23_p1_sn84022135_00295869598_1880042301_0543.json\n"
     ]
    },
    {
     "name": "stderr",
     "output_type": "stream",
     "text": [
      "Generating 1880 split: 202905 examples [00:16, 11787.90 examples/s]"
     ]
    },
    {
     "name": "stdout",
     "output_type": "stream",
     "text": [
      "Error loading file: mnt/122a7683-fa4b-45dd-9f13-b18cc4f4a187/ca_rule_based_fa_clean/faro_1880/1880-04-02_p1_sn84022135_00295869598_1880040201_0519.json\n"
     ]
    },
    {
     "name": "stderr",
     "output_type": "stream",
     "text": [
      "Generating 1880 split: 206571 examples [00:17, 11436.67 examples/s]"
     ]
    },
    {
     "name": "stdout",
     "output_type": "stream",
     "text": [
      "Error loading file: mnt/122a7683-fa4b-45dd-9f13-b18cc4f4a187/ca_rule_based_fa_clean/faro_1880/1880-02-27_p1_sn84022135_00295869598_1880022701_0479.json\n"
     ]
    },
    {
     "name": "stderr",
     "output_type": "stream",
     "text": [
      "Generating 1880 split: 221183 examples [00:18, 12029.54 examples/s]"
     ]
    },
    {
     "name": "stdout",
     "output_type": "stream",
     "text": [
      "Error loading file: mnt/122a7683-fa4b-45dd-9f13-b18cc4f4a187/ca_rule_based_fa_clean/faro_1880/1880-01-13_p1_sn84022135_00295869598_1880011301_0427.json\n"
     ]
    },
    {
     "name": "stderr",
     "output_type": "stream",
     "text": [
      "Generating 1880 split: 225118 examples [00:18, 12319.75 examples/s]"
     ]
    },
    {
     "name": "stdout",
     "output_type": "stream",
     "text": [
      "Error loading file: mnt/122a7683-fa4b-45dd-9f13-b18cc4f4a187/ca_rule_based_fa_clean/faro_1880/1880-03-09_p1_sn84022135_00295869598_1880030901_0491.json\n"
     ]
    },
    {
     "name": "stderr",
     "output_type": "stream",
     "text": [
      "Generating 1880 split: 231357 examples [00:19, 12163.34 examples/s]"
     ]
    },
    {
     "name": "stdout",
     "output_type": "stream",
     "text": [
      "Error loading file: mnt/122a7683-fa4b-45dd-9f13-b18cc4f4a187/ca_rule_based_fa_clean/faro_1880/1880-05-14_p1_sn84022135_00295869598_1880051401_0567.json\n"
     ]
    },
    {
     "name": "stderr",
     "output_type": "stream",
     "text": [
      "Generating 1880 split: 233810 examples [00:19, 12130.52 examples/s]"
     ]
    },
    {
     "name": "stdout",
     "output_type": "stream",
     "text": [
      "Error loading file: mnt/122a7683-fa4b-45dd-9f13-b18cc4f4a187/ca_rule_based_fa_clean/faro_1880/1880-04-30_p1_sn84022135_00295869598_1880043001_0551.json\n",
      "Error loading file: mnt/122a7683-fa4b-45dd-9f13-b18cc4f4a187/ca_rule_based_fa_clean/faro_1880/1880-03-16_p1_sn84022135_00295869598_1880031601_0499.json\n"
     ]
    },
    {
     "name": "stderr",
     "output_type": "stream",
     "text": [
      "Generating 1880 split: 239226 examples [00:19, 12688.29 examples/s]"
     ]
    },
    {
     "name": "stdout",
     "output_type": "stream",
     "text": [
      "Error loading file: mnt/122a7683-fa4b-45dd-9f13-b18cc4f4a187/ca_rule_based_fa_clean/faro_1880/1880-02-13_p1_sn84022135_00295869598_1880021301_0463.json\n"
     ]
    },
    {
     "name": "stderr",
     "output_type": "stream",
     "text": [
      "Generating 1880 split: 242974 examples [00:20, 11911.86 examples/s]"
     ]
    },
    {
     "name": "stdout",
     "output_type": "stream",
     "text": [
      "Error loading file: mnt/122a7683-fa4b-45dd-9f13-b18cc4f4a187/ca_rule_based_fa_clean/faro_1880/1880-03-12_p1_sn84022135_00295869598_1880031201_0495.json\n"
     ]
    },
    {
     "name": "stderr",
     "output_type": "stream",
     "text": [
      "Generating 1880 split: 263992 examples [00:22, 11208.42 examples/s]"
     ]
    },
    {
     "name": "stdout",
     "output_type": "stream",
     "text": [
      "Error loading file: mnt/122a7683-fa4b-45dd-9f13-b18cc4f4a187/ca_rule_based_fa_clean/faro_1880/1880-04-16_p1_sn84022135_00295869598_1880041601_0535.json\n",
      "Error loading file: mnt/122a7683-fa4b-45dd-9f13-b18cc4f4a187/ca_rule_based_fa_clean/faro_1880/1880-05-18_p1_sn84022135_00295869598_1880051801_0571.json\n",
      "Error loading file: mnt/122a7683-fa4b-45dd-9f13-b18cc4f4a187/ca_rule_based_fa_clean/faro_1880/1880-06-01_p1_sn84022135_00295869598_1880060101_0587.json\n"
     ]
    },
    {
     "name": "stderr",
     "output_type": "stream",
     "text": [
      "Generating 1880 split: 267632 examples [00:22, 11593.18 examples/s]"
     ]
    },
    {
     "name": "stdout",
     "output_type": "stream",
     "text": [
      "Error loading file: mnt/122a7683-fa4b-45dd-9f13-b18cc4f4a187/ca_rule_based_fa_clean/faro_1880/1880-02-06_p1_sn84022135_00295869598_1880020601_0455.json\n"
     ]
    },
    {
     "name": "stderr",
     "output_type": "stream",
     "text": [
      "Generating 1881 split: 1114 examples [00:00, 10842.30 examples/s]  "
     ]
    },
    {
     "name": "stdout",
     "output_type": "stream",
     "text": [
      "Loading associated\n"
     ]
    },
    {
     "name": "stderr",
     "output_type": "stream",
     "text": [
      "Generating 1882 split: 1245 examples [00:00, 9488.98 examples/s]   "
     ]
    },
    {
     "name": "stdout",
     "output_type": "stream",
     "text": [
      "Loading associated\n"
     ]
    },
    {
     "name": "stderr",
     "output_type": "stream",
     "text": [
      "Generating 1883 split: 1489 examples [00:00, 14875.26 examples/s]  "
     ]
    },
    {
     "name": "stdout",
     "output_type": "stream",
     "text": [
      "Loading associated\n"
     ]
    },
    {
     "name": "stderr",
     "output_type": "stream",
     "text": [
      "Generating 1884 split: 1278 examples [00:00, 12523.91 examples/s]  "
     ]
    },
    {
     "name": "stdout",
     "output_type": "stream",
     "text": [
      "Loading associated\n"
     ]
    },
    {
     "name": "stderr",
     "output_type": "stream",
     "text": [
      "Generating 1885 split: 1431 examples [00:00, 14278.46 examples/s]  "
     ]
    },
    {
     "name": "stdout",
     "output_type": "stream",
     "text": [
      "Loading associated\n"
     ]
    },
    {
     "name": "stderr",
     "output_type": "stream",
     "text": [
      "Generating 1886 split: 3173 examples [00:00, 16027.05 examples/s]  "
     ]
    },
    {
     "name": "stdout",
     "output_type": "stream",
     "text": [
      "Loading associated\n"
     ]
    },
    {
     "name": "stderr",
     "output_type": "stream",
     "text": [
      "Generating 1887 split: 1544 examples [00:00, 15375.57 examples/s]  "
     ]
    },
    {
     "name": "stdout",
     "output_type": "stream",
     "text": [
      "Loading associated\n"
     ]
    },
    {
     "name": "stderr",
     "output_type": "stream",
     "text": [
      "Generating 1888 split: 1732 examples [00:00, 17270.44 examples/s]  "
     ]
    },
    {
     "name": "stdout",
     "output_type": "stream",
     "text": [
      "Loading associated\n"
     ]
    },
    {
     "name": "stderr",
     "output_type": "stream",
     "text": [
      "Generating 1889 split: 1382 examples [00:00, 13702.96 examples/s]  "
     ]
    },
    {
     "name": "stdout",
     "output_type": "stream",
     "text": [
      "Loading associated\n"
     ]
    },
    {
     "name": "stderr",
     "output_type": "stream",
     "text": [
      "Generating 1890 split: 1553 examples [00:00, 15323.60 examples/s]  "
     ]
    },
    {
     "name": "stdout",
     "output_type": "stream",
     "text": [
      "Loading associated\n"
     ]
    },
    {
     "name": "stderr",
     "output_type": "stream",
     "text": [
      "Generating 1891 split: 1665 examples [00:00, 16404.63 examples/s]  "
     ]
    },
    {
     "name": "stdout",
     "output_type": "stream",
     "text": [
      "Loading associated\n"
     ]
    },
    {
     "name": "stderr",
     "output_type": "stream",
     "text": [
      "Generating 1892 split: 1597 examples [00:00, 15939.73 examples/s]  "
     ]
    },
    {
     "name": "stdout",
     "output_type": "stream",
     "text": [
      "Loading associated\n"
     ]
    },
    {
     "name": "stderr",
     "output_type": "stream",
     "text": [
      "Generating 1893 split: 1668 examples [00:00, 16676.99 examples/s]  "
     ]
    },
    {
     "name": "stdout",
     "output_type": "stream",
     "text": [
      "Loading associated\n"
     ]
    },
    {
     "name": "stderr",
     "output_type": "stream",
     "text": [
      "Generating 1894 split: 1766 examples [00:00, 17657.70 examples/s]  "
     ]
    },
    {
     "name": "stdout",
     "output_type": "stream",
     "text": [
      "Loading associated\n"
     ]
    },
    {
     "name": "stderr",
     "output_type": "stream",
     "text": [
      "Generating 1895 split: 1793 examples [00:00, 17927.32 examples/s]  "
     ]
    },
    {
     "name": "stdout",
     "output_type": "stream",
     "text": [
      "Loading associated\n"
     ]
    },
    {
     "name": "stderr",
     "output_type": "stream",
     "text": [
      "Generating 1896 split: 3823 examples [00:00, 19229.11 examples/s]  "
     ]
    },
    {
     "name": "stdout",
     "output_type": "stream",
     "text": [
      "Loading associated\n"
     ]
    },
    {
     "name": "stderr",
     "output_type": "stream",
     "text": [
      "Generating 1897 split: 1856 examples [00:00, 18403.59 examples/s]   "
     ]
    },
    {
     "name": "stdout",
     "output_type": "stream",
     "text": [
      "Loading associated\n"
     ]
    },
    {
     "name": "stderr",
     "output_type": "stream",
     "text": [
      "Generating 1898 split: 4009 examples [00:00, 20038.72 examples/s]   "
     ]
    },
    {
     "name": "stdout",
     "output_type": "stream",
     "text": [
      "Loading associated\n"
     ]
    },
    {
     "name": "stderr",
     "output_type": "stream",
     "text": [
      "Generating 1899 split: 2029 examples [00:00, 20286.39 examples/s]   "
     ]
    },
    {
     "name": "stdout",
     "output_type": "stream",
     "text": [
      "Loading associated\n"
     ]
    },
    {
     "name": "stderr",
     "output_type": "stream",
     "text": [
      "Generating 1900 split: 1704 examples [00:00, 16729.31 examples/s]   "
     ]
    },
    {
     "name": "stdout",
     "output_type": "stream",
     "text": [
      "Loading associated\n"
     ]
    },
    {
     "name": "stderr",
     "output_type": "stream",
     "text": [
      "Generating 1901 split: 3934 examples [00:00, 19716.80 examples/s]   "
     ]
    },
    {
     "name": "stdout",
     "output_type": "stream",
     "text": [
      "Loading associated\n"
     ]
    },
    {
     "name": "stderr",
     "output_type": "stream",
     "text": [
      "Generating 1902 split: 2026 examples [00:00, 20259.15 examples/s]   "
     ]
    },
    {
     "name": "stdout",
     "output_type": "stream",
     "text": [
      "Loading associated\n"
     ]
    },
    {
     "name": "stderr",
     "output_type": "stream",
     "text": [
      "Generating 1903 split: 1883 examples [00:00, 18828.31 examples/s]   "
     ]
    },
    {
     "name": "stdout",
     "output_type": "stream",
     "text": [
      "Loading associated\n"
     ]
    },
    {
     "name": "stderr",
     "output_type": "stream",
     "text": [
      "Generating 1904 split: 2040 examples [00:00, 20269.63 examples/s]   "
     ]
    },
    {
     "name": "stdout",
     "output_type": "stream",
     "text": [
      "Loading associated\n"
     ]
    },
    {
     "name": "stderr",
     "output_type": "stream",
     "text": [
      "Generating 1904 split: 14454 examples [00:00, 20591.80 examples/s]"
     ]
    },
    {
     "name": "stdout",
     "output_type": "stream",
     "text": [
      "Error loading file: mnt/122a7683-fa4b-45dd-9f13-b18cc4f4a187/ca_rule_based_fa_clean/faro_1904/1904-07-23_p1_sn86091092_00295869367_1904072301_0888.json\n"
     ]
    },
    {
     "name": "stderr",
     "output_type": "stream",
     "text": [
      "Generating 1904 split: 587177 examples [00:30, 20838.00 examples/s]"
     ]
    },
    {
     "name": "stdout",
     "output_type": "stream",
     "text": [
      "Error loading file: mnt/122a7683-fa4b-45dd-9f13-b18cc4f4a187/ca_rule_based_fa_clean/faro_1904/1904-10-29_p1_sn86091092_00295869367_1904102901_1002.json\n"
     ]
    },
    {
     "name": "stderr",
     "output_type": "stream",
     "text": [
      "Generating 1905 split: 4063 examples [00:00, 20338.92 examples/s]   "
     ]
    },
    {
     "name": "stdout",
     "output_type": "stream",
     "text": [
      "Loading associated\n"
     ]
    },
    {
     "name": "stderr",
     "output_type": "stream",
     "text": [
      "Generating 1905 split: 54714 examples [00:02, 20555.50 examples/s]"
     ]
    },
    {
     "name": "stdout",
     "output_type": "stream",
     "text": [
      "Error loading file: mnt/122a7683-fa4b-45dd-9f13-b18cc4f4a187/ca_rule_based_fa_clean/faro_1905/1905-04-22_p1_sn86091092_00295869367_1905042201_1214.json\n"
     ]
    },
    {
     "name": "stderr",
     "output_type": "stream",
     "text": [
      "Generating 1905 split: 244499 examples [00:12, 20315.80 examples/s]"
     ]
    },
    {
     "name": "stdout",
     "output_type": "stream",
     "text": [
      "Error loading file: mnt/122a7683-fa4b-45dd-9f13-b18cc4f4a187/ca_rule_based_fa_clean/faro_1905/1905-01-21_p1_sn86091092_00295869367_1905012101_1106.json\n"
     ]
    },
    {
     "name": "stderr",
     "output_type": "stream",
     "text": [
      "Generating 1905 split: 267683 examples [00:13, 20360.80 examples/s]"
     ]
    },
    {
     "name": "stdout",
     "output_type": "stream",
     "text": [
      "Error loading file: mnt/122a7683-fa4b-45dd-9f13-b18cc4f4a187/ca_rule_based_fa_clean/faro_1905/1905-06-17_p1_sn86091092_00295869367_1905061701_1282.json\n"
     ]
    },
    {
     "name": "stderr",
     "output_type": "stream",
     "text": [
      "Generating 1905 split: 974496 examples [00:48, 20381.93 examples/s]"
     ]
    },
    {
     "name": "stdout",
     "output_type": "stream",
     "text": [
      "Error loading file: mnt/122a7683-fa4b-45dd-9f13-b18cc4f4a187/ca_rule_based_fa_clean/faro_1905/1905-01-14_p1_sn86091092_00295869367_1905011401_1098.json\n"
     ]
    },
    {
     "name": "stderr",
     "output_type": "stream",
     "text": [
      "Generating 1905 split: 1130074 examples [00:56, 19743.33 examples/s]"
     ]
    },
    {
     "name": "stdout",
     "output_type": "stream",
     "text": [
      "Error loading file: mnt/122a7683-fa4b-45dd-9f13-b18cc4f4a187/ca_rule_based_fa_clean/faro_1905/1905-02-11_p1_sn86091092_00295869367_1905021101_1130.json\n"
     ]
    },
    {
     "name": "stderr",
     "output_type": "stream",
     "text": [
      "Generating 1906 split: 2124 examples [00:00, 21238.10 examples/s]   "
     ]
    },
    {
     "name": "stdout",
     "output_type": "stream",
     "text": [
      "Loading associated\n"
     ]
    },
    {
     "name": "stderr",
     "output_type": "stream",
     "text": [
      "Generating 1907 split: 2163 examples [00:00, 21548.28 examples/s]   "
     ]
    },
    {
     "name": "stdout",
     "output_type": "stream",
     "text": [
      "Loading associated\n"
     ]
    },
    {
     "name": "stderr",
     "output_type": "stream",
     "text": [
      "Generating 1908 split: 2064 examples [00:00, 20509.36 examples/s]   "
     ]
    },
    {
     "name": "stdout",
     "output_type": "stream",
     "text": [
      "Loading associated\n"
     ]
    },
    {
     "name": "stderr",
     "output_type": "stream",
     "text": [
      "Generating 1909 split: 4086 examples [00:00, 20409.46 examples/s]   "
     ]
    },
    {
     "name": "stdout",
     "output_type": "stream",
     "text": [
      "Loading associated\n"
     ]
    },
    {
     "name": "stderr",
     "output_type": "stream",
     "text": [
      "Generating 1910 split: 2023 examples [00:00, 20133.34 examples/s]   "
     ]
    },
    {
     "name": "stdout",
     "output_type": "stream",
     "text": [
      "Loading associated\n"
     ]
    },
    {
     "name": "stderr",
     "output_type": "stream",
     "text": [
      "Generating 1911 split: 1819 examples [00:00, 18189.06 examples/s]   "
     ]
    },
    {
     "name": "stdout",
     "output_type": "stream",
     "text": [
      "Loading associated\n"
     ]
    },
    {
     "name": "stderr",
     "output_type": "stream",
     "text": [
      "Generating 1912 split: 3821 examples [00:00, 19273.88 examples/s]   "
     ]
    },
    {
     "name": "stdout",
     "output_type": "stream",
     "text": [
      "Loading associated\n"
     ]
    },
    {
     "name": "stderr",
     "output_type": "stream",
     "text": [
      "Generating 1912 split: 230616 examples [00:11, 19552.19 examples/s]"
     ]
    },
    {
     "name": "stdout",
     "output_type": "stream",
     "text": [
      "Error loading file: mnt/122a7683-fa4b-45dd-9f13-b18cc4f4a187/ca_rule_based_fa_clean/faro_1912/1912-12-09_p1_sn86092557_00415660285_1912120901_0729.json\n"
     ]
    },
    {
     "name": "stderr",
     "output_type": "stream",
     "text": [
      "Generating 1912 split: 789969 examples [00:40, 19788.80 examples/s]"
     ]
    },
    {
     "name": "stdout",
     "output_type": "stream",
     "text": [
      "Error loading file: mnt/122a7683-fa4b-45dd-9f13-b18cc4f4a187/ca_rule_based_fa_clean/faro_1912/1912-12-26_p1_sn86092557_00415660285_1912122601_0857.json\n"
     ]
    },
    {
     "name": "stderr",
     "output_type": "stream",
     "text": [
      "Generating 1912 split: 1264467 examples [01:05, 19663.45 examples/s]"
     ]
    },
    {
     "name": "stdout",
     "output_type": "stream",
     "text": [
      "Error loading file: mnt/122a7683-fa4b-45dd-9f13-b18cc4f4a187/ca_rule_based_fa_clean/faro_1912/1912-12-10_p1_sn86092557_00415660285_1912121001_0737.json\n"
     ]
    },
    {
     "name": "stderr",
     "output_type": "stream",
     "text": [
      "Generating 1912 split: 1340027 examples [01:09, 18642.90 examples/s]"
     ]
    },
    {
     "name": "stdout",
     "output_type": "stream",
     "text": [
      "Error loading file: mnt/122a7683-fa4b-45dd-9f13-b18cc4f4a187/ca_rule_based_fa_clean/faro_1912/1912-12-28_p1_sn86092557_00415660285_1912122801_0863.json\n"
     ]
    },
    {
     "name": "stderr",
     "output_type": "stream",
     "text": [
      "Generating 1912 split: 1742840 examples [01:29, 19555.70 examples/s]"
     ]
    },
    {
     "name": "stdout",
     "output_type": "stream",
     "text": [
      "Error loading file: mnt/122a7683-fa4b-45dd-9f13-b18cc4f4a187/ca_rule_based_fa_clean/faro_1912/1912-12-21_p1_sn86092557_00415660285_1912122101_0832.json\n"
     ]
    },
    {
     "name": "stderr",
     "output_type": "stream",
     "text": [
      "Generating 1913 split: 3962 examples [00:00, 19852.37 examples/s]   "
     ]
    },
    {
     "name": "stdout",
     "output_type": "stream",
     "text": [
      "Loading associated\n"
     ]
    },
    {
     "name": "stderr",
     "output_type": "stream",
     "text": [
      "Generating 1913 split: 799581 examples [00:41, 19320.31 examples/s]"
     ]
    },
    {
     "name": "stdout",
     "output_type": "stream",
     "text": [
      "Error loading file: mnt/122a7683-fa4b-45dd-9f13-b18cc4f4a187/ca_rule_based_fa_clean/faro_1913/1913-01-03_p1_sn86092557_00415660297_1913010301_0019.json\n"
     ]
    },
    {
     "name": "stderr",
     "output_type": "stream",
     "text": [
      "Generating 1914 split: 2194 examples [00:00, 21939.55 examples/s]   "
     ]
    },
    {
     "name": "stdout",
     "output_type": "stream",
     "text": [
      "Loading associated\n"
     ]
    },
    {
     "name": "stderr",
     "output_type": "stream",
     "text": [
      "                                                                    \r"
     ]
    },
    {
     "name": "stdout",
     "output_type": "stream",
     "text": [
      "Dataset american_stories downloaded and prepared to /Users/mstudio/.cache/huggingface/datasets/dell-research-harvard___american_stories/subset_years-111bd3a2c766c1d1/0.1.0/75a916c5166c4f1fe51a57e0f5074cc72e19157c2bb064a2dc3e6362e19892fb. Subsequent calls will reuse this data.\n"
     ]
    },
    {
     "name": "stderr",
     "output_type": "stream",
     "text": [
      "100%|██████████| 42/42 [00:00<00:00, 52.35it/s] \n"
     ]
    }
   ],
   "source": [
    "#  Download data for the year 1809 at the associated article level (Default)\n",
    "dataset = load_dataset(\"dell-research-harvard/AmericanStories\",\n",
    "    # \"all_years\"\n",
    "    \"subset_years\",\n",
    "    year_list=[\"1872\", \"1873\", \"1874\", \"1875\", \"1876\", \"1877\",\n",
    "               \"1879\", \"1880\", \"1881\", \"1882\", \"1883\", \"1884\", \n",
    "               \"1885\", \"1886\", \"1887\", \"1888\", \"1889\", \"1890\",\n",
    "               \"1891\", \"1892\", \"1893\", \"1894\", \"1895\", \"1896\",\n",
    "               \"1897\", \"1898\", \"1899\", \"1900\", \"1901\", \"1902\",\n",
    "               \"1903\", \"1904\", \"1905\", \"1906\", \"1907\", \"1908\",\n",
    "               \"1909\", \"1910\", \"1911\", \"1912\", \"1913\", \"1914\"]\n",
    "    #Only ['1774', '1798', '1799', '1800', '1801', '1802', '1803', '1804', '1805', '1806', '1807', '1808', '1809', '1810', '1811', '1812', '1813', '1814', '1815', '1816', '1817', '1818', '1819', '1820', '1821', '1822', '1823', '1824', '1825', '1826', '1827', '1828', '1829', '1830', '1831', '1832', '1833', '1834', '1835', '1836', '1837', '1838', '1839', '1840', '1841', '1842', '1843', '1844', '1845', '1846', '1847', '1848', '1849', '1850', '1851', '1852', '1853', '1854', '1855', '1856', '1857', '1858', '1859', '1860', '1861', '1862', '1863', '1864', '1865', '1866', '1867', '1868', '1869', '1870', '1871', '1872', '1873', '1874', '1875', '1876', '1877', '1878', '1879', '1880', '1881', '1882', '1883', '1884', '1885', '1886', '1887', '1888', '1889', '1890', '1891', '1892', '1893', '1894', '1895', '1896', '1897', '1898', '1899', '1900', '1901', '1902', '1903', '1904', '1905', '1906', '1907', '1908', '1909', '1910', '1911', '1912', '1913', '1914', '1915', '1916', '1917', '1918', '1919', '1920', '1921', '1922', '1923', '1924', '1925', '1926', '1927', '1928', '1929', '1930', '1931', '1932', '1933', '1934', '1935', '1936', '1937', '1938', '1939', '1940', '1941', '1942', '1943', '1944', '1945', '1946', '1947', '1948', '1949', '1950', '1951', '1952', '1953', '1954', '1955', '1956', '1957', '1958', '1959', '1960', '1961', '1962', '1963'] are supported. Please provide a valid year_list\n",
    ")"
   ]
  },
  {
   "cell_type": "code",
   "execution_count": 5,
   "metadata": {},
   "outputs": [],
   "source": [
    "year_list=[\"1872\", \"1873\", \"1874\", \"1875\", \"1876\", \"1877\",\n",
    "               \"1879\", \"1880\", \"1881\", \"1882\", \"1883\", \"1884\", \n",
    "               \"1885\", \"1886\", \"1887\", \"1888\", \"1889\", \"1890\",\n",
    "               \"1891\", \"1892\", \"1893\", \"1894\", \"1895\", \"1896\",\n",
    "               \"1897\", \"1898\", \"1899\", \"1900\", \"1901\", \"1902\",\n",
    "               \"1903\", \"1904\", \"1905\", \"1906\", \"1907\", \"1908\",\n",
    "               \"1909\", \"1910\", \"1911\", \"1912\", \"1913\", \"1914\"]"
   ]
  },
  {
   "cell_type": "code",
   "execution_count": 7,
   "metadata": {},
   "outputs": [
    {
     "name": "stderr",
     "output_type": "stream",
     "text": [
      "100%|██████████| 194784/194784 [04:05<00:00, 792.77it/s] \n",
      " 69%|██████▉   | 167142/241902 [03:40<01:37, 770.18it/s] "
     ]
    }
   ],
   "source": [
    "kkk_between={}\n",
    "search_term_1=['klan']\n",
    "search_term_2=['knight', 'rider']\n",
    "for i in year_list:\n",
    "    for data in tqdm(dataset[i]):\n",
    "        date_object=datetime.strptime(data['date'], '%Y-%m-%d').date()\n",
    "        if date_object>=datetime.strptime(i+'-01-01', '%Y-%m-%d').date():\n",
    "            overlap=set(search_term_1).intersection(set(word_tokenize(data['article'].lower())))\n",
    "            if len(overlap)==1:\n",
    "                kkk_between[data['article_id']]={'headline':data['headline'], 'newspaper_name':data['newspaper_name'], 'date':data['date'], 'article':data['article']}\n",
    "            overlap2=set(search_term_2).intersection(set(word_tokenize(data['article'].lower())))\n",
    "            if len(overlap)==2:\n",
    "                kkk_between[data['article_id']]={'headline':data['headline'], 'newspaper_name':data['newspaper_name'], 'date':data['date'], 'article':data['article']}"
   ]
  },
  {
   "cell_type": "code",
   "execution_count": 57,
   "metadata": {},
   "outputs": [],
   "source": [
    "pd.DataFrame.from_dict(kkk_between).T.reset_index().to_csv('/Volumes/T7/chroniclingamerica/american-stories/kkk-between.csv', index=False)"
   ]
  }
 ],
 "metadata": {
  "kernelspec": {
   "display_name": "py3.11",
   "language": "python",
   "name": "python3"
  },
  "language_info": {
   "codemirror_mode": {
    "name": "ipython",
    "version": 3
   },
   "file_extension": ".py",
   "mimetype": "text/x-python",
   "name": "python",
   "nbconvert_exporter": "python",
   "pygments_lexer": "ipython3",
   "version": "3.10.9"
  },
  "orig_nbformat": 4
 },
 "nbformat": 4,
 "nbformat_minor": 2
}
