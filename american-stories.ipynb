{
 "cells": [
  {
   "cell_type": "code",
   "execution_count": 1,
   "metadata": {},
   "outputs": [
    {
     "name": "stderr",
     "output_type": "stream",
     "text": [
      "/Users/mstudio/miniconda3/envs/py3.10/lib/python3.10/site-packages/tqdm/auto.py:22: TqdmWarning: IProgress not found. Please update jupyter and ipywidgets. See https://ipywidgets.readthedocs.io/en/stable/user_install.html\n",
      "  from .autonotebook import tqdm as notebook_tqdm\n"
     ]
    }
   ],
   "source": [
    "from datasets import load_dataset\n",
    "from tqdm import tqdm\n",
    "from nltk.tokenize import word_tokenize\n",
    "from datetime import datetime\n",
    "import pandas as pd"
   ]
  },
  {
   "cell_type": "code",
   "execution_count": 2,
   "metadata": {},
   "outputs": [],
   "source": [
    "year_list= [\"1915\", \"1916\", \"1917\", \"1918\", \"1919\",\n",
    "            \"1920\", \"1921\", \"1922\", \"1923\", \"1924\",\n",
    "            \"1925\", \"1926\", \"1927\", \"1928\", \"1929\",\n",
    "            \"1930\", \"1931\", \"1932\", \"1933\", \"1934\",\n",
    "            \"1935\", \"1936\", \"1937\", \"1938\", \"1939\"]"
   ]
  },
  {
   "cell_type": "code",
   "execution_count": 3,
   "metadata": {},
   "outputs": [
    {
     "name": "stderr",
     "output_type": "stream",
     "text": [
      "Using custom data configuration subset_years-298392ffa3f0a90f\n"
     ]
    },
    {
     "name": "stdout",
     "output_type": "stream",
     "text": [
      "Downloading and preparing dataset american_stories/subset_years to /Users/mstudio/.cache/huggingface/datasets/dell-research-harvard___american_stories/subset_years-298392ffa3f0a90f/0.1.0/75a916c5166c4f1fe51a57e0f5074cc72e19157c2bb064a2dc3e6362e19892fb...\n",
      "Only taking a subset of years. Change name to 'all_years' to use all years in the dataset.\n",
      "{'1915': 'https://huggingface.co/datasets/dell-research-harvard/AmericanStories/resolve/main/faro_1915.tar.gz', '1916': 'https://huggingface.co/datasets/dell-research-harvard/AmericanStories/resolve/main/faro_1916.tar.gz', '1917': 'https://huggingface.co/datasets/dell-research-harvard/AmericanStories/resolve/main/faro_1917.tar.gz', '1918': 'https://huggingface.co/datasets/dell-research-harvard/AmericanStories/resolve/main/faro_1918.tar.gz', '1919': 'https://huggingface.co/datasets/dell-research-harvard/AmericanStories/resolve/main/faro_1919.tar.gz', '1920': 'https://huggingface.co/datasets/dell-research-harvard/AmericanStories/resolve/main/faro_1920.tar.gz', '1921': 'https://huggingface.co/datasets/dell-research-harvard/AmericanStories/resolve/main/faro_1921.tar.gz', '1922': 'https://huggingface.co/datasets/dell-research-harvard/AmericanStories/resolve/main/faro_1922.tar.gz', '1923': 'https://huggingface.co/datasets/dell-research-harvard/AmericanStories/resolve/main/faro_1923.tar.gz', '1924': 'https://huggingface.co/datasets/dell-research-harvard/AmericanStories/resolve/main/faro_1924.tar.gz', '1925': 'https://huggingface.co/datasets/dell-research-harvard/AmericanStories/resolve/main/faro_1925.tar.gz', '1926': 'https://huggingface.co/datasets/dell-research-harvard/AmericanStories/resolve/main/faro_1926.tar.gz', '1927': 'https://huggingface.co/datasets/dell-research-harvard/AmericanStories/resolve/main/faro_1927.tar.gz', '1928': 'https://huggingface.co/datasets/dell-research-harvard/AmericanStories/resolve/main/faro_1928.tar.gz', '1929': 'https://huggingface.co/datasets/dell-research-harvard/AmericanStories/resolve/main/faro_1929.tar.gz', '1930': 'https://huggingface.co/datasets/dell-research-harvard/AmericanStories/resolve/main/faro_1930.tar.gz', '1931': 'https://huggingface.co/datasets/dell-research-harvard/AmericanStories/resolve/main/faro_1931.tar.gz', '1932': 'https://huggingface.co/datasets/dell-research-harvard/AmericanStories/resolve/main/faro_1932.tar.gz', '1933': 'https://huggingface.co/datasets/dell-research-harvard/AmericanStories/resolve/main/faro_1933.tar.gz', '1934': 'https://huggingface.co/datasets/dell-research-harvard/AmericanStories/resolve/main/faro_1934.tar.gz', '1935': 'https://huggingface.co/datasets/dell-research-harvard/AmericanStories/resolve/main/faro_1935.tar.gz', '1936': 'https://huggingface.co/datasets/dell-research-harvard/AmericanStories/resolve/main/faro_1936.tar.gz', '1937': 'https://huggingface.co/datasets/dell-research-harvard/AmericanStories/resolve/main/faro_1937.tar.gz', '1938': 'https://huggingface.co/datasets/dell-research-harvard/AmericanStories/resolve/main/faro_1938.tar.gz', '1939': 'https://huggingface.co/datasets/dell-research-harvard/AmericanStories/resolve/main/faro_1939.tar.gz'}\n"
     ]
    },
    {
     "name": "stderr",
     "output_type": "stream",
     "text": [
      "\n",
      "\n",
      "\n",
      "\n",
      "\n",
      "\n",
      "\n",
      "\n",
      "\n",
      "Downloading data files #9:   0%|          | 0/1 [00:00<?, ?obj/s]\u001b[A\u001b[A\u001b[A\u001b[A\u001b[A\u001b[A\u001b[A\u001b[A\u001b[A\n",
      "Downloading data files #9: 100%|██████████| 1/1 [00:00<00:00, 1176.52obj/s]\n",
      "Downloading data files #1: 100%|██████████| 2/2 [00:00<00:00, 1592.37obj/s]\n",
      "\n",
      "\n",
      "\n",
      "Downloading data files #3: 100%|██████████| 2/2 [00:00<00:00, 2396.06obj/s]\n",
      "\n",
      "\n",
      "\n",
      "\n",
      "\n",
      "\n",
      "\n",
      "\n",
      "\n",
      "\n",
      "Downloading data files #10: 100%|██████████| 1/1 [00:00<00:00, 1828.38obj/s][A\u001b[A\u001b[A\u001b[A\u001b[A\u001b[A\u001b[A\n",
      "\n",
      "\n",
      "\n",
      "\n",
      "\n",
      "\n",
      "\n",
      "Downloading data files #7: 100%|██████████| 2/2 [00:00<00:00, 2098.20obj/s][A\u001b[A\u001b[A\u001b[A\n",
      "Downloading data files #0: 100%|██████████| 2/2 [00:00<00:00, 2255.00obj/s]\n",
      "\n",
      "\n",
      "\n",
      "\n",
      "\n",
      "\n",
      "\n",
      "\n",
      "\n",
      "\n",
      "\n",
      "Downloading data files #11: 100%|██████████| 1/1 [00:00<00:00, 2597.09obj/s][A\u001b[A\u001b[A\u001b[A\u001b[A\u001b[A\u001b[A\u001b[A\n",
      "\n",
      "\n",
      "\n",
      "\n",
      "\n",
      "\n",
      "\n",
      "\n",
      "\n",
      "\n",
      "\n",
      "\n",
      "\n",
      "Downloading data files #13: 100%|██████████| 1/1 [00:00<00:00, 2023.30obj/s][A\u001b[A\u001b[A\u001b[A\u001b[A\u001b[A\u001b[A\u001b[A\u001b[A\u001b[A\n",
      "\n",
      "\n",
      "Downloading data files #2: 100%|██████████| 2/2 [00:00<00:00, 2472.33obj/s]\n",
      "\n",
      "\n",
      "\n",
      "\n",
      "Downloading data files #4:   0%|          | 0/2 [00:00<?, ?obj/s]\u001b[A\u001b[A\u001b[A\u001b[A\n",
      "\n",
      "\n",
      "\n",
      "\n",
      "\n",
      "\n",
      "\n",
      "\n",
      "\n",
      "\n",
      "\n",
      "\n",
      "\n",
      "Downloading data files #4: 100%|██████████| 2/2 [00:00<00:00, 2857.16obj/s]\u001b[A\u001b[A\u001b[A\u001b[A\u001b[A\u001b[A\u001b[A\u001b[A\u001b[A\u001b[A\u001b[A\n",
      "Downloading data files #14: 100%|██████████| 1/1 [00:00<00:00, 3095.43obj/s]\n",
      "\n",
      "\n",
      "\n",
      "\n",
      "\n",
      "\n",
      "\n",
      "\n",
      "\n",
      "\n",
      "\n",
      "\n",
      "Downloading data files #12:   0%|          | 0/1 [00:00<?, ?obj/s]\u001b[A\u001b[A\u001b[A\u001b[A\u001b[A\u001b[A\u001b[A\u001b[A\u001b[A\u001b[A\u001b[A\u001b[A\n",
      "\n",
      "\n",
      "\n",
      "\n",
      "\n",
      "Downloading data files #6:   0%|          | 0/2 [00:00<?, ?obj/s]\u001b[A\u001b[A\u001b[A\u001b[A\u001b[A\u001b[A\n",
      "\n",
      "\n",
      "\n",
      "\n",
      "Downloading data files #12: 100%|██████████| 1/1 [00:00<00:00, 1513.10obj/s]A\u001b[A\n",
      "Downloading data files #6: 100%|██████████| 2/2 [00:00<00:00, 2236.96obj/s]\n",
      "Downloading data files #5: 100%|██████████| 2/2 [00:00<00:00, 2937.19obj/s]\n",
      "\n",
      "\n",
      "\n",
      "\n",
      "\n",
      "\n",
      "\n",
      "\n",
      "Downloading data files #8: 100%|██████████| 2/2 [00:00<00:00, 2940.28obj/s][A\u001b[A\u001b[A\u001b[A\u001b[A\n",
      "\n",
      "\n",
      "\n",
      "\n",
      "\n",
      "\n",
      "\n",
      "\n",
      "\n",
      "\n",
      "\n",
      "\n",
      "\n",
      "\n",
      "\n",
      "Downloading data files #15: 100%|██████████| 1/1 [00:00<00:00, 2425.86obj/s][A\u001b[A\u001b[A\u001b[A\u001b[A\u001b[A\u001b[A\u001b[A\u001b[A\u001b[A\u001b[A\u001b[A\n",
      "Generating 1915 split: 1933 examples [00:00, 19280.42 examples/s]"
     ]
    },
    {
     "name": "stdout",
     "output_type": "stream",
     "text": [
      "Loading associated\n"
     ]
    },
    {
     "name": "stderr",
     "output_type": "stream",
     "text": [
      "Generating 1916 split: 1978 examples [00:00, 19510.18 examples/s]   "
     ]
    },
    {
     "name": "stdout",
     "output_type": "stream",
     "text": [
      "Loading associated\n"
     ]
    },
    {
     "name": "stderr",
     "output_type": "stream",
     "text": [
      "Generating 1917 split: 1513 examples [00:00, 14537.17 examples/s]   "
     ]
    },
    {
     "name": "stdout",
     "output_type": "stream",
     "text": [
      "Loading associated\n"
     ]
    },
    {
     "name": "stderr",
     "output_type": "stream",
     "text": [
      "Generating 1918 split: 2119 examples [00:00, 21118.22 examples/s]   "
     ]
    },
    {
     "name": "stdout",
     "output_type": "stream",
     "text": [
      "Loading associated\n"
     ]
    },
    {
     "name": "stderr",
     "output_type": "stream",
     "text": [
      "Generating 1919 split: 4360 examples [00:00, 21810.41 examples/s]   "
     ]
    },
    {
     "name": "stdout",
     "output_type": "stream",
     "text": [
      "Loading associated\n"
     ]
    },
    {
     "name": "stderr",
     "output_type": "stream",
     "text": [
      "Generating 1920 split: 4218 examples [00:00, 21144.68 examples/s]   "
     ]
    },
    {
     "name": "stdout",
     "output_type": "stream",
     "text": [
      "Loading associated\n"
     ]
    },
    {
     "name": "stderr",
     "output_type": "stream",
     "text": [
      "Generating 1921 split: 3627 examples [00:00, 18788.22 examples/s]   "
     ]
    },
    {
     "name": "stdout",
     "output_type": "stream",
     "text": [
      "Loading associated\n"
     ]
    },
    {
     "name": "stderr",
     "output_type": "stream",
     "text": [
      "Generating 1922 split: 2169 examples [00:00, 21668.99 examples/s]   "
     ]
    },
    {
     "name": "stdout",
     "output_type": "stream",
     "text": [
      "Loading associated\n"
     ]
    },
    {
     "name": "stderr",
     "output_type": "stream",
     "text": [
      "Generating 1923 split: 4835 examples [00:00, 24267.87 examples/s]   "
     ]
    },
    {
     "name": "stdout",
     "output_type": "stream",
     "text": [
      "Loading associated\n"
     ]
    },
    {
     "name": "stderr",
     "output_type": "stream",
     "text": [
      "Generating 1924 split: 2431 examples [00:00, 24144.12 examples/s]  "
     ]
    },
    {
     "name": "stdout",
     "output_type": "stream",
     "text": [
      "Loading associated\n"
     ]
    },
    {
     "name": "stderr",
     "output_type": "stream",
     "text": [
      "Generating 1925 split: 5047 examples [00:00, 25221.69 examples/s]  "
     ]
    },
    {
     "name": "stdout",
     "output_type": "stream",
     "text": [
      "Loading associated\n"
     ]
    },
    {
     "name": "stderr",
     "output_type": "stream",
     "text": [
      "Generating 1926 split: 2463 examples [00:00, 24628.32 examples/s]  "
     ]
    },
    {
     "name": "stdout",
     "output_type": "stream",
     "text": [
      "Loading associated\n"
     ]
    },
    {
     "name": "stderr",
     "output_type": "stream",
     "text": [
      "Generating 1927 split: 2310 examples [00:00, 23096.06 examples/s]  "
     ]
    },
    {
     "name": "stdout",
     "output_type": "stream",
     "text": [
      "Loading associated\n"
     ]
    },
    {
     "name": "stderr",
     "output_type": "stream",
     "text": [
      "Generating 1928 split: 2308 examples [00:00, 23056.49 examples/s]  "
     ]
    },
    {
     "name": "stdout",
     "output_type": "stream",
     "text": [
      "Loading associated\n"
     ]
    },
    {
     "name": "stderr",
     "output_type": "stream",
     "text": [
      "Generating 1929 split: 2172 examples [00:00, 21617.76 examples/s]  "
     ]
    },
    {
     "name": "stdout",
     "output_type": "stream",
     "text": [
      "Loading associated\n"
     ]
    },
    {
     "name": "stderr",
     "output_type": "stream",
     "text": [
      "Generating 1930 split: 2469 examples [00:00, 24670.03 examples/s]  "
     ]
    },
    {
     "name": "stdout",
     "output_type": "stream",
     "text": [
      "Loading associated\n"
     ]
    },
    {
     "name": "stderr",
     "output_type": "stream",
     "text": [
      "Generating 1931 split: 5134 examples [00:00, 25690.77 examples/s]  "
     ]
    },
    {
     "name": "stdout",
     "output_type": "stream",
     "text": [
      "Loading associated\n"
     ]
    },
    {
     "name": "stderr",
     "output_type": "stream",
     "text": [
      "Generating 1932 split: 4879 examples [00:00, 24340.43 examples/s]  "
     ]
    },
    {
     "name": "stdout",
     "output_type": "stream",
     "text": [
      "Loading associated\n"
     ]
    },
    {
     "name": "stderr",
     "output_type": "stream",
     "text": [
      "Generating 1933 split: 4928 examples [00:00, 24660.95 examples/s]  "
     ]
    },
    {
     "name": "stdout",
     "output_type": "stream",
     "text": [
      "Loading associated\n"
     ]
    },
    {
     "name": "stderr",
     "output_type": "stream",
     "text": [
      "Generating 1934 split: 2469 examples [00:00, 24687.08 examples/s]  "
     ]
    },
    {
     "name": "stdout",
     "output_type": "stream",
     "text": [
      "Loading associated\n"
     ]
    },
    {
     "name": "stderr",
     "output_type": "stream",
     "text": [
      "Generating 1935 split: 4928 examples [00:00, 24637.16 examples/s]  "
     ]
    },
    {
     "name": "stdout",
     "output_type": "stream",
     "text": [
      "Loading associated\n"
     ]
    },
    {
     "name": "stderr",
     "output_type": "stream",
     "text": [
      "Generating 1936 split: 2530 examples [00:00, 25295.50 examples/s]  "
     ]
    },
    {
     "name": "stdout",
     "output_type": "stream",
     "text": [
      "Loading associated\n"
     ]
    },
    {
     "name": "stderr",
     "output_type": "stream",
     "text": [
      "Generating 1937 split: 2563 examples [00:00, 25628.19 examples/s]  "
     ]
    },
    {
     "name": "stdout",
     "output_type": "stream",
     "text": [
      "Loading associated\n"
     ]
    },
    {
     "name": "stderr",
     "output_type": "stream",
     "text": [
      "Generating 1938 split: 2372 examples [00:00, 23571.27 examples/s]  "
     ]
    },
    {
     "name": "stdout",
     "output_type": "stream",
     "text": [
      "Loading associated\n"
     ]
    },
    {
     "name": "stderr",
     "output_type": "stream",
     "text": [
      "Generating 1939 split: 2491 examples [00:00, 24844.69 examples/s]  "
     ]
    },
    {
     "name": "stdout",
     "output_type": "stream",
     "text": [
      "Loading associated\n"
     ]
    },
    {
     "name": "stderr",
     "output_type": "stream",
     "text": [
      "                                                                   \r"
     ]
    },
    {
     "name": "stdout",
     "output_type": "stream",
     "text": [
      "Dataset american_stories downloaded and prepared to /Users/mstudio/.cache/huggingface/datasets/dell-research-harvard___american_stories/subset_years-298392ffa3f0a90f/0.1.0/75a916c5166c4f1fe51a57e0f5074cc72e19157c2bb064a2dc3e6362e19892fb. Subsequent calls will reuse this data.\n"
     ]
    },
    {
     "name": "stderr",
     "output_type": "stream",
     "text": [
      "100%|██████████| 25/25 [00:00<00:00, 56.66it/s]\n"
     ]
    }
   ],
   "source": [
    "#  Download data for the year 1809 at the associated article level (Default)\n",
    "dataset = load_dataset(\"dell-research-harvard/AmericanStories\",\n",
    "    # \"all_years\"\n",
    "    \"subset_years\",\n",
    "    year_list=year_list\n",
    "    #Only ['1774', '1798', '1799', '1800', '1801', '1802', '1803', '1804', '1805', '1806', '1807', '1808', '1809', '1810', '1811', '1812', '1813', '1814', '1815', '1816', '1817', '1818', '1819', '1820', '1821', '1822', '1823', '1824', '1825', '1826', '1827', '1828', '1829', '1830', '1831', '1832', '1833', '1834', '1835', '1836', '1837', '1838', '1839', '1840', '1841', '1842', '1843', '1844', '1845', '1846', '1847', '1848', '1849', '1850', '1851', '1852', '1853', '1854', '1855', '1856', '1857', '1858', '1859', '1860', '1861', '1862', '1863', '1864', '1865', '1866', '1867', '1868', '1869', '1870', '1871', '1872', '1873', '1874', '1875', '1876', '1877', '1878', '1879', '1880', '1881', '1882', '1883', '1884', '1885', '1886', '1887', '1888', '1889', '1890', '1891', '1892', '1893', '1894', '1895', '1896', '1897', '1898', '1899', '1900', '1901', '1902', '1903', '1904', '1905', '1906', '1907', '1908', '1909', '1910', '1911', '1912', '1913', '1914', '1915', '1916', '1917', '1918', '1919', '1920', '1921', '1922', '1923', '1924', '1925', '1926', '1927', '1928', '1929', '1930', '1931', '1932', '1933', '1934', '1935', '1936', '1937', '1938', '1939', '1940', '1941', '1942', '1943', '1944', '1945', '1946', '1947', '1948', '1949', '1950', '1951', '1952', '1953', '1954', '1955', '1956', '1957', '1958', '1959', '1960', '1961', '1962', '1963'] are supported. Please provide a valid year_list\n",
    ")"
   ]
  },
  {
   "cell_type": "code",
   "execution_count": 4,
   "metadata": {},
   "outputs": [
    {
     "name": "stderr",
     "output_type": "stream",
     "text": [
      "  1%|          | 12176/1878654 [00:12<28:14, 1101.69it/s]"
     ]
    }
   ],
   "source": [
    "kkk_second={}\n",
    "search_term_1=['klan']\n",
    "search_term_2=['knight', 'rider']\n",
    "for i in year_list:\n",
    "    for data in tqdm(dataset[i]):\n",
    "        date_object=datetime.strptime(data['date'], '%Y-%m-%d').date()\n",
    "        if date_object>=datetime.strptime(i+'-01-01', '%Y-%m-%d').date():\n",
    "            overlap=set(search_term_1).intersection(set(word_tokenize(data['article'].lower())))\n",
    "            if len(overlap)==1:\n",
    "                kkk_second[data['article_id']]={'headline':data['headline'], 'newspaper_name':data['newspaper_name'], 'date':data['date'], 'article':data['article']}\n",
    "            overlap2=set(search_term_2).intersection(set(word_tokenize(data['article'].lower())))\n",
    "            if len(overlap)==2:\n",
    "                kkk_second[data['article_id']]={'headline':data['headline'], 'newspaper_name':data['newspaper_name'], 'date':data['date'], 'article':data['article']}"
   ]
  },
  {
   "cell_type": "code",
   "execution_count": 8,
   "metadata": {},
   "outputs": [],
   "source": [
    "pd.DataFrame.from_dict(kkk_second).T.reset_index().to_csv('/Volumes/T7/chroniclingamerica/american-stories/kkk-second.csv', index=False)"
   ]
  }
 ],
 "metadata": {
  "kernelspec": {
   "display_name": "py3.11",
   "language": "python",
   "name": "python3"
  },
  "language_info": {
   "codemirror_mode": {
    "name": "ipython",
    "version": 3
   },
   "file_extension": ".py",
   "mimetype": "text/x-python",
   "name": "python",
   "nbconvert_exporter": "python",
   "pygments_lexer": "ipython3",
   "version": "3.10.9"
  },
  "orig_nbformat": 4
 },
 "nbformat": 4,
 "nbformat_minor": 2
}
