{
 "cells": [
  {
   "cell_type": "code",
   "execution_count": 1,
   "id": "ba4d0c0c",
   "metadata": {},
   "outputs": [],
   "source": [
    "import pandas as pd\n",
    "import stanza\n",
    "from tqdm import tqdm\n",
    "from collections import defaultdict\n",
    "import ast"
   ]
  },
  {
   "cell_type": "code",
   "execution_count": 3,
   "id": "b5131043",
   "metadata": {},
   "outputs": [],
   "source": [
    "data=pd.read_feather('/Volumes/T7/chroniclingamerica/american-stories/kkk-revival.feather')"
   ]
  },
  {
   "cell_type": "code",
   "execution_count": 4,
   "id": "e4ac5d52",
   "metadata": {},
   "outputs": [
    {
     "name": "stderr",
     "output_type": "stream",
     "text": [
      "2025-10-24 19:30:17 INFO: Checking for updates to resources.json in case models have been updated.  Note: this behavior can be turned off with download_method=None or download_method=DownloadMethod.REUSE_RESOURCES\n"
     ]
    },
    {
     "data": {
      "application/vnd.jupyter.widget-view+json": {
       "model_id": "375312533d1f4652b7ef2fce04395b4b",
       "version_major": 2,
       "version_minor": 0
      },
      "text/plain": [
       "Downloading https://raw.githubusercontent.com/stanfordnlp/stanza-resources/main/resources_1.11.0.json:   0%|  …"
      ]
     },
     "metadata": {},
     "output_type": "display_data"
    },
    {
     "name": "stderr",
     "output_type": "stream",
     "text": [
      "2025-10-24 19:30:18 INFO: Downloaded file to /Users/mstudio/stanza_resources/resources.json\n",
      "2025-10-24 19:30:18 WARNING: Language en package default expects mwt, which has been added\n",
      "2025-10-24 19:30:18 INFO: Loading these models for language: en (English):\n",
      "=========================================\n",
      "| Processor | Package                   |\n",
      "-----------------------------------------\n",
      "| tokenize  | combined                  |\n",
      "| mwt       | combined                  |\n",
      "| ner       | ontonotes-ww-multi_charlm |\n",
      "=========================================\n",
      "\n",
      "2025-10-24 19:30:18 INFO: Using device: cpu\n",
      "2025-10-24 19:30:18 INFO: Loading: tokenize\n",
      "2025-10-24 19:30:18 INFO: Loading: mwt\n",
      "2025-10-24 19:30:18 INFO: Loading: ner\n",
      "2025-10-24 19:30:22 INFO: Done loading processors!\n"
     ]
    }
   ],
   "source": [
    "nlp=stanza.Pipeline(lang='en', processors='tokenize, ner')"
   ]
  },
  {
   "cell_type": "markdown",
   "id": "f633fd8f",
   "metadata": {},
   "source": [
    "#### NER processing"
   ]
  },
  {
   "cell_type": "code",
   "execution_count": 8,
   "id": "265724f4",
   "metadata": {},
   "outputs": [
    {
     "name": "stderr",
     "output_type": "stream",
     "text": [
      "  0%|          | 79/375444 [00:53<71:04:58,  1.47it/s] \n"
     ]
    },
    {
     "ename": "KeyboardInterrupt",
     "evalue": "",
     "output_type": "error",
     "traceback": [
      "\u001b[0;31m---------------------------------------------------------------------------\u001b[0m",
      "\u001b[0;31mKeyboardInterrupt\u001b[0m                         Traceback (most recent call last)",
      "Cell \u001b[0;32mIn[8], line 3\u001b[0m\n\u001b[1;32m      1\u001b[0m \u001b[38;5;28;01mfor\u001b[39;00m idx, row \u001b[38;5;129;01min\u001b[39;00m tqdm(data\u001b[38;5;241m.\u001b[39miterrows(), total\u001b[38;5;241m=\u001b[39m\u001b[38;5;28mlen\u001b[39m(data)):\n\u001b[1;32m      2\u001b[0m     text \u001b[38;5;241m=\u001b[39m row[\u001b[38;5;124m'\u001b[39m\u001b[38;5;124marticle\u001b[39m\u001b[38;5;124m'\u001b[39m]\n\u001b[0;32m----> 3\u001b[0m     doc \u001b[38;5;241m=\u001b[39m \u001b[43mnlp\u001b[49m\u001b[43m(\u001b[49m\u001b[43mtext\u001b[49m\u001b[43m)\u001b[49m\n\u001b[1;32m      4\u001b[0m     entities \u001b[38;5;241m=\u001b[39m [(ent\u001b[38;5;241m.\u001b[39mtext, ent\u001b[38;5;241m.\u001b[39mtype) \u001b[38;5;28;01mfor\u001b[39;00m ent \u001b[38;5;129;01min\u001b[39;00m doc\u001b[38;5;241m.\u001b[39ments]\n\u001b[1;32m      5\u001b[0m     data\u001b[38;5;241m.\u001b[39mat[idx, \u001b[38;5;124m'\u001b[39m\u001b[38;5;124mentities\u001b[39m\u001b[38;5;124m'\u001b[39m] \u001b[38;5;241m=\u001b[39m \u001b[38;5;28mstr\u001b[39m(entities)\n",
      "File \u001b[0;32m~/miniforge3/envs/human-rights/lib/python3.10/site-packages/stanza/pipeline/core.py:480\u001b[0m, in \u001b[0;36mPipeline.__call__\u001b[0;34m(self, doc, processors)\u001b[0m\n\u001b[1;32m    479\u001b[0m \u001b[38;5;28;01mdef\u001b[39;00m\u001b[38;5;250m \u001b[39m\u001b[38;5;21m__call__\u001b[39m(\u001b[38;5;28mself\u001b[39m, doc, processors\u001b[38;5;241m=\u001b[39m\u001b[38;5;28;01mNone\u001b[39;00m):\n\u001b[0;32m--> 480\u001b[0m     \u001b[38;5;28;01mreturn\u001b[39;00m \u001b[38;5;28;43mself\u001b[39;49m\u001b[38;5;241;43m.\u001b[39;49m\u001b[43mprocess\u001b[49m\u001b[43m(\u001b[49m\u001b[43mdoc\u001b[49m\u001b[43m,\u001b[49m\u001b[43m \u001b[49m\u001b[43mprocessors\u001b[49m\u001b[43m)\u001b[49m\n",
      "File \u001b[0;32m~/miniforge3/envs/human-rights/lib/python3.10/site-packages/stanza/pipeline/core.py:431\u001b[0m, in \u001b[0;36mPipeline.process\u001b[0;34m(self, doc, processors)\u001b[0m\n\u001b[1;32m    429\u001b[0m     \u001b[38;5;28;01mif\u001b[39;00m \u001b[38;5;28mself\u001b[39m\u001b[38;5;241m.\u001b[39mprocessors\u001b[38;5;241m.\u001b[39mget(processor_name):\n\u001b[1;32m    430\u001b[0m         process \u001b[38;5;241m=\u001b[39m \u001b[38;5;28mself\u001b[39m\u001b[38;5;241m.\u001b[39mprocessors[processor_name]\u001b[38;5;241m.\u001b[39mbulk_process \u001b[38;5;28;01mif\u001b[39;00m bulk \u001b[38;5;28;01melse\u001b[39;00m \u001b[38;5;28mself\u001b[39m\u001b[38;5;241m.\u001b[39mprocessors[processor_name]\u001b[38;5;241m.\u001b[39mprocess\n\u001b[0;32m--> 431\u001b[0m         doc \u001b[38;5;241m=\u001b[39m \u001b[43mprocess\u001b[49m\u001b[43m(\u001b[49m\u001b[43mdoc\u001b[49m\u001b[43m)\u001b[49m\n\u001b[1;32m    432\u001b[0m \u001b[38;5;28;01mreturn\u001b[39;00m doc\n",
      "File \u001b[0;32m~/miniforge3/envs/human-rights/lib/python3.10/site-packages/stanza/pipeline/ner_processor.py:114\u001b[0m, in \u001b[0;36mNERProcessor.process\u001b[0;34m(self, document)\u001b[0m\n\u001b[1;32m    112\u001b[0m         preds \u001b[38;5;241m=\u001b[39m []\n\u001b[1;32m    113\u001b[0m         \u001b[38;5;28;01mfor\u001b[39;00m i, b \u001b[38;5;129;01min\u001b[39;00m \u001b[38;5;28menumerate\u001b[39m(batch):\n\u001b[0;32m--> 114\u001b[0m             preds \u001b[38;5;241m+\u001b[39m\u001b[38;5;241m=\u001b[39m \u001b[43mtrainer\u001b[49m\u001b[38;5;241;43m.\u001b[39;49m\u001b[43mpredict\u001b[49m\u001b[43m(\u001b[49m\u001b[43mb\u001b[49m\u001b[43m)\u001b[49m\n\u001b[1;32m    115\u001b[0m         all_preds\u001b[38;5;241m.\u001b[39mappend(preds)\n\u001b[1;32m    116\u001b[0m \u001b[38;5;66;03m# for each sentence, gather a list of predictions\u001b[39;00m\n\u001b[1;32m    117\u001b[0m \u001b[38;5;66;03m# merge those predictions into a single list\u001b[39;00m\n\u001b[1;32m    118\u001b[0m \u001b[38;5;66;03m# earlier models will have precedence\u001b[39;00m\n",
      "File \u001b[0;32m~/miniforge3/envs/human-rights/lib/python3.10/site-packages/stanza/models/ner/trainer.py:144\u001b[0m, in \u001b[0;36mTrainer.predict\u001b[0;34m(self, batch, unsort)\u001b[0m\n\u001b[1;32m    142\u001b[0m \u001b[38;5;28mself\u001b[39m\u001b[38;5;241m.\u001b[39mmodel\u001b[38;5;241m.\u001b[39meval()\n\u001b[1;32m    143\u001b[0m \u001b[38;5;66;03m#batch_size = word.size(0)\u001b[39;00m\n\u001b[0;32m--> 144\u001b[0m _, logits, trans \u001b[38;5;241m=\u001b[39m \u001b[38;5;28;43mself\u001b[39;49m\u001b[38;5;241;43m.\u001b[39;49m\u001b[43mmodel\u001b[49m\u001b[43m(\u001b[49m\u001b[43mword\u001b[49m\u001b[43m,\u001b[49m\u001b[43m \u001b[49m\u001b[43mwordchars\u001b[49m\u001b[43m,\u001b[49m\u001b[43m \u001b[49m\u001b[43mwordchars_mask\u001b[49m\u001b[43m,\u001b[49m\u001b[43m \u001b[49m\u001b[43mtags\u001b[49m\u001b[43m,\u001b[49m\u001b[43m \u001b[49m\u001b[43mword_orig_idx\u001b[49m\u001b[43m,\u001b[49m\u001b[43m \u001b[49m\u001b[43msentlens\u001b[49m\u001b[43m,\u001b[49m\u001b[43m \u001b[49m\u001b[43mwordlens\u001b[49m\u001b[43m,\u001b[49m\u001b[43m \u001b[49m\u001b[43mchars\u001b[49m\u001b[43m,\u001b[49m\u001b[43m \u001b[49m\u001b[43mcharoffsets\u001b[49m\u001b[43m,\u001b[49m\u001b[43m \u001b[49m\u001b[43mcharlens\u001b[49m\u001b[43m,\u001b[49m\u001b[43m \u001b[49m\u001b[43mchar_orig_idx\u001b[49m\u001b[43m)\u001b[49m\n\u001b[1;32m    146\u001b[0m \u001b[38;5;66;03m# decode\u001b[39;00m\n\u001b[1;32m    147\u001b[0m \u001b[38;5;66;03m# TODO: might need to decode multiple columns of output for\u001b[39;00m\n\u001b[1;32m    148\u001b[0m \u001b[38;5;66;03m# models with multiple layers\u001b[39;00m\n\u001b[1;32m    149\u001b[0m trans \u001b[38;5;241m=\u001b[39m [x\u001b[38;5;241m.\u001b[39mdata\u001b[38;5;241m.\u001b[39mcpu()\u001b[38;5;241m.\u001b[39mnumpy() \u001b[38;5;28;01mfor\u001b[39;00m x \u001b[38;5;129;01min\u001b[39;00m trans]\n",
      "File \u001b[0;32m~/miniforge3/envs/human-rights/lib/python3.10/site-packages/torch/nn/modules/module.py:1775\u001b[0m, in \u001b[0;36mModule._wrapped_call_impl\u001b[0;34m(self, *args, **kwargs)\u001b[0m\n\u001b[1;32m   1773\u001b[0m     \u001b[38;5;28;01mreturn\u001b[39;00m \u001b[38;5;28mself\u001b[39m\u001b[38;5;241m.\u001b[39m_compiled_call_impl(\u001b[38;5;241m*\u001b[39margs, \u001b[38;5;241m*\u001b[39m\u001b[38;5;241m*\u001b[39mkwargs)  \u001b[38;5;66;03m# type: ignore[misc]\u001b[39;00m\n\u001b[1;32m   1774\u001b[0m \u001b[38;5;28;01melse\u001b[39;00m:\n\u001b[0;32m-> 1775\u001b[0m     \u001b[38;5;28;01mreturn\u001b[39;00m \u001b[38;5;28;43mself\u001b[39;49m\u001b[38;5;241;43m.\u001b[39;49m\u001b[43m_call_impl\u001b[49m\u001b[43m(\u001b[49m\u001b[38;5;241;43m*\u001b[39;49m\u001b[43margs\u001b[49m\u001b[43m,\u001b[49m\u001b[43m \u001b[49m\u001b[38;5;241;43m*\u001b[39;49m\u001b[38;5;241;43m*\u001b[39;49m\u001b[43mkwargs\u001b[49m\u001b[43m)\u001b[49m\n",
      "File \u001b[0;32m~/miniforge3/envs/human-rights/lib/python3.10/site-packages/torch/nn/modules/module.py:1786\u001b[0m, in \u001b[0;36mModule._call_impl\u001b[0;34m(self, *args, **kwargs)\u001b[0m\n\u001b[1;32m   1781\u001b[0m \u001b[38;5;66;03m# If we don't have any hooks, we want to skip the rest of the logic in\u001b[39;00m\n\u001b[1;32m   1782\u001b[0m \u001b[38;5;66;03m# this function, and just call forward.\u001b[39;00m\n\u001b[1;32m   1783\u001b[0m \u001b[38;5;28;01mif\u001b[39;00m \u001b[38;5;129;01mnot\u001b[39;00m (\u001b[38;5;28mself\u001b[39m\u001b[38;5;241m.\u001b[39m_backward_hooks \u001b[38;5;129;01mor\u001b[39;00m \u001b[38;5;28mself\u001b[39m\u001b[38;5;241m.\u001b[39m_backward_pre_hooks \u001b[38;5;129;01mor\u001b[39;00m \u001b[38;5;28mself\u001b[39m\u001b[38;5;241m.\u001b[39m_forward_hooks \u001b[38;5;129;01mor\u001b[39;00m \u001b[38;5;28mself\u001b[39m\u001b[38;5;241m.\u001b[39m_forward_pre_hooks\n\u001b[1;32m   1784\u001b[0m         \u001b[38;5;129;01mor\u001b[39;00m _global_backward_pre_hooks \u001b[38;5;129;01mor\u001b[39;00m _global_backward_hooks\n\u001b[1;32m   1785\u001b[0m         \u001b[38;5;129;01mor\u001b[39;00m _global_forward_hooks \u001b[38;5;129;01mor\u001b[39;00m _global_forward_pre_hooks):\n\u001b[0;32m-> 1786\u001b[0m     \u001b[38;5;28;01mreturn\u001b[39;00m \u001b[43mforward_call\u001b[49m\u001b[43m(\u001b[49m\u001b[38;5;241;43m*\u001b[39;49m\u001b[43margs\u001b[49m\u001b[43m,\u001b[49m\u001b[43m \u001b[49m\u001b[38;5;241;43m*\u001b[39;49m\u001b[38;5;241;43m*\u001b[39;49m\u001b[43mkwargs\u001b[49m\u001b[43m)\u001b[49m\n\u001b[1;32m   1788\u001b[0m result \u001b[38;5;241m=\u001b[39m \u001b[38;5;28;01mNone\u001b[39;00m\n\u001b[1;32m   1789\u001b[0m called_always_called_hooks \u001b[38;5;241m=\u001b[39m \u001b[38;5;28mset\u001b[39m()\n",
      "File \u001b[0;32m~/miniforge3/envs/human-rights/lib/python3.10/site-packages/stanza/models/ner/model.py:244\u001b[0m, in \u001b[0;36mNERTagger.forward\u001b[0;34m(self, sentences, wordchars, wordchars_mask, tags, word_orig_idx, sentlens, wordlens, chars, charoffsets, charlens, char_orig_idx)\u001b[0m\n\u001b[1;32m    241\u001b[0m     lstm_inputs \u001b[38;5;241m=\u001b[39m \u001b[38;5;28mself\u001b[39m\u001b[38;5;241m.\u001b[39minput_transform(lstm_inputs)\n\u001b[1;32m    243\u001b[0m lstm_inputs \u001b[38;5;241m=\u001b[39m PackedSequence(lstm_inputs, inputs[\u001b[38;5;241m0\u001b[39m]\u001b[38;5;241m.\u001b[39mbatch_sizes)\n\u001b[0;32m--> 244\u001b[0m lstm_outputs, _ \u001b[38;5;241m=\u001b[39m \u001b[38;5;28;43mself\u001b[39;49m\u001b[38;5;241;43m.\u001b[39;49m\u001b[43mtaggerlstm\u001b[49m\u001b[43m(\u001b[49m\u001b[43mlstm_inputs\u001b[49m\u001b[43m,\u001b[49m\u001b[43m \u001b[49m\u001b[43msentlens\u001b[49m\u001b[43m,\u001b[49m\u001b[43m \u001b[49m\u001b[43mhx\u001b[49m\u001b[38;5;241;43m=\u001b[39;49m\u001b[43m(\u001b[49m\u001b[43m\\\u001b[49m\n\u001b[1;32m    245\u001b[0m \u001b[43m        \u001b[49m\u001b[38;5;28;43mself\u001b[39;49m\u001b[38;5;241;43m.\u001b[39;49m\u001b[43mtaggerlstm_h_init\u001b[49m\u001b[38;5;241;43m.\u001b[39;49m\u001b[43mexpand\u001b[49m\u001b[43m(\u001b[49m\u001b[38;5;241;43m2\u001b[39;49m\u001b[43m \u001b[49m\u001b[38;5;241;43m*\u001b[39;49m\u001b[43m \u001b[49m\u001b[38;5;28;43mself\u001b[39;49m\u001b[38;5;241;43m.\u001b[39;49m\u001b[43margs\u001b[49m\u001b[43m[\u001b[49m\u001b[38;5;124;43m'\u001b[39;49m\u001b[38;5;124;43mnum_layers\u001b[39;49m\u001b[38;5;124;43m'\u001b[39;49m\u001b[43m]\u001b[49m\u001b[43m,\u001b[49m\u001b[43m \u001b[49m\u001b[43mbatch_size\u001b[49m\u001b[43m,\u001b[49m\u001b[43m \u001b[49m\u001b[38;5;28;43mself\u001b[39;49m\u001b[38;5;241;43m.\u001b[39;49m\u001b[43margs\u001b[49m\u001b[43m[\u001b[49m\u001b[38;5;124;43m'\u001b[39;49m\u001b[38;5;124;43mhidden_dim\u001b[39;49m\u001b[38;5;124;43m'\u001b[39;49m\u001b[43m]\u001b[49m\u001b[43m)\u001b[49m\u001b[38;5;241;43m.\u001b[39;49m\u001b[43mcontiguous\u001b[49m\u001b[43m(\u001b[49m\u001b[43m)\u001b[49m\u001b[43m,\u001b[49m\u001b[43m \u001b[49m\u001b[43m\\\u001b[49m\n\u001b[1;32m    246\u001b[0m \u001b[43m        \u001b[49m\u001b[38;5;28;43mself\u001b[39;49m\u001b[38;5;241;43m.\u001b[39;49m\u001b[43mtaggerlstm_c_init\u001b[49m\u001b[38;5;241;43m.\u001b[39;49m\u001b[43mexpand\u001b[49m\u001b[43m(\u001b[49m\u001b[38;5;241;43m2\u001b[39;49m\u001b[43m \u001b[49m\u001b[38;5;241;43m*\u001b[39;49m\u001b[43m \u001b[49m\u001b[38;5;28;43mself\u001b[39;49m\u001b[38;5;241;43m.\u001b[39;49m\u001b[43margs\u001b[49m\u001b[43m[\u001b[49m\u001b[38;5;124;43m'\u001b[39;49m\u001b[38;5;124;43mnum_layers\u001b[39;49m\u001b[38;5;124;43m'\u001b[39;49m\u001b[43m]\u001b[49m\u001b[43m,\u001b[49m\u001b[43m \u001b[49m\u001b[43mbatch_size\u001b[49m\u001b[43m,\u001b[49m\u001b[43m \u001b[49m\u001b[38;5;28;43mself\u001b[39;49m\u001b[38;5;241;43m.\u001b[39;49m\u001b[43margs\u001b[49m\u001b[43m[\u001b[49m\u001b[38;5;124;43m'\u001b[39;49m\u001b[38;5;124;43mhidden_dim\u001b[39;49m\u001b[38;5;124;43m'\u001b[39;49m\u001b[43m]\u001b[49m\u001b[43m)\u001b[49m\u001b[38;5;241;43m.\u001b[39;49m\u001b[43mcontiguous\u001b[49m\u001b[43m(\u001b[49m\u001b[43m)\u001b[49m\u001b[43m)\u001b[49m\u001b[43m)\u001b[49m\n\u001b[1;32m    247\u001b[0m lstm_outputs \u001b[38;5;241m=\u001b[39m lstm_outputs\u001b[38;5;241m.\u001b[39mdata\n\u001b[1;32m    250\u001b[0m \u001b[38;5;66;03m# prediction layer\u001b[39;00m\n",
      "File \u001b[0;32m~/miniforge3/envs/human-rights/lib/python3.10/site-packages/torch/nn/modules/module.py:1775\u001b[0m, in \u001b[0;36mModule._wrapped_call_impl\u001b[0;34m(self, *args, **kwargs)\u001b[0m\n\u001b[1;32m   1773\u001b[0m     \u001b[38;5;28;01mreturn\u001b[39;00m \u001b[38;5;28mself\u001b[39m\u001b[38;5;241m.\u001b[39m_compiled_call_impl(\u001b[38;5;241m*\u001b[39margs, \u001b[38;5;241m*\u001b[39m\u001b[38;5;241m*\u001b[39mkwargs)  \u001b[38;5;66;03m# type: ignore[misc]\u001b[39;00m\n\u001b[1;32m   1774\u001b[0m \u001b[38;5;28;01melse\u001b[39;00m:\n\u001b[0;32m-> 1775\u001b[0m     \u001b[38;5;28;01mreturn\u001b[39;00m \u001b[38;5;28;43mself\u001b[39;49m\u001b[38;5;241;43m.\u001b[39;49m\u001b[43m_call_impl\u001b[49m\u001b[43m(\u001b[49m\u001b[38;5;241;43m*\u001b[39;49m\u001b[43margs\u001b[49m\u001b[43m,\u001b[49m\u001b[43m \u001b[49m\u001b[38;5;241;43m*\u001b[39;49m\u001b[38;5;241;43m*\u001b[39;49m\u001b[43mkwargs\u001b[49m\u001b[43m)\u001b[49m\n",
      "File \u001b[0;32m~/miniforge3/envs/human-rights/lib/python3.10/site-packages/torch/nn/modules/module.py:1786\u001b[0m, in \u001b[0;36mModule._call_impl\u001b[0;34m(self, *args, **kwargs)\u001b[0m\n\u001b[1;32m   1781\u001b[0m \u001b[38;5;66;03m# If we don't have any hooks, we want to skip the rest of the logic in\u001b[39;00m\n\u001b[1;32m   1782\u001b[0m \u001b[38;5;66;03m# this function, and just call forward.\u001b[39;00m\n\u001b[1;32m   1783\u001b[0m \u001b[38;5;28;01mif\u001b[39;00m \u001b[38;5;129;01mnot\u001b[39;00m (\u001b[38;5;28mself\u001b[39m\u001b[38;5;241m.\u001b[39m_backward_hooks \u001b[38;5;129;01mor\u001b[39;00m \u001b[38;5;28mself\u001b[39m\u001b[38;5;241m.\u001b[39m_backward_pre_hooks \u001b[38;5;129;01mor\u001b[39;00m \u001b[38;5;28mself\u001b[39m\u001b[38;5;241m.\u001b[39m_forward_hooks \u001b[38;5;129;01mor\u001b[39;00m \u001b[38;5;28mself\u001b[39m\u001b[38;5;241m.\u001b[39m_forward_pre_hooks\n\u001b[1;32m   1784\u001b[0m         \u001b[38;5;129;01mor\u001b[39;00m _global_backward_pre_hooks \u001b[38;5;129;01mor\u001b[39;00m _global_backward_hooks\n\u001b[1;32m   1785\u001b[0m         \u001b[38;5;129;01mor\u001b[39;00m _global_forward_hooks \u001b[38;5;129;01mor\u001b[39;00m _global_forward_pre_hooks):\n\u001b[0;32m-> 1786\u001b[0m     \u001b[38;5;28;01mreturn\u001b[39;00m \u001b[43mforward_call\u001b[49m\u001b[43m(\u001b[49m\u001b[38;5;241;43m*\u001b[39;49m\u001b[43margs\u001b[49m\u001b[43m,\u001b[49m\u001b[43m \u001b[49m\u001b[38;5;241;43m*\u001b[39;49m\u001b[38;5;241;43m*\u001b[39;49m\u001b[43mkwargs\u001b[49m\u001b[43m)\u001b[49m\n\u001b[1;32m   1788\u001b[0m result \u001b[38;5;241m=\u001b[39m \u001b[38;5;28;01mNone\u001b[39;00m\n\u001b[1;32m   1789\u001b[0m called_always_called_hooks \u001b[38;5;241m=\u001b[39m \u001b[38;5;28mset\u001b[39m()\n",
      "File \u001b[0;32m~/miniforge3/envs/human-rights/lib/python3.10/site-packages/stanza/models/common/packed_lstm.py:22\u001b[0m, in \u001b[0;36mPackedLSTM.forward\u001b[0;34m(self, input, lengths, hx)\u001b[0m\n\u001b[1;32m     19\u001b[0m \u001b[38;5;28;01mif\u001b[39;00m \u001b[38;5;129;01mnot\u001b[39;00m \u001b[38;5;28misinstance\u001b[39m(\u001b[38;5;28minput\u001b[39m, PackedSequence):\n\u001b[1;32m     20\u001b[0m     \u001b[38;5;28minput\u001b[39m \u001b[38;5;241m=\u001b[39m pack_padded_sequence(\u001b[38;5;28minput\u001b[39m, lengths, batch_first\u001b[38;5;241m=\u001b[39m\u001b[38;5;28mself\u001b[39m\u001b[38;5;241m.\u001b[39mbatch_first)\n\u001b[0;32m---> 22\u001b[0m res \u001b[38;5;241m=\u001b[39m \u001b[38;5;28;43mself\u001b[39;49m\u001b[38;5;241;43m.\u001b[39;49m\u001b[43mlstm\u001b[49m\u001b[43m(\u001b[49m\u001b[38;5;28;43minput\u001b[39;49m\u001b[43m,\u001b[49m\u001b[43m \u001b[49m\u001b[43mhx\u001b[49m\u001b[43m)\u001b[49m\n\u001b[1;32m     23\u001b[0m \u001b[38;5;28;01mif\u001b[39;00m \u001b[38;5;28mself\u001b[39m\u001b[38;5;241m.\u001b[39mpad:\n\u001b[1;32m     24\u001b[0m     res \u001b[38;5;241m=\u001b[39m (pad_packed_sequence(res[\u001b[38;5;241m0\u001b[39m], batch_first\u001b[38;5;241m=\u001b[39m\u001b[38;5;28mself\u001b[39m\u001b[38;5;241m.\u001b[39mbatch_first)[\u001b[38;5;241m0\u001b[39m], res[\u001b[38;5;241m1\u001b[39m])\n",
      "File \u001b[0;32m~/miniforge3/envs/human-rights/lib/python3.10/site-packages/torch/nn/modules/module.py:1775\u001b[0m, in \u001b[0;36mModule._wrapped_call_impl\u001b[0;34m(self, *args, **kwargs)\u001b[0m\n\u001b[1;32m   1773\u001b[0m     \u001b[38;5;28;01mreturn\u001b[39;00m \u001b[38;5;28mself\u001b[39m\u001b[38;5;241m.\u001b[39m_compiled_call_impl(\u001b[38;5;241m*\u001b[39margs, \u001b[38;5;241m*\u001b[39m\u001b[38;5;241m*\u001b[39mkwargs)  \u001b[38;5;66;03m# type: ignore[misc]\u001b[39;00m\n\u001b[1;32m   1774\u001b[0m \u001b[38;5;28;01melse\u001b[39;00m:\n\u001b[0;32m-> 1775\u001b[0m     \u001b[38;5;28;01mreturn\u001b[39;00m \u001b[38;5;28;43mself\u001b[39;49m\u001b[38;5;241;43m.\u001b[39;49m\u001b[43m_call_impl\u001b[49m\u001b[43m(\u001b[49m\u001b[38;5;241;43m*\u001b[39;49m\u001b[43margs\u001b[49m\u001b[43m,\u001b[49m\u001b[43m \u001b[49m\u001b[38;5;241;43m*\u001b[39;49m\u001b[38;5;241;43m*\u001b[39;49m\u001b[43mkwargs\u001b[49m\u001b[43m)\u001b[49m\n",
      "File \u001b[0;32m~/miniforge3/envs/human-rights/lib/python3.10/site-packages/torch/nn/modules/module.py:1786\u001b[0m, in \u001b[0;36mModule._call_impl\u001b[0;34m(self, *args, **kwargs)\u001b[0m\n\u001b[1;32m   1781\u001b[0m \u001b[38;5;66;03m# If we don't have any hooks, we want to skip the rest of the logic in\u001b[39;00m\n\u001b[1;32m   1782\u001b[0m \u001b[38;5;66;03m# this function, and just call forward.\u001b[39;00m\n\u001b[1;32m   1783\u001b[0m \u001b[38;5;28;01mif\u001b[39;00m \u001b[38;5;129;01mnot\u001b[39;00m (\u001b[38;5;28mself\u001b[39m\u001b[38;5;241m.\u001b[39m_backward_hooks \u001b[38;5;129;01mor\u001b[39;00m \u001b[38;5;28mself\u001b[39m\u001b[38;5;241m.\u001b[39m_backward_pre_hooks \u001b[38;5;129;01mor\u001b[39;00m \u001b[38;5;28mself\u001b[39m\u001b[38;5;241m.\u001b[39m_forward_hooks \u001b[38;5;129;01mor\u001b[39;00m \u001b[38;5;28mself\u001b[39m\u001b[38;5;241m.\u001b[39m_forward_pre_hooks\n\u001b[1;32m   1784\u001b[0m         \u001b[38;5;129;01mor\u001b[39;00m _global_backward_pre_hooks \u001b[38;5;129;01mor\u001b[39;00m _global_backward_hooks\n\u001b[1;32m   1785\u001b[0m         \u001b[38;5;129;01mor\u001b[39;00m _global_forward_hooks \u001b[38;5;129;01mor\u001b[39;00m _global_forward_pre_hooks):\n\u001b[0;32m-> 1786\u001b[0m     \u001b[38;5;28;01mreturn\u001b[39;00m \u001b[43mforward_call\u001b[49m\u001b[43m(\u001b[49m\u001b[38;5;241;43m*\u001b[39;49m\u001b[43margs\u001b[49m\u001b[43m,\u001b[49m\u001b[43m \u001b[49m\u001b[38;5;241;43m*\u001b[39;49m\u001b[38;5;241;43m*\u001b[39;49m\u001b[43mkwargs\u001b[49m\u001b[43m)\u001b[49m\n\u001b[1;32m   1788\u001b[0m result \u001b[38;5;241m=\u001b[39m \u001b[38;5;28;01mNone\u001b[39;00m\n\u001b[1;32m   1789\u001b[0m called_always_called_hooks \u001b[38;5;241m=\u001b[39m \u001b[38;5;28mset\u001b[39m()\n",
      "File \u001b[0;32m~/miniforge3/envs/human-rights/lib/python3.10/site-packages/torch/nn/modules/rnn.py:1139\u001b[0m, in \u001b[0;36mLSTM.forward\u001b[0;34m(self, input, hx)\u001b[0m\n\u001b[1;32m   1127\u001b[0m     result \u001b[38;5;241m=\u001b[39m _VF\u001b[38;5;241m.\u001b[39mlstm(\n\u001b[1;32m   1128\u001b[0m         \u001b[38;5;28minput\u001b[39m,\n\u001b[1;32m   1129\u001b[0m         hx,\n\u001b[0;32m   (...)\u001b[0m\n\u001b[1;32m   1136\u001b[0m         \u001b[38;5;28mself\u001b[39m\u001b[38;5;241m.\u001b[39mbatch_first,\n\u001b[1;32m   1137\u001b[0m     )\n\u001b[1;32m   1138\u001b[0m \u001b[38;5;28;01melse\u001b[39;00m:\n\u001b[0;32m-> 1139\u001b[0m     result \u001b[38;5;241m=\u001b[39m \u001b[43m_VF\u001b[49m\u001b[38;5;241;43m.\u001b[39;49m\u001b[43mlstm\u001b[49m\u001b[43m(\u001b[49m\n\u001b[1;32m   1140\u001b[0m \u001b[43m        \u001b[49m\u001b[38;5;28;43minput\u001b[39;49m\u001b[43m,\u001b[49m\n\u001b[1;32m   1141\u001b[0m \u001b[43m        \u001b[49m\u001b[43mbatch_sizes\u001b[49m\u001b[43m,\u001b[49m\n\u001b[1;32m   1142\u001b[0m \u001b[43m        \u001b[49m\u001b[43mhx\u001b[49m\u001b[43m,\u001b[49m\n\u001b[1;32m   1143\u001b[0m \u001b[43m        \u001b[49m\u001b[38;5;28;43mself\u001b[39;49m\u001b[38;5;241;43m.\u001b[39;49m\u001b[43m_flat_weights\u001b[49m\u001b[43m,\u001b[49m\u001b[43m  \u001b[49m\u001b[38;5;66;43;03m# type: ignore[arg-type]\u001b[39;49;00m\n\u001b[1;32m   1144\u001b[0m \u001b[43m        \u001b[49m\u001b[38;5;28;43mself\u001b[39;49m\u001b[38;5;241;43m.\u001b[39;49m\u001b[43mbias\u001b[49m\u001b[43m,\u001b[49m\n\u001b[1;32m   1145\u001b[0m \u001b[43m        \u001b[49m\u001b[38;5;28;43mself\u001b[39;49m\u001b[38;5;241;43m.\u001b[39;49m\u001b[43mnum_layers\u001b[49m\u001b[43m,\u001b[49m\n\u001b[1;32m   1146\u001b[0m \u001b[43m        \u001b[49m\u001b[38;5;28;43mself\u001b[39;49m\u001b[38;5;241;43m.\u001b[39;49m\u001b[43mdropout\u001b[49m\u001b[43m,\u001b[49m\n\u001b[1;32m   1147\u001b[0m \u001b[43m        \u001b[49m\u001b[38;5;28;43mself\u001b[39;49m\u001b[38;5;241;43m.\u001b[39;49m\u001b[43mtraining\u001b[49m\u001b[43m,\u001b[49m\n\u001b[1;32m   1148\u001b[0m \u001b[43m        \u001b[49m\u001b[38;5;28;43mself\u001b[39;49m\u001b[38;5;241;43m.\u001b[39;49m\u001b[43mbidirectional\u001b[49m\u001b[43m,\u001b[49m\n\u001b[1;32m   1149\u001b[0m \u001b[43m    \u001b[49m\u001b[43m)\u001b[49m\n\u001b[1;32m   1150\u001b[0m output \u001b[38;5;241m=\u001b[39m result[\u001b[38;5;241m0\u001b[39m]\n\u001b[1;32m   1151\u001b[0m hidden \u001b[38;5;241m=\u001b[39m result[\u001b[38;5;241m1\u001b[39m:]\n",
      "\u001b[0;31mKeyboardInterrupt\u001b[0m: "
     ]
    }
   ],
   "source": [
    "for idx, row in tqdm(data.iterrows(), total=len(data)):\n",
    "    text = row['article']\n",
    "    doc = nlp(text)\n",
    "    entities = [(ent.text, ent.type) for ent in doc.ents]\n",
    "    data.at[idx, 'entities'] = str(entities)"
   ]
  },
  {
   "cell_type": "code",
   "execution_count": 9,
   "id": "9d34faaa",
   "metadata": {},
   "outputs": [
    {
     "data": {
      "application/vnd.microsoft.datawrangler.viewer.v0+json": {
       "columns": [
        {
         "name": "index",
         "rawType": "int64",
         "type": "integer"
        },
        {
         "name": "index",
         "rawType": "object",
         "type": "string"
        },
        {
         "name": "headline",
         "rawType": "object",
         "type": "unknown"
        },
        {
         "name": "newspaper_name",
         "rawType": "object",
         "type": "string"
        },
        {
         "name": "date",
         "rawType": "datetime64[ns]",
         "type": "datetime"
        },
        {
         "name": "article",
         "rawType": "object",
         "type": "string"
        },
        {
         "name": "entities",
         "rawType": "object",
         "type": "unknown"
        }
       ],
       "ref": "60d2dcc6-0055-4eaf-82f1-e71f610f4166",
       "rows": [
        [
         "0",
         "1_1915-09-29_p2_sn82014519_00414183025_1915092901_0317",
         "TABS PLAN ORCHESTRA.",
         "New Britain herald.",
         "1915-09-29 00:00:00",
         "Members of the Y. M. T. A, & B. society possessing musical talent, and there are not a few, are planning to form an orchestra. President w. J Kerin has the matter in hand and those anxious to display their ability as musicians should communicate with him. Some of the society talent which has thus far signified inten- tion of Joining the proposed orches- tra includes Edward J. Lynch, lead- CT. and cornet player; Thomas Mack, cornet; James J. Bonney, Frank May, John Jacobs, John Hannon, Edward Sullivan James Mccarthy and Charles Dunn violinists; Henry Kane, John Maerz, Anthony Contoise and George H. Lynch clarionet; William Lowe and Thomas Lowe, flute; Joseph Bos kowski, flute and piccolo; Peter McCrann, drum; James Keegan, bass drum.",
         "[('the Y. M. T. A, & B.', 'ORG'), ('J Kerin', 'PERSON'), ('Edward J. Lynch', 'PERSON'), ('Thomas Mack', 'PERSON'), ('James J. Bonney', 'PERSON'), ('Frank May', 'PERSON'), ('John Jacobs', 'PERSON'), ('John Hannon', 'PERSON'), ('Edward Sullivan', 'PERSON'), ('James Mccarthy', 'PERSON'), ('Charles Dunn', 'PERSON'), ('Henry Kane', 'PERSON'), ('John Maerz', 'PERSON'), ('Anthony Contoise', 'PERSON'), ('George H. Lynch', 'PERSON'), ('William Lowe', 'PERSON'), ('Thomas Lowe', 'PERSON'), ('Joseph Bos kowski', 'PERSON'), ('Peter McCrann', 'PERSON'), ('James Keegan', 'PERSON')]"
        ],
        [
         "1",
         "1_1915-08-13_p4_sn87090131_00200299772_1915081301_0717",
         "NEWELLTON NOTES.",
         "Tensas gazette. [volume] (St. Joseph, La.) 1886-current",
         "1915-08-13 00:00:00",
         "Mr.. Trindle spent several days in Nat\nchez this week.\n\n\nDIR. and Mrs. Witt of Natchez passed\nthrough Newellton in their touring car.\n\n\nMr.. Merrick Rowan of \"Ridgeland'' is\nvisiting Mr. Ralph Ally, Jr at \"BalmoraP'\n\n\nMr.. Percy Gordon who has been living\nat Shreveport, is visiting his parents near\nNewelton.\n\n\nMrs. Drake has returned to her home\nat Kansas City after a pleasant visit to\nMrs. Jas. r. Lynch.\n\n\nMr.. and Mrs. Jas. X. NARROW and\nchildren spent several days in Natchez\nwith relatives this week.\nMr.. Gus Elgutter, who is now living\nat Baton Rouge, is spending his vacation\nwith his father and sisters here.\n\n\nMiss Ruth Elgutter, daughter of Mr..\nand Mrs. Adolph Elgutter of Baton\nRouge, is visiting relatives in st. Joseph\nand Newellton.\n\n\nThe great number Of autos in this Sec\nton OF the parish was increased this week\nwhen Mr.. w. ID. Martiniere received a\nFord and Mr.. Geo. Bland Dodge.\n\n\nMessrs. Sam Marks and Frank Lom-\nbardo went down to st. Joseph to join\nthe fishing party from that town who\nwent out to COoter Point for a week s\nouting.\n\n\nHon. Martin Jacoby went to Magnolia,\nMiss, where he joined Mrs. Jacoby, who\nhas been visiting relatives there for some\ntime, and together they 90 to New Or\nleans for weeks stay with relatives.\n\n\nThe delayed arrival of the pipes used\nas casing in Well No. / of the Point\nPleasant Oil Co., interferred with drilling\nthis week, which was expected to be\nunderway ere this. The casing is expected\nevery day, and actual work of drilling\nwill begin Immediately upon arrival OF\nsame.\n\n\nMr.. and Mrs. l.. de Vries and Misses\nPauline Abrahm and Rosa Elgutter\nmotored up to Tallulah Sunday to meet\nMr.. Morris de Vries, who is returning\nfrom Magnolia, Miss, where has been for\nsome time, and will engage in business\nin Newellton. His many friends here\nare glad to welcome him back and wish\nhim greatest success i'm his new venture.",
         "[('Trindle', 'PERSON'), ('several days', 'DATE'), ('Nat\\nchez', 'ORG'), ('this week', 'DATE'), ('Witt', 'PERSON'), ('Natchez', 'GPE'), ('Newellton', 'GPE'), ('Merrick Rowan', 'PERSON'), ('Ridgeland', 'GPE'), ('Ralph Ally', 'PERSON'), ('Jr', 'PERSON'), ('BalmoraP', 'GPE'), ('Percy Gordon', 'PERSON'), ('Shreveport', 'GPE'), ('Newelton', 'GPE'), ('Drake', 'PERSON'), ('Kansas City', 'GPE'), ('Jas. r. Lynch', 'PERSON'), ('Jas. X. NARROW', 'PERSON'), ('several days', 'DATE'), ('Natchez', 'GPE'), ('this week', 'DATE'), ('Gus Elgutter', 'PERSON'), ('Baton Rouge', 'GPE'), ('Ruth Elgutter', 'PERSON'), ('Adolph Elgutter', 'PERSON'), ('Baton\\nRouge', 'GPE'), ('st. Joseph', 'GPE'), ('Newellton', 'GPE'), ('this week', 'DATE'), ('Martiniere', 'PERSON'), ('Ford', 'ORG'), ('Sam Marks', 'PERSON'), ('Frank Lom-\\nbardo', 'PERSON'), ('Joseph', 'PERSON'), ('COoter Point', 'LOC'), ('Martin Jacoby', 'PERSON'), ('Magnolia,\\nMiss', 'GPE'), ('Jacoby', 'PERSON'), ('90', 'DATE'), ('weeks', 'DATE'), ('the Point\\nPleasant Oil Co.', 'ORG'), ('this week', 'DATE'), ('l.. de Vries', 'PERSON'), ('Misses\\nPauline Abrahm', 'PERSON'), ('Rosa Elgutter', 'PERSON'), ('Tallulah', 'GPE'), ('Sunday', 'DATE'), ('Morris de Vries', 'PERSON'), ('Magnolia, Miss', 'GPE'), ('Newellton', 'GPE')]"
        ],
        [
         "2",
         "18_1915-10-08_p1_sn90051185_00513681148_1915100801_0178",
         "The TRUTH ABOUT\nthe CHMELKA KID.\n\n\nMAPPING CASE\n\nAll Stories So Far Merely Con.\n\n\nlecture, Says Mrs. Chmelka.",
         "The Holly chieftain.",
         "1915-10-08 00:00:00",
         "That the true facts in the\nChmelka kidnapping case may be\nfully understood by all, Chief\ntain reporter visited the Chmelka\nhome, which is about nine miles\nnorth of Holly, the other day,\nand was told the story in detail\nby Mrs. Chmelks herself, for\never putting at rest the wild and\nincoherent white slave yarns\nthat have nauseated readers of\nthe daily papers the past week.\n\n\nAltho the scene was staged on\nWednesday noon, the heavy\"\nwork was not attempted until\nWednesday night, when Mr..\nChmelka was irrigating his broad\nacres about an even mile from\nthe residence. An automobile\nstopped in front Of the house,\nand one of the occupants alight-\ned, making a bee line for the\nkitchen door. which was open.\nSupposing that the intruder was\nher husband, Mrs. Chmelka (who\nhad retired just few minutes\nprevious) asked if it were lunch\ntime, as she always prepares a\nnight lunch for him during the\nirrigating season.\n\n\nNo answer was made, but in\nstead, the intruder placed his\nknees on her body and before she\ncould cry for h elp thrust a\nblanket over her head, tying her\nhands behind her and stuffing\ngag in her mouth with a sheet\nfrom her own bed.\n\n\nMrs. Chmelka, now terribly\nfrightened, begged not to be,\ntaken away from her children.\nHis reply was: 'Ha! I've been\nafter you for five years and Pm\ngoing to get you now,\" and seiz-\ning her in his arms attempted to\ncarry her into the waiting auto,\nbut here is where he figured\nwithout his host. Mrs. Chmelka\nis powerful little woman, and\nbegan to fight, kicking and\nscratching as much as she could,\nand in the darkness the would-be\nkidnaper stumbled over culvert,\ngiving the lady an opportunity to\nbreak away from his grasp and\nrun, and was closely followed by\nthe man, but owing to the dark\nness, she eluded him and fled,\nmaking her escape clad only in\nnightgown, Vending her way to\nthe Marston home, just opposite,\nwhere she was welcomed, spend\ning the night with Mrs. Marston,\nher body black and blue and con-\ntanning many decorations, memen-\ntoes of an awful struggle which\nthe intended victim will never\nforget.\n\n\nBoth Mr.. and Mrs. Chmelka\nbelieve that the itinerant solicitor\nwho came thru the house on Wed\nnesday noon of the same day was\nnone other but an accomplice,\nand that after he had gotten the\nlay of the land he Immediately\ncommunicated his findings to the\nprincipal, with the result above\nstated. This much is certain,\nthat the dogs in the neighbor-\nhood, which are always on the\nalert, were strangely asleep on\nthe night of the attempted crime,\nand they are firmly of the belief\nthat the animals were \"doped. \"\n\n\nThe Chmelkas are hardworking\nfarmers, and have not an enemy\nin the world as far as they know,\nand after being married eight\nyears, are mystified beyond ex-\npreston.\n\n\nHad alarm been given on the\nnight in question, the culprit no\ndoubt would have been captured\neasily, and from the temperament\nof the neighbors in the vicinity\nof the Chmelka home, Judge\nLynch would probably have offici-\nated at an impromptu necktie\nparty had the marauder been\ncaptured.\n\n\nSheriff Cal Downing and Dis",
         "[('Chmelka', 'PERSON'), ('Chmelka', 'GPE'), ('about nine miles', 'QUANTITY'), ('Holly', 'GPE'), ('the other day', 'DATE'), ('Chmelks', 'PERSON'), ('daily', 'DATE'), ('the past week', 'DATE'), ('Wednesday noon', 'TIME'), ('Wednesday', 'DATE'), ('Chmelka', 'PERSON'), ('one', 'CARDINAL'), ('Chmelka', 'PERSON'), ('Chmelka', 'PERSON'), ('five years', 'DATE'), ('Chmelka', 'PERSON'), ('Marston', 'PERSON'), ('Marston', 'PERSON'), ('Mr..', 'PERSON'), ('Chmelka', 'PERSON'), ('Wed\\nnesday noon of the same day', 'TIME'), ('Chmelkas', 'PERSON'), ('eight\\nyears', 'DATE'), ('Chmelka', 'PERSON'), ('Lynch', 'PERSON'), ('Cal Downing', 'PERSON')]"
        ],
        [
         "3",
         "5_1915-01-14_p1_sn88085445_0021110756A_1915011401_0237",
         "LAST CALL SOUNDS FOR\n\n\nCOMRADE WILCOXEN",
         "The Lynden tribune. [volume] (Lynden, Wash.) 1908-current",
         "1915-01-14 00:00:00",
         "Charles Baxter WilcoXen, Civil\nwar veteran, passed away Friday\nmorning at the age of IA years and\n10 months. Before a gathering tha'\ncrowded the Methodist Church, run\neral services were held Sunday after\nnoon with the Rev. P. H. Davies\nofficiating. Members of Lynch Post\nG. A. r. and the Women's Relief\nCorps were present in body.\n\n\nMr.. Wilcoxen was born at Sene-\nca Falls, N. Y, Mar. 8. 1910. He\nenlisted in the United States Army\nAug. 2, 1862, and remained in the\nservice until the close of the war.\nHe ioined the Baptist Church at\nSeneca Falls in 1857. At Chat1ieid. :.\nMimi, Aug. 8, 1865, he was married\nto Mary l.. Pinney. In 1889, he\ncame to Seattle, where he served as\nA deacon of the Ballard Baptist\nChurch. He was a comrade OF Lynch\nPost.\n\n\nHe leaves a widow and six child\nren to mourn his loss, Mrs. McSor-\nley of Lynden, Mrs. Avery OF fort-\nland. Fred Wilcoxen Seattle, Frank\nWilcoxen Tacoma, Charles Wilcox\nen-. Santiago, Cal, and Mrs. Simpler\nof Anacortes. One brother and two\nsisters also survive lin.\n\n\nThe great crowd that gathered TO\ndo him last honors showed the res\npect in which Mr.. Wilcoxen was helt\nin the community. and is testi-\nmony to the worth of his long ana\nuseful life.",
         "[('Charles Baxter WilcoXen', 'PERSON'), ('Friday', 'DATE'), ('the age of IA years', 'DATE'), ('10 months', 'DATE'), ('the Methodist Church', 'ORG'), ('Sunday', 'DATE'), ('noon', 'TIME'), ('P. H. Davies', 'PERSON'), ('Lynch Post', 'ORG'), ('G. A. r.', 'PERSON'), (\"the Women's Relief\\nCorps\", 'ORG'), ('Wilcoxen', 'PERSON'), ('Sene-\\nca Falls', 'GPE'), ('N. Y', 'GPE'), ('Mar. 8. 1910', 'DATE'), ('the United States Army', 'ORG'), ('Aug. 2, 1862', 'DATE'), ('the Baptist Church', 'ORG'), ('Seneca Falls', 'FAC'), ('1857', 'DATE'), ('Chat1ieid', 'GPE'), ('Mimi', 'PERSON'), ('Aug. 8, 1865', 'DATE'), ('Mary l.. Pinney', 'PERSON'), ('1889', 'DATE'), ('Seattle', 'GPE'), ('the Ballard Baptist\\nChurch', 'ORG'), ('OF Lynch\\nPost', 'ORG'), ('six', 'CARDINAL'), ('McSor-', 'PERSON'), ('Lynden', 'GPE'), ('Avery', 'PERSON'), ('Fred Wilcoxen', 'PERSON'), ('Seattle', 'GPE'), ('Frank\\nWilcoxen Tacoma', 'PERSON'), ('Charles Wilcox', 'PERSON'), ('Santiago', 'GPE'), ('Cal', 'GPE'), ('Simpler', 'PERSON'), ('Anacortes', 'GPE'), ('One', 'CARDINAL'), ('two', 'CARDINAL'), ('Wilcoxen', 'PERSON')]"
        ],
        [
         "4",
         "10_1915-08-21_p8_sn88051105_00513687928_1915082101_0014",
         "oh, That Lash!",
         "The Harrison times.",
         "1915-08-21 00:00:00",
         "Tommy had watched the high-hatted\nand frock-coated ringmaster for some\ntime. He was particularly interested\nin the way he handled the whip with\nthe long lash.\n\n\nwell, Tommy\" said his father,\nwhat do you think of that fellow?\"\n\n\nThe whip cracked again as Tommy\nreplied: 'I'm glad he isn't my father\"",
         "[('Tommy', 'PERSON'), ('Tommy', 'PERSON'), ('Tommy', 'PERSON')]"
        ],
        [
         "5",
         "1_1915-09-09_p4_sn99021999_00280778540_1915090901_0261",
         "PACKARD MASTER\n\n\nOF THE LEADERS\n\nPittsburgh Helpless Before Pitcher\nand Kansas City Captures\n\n\nGame.\n\nSEVEN TO TWO Is THE SCORE",
         "Omaha daily bee.",
         "1915-09-09 00:00:00",
         "KANSAS CITY, Mo-, Sept. S-The lead\ners of the Federal league were helpless\nbefore the pitching of Packard today and\nKansas City won from Pittsburgh, 7 to 2\nPackard allowed four hits, two to Kon-\netchy and two to Mowrey. Rogge, who\nstarted for the visitors lasted four In\nnings. Hearn. who succeeded him, yielded\nfour runs. three coming in the eighth on\nfour hits. The second game of a double\nheader was called in the second inning\non account of rain. Score: RH.E.\nK E1'T nsss City -; ! 9 : 1878 8 ~ !\n\n\nBatteries; Rogge, Hearn and OConnor;\nPackard and Enzenroth.\n\n\nTops Make Clean sweep.\n\n\nNEWARK. N. j., Sept. 8.-The Brooklyn\nFederais made q clean sweep of the five\ngame series with the Newarks by taking\ntoday's double-header by scores OF 6 to {\nNewark ~ Q Q / . Q . ! q 10\nBatteries: Marion and Land; Kaiserling.\nMoran and Rariden.\n\n\nScore. second game: R.H.E\nBrooklyn ......S 9 000000 % 9 9\n\n\ns@tteries: tphsm ana sImons Mo Mo.sv\nBilliard and Rariden.\n\n\nBIu WHIP Terps Twice.\nBUFFALO. Sept. s-The local Federal\nleageu season was brought to a close to\nday with the Buffalo team scoring q\ndoub'e victory over Baltimore. The scores\nwere to and to T.\n\n\nAl Schulz allowed five widely scattered\nhits In the first game and beat A.\nRankin johnson in pitchers battle. A\nhome run By Hal Chase brought about\nthe second Buffalo victory. iWth Buff\nfalo two runs behind In the fifth inning,\nChase hit into the bleachers. scor ne\nLord ahead OF him. Singles by Engle and\nAll n gave the locals the deciding ta\"y\nn h eighth. Score: R.H.E\nBuffalo 80 o O1 o 90 8 a 6 o\n10 o o o 0 0 0 o 90 5 o\n\n\nBatteries: Schulz and Allen. Johnson\nand O~ens.\n\n\nScore, second game: RHF\nBuffalo 40 3 0 s-S\nBaltimore \"a o 1 90 o o. s 2\n:; attic. les; Marshall and Allen; Quinn.\nConley and Russell",
         "[('KANSAS CITY', 'GPE'), ('Mo-', 'GPE'), ('Sept. S-', 'DATE'), ('Packard', 'ORG'), ('today', 'DATE'), ('Kansas City', 'GPE'), ('Pittsburgh', 'GPE'), ('7', 'CARDINAL'), ('2', 'CARDINAL'), ('Packard', 'ORG'), ('four', 'CARDINAL'), ('two', 'CARDINAL'), ('Kon-', 'PERSON'), ('two', 'CARDINAL'), ('Mowrey', 'PERSON'), ('Rogge', 'PERSON'), ('four', 'CARDINAL'), ('Hearn', 'PERSON'), ('four', 'CARDINAL'), ('three', 'CARDINAL'), ('eighth', 'ORDINAL'), ('four', 'CARDINAL'), ('second', 'ORDINAL'), ('second', 'ORDINAL'), ('9', 'CARDINAL'), ('8', 'CARDINAL'), ('Rogge', 'PERSON'), ('Hearn', 'PERSON'), ('OConnor', 'ORG'), ('Packard', 'ORG'), ('Enzenroth', 'ORG'), ('NEWARK', 'GPE'), ('Sept. 8', 'DATE'), ('Brooklyn\\nFederais', 'ORG'), ('five', 'CARDINAL'), ('Newarks', 'ORG'), ('6', 'CARDINAL'), ('10', 'CARDINAL'), ('Marion', 'PERSON'), ('Kaiserling', 'PERSON'), ('Moran', 'PERSON'), ('Rariden', 'PERSON'), ('second', 'ORDINAL'), ('R.H.E', 'GPE'), ('9 000000 %', 'PERCENT'), ('9 9', 'CARDINAL'), ('Mo Mo.sv\\nBilliard', 'PERSON'), ('Rariden', 'PERSON'), ('BIu WHIP Terps', 'PERSON'), ('Sept.', 'DATE'), ('Buffalo', 'ORG'), ('Baltimore', 'GPE'), ('Al Schulz', 'PERSON'), ('five', 'CARDINAL'), ('first', 'ORDINAL'), ('A.\\nRankin johnson', 'PERSON'), ('Hal Chase', 'PERSON'), ('second', 'ORDINAL'), ('Buffalo', 'ORG'), ('two', 'CARDINAL'), ('fifth', 'ORDINAL'), ('Chase', 'PERSON'), ('Engle', 'PERSON'), ('5', 'CARDINAL'), ('Schulz', 'PERSON'), ('Allen. Johnson', 'PERSON'), ('O~ens', 'PERSON'), ('second', 'ORDINAL'), ('RHF\\nBuffalo', 'PRODUCT'), ('40', 'CARDINAL'), ('2', 'CARDINAL'), ('Marshall', 'PERSON'), ('Allen', 'PERSON'), ('Quinn', 'PERSON'), ('Conley', 'PERSON'), ('Russell', 'PERSON')]"
        ],
        [
         "6",
         "7_1915-01-25_p4_sn83030214_0020653185a_1915012501_0594",
         "Lull in Battle TO Give Way\nTo-day TO Bitter Party\n\n\nStruggle.\n\nEXTRA SESSION\n\n\nFEAR IN HOUSE\n\nLeaders viii Push Appropria\nton Bills and Pass the\n\n\nBuck\" TO Senate.",
         "New-York tribune. [volume] (New York [N.Y.]) 1866-1924",
         "1915-01-25 00:00:00",
         "Washington. Jan. %. The Senate tug\nOf war over the ship purchase b,.. will\nbe resumed tomorrow. The luii n the\nstruggle which enabled the Democrats\n10 agree on the measure and bring the\ncaucus whip into play 90 stiien the\nbacks OF the rccalcifrsuts has been tax\nen- advantage OF by the Republicans.\nwho have taken counsel ln intorms\ngathering which have acted as boards\nOF parliamentary strategy.\n\n\nBoth sides are apparently uuyicld-\ning, and the fight gives promise OF be-\ning carried 10 greater lengths than any\nstruggle over which the Senate has dl-\nyided IN recent years.\n\n\nSenator Root for the minority. Wiz\npresent the international aspect OF the\nproblem, the danger OF fore gu Compl'-\ncations and the bearing o. treaty OBJ\nlegations on the subject. he viii be\nfollowed by other Republicans. Of whom\nscore arc said 20 be- ready 90 stand\nagainst the measure until the end.\n\n\nThe administration point Of view will\nbe presented IN a report in response\n20 a Senate resolution o. inquiry by\nSecretaries McAdoo and Redfcid. A.\nvet there has been no Democratic SEN\nstor. except Senator Fletcher who has\ntaken the floor as the champion OF the\nadministration policy.\n\n\nThis IS interpreted by 'he Rcpubli-\ncans as an indication or the reluctance\nOF the Democrats 20 commit themselves\n10 course Of action which viii involve\nthem in the charge Of favorng govern\nment ownership. n has been said by\nDemocrats that there are not dozen\nOF their number who would favor the\nship purchase bill If they were left free\n20 decide for themselves.\n\n\nHouse Leaders Fear Extra Session.\n\n\nThe action o. the Senate Democrats\non the ship purchase bin has made\nHouse leaders skepIcal as 90 the\nchances OF avoiding am extra session.\nMr. Underwood and other leaders still\nsaw they \"thiuk we viii avoid am OK",
         "[('Washington', 'GPE'), ('Senate', 'ORG'), ('tomorrow', 'DATE'), ('Democrats', 'NORP'), ('10', 'LAW'), ('90', 'CARDINAL'), ('Republicans', 'NORP'), ('10', 'CARDINAL'), ('Senate', 'ORG'), ('recent years', 'DATE'), ('Root', 'PERSON'), ('Republicans', 'NORP'), ('20', 'CARDINAL'), ('90', 'CARDINAL'), ('20', 'CARDINAL'), ('Senate', 'ORG'), ('McAdoo', 'PERSON'), ('Redfcid', 'PERSON'), ('Democratic', 'NORP'), ('SEN', 'ORG'), ('Fletcher', 'PERSON'), ('Democrats', 'NORP'), ('20', 'CARDINAL'), ('10', 'CARDINAL'), ('Democrats', 'NORP'), ('dozen', 'CARDINAL'), ('20', 'CARDINAL'), ('House', 'ORG'), ('Senate', 'ORG'), ('Democrats', 'NORP'), ('House', 'ORG'), ('90', 'CARDINAL'), ('Underwood', 'PERSON')]"
        ],
        [
         "7",
         "12_1915-06-11_p4_sn92070146_00414189465_1915061101_0638",
         "CITY AND VALLEY",
         "Imperial Valley press.",
         "1915-06-11 00:00:00",
         "Story Hour-There will be the usu-\nal story hour at the Library at 10\ntomorrow morning.\n\n\nX X y\n\n\nFirst Grapes-The first grapes in\nevidence this season were brought in\nthis morning by Fred Lynch from\nthe d. G. Whiting ranch near Heber.\n\n\nX x y\n\n\nClimbing Up Again-Mercury that\nmanaged to get up to los Wednesday\nand tumbled to SO yesterday, sue\nceeded in getting up to 102 today.\nA good western breeze still prevails,\nhowever.\n\n\n\\ x y\n\n\nHay Ride-The members of the\nAmona and Agoga classes Of the Bap-\ntist Sunday school last night enjoyed\nq hay ride to the Brawley main. When\nthey arrived there they went out into\none of the alfalfa fields adjoining the\nroad and played many games. A box\nof cantaloupes was brought out and\neveryone had their fill. About 36 of\nthe young people were present and all\ndeclared they had an enjoyable even\ning.\n\n\nx Y\n\n\nSunday School Board-An import\nant meeting of the officers and teach\ners of the Methodist Church Sunday\nSchool was held last evening at the\nchurch. After supper the meeting\nwas called to order by the superin-\ntendent, Mr.. Smith. Several teachers\nwere appointed to meet the demands\nof the school. The report showed all\nexpenses paid and a growing interest\nin attendance. The board were very",
         "[('Story Hour', 'WORK_OF_ART'), ('10\\ntomorrow morning', 'TIME'), ('First', 'ORDINAL'), ('first', 'ORDINAL'), ('this season', 'DATE'), ('this morning', 'TIME'), ('Fred Lynch', 'PERSON'), ('G. Whiting', 'PERSON'), ('Heber', 'GPE'), ('Wednesday', 'DATE'), ('yesterday', 'DATE'), ('102', 'CARDINAL'), ('Amona', 'PERSON'), ('Agoga', 'NORP'), ('Sunday', 'DATE'), ('last night', 'TIME'), ('Brawley', 'GPE'), ('one', 'CARDINAL'), ('About 36', 'CARDINAL'), ('Sunday', 'DATE'), ('School Board', 'ORG'), ('the Methodist Church Sunday\\nSchool', 'ORG'), ('last evening', 'TIME'), ('Smith', 'PERSON')]"
        ],
        [
         "8",
         "29_1915-06-11_p4_sn92070146_00414189465_1915061101_0638",
         "\"THE CLANSMAN\" TO\n\n\nDRAW BIG CROWDS",
         "Imperial Valley press.",
         "1915-06-11 00:00:00",
         "The advance sale of tickets fo~\n\"The Clansman,\" which opens a sea\nson at the Theatre Tulane tonight, in\ndicates crowded houses while this\ngreat film show is in town.\n\n\nToday members of the Ku KluX\nKlan paraded the strets, attracting\nwide attention.",
         "[('\"The Clansman', 'WORK_OF_ART'), ('the Theatre Tulane', 'FAC'), ('tonight', 'TIME'), ('Today', 'DATE'), ('the Ku KluX\\nKlan', 'ORG')]"
        ],
        [
         "9",
         "33_1915-03-21_p13_sn83045433_00237288531_1915032101_0563",
         null,
         "The Washington herald.",
         "1915-03-21 00:00:00",
         "The Delta Tau Delta Fraternity will\ngive dance at their home. 1910 y streel\nnorthwest. on Friday, March 70 from\np. m. till a. IN. The chaperons will\nhe Mrs. J. Il. Mann. Mrs. W. p Borland\nMrs. Charles Lynch, and Miss Mary\nHunt Thayer.",
         "[('The Delta Tau Delta Fraternity', 'ORG'), ('1910', 'DATE'), ('Friday, March 70', 'DATE'), ('J. Il. Mann.', 'PERSON'), ('W. p Borland', 'PERSON'), ('Charles Lynch', 'PERSON'), ('Mary\\nHunt Thayer', 'PERSON')]"
        ],
        [
         "10",
         "12_1915-01-28_p4_sn86069395_00280763457_1915012801_0096",
         null,
         "Hopkinsville Kentuckian. [volume] (Hopkinsville, Ky.) 1889-1918",
         "1915-01-28 00:00:00",
         "doing a service to some one he could\nnot see. Sir Donald looked at the\nqueer matches. not knowing the pecul-\niarlties OF the western sulphur article.\nand in spite Of himself Kane had to\ninstruct him to pull or one Of the\nmatches and strike t. When Sir Dom\naid choked and sputtered over an in\nhaiation of birthstone Tom looked pro-\nfoundly concerned.\n\n\nThey're leetle strong for some\npeople,\" he remarked pityingly.\n\n\n\"Strongr' answered Faversham, WHIP\ning his eyes. II should jolly well say\nthey weret'\n\n\nTheir conversation had attracted\nRuth's attention. and she and John\nboth looked back. John smiled faint\nly, but Ruth was indignant.\n\n\n\"Tom did that on purpose\" she said.\n\"I'm ashamed of him.\"\n\n\nHow 1t happened only Sir Donald\ncould have told, but within three min\nutes he was exchanging remarks about\nthe scenery with them all. \"And\nthere's an awfuIly jolly bit just over\nthe other way\" he said to Ruth.\n\n\nThe ice was broken, and Ruth\npromptly accepted the implied invita-\nton to see this specially lovely scene\nand Sir Donald led the way. talking\nwith her. After an instant's hesita-\nton John and Kane followed.\n\n\nThe acquaintance thus made was\ndestined to have a great bearing on\nthe lives Of both Ruth and John. II\nhad ripened into genuine liking on\nRuth's part before the dance that night\nwas over.\n\n\nThe next morning John and Tom met\nRuth walking with Sir Donald about\nthe hotel grounds, and the young man\ncould not help showing in both voice\nand manner that he was little pleased\nthat Ruth should have so suddenly\ntaken up with q stranger.\n\n\nRemember. she's only a girl\" Tom\nwarned him. feeling his mood, .'She's\nbeen brought up in the mountains, and\nshe's as friendly as a pup. don't like\nthe way the man puts petticoats on his\nfeet and I'm used to being looked at\nwith two eyes. but Ruth is all right\nYou must remember that young as she\nis and inexperienced. she has good\nlot of common sense\"\n\n\nIl suppose it's foolish of me-\" John\nanswered, But I'm used to activity\nand this dawdling about doesn't suit\nme and that makes me generally cross\nand unreasonable. If | only knew\nwhat Wilkerson was doing! II Everett\nwould only Gomez\n\n\nThe wish was fulfilled that afternoon\nwhen George Everett turned up and\nwas warmly greeted by both Kane\nand Dorr. After few words he asked\nfor Ruth.\n\n\n\"You can see that she's all right\"\nJohn answered quietly, pointing to her\nas she came up the steps with Sir\nDonald. Both were in tennis garb. and\nRuth was delightfully.\"- flushed.\n\n\nSir Donald made a few pleasant re-\nmarks and then excused himself. His\nquick senses told him that Everett\nhad come on business md that he\nwould be one too many.\n\n\nII don't know that have anything\nnew and startling to tell you\" Everett\ntold Ruth i'm answer to her question.\n81 know a dozen places where | can\nraise the money to finance your mine.\nbut we must have the deeds. papers\nand surveys first. And they're gone.\n! understand\"\n\n\n\"Yes.\" Dorr replied bitterly. Il sup\npose Wilkerson has them. ] ought to\nhave been on his trail long ago\"\n\n\nEverett glanced at Ruth and saw the\non her face. He went\nquickly on: However. I've made tenn\nporary arrangements which will re-\nlieve you OF all trouble for the present.\nMiss Gallon. III talk over the business\ndetails with John and Tom Kane\"\n\n\nShe frightened and laid one hand\naffectionately on Johns arm. 81 knew\neverything would come out all right\nwhen John took hold\" she said softly.\n\n\nFor two days Harry Wilkerson work\ned steadily and secretly in his room.\nAt last his task was done.\n\n\nmo one can ever prove that old Tom\nGallon didn't draw that deed himself\"\nwilkerson said trlumphantly. And 1t\nmakes me the owner OF the Master\nKey mine. Jean. And. once in charge.\nIII make MS both worth millions.\nThen\n\n\nShe shrank back at the fame in his\ngaze upon her.\n\n\nsnow. what are You going to doT\nshe demanded. attempting to bring the\nconversation back into business chan\nnels.\n\n\nHe bit his nails savagely. Drake is\nout, all right\" he told her. ''You see.\nKane didn't turn up to prosecute the\nrase. and they turned him loose. What\ndo you say to my wiring him to go and\ntake charge of the mine while we de-\neide just what to do? He can see\nwhat's going on and warn us\"\n\n\n\"Dorr and the rest are still at Bever-\nH..",
         "[('Donald', 'PERSON'), ('Kane', 'PERSON'), ('one', 'CARDINAL'), ('Dom', 'PERSON'), ('Tom', 'PERSON'), ('Strongr', 'PERSON'), ('Faversham', 'PERSON'), (\"Ruth's\", 'PERSON'), ('John', 'PERSON'), ('John', 'PERSON'), ('Ruth', 'PERSON'), ('Tom', 'PERSON'), ('Donald', 'PERSON'), ('three min', 'QUANTITY'), ('Ruth', 'PERSON'), ('Ruth', 'PERSON'), ('Donald', 'PERSON'), ('John', 'PERSON'), ('Kane', 'PERSON'), ('Ruth', 'PERSON'), ('John', 'PERSON'), (\"Ruth's\", 'PERSON'), ('The next morning', 'TIME'), ('John', 'PERSON'), ('Tom', 'PERSON'), ('Ruth', 'PERSON'), ('Donald', 'PERSON'), ('Ruth', 'PERSON'), ('Tom', 'PERSON'), (\"She's\", 'PERSON'), ('two', 'CARDINAL'), ('Ruth', 'PERSON'), ('John', 'PERSON'), ('Wilkerson', 'PERSON'), ('Everett', 'PERSON'), ('Gomez', 'PERSON'), ('George Everett', 'PERSON'), ('Kane', 'PERSON'), ('Dorr', 'PERSON'), ('Ruth', 'PERSON'), ('John', 'PERSON'), ('Donald', 'PERSON'), ('Ruth', 'PERSON'), ('Donald', 'PERSON'), ('Everett', 'PERSON'), ('one', 'CARDINAL'), ('Everett', 'PERSON'), ('Ruth', 'PERSON'), ('81', 'CARDINAL'), ('dozen', 'CARDINAL'), ('first', 'ORDINAL'), ('Dorr', 'PERSON'), ('Wilkerson', 'PERSON'), ('Everett', 'PERSON'), ('Ruth', 'PERSON'), ('Gallon', 'PERSON'), ('John', 'PERSON'), ('Tom Kane', 'PERSON'), ('one', 'CARDINAL'), ('Johns', 'PERSON'), ('81', 'CARDINAL'), ('John', 'PERSON'), ('two days', 'DATE'), ('Harry Wilkerson', 'PERSON'), ('Tom\\nGallon', 'PERSON'), ('Jean', 'PERSON'), ('millions', 'CARDINAL'), ('Drake', 'PERSON'), ('Kane', 'PERSON'), ('Dorr', 'PERSON'), ('Bever-\\nH..', 'GPE')]"
        ],
        [
         "11",
         "14_1915-10-28_p13_sn85059715_0029586994a_1915102801_0819",
         ".\nOF MERCHANTS,\nMANUFACTURE\nAND JOBBERs, CO.\nOPERATING WITH\nTHE TELEGRAM IN.\nTHE BUY IN\nCLARK S B U R G\nCAMPAIGN.\n\nLIST OF MERCHANTS",
         "The daily telegram. [volume] (Clarksburg, W. Va.) 1901-1926",
         "1915-10-28 00:00:00",
         "+Parsons-souders Co.\n.Sturm's Millinery.\nCIemm's Wall Paper Store.\nThe Genteel Shop.\nFarrelps Drug Store.\nPeoples Furniture Company.\nMerchants Sales Company.\nI. J:Lynch & Company.\nThe Bon Ton.\nBloch-Parrish TaoiIoring Co.\nThe Smart Shop.\nDonohue & Johnson.\nMartin Brothers.\n\n\nCIarksburg Storage & Auc. Co.\nSpears Shoe Company.\nr. D. Wilson Sons & Co.\no'NeaIe Printing Company.\nHighland Brothers & Gore.\nHall & Bradford.\nRady & Deem.\n\n\nModel Shoe Store.\nGrand Leader.\n\n\nStandard Garage.\nTire Shop.\n\n\nChas. H. Griffin.\n\n\nCorner Grocery.\n\n\nsnider Furniture Company.\nICottrill & Post.\n\n\nGill Brothers.\n\n\n]. Jacobs.\nEconomy Furniture Co.\nPalace Furniture and Piano Co.\nSouthern Pine Lumber Co.\nHayman Greenhouse Company\nRoberts Hardware Company.\nGeorge W. Riley.\n\n\nOscar [. Post.\n\n\nThe Apollo.\n\n\nBrowns.\n\n\nSturm's Dairy.\n\n\nsWitzer Bros.\n\n\nDeForest Millinery.\nGlobe Department Store.\nFrank Reda.\nWest Virginia Provision Co.",
         "[('Parsons-souders Co.', 'ORG'), (\"Sturm's Millinery\", 'ORG'), ('The Genteel Shop.', 'ORG'), ('Farrelps Drug Store', 'ORG'), ('Peoples Furniture Company', 'ORG'), ('Merchants Sales Company', 'ORG'), ('J:Lynch & Company', 'ORG'), ('The Bon Ton.\\nBloch-Parrish TaoiIoring Co.', 'ORG'), ('The Smart Shop.\\nDonohue & Johnson', 'ORG'), ('Martin Brothers', 'PERSON'), ('CIarksburg Storage & Auc. Co.\\nSpears Shoe Company', 'ORG'), ('D. Wilson Sons & Co.', 'ORG'), ('NeaIe Printing Company', 'ORG'), ('Highland Brothers & Gore', 'ORG'), ('Hall & Bradford', 'ORG'), ('Rady & Deem', 'ORG'), ('Model Shoe Store', 'ORG'), ('Tire Shop', 'ORG'), ('Chas', 'PERSON'), ('H. Griffin', 'PERSON'), ('Corner Grocery', 'ORG'), ('snider Furniture Company', 'ORG'), ('ICottrill & Post', 'ORG'), ('Gill Brothers', 'PERSON'), ('Jacobs', 'PERSON'), ('Economy Furniture Co.\\nPalace Furniture', 'ORG'), ('Piano Co.\\nSouthern Pine Lumber Co.', 'ORG'), ('Hayman Greenhouse Company\\nRoberts Hardware Company', 'ORG'), ('George W. Riley', 'PERSON'), ('Oscar', 'PERSON'), ('Apollo', 'PRODUCT'), ('Browns', 'ORG'), (\"Sturm's Dairy\", 'ORG'), ('Witzer Bros', 'ORG'), ('DeForest Millinery', 'ORG'), ('Globe Department', 'ORG'), ('Frank Reda', 'PERSON'), ('West Virginia Provision Co', 'ORG')]"
        ],
        [
         "12",
         "24_1915-07-22_p6_sn95068036_00279523659_1915072201_0182",
         "strawberry Sauce.",
         "Casco Bay breeze. [volume] (South Harpswell, Me.) 1901-1917",
         "1915-07-22 00:00:00",
         "Crush a large cupful Of strawberries\nand mix with half cupful of granu-\nlated sugar. Whip cupful of cream\ntill very stiff. Then stir the straw\nberries lightly into 1t.",
         "[('1t', 'CARDINAL')]"
        ],
        [
         "13",
         "20_1915-05-30_p18_sn83045433_00237288518_1915053001_0250",
         null,
         "The Washington herald.",
         "1915-05-30 00:00:00",
         "board reported successful year\nfinancially and otherwise. New MEM\nbers have been added and the So\nciety now numbers about 900 MEM\nbers The officers elected were as fol-\nlows:\n\n\nPresident. Mrs. Ella s. knight IRE\nelected); first vice president, Mrs.\nCharles P. Keyser: second vice presi-\ndent, Mrs. Sanford Taylor (re-elected);\nthird vice president, Mrs. r. r. Nc\nKhan (re-elected); fourth vice presi-\ndent, Miss Antoinette Cattna: record\ning secretary, Mrs. Emma Shelton:\ncorresponding secretary. Mrs s. W.\nMorris; treasurer. Mrs. Charles p.\nBrandfield (re-elected).",
         "[('year', 'DATE'), ('about 900', 'CARDINAL'), ('Ella', 'PERSON'), ('IRE', 'PERSON'), ('first', 'ORDINAL'), ('Charles P. Keyser', 'PERSON'), ('second', 'ORDINAL'), ('Sanford Taylor', 'PERSON'), ('third', 'ORDINAL'), ('r. r. Nc\\nKhan', 'PERSON'), ('fourth', 'ORDINAL'), ('Antoinette Cattna', 'PERSON'), ('Emma Shelton', 'PERSON'), ('s. W.\\nMorris', 'PERSON'), ('Charles', 'PERSON'), ('Brandfield', 'PERSON')]"
        ],
        [
         "14",
         "11_1915-10-13_p7_sn97067613_00202197346_1915101301_0760",
         "Horse Care.",
         "News and citizen. [volume] (Morrisville, Vt. ;) 1881-current",
         "1915-10-13 00:00:00",
         "Don't whip the horse if he is afraid.\nTalk gently to him. Don't forget his\nsalt. Don't put a rough. dirty bit in\nhis mouth, nor a frosty one. Don't\nhitch him in the cold unprotected by\nblankets, and hitch him so the wind\nwin not be in his face. Notice how\nhorses in a lot always turn tail to a\ncold wind. Give him enough to eat Of\ngood. wholesome food, and all the good\nwater he wants.",
         "[(\"Don't\", 'PERSON'), (\"Don't\", 'PERSON'), (\"Don't\", 'PERSON')]"
        ],
        [
         "15",
         "7_1915-09-24_p4_sn92053934_0029587255A_1915092401_0291",
         "The Daily Story\nRace Between Blown Horse and Sound Man By Chandler",
         "Rock Island Argus. (Rock Island, Ill.) 1893-1920",
         "1915-09-24 00:00:00",
         "7 run for the lines Of the aliiss\nboy about 10 years Old volunteara4 =.\nscour the country for a horse 10\nfound one that had been LETT in a ham\nby a soldier who had taken 4 be,,a-\n\n\none in its place The boy brougb, ~.\nhorse home, and, since there was bar\nness at hand, the animal was hjtobs4\n\n\nto the sleigh\n\n\nThe oldest daughter. whom thew RAIN\ned Elizabeth. was selected 90 drive tia\nAmerican eastward He doubled him.\nself up under the seat. and bfsnl.s.s\nWe're used to cover him When an ,,ss\nready the girl touched the horse yf.b\nthe whip and Ben left his hosts for.\nlowed by blessings as one coming from\nthe liberal land\n\n\nGerman troops were passed on tha\nroad, and had it not been that a n-ar-\nty girl was driving it is doubffat F.\nthe couple ia the sleigh would have\ngot very far Twice German s5fafars\ndebated whether or not they sh1uf4\ntake the horse, bat in the first case\nElizabeth kept them OFT bv smile\nand in the second it was decided that\nthe animal was not worth aDproDriaf-\ning\n\n\nBut after these two escapes thew\nencountered d third more serious An\npreaching a house. Elizabeth saw q\nman in the uniform OF a-uhlau leaving\n1t with the evident intent 30 interceDt\nher. She concluded that ha was la",
         "[('7', 'CARDINAL'), ('about 10 years Old volunteara4', 'DATE'), ('10', 'CARDINAL'), ('4', 'CARDINAL'), ('one', 'CARDINAL'), ('Elizabeth', 'PERSON'), ('90', 'CARDINAL'), ('American', 'NORP'), ('Ben', 'PERSON'), ('German', 'NORP'), ('German', 'NORP'), ('first', 'ORDINAL'), ('Elizabeth', 'PERSON'), ('second', 'ORDINAL'), ('two', 'CARDINAL'), ('third', 'ORDINAL'), ('Elizabeth', 'PERSON'), ('30', 'CARDINAL')]"
        ],
        [
         "16",
         "1_1915-06-23_p1_sn82014189_00279526004_1915062301_0283",
         "THE CHARITY\n\n THAT COUNTS",
         "The daily Alaskan.",
         "1915-06-23 00:00:00",
         "Mrs. Edward l. Wade, Mrs. \". R. HIlery, Mrs. E. J. Shaw and Mrs. II. J. Lynch met by appointment this morning and visited the Jandos home on Third street, back of the Golden North hotel, for the purpose of offering any assistance they could render to the afflicted woman, who is lying helpless from an at tack of paralysis, or to her hus- ban1 who is la attendance upon her\n\n They found no need of financial aid, put discovered ample room for help in other directions, and with the charity that Is akin to that taught by the parable of the Good SamarItany they looked after the wants of the sufferer, cen though sne vas Tot of their country nor uE th=ir religion.",
         "[('Edward l. Wade', 'PERSON'), ('R. HIlery', 'PERSON'), ('E. J. Shaw', 'PERSON'), ('II', 'PERSON'), ('J. Lynch', 'PERSON'), ('this morning', 'TIME'), ('Jandos', 'GPE'), ('Third street', 'FAC'), ('Golden North', 'LOC')]"
        ],
        [
         "17",
         "27_1915-07-21_p7_sn82014248_00513682827_1915072101_0207",
         "LYNN wins DOUBLE\nFROM F|TCHBuRG",
         "Daily Kennebec journal. [microfilm reel] (Augusta, Me.) 1870-1975",
         "1915-07-21 00:00:00",
         "Fitchburg. Mass. July a.-Lynn took\nboth games Of a double header from\nFitchburg today. to ! and to /. Fitch\nburg played loosely while Lynn hit at\nopportune times. Lynch's fielding was a\nfeature of both games. Scores:\n\n\nFirst game:\n\n\nFitchburg ..........o / 0 o 0 90 o OIL\nLynn ....2 0 - II\n\n\nObservation-Disclosures and CASTOR, Nc.\nCune. Umpire, White, Time, las\n\n\nSecond game:\n\n\nFitchburg ...........o o o 90 o.\nLynn ACKNOWLEDGEMENT 0 O 3 0 o5\n\n\nSeven innings by agreement\n\n\nBatteries-Press and McCune; McCabe\nand Haight. Umpire. White. Time, LIS.",
         "[('Fitchburg', 'ORG'), ('July', 'DATE'), ('Lynn', 'PERSON'), ('Fitchburg', 'GPE'), ('today', 'DATE'), ('Fitch', 'PERSON'), ('Lynn', 'PERSON'), (\"Lynch's\", 'PERSON'), ('First', 'ORDINAL'), ('CASTOR, Nc.\\nCune', 'ORG'), ('White', 'PERSON'), ('Time', 'ORG'), ('Second', 'ORDINAL'), ('Fitchburg', 'GPE'), ('Seven', 'CARDINAL'), ('Batteries-Press', 'ORG'), ('McCune', 'PERSON'), ('McCabe', 'PERSON'), ('Haight', 'PERSON')]"
        ],
        [
         "18",
         "45_1915-10-30_p8_sn85042354_00383343100_1915103001_0617",
         "NENCASTLESTUDENTS.\n\n\nWILL STUDY CIVICS.\n\nGovernment Names Miss\nCarrie Downie to Direct\n\n\nthe Work\n\nWORKMEN OVERCOME\n\n\nBY GAS IN TRENCH",
         "Evening journal.",
         "1915-10-30 00:00:00",
         "Special to THE EVENING JOURNAL.\n\n\nNEW CASTLE, Del. Oct. &c.\nThose In New Castle who are interest\ned in community civics will be de-\nlighted to know that Miss Carrie\nDownie has been appointed by Dr.\nArthur Dunn. of Washington. ID. C.,\nrepresentative of the Educational De\npartment there. TO be in charge OF the\nwork In New Castle. Miss Downie\nhas been teacher of the eifh grade\nhere for years but at all times civics\nwe're taught In different lessons\n\n\nIn the High School building last\nnight an enthusiastic meeting of the\nParent.Teacher Association was held\nThe community is aroused not only\nfor city pride but city government\nOF improved type In addition TO the\ntransaction of business n pleasing mu-\nsical program was presented Dr..\nCross. superintendent of the rural New\nCastle county schools was present\nand gave words of ENCOURAGEMENT to\nthe members Of the association.\nEvery parent and other person in the\ncity who takes an interest in New\nCastle are invited to belong to the\nassociation.\n\n\nMiss Mary Wright, daughter OF Dr.\nand Mrs. James J. Wright, was given\nsurprise masquerade party last even\ning A number of young friends from\nWilmington we're 'among those pres\nent An enjoyable evening was spent\nand refreshments We're servd. Those\npresent were Anna Gallagher, Maria\nCannon, Lizzie Smith, Helen Morri-\nson. Sarah sheayer, Teresa Landers,\nAlice Toner. Mary Toner, Elizabeth\nHushabech. Adella McDonough, Eliza\nbeth Carlin, Mary Freebury, Martha\nHarrington, Maude Perrem. Anna To-\nbin. Cecelie Gallagher, Mary Wright,\nMary Neher, Andrew Toman, Edward\nHushebeck, Thomas Comerford, Frank\nMaher. Albert Schuchardt. Ruben\nKelley. Joseph Shearer, Paul Sheridan,\nEugene Sheridan, James Freebury,\nJohn Gallagher.\n\n\nThe following committees will be In\ncharge of the \"Jitney Supper\" in the\nparish house on next Wednesday\nevening.\n\n\nCoffee--Mrs. Gemmil and Mrs. VII\n\n\nliam B See.\n\n\nChicken bullion = Mrs. John r\nLambson.\n\n\nMeats The Misses Newlove an,\n\n\nMiss Mary Shaw.\n\n\nSalads-Mrs. Cavenaugh. Miss Rebi\nHolcomb and Mrs. Lightner and Miss\nFlorrie Case.\n\n\nChicken salad II Mrs. A. \" l.\n| George.\n\n\nBread and rolls-Mrs. Theodore w\nHanf, Mrs. Peter G. Madden, Mrs\nHarry Smith and Mrs Mccain.\n\n\nIce cream-Mrs. Jacob Spiecher and\nMiss Lizzie KINNEY.\n\n\nNew Castle has had whole week\nOf religious, work when the congroga-\nton of the Methodist church cele-\nbrated, the 95th anniversary Of the\nchurch. The celebration will close\ntomorrow night\n\n\nThe Hon William II. Berry. collec-\ntor of customs of Philadelphia, Will\naddress the NJ E. Sunday school to-\nmorrow afternoon. The speaker to-\nmorrow evening will be the Rev Lyn\nboWman, ID. d., pastor Of Spring Gar\nden Nj. r. Church. Philadelphia.\n\n\nJames b. Lancaster. superintendent\nOF the New Castle Gas Light Com\npany' was overcome by gas shortly\nbefore noon yesterday. and is still\n\n\nconfined to his home He and Josenh\nhood colored. bad gone into a trench\ny Wnere gas pipe in front OF the lame,\n\n\n- hacon residence, on South Fiftf\n8 street was leaking. After a shor\n\n\ntime both men felt the effects of IN,\nq sas' and Hood was directed IN co\n: out OF the trench As Hood crau,lo,\nn 70 the street he saw Superintendon\nM lancaster keel over in the trencI\n10 nooo called for help and he and an\noS ule\" Mitchell pulled the man fro,\nOF .ne trench and removed him IN n\nIS nome' where local physicians wori,,\na. on him for hours. WI ~\n\"a In social circles numerou. ,,.\n81 querade parties have been nianne\n30 Many Young people from here will ,\nIII 10 delaware City this afternoon n,\n\"a stay Tor the masquerade ball tonigl\nSc Inc Good VIII Fire Company OF m\n\"a place VIII give masquerade hall\nn the Opera House on Monday nisl\n\"a The volunteers are always ready\n\n\nrespond 10 a call for help either a\n\n\nor night and the company needs sor\n~. financial aid. There is a splend\ny, chance now TO recognize the volunte\n- hremen. The Opera House should\n~ crowded\n\n\na Sheldon Leary. the colored messe\ny ger, who carries the mail to and frc\nthe railroad station. tripped over\nT. rope yesterday and injured his leg.\n\n\nPostmaster John p. Murphy h\nposted the following list OF unclaim\ny letters Ella Axelson. W. r. All,\n= John Corbett. Walter Davis. MI\ny Gaetuma Gavitt, William G. Harri\n, Tony House. Mrs Clayton Peters. Mi\n!. Ada r. Robinson Harry Shillin\np, Robert Wilson.\n\n\n- John Lynch OF Christiana. had h\n. foot injured at the Bethlehem plant\n\n\nEvangelistic services will begin ]\n\n\nthe First Baptist Church tomorro\n\n\nevening.\n\n\nI, The grading OF the ground Of IL",
         "[('NEW CASTLE', 'GPE'), ('Del.', 'GPE'), ('Oct. &c.', 'DATE'), ('New Castle', 'FAC'), ('Carrie\\nDownie', 'PERSON'), ('Arthur Dunn.', 'PERSON'), ('Washington', 'GPE'), ('Educational De', 'ORG'), ('New Castle', 'FAC'), ('Downie', 'PERSON'), ('years', 'DATE'), ('the High School', 'FAC'), ('last\\nnight', 'TIME'), ('Parent', 'ORG'), ('Teacher Association', 'ORG'), ('New\\nCastle', 'GPE'), ('New\\nCastle', 'FAC'), ('Mary Wright', 'PERSON'), ('OF Dr.', 'PERSON'), ('James J. Wright', 'PERSON'), ('Wilmington', 'GPE'), ('Anna Gallagher', 'PERSON'), ('Maria\\nCannon', 'PERSON'), ('Lizzie Smith', 'PERSON'), ('Helen Morri-\\nson', 'PERSON'), ('Sarah sheayer', 'PERSON'), ('Teresa Landers', 'PERSON'), ('Alice Toner', 'PERSON'), ('Mary Toner', 'PERSON'), ('Elizabeth\\nHushabech', 'PERSON'), ('Adella McDonough', 'PERSON'), ('Eliza\\nbeth Carlin', 'PERSON'), ('Mary Freebury', 'PERSON'), ('Martha\\nHarrington', 'PERSON'), ('Maude Perrem', 'PERSON'), ('Anna To-\\nbin', 'PERSON'), ('Cecelie Gallagher', 'PERSON'), ('Mary Wright', 'PERSON'), ('Mary Neher', 'PERSON'), ('Andrew Toman', 'PERSON'), ('Edward\\nHushebeck', 'PERSON'), ('Thomas Comerford', 'PERSON'), ('Frank\\nMaher.', 'PERSON'), ('Albert Schuchardt', 'PERSON'), ('Ruben\\nKelley', 'PERSON'), ('Joseph Shearer', 'PERSON'), ('Paul Sheridan', 'PERSON'), ('Eugene Sheridan', 'PERSON'), ('James Freebury', 'PERSON'), ('John Gallagher', 'PERSON'), ('the \"Jitney Supper\"', 'WORK_OF_ART'), ('next Wednesday\\nevening', 'TIME'), ('Gemmil', 'PERSON'), ('VII', 'PERSON'), ('John r\\nLambson', 'PERSON'), ('Mary Shaw', 'PERSON'), ('Cavenaugh', 'PERSON'), ('Rebi\\nHolcomb', 'PERSON'), ('Lightner', 'PERSON'), ('Florrie Case', 'PERSON'), ('A. \" l.\\n| George', 'PERSON'), ('Theodore w\\nHanf', 'PERSON'), ('Peter G. Madden', 'PERSON'), ('Harry Smith', 'PERSON'), ('Mccain', 'PERSON'), ('Jacob Spiecher', 'PERSON'), ('Lizzie KINNEY', 'PERSON'), ('New Castle', 'FAC'), ('Methodist', 'NORP'), ('95th', 'ORDINAL'), ('tomorrow night', 'TIME'), ('The Hon William II', 'PERSON'), ('Berry', 'PERSON'), ('Philadelphia', 'GPE'), ('NJ', 'GPE'), ('Sunday', 'DATE'), ('evening', 'TIME'), ('Rev Lyn\\nboWman', 'PERSON'), ('Spring Gar\\nden Nj. r. Church', 'ORG'), ('Philadelphia', 'GPE'), ('James b. Lancaster.', 'PERSON'), ('noon yesterday', 'TIME'), ('South Fiftf\\n8 street', 'FAC'), ('Hood', 'PERSON'), ('70', 'CARDINAL'), ('Superintendon\\nM lancaster', 'FAC'), ('Mitchell', 'PERSON'), ('81', 'CARDINAL'), ('30', 'CARDINAL'), ('10', 'CARDINAL'), ('Sc Inc', 'ORG'), ('the Opera House', 'FAC'), ('Monday', 'DATE'), ('10', 'CARDINAL'), ('night', 'TIME'), ('The Opera House', 'ORG'), ('a Sheldon Leary', 'PERSON'), ('yesterday', 'DATE'), ('John p. Murphy', 'PERSON'), ('Ella Axelson', 'PERSON'), ('W. r. All', 'PERSON'), ('John Corbett', 'PERSON'), ('Walter Davis', 'PERSON'), ('MI\\ny Gaetuma Gavitt', 'PERSON'), ('William G. Harri', 'PERSON'), ('Tony House', 'PERSON'), ('Clayton Peters', 'PERSON'), ('Ada r. Robinson', 'PERSON'), ('Harry Shillin', 'PERSON'), ('Robert Wilson', 'PERSON'), ('John Lynch OF Christiana', 'PERSON'), ('Bethlehem', 'GPE'), ('the First Baptist Church', 'ORG'), ('evening', 'TIME')]"
        ],
        [
         "19",
         "5_1915-09-10_p7_sn86091188_00295869148_1915091001_0386",
         "LEMHI LOCALS.",
         "The Idaho recorder. [volume] (Salmon City, Idaho) 1886-1927",
         "1915-09-10 00:00:00",
         "by MISS ueoFgia =, h0lgabe,\n\n\nHarvesting has begun In tins local\nity and generally crops Me reported\nto be We y good.\n\n\nThe Misses Florence Pyeatt and\nAlice Dunn were weekend visitors\nat the Mulkey home at Tendoy. They\nalso attended the dance Friday night\nat the Lynch home while 10 that VI\ncinitY.\n\n\nThoa as Yearian and his guests,\nCaptain Macnab OF Seattle and DIR.\nSyms OF New York CItv are enjoying\nhunting and fishing on Middle Fork.\nThey expect to be gone until about\nOctober LIST.\n\n\nMrs Ernest Benson returned 70\nSalmon Monday after visiting for the\np st week at the home OF ner pa.\nrents, M. and Mrs. Scion Tobias.\n\n\nII. II. Hasemann, Of salmon, ~ss\nguest at tie ]. d. HoIgate home\nfor a fea DAYS last week.\n\n\nTIE dance given at the Agency\nschool house August 27th was largely\nattended, people from Tendoy an'\nLeadore being In attendance also.\n\n\nRussell Yearian has returned hoT'\nfrom Dillon where he attended ~\nfair for a few days last week.\n\n\nMr.. aud Mrs. j. %. Holgate an\ndaughter Flda were Salmon glsitoI\nTor few days last week.",
         "[('The Misses Florence Pyeatt', 'PERSON'), ('Alice Dunn', 'PERSON'), ('weekend', 'DATE'), ('Mulkey', 'PERSON'), ('Tendoy', 'GPE'), ('Friday night', 'TIME'), ('Lynch', 'PERSON'), ('10', 'CARDINAL'), ('Thoa', 'PERSON'), ('Yearian', 'PERSON'), ('Captain Macnab', 'PERSON'), ('Seattle', 'GPE'), ('DIR', 'ORG'), ('New York CItv', 'ORG'), ('Middle Fork', 'LOC'), ('October', 'DATE'), ('Ernest Benson', 'PERSON'), ('70\\nSalmon Monday', 'DATE'), ('the\\np st week', 'DATE'), ('M.', 'PERSON'), ('Scion Tobias', 'PERSON'), ('HoIgate', 'PERSON'), ('a fea DAYS last week', 'DATE'), ('Agency', 'ORG'), ('August 27th', 'DATE'), ('Tendoy', 'GPE'), ('Leadore', 'GPE'), ('Russell Yearian', 'PERSON'), ('Dillon', 'PERSON'), ('a few days last week', 'DATE'), ('Holgate', 'PERSON'), ('Flda', 'PERSON'), ('last week', 'DATE')]"
        ],
        [
         "20",
         "7_1915-11-20_p8_sn83016348_00415625443_1915112001_0372",
         null,
         "The Cecil Whig.",
         "1915-11-20 00:00:00",
         "The Ladies' Missionary Meeting of West\nNottingham Church met with Misses Maxwell\nnear Principle, on Thursday Topics were\nLatin America. Mrs. Ollie Lynch Mcxicans\nin the L. S, Mrs. James Maxwell.\n\n\nMrs, Charles 5, Pyle spent last Monday and\nTuesday with Mrs. II. Linn Worthington and\nsister, Miss Hannah NJ. Kirk, Howard Park.\n\n\nThe Worlds Temperance Sunday was oh\nserved in the Rising Sun Sunday school last\nSunday morning, when special program was\nprepared.\n\n\nMiss Sarah Kirk was the guest of Mrs. Am\nbrpse Drenncn in Philadelphia the past week\n\n\nMr. Norman Pyle visited his sister, Mrs\nWalter Alvord, in Moore. Pa, this week.\n\n\nThe ladies of West Nottingham Presbyter-\nian Church held their annual oyster supper in\nthe chapel on Friday night. from 3 o'clock\nuntil o'clock, and was decided success Tho\nentertainment given by home talent in the",
         "[(\"The Ladies' Missionary Meeting\", 'EVENT'), ('West\\nNottingham Church', 'ORG'), ('Misses Maxwell', 'PERSON'), ('Thursday', 'DATE'), ('Latin America', 'LOC'), ('Ollie Lynch Mcxicans', 'PERSON'), ('the L. S', 'PERSON'), ('James Maxwell', 'PERSON'), ('Charles 5', 'PERSON'), ('Pyle', 'PERSON'), ('last Monday', 'DATE'), ('Tuesday', 'DATE'), ('II', 'PERSON'), ('Linn Worthington', 'PERSON'), ('Hannah NJ. Kirk', 'PERSON'), ('Howard Park', 'GPE'), ('The Worlds Temperance', 'EVENT'), ('Sunday', 'DATE'), ('the Rising Sun', 'EVENT'), ('Sunday', 'DATE'), ('last\\nSunday', 'DATE'), ('Sarah Kirk', 'PERSON'), ('Am\\nbrpse Drenncn', 'PERSON'), ('Philadelphia', 'GPE'), ('the past week', 'DATE'), ('Norman Pyle', 'PERSON'), ('Walter Alvord', 'PERSON'), ('Moore', 'PERSON'), ('this week', 'DATE'), ('West Nottingham Presbyter-\\nian Church', 'ORG'), ('Friday night', 'TIME'), (\"3 o'clock\\nuntil o'clock\", 'TIME')]"
        ],
        [
         "21",
         "11_1915-12-29_p6_sn85042344_0020029502A_1915122901_0617",
         "\\ Difficulty Overlooked.",
         "Tulsa daily world. [volume] (Tulsa, Indian Territory [Okla.]) 1905-1919",
         "1915-12-29 00:00:00",
         "A Scotchman was riding a donkey\none day across a sheep pasture, but\nwhen the animal came to an open\ndrain he would not go over SO the\nman rode back a short distance, turned\nand applied the whip, thinking, OF\ncourse that the donkey when at top\nspeod would jump the drain. But\nwhen the donkey got TO the drain he\nstoned sharply, and the man went\nover his head and cleared the drain.\nNo sooner had he touched the ground\nthan he got up. ard, looking the beast\nstraight In the face. said:\n\n\nVera weel pitched. hut, then, hoo\nare ye to get over yersel Normal\nInstructor.",
         "[('Scotchman', 'PERSON'), ('Vera', 'PERSON')]"
        ],
        [
         "22",
         "31_1915-01-17_p68_sn83045462_00280658601_1915011701_0219",
         null,
         "Evening star.",
         "1915-01-17 00:00:00",
         "A society circus, staged In a New\nYork hotel ballroom, made money, and\n\n\ngave heaps of\nSociety Circus Was pleasure to the\n\n\nHuge Success. thsir m 1 friends ns\nThursday last. The proceeds went to\nsettlement house.\n\n\nThere were three performances dur\ning the day-a matinee at o'clock\nfor the children, a second at o'clock\nand a third performance at IL o'clock, the\ntwo latter for the grown-ups. There was\ndancing after the performance at night,\nwhich placed the function under the cate\nCORY of a circus ball. Scores of people\nwere turned away at the night session.\n\n\nAt midnight the scene under the can\nvas tent was a dazzling spectacle, with\nsociety, bejeweled, in the boxes and\npacked in the elevated tiers of seats,\nthe ringmasters in their scarlet coats,\nthe attendants in sapphire blue uniforms\nand powdered wigs, real circus band,\ncrashing out lively airs, while fair\nequestriennes, in gauzy petticoats and the\nglitter of ornaments. jumped through\npaper hoops. The atmosphere Of the\ncircus was complete, even to the swapping\nof the ringmasters whip, the loud jokes\nand outlaws of the clowns, and the voice\nOf pink lemonade and peanut venders,\nmingling with the call of the inevitable\nbarker\"\n\n\nThe first suggestion of the surprise in\nstore was when the guests stepped from\nthe elevators on the third floor, where\ncircus posters, in flaming colors, covered\nthe walls of the corridor. The approach\nto the circus tent was made under a can\nvas awning The large bathrooms trans",
         "[('New\\nYork', 'GPE'), ('1', 'CARDINAL'), ('Thursday last', 'DATE'), ('three', 'CARDINAL'), ('second', 'ORDINAL'), ('third', 'ORDINAL'), ('two', 'CARDINAL'), ('CORY', 'PERSON'), ('midnight', 'TIME'), ('first', 'ORDINAL'), ('third', 'ORDINAL')]"
        ],
        [
         "23",
         "60_1915-06-24_p8_sn88084272_0028076534A_1915062401_0683",
         null,
         "El Paso herald. (El Paso, Tex.) 1901-1931",
         "1915-06-24 00:00:00",
         "The home valleys united can whip\nthe world.",
         "[]"
        ],
        [
         "24",
         "8_1915-09-06_p9_sn86092536_00414186385_1915090601_0789",
         "fhACT1cALLY ALL HORSES Anr\nNOW CHARTERED ON PAn\n\n\nGROUNDS.\n\nFive Running Races vm Ne Staged\nThis Afternoon-Hope Track WIN\n\n\nNe In Good Condition.",
         "The Wheeling intelligencer. [volume] (Wheeling, W. Va.) 1903-1961",
         "1915-09-06 00:00:00",
         "Eieventh-hour activity was manifest\ned In the racing stables al the fair\ngrounds yesterday and last night. With\n~ ~ eNSsPuons. all the horses had ar\nrived by o'clock last evening. and the\nMork OF arranging the stable space was\nu uhaer way With Col Bob Anderson m\n\n\nThe only notable delay Was ,hs f.t,-\nnre OF the carload OF entries for the run-\nnlng races today 20 arrive yesterday az\nSSSIno9h, me horse1 we're held up at\n\" heeilne Junction, and were not ex-\npected IN until this morning. There was\nno Tear, however. that the horses would\nnot De ready for the special running\n\n\nEntries FOR today's Program win MOI\nclose until Just before the first race. and\nonly speculation yesterday could saw\nwhat horses would run. These first 49,\nraces are an innovation this wear -\nformer fairs have held racing programs\nbeginning the second afternoon.\n\n\nWith all entries known I'M the har-\nness races OF Tuesday, Wednesday\nthursday and Friday afternoon the\noookies. who are arriving with their\ntouts, are getting busy IL is expected\nthat there will be little betting on THIS\nsaseIn o races but the big rOlls viii\ning for the next days harness races Is\nmade The picking Of favOrites mas. o.\ne course; already been done BY the wise\ntiers step up to the boobies with their\nrolls.\n\n\n\n\n\nJudges Of the best have been soiecfed\nTOT the weeks program. Charles Say\nviii preside, and will have the final\nEora IN any disputes that may come Up.\nFfeo a. Upton will act as Starting\nJudge and Charles Fay will be the de-\nSidlng Judge Associate Judges will be\nS,itsMtord ., Booth and A. r. Lynch Of\n\n\nAlthough no kind OF weather viii .top\nne races there Is much fear that the\nthreatening bad weather OF Sunday Will\nspoil the track. This year much labor\nana money have been spent on this track.\nand IN its condition Of last Thursday\nand Friday IL was easily one Of fhs\nfastest In the country. The general ex-\npreston among racing bugs here is that.\nunless rain interfcres, some local rec\notus viii be broken. State fair off\nGals are anxious to show the speed\no. thls track, which has been graded\nweather for the week\n\n\nToday's Running Program\n\n\nThe running races Of this afternoon\nFIRST race will be s furionEs for wear\nOdds and upwards. for n purse OF 400.\n\n\nThe second race will be az furlonra.\nTOT All ages. Purse $500.\n\n\nThe third race will be / mile West\nirsinia Deroy,@ for year olds and up\n\n\nThe fourth race will be 81 furionrs.\nwheeling Handicap\" for ysor olds\nana upwards. Purse $500.\n\n\nThe firth race Will be 3 furlonea. fer\nSeear olds and upwards. for q purse Of\n\n\non the folioWing days the races viii\nstart promptly 81 100 o'clock and viii\nne run rain or shine. In addition 10 the\nharneas racing, one running race will be\npulled off each day.",
         "[('yesterday', 'DATE'), ('last night', 'TIME'), ('last evening', 'TIME'), ('Mork', 'PERSON'), ('Bob Anderson', 'PERSON'), ('today 20', 'DATE'), ('heeilne Junction', 'FAC'), ('MOI', 'ORG'), ('first', 'ORDINAL'), ('yesterday', 'DATE'), ('first', 'ORDINAL'), ('49', 'CARDINAL'), ('the second afternoon', 'TIME'), (\"I'M the har-\\nness\", 'WORK_OF_ART'), ('Tuesday', 'DATE'), ('Wednesday', 'DATE'), ('thursday', 'DATE'), ('Friday afternoon', 'TIME'), ('IL', 'ORG'), ('the next days', 'DATE'), ('the weeks', 'DATE'), ('Charles Say', 'PERSON'), ('Eora', 'PERSON'), ('Ffeo', 'PERSON'), ('Upton', 'PERSON'), ('Charles Fay', 'PERSON'), ('Booth', 'PERSON'), ('A. r. Lynch', 'PERSON'), ('Sunday', 'DATE'), ('This year', 'DATE'), ('last Thursday', 'DATE'), ('Friday', 'DATE'), ('one', 'CARDINAL'), ('400', 'CARDINAL'), ('second', 'ORDINAL'), ('500', 'MONEY'), ('third', 'ORDINAL'), ('West\\nirsinia Deroy', 'FAC'), ('year olds', 'DATE'), ('fourth', 'ORDINAL'), ('81', 'CARDINAL'), ('500', 'MONEY'), ('3', 'CARDINAL'), ('the folioWing days', 'DATE'), (\"81 100 o'clock\", 'QUANTITY'), ('10', 'CARDINAL'), ('one', 'CARDINAL')]"
        ],
        [
         "25",
         "9_1915-07-09_p10_sn86063579_00280774406_1915070901_0725",
         "FOUND",
         "Deming graphic. (Deming, N.M.) 1903-1948",
         "1915-07-09 00:00:00",
         "FOUND-One fountain pen. Owner\ncan have same by paying for this ad\naud describing it. J. b. Williams. ~\nFOUND Whip. Owner may have\nsame BY describing il and paying for\nthis ad. -",
         "[('One', 'CARDINAL'), ('J. b. Williams', 'PERSON')]"
        ],
        [
         "26",
         "39_1915-02-11_p3_sn82014519_0041418358A_1915021101_0462",
         null,
         "New Britain herald.",
         "1915-02-11 00:00:00",
         "\n\n The Dramatics to be given in Fur ner hall Feb. 19 bid fair to be & great success. No effort has been spared 10 insure satisfactory returns and the program is an attractive one. Follow ing the play there will be dancing, music by Lynch's orchestra, refresh Inents will be on sale and homemade candy will be a delightful feature. Tickets may be purchased of mem- bers or at the door.\n\n Of the later events to follow an af- ternoon whist is planned but no def mate date has as yet been named. Come to the next meeting to be held on Feb. 6 and bring a friend.\n\n A cordial invitation has been extend- ed to our local branch of Sunshine to attend the Hartford International eel ebration to be held at Jewel hall, Y. M c. A. building, Feb. 5 at eight o'clock. It will consist of vocal and instrumental music. Ned Webster, the Sunshine elocutionist and Mrs. Alden as special guests During the evening moving pictures of the work of the Blind Babies home will be given and a most enjoyable time Is planned. Those desiring to attend will leave for Hart ford on the 7:22 dinky.\n\n ",
         "[('Feb. 19', 'DATE'), ('10', 'CARDINAL'), (\"Lynch's\", 'ORG'), ('Feb. 6', 'DATE'), ('Sunshine', 'GPE'), ('the Hartford International eel ebration', 'EVENT'), ('Jewel hall', 'FAC'), ('Y. M c. A.', 'FAC'), ('Feb. 5', 'DATE'), (\"eight o'clock\", 'TIME'), ('Ned Webster', 'PERSON'), ('Sunshine', 'ORG'), ('Alden', 'PERSON'), ('Hart ford', 'PERSON')]"
        ],
        [
         "27",
         "11_1915-12-06_p5_sn88084272_00280765363_1915120601_0038",
         "Ago Today",
         "El Paso herald. (El Paso, Tex.) 1901-1931",
         "1915-12-06 00:00:00",
         "There is considerable talk Of put\nting up a grain elevator and Touring\nmill in FL PasO. Most of the business\nmen Of the city think it is not time\nfor IT Vet, and many say that it might\npay When wheat is grown in Ell\nPaso valleys viii be the time. every\nbody knows.\n\n\nIl. F. Bennett is recovering from his\nserious illness.\n\n\nEd L Alillicon is recovering from\nan attack of appendicitis.\n\n\nMrs Z. 3. Clardy has returned from\nvisit 10 St Louis and other Missouri\npoints\n\n\nPueblo. Colo, will make Ell Paso their\nhome\n\n\nRichard Caples is entertaining his\nBoston nephew, J. H Lynch. who says\nhe may locate here.\n\n\nDIT. Lindsay. who has been absent\nfrom FL Paso for the past three months",
         "[('FL PasO', 'GPE'), ('Ell\\nPaso', 'LOC'), ('Il. F. Bennett', 'PERSON'), ('Ed L Alillicon', 'PERSON'), ('Z. 3. Clardy', 'PERSON'), ('10', 'CARDINAL'), ('St Louis', 'GPE'), ('Missouri', 'GPE'), ('Pueblo', 'GPE'), ('Colo', 'GPE'), ('Ell Paso', 'GPE'), ('Richard Caples', 'PERSON'), ('Boston', 'GPE'), ('J. H Lynch', 'PERSON'), ('Lindsay', 'PERSON'), ('FL Paso', 'GPE'), ('the past three months', 'DATE')]"
        ],
        [
         "28",
         "17_1915-09-16_p1_sn89058133_00415621310_1915091601_0429",
         "\" NJ EiltTFT'f \"\n\n\nHAvlLAND, .kANe.",
         "Putnam County herald. (Cookeville, Tenn.) 1903-1922",
         "1915-09-16 00:00:00",
         "Wheat harvesting seems 70 be the\norder Of the day and corn looks hne\nin this section.\n\n\nAlya Davis has been seen carrying\na parasol since he had his hair CLIP\nped. y nFoA\n\n\nAlya Davis and Reuben Nicholas\nfrom Texas will work through the\nharvest with Johnnie Hunter,\n\n\nMrs. Joe Gipson has an awful high\nTennessee fever and thinks the only\nthing that will do her any good will be\ntrip to dear old Tennessee.\n\n\nQuite number of friends visited\nJohnnie Hunter Sunday, among them\nbeing Mr.. and Mrs. George Hitchcock.\nand niece, Ruth; Mr.. and Mrs. Sam\nwilliams and family; Joe Gipson ana\nwife; Benton williams and wife; Mr..\nand Mrs Roe Williams and family;\nMessrs. John Burgess, Gland Howell,\nBruce Hitchcock and Erastus McCaleb\n,Claud Howell says he don't know\nwhich is, the most use in batchine,\nthe broom or dishrag. tof\n\n\nReuben Nicholas likes Kansas fine,\nbut says he would be lots better ss.is-\nfed If Mr.. VIII Glaze Of Texas, lived\nin Kansas. a \"a\nAmanda williams says II is shame\nthat Claud Howell can't and cook.\n\n\nJohnnie Hunter and family went to-\nHaviland Saturday and on their return\nwere caught in an electric storm, with.\nquite lot of rain.\n\n\nBeecher Williams says he likes ali\nkinds Of work, but likes mining best\n\n\nBenton Williams and wife went to\ntheir neighbor's cellar from . storm\nand the neighbor found them three\ndays later still in his cellar and says\nhis fruit cans were all empty.\nii Sam Williams has purchased q new\nMaxwell car.\n\n\nBillie Williams and Miss Sidney\nDye made flying trip to Pratt, Sat 4\nurday.\n\n\nErastus McCaleb says he had rath-\ner live in Montana than to run car.\n\n\nBillie Williams says he is ready to\nDye most any time. Il\n\n\nCome on you writer Of Lynch, Ne\nbraska, your letters are good: also\nMrs. Mollie Dahuff, your letters are\nnne. Come on all you writer's OF\ndear old Putnam county, especially\nRoute No. 2 and s.\n\n\nReuben Nicholas and Amanda VII\niams says 1t sure did rain last Satur~\nlay night as they came home from\naaviland.\n\n\nRoe Williams says he would like\no haul just one more load Of stove\nwood to Cookeville.\n\n\n. Haskell Williams says he had rather\nlear his Bee hum any time than TO\near the common old honey bee.\n\n\nAlva Davis and Beecher Williams 4\naz they like all kinds Of meat but\nIke Bacon best Of all.\n\n\nHurrah for the all-day singings and\nbe Sunday decorations.\n\n\nPete And Polly.\n\n\nAZ 4.t . !. S. u 4.sai-",
         "[('70', 'CARDINAL'), ('Alya Davis', 'PERSON'), ('Alya Davis', 'PERSON'), ('Reuben Nicholas', 'PERSON'), ('Texas', 'GPE'), ('Johnnie Hunter', 'PERSON'), ('Joe Gipson', 'PERSON'), ('Tennessee', 'GPE'), ('Tennessee', 'GPE'), ('Johnnie Hunter', 'PERSON'), ('Sunday', 'DATE'), ('George Hitchcock', 'PERSON'), ('Ruth', 'PERSON'), ('Sam', 'PERSON'), ('Joe Gipson', 'PERSON'), ('Benton', 'PERSON'), ('Roe Williams', 'PERSON'), ('John Burgess', 'PERSON'), ('Gland Howell', 'PERSON'), ('Bruce Hitchcock', 'PERSON'), ('Erastus McCaleb', 'PERSON'), ('Claud Howell', 'PERSON'), ('Reuben Nicholas', 'PERSON'), ('Kansas', 'GPE'), ('Texas', 'GPE'), ('Kansas', 'GPE'), ('Amanda', 'PERSON'), ('Claud Howell', 'PERSON'), ('Johnnie Hunter', 'PERSON'), ('Saturday', 'DATE'), ('Beecher Williams', 'PERSON'), ('Benton Williams', 'PERSON'), ('three\\ndays later', 'DATE'), ('Sam Williams', 'PERSON'), ('Maxwell', 'PRODUCT'), ('Billie Williams', 'PERSON'), ('Sidney\\nDye', 'PERSON'), ('Pratt', 'GPE'), ('Sat 4\\nurday', 'DATE'), ('Erastus McCaleb', 'PERSON'), ('Montana', 'GPE'), ('Billie Williams', 'PERSON'), ('Lynch', 'PERSON'), ('Mollie Dahuff', 'PERSON'), ('Putnam county', 'GPE'), ('Route No. 2', 'FAC'), ('Reuben Nicholas', 'PERSON'), ('Amanda VII', 'PERSON'), ('Roe Williams', 'PERSON'), ('one', 'CARDINAL'), ('Cookeville', 'GPE'), ('Haskell Williams', 'PERSON'), ('Alva Davis', 'PERSON'), ('Beecher Williams 4\\naz', 'PERSON'), ('Ike Bacon', 'PERSON'), ('Sunday', 'DATE'), ('Pete And Polly', 'PERSON')]"
        ],
        [
         "29",
         "13_1915-01-26_p5_sn85059715_0041566090a_1915012601_0394",
         null,
         "The daily telegram. [volume] (Clarksburg, W. Va.) 1901-1926",
         "1915-01-26 00:00:00",
         "Girls held a business meeting Nlonday\nafternoon and the members present\nWe're Winifred Lynch. Adelide Stew\nart, Mary Reynolds, Hattie Watkins,\nGenevieve Allen Adelaide Coleman,\n\n\nMarion Schwartz, June Flowrs, Kath-\nryn Primm, Jimmie Lee and Merritt\nNutter. as. Z.",
         "[('Nlonday\\nafternoon', 'TIME'), (\"We're Winifred Lynch\", 'PERSON'), ('Adelide Stew', 'PERSON'), ('Mary Reynolds', 'PERSON'), ('Hattie Watkins', 'PERSON'), ('Genevieve Allen', 'PERSON'), ('Adelaide Coleman', 'PERSON'), ('Marion Schwartz', 'PERSON'), ('June Flowrs', 'PERSON'), ('Kath-\\nryn Primm', 'PERSON'), ('Jimmie Lee', 'PERSON'), ('Merritt\\nNutter.', 'PERSON')]"
        ],
        [
         "30",
         "15_1915-08-17_p8_sn85038411_00296028162_1915081701_0522",
         null,
         "Harrisburg telegraph. [volume] (Harrisburg, Pa.) 1879-1948",
         "1915-08-17 00:00:00",
         "with the names of all of the\n- counciimeH, public officials and\nprivate citizens VINO as officers of i'm\nprovement associations, the Civic Club\nand others have contributed in any\nway to the success of the Harrisburg\npublic improvement campaign begun\nby this newspaper in 1901. This is\nthe first time that credit has been\ngiven in this way to the men and\nwomen who labored so Rng and earn\nestly for the success of Ine enterprise.\nAmong them must be mentioned the\nname of Charles S. Saunders, who\nmade the original sketches for the\nriver wall and the other improvements\nwhich were published in the Tele-\ngraph at the time. The names in full\nfollow:\n\n\nCity Officials\n\n\nMayors-John A. Fritchey, 1899\n1902: Vance c. Mccormick, 1s02-1905;\nEdward z. Gross, 1905-19OS; Ezra S.\nMeals, 19OS-1911; John K. Royal,\n1911-1916.\n\n\nCity Treasurers. - John X Royal,\n1S99-1904; William H. Middleton,\n19O4-1sO5; owen NJ. Copelin, 1906\n1915.\n\n\nCity Solicitor.-DanielS S. Seitz.\n\n\nCity Clerk-Charles A. Miller.\n\n\nCity Engineer-Matthew B. Cowden.\n\n\nII.\n\n\nHighway Commissioners - George\nB. Sucker, 1S99-1901; Thomas T.\nWierman, 1902; Charles b. McConkey,\n1908: ]. Austin Brandt, 1903-1905;\nWilliam H. Lynch. 1905-19OS: William\nw. Caldwell 19OS-1911: Elmer f.\nFritchey, 1912-1913.\n\n\nsuperintendent of Streets and Public\nImprovements. William II. Lynch,\n1913-1916.\n\n\nBoard of Public Works-1902-1906:\nSpencer c. Gilbert, A. Carson Stamm.\nWilliam L. Gorgas; 1906-1910-Wn-\nliam Jennings. A. Carson Stamm, Gre\nsigned 1900, David E. Tracy, Edwin\nc: Thompson, (elected to MI vacancy\n191O-1915 - William jennings Gre\nsigned), David E. Tracy treslgned)\nEdwin c. Thompson (resigned), j.\nWilliam Bowman elected to hn\nvacancy, Jennings)\n\n\nPark Commissioners\n\n\nReservoir Park Commission: 1897\n19O2-John A. Affleck, William K. AL\nDoehne. John Hoffer. Mrs. Caroline\nr. Haldeman. George ]. Hutton, Henry\nNJ Kelley Edmund Mather.\n\n\nHarrisburg Park Commission =\n1903-1907--John T. Brady, Chas. A\nDisbrow, John Hoffer Samuel Kunkel,\nJoseph P. Luce. ]. Horace Mcfarland,\n(appointed to fill vacancy).\n\n\n19O7-1912-1914-Wil E. Bailey,\nJohn T Brady, Chas. A. Disbrow,\nHenry E. Hershey, ]. Horace McFar-\nland.\n\n\nSuperintendent of Parks-v. Grant\nForrer.\n\n\nsuperintendent of Parks and Public\nProperty-Dec. 1e13-Jan. 1915 - Nj.\nHarvey Taylor.\n\n\nAssistant superintendent j. Ray\nmond Hoffert.\n\n\nSelect Council\n\n\nFirst Ward - William H. Shertzer,\nHarry F. Sheesley, NJ. Harvey Taylor.\n\n\nSecond Ward - William L. Jauss,\nCharles H. Bernheisel. Daniel L.\nKeister (resigned). ]. Grant Rooms.\n\n\nThird Ward Chas. F. Deiker\n(died April 10. 19O1), Richard \" Fox.\nChristian Nauss, Jesse Hedrick, Cam\neron L. Baer.\n\n\nFourth Ward - Theo. G. Calder.\nArthur D. Bacon.\n\n\nFifth Ward = Morris H. craiglow\n(dead), Harry c. Wells, Robert\nHughes, Francis H. Hoy. Jr.\n\n\nSixth Ward. = Harry 3. Walter, NJ. !\nD., Benjamin F. Umberger, B. Frank\nSnavely.\n\n\nSeventh Ward Martin G. Stoner, .\nSamuel Fl. Smith, Adam D. Houtz, !\nIsaiah Reese, Jr.\nHarry G. Walter, Dennis F. Mccarthy, !\nHarry G. Walter.\n\n\nNinth Ward - Geo. A. Hoverter. !\nHarry F. Bowman. Thomas j. Bell, A. /\nB. Gardner\n\n\nTenth Ward = L. Calder Clemson,\nWilliam H. Moody, Augustus Wild /;\nman (resigned}.\n\n\nEleventh Ward - Benjamin r. Um-\nberger.\n\n\nTwelfth Ward - Charles NJ. Orth, |\nFrederick L. Morgenthaler.\n\n\nThirteenth Ward John Dough-\nerty.\n\n\nClerk to Select Council - ]. Her\nman Knisely.\n\n\nCommon Council\n\n\nFirst Ward Franklin z. Bubb, |\nDewitt A. Fry, George w. Fields, |\nFrederick r. Smith. George G. Young, |\nNJ. Harvey Taylor, Elmer e Back, Ed |\nward A. Falter.\n\n\nSecond Ward = ]. Grant Rooms, c. |\nEmmett Murray, Charles E. rsass. Sey-\nmour S. Eberts, William l.. Jauss, |\nJohn l.. l.. Kuhn (resigned June 20. /\n1900, Ashton d. Peace (elected to fill |\nHarry G. Page.\n\n\nThird Ward - ]. Rowe Fletcher, |\nJohn N. Mccullough, Robert c. Neal, |\nJr., John N. Mccullough (dead), VIM. |\nH. Dell, Edward c. First, C. Emmett |\nMurray, S. Ed. Snavely. Charles F. |\nCrabbe.\n\n\nFourth Ward - William Jennings.\nVance c. Mccormick. Augustus Fl. |\nKreidler. Arthur d. Bacon. Ross A. |",
         "[('VINO', 'ORG'), ('the Civic Club', 'ORG'), ('Harrisburg', 'GPE'), ('1901', 'DATE'), ('first', 'ORDINAL'), ('Ine', 'ORG'), ('Charles S. Saunders', 'PERSON'), ('Tele-', 'NORP'), ('John A. Fritchey', 'PERSON'), ('1899\\n1902', 'DATE'), ('Vance c. Mccormick', 'PERSON'), ('1s02-1905', 'DATE'), ('Edward z. Gross', 'PERSON'), ('1905-19OS', 'DATE'), ('Ezra S.\\nMeals', 'PERSON'), ('19OS-1911', 'DATE'), ('John K. Royal', 'PERSON'), ('1911-1916', 'DATE'), ('John X Royal', 'PERSON'), ('1S99-1904', 'DATE'), ('William H. Middleton', 'PERSON'), ('19O4-1sO5', 'DATE'), ('NJ. Copelin', 'ORG'), ('1906\\n1915', 'DATE'), ('DanielS S. Seitz', 'PERSON'), ('Charles A. Miller', 'PERSON'), ('Matthew B. Cowden', 'PERSON'), ('George\\nB. Sucker', 'PERSON'), ('1S99-1901', 'DATE'), ('Thomas T.\\nWierman', 'PERSON'), ('1902', 'DATE'), ('Charles b. McConkey', 'PERSON'), ('1908', 'DATE'), ('Austin Brandt', 'PERSON'), ('1903-1905', 'DATE'), ('William H. Lynch', 'PERSON'), ('1905-19OS', 'DATE'), ('William\\nw. Caldwell', 'PERSON'), ('19OS-1911', 'DATE'), ('Elmer', 'PERSON'), ('Fritchey', 'PERSON'), ('1912-1913', 'DATE'), ('Streets and Public\\nImprovements', 'ORG'), ('William II. Lynch', 'PERSON'), ('1913-1916', 'DATE'), ('1902-1906', 'DATE'), ('Spencer c. Gilbert', 'PERSON'), ('A. Carson Stamm', 'PERSON'), ('William L. Gorgas', 'PERSON'), ('1906-1910', 'DATE'), ('liam Jennings', 'PERSON'), ('A. Carson Stamm', 'PERSON'), ('Gre', 'ORG'), ('1900', 'DATE'), ('David E. Tracy', 'PERSON'), ('Edwin\\nc: Thompson', 'PERSON'), ('MI', 'GPE'), ('191O-1915', 'DATE'), ('- William jennings Gre', 'WORK_OF_ART'), ('David E. Tracy', 'PERSON'), ('Edwin c. Thompson', 'PERSON'), ('William Bowman', 'PERSON'), ('Jennings', 'PERSON'), ('Park Commissioners', 'ORG'), ('Reservoir Park Commission', 'ORG'), ('1897\\n19O2-John A. Affleck', 'DATE'), ('William K. AL\\nDoehne.', 'PERSON'), ('John Hoffer.', 'PERSON'), ('Caroline\\nr. Haldeman', 'PERSON'), ('George ]. Hutton', 'PERSON'), ('Henry\\nNJ', 'PERSON'), ('Kelley Edmund Mather', 'PERSON'), ('Harrisburg Park Commission', 'ORG'), ('1903-1907', 'DATE'), ('John T. Brady', 'PERSON'), ('Chas. A\\nDisbrow', 'PERSON'), ('John Hoffer', 'PERSON'), ('Samuel Kunkel', 'PERSON'), ('Joseph P. Luce', 'PERSON'), ('Horace Mcfarland', 'PERSON'), ('Wil E. Bailey', 'PERSON'), ('John T Brady', 'PERSON'), ('Chas. A. Disbrow', 'PERSON'), ('Henry E. Hershey', 'PERSON'), ('Horace McFar-', 'PERSON'), ('Grant\\nForrer', 'PERSON'), ('Parks', 'ORG'), ('Dec. 1e13-Jan. 1915 - Nj.', 'DATE'), ('Harvey Taylor', 'PERSON'), ('j. Ray\\nmond Hoffert', 'PERSON'), ('Select Council', 'ORG'), ('First Ward - William H. Shertzer', 'PERSON'), ('Harry F. Sheesley', 'PERSON'), ('NJ.', 'GPE'), ('Harvey Taylor', 'PERSON'), ('Second', 'ORDINAL'), ('William L. Jauss', 'PERSON'), ('Charles H. Bernheisel', 'PERSON'), ('Daniel L.\\nKeister', 'PERSON'), ('Grant Rooms', 'ORG'), ('Third', 'ORDINAL'), ('Chas. F. Deiker', 'PERSON'), ('April 10. 19O1', 'DATE'), ('Richard', 'PERSON'), ('Christian Nauss', 'PERSON'), ('Jesse Hedrick', 'PERSON'), ('Cam\\neron L. Baer', 'PERSON'), ('Fourth Ward - Theo', 'PERSON'), ('G. Calder', 'PERSON'), ('Arthur D. Bacon', 'PERSON'), ('Fifth', 'ORDINAL'), ('Morris H. craiglow', 'PERSON'), ('Harry c. Wells', 'PERSON'), ('Robert\\nHughes', 'PERSON'), ('Francis H. Hoy', 'PERSON'), ('Jr.', 'PERSON'), ('Sixth', 'ORDINAL'), ('Harry 3. Walter', 'PERSON'), ('NJ.', 'GPE'), ('D.', 'NORP'), ('Benjamin F. Umberger', 'PERSON'), ('B. Frank\\nSnavely', 'PERSON'), ('Seventh', 'ORDINAL'), ('Martin G. Stoner', 'PERSON'), ('Samuel Fl. Smith', 'PERSON'), ('Adam D. Houtz', 'PERSON'), ('Isaiah Reese', 'PERSON'), ('Jr.\\nHarry G. Walter', 'PERSON'), ('Dennis F. Mccarthy', 'PERSON'), ('Harry G. Walter', 'PERSON'), ('Ninth', 'ORDINAL'), ('Harry F. Bowman', 'PERSON'), ('Thomas j. Bell', 'PERSON'), ('A. /\\nB. Gardner', 'PERSON'), ('Tenth Ward = L. Calder Clemson', 'PERSON'), ('William H. Moody', 'PERSON'), ('Augustus Wild', 'PERSON'), ('Eleventh Ward - Benjamin r. Um-\\nberger', 'PERSON'), ('Twelfth', 'ORDINAL'), ('Charles NJ. Orth', 'PERSON'), ('Frederick L. Morgenthaler', 'PERSON'), ('Thirteenth', 'ORDINAL'), ('John Dough-\\nerty', 'PERSON'), ('Select Council', 'ORG'), ('Knisely', 'PERSON'), ('Common Council', 'ORG'), ('First Ward Franklin z. Bubb', 'PERSON'), ('Dewitt A. Fry', 'PERSON'), ('George w. Fields', 'PERSON'), ('Frederick r. Smith', 'PERSON'), ('George G. Young', 'PERSON'), ('NJ.', 'GPE'), ('Harvey Taylor', 'PERSON'), ('Elmer e Back', 'PERSON'), ('A. Falter', 'PERSON'), ('Second', 'ORDINAL'), ('Grant Rooms', 'ORG'), ('Emmett Murray', 'PERSON'), ('Charles E. rsass', 'PERSON'), ('Sey-\\nmour S. Eberts', 'PERSON'), ('William l.. Jauss', 'PERSON'), ('John l.. l.. Kuhn', 'PERSON'), ('June 20. /\\n1900', 'DATE'), ('Ashton d. Peace', 'PERSON'), ('Harry G. Page', 'PERSON'), ('Third', 'ORDINAL'), ('Rowe Fletcher', 'PERSON'), ('John N. Mccullough', 'PERSON'), ('Robert c. Neal', 'PERSON'), ('Jr.', 'PERSON'), ('John N. Mccullough', 'PERSON'), ('H. Dell', 'PERSON'), ('Edward c. First', 'PERSON'), ('C. Emmett |\\nMurray', 'PERSON'), ('S. Ed. Snavely', 'PERSON'), ('Charles F. |\\nCrabbe', 'PERSON'), ('Fourth Ward - William Jennings', 'PERSON'), ('Vance c. Mccormick', 'PERSON'), ('Augustus Fl. |\\nKreidler', 'PERSON'), ('Arthur d. Bacon. Ross A. |', 'PERSON')]"
        ],
        [
         "31",
         "4_1915-12-27_p7_sn83030214_00206531964_1915122701_0587",
         "10000 CHURCHES FOR PEACE\n\nUnion Urges Use of Christian Ideals\n\n\nBetween Nations.",
         "New-York tribune. [volume] (New York [N.Y.]) 1866-1924",
         "1915-12-27 00:00:00",
         "The Church Peace Union, founded\nby Andrew Carnegie in february, 1914,\nyesterday issued its report through DR..\nFrederick Lynch, secretary. The re-\npor. deals largely with the work Of\norganizing 10000 churches in the\nUnited States to promote the cause of\ninternational peace. The work has\nbeen carried on in Catholic, Protestant\nand Jewish churches.\n\n\nAmong the twenty-niue trustees rep\nresenting lone Of the denominations\nare Bishop David H. Greer, of New\nYork. president; Cardinal Gibbons, Of\nBaltimore: Rabbi Hirsch. Of Chicago;\nDR.. Charles (. Jefferson, pastor Of the\nBroadway Tabernacle, and DR.. William\nPierson Merrill, OF the Brick Presby-\nterrain Church.\n\n\nIn organizing peace committees In\nchurches. IL is recommended that min\nlisters emphasize that Christian prin-\nciples should be made TO apply 20 states\naz we'll as 10 individuals and that as a\nconcrete suggestion the Anglo-Ameri-\ncan treaties should be used as basis\nin making universal peace treaties.",
         "[('The Church Peace Union', 'ORG'), ('Andrew Carnegie', 'PERSON'), ('february, 1914', 'DATE'), ('yesterday', 'DATE'), ('Frederick Lynch', 'PERSON'), ('10000', 'CARDINAL'), ('the\\nUnited States', 'GPE'), ('Catholic', 'NORP'), ('Protestant', 'NORP'), ('Jewish', 'NORP'), ('twenty', 'CARDINAL'), ('David H. Greer', 'PERSON'), ('New\\nYork', 'GPE'), ('Cardinal Gibbons', 'PERSON'), ('Baltimore', 'GPE'), ('Rabbi Hirsch', 'PERSON'), ('Chicago', 'GPE'), ('Charles', 'PERSON'), ('Jefferson', 'PERSON'), ('the\\nBroadway Tabernacle', 'ORG'), ('William\\nPierson Merrill', 'PERSON'), ('the Brick Presby-\\nterrain Church', 'ORG'), ('Christian', 'NORP'), ('20', 'CARDINAL'), ('10', 'CARDINAL'), ('Anglo-Ameri-', 'NORP')]"
        ],
        [
         "32",
         "17_1915-07-01_p7_sn84029386_00295871568_1915070101_0968",
         "HUNDRED KNIGHTS AT\n\n\nX. OF G. STATE MEETING",
         "Abilene weekly reflector. [volume] (Abilene, Kan.) 1888-1935",
         "1915-07-01 00:00:00",
         "p. o. Lucier returned Sunday\nfrom the state convention of the\nKnights Of Columbus at st. Marys,\n10 which he and Joseph Curry were\ndelegates from the local council. Mr.\nCurry remained for the retreat\nwhich will last three days. The\nconvention closed Saturday. About\n100 delegates were in attendance at\nthe sessions which were held at the\ncollege. Many delegates were flood\nbound and could not reach st.\nKarys. George Bordenkircher Of\nEmporia was elected new state dep\nuty.\n\n\nJoseph Lynch OF Harrington was\nthe only other delegate from this\ncounty.",
         "[('Lucier', 'PERSON'), ('Sunday', 'DATE'), ('Columbus', 'GPE'), ('st. Marys', 'FAC'), ('10', 'DATE'), ('Joseph Curry', 'PERSON'), ('Curry', 'PERSON'), ('three days', 'DATE'), ('Saturday', 'DATE'), ('About\\n100', 'CARDINAL'), ('Karys', 'PERSON'), ('George Bordenkircher', 'PERSON'), ('Emporia', 'GPE'), ('Joseph Lynch', 'PERSON'), ('Harrington', 'PERSON')]"
        ],
        [
         "33",
         "10_1915-08-22_p45_sn83045462_00280658686_1915082201_0684",
         null,
         "Evening star. [volume] (Washington, D.C.) 1854-1972",
         "1915-08-22 00:00:00",
         "\n\n\nby radiogram from Rear Admiral Bad\nger, commander-in-ch chief of the ATTAIN\ntic fleet, soon after his arrival at Vera\nCruz in the spring of 1914. He needed\nan officer and he knew the manner of\nman he needed for the difficult job OF\nlooking after the supplies for the fleet.\nHe wanted the man who could lead.\ncommand. threaten, if necessary, plan,\nwhip things around if it had to be\ndone, a man who could do things on\ntime and have things when they were\nneeded, and who never offered an cX-\ncuSe and never accepted one. So he\nsent the word-\"McGowan preferred\n\n\nBut MCGOWAN was not sent to Bad\nger, for he was booked for higher Of\nfce-really one OF the most important,\nIf not the most conspicuous, in the\nnavy to be filled by the newly appoint\ned Secretary Daniels. MCGOWAN was\nabout to be appointed paymaster gem\neral of the navy. chief of the bureau of\nsupplies and accounts.\n\n\nThat position does not seem at all\nspectacular. The paymaster general\ndoes not design new battleships, cruis-\ners or submarines; he takes no part in\nselecting guns or armor. No one looks\nto him to create naval reserve, or to\norganize a squadron of hydro-aero-",
         "[('Vera\\nCruz', 'PERSON'), ('the spring of 1914', 'DATE'), ('McGowan', 'PERSON'), ('MCGOWAN', 'PERSON'), ('Daniels', 'PERSON'), ('MCGOWAN', 'PERSON')]"
        ],
        [
         "34",
         "6_1915-05-22_p3_sn86063397_0038334119A_1915052201_0695",
         "kG BAKING POWDER\n\n\n\nIrish Speed.",
         "The Elk Mountain pilot.",
         "1915-05-22 00:00:00",
         "In Judge McKinley's court they were\nexamining talesmen for the trial of a\nboy, who had killed his father The\nlawyers dwelt mostly on the facts Of\nmarriage, paternity and whether there\nhad been insanity in the families OF\nthe men under examination.\n\n\nWhen they got around to Michael\nMccarthy the wait had been long and\nhe proceeded to whip up.\n\n\nAsked the first question he galloped\naway with this:\n\n\nmy name is Michael Mccarthy and\nI live at 1896 Fulton street and / am\nthirty-five years old and l am married\nand have one child and l have never\nhad any insanity in the family and If\nI had wouldn't be fool enough to tell\nYOU",
         "[(\"McKinley's\", 'PERSON'), ('Michael\\nMccarthy', 'PERSON'), ('first', 'ORDINAL'), ('Michael Mccarthy', 'PERSON'), ('1896', 'DATE'), ('Fulton', 'GPE'), ('thirty-five years old', 'DATE'), ('one', 'CARDINAL')]"
        ],
        [
         "35",
         "8_1915-07-29_p7_sn83016758_00280767621_1915072901_0251",
         null,
         "The Princeton union. [volume] (Princeton, Minn.) 1876-1976",
         "1915-07-29 00:00:00",
         "fees and expenses, state\nvs. j. r.. Kinney. S.. 500\np. G. lynch, Justice fees,\n\n\nstate vs. j. r. Mckinney 1.5O\nf.. G. Cater per diem and mi\n\n\nleage, road and bridge\n\n\ncommittee 400\nf. G. Cater, per diem and\n\n\nmileage, road and bridge\nEvens HdWe. Co., ( :, supplies, '.'0\nstate road No. l, job No.\n\n\n20. ..:....... 1854\nEvens Hdwe. Co.. supplies,\n\n\nstate road No. Z, job No.\n\n\n70. .............. 3d. \"a\nHenry Uglem, tools for road ~\n\n\nwork, maintenance dis\n\n\ntrict No. 2................ $50\nEvens Hdwe: Co., cuiverts,\n\n\nmaintenance district No.\n\n\n80. SO. 50\nJohn Romine, gravel as per\n\n\nlease in town of Greenbush 5000\nA. Spencer, ct al, road work\n\n\nin town of Page. 4th com.\nIl. F. Meier, maintenance '0'\n\n\nwork, dist. No. 5......... 1890\nL. T. Nlc10I: Iud1utcudIlCS -----s\n\n\nwork, dist. No. 5........ 5.l4\nS. D. Vivapt. maintenance\n\n\nwork, dist. No.. SIS\nDE-. Magee, supplies, mainte-\n\n\nnance dist. No. 5. ........ GIL\nJohn Cotton, road work state\n\n\nroad No. ! dist. No. 5. -. 1913\nAll other claims before the board\nwere laid over for futher investiga-\nton and consideration.\nOn motion board adjourned until\nAugust 31st: 1915.\n\n\nCARL ECKDALL,\n\n\nChairman of the Board of County\nCommissioners, Mile Laos County,\nMINI.\nAttest: ...-.\nw. c. DOANE, County Auditor\nand Ex-Officio Clerk of Board.\n(O6dcial SeaD",
         "[('Kinney', 'PERSON'), ('500', 'CARDINAL'), ('Mckinney', 'PERSON'), ('G. Cater', 'PERSON'), ('400', 'CARDINAL'), ('G. Cater', 'PERSON'), ('Evens HdWe', 'FAC'), ('20', 'CARDINAL'), ('1854', 'DATE'), ('Evens Hdwe.', 'PERSON'), ('70', 'CARDINAL'), ('3', 'CARDINAL'), ('Henry Uglem', 'PERSON'), ('50', 'MONEY'), ('80.', 'CARDINAL'), ('50', 'CARDINAL'), ('John Romine', 'PERSON'), ('Greenbush 5000\\nA. Spencer', 'FAC'), ('ct al', 'GPE'), ('4th', 'ORDINAL'), ('F. Meier', 'PERSON'), ('5', 'CARDINAL'), ('L. T. Nlc10I', 'PERSON'), ('5', 'CARDINAL'), ('Magee', 'PERSON'), ('5', 'CARDINAL'), ('GIL\\nJohn Cotton', 'PERSON'), ('5', 'CARDINAL'), ('1913', 'CARDINAL'), ('August 31st: 1915', 'DATE'), ('CARL ECKDALL', 'PERSON'), ('the Board of County\\nCommissioners', 'ORG'), ('Mile Laos County', 'GPE'), ('MINI', 'ORG'), ('DOANE', 'PERSON'), ('O6dcial SeaD', 'PERSON')]"
        ],
        [
         "36",
         "6_1915-01-05_p11_sn84022472_00295866974_1915010501_0066",
         null,
         "The Bridgeport evening farmer.",
         "1915-01-05 00:00:00",
         "were dangerously close, which was not often. Had Coffey been as aggressive as the Gunner he would have gained an undisputed victory, probably K. O.. AS 1t was, about two-thirds of the sporting writers credited him with a victory. and the others called it a draw.\n\n A good big man ought to whip good small man. The fighter who allows his opponent ten, twenty or thirty pounds is taking desperate chances, and unless he is much better man he is due for a trimming. This brings up the challenge of Mike Gibbons, a middleWeight, to whipped Billy Maxwell, who outpofnted Charley Weinert, who trimmed Jim Coney. Now where would Gibbons, a nidd1eweight, get off if he tackled Jack Johnson?\n\n If Gibbons will whip the C1abbys and the Chips and the other niddleweights in a decisive manner perhaps he will show that he is a F1tzsimnons or a Kid Mccoy and that he can go out Of his class and annex victories. Ger tain1y a clever middIeWeight never before had such a chance to gain fame and money by whipping men weighing forty or fifty pounds more than him self.\n\n Al Palzer, gigantic Iowa, farmer who attracted some attention a few years ago but quickly returned to obscurity, is trying to come to the front again, but his case Io1zs hopeless. His notion of blocking was to put his face in the way of the othe7 mans blows, a system that",
         "[('Coffey', 'PERSON'), ('Gunner', 'PERSON'), ('K. O.. AS 1t', 'PERSON'), ('about two-thirds', 'CARDINAL'), ('ten, twenty or thirty pounds', 'QUANTITY'), ('Mike Gibbons', 'PERSON'), ('Billy Maxwell', 'PERSON'), ('Charley Weinert', 'PERSON'), ('Jim Coney', 'PERSON'), ('Gibbons', 'PERSON'), ('Jack Johnson', 'PERSON'), ('Gibbons', 'PERSON'), ('C1abbys', 'PERSON'), ('F1tzsimnons', 'PERSON'), ('a Kid Mccoy', 'PERSON'), ('forty or fifty pounds', 'QUANTITY'), ('Al Palzer', 'PERSON'), ('Iowa', 'GPE'), ('a few years ago', 'DATE'), ('Io1zs', 'PERSON')]"
        ],
        [
         "37",
         "20_1915-01-05_p11_sn84022472_00295866974_1915010501_0066",
         null,
         "The Bridgeport evening farmer.",
         "1915-01-05 00:00:00",
         "heavy heavyweight. It is no exaggera tion to say that either Corbett, F'itz- simmons. Kid Mccoy. Joe Choynsli, Peter Maher or several others of the men who aourished twelve or fifteen years ago would whip any five of the present heavyweights in one ring in one night.\n\n What is the reason for this or what are the reasons2 One explanation lies in the fact that pugilism is an art that",
         "[('Corbett', 'PERSON'), (\"F'itz-\", 'PERSON'), ('Mccoy', 'PERSON'), ('Joe Choynsli', 'PERSON'), ('Peter Maher', 'PERSON'), ('twelve or fifteen years ago', 'DATE'), ('five', 'CARDINAL'), ('one', 'CARDINAL'), ('one night', 'TIME'), ('One', 'CARDINAL')]"
        ],
        [
         "38",
         "34_1915-01-22_p5_sn93063557_00200296047_1915012201_0915",
         "COLLEGE NOTES.",
         "Middlebury register. (Middlebury, Vt.) 1886-1937",
         "1915-01-22 00:00:00",
         "his college duties.\n\n\nEdwin Holden, IS, has been sick for\nthe past week and has been unable to\nattend to his college duties.\n\n\nMiss Elizabeth Smith was the week\nend guest of Miss Susan Smith II.\n\n\nMiss Katherine Fish, Is, entertained\nher cousin, Miss Lyon of Burlington\nover. Saturday.\n\n\nSaturday, February 6, the Ithaca Con\nservatory of Music Concert company\nwill give concert in the Mccullough\ngymnasium for the benefit of the ath-\netc association.\n\n\nThe Epworth league of the Metho-\ndist church held a social in the church\nparlors Tuesday evening.\n\n\nWeafer, ex-'14. and Miss Lucy Stay\nton of Morrisville were married Deem\nDer 25, 1914. Weafer was the varsity\nbaseball catcher last year.\n\n\nMary Geran, IA, is teaching at Will\nmington\n\n\nAlice Peasee, 10, and Faith Linsley,\n'13, are teaching in Antrim, N. H.\n\n\nHelena Carpenter, IA, is teaching in\nthe high school in her home town, Enos-\nburg Falls.\n\n\nProf William s. Burrage has re.\nturned from Philadelphia where he at\ntended the meeting of the Pathological\nassociation in that city.\n\n\nProf. j. A. Morgan attended the Eco\nnomic association meeting at Princeton,\nN. j.\n\n\nThe executive committee of the Union\nmet in the Union rooms Tuesday after\nnoon at 80 o'clock. The members Of\nthis committee are Ratti, Loder, Dade,\nSweeney, Wright, Rose, 'l6, Danolds\n\n\nThe Alpha Chi sorority held a dance\nat the Mccullough gymnasium on Sat\nurday evening January 10. 1t was very\nsuccessful, music was furnished by an\norchestra from Rutland.\n\n\nIrving L. Cabot, 10, was operated on\nfor appendicitissat the Rutland hospi-\ntai last Saturday. He is reported as\ndoing well.\n\n\nThe Rev. John w. Chapman, class of\n70, will give an address before the\nAmerican chronological society, at the\nMuseum of National History, New York\non the evening of January 25th, at Sl5,\nsubject, Medicine Men of Anvik,\nAlaska, and the Vicinity\" The doors\nare open to the public.\n\n\nThe sophomore class held class\nmeeting recently insthe Hemicycle. 1t\nwas voted to have the following COM\nmittee draw up suitable resolutions of\nsympathy and coincidence to be sent to\nthe parents of Avah A. Clark, II, who\nrecently died at his home in Warner,\nN. H.\n\n\nStudents interested in music met Fri\nday evening at the home of Professor\nRoyce on Weybridge street and organ\nlied a musical club. Charles Jones, IS,\nwas elected president. The Misses Fish\nand. Dutfield and Mr.. Jones were elected\nmembers of the program committee foi\nthe next meeting. 1t was voted to hole\nmonthly meetings.\n\n\nDean Wright has buletined the fol\nlowing notice in regard to church regis\ntration; Each student is expected tc\nattend each Sunday the service fol-\nwhich registered the morning servic,\nif church in the village has beer\nchosen or the college service at what\never hour it may be held, and no credi\nwill be given for attendance at any ser\ntration has been made.\n\n\nThe Y M. C. A. meeting which wa.\nscheduled for Wednesday evening, Jan\nuary 10, was postponed till Thursday\nevening, January q. DR.. Harrington\nspoke and very interesting meet\ning was held. Hereafter the regular\nmeetings will be held on THURSDAY\nevening.\n\n\nDelta Tau has selected the following\nfreshmen from the different fraternities\nChi Psi, Lynch, Bartlett; Delta Kappa\nEpsilon, Everitt; Alpha Sigma Phi\nParker, Bruster; Kappa Delta Rho\nMara; Delta Epsilon, Ravens, Pelton\nDelta Sigma, Greene, Wheelock\nneutral, Stone.\n\n\nz The oratorical contest which was t,\nhave been held at Hanover, N. H., il\nApril between Dartmouth, New Hamp\nshire State, st. Anselms, Norwich, Mid\ndlebury and the University of Vernon\nfor the title of the North Atlantic\nStates, will not be held. Since Dart\nmouth and Middlebury were the onl!\ncolleges which cared to enter the con\ncontest it was considered advisable no",
         "[('Edwin Holden', 'PERSON'), ('IS', 'ORG'), ('the past week', 'DATE'), ('Elizabeth Smith', 'PERSON'), ('Susan Smith II', 'PERSON'), ('Katherine Fish', 'PERSON'), ('Lyon', 'PERSON'), ('Burlington', 'GPE'), ('Saturday', 'DATE'), ('Saturday, February 6', 'DATE'), ('Ithaca Con', 'ORG'), ('Music Concert', 'ORG'), ('Mccullough', 'PERSON'), ('Epworth', 'GPE'), ('Metho-\\ndist church', 'FAC'), ('Tuesday evening', 'TIME'), ('Lucy Stay', 'PERSON'), ('Morrisville', 'GPE'), ('Der 25, 1914', 'DATE'), ('Weafer', 'PERSON'), ('last year', 'DATE'), ('Mary Geran', 'PERSON'), ('IA', 'GPE'), ('Alice Peasee', 'PERSON'), ('10', 'DATE'), ('Faith Linsley', 'PERSON'), ('13', 'DATE'), ('Antrim', 'GPE'), ('N. H.', 'GPE'), ('Helena Carpenter', 'PERSON'), ('IA', 'GPE'), ('Enos-\\nburg Falls', 'FAC'), ('William s. Burrage', 'PERSON'), ('Philadelphia', 'GPE'), ('the Pathological\\nassociation', 'ORG'), ('j. A. Morgan', 'PERSON'), ('Eco\\nnomic association', 'ORG'), ('Princeton,\\nN. j', 'GPE'), ('Union', 'ORG'), ('Union', 'ORG'), ('Tuesday', 'DATE'), (\"noon at 80 o'clock\", 'TIME'), ('Ratti', 'PERSON'), ('Loder', 'PERSON'), ('Dade', 'PERSON'), ('Sweeney', 'PERSON'), ('Wright', 'PERSON'), ('Rose', 'PERSON'), ('Danolds', 'PERSON'), ('Alpha Chi', 'PERSON'), ('Mccullough', 'PERSON'), ('Sat\\nurday evening', 'TIME'), ('January 10', 'DATE'), ('Rutland', 'GPE'), ('Irving L. Cabot', 'PERSON'), ('10', 'DATE'), ('Rutland', 'GPE'), ('last Saturday', 'DATE'), ('John w. Chapman', 'PERSON'), ('70', 'DATE'), ('American', 'NORP'), ('the\\nMuseum of National History', 'ORG'), ('New York', 'GPE'), ('January 25th', 'DATE'), ('Anvik', 'GPE'), ('Alaska', 'GPE'), ('Hemicycle', 'PRODUCT'), ('COM', 'ORG'), ('Avah A. Clark', 'PERSON'), ('Warner,\\nN. H.', 'GPE'), ('Fri\\nday', 'DATE'), ('Professor\\nRoyce', 'PERSON'), ('Weybridge', 'GPE'), ('Charles Jones', 'PERSON'), ('IS', 'ORG'), ('The Misses Fish', 'PERSON'), ('Dutfield', 'PERSON'), ('Jones', 'PERSON'), ('monthly', 'DATE'), ('Dean Wright', 'PERSON'), ('Sunday', 'DATE'), ('Y M. C. A.', 'DATE'), ('Wednesday', 'DATE'), ('Jan\\nuary 10', 'DATE'), ('Thursday\\nevening', 'TIME'), ('January', 'DATE'), ('Harrington', 'PERSON'), ('THURSDAY\\nevening', 'TIME'), ('Tau', 'PERSON'), ('Chi Psi', 'ORG'), ('Lynch', 'ORG'), ('Bartlett', 'ORG'), ('Delta Kappa\\nEpsilon', 'ORG'), ('Everitt', 'ORG'), ('Alpha Sigma Phi\\nParker', 'ORG'), ('Bruster', 'ORG'), ('Kappa Delta Rho\\nMara', 'ORG'), ('Delta Epsilon', 'ORG'), ('Ravens', 'ORG'), ('Pelton\\nDelta Sigma', 'ORG'), ('Greene', 'GPE'), ('Wheelock', 'GPE'), ('Stone', 'PERSON'), ('Hanover', 'GPE'), ('N. H.', 'GPE'), ('April', 'DATE'), ('Dartmouth', 'GPE'), ('New Hamp', 'GPE'), ('st. Anselms', 'GPE'), ('Norwich', 'GPE'), ('Mid\\ndlebury', 'GPE'), ('the University of Vernon', 'ORG'), ('the North Atlantic\\nStates', 'LOC'), ('Middlebury', 'GPE')]"
        ],
        [
         "39",
         "9_1915-12-18_p4_sn84026758_00279522187_1915121801_0965",
         null,
         "Democratic messenger. [volume] (Snow Hill, Md.) 1869-1973",
         "1915-12-18 00:00:00",
         "then ~ threv bsea aa ore Al\ntrap door ~ th aaor beneath laaz\nwatched him artl DO disappeared\ninto this wide hole Then she sldef\naut 90 the veralda Sho poured OUR\ntiny drink and tossed it OF She liz\ncigarette.\n\n\nHeforc her lay partially plowei\nfield She heard tha Jingle Of an or\nchain She heard quaverlug voice\nand then suddenly from the rear OF\nthe bungalow strange trio entered\nthe arena OF events\n\n\nPonto. a fat little Mexican - who\nboosted ever OF his Aztec blood =\ncrawled behind a primitive and inef\nfective pillow.\n\n\nAnd the team A strangely as.\nsorted team was this on the right\nwith its head thrust through wooden\noke. was an OK On the Lett hand\n\n\nde. also with his head thrust through\n\n\nwooden yoke and with his brawny\n\n\nulders Juggling. ever Juggling. at the\n\n\nw. there was hitehed-a man.\n\n\nPonto. cursing. raised his whip and\nbrought down his lash time after time\nwith strict impartiality upon the shout\nders OF the OK and upon the bare back",
         "[('90', 'CARDINAL'), ('Heforc', 'PERSON'), ('Ponto', 'PERSON'), ('Mexican', 'NORP'), ('Ponto', 'PERSON')]"
        ],
        [
         "40",
         "5_1915-12-07_p1_sn83030272_00206535003_1915120701_0463",
         "new TRIAL GRANTED\nON JUDGES CONDUCT\n\nJustice Lynch Absent During\nHalf Of Four Hour Offer\n\n\ning Of Exhibits.\n\nLOSER TAKES AN APPEAL",
         "The sun. [volume] (New York [N.Y.]) 1833-1916",
         "1915-12-07 00:00:00",
         "The Appellate Term of the Supreme\nCourt yesterday ordered a new trial In\n\n\n\"A case heard before City Court Justice\nRichard T. Lynch and IA jury on the\n| ground that during the four hours oc-\n\n\ncupied 10y the trial Justice Lynch was\nout of the courtroom at least half the\ntime, during which the proceedings were\nunder the direction Of n court officer.\nThe Appellate Term. composed OF JUS\ntees Guy. Page and Philbin. acted after\n\n\nJustice Lynch had refused to set aside\nthe verdict On the same state Of fats\npresented to the Appellate Term.\n\n\nThe motion before the Appellate Term\nwa. made by Edward II. Wilson. at\ntorney for the l.. NJ. Booth Company.\nhich sued the Peoples Ice and Fuel\nCompany TO recover n balance due on a\n\n\nwater %softrner. Tho jury returned a\nverdict for the defendant and Justice\nLynch refused to disturb IL.\n\n\nThe facts OF the case. as presented\nIn the plaintiffs papers before the APP\npcllate Term were that on October 6\nlast, when the case was tried Ia the city\nCourt. 1t was called just before the noon\nrccess and the trial Judge admitted\nabout fifty exhibits offered by the de-\nPENDANT ell bloc, without inquirins into\nthe pcrtinency OF the various exhibits\nAs soon az the reading of the exhibits\nbegan Justice Lynch retired from the\ncourtroom. Mr.. Wilson said. and shortly\nafterward 1t was discovered hat II of\nthe jurors knew an attorney for the\nplaintiff. This fact was communicated\nIa Justice Lynch. who sent his court Of\n\n\nfcer In to tell the juror he was excused.\n\n\nWhen the trial was resumed justice\nLynch failed to appear. hut the reading\nOf the exhibits went on. He arrived 1T\nabout 3 o'clock shortly before the read\n\n\ning WAS concluded. and heard a few\n\n\nOf them. When the attorneys began\n\n\nsumming up about 3:30 o'clock Justice\n\n\nLynch aga.n withdrew and remained\n\n\naway until l o'clock, after counse\n\n\nhad finished. He then entered the court\n\n\nroom and charged the jury.\n\n\nMr.. Wilson said that Justice Lynch\nhad no knowledge Of the contents of the\n| exhibits. He added. during the sum\nming up there was great disorder In the\ncourtroom. a court officer was the\n\n\nprincipal offender. He and the clerk\n\n\ntalked In such loud tones hat they in\n\n\nterrupted counsel for the p~laintiff In\n\n\nsumming w. one of che pla .ntin's\n\n\nattorneys went to the court officer and\nprotested. While defendants attorney\n\n\nwas addressing the jury the court officer\nperemptorily called him To order in the\nmiddle Of a sentence and told him his\ntime was up\"\n\n\nThe plaintiffs attorney said that the\ncourts absence was not with the consent\nOf the counsel. and pointed out that\n\n\nthe facts az stated In MS papers were\nnot denied by the defendants attorneys\n\n\nOn appeal.\n\n\nWhen asked concerning the case yes\n| terday Justice Lynch aid\n\n\nA he trial a motion was pending\nand l attended to II in chambers with\nthe consent III counsel. | was always\nwithin reach In a room across the hall,\n| My officer was In the courtroom all the\ntime and could have been sent for me.\n! This is an unusual occurrence. L,\nwouldn't happen twice In n year. I did\nthis in order TO expedite business. !\n\n\ncould have sent the other l~itiAants away.\nThis il \"A case where a beaten party\ntries 10 ohta.n 4 new trial\"",
         "[('the Supreme\\nCourt', 'ORG'), ('yesterday', 'DATE'), ('City Court', 'ORG'), ('Richard T. Lynch', 'PERSON'), ('IA', 'ORG'), ('four hours', 'TIME'), ('10y', 'CARDINAL'), ('Lynch', 'PERSON'), ('at least half', 'CARDINAL'), ('Page', 'PERSON'), ('Philbin', 'PERSON'), ('Lynch', 'PERSON'), ('the Appellate Term', 'ORG'), ('Edward II', 'PERSON'), ('Wilson', 'PERSON'), ('NJ. Booth Company', 'ORG'), ('the Peoples Ice and Fuel\\nCompany', 'ORG'), ('Lynch', 'PERSON'), ('APP', 'ORG'), ('October 6', 'DATE'), ('Ia the city\\nCourt', 'ORG'), ('noon', 'TIME'), ('fifty', 'CARDINAL'), ('Lynch', 'PERSON'), ('Wilson', 'PERSON'), ('Ia Justice Lynch', 'ORG'), ('Lynch', 'PERSON'), (\"1T\\nabout 3 o'clock\", 'TIME'), (\"about 3:30 o'clock\", 'TIME'), ('Lynch', 'PERSON'), ('Wilson', 'PERSON'), ('Lynch', 'PERSON'), ('one', 'CARDINAL'), ('MS', 'ORG'), ('Lynch', 'PERSON'), ('n year', 'DATE'), ('10', 'CARDINAL'), ('4', 'CARDINAL')]"
        ],
        [
         "41",
         "1_1915-11-22_p7_sn84022472_00295867073_1915112201_0295",
         "ToDAY's POEM\n\nTHE MARKET PLACE",
         "The Bridgeport evening farmer.",
         "1915-11-22 00:00:00",
         "The worlds a busy market place, and\n\n men and women buyers; And some get credit on their face, both pikers and high fliers, But ne'er a man remains in debt-'tis not what he is made for, You pay for every thing you get-and\n\n get everything you pay for. Some men arrive with best of health. and some are weak and sickly; And some are born to power and\n\n wealth and some acquire it quickly, And some are weak and some are\n\n strong, and some in strength are\n\n gaining\n\n And some hearts bubble into song,\n\n while some are still complainirg. But when they take the market road\n\n no matter how they're acting, They'll pay the debts their fathers\n\n owed while others they're contract\n\n ing.\n\n And what they buy of fame or power.\n\n with health and strength they are\n\n paying\n\n He freezes in December dour who stays too long a-Maying- I'm not a church optimist who ne'er\n\n knew what a whip meant, know of chances men have missed\n\n through lacking birth equipment know that Fate oft Hicks a coin\n\n that futile chance will play with You can't with me and issue join for that you've naught to pay with it.\n\n I simply say that all you do so : thing is amounting, That bills of health are paid when\n\n due, and virtue knows accounting The price of peace of mind is set\n\n when, peace of mind are played for. You always pay for what you get and get just what you paid for --Grif Alexander in Pittsburgh Dis patch.",
         "[('December', 'DATE'), ('Fate oft Hicks', 'PERSON'), ('Grif Alexander', 'PERSON'), ('Pittsburgh', 'GPE')]"
        ],
        [
         "42",
         "20_1915-11-22_p7_sn84022472_00295867073_1915112201_0295",
         "PINAPPIE MOUSSE",
         "The Bridgeport evening farmer.",
         "1915-11-22 00:00:00",
         "Soak one tablespoon of gelat1ne in 1-4 cup of cold water, add cup of\n\n hot pinapp1e syrup, 2 tablespoons of lemon juice and 1 cup of sugar. Strain\n\n and cool. As the mixture thickens\n\n fold into whip from quart of thin cream. Pack in salt and ice for four hours.",
         "[('one tablespoon', 'QUANTITY'), ('1-4 cup', 'QUANTITY'), ('2 tablespoons', 'QUANTITY'), ('1 cup', 'QUANTITY'), ('four hours', 'TIME')]"
        ],
        [
         "43",
         "21_1915-08-19_p4_sn82014682_00212471070_1915081901_0285",
         null,
         "Honolulu star-bulletin. [volume] (Honolulu [Oahu, Hawaii]) 1912-2010",
         "1915-08-19 00:00:00",
         "Former Governor Slaton's fearless and out\nspoken deunciation of the successful plot to\nlynch Leo Frank is the bright spot in one of\nthe ugliest incidents in American history.",
         "[(\"Slaton's\", 'PERSON'), ('Leo Frank', 'PERSON'), ('one', 'CARDINAL'), ('American', 'NORP')]"
        ],
        [
         "44",
         "5_1915-04-07_p13_sn83030214_00206531885_1915040701_0155",
         "Parcel To Be Improved in\n6Sth Street, Between\n\n\nI'd and Sd Avenues.",
         "New-York tribune. [volume] (New York [N.Y.]) 1866-1924",
         "1915-04-07 00:00:00",
         "Tho four threo story and basement\ndwelling houses at 213 TO 219 East 4sth\nSt. between Second and Third avs, has\nbeen bought by Louis j. Marx from\nSarah Jane Lynch through Victor\nFreund & Son. The houses occupy a\nsite 69XlOO.5 feet. and will be improved\nwith six story apartment house.\n\n\nThe four story dwelling house at SO\nEast 1l1th ST., on plot l6Xl0O, near\nPark av., has been sold four times\nwithin thirty days. each time at a\nslight advance in price over the pre-\nceding one. About one month ago 1t\nwas sold by the Franklin Savings\nBank to Harris & Maurice Mandel-\nbaum. who in few days resold 1t TO\nHenry Friedman, president of the\nFriedman Construction Company, who\nintended TO occupy it. Receiving an\noffer at n slight advance, he sold out\nto Philip D. Shapiro, who bought as\nattorney for Annie Davis. The fourth\nsale was closed yesterday, when Mrs.\nDavis sold the property to Meyer Da-\nvidofF.\n\n\nOther sales follow:\n\n\n10th sT-The George Cohurn Construction Com\nWest i7a-h = a i've story apartment, house. on\npl0 5itloo adjoining TIE Heather Dell Court at\n\n\n\n\n\nbought the property IA 1909 from the Fort WASH\ninCan Syndicate ana erected the house from plans\nhy Evru Erou\n\n\nlpTH SIN l. strInsky a Co and George\np McNsl'y have sold for Mrs Gertrude A Cor\nman he r'ct. l0oslo0. on tho south side q lSP'h\nIT, 100 feet EAST Of S. Nicholas Az The purchaser\ns. tho Bulldog Corporation. Samuel Behr\nman. president which viii erect on the site two\nfive story apartment houses arranged IN suites o.\nthee four and i've rooms Work win Do started\nImmediately arl the houses are % be- ready Tor oc-\ncupaury o. september Tho Lawyers Mortgage Com\npsry has made a building HuI permanent loan on\na., property\n\n\nBEAUMONT Av.-Psm > M~Golhrk has re-\nso.t 2aoi BEAUMONT a7. a four story sixteen family\nrew-i4T f4.. o1 plot 81 6IiO0. located ll26 feet\nuorth of lssI r TIC seller acquired the house last\nmonth from David ~'e.u\n\n\nLORlLLANp ILACE-Tis Russo iodice Realty\nCompany La, bought from Nn Mar @. Donovan\nAz John uu1J the plot 50rlO0. on the east.\nside o. Ior. nrI Place I2l feet north Of Third\nAz 10 vii Be improved with I've story apart\nmant\n\n\n225TU sT-wnism c. q 4 Edward Lester\nhave sold 20 Henry r. Miller ne lot. HIllA Ad-\nJoining bis residence. at $40 East 2-ith 81.",
         "[('four', 'CARDINAL'), ('213', 'CARDINAL'), ('Second', 'ORDINAL'), ('Third', 'ORDINAL'), ('Louis j. Marx', 'PERSON'), ('Sarah Jane Lynch', 'PERSON'), ('Victor\\nFreund & Son', 'ORG'), ('69XlOO.5 feet', 'QUANTITY'), ('six', 'CARDINAL'), ('four', 'CARDINAL'), ('SO\\nEast 1l1th ST.', 'FAC'), ('plot l6Xl0O', 'FAC'), ('Park av.', 'FAC'), ('four', 'CARDINAL'), ('thirty days', 'DATE'), ('About one month ago 1t', 'DATE'), ('the Franklin Savings\\nBank', 'ORG'), ('Harris & Maurice Mandel-\\nbaum', 'ORG'), ('few days', 'DATE'), ('Henry Friedman', 'PERSON'), ('the\\nFriedman Construction Company', 'ORG'), ('Philip D. Shapiro', 'PERSON'), ('Annie Davis', 'PERSON'), ('fourth', 'ORDINAL'), ('yesterday', 'DATE'), ('Davis', 'PERSON'), ('Meyer Da-\\nvidofF', 'ORG'), ('10th', 'ORDINAL'), ('TIE Heather Dell Court', 'ORG'), ('1909', 'DATE'), ('Fort WASH\\ninCan Syndicate ana', 'ORG'), ('Evru Erou', 'PERSON'), (\"George\\np McNsl'y\", 'PERSON'), ('Gertrude A Cor', 'PERSON'), ('100 feet', 'QUANTITY'), ('Bulldog Corporation', 'ORG'), ('Samuel Behr', 'PERSON'), ('two', 'CARDINAL'), ('five', 'CARDINAL'), ('four', 'CARDINAL'), ('september', 'DATE'), ('HuI', 'NORP'), ('BEAUMONT Av.-Psm', 'FAC'), ('M~Golhrk', 'PERSON'), ('7', 'CARDINAL'), ('four', 'CARDINAL'), ('sixteen', 'CARDINAL'), ('81', 'CARDINAL'), ('ll26 feet', 'QUANTITY'), ('last\\nmonth', 'DATE'), ('David', 'PERSON'), ('LORlLLANp ILACE-Tis Russo iodice Realty\\nCompany La', 'ORG'), ('225', 'CARDINAL'), ('Edward Lester', 'PERSON'), ('20', 'CARDINAL'), ('Henry', 'PERSON'), ('Miller', 'PERSON'), ('HIllA Ad', 'ORG'), ('40', 'MONEY'), ('81', 'CARDINAL')]"
        ],
        [
         "45",
         "3_1915-05-04_p3_sn85038411_00296028150_1915050401_0397",
         "GOVERNOR S CHILD\n\n\nLABOR BILL PASSES\nSnyder's Attempt to Amend Fails\nand Measure Is Now Up to\n\n\nExecutive",
         "Harrisburg telegraph. [volume] (Harrisburg, Pa.) 1879-1948",
         "1915-05-04 00:00:00",
         "Governor Brumbaugh's child labor\nbill, unamended. finally passed the\nSenate last night by vote of \"A ayes\nto nays. This was the final step in\nthe administration victory, and the\nfor his signature.\n\n\nThe defeat Just before midnight,\nor a motion to go into committee of\nthe whole for the purpose of amend\ning the bill heralded its final and\nsuccessful passage in the form as it\ncame from the House. The vote on\nthis motion was 81 to IS.\n\n\nThe new law which will go into\neffect on the first of next year. was\npassed by the Senate after a lengthy\ndebate, at the conclusion of which\namendments in the interests OF the\nmanufacturers and then in the in\nterests of the Gamers were success\nlively voted down. Senator c. A. Sny7\nder, OF Schuylkill. made the principal\nargument in favor of the manufac-\nturers' amendments.\n\n\nIn his speech he attacked the \"en-\ncroachment of the Chief Executive\nupon the Legislature\" and also his\nchampions. Senators McNichol and\nWare. These latter Senators replied,\nsaying in effect that il was not a ques-\nton of constitutional lines of de-\nmarcation. but rather of being guided\nby the light of experience with child\nhood.\n\n\nTest Vote on Amending\n\n\nThe final vote on the bill was ~\nayes to 6 nays. This vote was pre-\nceded by a vote of 81 to 1S on the\nquestion of going into committee OF\nthe whole for the purpose of consid-\nering amendments.\n\n\nThe six Senators who voted against\nthe final passage of the bill were\nBuckman. of Bucks; Catlin. of Lu-\nzerne; William Wallace Smith, a Ware\nfollower. from Philadelphia Snyder,\nof Schuylkill; Scnes, of Lycoming.\nand Warner, of Carbon. The vote\nBurke, Clark. Croft, Crow, Daix. De-\nWitt Endsley, Farley, Gerberich.\nGraft, Gyger. Hackett Herbst, Hilton.\nHindman. Hoke. Homsher, Jenkins,\nKline. Kurtz. Lynch. Magee, Martin,\nMcconnell, Mckee. McNichol, Miller.\nMills, Moore, Patton. Phipps, Salus.\nSchautz. Semmens. Sensenich. r. E.\nSmith, P. w. Snyder. Sproul, Stew\nart, Thompson, Tompkins, Ware and\nWashers.\n\n\nThe test vote on the attempt to\namend showed this alignment:\n\n\nYeas-Buckman, Clark. Grow, De-\nwitt, Herbst, Kurtz, Lynch, Smith,\nwilliams, c. A. Snyder. Sones. Sproul,\nWarner, Wasbers-13.\n\n\nNays = Beidleman, Burke, Catlin.\nCroft, Daix, Endsley. Farley. Gerber\nich, Graf, Gyger, Hackett, Hilton,\nHindman, Hoke, Homsher. Jenkins.\nKline, c. ]. Magee. Martin. McCon-\nnell. \". S. Mckee, McNichol. Miller.\nMills. Moore, Patton. Phipps, Salus.\nSchantz, Semmens. Sensenich. Ray\nmond E. Smith, p. W. Snyder, Stew\nart Thompson, Tompqins, Vare-3 I.",
         "[(\"Brumbaugh's\", 'PERSON'), ('Senate', 'ORG'), ('last night', 'TIME'), ('Just before midnight', 'TIME'), ('House', 'ORG'), ('81', 'CARDINAL'), ('the first of next year', 'DATE'), ('Senate', 'ORG'), ('Gamers', 'ORG'), ('c. A. Sny7', 'PERSON'), ('Schuylkill', 'PERSON'), ('Legislature', 'ORG'), ('McNichol', 'PERSON'), ('Ware', 'PERSON'), ('6', 'CARDINAL'), ('81', 'CARDINAL'), ('1S', 'CARDINAL'), ('six', 'CARDINAL'), ('Buckman', 'PERSON'), ('Catlin. of Lu-\\nzerne', 'PERSON'), ('William Wallace Smith', 'PERSON'), ('Ware', 'ORG'), ('Philadelphia Snyder', 'PERSON'), ('Schuylkill', 'GPE'), ('Scnes', 'ORG'), ('Lycoming', 'GPE'), ('Warner', 'ORG'), ('Carbon', 'ORG'), ('Burke', 'PERSON'), ('Clark', 'PERSON'), ('Croft', 'PERSON'), ('Crow', 'PERSON'), ('Daix', 'PERSON'), ('De-\\nWitt Endsley', 'PERSON'), ('Farley', 'PERSON'), ('Gerberich', 'PERSON'), ('Hackett Herbst', 'PERSON'), ('Hilton', 'GPE'), ('Hindman', 'PERSON'), ('Hoke', 'PERSON'), ('Homsher', 'PERSON'), ('Jenkins', 'PERSON'), ('Kline', 'PERSON'), ('Kurtz. Lynch', 'PERSON'), ('Magee', 'PERSON'), ('Martin', 'PERSON'), ('Mcconnell', 'PERSON'), ('Mckee. McNichol', 'PERSON'), ('Miller.\\nMills', 'ORG'), ('Moore', 'PERSON'), ('Patton', 'PERSON'), ('Phipps, Salus', 'ORG'), ('Schautz', 'PERSON'), ('Semmens', 'PERSON'), ('Sensenich', 'PERSON'), ('r. E.\\nSmith', 'PERSON'), ('P. w. Snyder', 'PERSON'), ('Sproul', 'PERSON'), ('Thompson, Tompkins, Ware and\\nWashers', 'ORG'), ('Yeas-Buckman', 'PERSON'), ('Clark', 'PERSON'), ('De-\\nwitt', 'PERSON'), ('Herbst', 'PERSON'), ('Kurtz', 'PERSON'), ('Lynch', 'PERSON'), ('Smith', 'PERSON'), ('c. A. Snyder', 'PERSON'), ('Sproul', 'PERSON'), ('Warner', 'ORG'), ('Wasbers-13', 'DATE'), ('Beidleman', 'PERSON'), ('Burke', 'PERSON'), ('Catlin.\\nCroft', 'PERSON'), ('Daix', 'PERSON'), ('Endsley', 'PERSON'), ('Farley', 'PERSON'), ('Gerber\\nich', 'PERSON'), ('Graf', 'PERSON'), ('Gyger', 'PERSON'), ('Hackett', 'PERSON'), ('Hilton', 'ORG'), ('Hindman', 'PERSON'), ('Hoke', 'PERSON'), ('Homsher', 'PERSON'), ('Jenkins', 'PERSON'), ('Kline', 'PERSON'), ('Magee', 'PERSON'), ('S. Mckee', 'PERSON'), ('Miller', 'PERSON'), ('Moore', 'PERSON'), ('Patton', 'PERSON'), ('Phipps, Salus', 'ORG'), ('Schantz', 'PERSON'), ('Semmens', 'PERSON'), ('Sensenich', 'PERSON'), ('Ray\\nmond E. Smith', 'PERSON'), ('W. Snyder', 'PERSON'), ('Stew\\nart Thompson', 'PERSON'), ('Tompqins, Vare-3', 'WORK_OF_ART')]"
        ],
        [
         "46",
         "5_1915-02-26_p4_sn82016014_00295870254_1915022601_0589",
         "Jayhawker Jots",
         "The Topeka state journal. [volume] (Topeka, Kansas) 1892-1980",
         "1915-02-26 00:00:00",
         "Shut up your chickens, urges the\nOttawa Herald. One energetic hen\ncan play the very old scratch in q\nneighborhood.\n\n\nAS the Arkansas City Traveller ex-\nplains: A man buys a hat that fits\nhis head; a woman buys one that fits\nher pocketbOok.\n\n\nWar seems to be more potent than\nyeast, remarks Dave Leahy in the\nEldorado Republican, In raising the\nhousewives loaf.\n\n\nA young man seafching for a wife\nwith domestic tastes might gain an\nIntroduction, suggests the Lawrence\nJournal-World. to Miss Kitchen Of\nsouthern Kansas.\n\n\nWithin a week., notes Charlie\nBlakesley in the Kansas City Star, rain\nhas fallen in central Kansas four days\nnecessarily. And he adds that II the\nwheat growers are indignant they\nmanage to conceal the fact.\n\n\nHi Statzell says. according to the\nNewton Kansan-Republican that\nspeaking of the war, there is enough\nenergy burned up in the newspaper\nbusiness in Kansas every day to whip\neither side OF the belligerent parties.\n\n\nOne of the bloodiest battles of the\nwar has been fought in Champagne,\none of the provinces of France. notes\nthe Hutchinson Gazette, and, it adds:\nThus the crimson of war vies with\nthe red of wine In depOpulating the\ndevastated land\" All of which is q\nsignificant thought very POLITICALLY\nexpressed. only it happens that the\nwine which takes its name from this\nFrench province is white. or yellow\nish, or amber, but never red.\n\n\nAtchison women are not \"entertain-\ning now; it is Lent, says the Atchison\nGlobe. To be sure, in homes where\nsociety reigns, every day or SO there\nare a few tables of bridge whist pre-\nceding or following refreshments .\nIn cases where the guests do not play\nbridge the guests arrive carrying work\nbags, and the afternoon is spent in\nwork, talk and refreshments\" Were\nit not Lent, such an affair would be a\nKensington. Occasionally there is a\nluncheon in.the homes of society wom-\nen- at fhis season, but because It, il\nLent, none OF, these affairs get intQ. the\npaper. So IL the society column is a\nlittle du1ler than usual please be leni-\nemit; the society reporter is keeping\nLent.",
         "[('the\\nOttawa Herald', 'ORG'), ('One', 'CARDINAL'), ('Arkansas City', 'GPE'), ('Dave Leahy', 'PERSON'), ('Eldorado', 'GPE'), ('Republican', 'NORP'), ('the Lawrence\\nJournal-World', 'ORG'), ('Kansas', 'GPE'), ('a week.', 'DATE'), ('Charlie\\nBlakesley', 'PERSON'), ('the Kansas City Star', 'FAC'), ('Kansas', 'GPE'), ('four days', 'DATE'), ('Statzell', 'PERSON'), ('Newton Kansan', 'PERSON'), ('Republican', 'NORP'), ('Kansas', 'GPE'), ('One', 'CARDINAL'), ('Champagne', 'GPE'), ('one', 'CARDINAL'), ('France', 'GPE'), ('the Hutchinson Gazette', 'ORG'), ('French', 'NORP'), ('Atchison', 'PERSON'), ('the Atchison\\nGlobe', 'ORG'), ('Kensington', 'GPE')]"
        ],
        [
         "47",
         "8_1915-09-23_p3_sn89052329_00279528281_1915092301_0171",
         "w",
         "Cheyenne record.",
         "1915-09-23 00:00:00",
         "Colorado Is to have auto mail deliv-\ncry.\n\n\nThe eighteenth annual meeting of\nthe American Mining Congress was\nheld in San Francisco.\n\n\nCharles E. Lynch of Denver is dead\nas the result of an automobile acci-\ndent near Idaho Falls, Ida.\n\n\nThe Rt. Rev. Thos. A. Conaty,\nbishop of the Catholic diocese of Los\nAngeles and Monterey was found dead\nin bed in cottage at Coronado\nBeach, Calf.\n\n\nThe fifteenth anniversary of the in\ndependence of Guatemala was cele-\nbrated as Guatemala day at the Pan\nma-Pacific Exposition at San Fran\ncisco.\n\n\nA large party representing the elite\nof society of half dozen cities, jour\nneyed by special train from New York\nto Easthampton, L. l., to attend the\nwedding of Miss Olga Wiborg and Sid\nney Webster Fish.\n\n\nFinal surveys, preparatory to con-\nstruction work, have been made dur\ning the past few days on the extern\nsion of the Union Pacific system from\nWyoming into the Colorado field\ntapped by the Moffat road.\n\n\nNewman Erb, wealthy railroad or\nganizer, was reported to be in COM\nPortable and satisfactory condition\nMonday, no change having taken\nplace since he recovered from the\nfirst effects of the two poison tab\nlets he swallowed by mistake",
         "[('Colorado', 'GPE'), ('eighteenth', 'ORDINAL'), ('the American Mining Congress', 'ORG'), ('San Francisco', 'GPE'), ('Charles E. Lynch', 'PERSON'), ('Denver', 'GPE'), ('Idaho Falls', 'GPE'), ('Ida', 'GPE'), ('The Rt. Rev. Thos', 'PERSON'), ('A. Conaty', 'PERSON'), ('Catholic', 'NORP'), ('Los\\nAngeles', 'GPE'), ('Monterey', 'GPE'), ('Coronado\\nBeach', 'GPE'), ('Calf', 'GPE'), ('fifteenth', 'ORDINAL'), ('Guatemala', 'GPE'), ('Guatemala', 'GPE'), ('the Pan\\nma-Pacific Exposition', 'EVENT'), ('San Fran', 'LOC'), ('half dozen', 'CARDINAL'), ('New York', 'GPE'), ('Easthampton', 'GPE'), ('L. l.', 'GPE'), ('Olga Wiborg', 'PERSON'), ('Sid\\nney Webster Fish', 'PERSON'), ('the past few days', 'DATE'), ('Union Pacific', 'LOC'), ('Wyoming', 'GPE'), ('Colorado', 'GPE'), ('Moffat', 'PERSON'), ('Newman Erb', 'PERSON'), ('COM\\nPortable', 'ORG'), ('Monday', 'DATE'), ('first', 'ORDINAL'), ('two', 'CARDINAL')]"
        ],
        [
         "48",
         "17_1915-09-28_p6_sn87093407_00200290677_1915092801_0218",
         "CHORUS OF 100 TO\n\n\nSING WEDNESDAY",
         "The Seattle star. [volume] (Seattle, Wash.) 1899-1947",
         "1915-09-28 00:00:00",
         "One OF the biggest flocks Of song\nbirds In the city In 10 be found AZ\nGreen Lake. A hundred OF them.\nassisted by Madame Hesse-sprot,e\nand Herbert Williams. viii sing Sir\nArthur sullivans \"Prodigal Son\"\nWednesday at S p. m. In the Green\nLake NJ. r. church. Tho choir Is\nunder the direction OF Montgomery\nLynch. with Mrs. Lynch at the\norgan",
         "[('One', 'CARDINAL'), ('10', 'CARDINAL'), ('AZ\\nGreen Lake', 'LOC'), ('hundred', 'CARDINAL'), ('Madame Hesse-sprot', 'PERSON'), ('Herbert Williams', 'PERSON'), ('Arthur', 'PERSON'), ('Prodigal Son\"', 'WORK_OF_ART'), ('Wednesday', 'DATE'), ('Green\\nLake', 'GPE'), ('Montgomery\\nLynch', 'PERSON'), ('Lynch', 'PERSON')]"
        ],
        [
         "49",
         "14_1915-09-12_p1_sn83030272_00206535027_1915091201_0638",
         "FOOTBALL PRACTICE\n\n\nAT DELAWARE GAP.\n\nMarried Men Win in Baseball\nGame by Decisive Score\n\n\nof 6 to >.\n\nGUESTS FROM NEW YORK",
         "The sun. [volume] (New York [N.Y.]) 1833-1916",
         "1915-09-12 00:00:00",
         "DELAWARE WATER GAr. Pa. SEPT. II.\nAthletics are Interesting everybody\nat the Gle. wood. where the Lafayette\nFOOTBALL team has arrived Tor the pre-\nliminary fall practice. 1t present. In\naddition 20 Coach Croweli. mos; ~\nthe old players have appeared and A\nnumber OF candidates are here eager\nfor a tryout They will he here FOR\ntwo weeks and before they leave Will\nhe in condition for hard work on IN.\nheld. 4 baseball amt between the\nmarried and single men az the house\ncreated a great deal Of interest his\n\" elk. The married men Won hy a\nscore OF s to 2 W. II Driscoll OF\nBrooklyn starred for the married men.\nwhile for the opposite cid +. \\. Haaren\nOf Brooklyn, Jack Hll,egan Of New\nYork a-d Dave Hamilton of Philadel-\nphia did valiant service.\n\n\nRecent arrivals al Water GAP from\nNew York\n\n\nWater Gap Hpuse-Nr. aud Mrs. II.\nJ. Schroeder, Miss Gertrude schroeder.\nGeorge +. WoCdhuIu. \\ \\. caldwell,\nJares italian. Mr. and MIS- = 3 Andrew,\n{, G. Realty. pr. g. n. Grayson and\nparty, Mr.. and Mrs. \" II Martin. Mr..\nard Mrs. Marcus Braun. Miss Garcia r.\nBraun, Miss Lillian NJ l.pWtN. George u.\nWcly, Dr. and Ms T.. RpyIrro. Mr..\nanu MIs r + SCltfN, MISS 'Alh'''ne\nNv rs. J. 4. Frost, Jr. Mss |. Wat\nkins. + X Lyons, + Z. Murray, Dr.\nT. J. Thomas. \" g. Cayllli. i \\.\nHendrick, { ~ Thomas, Mr.. and Mrs.\nSamuel Tucker, NJ\" a'd Mrs. i r.\nMcTeaEuc, Mr.. snd Mrs H. NJ Bates.\n\n\nKlttltinny-Mr and Ms. l. g Grlf-\nnth, Mr.. and Mrs. VI Bennett, Charles\nMiddocks, Ray Evans. J. Gl!oil, c. T..\nWinter, Mrs. NJ. NJ Newport, Mr.. and\nMrs. Edgar E.uostrpm Miss Grita Enc\nstrom, Miss Eva Kelly. l.. White. Mrs.\nHarry y. ponohur, NJ. and Mrs. John\n+. buckle, e. :. Webb. J. y. Wilmer.\n\n\nGlenwood-Miss q. NJ Burlnck. Miss\nJennie j, Reilly, Charles J. Fahrcu-\nkoff, O.. +. G. Ncstom. VI. T., Ardle. Mr..\nand Mrs. JOIN f. GilrhrIst, Louis\nWendell, Jr, +. j. Wclch. i. Il. Thomas,\nl.. W~aHnemaker. NJ Iiissey, r. l.. Hart,\nc, j. Webb, j y. Miner, T., I. Haaren,\n\n\nCastle lnn-Mr. and Mrs !. Decker,\nMr.. and Mrs. Charles Fox. Miss Eleanor\nNJ Davis Miss Elizabeth Lauh. Miss\nelizabeth Hughes. Mrs. Marie kimball,\nMiss Dorothy C%hesmoud. Robert Bcrcn-\nshein, Richard Sylvester. Henry Vail.\n\n\nCentral-Miss Adelaide Courtcuay,\nMrs. Helen T.. Peck, Mrs. :. J. Luck\nings, Mr., and Mrs. William Neidlinger.\nMrs. G. Adler. +. \". Wonderland, Mr..\nand Mrs. j. u. Wright. MIR. and Mrs.\nW. IL Carpenter, Mr., and Mrs. Henry\nErving. George Cloke, Mrs, +. Cloko.\nMr.. and Mrs. II. Howe and +, j. Stein\nbeck.\n\n\nCataract House-pavid Sarnass,\nJames Lynch. Miss L. Marcel, Charles\nPullman, Mr., and Mrs. w. II. Doo-\nlittle. Miss NJ \\. Mccormick, Miss Mar\nguerite Kelly, G. Dressed, MI. and Mrs,\nwilliam Hine, Miss II. Hayward, II. J.\nKohl, Miss Bertha d. Greene. samuel\nGriffith, Harry l.. Griffith, Mr., and Mrs,\nY. LaHdsdare. Mr.. aud Mrs. G. II\nStoecklin. Mr.. and Mrs. T.. VI. Cohn. L.\nNJ. Robinson, h, Wood. Mr., and Mrs,\nsamuel Martin. Miss Lillian Smith, Les\nter Keith, Mr., and Mrs. sherman Keith\nand George Abbott.\n\n\nCourtenay Lodge-Mr, and Mrs. O.. III.\nClayton. Claude h. Ledger. Miss Louise\nNJ. Tramson, Miss Margaret Keller,\nMisses \". and III. Malone, Mr.. and Mrs.\nIL, &. Mellican,\n\n\nDelaware House-Mrs, +, NJ Baker.\nMiss Edith Baker, Mrs, +. Pauniska,\nMrs. W. IL. Hammcrstein, q. Il. Wood\nand party, a. l.. Ahlbrecht, Mr.. and\nMrs, Leo Daft. Mr., and Mrs. Z. A..\nKolesh, Mr.. and Mrs, Meyer and daugh-\nter. Mrs. q. Laub. II. n. Wait, Mr.. and\nMrs. Nj. s, Rodders, II. j, Logan, Jr.\n\n\nRiver Views Lish. Miss Edith HON.\nman, Miss II. Matthews, Mr.. and Mrs.\nJames 7, McCann, Mr.. and Mrs, John\nl.. Rockford, Joseph v. Hohohan, Mrs.\nl.\" Ackrood, Bernard ]. Gilroy, Miss\nl., II. DENIM. Miss Minnie Rockford,\nMiss Florence r. Spier, Norman II.\nThompson.\n\n\nMountain House-Mrs. T Tweedale,\nMrs, II. Van Ardle, +. Tweodale. Mrs.\nNJ. A. Noe. Mr.. and Mrs. Robert II.\nReeve, i, y. Ingram. r G, OILS, Thomas\nIII, Child. Mrs, j.. Il. Ingram and daugh-\nter.\n\n\nOaks-George II. Denncrlein. Mr.. and\nMrs, James j. Farley, Miss Eleanor NJ.\nFarley, Miss Eugene Farley. Winlfred\nFarley, Mr., n Mrs. w. o. Hart, Mr..\nand Mrs, A. petcrmann. Mr., and Mrs.\nCarl r. Weber. Mr., and Mrs. John\nMayer.\n\n\nFar vlew-Mr, and Mrs. II. A. Hem\nter. Mr., n Mrs, George Ulttman,\nMr. and Mrs, II, r. Corwin.\n\n\nValley Visw-Mrs. J. Stuart. Mrs. A.\nstuart.",
         "[('DELAWARE', 'GPE'), ('Pa.', 'GPE'), ('Gle.', 'GPE'), ('Lafayette\\nFOOTBALL', 'ORG'), ('20', 'CARDINAL'), ('Croweli', 'PERSON'), ('two weeks', 'DATE'), ('4', 'CARDINAL'), ('2 W. II Driscoll', 'WORK_OF_ART'), ('Brooklyn', 'GPE'), ('Brooklyn', 'GPE'), ('Jack Hll', 'PERSON'), ('New\\nYork', 'GPE'), ('Dave Hamilton', 'PERSON'), ('Philadel-\\nphia', 'GPE'), ('al Water GAP', 'ORG'), ('New York', 'GPE'), ('II.\\nJ. Schroeder', 'PERSON'), ('Gertrude schroeder', 'PERSON'), ('George', 'PERSON'), ('Jares italian', 'PERSON'), ('MIS- = 3 Andrew', 'ORG'), ('G. Realty', 'ORG'), ('Grayson', 'PERSON'), ('II Martin', 'PERSON'), ('Marcus Braun.', 'PERSON'), ('Garcia r.\\nBraun', 'PERSON'), ('Lillian NJ', 'PERSON'), ('George u.\\nWcly', 'PERSON'), ('J. 4. Frost', 'PERSON'), ('X Lyons', 'PERSON'), ('Z. Murray', 'PERSON'), ('T. J. Thomas', 'PERSON'), ('Hendrick', 'PERSON'), ('Thomas', 'PERSON'), ('Samuel Tucker', 'PERSON'), ('NJ', 'GPE'), ('r.\\nMcTeaEuc', 'PERSON'), ('H. NJ Bates', 'PERSON'), ('l. g Grlf-\\nnth', 'PERSON'), ('VI Bennett', 'PERSON'), ('Charles\\nMiddocks', 'PERSON'), ('Ray Evans.', 'PERSON'), ('J. Gl!oil', 'PERSON'), ('NJ.', 'GPE'), ('Newport', 'GPE'), ('Edgar E.uostrpm', 'PERSON'), ('Grita Enc\\nstrom', 'PERSON'), ('Eva Kelly', 'PERSON'), ('Harry y. ponohur', 'PERSON'), ('NJ.', 'GPE'), ('John\\n+. buckle', 'PERSON'), ('Webb. J. y. Wilmer', 'PERSON'), ('Glenwood', 'GPE'), ('NJ Burlnck', 'PERSON'), ('Jennie j', 'PERSON'), ('Reilly', 'PERSON'), ('Charles J. Fahrcu-\\nkoff', 'PERSON'), ('GilrhrIst', 'PERSON'), ('Louis\\nWendell', 'PERSON'), ('Jr', 'PERSON'), ('Il. Thomas', 'PERSON'), ('NJ Iiissey', 'GPE'), ('Hart', 'PERSON'), ('j. Webb', 'PERSON'), ('j y. Miner', 'PERSON'), ('T.', 'NORP'), ('I. Haaren', 'PERSON'), ('Castle lnn-Mr.', 'PERSON'), ('Decker', 'PERSON'), ('Charles Fox.', 'PERSON'), ('Eleanor\\nNJ Davis', 'PERSON'), ('Elizabeth Lauh', 'PERSON'), ('elizabeth Hughes.', 'PERSON'), ('Marie kimball', 'PERSON'), ('Dorothy C%hesmoud', 'PERSON'), ('Robert Bcrcn-\\nshein', 'PERSON'), ('Richard Sylvester', 'PERSON'), ('Henry Vail', 'PERSON'), ('Adelaide Courtcuay', 'PERSON'), ('Helen T.. Peck', 'PERSON'), ('J. Luck', 'PERSON'), ('William Neidlinger', 'PERSON'), ('G. Adler.', 'PERSON'), ('j. u. Wright', 'PERSON'), ('W. IL Carpenter', 'PERSON'), ('Henry\\nErving', 'PERSON'), ('George Cloke', 'PERSON'), ('II', 'PERSON'), ('Howe', 'PERSON'), ('j. Stein\\nbeck', 'PERSON'), ('Cataract House-pavid Sarnass', 'ORG'), ('James Lynch', 'PERSON'), ('L. Marcel', 'PERSON'), ('Charles\\nPullman', 'PERSON'), ('NJ \\\\. Mccormick', 'PERSON'), ('Mar\\nguerite Kelly', 'PERSON'), ('G. Dressed', 'PERSON'), ('william Hine', 'PERSON'), ('Hayward', 'PERSON'), ('J.\\nKohl', 'PERSON'), ('Bertha d. Greene.', 'PERSON'), ('samuel\\nGriffith', 'PERSON'), ('Harry l.. Griffith', 'PERSON'), ('Y. LaHdsdare', 'PERSON'), ('G. II\\nStoecklin.', 'PERSON'), ('Cohn. L.\\nNJ. Robinson', 'PERSON'), ('Wood', 'PERSON'), ('samuel Martin', 'PERSON'), ('Lillian Smith', 'PERSON'), ('Les\\nter Keith', 'PERSON'), ('sherman Keith', 'PERSON'), ('George Abbott', 'PERSON'), ('Courtenay Lodge-Mr', 'PERSON'), ('O.. III', 'PERSON'), ('Clayton', 'PERSON'), ('Claude h. Ledger', 'PERSON'), ('Louise\\nNJ. Tramson', 'PERSON'), ('Margaret Keller', 'PERSON'), ('Misses', 'PERSON'), ('Malone', 'PERSON'), ('IL', 'PERSON'), ('Mellican', 'PERSON'), ('Delaware House', 'ORG'), ('NJ', 'GPE'), ('Edith Baker', 'PERSON'), ('Pauniska', 'PERSON'), ('W. IL. Hammcrstein', 'PERSON'), ('Ahlbrecht', 'PERSON'), ('Leo Daft.', 'PERSON'), ('Z. A..\\nKolesh', 'PERSON'), ('Meyer', 'PERSON'), ('Nj.', 'PERSON'), ('Rodders', 'PERSON'), ('Logan', 'PERSON'), ('Jr.', 'PERSON'), ('Edith', 'PERSON'), ('Matthews', 'PERSON'), ('James 7', 'PERSON'), ('McCann', 'PERSON'), ('Mrs', 'PERSON'), ('John\\nl.. Rockford', 'PERSON'), ('Joseph v. Hohohan', 'PERSON'), ('l.\" Ackrood', 'PERSON'), ('Bernard', 'PERSON'), ('Gilroy', 'PERSON'), ('Minnie Rockford', 'PERSON'), ('Florence r. Spier', 'PERSON'), ('Norman II', 'PERSON'), ('Thompson', 'PERSON'), ('Mountain House', 'FAC'), ('T Tweedale', 'PERSON'), ('Van Ardle', 'PERSON'), ('NJ. A. Noe. Mr..', 'PERSON'), ('Robert II', 'PERSON'), ('Reeve', 'PERSON'), ('Ingram', 'PERSON'), ('Thomas\\nIII', 'PERSON'), ('Ingram', 'PERSON'), ('Oaks-George II. Denncrlein', 'PERSON'), ('Mrs', 'PERSON'), ('James j. Farley', 'PERSON'), ('Eleanor NJ.\\nFarley', 'PERSON'), ('Eugene Farley', 'PERSON'), ('Winlfred\\nFarley', 'PERSON'), ('Hart', 'PERSON'), ('A. petcrmann', 'PERSON'), ('Carl r. Weber.', 'PERSON'), ('John\\nMayer', 'PERSON'), ('Far vlew-Mr', 'PERSON'), ('II', 'PERSON'), ('George Ulttman', 'PERSON'), ('Mrs', 'PERSON'), ('r. Corwin', 'PERSON'), ('J. Stuart', 'PERSON'), ('A.\\nstuart', 'PERSON')]"
        ]
       ],
       "shape": {
        "columns": 6,
        "rows": 375444
       }
      },
      "text/html": [
       "<div>\n",
       "<style scoped>\n",
       "    .dataframe tbody tr th:only-of-type {\n",
       "        vertical-align: middle;\n",
       "    }\n",
       "\n",
       "    .dataframe tbody tr th {\n",
       "        vertical-align: top;\n",
       "    }\n",
       "\n",
       "    .dataframe thead th {\n",
       "        text-align: right;\n",
       "    }\n",
       "</style>\n",
       "<table border=\"1\" class=\"dataframe\">\n",
       "  <thead>\n",
       "    <tr style=\"text-align: right;\">\n",
       "      <th></th>\n",
       "      <th>index</th>\n",
       "      <th>headline</th>\n",
       "      <th>newspaper_name</th>\n",
       "      <th>date</th>\n",
       "      <th>article</th>\n",
       "      <th>entities</th>\n",
       "    </tr>\n",
       "  </thead>\n",
       "  <tbody>\n",
       "    <tr>\n",
       "      <th>0</th>\n",
       "      <td>1_1915-09-29_p2_sn82014519_00414183025_1915092...</td>\n",
       "      <td>TABS PLAN ORCHESTRA.</td>\n",
       "      <td>New Britain herald.</td>\n",
       "      <td>1915-09-29</td>\n",
       "      <td>Members of the Y. M. T. A, &amp; B. society posses...</td>\n",
       "      <td>[('the Y. M. T. A, &amp; B.', 'ORG'), ('J Kerin', ...</td>\n",
       "    </tr>\n",
       "    <tr>\n",
       "      <th>1</th>\n",
       "      <td>1_1915-08-13_p4_sn87090131_00200299772_1915081...</td>\n",
       "      <td>NEWELLTON NOTES.</td>\n",
       "      <td>Tensas gazette. [volume] (St. Joseph, La.) 188...</td>\n",
       "      <td>1915-08-13</td>\n",
       "      <td>Mr.. Trindle spent several days in Nat\\nchez t...</td>\n",
       "      <td>[('Trindle', 'PERSON'), ('several days', 'DATE...</td>\n",
       "    </tr>\n",
       "    <tr>\n",
       "      <th>2</th>\n",
       "      <td>18_1915-10-08_p1_sn90051185_00513681148_191510...</td>\n",
       "      <td>The TRUTH ABOUT\\nthe CHMELKA KID.\\n\\n\\nMAPPING...</td>\n",
       "      <td>The Holly chieftain.</td>\n",
       "      <td>1915-10-08</td>\n",
       "      <td>That the true facts in the\\nChmelka kidnapping...</td>\n",
       "      <td>[('Chmelka', 'PERSON'), ('Chmelka', 'GPE'), ('...</td>\n",
       "    </tr>\n",
       "    <tr>\n",
       "      <th>3</th>\n",
       "      <td>5_1915-01-14_p1_sn88085445_0021110756A_1915011...</td>\n",
       "      <td>LAST CALL SOUNDS FOR\\n\\n\\nCOMRADE WILCOXEN</td>\n",
       "      <td>The Lynden tribune. [volume] (Lynden, Wash.) 1...</td>\n",
       "      <td>1915-01-14</td>\n",
       "      <td>Charles Baxter WilcoXen, Civil\\nwar veteran, p...</td>\n",
       "      <td>[('Charles Baxter WilcoXen', 'PERSON'), ('Frid...</td>\n",
       "    </tr>\n",
       "    <tr>\n",
       "      <th>4</th>\n",
       "      <td>10_1915-08-21_p8_sn88051105_00513687928_191508...</td>\n",
       "      <td>oh, That Lash!</td>\n",
       "      <td>The Harrison times.</td>\n",
       "      <td>1915-08-21</td>\n",
       "      <td>Tommy had watched the high-hatted\\nand frock-c...</td>\n",
       "      <td>[('Tommy', 'PERSON'), ('Tommy', 'PERSON'), ('T...</td>\n",
       "    </tr>\n",
       "    <tr>\n",
       "      <th>...</th>\n",
       "      <td>...</td>\n",
       "      <td>...</td>\n",
       "      <td>...</td>\n",
       "      <td>...</td>\n",
       "      <td>...</td>\n",
       "      <td>...</td>\n",
       "    </tr>\n",
       "    <tr>\n",
       "      <th>375439</th>\n",
       "      <td>3_1944-08-02_p5_sn82014085_00393347053_1944080...</td>\n",
       "      <td>Florence Whitney\\n\\n\\nGuest AtShOWerS</td>\n",
       "      <td>The Waterbury Democrat.</td>\n",
       "      <td>1944-08-02</td>\n",
       "      <td>Mrs. Jennie whitney and Mrs.\\nHelen 0iarlella ...</td>\n",
       "      <td>NaN</td>\n",
       "    </tr>\n",
       "    <tr>\n",
       "      <th>375440</th>\n",
       "      <td>3_1944-02-04_p7_sn87062224_00514156669_1944020...</td>\n",
       "      <td>MILLVnLE</td>\n",
       "      <td>Milford chronicle.</td>\n",
       "      <td>1944-02-04</td>\n",
       "      <td>Church school this Sunday NOR\\nming at the usu...</td>\n",
       "      <td>NaN</td>\n",
       "    </tr>\n",
       "    <tr>\n",
       "      <th>375441</th>\n",
       "      <td>17_1944-02-04_p7_sn87062224_00514156669_194402...</td>\n",
       "      <td>HOUSTON</td>\n",
       "      <td>Milford chronicle.</td>\n",
       "      <td>1944-02-04</td>\n",
       "      <td>I His Excellency Governor Walter\\nW. Bacon win...</td>\n",
       "      <td>NaN</td>\n",
       "    </tr>\n",
       "    <tr>\n",
       "      <th>375442</th>\n",
       "      <td>15_1944-09-21_p3_sn86075141_00340582044_194409...</td>\n",
       "      <td>\\n\\nNo. 1929\\nORDER TO SHOW CAUSE WHY ORDER\\nO...</td>\n",
       "      <td>Montana labor news.</td>\n",
       "      <td>1944-09-21</td>\n",
       "      <td>In the District Court Of the Second Judicial\\n...</td>\n",
       "      <td>NaN</td>\n",
       "    </tr>\n",
       "    <tr>\n",
       "      <th>375443</th>\n",
       "      <td>9_1944-05-26_p1_sn82007637_00340580382_1944052...</td>\n",
       "      <td>Toff. Wherry Lead\\nDrive TO Knife OPA</td>\n",
       "      <td>Toledo union journal. [volume] (Toledo, Ohio) ...</td>\n",
       "      <td>1944-05-26</td>\n",
       "      <td>WASHINGTON (FP) - Sen\\nRobert Taft (R. o. and ...</td>\n",
       "      <td>NaN</td>\n",
       "    </tr>\n",
       "  </tbody>\n",
       "</table>\n",
       "<p>375444 rows × 6 columns</p>\n",
       "</div>"
      ],
      "text/plain": [
       "                                                    index  \\\n",
       "0       1_1915-09-29_p2_sn82014519_00414183025_1915092...   \n",
       "1       1_1915-08-13_p4_sn87090131_00200299772_1915081...   \n",
       "2       18_1915-10-08_p1_sn90051185_00513681148_191510...   \n",
       "3       5_1915-01-14_p1_sn88085445_0021110756A_1915011...   \n",
       "4       10_1915-08-21_p8_sn88051105_00513687928_191508...   \n",
       "...                                                   ...   \n",
       "375439  3_1944-08-02_p5_sn82014085_00393347053_1944080...   \n",
       "375440  3_1944-02-04_p7_sn87062224_00514156669_1944020...   \n",
       "375441  17_1944-02-04_p7_sn87062224_00514156669_194402...   \n",
       "375442  15_1944-09-21_p3_sn86075141_00340582044_194409...   \n",
       "375443  9_1944-05-26_p1_sn82007637_00340580382_1944052...   \n",
       "\n",
       "                                                 headline  \\\n",
       "0                                    TABS PLAN ORCHESTRA.   \n",
       "1                                        NEWELLTON NOTES.   \n",
       "2       The TRUTH ABOUT\\nthe CHMELKA KID.\\n\\n\\nMAPPING...   \n",
       "3              LAST CALL SOUNDS FOR\\n\\n\\nCOMRADE WILCOXEN   \n",
       "4                                          oh, That Lash!   \n",
       "...                                                   ...   \n",
       "375439              Florence Whitney\\n\\n\\nGuest AtShOWerS   \n",
       "375440                                           MILLVnLE   \n",
       "375441                                            HOUSTON   \n",
       "375442  \\n\\nNo. 1929\\nORDER TO SHOW CAUSE WHY ORDER\\nO...   \n",
       "375443              Toff. Wherry Lead\\nDrive TO Knife OPA   \n",
       "\n",
       "                                           newspaper_name       date  \\\n",
       "0                                     New Britain herald. 1915-09-29   \n",
       "1       Tensas gazette. [volume] (St. Joseph, La.) 188... 1915-08-13   \n",
       "2                                    The Holly chieftain. 1915-10-08   \n",
       "3       The Lynden tribune. [volume] (Lynden, Wash.) 1... 1915-01-14   \n",
       "4                                     The Harrison times. 1915-08-21   \n",
       "...                                                   ...        ...   \n",
       "375439                            The Waterbury Democrat. 1944-08-02   \n",
       "375440                                 Milford chronicle. 1944-02-04   \n",
       "375441                                 Milford chronicle. 1944-02-04   \n",
       "375442                                Montana labor news. 1944-09-21   \n",
       "375443  Toledo union journal. [volume] (Toledo, Ohio) ... 1944-05-26   \n",
       "\n",
       "                                                  article  \\\n",
       "0       Members of the Y. M. T. A, & B. society posses...   \n",
       "1       Mr.. Trindle spent several days in Nat\\nchez t...   \n",
       "2       That the true facts in the\\nChmelka kidnapping...   \n",
       "3       Charles Baxter WilcoXen, Civil\\nwar veteran, p...   \n",
       "4       Tommy had watched the high-hatted\\nand frock-c...   \n",
       "...                                                   ...   \n",
       "375439  Mrs. Jennie whitney and Mrs.\\nHelen 0iarlella ...   \n",
       "375440  Church school this Sunday NOR\\nming at the usu...   \n",
       "375441  I His Excellency Governor Walter\\nW. Bacon win...   \n",
       "375442  In the District Court Of the Second Judicial\\n...   \n",
       "375443  WASHINGTON (FP) - Sen\\nRobert Taft (R. o. and ...   \n",
       "\n",
       "                                                 entities  \n",
       "0       [('the Y. M. T. A, & B.', 'ORG'), ('J Kerin', ...  \n",
       "1       [('Trindle', 'PERSON'), ('several days', 'DATE...  \n",
       "2       [('Chmelka', 'PERSON'), ('Chmelka', 'GPE'), ('...  \n",
       "3       [('Charles Baxter WilcoXen', 'PERSON'), ('Frid...  \n",
       "4       [('Tommy', 'PERSON'), ('Tommy', 'PERSON'), ('T...  \n",
       "...                                                   ...  \n",
       "375439                                                NaN  \n",
       "375440                                                NaN  \n",
       "375441                                                NaN  \n",
       "375442                                                NaN  \n",
       "375443                                                NaN  \n",
       "\n",
       "[375444 rows x 6 columns]"
      ]
     },
     "execution_count": 9,
     "metadata": {},
     "output_type": "execute_result"
    }
   ],
   "source": [
    "data"
   ]
  }
 ],
 "metadata": {
  "kernelspec": {
   "display_name": "human-rights",
   "language": "python",
   "name": "python3"
  },
  "language_info": {
   "codemirror_mode": {
    "name": "ipython",
    "version": 3
   },
   "file_extension": ".py",
   "mimetype": "text/x-python",
   "name": "python",
   "nbconvert_exporter": "python",
   "pygments_lexer": "ipython3",
   "version": "3.10.16"
  }
 },
 "nbformat": 4,
 "nbformat_minor": 5
}
