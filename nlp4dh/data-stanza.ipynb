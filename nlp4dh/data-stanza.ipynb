{
 "cells": [
  {
   "cell_type": "code",
   "execution_count": 27,
   "id": "7135e18f",
   "metadata": {},
   "outputs": [],
   "source": [
    "import pandas as pd\n",
    "import numpy as np\n",
    "from tqdm import tqdm\n",
    "import ast"
   ]
  },
  {
   "cell_type": "code",
   "execution_count": null,
   "id": "6abcb601",
   "metadata": {},
   "outputs": [],
   "source": [
    "data=pd.read_feather('/Volumes/T7/chroniclingamerica/american-stories/kkk-revival-stanza.feather')"
   ]
  },
  {
   "cell_type": "code",
   "execution_count": 16,
   "id": "427d483f",
   "metadata": {},
   "outputs": [],
   "source": [
    "data['entities'] = data['entities'].apply(ast.literal_eval)"
   ]
  },
  {
   "cell_type": "code",
   "execution_count": 17,
   "id": "4d5a16e4",
   "metadata": {},
   "outputs": [
    {
     "data": {
      "application/vnd.microsoft.datawrangler.viewer.v0+json": {
       "columns": [
        {
         "name": "index",
         "rawType": "object",
         "type": "string"
        },
        {
         "name": "0",
         "rawType": "object",
         "type": "unknown"
        }
       ],
       "ref": "ad7c0d1c-cd6f-4924-8215-a83f9b59c873",
       "rows": [
        [
         "index",
         "object"
        ],
        [
         "headline",
         "object"
        ],
        [
         "newspaper_name",
         "object"
        ],
        [
         "date",
         "datetime64[ns]"
        ],
        [
         "article",
         "object"
        ],
        [
         "entities",
         "object"
        ]
       ],
       "shape": {
        "columns": 1,
        "rows": 6
       }
      },
      "text/plain": [
       "index                     object\n",
       "headline                  object\n",
       "newspaper_name            object\n",
       "date              datetime64[ns]\n",
       "article                   object\n",
       "entities                  object\n",
       "dtype: object"
      ]
     },
     "execution_count": 17,
     "metadata": {},
     "output_type": "execute_result"
    }
   ],
   "source": [
    "data.dtypes"
   ]
  },
  {
   "cell_type": "code",
   "execution_count": 36,
   "id": "7bf03f03",
   "metadata": {},
   "outputs": [
    {
     "name": "stderr",
     "output_type": "stream",
     "text": [
      "100%|██████████| 375444/375444 [36:00<00:00, 173.74it/s]\n"
     ]
    }
   ],
   "source": [
    "mr_lynch_index=[]\n",
    "for i in tqdm(range(data['entities'].shape[0])):\n",
    "    for entity in np.array(data['entities'])[i]:\n",
    "        if ('lynch' in entity[0].lower()) and (entity[1] == 'PERSON'):\n",
    "            mr_lynch_index.append(i)"
   ]
  },
  {
   "cell_type": "code",
   "execution_count": 43,
   "id": "238714df",
   "metadata": {},
   "outputs": [
    {
     "name": "stdout",
     "output_type": "stream",
     "text": [
      "152313\n"
     ]
    }
   ],
   "source": [
    "mr_lynch_unique = list(set(mr_lynch_index))\n",
    "print(len(mr_lynch_unique))"
   ]
  },
  {
   "cell_type": "code",
   "execution_count": 44,
   "id": "87372b36",
   "metadata": {},
   "outputs": [],
   "source": [
    "data=data.drop(mr_lynch_unique)"
   ]
  },
  {
   "cell_type": "code",
   "execution_count": 45,
   "id": "20e944c3",
   "metadata": {},
   "outputs": [
    {
     "data": {
      "text/plain": [
       "(223131, 6)"
      ]
     },
     "execution_count": 45,
     "metadata": {},
     "output_type": "execute_result"
    }
   ],
   "source": [
    "data.shape"
   ]
  },
  {
   "cell_type": "code",
   "execution_count": 46,
   "id": "ef90e319",
   "metadata": {},
   "outputs": [],
   "source": [
    "data.to_feather('/Volumes/T7/chroniclingamerica/american-stories/kkk-revival-stanza-lynch.feather')"
   ]
  }
 ],
 "metadata": {
  "kernelspec": {
   "display_name": "kkk",
   "language": "python",
   "name": "python3"
  },
  "language_info": {
   "codemirror_mode": {
    "name": "ipython",
    "version": 3
   },
   "file_extension": ".py",
   "mimetype": "text/x-python",
   "name": "python",
   "nbconvert_exporter": "python",
   "pygments_lexer": "ipython3",
   "version": "3.10.19"
  }
 },
 "nbformat": 4,
 "nbformat_minor": 5
}
