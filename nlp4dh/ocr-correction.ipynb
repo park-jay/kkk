{
 "cells": [
  {
   "cell_type": "markdown",
   "id": "91b79f70",
   "metadata": {},
   "source": [
    "#### Leveraging {LLM}s for Post-{OCR} Correction of Historical Newspapers"
   ]
  },
  {
   "cell_type": "code",
   "execution_count": null,
   "id": "4844eb4e",
   "metadata": {},
   "outputs": [],
   "source": [
    "from peft import AutoPeftModelForCausalLM\n",
    "from transformers import AutoTokenizer, BitsAndBytesConfig\n",
    "import torch\n",
    "import os\n",
    "import pandas as pd\n",
    "from tqdm import tqdm"
   ]
  },
  {
   "cell_type": "code",
   "execution_count": null,
   "id": "3d11429f",
   "metadata": {},
   "outputs": [],
   "source": [
    "# ! pip install -U bitsandbytes"
   ]
  },
  {
   "cell_type": "code",
   "execution_count": null,
   "id": "f100af9d",
   "metadata": {},
   "outputs": [],
   "source": [
    "bnb_config = BitsAndBytesConfig(\n",
    "    load_in_4bit=True,\n",
    "    bnb_4bit_use_double_quant=True,\n",
    "    bnb_4bit_quant_type='nf4',\n",
    "    bnb_4bit_compute_dtype=torch.bfloat16,\n",
    ")\n",
    "model = AutoPeftModelForCausalLM.from_pretrained(\n",
    "    'pykale/llama-2-13b-ocr',\n",
    "    quantization_config=bnb_config,\n",
    "    low_cpu_mem_usage=True,\n",
    "    torch_dtype=torch.float16,\n",
    ")\n",
    "tokenizer = AutoTokenizer.from_pretrained('pykale/llama-2-13b-ocr')"
   ]
  },
  {
   "cell_type": "code",
   "execution_count": null,
   "id": "03611a0f",
   "metadata": {},
   "outputs": [],
   "source": [
    "data=pd.read_feather('kkk-revival.feather')"
   ]
  },
  {
   "cell_type": "code",
   "execution_count": null,
   "id": "a222af4d",
   "metadata": {},
   "outputs": [],
   "source": [
    "ocr_correction=[]\n",
    "for ocr in tqdm(data['article'].to_numpy()):\n",
    "  prompt = f\"\"\"### Instruction:\n",
    "  Fix the OCR errors in the provided text.\n",
    "\n",
    "  ### Input:\n",
    "  {ocr}\n",
    "\n",
    "  ### Response:\n",
    "  \"\"\"\n",
    "  input_ids = tokenizer(prompt, max_length=1024, return_tensors='pt', truncation=True).input_ids.cuda()\n",
    "  with torch.inference_mode():\n",
    "    outputs = model.generate(input_ids=input_ids, max_new_tokens=1024, do_sample=True, temperature=0.7, top_p=0.1, top_k=40)\n",
    "  prediction = tokenizer.batch_decode(outputs.detach().cpu().numpy(), skip_special_tokens=True)[0][len(prompt):].strip()\n",
    "  ocr_correction.append(prediction)\n"
   ]
  }
 ],
 "metadata": {
  "kernelspec": {
   "display_name": "kkk",
   "language": "python",
   "name": "python3"
  },
  "language_info": {
   "codemirror_mode": {
    "name": "ipython",
    "version": 3
   },
   "file_extension": ".py",
   "mimetype": "text/x-python",
   "name": "python",
   "nbconvert_exporter": "python",
   "pygments_lexer": "ipython3",
   "version": "3.10.19"
  }
 },
 "nbformat": 4,
 "nbformat_minor": 5
}
