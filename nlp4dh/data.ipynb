{
 "cells": [
  {
   "cell_type": "code",
   "execution_count": 1,
   "id": "fccfab0d",
   "metadata": {},
   "outputs": [],
   "source": [
    "import pandas as pd\n",
    "import matplotlib.pyplot as plt"
   ]
  },
  {
   "cell_type": "code",
   "execution_count": 36,
   "id": "08cda1f8",
   "metadata": {},
   "outputs": [],
   "source": [
    "data=pd.read_csv('/Volumes/T7/chroniclingamerica/american-stories/kkk-revival.csv')"
   ]
  },
  {
   "cell_type": "code",
   "execution_count": 9,
   "id": "424ac44e",
   "metadata": {},
   "outputs": [
    {
     "data": {
      "text/plain": [
       "(144296, 5)"
      ]
     },
     "execution_count": 9,
     "metadata": {},
     "output_type": "execute_result"
    }
   ],
   "source": [
    "data.shape"
   ]
  },
  {
   "cell_type": "code",
   "execution_count": 44,
   "id": "1b9e9c1b",
   "metadata": {},
   "outputs": [
    {
     "data": {
      "text/plain": [
       "(375444, 5)"
      ]
     },
     "execution_count": 44,
     "metadata": {},
     "output_type": "execute_result"
    }
   ],
   "source": [
    "data.shape"
   ]
  },
  {
   "cell_type": "code",
   "execution_count": 45,
   "id": "47fe3657",
   "metadata": {},
   "outputs": [],
   "source": [
    "data.to_feather('/Volumes/T7/chroniclingamerica/american-stories/kkk-revival.feather')"
   ]
  },
  {
   "cell_type": "code",
   "execution_count": 38,
   "id": "23456fe8",
   "metadata": {},
   "outputs": [
    {
     "data": {
      "text/plain": [
       "Index(['index', 'headline', 'newspaper_name', 'date', 'article'], dtype='object')"
      ]
     },
     "execution_count": 38,
     "metadata": {},
     "output_type": "execute_result"
    }
   ],
   "source": [
    "data.columns"
   ]
  },
  {
   "cell_type": "code",
   "execution_count": 40,
   "id": "2ed9bd74",
   "metadata": {},
   "outputs": [],
   "source": [
    "data['date'] = pd.to_datetime(data['date'])"
   ]
  },
  {
   "cell_type": "code",
   "execution_count": 41,
   "id": "d55726d3",
   "metadata": {},
   "outputs": [
    {
     "data": {
      "application/vnd.microsoft.datawrangler.viewer.v0+json": {
       "columns": [
        {
         "name": "index",
         "rawType": "object",
         "type": "string"
        },
        {
         "name": "0",
         "rawType": "object",
         "type": "unknown"
        }
       ],
       "ref": "060180a9-59a5-4c18-802d-fcdc91030688",
       "rows": [
        [
         "index",
         "object"
        ],
        [
         "headline",
         "object"
        ],
        [
         "newspaper_name",
         "object"
        ],
        [
         "date",
         "datetime64[ns]"
        ],
        [
         "article",
         "object"
        ]
       ],
       "shape": {
        "columns": 1,
        "rows": 5
       }
      },
      "text/plain": [
       "index                     object\n",
       "headline                  object\n",
       "newspaper_name            object\n",
       "date              datetime64[ns]\n",
       "article                   object\n",
       "dtype: object"
      ]
     },
     "execution_count": 41,
     "metadata": {},
     "output_type": "execute_result"
    }
   ],
   "source": [
    "data.dtypes"
   ]
  },
  {
   "cell_type": "code",
   "execution_count": 42,
   "id": "7b50594a",
   "metadata": {},
   "outputs": [],
   "source": [
    "date_counts = data['date'].value_counts().sort_index()"
   ]
  },
  {
   "cell_type": "code",
   "execution_count": 43,
   "id": "5cc9a028",
   "metadata": {},
   "outputs": [
    {
     "data": {
      "application/vnd.microsoft.datawrangler.viewer.v0+json": {
       "columns": [
        {
         "name": "index",
         "rawType": "int64",
         "type": "integer"
        },
        {
         "name": "index",
         "rawType": "object",
         "type": "string"
        },
        {
         "name": "headline",
         "rawType": "object",
         "type": "unknown"
        },
        {
         "name": "newspaper_name",
         "rawType": "object",
         "type": "string"
        },
        {
         "name": "date",
         "rawType": "datetime64[ns]",
         "type": "datetime"
        },
        {
         "name": "article",
         "rawType": "object",
         "type": "string"
        }
       ],
       "ref": "3605bab0-0bae-49a8-84a6-ecb82f133ed2",
       "rows": [
        [
         "2626",
         "14_1915-07-23_p2_sn89058253_0041562189A_1915072301_0226",
         "NIohtrlders plead Guilty.",
         "The Fayette falcon. (Somerville, Tenn.) 190?-current",
         "1915-07-23 00:00:00",
         "Clarksville.-When the nightrider\ncases were called at Dover the follow\ning defendants pleaded guilty to the\nfourth count in the indictments which\nis a misdemeanor: Willard Robinson,\nJohn Terrell, Raymond Lancaster, Lon\nLawrence, Ode Terrell, Herbert Cato,\nHop steppe. Jesse Cohoon, Hanson\nGarden, Claude Cohoon, Dave Kenne.\nda, Sam Stalls and Holly Trauber.\nThis plea carries with 1t fine of $40\neach, six months Jail sentence, both\nfine and sentence being suspended in\neach case during good behavior."
        ],
        [
         "2845",
         "4_1915-04-29_p8_sn85052141_00202195064_1915042901_0441",
         "PHILLIPS BROUGHT BACK\nFOR NIGHTRIDER TRIAL.",
         "The Hickman courier. [volume] (Hickman, Ky.) 1859-current",
         "1915-04-29 00:00:00",
         "Jim Phillips, formerly resi-.\ndent of the lower bottom, and\nwanted here ON charge OF might\nriding, as a co-defendant with\nthirteen Others, who were tried IN\nJudge Stairs court here in the\nearly spring, was caught at a saw\nmill near Sharon, Tenn, Friday,\nand brought back to Fulton coun\n~ by Sheriff Huddleston.\n\n\nLon Binford, of Fulton, went\non Phillips bond Of $1,000 for his\nappearance at Hickman at the\nMay term of circuit court.\n\n\nConsiderable reference was mad,\nIN the preliminary trial 10 a fat\nman who is alleged TO have\nbeen in the raid when negro\ncabins ON the farms of w. Z,\nUpton, W. j. Harper and others\nwere shot into. Mr.. Phillips\nIs said to fit the description OF\nthe tat man in the ease. He left\nabout the time the trouble came\nto a head, but says he left in\nsearch of work.\n\n\nThe nightrider trial conducted\nby Judge Stair was one of un-\nusual interest. II will be thresh.\ned out again next week. The\ndefendants were held under\nbond."
        ],
        [
         "4200",
         "1_1915-11-19_p10_sn96091104_00415621589_1915111901_0539",
         null,
         "The Columbia herald. [volume] (Columbia, Tenn.) 18??-1935",
         "1915-11-19 00:00:00",
         "of the peace or city recorder to take\nany action in any case concerning an\ninfant which properly falls to the jul\nristdiction of the juvenile court, ex-\ncept to bind an infant over to the ju-\nvenile court.\n\n\n1T is a felony for any nightrider,\nor other laWless person, by threats\nor otherwise, to attempt to prevent\nperson from selling and delivering\nhis farm products at such time and\nto such person as he may desire, and\nit is also felony for any such lawless\nperson, by threats or otherwise, to\nseek to have an employer or labor or\nshare-cropper to dismiss them without\ndue cause, or to attempt to have ten\nants or their families to vacate their\npremises under fear or compulsion.\n\n\nwith the intention of preventing\nas far as possible destructive fires.\nthe last legislature created the fire\nprevention commissioner, and provid.\ned for the appointment of a number Of\ndeputies and that under certain cir\ncumstances the chief of the fire de-\npartment and mayor or incorporated\ntowns shall be assistants to the COM\nmissioner Numerous duties are i'm\nposed upon the commissioner and his\ndeputies for the purpose of prevent\ning fires and providing for the safe\nty Of buildings and escapes there\nfrom. The law provides that fire in\nsurance companies and certain 9th\ners shall report the occurrence of\nfires. This act is too long to give\nhere the details thereof. With refer\nence to all Of the above laws it is\nonly intended to give you a general\nstatement Of their provisions and not\nthe Details"
        ],
        [
         "8218",
         "11_1915-05-21_p3_sn88086023_00202194370_1915052101_0367",
         null,
         "East Oregonian : E.O. (Pendleton, OR) 1888-current",
         "1915-05-21 00:00:00",
         "RAYMOND, Wash, May 21.-The\ngrand jury. impaneled was instructed\nto investigate the alleged North River\nnightrider cases The review Of sew\neral arrests and acquittals for the\nburning OF Mrs Margaret Ross cabin\nand the forcible eviction Of her and\nher two sons from the community al\nso was requested by the court.\n\n\nA feature of the testimony before\nthe grand jury will be the report OF\nthe special agent sent to the North\nRiver country to investigate the at\ntorney- generals office. The report\nwas not made public. but is said to be\nsensational. Assistant Attorney Cen\neral Wilson will conduct the investi-\ncation of these cases before the grand\njury."
        ],
        [
         "8313",
         "3_1915-10-15_p5_sn89058321_00415621474_1915101501_0379",
         "Shoot Two Cayce Negroes.",
         "The commercial. (Union City, Tenn.) 190?-193?",
         "1915-10-15 00:00:00",
         "The homes of Leonard Williams\nand Isaac Deering, two Cayce ne\ngroess, were shot into about $3.50\nO'Clock Monday night by unknown\nparties and both negroes slightly\nwounded\n\n\nAlthough the grand jury, in session\nat Hickman, is said to have been\ninvestigating the trouble, it is not\nknown exactly why the negrose were\nthus dealt with. 1t is, however, re-\nported that one of the negroes ac-\ncused Mrs. Jno. Lusk, a white lady\nliving near the Deering negro, of\nstealing stove wool, and that his ac-\ncusation was resented by the Cayce\npeople. The negro is also reported\nto have received a note Saturday\nevening warning him to leave Cayce\nand evidently took too much time\nin getting away.\n\n\nThe weapons used were shotguns.\nThe houses of both negroes were\nshot into, and the negroes left the\nnext day.\n\n\nThe Deering negro was the most\nseverely injured, receiving several\nshot in the right leg. .-...\n\n\nNo \"nightrider\" arrests have yet\nbeen made.-Hickman Courier."
        ],
        [
         "8417",
         "8_1915-08-20_p1_sn89066617_00200292303_1915082001_0530",
         "DUNKLIN MAN IS\nHORSE-WHIPPED\n\n\nWife DECLARES\n\nMrs. Lulu Mcclure Asks\nMayor Kage to Issue\n\n\nWarrants for Gang.\n\nNIGHT RIDERS WERE\n\n\nMASKED, SHE SAYS\n\nTook Husband and Chum and\n\"Larruped\" Them while\n\n\nTied to Trees.",
         "The weekly tribune and the Cape County herald. (Cape Girardeau, Mo.) 1914-1918",
         "1915-08-20 00:00:00",
         "The story of a wife's tardy and in\nsistent efforts to obtain justice for her\nhusband who, she said, had been\nhorse-whipped by a gang of masked\nmen who took him from their home in\nthe dead Of night several weeks ago,\nyesterday was told by Mayor Kage\nafter Mrs. Lula MCGUIRE, of Truman,\nArk, had appealed to him as United\nStates Commissioner, for aid.\n\n\nMayor Kage was unable to issue\nFederal warrant of any description\nagainst the alleged culprits because\nthe mails were not used in connection\nwith the affair.\n\n\nHe advised Mrs. Mcclure to call up\non the Prosecuting Attorney in the\ncounty where the whipping took place.\nShe told the story of the whipping to\nKage.\n\n\nThe McGuires, until last April, lived\nin Maiden, Dunklin County. They had\nbeen married for several years. Nc\nGuire is a railroad man. On the night\nof April %, last, the hOrse-whipping\ntook place without warning of any\nkind.\n\n\nMcclure was at home with his wife.\nMrs. McGuire's brother was in the\nroom as we'll as young woman living\nin the neighborhood. The Mcclure\nhome is set apart from those of their\nneighbors in the immediate vicinity\nand is a lonesome part of town.\n\n\nAbout 9:30 o'clock, the McGuires\nwere startled by the sound of horses\non the road, which came right up to\ntheir front door.\n\n\nNot a word was said by any of the\nhorsemen, but those inside the house\nheard some of them dismounting.\nWithin a few moments the front door\nleading into the room in which the\nMcGuires and their companions were\nsitting, was thrust violently open and\nin strode two men.\n\n\nThey were armed. Black slOuch hats\ndrawn down over their eyes hid their\nfaces and the lower features were dis\nguised by handkerchiefs tied about\ntheir faces reaching to the eyes.\n\n\nMcclure still was sitting at his\nwife's side. One of the men pulled a\nrevolver from his pocket and covered\nthe two men. The other strode over to\nthe chair occupied by MCGUIRE. He\nseized Mcclure by the arm.\n\n\nThe wife sprang up and attempted\nto speak to the men to persuade them\nto leave the place without molesting\nthem. \"The nightrider\" carried a\nheavy black-snake whip in his right\nhand. He cleverly twisted it about in\nhis hand and struck Mrs. Mcclure\nover the head with the butt end of the\nwhip.\n\n\nShe was knocked to the floor and\nstunned. The other woman and Mrs.\nMcGuire's brother were pushed aside\nand the two men picked Mcclure up,\none on each side of him, and carried\nhim outdoors.\n\n\nThere, Mrs. Mcclure told Mayor\nKage, there was a company of about\nq dozen horsemen. All were masked\nso that she could not tell the identity\nof them.\n\n\nThey swung Mcclure up behind one\nof the horsemen, bound his hands and\narms and rode away at fast gallop.\n\n\nThey carried him several miles over\nthe line into New Madrid County,\nwhere, in a wood, they dismounted,\ncarried Mcclure to a tree, tied him\nup and whipped him.\n\n\nOne of the men, before the whipping\nbegan. Mrs. Mcclure said, tore the\nshirt from her husbands back, barring\nthe flesh. The heavy lashes Of the\nblack-snake whip then were laid on.\nThe men beat him till the flesh had\nbeen broken open in several places,\nshe said, and her husbands back was\na bleeding mass of beaten flesh.\n\n\nHe became unconscious from the\npain. They revived him and before\nloosening his bonds, told him to get\nout of the State and leave that part\nof the Southeast\n\n\nWith a great deal of difficulty, Nc\nGuire made his way to a farm house\nwhere he got aid, and the next morn\n"
        ],
        [
         "11057",
         "7_1915-03-05_p1_sn89058321_00415621474_1915030501_0075",
         "THIRTEEN NIGHTRIDERS\n\n\nBOUND over, $500 EACH\n\nPreliminary Hearing-Leslie and\nErnest Brice Exonerated\n\n\nWithout Trial.",
         "The commercial. (Union City, Tenn.) 190?-193?",
         "1915-03-05 00:00:00",
         "The most interesting cases in Full\nton Circuit Court never drew larger\ncrowds than were in attendance\nFriday morning, when County Judge\nElvis j. Stahr opened court in the\npreliminary trial of the thirteen\nmen arrested last week on the\ncharge of \"nightriding.\" This was\nnot the wording of the warrants, but\nthe case has been referred to more\ngenerally as nightriding.\n\n\nJudge F. S. Moore represented the\ndefendants, and County Attorney\nRoney and H. T. Smith, of Fulton,\nfor the commonwealth. The de-\nPENDANTS were marched in by Jailer\nMurchison and deputies and seated\nin the jury box The curious throng\nINDUCED in craning of necks to\nget a good look at a \"nightrider,\"\nafter which they fell into a silent\nstudy of the mems faces. The room\nwas packed, and remained so for\ntwo days and half, except fall\ning off in attendance was noticeable\nMonday morning.\n\n\nAfter some preliminary clashes on\npart of the counsel for each side,\nJudge Stahr ruled that he would\nhear all the cases at once, instead\nof making a separate trial of each\ncase, which was at first asked by\nAttorney Moore. This settled both\nsides announced ready. The wit\nnesses for both sides were placed un-\nder rule. A few failed to answer to\ntheir names when called and attach\nments were issued for them.\n\n\nIn brief, the arrest and trial of\nthese defendants is the elimination\nof reign of lawlessness which has\nbeen carried on to a greater or less\nextent in the lower bottom for sew\neral months. The tendency has been\nto run the negroes (tenants) out by\nthreats and intimidation. On the\nnight of Feb. 10 four houses, occu-\npied by negroes, were shot up on the\nfarms of w. c. Upton and w. J.\nHarper. Authorities got busy, with\nthe result that the following men\nwere charged with taking part in\nthis particular occasion after John\nTouey turned States evidence:\n\n\nTom Carr, Fred Smith, Bud Thorn\nas, Noah Knight, Will Garden, CIar-\nence ST. Clair, Bob Ellis, Ottie Dot\nson, Bud Dotson, Bobb Webb, Jess\nHarrison, Chas Huff, Vodie Mont\ngomery.\n\n\nIn last weeks paper the names of\nLeslie and Ernest Brice were includ-\ned in this list. They were not con-\nnected with the case, and were ex-\nonerated without trial.\n\n\nThe case, after being stubbornly\ncontested all the way through, came\nto a close Monday morning with\neloquent arguments by both Moore\nand Smith.\n\n\nJudge Stair reviewed the case\nfrom all angles and explained his\nposition from a point of law and\nnot from that of his private senti-\nnents. The evidence, he believed,\nrs governed in preliminary trials,\nvas sufficient to warrant his holding\nhe defendants, which he did. Bond\nvas fixed for them at $500 each.\n\n\nThe trump card of the defense\nhe logical step to take-was in\nproving alibis-H Hickman Courier.\n\n\nFor all class of picture framing"
        ],
        [
         "11333",
         "4_1915-02-26_p3_sn89058321_00415621474_1915022601_0069",
         "GOV. RYE TAKES STEPS.\n\nEvery Man in Lake County Deputy\n\n\nSheriff.",
         "The commercial. (Union City, Tenn.) 190?-193?",
         "1915-02-26 00:00:00",
         "Every Man in Lake County Deputy\n\n\nSheriff.\n\n\nNashville TIL, Feb. \"a Every\ncitizen of Lake county to-day was Gre\nated deputy sheriff under Sheriff\nHall and authorized to make arrests in\nthe nightrider outbreak in that Sec\nton. If that plan fails after being\ntried out two days, Gov. Rye will order\nmilitary company to proceed to Tip\ntonville and place itself at the disposal\nOF Sheriff Hall.\n\n\nThis decision was reached after\nGov. Rye had conferred with Adjt.-\nGen. Charles B. Rogan. Sheriff\nHall had telephoned the Governor\nthat the situation in Lake County\nwas serious, and said that many\ncitizens were pressing him to call\nfor State troops. Gov. Rye took up\nthe matter in detail with the Adju-\ntant-General, who was of the opin-\nion that an order for troop move\nment should come only as a last re-\nsort.\n\n\nGov. Rye believes that when the\ncitizenry of Lake County, armed\nwith the power and authority to\nmake arrests, realize the entire ma\nchinery of State government is be-\nhind the fight for law and order,\nquick results will follow. By this\nplan every community in the coun-\nty will have it's own vigilance COM\nmittee, and arrests made by citizens\nwill be recognized as official by\nSheriff Hall.\n\n\nSheriff Hall informed Gov. Rye\nthat the Lake County nightrider\noutrages center around Phillippy\nand Titan. At Phillippy Chas. L.\nPhillippy, a store and mill man, and\nthe leading planter of that section,\nwas threatened and told to dismiss\nhis hands and tenants, and it is re-\nported they are gone.\n\n\nThe teacher of the negro school\nthere has surrendered his commits\nsion and gone because of threats\nagainst him. Some days ago some\nof the negroes of the same section\nwere beaten up and many driven\nout.\n\n\nAt Titan the man who set fire to\nG. D. Humans store a week ago,\nwhen it was discovered in time to\nsave the building, has been captured\nand has confessed that he was a\nmember of the nightrider gang. He\nstates they are organized with a\nsecret oath to bind them, although\nhe did not reveal the nature of the\noath, and that he was commissioned\nto burn the Thurmond store. He\nalso says that they have on hand a\nquantity of dynamite with which\nthey intended to wreck several gins,\nstores and other houses."
        ],
        [
         "11900",
         "3_1915-02-26_p3_sn88086023_0020219431A_1915022601_1016",
         "GoNernor Stops Riders",
         "East Oregonian : E.O. (Pendleton, OR) 1888-current",
         "1915-02-26 00:00:00",
         "NASHVILLE. Tenn. Feb. 25.-A\nmajority OF the able-bodied men OF\nLake county have been appointed\ndeputies under Sheriff Hall and au-\ntho-ized TO make arrests in the night\nrider outbreak in that section. II\nsaid. will order the militia company\nthat plan fails. Governor Rye. is is\nat Union City TO proceed to Tiptonville\nand place itself at the disposal OF\nSheriff Hall.\n\n\nFor the past week nightriders have\ndirected their acts against the negro\npopulation in the neighborhood OF\nTitan and Philippi, where many have\nbeer ordered to leave the country. A\nleading planter in the vicinity, ii is\nsaid has been told TO dimiss all Of\nhis negro tenants.\n\n\nThe object of the Lightriders seems\nto be an effort to drive negroes from\nthat section in which the renting o:\nlands to negroes is carried on.\n\n\nL?r >, vr ..sdfgg ww5 etsahroidl\n\n\nAn old bachelor says that matri-\nmony is the best cooking school."
        ],
        [
         "12323",
         "33_1915-09-03_p6_sn89066617_00200292303_1915090301_0547",
         "Nightrider Mob, Composed\nof Business Men, Almost\n\n\nKill NeighbOr.\n\nHE WILL ASK $15,000.00\n\n\nFROM MOB LEADERS\n\nAttorney Knehans Says Letters\nSent Through Mails Will Go\n\n\nto U. s. Officials.",
         "The weekly tribune and the Cape County herald. (Cape Girardeau, Mo.) 1914-1918",
         "1915-09-03 00:00:00",
         "\n80 miles south of the Cape where he\ninvestigated circumstances surround\ning the horse-whipping several weeks\nago Of a man named Howard LeVan,\nOscar A. Knehans, attorney and\nUnited States referee in bankruptcy,\nyesterday afternoon announced he ex-\npected to file damage suits shortly\nagainst the \"nightriders,\" naming\nsome of the most prominent men in\n:ne community.\n\n\nFollowing the prosecution of the\ndamage suits, Knehans said letters\nwhich he has in his possession, sent to\n, LeVan and man who befriended him\nafter he had been beaten almost to\ndeath, threatening both men, will be\nturned over to the U. S. postal inspec-\ntors and a Federal prosecution is sure\nto follow.\n\n\nknehans declared he has evidence\nnow that will positively identify three\nof the men who were in the mob that\nattacked LeVan, and he declares that\nhe is sure, he can name the individuals\nwho wrote the threatening letters.\n\n\nLeVan is a young married man liv-\ning at Blodgett Several weeks ago,\nthe charge that he had been window\npeeping was circulated in the town and\nhe received a letter signed by \"The\nFifteen\"\n\n\nThe letter briefly told LeVaR to\nleave town or he would be harmed\nbodily. The handwriting was disguis-\ned, the letters being printed out by\n| hand.\n\n\nLeVan gave the letter no heed and\nin few days, the blow was struck.\nHe was at his home, when a man came\nto the door and when LeVan replied\nto summons, the man strobe in.\n\n\nLeVan recognized him as being one\nof the most prominent men in the COM\nmunity. He carried a revolver in his\nhand and as soon as he got inside the\ndoor, he began talking.\n\n\n\"Your better get away from here\nright away\" he cried. \"They're COM\ning for you and they're going to lynch\nyou. You can't tell, maybe that crowd\nwill hang you. They're hoppin' mad\"\n\n\nHe flourished his revolver about as\nhe spoke, and LeVan started to make\nsome preparation to leave. In mo-\nment after the last words had passed\nthe intruder's lips, the door was forced\nopen and in swept the mob of masked\nmen.\n\n\nThe first intruder pretended to pro-\ntect LeVan with his revolver. He COW\ncred the mob, but they insolently\nbrushed him aside and the young man,\nLeVan, was carried off without a shot\nhaving been fired.\n\n\nOutside the house, the ''nightriders\"\ntied both hands and feet together and\nblindfolded LIE Van. There in the yard\nthey tore his shirt from his back and\nseveral of the men took turns at beat\ning him across the back with ropes\nsoaked in water.\n\n\nIt was several minutes before the\nmob desisted from their work and fled,\nleaving LeVan lying upon the ground\nunconscious. His back had been laid\nopen in a dozen places. The blood\nflowed freely from his gaping wounds,\nand he barely was able to move.\n\n\nAfter several minutes he regained\nconsciousness and managed to free\nhimself of his shaclEles. He was crawl\ning toward his house when the man\nwho first had entered his house, re-\nappeared, and said he had wondered if\nLeVan had been able to loosen his\nbindings.\n\n\nHe left when he found LeVan was\nfree.\n\n\nThe news of the horse-whipping\nspread rapidly in Scott County, and\nalong with it, went the news that the\nmob that did the job had been COM\nposed of the best men in Blodgett.\n\n\n\"Nightriders\" organization have\nbeen common in that part of the State\namong a socialist class, and public of\nficials have been hard put to it to\nprosecute them. In recent months they\nhad well nigh put an end to the mob\nidea.\n\n\nHowever, the leaders at Blodgett in\nthe principal business houses believe\nthat the news of this mob's work will\nact in a peculiar way upon the might\nriders\" They will read in it, being\nformed of the best men in the COM\nmunity, mark of approval of might\nriding\" and it is feared that much\nmore mob depreciation in Scott County\nwill result.\n\n\nAfter LeVan had managed to get\ninto his house, he was unmolested for"
        ],
        [
         "13582",
         "5_1915-11-26_p1_sn89066617_00200292303_1915112601_0612",
         "Cape Men Really\nWi11Give Thanks\n\n\nMayor Grateful\n\nExecutive Glad He's Alive\nand Angelo Dempsey Feels\nGood to Know He is Only\nFrenchy in Appearance.",
         "The weekly tribune and the Cape County herald. (Cape Girardeau, Mo.) 1914-1918",
         "1915-11-26 00:00:00",
         "What have you to be thankful\nfor?\"\n\n\nThat is the question with which The\nTribune canvassed Cape business men,\npublic officials, professional men, per-\nsons in all walks of life yesterday and\nhere are the replies:\nAngel Dempsey, attorney, author,\nmOtorist and athlete, said he is thank\nfull because he only looks like a\nFrenchman and is not the real article\nin these days of stress when the real\nthing is buried in Flanders trench.\nMayor Kage replied that he is graft\nfled to know he is alive.\n\n\nBen Vinyard, bridegroom-elect, Beau\nBrummel and man about town, said:\nI'm thankful because the date is set\nand the time approaches when | shall\nHE me to Cairo and thence to the\neverglades of Florida\"\nCapt. Wilson Balm, eminent rising\nattorney, is thankful that The Tribune\nexposed the secrets of the lawyers\nunion\" and the up-hill-grind of the\n| frying-sized attorney, when facing\nthat proposition.\n/ DR.. F. DUSTY\" Rhodes is thankful\nthat the St. Louis trains will be run\nming tomorrow.\n\n\nChief of Police Jeff Hutson is thank\nfull that the Cape was not next door to\n| Clarkton the other night when the\n\"nightrider\" battle ragged.\n\n\n\"Puch\" Gaines is thankful that he\nand Charley Cofer wear the same size\ndress suit.\n\n\nLee l.. Albert, flour and feed dealer\nis thanking fortune for the girl he got\n\n\n\"Maw\" Cooper is thankful that the\nGermans are winning and that she has\nall her \"boys.\"\n\n\nWilliam H. Bohnsock Jr., is thank\nfull that the coming year will bring\nwith it ample opportunity for ''heavy\nstanding around\"\n\n\nPresident Mcpherson of the Com\nmercial Club still is thankful for the\nrenewal of the Frisco trade trains foi\nthe Cape.\n\n\nPresident Dearmont of the Normal\n\"I'm thankful the co-eds have forgot\nten their desire to tango and go coOr\nhunting\"\n\n\n| T. Jeff Shorb: 'I am thankful | NJ\nlonger have gum drops deposited II\nmy coat pockets.\n\n\n! w. H. Stubblefield Jr.: \"Tm thank\nfull we have seen the last of our Hawk\nshaw reporter detective friends ant\nthat Fields and Flanagan are play\ning peneuchle out at Jackson\"\n\n\nFrank Carroll: Sab? WAL sab, al\nJoan kno' but Am mos thankful fer do\ntaIkin' to dat Jedge Willer gave me-\nAll mean bout stayin' away frum des'\nwimmen folks. sYas, sab. Am glac\nAn amt married\"\n\n\n|"
        ],
        [
         "15420",
         "6_1915-11-28_p1_sn83030272_00206535003_1915112801_0248",
         null,
         "The sun. [volume] (New York [N.Y.]) 1833-1916",
         "1915-11-28 00:00:00",
         "the field. II has taken Ave tirets at\nbig trials and was the winner of first\nin the New England trials. seventeen\ndogs starting. Fisrel's Limit is a son\noi the world famous Fishel'e Frank,\nprobably the greatest field trial dog ever\nknown IN ;his country.\n\n\nThe climax was cached when the\nbest oi min different breeds assembled\nin the ring TO compete for the presidents\n'up. which went to the best dog OF either\nsex In The show. Wiz\" Boys victory came\nafter much dsliberatiou on the part Of\nthe Judges and the win was i popular\none.\n\n\nThe reserve prize Went TO Harold\nDbei', .\\iredalc terrier Champion Blng-\nlty blossom with WaX Jones's bull ter\nlier eli t.upior, Sound End Sonihrero. tho\nrunner NJ, Quintird also annexed the\nvice-aresidcntr cup for hest team II\nterriers. his Wire Roy. Raby pazzlcr.\nCROMWELL Cheeky ant kismayn 90\nChuffs making a team which IL wei!\nnigh invin,ibls. For the treasurer's cup.\ngoing 20 the best team other than ter\nr!ers, the Mepal Ken- els ;eaiu Of cocker\n~sian!cls made a popular win. The seq\nrttary's cup for best n~un-purt!ng brace\nwent to the old English sheepdogs.\nNightrider and Biddy - the Brambles.\n\n\n\\ feature of the show was the parade\nof champions which took place on the\nthird day. All Of the rings wers united\ninto one big enclosure aud over i've\nscore famous champions paraded FOR the\ninspection OF the visitors. II was an\ninspiring sight to see the champions OF\npast Years parads with their heads held\nas high as thos. Jung champions\nwhich have but recently acquired their\ntitles. Many ~ the dogs III this parade\n\" re ~ international fame and the pub\nlie enjoyed the sight OF the best in the\nKennel world all in one hig ring. This\nInnovation was a mast pnpular one and\nshould he emulated by more of the show\ngiving clubs.\n\n\nThe show was Will attended through\nout and a good many substantial sales\nwere reported. Among them perhaps the\nmost important was the sale of the win\nming BoltOr. terrier bitch Miss sporty\nToss TO Mrs. Il. II. Throop of scranton.\nPa. This grand little bitch not be y\ngreat acquisition II her new owner. who\nshows nothing NJ; the best. otto Gross\nwas the agent in this transaction. Mrs.\nCarl Ehlermaun. Jr, sold her beautiful\nred Pekingese puppy Ho-Tai of croy-\ndon to \"A Boston woman. and as the\nlittle fellow was one Of the best ever\nbred AT the Croydon Kennel the price\nnIu~. HAY\" been =. tempting one.\n\n\nAmong the NOR prominent doggy FOLK\nseen during the show were Mrs. Roy\n\\. I;ain.y, Mis-, Eleanor \\ Sears. Mr.,\nand Mrs. Il. II. Throop. Miss Anne Tracy,\nMiss Mary Brigham, Mrs. Carl Ehler-\nmann, Jr.. Mr.. and Mrs. George W.\nQuinttrd. Andrew Albright, Jr, Walter\nT. stern, j. +, Able, Ef'ingham Law\nrenee. MowDray Palmer, John Thorn\ndixie. MIR. ana Mrs. Theodore oferman,\nMorris Kinney. Martin baldwin william\nPrescott, Woicott, i W, Spring, John g.\nBa..S. l,auie, :. l,iker, Charles /. boNd,\nThomas lawson. Arnold Lawson. Tyler\nMorse avid q; orge =. West,"
        ],
        [
         "16678",
         "2_1915-11-26_p5_sn89066617_00200292303_1915112601_0616",
         "CITIZENS TALK\n\n\nLYNCHING FOR\n\n\nmight RIDERS",
         "The weekly tribune and the Cape County herald. (Cape Girardeau, Mo.) 1914-1918",
         "1915-11-26 00:00:00",
         "the attack, and whose identity is\nknown definitely to the police officers.\n\n\nGeorge Hull, who figured as lead\ner in the battle against the might\nriders\" formerly was employed by the\nPublic Utilities Company in the Cape\na Sa lIneman. He was well known here\nand recognized as a fearless man in a\nfight\n\n\nHis brother, Oscar, when marshal in\nOran sometime ago, dispersed a mob\nin Oran and placed twenty men in jail\nafter he had whipped them individual\nly and collectively.\n\n\nOne of the Jobs of tSe \"nightriders\nin The vicinity Of the fight pulled off\nrecently was upon Doctor Drace of\nthat community. They sent him a\nthreatening letter arsl ordered him to\ndeposit certain amount of money in\na mans name in the bank. If he fail\ned to do so, he was told, his life would\nbe endangered.\n\n\nThe doctor ignored the command\nand a few days later received d stick\nOf dynamite through the mails The\ncase is being investigated by postal\ninspectors.\n\n\nNumerous other instances Of whip\npings and threats have been recorded\nrecently there. The Himmelberger-\nHarrison Land & Lumber Co. land in\nterests there have been molested and\nit is said that that concern has employ\nc dseveral Of the detectives working\nthere now."
        ],
        [
         "18635",
         "16_1915-11-19_p1_sn89066617_00200292303_1915111901_0611",
         "{. J. deal JR'S\n\n\nHome IS FIRED\n\n\nin SPITE WORK\n\nUnknown Hands Work Des-\ntructiOn at County Home\n\n\nNear Charleston.\n\nSECRET SERVICE MEN\n\n\nPROBE NIGHT RIDING\n\nLand Owners Gets Threatening\nLetters - Z. s. Mails\n\n\nAre Not Used.",
         "The weekly tribune and the Cape County herald. (Cape Girardeau, Mo.) 1914-1918",
         "1915-11-19 00:00:00",
         "Either New Madrid County might\nriders\" or neighbors doing \"spite\nwork\" have attempted to fire the\nhome Of F.. J. Deal Jr., on a farm IL\nmiles out of Charleston, and, after the\nattempt was frustrated, on second\ntrip they have destroyed a quantity\nOf creamery products as well as dis\nfigured one Of the buildings on the\nfarm.\n\n\nMr.. Deal is a son Of F. J. Deal, pres\nident of the Southeast Missouri Trus,\nCompany. The Deals lean to the opin-\nion that the work was done by neigh\nbors working out 4 spite\" against the\nfamily.\n\n\n1t was learned yesterday that 3\ncorps Of nearly score of Federal Sc\ncret service men are in New Madrid\nCounty and vicinity, investigating\n\"nightrider\" activities there, and prob\ning especially circumstances surrounc-\ning the receipt Of several threatening\nletters there by land owners.\n\n\nSome of the letters which have been\nreceived were not sent through the\nmails, so that if charges ever are made\nagainst anyone in connection with\nthem the Government will have 20\nprove conspiracy.\n\n\nAbout three weeks ago, Mr.. and\nMrs. Deal left the farm to go to Char\nlesion where they have small apart\nment to spend Sunday.\n\n\nA basket of fire kndling was left\nsitting on one of the porches at the\nfarm house. Sometime in the evening,\nan intruder went to the Deal house,\nopened shed nearby where can Of\noil was obtained, soaked 1.-THE kindling\nin OF! and set it afi\"e.\n\n\nThe blaze was built against the\nframework OF the house ana in few\nmoments, it IS believed, the flames\nwere reaching high alongside the\nhouse.\n\n\nOne q the men employed at the\nfarm saw the hiazr IA lime 40 extin-\nguish ii, before any material damage\nwas done 20 tic house.\n\n\nThe second visit occurred on Thurs\nday, November i. when Mr.. and Mrs.\nDeal went to Charleston to meet Mr..\nDeals parents who went TO Charleston\nfrom the Cape. In their absence, the\nmilk house on the farm was broken\ninto. The milk was poured out upon\nthe floor, coat Of paint was applied\nby dumping a large can Of paint found\nnearby in the center of the milk be-\nsmeared floor and all the butter that\nhad been stored in the place was rub\nbed into the paint and mill;\n\n\nNo attempt to fire the place at this\ntime was manifest.\n\n\nMr.. Deal, All the office Of the trust\ncompany yesterday, said he did not\nknow what caused the actions against\nhis sons property. He said that neigh\nbors had been put off of lands belong\ning to him and he believes that, al\nthough his son had nothing to do with\nthose transactions, the neighbors are\ngetting even\" with Mr.. Deal Jr.\n\n\nNo investigation Of these cases is\nbeing made by detectives, Mr.. Deal\nsaid.\n\n\nMr.. Deal said he has read threat\nening letter that Theon Hiesserer, Of\nOran, banker and real estate man, has\nreceived recently from the might\nrider\" organization.\n\n\nThe cause of the trouble in New\nMadrid is similar in character TO that\nfound to exist with the \"possum hunt\ncrs of Sikeston.\" The men object to\nthe wages they receive and object to\nthe prices they have to pay for sup\nplies, 1t is said."
        ],
        [
         "19487",
         "7_1915-12-03_p6_sn89066617_00200292303_1915120301_0623",
         null,
         "The weekly tribune and the Cape County herald. (Cape Girardeau, Mo.) 1914-1918",
         "1915-12-03 00:00:00",
         "indicated Levan's attorneys are o. A.\nKnehans and Senator Thomas F. Lane.\n\n\nLevan asserts that the three men he\nnames in his petition for damages\nwere in the \"nightrider\" gang that\ntook him from his house, tied him and\nbeat him with water soaked ropes.\n\n\nLevan is the only witness who will\nbe able to swear the defendants are\nthe ones implicated in the horsewhip-\nping. For that reason, it is believed\nthat his case may fall flat when it\ngoes to trial.\n\n\n1t was said in Blodgett following the\nhorsewhipping episode, that Levan\nwas whipped because of alleged peep\niing tom practices he had performed\non windows in the town."
        ],
        [
         "20313",
         "2_1915-11-26_p9_sn89051436_00414213054_1915112601_0799",
         "NEGRO MURDERER\n\n GETS A PARDON",
         "The weekly soliphone.",
         "1915-11-26 00:00:00",
         "Little Rock, Nov. 22.-Will Graves, Phillips county negro, con- victed of murder in the second de- gree in October and sentenced to seven years, was pardoned Satur- day by Governor Hays on the recon mendation of Sheriff Amos Jarmon it was announced from the gover- nors office.\n\n The governor issued proclama- tion relieving Mrs. Eliza Ledford and Sam Merrill of Crawford coun- ty from paying a $500 bond for feited by Nit Ledford, who jumped bond white under indictment for a \n\n SEEK PARDON FOR NIGHTRIDER\n\n Little Rock, Nov. 22.-Efforts to obtain a pardon for Mart Rogers of Mississippi county, serving six"
        ],
        [
         "21558",
         "19_1915-11-26_p3_sn89066617_00200292303_1915112601_0614",
         "CITIZENS TALK\nLYNCHING FOR\nmight RIDERS\"\nClarktOn Men Going Armed\nAfter HulIs Repulses 30in\n\n\nPitched Battle.\nPOSSE ARRESTS z;\n\n\nTRAILED BY HOUNDS\nTwo Detectives Wounded and\nSeveral Assailants Shot\n\n\nDramatic Scene.",
         "The weekly tribune and the Cape County herald. (Cape Girardeau, Mo.) 1914-1918",
         "1915-11-26 00:00:00",
         "''nightriders\" of about thirty men, all\narmed with revolvers and rifles, in\nwhich the officers repulsed the attack,\nall that part of Dunklin and New Mad\nrid counties is in a state of armed pre-\nparedness for any eventuality.\n\n\nVirtually every man in ClarktOn,\nMaiden, Campbell and many neighbor-\n| ing towns went armed last night in\nanticipation of further gun-play if an\nattempt was made to liberate the\nseven \"nightriders\" who We're placed\nunder arrest at ClarktOn.\n\n\n| Talk Of Iynching the men arrested\nfor their alleged parts in the attack\nupon the men in the hut was rife in\nClarkton last night, according to re-\nports received by telephone from Ken\nnett and CiarktOn. The prisoners will\nbe removed from Clarkton and sepa-\nrated as soon as possible in order to\nprotect them more effectually.\n\n\nThe battle ragged for about an hour\nbeginning at midnight Monday night\nand lasting till about l o'clock yester-\nday morning.\n\n\nThe men in the hut were led by\nGeorge and Oscar Hull, formerly of\nthe Cape and who are we'll known here.\nOscar Hull, who formerly was marshal\nat Oran and acquired fame there as\nthe Fighting marshal of Gran\" was\nshot in the hand. His wound is not\ndangerous.\n\n\nFrank Dennis, one of the men who\n! fought through the night with the\nHulls, was shot in the head. The bull\nlet hit him a glancing blow and laid\nopen the scalp from the forehead in\nfront several inches back on his head\nHe is not considered dangerously hurt\neither\n\n\n1t is known that several of the\n\"nightriders\" were wounded in the bat\n! tale, but the company of attacking\nmon managed to carry off their\nwounded with them.\n\n\nA posse of citizens from Campbell\nand Clarkton, who made the seven ar\nrests, all day yesterday beat the\ncountryside in search of more of the\nmen supposed to be involved in the at\ntack. BlOOdhOunds were brought from\nCampbell to trace the men.\nThe fight is the most serious clash\nbetween private detectives and secret\nservice operatives and the \"nightrid-\ning\" element that has occurred in\nSoutheast Missouri.\n\n\nThe attack was made by members\nof the same association, it is believed,\nthat committed depredatiOns around\nSikeston several weeks ago, and who\nhave taken farmers from their homes,\nmobbed them, and horsewhipped them\nor even shot them in the vicinity of the\nbattle in recent weeks.\n\n\nThe country in that vicinity has been\nvirtually infested for the last few\nweeks with detectives, some of them\nL. S. Secret Service operatives, some\nof them private detectives employed\nby land owners whose properties were\nendangered by the \"nightriders.'\n\n\n1t is said there have been at least\n80 men working to learn the source\nof the nightriding depredations that\nhave been committed around Clarkton\nand Campbell in the last few days.\n\n\nA couple weeks ago, T. S. Heisserer,\nbanker of Oran, who owns a large\nfarm in partnership with man named\nSmith, a mile south of Clarkton and\njust across the line from Dunklin\nCounty in New Madrid, employed the\ntwo Hull boys to go to his farm and\nquietly investigate the cause of trou-\nBILE that had been made for him.\n\n\nMr.. Heisserer several days ago re-\nceived a \"nightrider's letter threaten\ning him. The letter was placed in a\nmail bax without having gone through\nthe U. S. Mails. This letter was shown\nto f. J. Deal, president of the South\neast Missouri Trust Co., and Mr.. Heis-\nserer determined to go to the bottom\nof the affair.\n\n\nWhen the two Hull boys went into\nthe community, they began patching on\nthe Heisserer-Smith farm in small\nwooden hut. None knew them or what\nthey were there for. They maintained\na discreet silence as to their mission\nand worked with their \"nightrider\" job\nat nights.\n\n\nMonday evening, George Hull walk\ned into a restaurant in Clarkton, where\nhe and his brother had been obtaining\ntheir provisions of food for the last"
        ],
        [
         "22322",
         "5_1915-05-07_p1_sn89058321_00415621474_1915050701_0161",
         "Nightrider Trials Again.",
         "The commercial. (Union City, Tenn.) 190?-193?",
         "1915-05-07 00:00:00",
         "Hickman, KY, May 2.-The regu-\n\n\nlar May term of Fulton County Cir\n\n\ncult Court convened here to-day\nwith a large criminal docket and the\nlargest civil docket ever known. Be-\nsides the criminal docket there are\nseventy-two appearance equity cases\nand twenty-seven appearances cases.\nAll the candidates for office in this\ncounty and this judicial district will\nprobably be in attendance, many of\nwhom have not formally announced\nin this county. Most of the lawyers\nin this county, Hickman County and\nGraves County will be in attendance\nat this session of court, and the term\nwill be an interesting one. The\nnightrider trial has also been set for\nthis week and will be tried here.\nThis trial will attract much interest,\nthere being fourteen men ont on\nbond charged with nightriding, and\nthere will be about one hundred wit\nnesses."
        ],
        [
         "23710",
         "2_1915-02-11_p7_sn85052141_00202195064_1915021101_0324",
         "NIGHTRIDERs AGAIN\nWARN LEvEE NEGROES.",
         "The Hickman courier. [volume] (Hickman, Ky.) 1859-current",
         "1915-02-11 00:00:00",
         "l.. T. Callahan, a local leyec\ncontractor who has a camp and\nwork under way a couple of miles\nbelow Dorena, received notice by\nnightrider method Tuesday\nnight to the effect that he should\nnot work negroes. In substance\nthe large placard, found nailed\nON a tree, said. There is enough\nwhite men in this section to Dc\nall this work and the Cd ne.\ngross had better get away and\nthat quick and the boss\" had\nbetter move too\" The sigma\nture was merely a crude draw\ning of a shotgun.\n\n\nNotices, with switches attach\ned were received several days\nago, but the matter was not CIV\nen- serious attention."
        ],
        [
         "23918",
         "43_1915-08-26_p2_sn85052141_00202195064_1915082601_0601",
         "J /! |! II!\n\n\n- &AA-\n177|",
         "The Hickman courier.",
         "1915-08-26 00:00:00",
         "ing their new fall goods.\n\n\nThe boys who are making splen-\ndid gravel highways where only\nmud. d.holeS grew\" before - are\nalso in Burbank s class\n\n\nThe September term of Fulton\nCircuit Court will begin at llick-\nman one week from next Monday.\nThere is large docket for this\nterm including what is callel\nthe \"nightrider\" eases.\n\n\nElsewhere in this issue will be\nfound formal notice of spe-\ncial election in the city of lick.\nman, called for Sept 10Th, the\npurpose being to learn the will\nof our citizens in the matter OF\nprocuring a better fire protection\nfor the town. Although We have\nhad no disastrous fires recently,\n1t is still a matter of fresh recol-\nlection that Hickman experienc-\ned some very costly fires; 50\nmany of them that many fire in\nsurance companies have pulled\nout of the town, and viii write\nno more business here. But IN\ndividual loss, ON account of made\nquate fire fighting facilities, is of\nmore Importance than the loss of\ninsurance companies, because a\nfew still remain in business. Hick-\nman people will average losing\nevery year as much as the fire\ntruck will cost, 80 little argu-\nment can be advanced against\nvoting a small bond issue, which\nwill repay the taxpayers its full\ncost each year-in saving proper\nty and cutting insurance pre-\nmlums down several hundred dol\nlars per annm. IL ought Ia. and\nwe believe will, be voted in a\nwhoop: Fire protection effects\nthe interest of the poorest an1\nwealthiest citizens alike. Let 5\nhave the fire department.\n\n\n\n\n\nIf the city hast such an ordi-\nnance, one should be enacted\ncompelling owners of vacant lots\nTO cut the weeds. Civic pride and\ncommon deeency demand it.\n\n\n1t has been suggested by a cit\nizen of Hickman and cotton plant\ner that Hickman should have an\nopen cotton storage shed, where\ncotton might be placed in the\nbale, and held a few days. This\nwould sserye two purposes LIST,\nTO give the planter a place 10 put\nhis cotton when he takes il from\nthe gin; and 2nd, if the shed\nwould accommodate from 300 %\n800 bales, it would he an easy mat\nter 10 get buyers here 10 bid on\nsuch quantities, thus saving all\nthis shipping and storage charge.\nThis is certainly a suggestion\nworthy of consideration. The\ngentleman offering this sugges-\nton gave an example of what il\nmeans 10 have bidders on the\nground. On one occasion he had\n- bales on the river bank. He\nwrote several cotton firms, en-\nclosing samples, for a bid. The !\nbest received was Sl.c. This Of. |\nfer was turned down. Finally 4 !\nbuyer came 10 look at the cotton\nIN response 10 an invitation 10 do |\n80. He said See was the best he |\ncould do. The cotton owner re-\nfused TO discuss the matter furlh-\ner, and told the buyer he was\nholding for llhc. lie started off\nand the buyer called him back\nShip us that cotton he said.\nWith competitive buyers on the\nground. a great deal more could\nbe realized. The way 10 get\nthem here is to have a shed,\nwhere a sufficient amount could /\nbe- accumulated 10 interest the\nbuyers. A shed iOx 100 feet would\nmeet the requirements. This\ncould either be a free building or\ncould be put up by stock com\npany or individual and operated\nfor a small fee. At any rate, the\nmatter is worth investigating."
        ],
        [
         "27244",
         "26_1916-01-27_p2_sn90051548_00340586281_1916012701_0026",
         "rhlrty.Three Plead Guilty.",
         "Gilpin observer.",
         "1916-01-27 00:00:00",
         "New Madrid, Mo.-Thirty-three de-\nPENDANTS in the nightrider trials here\npleaded guilty, thus bringing the trials\n70 a sudden end."
        ],
        [
         "29145",
         "5_1916-12-16_p1_sn88085187_00211108447_1916121601_0120",
         "AIM ATTACK\nAT MRS. ROSS",
         "The Tacoma times. [volume] (Tacoma, Wash.) 1903-1949",
         "1916-12-16 00:00:00",
         "The defense in the trial of the\nIL alleged might riders In the\nFEDERAL court will consist largelv\nIn an attack on the character OF\nMrs. Margaret Ross and her twd\nsons, whom, 1t is alleged, thief\ndrove out of the country.\n\n\nThis was indicated in the open4\ning argument of Defense AttorneH\nWalsh Saturday, after the stat\nhad closed its case.\n\n\nThe defense, he said, will try\nto show that the ROSES werd\ncontinual trouble makers\" and\nthat on Jan. 10. 1914, the DAD\nbefore the night rider ral1\ntook place, the two Ross boys ~\ntempted to kill Mrs. Vanderpo6\nby Telling a tree so that II wouI&\nstrike on the Vanderpool cabin.\nHe said the defense wou\nprove further that none OF d\n13 defendants were present at Z\n''nightrider raid\" on the Rd\nhouse\n\n\nThe first witnesses called we\ncharacter witnesses against M\nRoss."
        ],
        [
         "33309",
         "3_1916-02-17_p5_sn89066651_00211109488_1916021701_0359",
         "A Commendable Record.",
         "The Hayti herald. (Hayti, Mo.) 1908-1922",
         "1916-02-17 00:00:00",
         "For several weeks. in fact.\nmonths. much favorablecommen,\nhas been INDUCED by the Demo\ncratic newspapers of Southeast\nMissouri. And all these favor.\nable rrlnards IRE not wanting.\nJudge McCarty has diminished\nthe doc;ut of PemiscOt county tn\nabout onr.third. and has totally\nwiped out the New Madrid dock\nct. None too much praise cannot\nWe extended in his method OF\nhandling the nightrider cases in\nthat county.\n\n\nIf We are not misinformed, we\nbelieve Judge McCar,A term\nexpires at this election.\n\n\nAs in times past, it has always\nbeen customary To return to Of\nice the official who has done his\nduty Judge McCarty is one of\n,icial who has filed his Office to\nMS best ability. and with honor\n20 his party. He Shoul,! be re.\nnominated without an opponent.\n\n\n$ nee having been elevated to\n1his position he now feels. he does\nnot forget his old friends and\nformer pupils. The writer can\nwe'll rememb Der when Judge Nc\nCarly used to take Us youngsters\n10 task for diSobedience, while\nprincipal of Hayti'> public school,\nmd that was long bout l9Ol--tif\nreen years ago. Ills space of\ntime has not been for naught. 1t\nhas only made those pupils and\nhis associates think more of him\nrs he advanced from teacher to\niawyer--from lawyer to circuit\nJudge.\n\n\nWe don't know whether Judge\nMcCarty is to be a candidate for\ncircuit Judge or not. but as prec-\ncdent has ruled, he should be re.\nnominated without opposition."
        ],
        [
         "33575",
         "8_1916-01-20_p2_sn85052141_00202195064_1916012001_0869",
         "FOUR ARE SENTENCED\nFOR WHITECAPPING.",
         "The Hickman courier. [volume] (Hickman, Ky.) 1859-current",
         "1916-01-20 00:00:00",
         "Clayton Smith, Lee Simpson,\nJohn Rock, Andrew Houchin and\nVIII Wilson were convicted Fri.\nday by a jury in the Onion cir\ncult court of white Gaping and\ngiven indeterminate sentences Of\nnot less than three years. nor moie\nthan twenty-one years each.\n\n\nAll five men are from the vicin.\nity of Harris. They had been ter.\n\n\nOrizing the good people of llar\nRVS for some time. Their final\nact which resulted in their con\nyiction was the raiding of camp\nOf Bulgarian worl1men on the Hi.\nnoiS Central railroad near the lit\ntie town. They seemed TO labor\nunder the hea that the foreign\ners, unable to speak English or\nunderstand the ways of the Ten.\nneSSee nIghtrider, would submit\nTO unjust treatment. The accus.\ned ordered them by correspon\ndence and word of mouth 20\nleave the country instantly. The\nBulganans pursued their business\nquietly. The whitecappers there\nupon held an Indignation meeting,\ndressed themselves in Disguise be-\nfitting the occasion and sallying\nforth on a night in November of\nthe past year, shot up the camp\nof the workmcn, scattered the Bu L.\ngarians out into the night; but\nnot before they had demanded\nand reserved what money the\nworkmen had. The plumber a.\nmounted 10 over 500. The citi-\nzens of Harris rose en- maSse and\ndemanded justice 10 the Bul\ngaflmS."
        ],
        [
         "34673",
         "60_1916-05-26_p4_sn96088356_00295868594_1916052601_0429",
         "WORLDS DO|NGS\n\n\nOF CURRENT WEEK\n\nBrief Resume Of General News\n\n\nFrom All Around the Earth.\n\nUNIVERSAL HAPPENINGS IN A NUTSHELL\n\nLive News Items of All Nations and\nPacific Northwest Condensed\n\n\nfor Our Busy Readers.",
         "The Athena press. [volume] (Athena, Umatilla County, Or.) 18??-1942",
         "1916-05-26 00:00:00",
         "lUl Uui DuSy NtdutlS.\nA Greek collier was sunk Thursday\nby an Austrian submarine. Twenty\nseven members of the crew were\npicked up by French torpedo boat.\n\n\nThe resignation of Charles Ware as\ngeneral manager of the Union Pacific\nwas announced Tuesday at the COM\npany's headquarters. No reason is\ngiven.\n\n\nThe Swedish steamer Rosalinn, 877\ntons, from Copenhagen for Stugsund,\nin ballast, has been sunk by mine off\nthe Stockholm Skerries. The crew\nwas saved.\nBy vote of 80 to 81, the house in\ncommittee of the whole has adopted an\namendment to grant suffrage to the\nwomen of Porto Rico. 1t was proposed\nby Republican Leader Mann.\n\n\nNotices of contests from the Sixth,\nSeventh and Fourteenth districts of\nTexas, involving four delegates to the\nRepublican National convention are re-\nceived by Secretary Reynolds.\n\n\nThe battleship Nebraska left the\nnavy yard at Boston Tuesday under\norders to proceed to Mexico. She will\ntake on a complement of apprentice\nseamen at Newport, r. l., en- route.\n\n\nVictor Carlstrom, in a 160-horse-\npower biplane, flew from Newport\nNews, Va, to the Sheepshead Bay\nspeedway, in New York City, Tues\nday, distance of 416 miles, in four\nhours and one minute.\n\n\nMore than 1900 French, including 81\nofficers, 16 machine guns and eight\ncannon, were captured in German\nassault on the Verdun front in the re-\ngion of Deadman's hill, the German\nwar office announced Tuesday.\n\n\nPresident Poincare has conferred the\nwar cross on Queen Elizabeth of Bel\ngium as an expression of \"the admira-\ntion of the people for the magnificent\ncourage and untiring devotion to the\nwounded which she has never ceased to\nshow under the enemy's fire.\n\n\nLondon underwriters charge so per\ncent to insure against declaration of\npeace between Great Britain and Ger\nmany before January l. The rate in\ndicates that in the underwriters opin-\nion the prospects for an early peace\nare better than two months ago, when\nthe rate for the same risk was only 80\nper cent.\n\n\n1t is officially announced from Dub\nlin that in addition to the sentence of\ndeath imposed on jeremiah G. Lynch,\nAmerican, similar sentence was i'm\nposed upon Peter Gallighan, but that\nthis sentence was commuted to five\nyears penal servitude. A number of\nother persons also were sentenced to\nvarious terms of Imprisonment.\n\n\nNine residents of Pacific county,\nWash. were arraigned Wednesday be-\nfore Judge Cushman in the United\nStates District court at Tacoma, on in\ndictments returned by the Federal\ngrand jury last Saturday, charging\nconspiracy against Mrs. Margaret Ross\nand sons. The defendants are the al\nlegged nightriders who are accused of\nhaving forcibly restrained Mrs. Ross\nand her sons from exercising their\nrights as settlers on the public domain.\n\n\nThe administration five-year navy\nprogram was rejected by house COM\nmittee.\n\n\nThe Northwestern railroad at Omaha\nhas announced an increase of per\ncent in wages of some classes of en-\nployes.\n\n\nA San Francisco judge has decided\nthat it is as much crime for woman\nto desert her dependent children as\nfor man to desert his family.\n\n\nFour mice, whose ancestors had been\ninoculated with tumor germs for 15\nyears, took up their residence in the\nCrocker cancer research laboratory at\nColumbia University, New York,\nwhere they have been brought from\nLondon to be safe from wars ravages.\nEstimates Of the governments re-\nceipts and expenditures for the re-\nmainder of the current fiscal year and\nthe fiscal year ending June 80, 1917,\ntend to show that much less new reve-\nnue. will have to be raised to meet the\nbill for preparedness and other large\ncontemplated expenditures than had\nbeen supposed.\n\n\nn earthquake of particular violence\n\n\noccurred along the Adriatic coast\n\n\nally. At eczema dozen persons\n\n\ninjured. Interior districts were\n\n\nbadly shaken.\n\n\nhandbag containing six $40 bills\n\n\nfound in bundle of clothing by\n\n\nalton Army workers in Portland.\n\n\nreturning the money to its owner\n\n\nreceived $40 bill as reward.\n\n\nrgeant Furman, a member of the\n\n\nnine gun company of the Twenty\n\n\nInfantry, was shot and killed on\n\n\nlean soil mile and half east of\n\n\nez by Mexican customs guards.\n\n\npsies up-to-date - IA motor cars\n\n\nIf them-the band numbering 100\n\n\nbers, left Eugene, Ore, en- route\n\n\nSan Diego to Minneapolis.\n\n\nis generally believed that the vote\n\n\nedit which Premier Asquith will"
        ],
        [
         "37166",
         "16_1916-02-05_p1_sn90061556_00200292054_1916020501_0877",
         "HAPPENINGS\n\n\nof The sOeek\nIN MISSOURI",
         "The Kansas City sun. (Kansas City, Mo.) 1908-1924",
         "1916-02-05 00:00:00",
         "nv AAA /\nA second gift of s1O0, 900 has been\ngiven to Underwood college at st.\nCharles by James Gay Butler, a re-\ntired tobacco manufacturer Of st.\nLouis, it vas announced recently by\nDR.. John L. Roemer, president of the\ncollege. The new gift of $4,000 will\nbe used for a domitory.\n\n\n]. L. Frederick Of st. Joseph was\nelected president of the Missouri Grain\nDealers Association before its annual\nconvention at st. Louis. The associa-\nton went on record as favoring uni\nform grading and inspection of grain\nunder the auspices of the United\nStates department of agriculture.\n\n\nJohn NJ. Atkinson and John Ken\nnish of the Missouri public service\ncommission heard testimony al Jop-\nlin recently concerning an application\nof the Home Telephone Company of\nJoplin for a permanent increase in\nrates.\n\n\nL. G. Hood of Bolivar, who finished\nhis work in the school of journalism\nof Missouri University this semester,\nhas left for Minneapolis, where he\nwill become a member of the Journal\nism faculty Of the University of Min\nnesota.\n\n\nRains varying from 2t5 inches to\n4.01 inches, which fell near Joplin,\nraised streams to record levels,\nwashed out several miles of railroad\ntrack, and marooned many families\nwithin a radius of twenty-five miles of\nJoplin.\n\n\nMore than 100000 carnations were\non display at a downtown hotel in St.\nLouis in connection with the meeting\nOf the American Carnation Society,\nwhich held a two days session. About\n$50 %carnation growers from all parts\nof the country were in attendance.\n\n\nJoseph w. Folk, chief council for\nthe Interstate Commerce Commission\nand formerly governor of Missouri, has\nissued a prepared statement saying\nhe would not be a candidate for gov\nernor.\n\n\nThree citizens of Montgomery died\nof grip and fever in one day recently.\nMrs John B~randenburg and Mrs Mag\ngle Reed, both old residents, and Leon\nard ~Brandenburg, SO years old, sue\ncumbed.\n\n\nJohn ]. Murphy, 81, a farmer resid-\ning south of Macon, died from a para\nlytic stroke recently. Mr.. Murphy was\nan extensive contributor to newspa-\npers and farm journals, writing under\nthe pen name of Uncle Reuben\"\n\n\n\nThirty-three defendants in the\nnightrider trials at New Madrid\npleaded guilty. thus bringing the\ntrials to a sudden end. All were sen\nfenced to six months Imprisonment\nand then Immediately were paroled\non good behavior. Two who were on\ntrial at the time were allowed to plead\nguilty and were paroled with the rest.\nThe sentences of the eighteen whose\ncases already had been disposed of\nwill stand unless the trial judge should\nparole them.\n\n\nAt the auction sale of tobacco at\nWeston recently $4,000 pounds were\nsold, the average price being $3.50.\nThe highest price was 500, paid to\nHillix & Frank, growers. The to-\nbacco crop in Platte county will ag-\ngregate 1000 tons this year\n\n\nRobert B. Monroe, assistant cash\nTer of the Jefferson County bank, was\nacquitted at Hillsboro on a charge\nof accepting deposits after he knew\nthe bank to be %insolvent. The jury\nwas out three hours.\n\n\n.\n\n\nFulton went dry the other day\nby a majority of 17S, the vote being\n610 to 432, An especially large vote\nwas polled. The licenses of both of\nIl ulIOu SdlOOnS expire teDFudTy IL.\n\n\n\n\n\nThe Macon Commercial club is\nworking out plans for a land congress\nto be held there soon. Henry Funk,\nland owner in the Salt River Valley,\nShelby county, vas the originator of\nthe move. The purpose is to start a\ncampaign for the reclamation of all\nthe overflow lands in Northeastern\nMissouri.\n\n\nMore permanent road work was done\nin Greene county in 1915 than in any\nother year in the county's history, ac-\ncording to the annual report of Coun-\nty Engineer John r. McAfee. Forty.\ntwo and a half miles of rock roads\nwere constructed during the year, 104\nculverts built and $41,251 we're expend-\ned by the county judges on highways\nand bridges.\n\n\n\n\n\n"
        ],
        [
         "37167",
         "42_1916-02-05_p1_sn90061556_00200292054_1916020501_0877",
         null,
         "The Kansas City sun. (Kansas City, Mo.) 1908-1924",
         "1916-02-05 00:00:00",
         "Thirty-three defendants in the\nnightrider trials at New Madrid\npleaded guilty. thus bringing the\ntrials to a sudden end. All were SEN\nfenced to six months Imprisonment\nand then Immediately were paroled\non good behavior. Two who were on\ntrial at the time were allowed to plead\nguilty and were paroled with the rest.\nThe sentences of the eighteen whose\ncases already had been disposed of\nwill stand unless the trial judge should\nparole them."
        ],
        [
         "39315",
         "65_1916-05-26_p4_sn94052320_00416152688_1916052601_0321",
         "WORLDS DO|NGS\n\n\nOF CURRENT WEEK\n\nBrief Resume Of General News\n\n\nFrom All Around The Earth.\n\nUNIVERSAL HAPPENINGS N A NUTSHELL\n\nLive News Items Of All Nations and\nPacific Northwest Condensed\n\n\nfor Our Busy Readers.",
         "The Weston leader. [volume] (Weston, Umatilla County, Or.) 189?-1946",
         "1916-05-26 00:00:00",
         "A Greek collier was sunk Thursda,\nby an Austrian submarine. Twenty\nseven members Of the crew wer'\npicked up by French torpedo boat.\n\n\nThe resignation Of Charles Ware Al\ngeneral manager Of the Union Pacific\nwas announced Tuesday at the com\npany's headquarters. No reason y\ngiven.\n\n\nThe Swedish steamer Rosalinn. 81\ntons, from Copenhagen for Stugsund\nIn ballast. has been sunk by mine OF\nthe Stockholm Skerries. The crew\nwas saved.\n\n\nBY q vote Of so to 81. the house Il\ncommittee Of the whole has adopted Al\namendment to grant suffrage to ths\nwomen Of Porto Rico. II was proposes\nby Republican Leader Mann.\n\n\nNotices Of contests from the Sixth\nSeventh and Fourteenth districts o.\nTexas. involving four delegates TO th'\nRepublican National convention are re\nceived by Secretary Reynolds.\n\n\nThe battleship Nebraska left th'\nnavy yard at Boston Tuesday under\norders TO proceed TO Mexico. She vii\ntake on a complement Of apprentice\nseamen ut Newport. X. l., On routs.\n\n\nVictor Carlstrom, In a i60-horse'\npower biplane. flew from Newport\nNews. Va, TO the Sheepshoad Bay\nspeedway, In Now York City. Tues\nday, distance Of 4i6 miles. in -four\nhours and one minute.\n\n\nMore than 1900 French. including 81\nofficers. le machine guns and eight\ncannon, were captured In a German\nassault on the Verdun front In the 70\ngion Of Deadman's hill, the German\nwar Office announced Tuesday.\n\n\nPresident Poincare has conferred the\nwar cross on Queen Elizabeth Of Bel\ngium as an expression Of ''the admira.\ntion Of the people for the magnificent\ncourage and untiring devotion TO the\nwounded which she has never ceased e\nshow under the enemy's are. /\"\n\n\nLondon underwriters charge so pei\ncent to insure against declaration Of\npeace between Great Britain and Ger\nmany before January l. The rate In.\naicates that in the underwritors' opin-\nION the prospects for an early peace\nare better than two months ago, when\nthe rate for the same risk was only 81\nper cent.\n\n\nIi Ia officially announced from Dub.\nlin that In addition TO the sentence Of\ndeath imposed on Jeremiah G. Lynch,\nAmerican, n similar sentence was I'm\nposed upon Peter Gallighnn, but that\nthis sentence was comnuted to hvs\nyears penal servitude. A number Of\nother persons also were sentenced e\nvarious terms Of imprisonment.\n\n\nNine residents Of Pacific county,\nWash. were arraigncd Wednesday be.\nfore Judge Cushman In the United\nStates District court at Tacoma, on In\ndictments returned by the Federal\ngrand jury last Saturday. charging\nconspiracy against Mrs. Margaret Ross\nand sons. The defendants arc tho al,\nlegged nightriders who are accused Of\nhaving forcibly restrained Mrs. koaa\nand her sons from exercising theii\nrights as settlers on the public domain\n\n\n\n\n\nThe.administration's five-year navy\nprogram was rejected by a house com\nmittee.\n\n\nThe Northwestern railroad at 0maha\nhas announced an increase OF s pei\ncent In wages Of some classes OF en-.\nployes.\n\n\nA San Francisco judge has decided\nthat IL iB az much q crime for q woman\nTO desert her dependent children III\nfor a man 70 desert his family.\n\n\n-Four mice. whose ancestors had beer\ninoculated with tumor germs for II\nyears, took up their residence In the\nCrocker cancer research laboratory At\nColumbia University, New York,\nwhere they have been brought from\nLondon to be safe from wars ravages.\n\n\nEstimates Of the governments re-\nceipts and expenditures for the re.\nmainder Of the current fiscal year and\nthe fiscal year ending June 80, 1877,\ntend 10 show that much less new reve.\nnue. will have TO be raised TO meet the\nbill for preparedness and other large\ncontemplated expenditures than had\nbeen supposed.\n\n\nAn earthquake Of particular violence\nhas occurred along the Adriatic coast\nOf Italy. At eczema dozen persons\nwere injured. Interior districts were\nalso badly shaken.\n\n\nA handbag containing six $40 billl\nwas found In q bundle Of clothing BY\nSalvation Army workers in Portland.\nUpon returning the money to its owner\nthey received $40 bill az reward.\n\n\nSergeant Furman, a member Of the\nmachine gun company Of the Twenty\nthird Infantry, was shot and killed on\nMexican soil mile and half east OF\nJuarez by Mexican customs guards.\n\n\nGypsies up-to-date - IA motor cars\nfull Of them-the band numbering 100\nmembers, left Eugene, Ore, en- route\nfrom San Diego to Minneapolis.\n\n\n\n\n\nIt is generally believed that the vote\nof credit which Premier Asquith will\nask from Parliament room will be for\n$500, 900, 600. This will bring the\ntotal thus granted to R2,SS2, 900, 0O0.\n\n\nThe German ambassador to the\nUnited States has issued orders to all\nGerman residents TO cease violations\nOf American laws in their efforts to"
        ],
        [
         "40753",
         "20_1916-01-28_p1_sn94052320_00416152688_1916012801_0250",
         "rhIrty-Three Admit Nlght-RIdIng.",
         "The Weston leader. [volume] (Weston, Umatilla County, Or.) 189?-1946",
         "1916-01-28 00:00:00",
         "New Madrid. Mo. Thirty-three de-\nPENDANTS In the nightrider trials here\npleaded guilty Wednesday. bringing\nthe trials to sudden end. All SO we're\nsentenced to six months imprisonment\nand paroled on good behavior. Two\nmen who were on trial were allowed to\nplead guilty and were paroled with the\nrest. The sentences Of the IS whose\ncases had been disposed Of will stand.\nThe defendants were accused Of terror\nizing land owners and tenants Of South\neastern Missouri with the object Of\nsecuring lower rent and higher wages."
        ],
        [
         "41556",
         "23_1916-02-03_p3_sn89055001_00414211860_1916020301_0794",
         null,
         "The Parma herald. (Parma, Idaho) 1903-1917",
         "1916-02-03 00:00:00",
         "New Madrid, Mo.-Thirty-three de-\nPENDANTS in the nightrider trials here\npleaded guilty Wednesday, bringing\nthe trials to sudden end All 33 were\nsentenced to six months Imprisonment\nand paroled on good behavior. Two\nmen who were on trial were allowed to\nplead guilty and were paroled with the\nrest. The sentences of the 18 whose\ncases had been disposed of will stand.\n\n\nThe defendants were accused Of terror\nizing land owners and tenants Of South\neastern Missouri with the object Of\nsecuring lower rent and higher wages."
        ],
        [
         "41965",
         "11_1916-04-21_p7_sn96093062_00237280908_1916042101_0136",
         "NIGHT Riders AT sALLIsAw",
         "Durant weekly news. (Durant, Choctaw Nation, Indian Territory [Okla.]) 190?-1944",
         "1916-04-21 00:00:00",
         "The activity of night riders was\ndisclosed at Sallisaw late last week\nwhen the announcement was made\nthat c. E. Smith, farmer, 32 years\nold, had been shot in the arm, and\nhis farm hand. Benjamin Palmer, in\nhumanity beaten by eight men who\nentered Smiths home a few nights\nago. Smith was injured in resisting\nthe entrance of the strangers. The\nman, Palmer. it is reported, was told\nthat he was being punished for fall\nure to cooperate with the name of\nthe' union, the name of which has\nbeen spoken in connection with all\nlegged nightrider outbreaks."
        ],
        [
         "43056",
         "7_1916-11-02_p1_sn85052141_00202195076_1916110201_0175",
         "A WORD ABOUT sAMBURG.",
         "The Hickman courier. [volume] (Hickman, Ky.) 1859-current",
         "1916-11-02 00:00:00",
         "The little city Of Samburg,\ndown on Reelfoot Lake, was well\nrepresented by Hickman folks\nSunday, who were out motoring,\nenjoying the balmy October days.\nAmong those from Hickman we\nnoticed Esq. A. M. Shaw and\nparty, w. NJ. Shaw and party,\nHenry Sanger and wife, b. G.\nHale and wife, B. G.. Hale, Jr.\nand wife, DR.. H. E. Prather and\nwife, Richard Prather, Miss Het-\ntie Williams and mother, w. e.\nLynch and wife, N. r. Holcombe,\nMisses Frankye and Lite Reid,\nMiss Newbill, Mrs. Dee Reid, Miss\nHomer Green, Miss Kate Hackett,\nA. Minitree, Mack Reid, Leslie\nHackett, Wiley Tummins, j. c.\nSexton and wife, w. G. Speer and\nwife and others whose names we\nfailed to get. Samburg seems to\nbe forging right ahead, even if\nthe oil boom did die a natural\ndeath. The boring for oil has\nceased and the machinery has all\nbeen moved away. Residents of\nthat section seem to know little\nor nothing Of the results of the\ndrilling, except that the casing\nhas been pulled out and the\n\"hole plugged up with mud. If\noil was found, the matter is\nsecret. Mrs. w. j. Logan, form\nerly of this city, runs the princi-\npal hotel of Samburg and Is do\ning nicely with the business. The\njolly bunch that meets at SAM\nburg for hunting, fishing and ont\ning, find it an ideal spot for the\npurpose, although this village was\nonce famed as the cradle Of\nNightriderism.\" Even some Of\nthe members Of the once famous\norganization - Sam Applewhite\nand others who were sentenced\nto be hung uptil dead-are there\nto greet the visitors very much\nalive and apparently the best Of\nfellows. The little town, unique IN\na way, is maintained by the fish\ning industry and enjoys good\nincome as q sp0rtsmans resort."
        ],
        [
         "44906",
         "8_1916-09-23_p7_sn88051105_00513687928_1916092301_0498",
         "DAN MecABE, A CRAWFORD\nCOUNTY CITIZEN FINDS WARN\n\n\nING NOTICE ON HOME.\n\nCOTTON PICKERS INCLUDED\n\nNote Signed w. C. u.\" Demands Pay.\nment Of 81 a Hundred For Picking\nStaple-People Of Mulberry\n\n\nAroused BY Rumors.\n\nMulberry",
         "The Harrison times.",
         "1916-09-23 00:00:00",
         "MulDeIII \"\nNightriders again made their ap-\npearance in the cotton country ada\ncent to Mulberry when a nightrider\nnotice was found tackled to the house\nOf Dan McCabe, a planter, threatening\nhim with a wet rope whipping if he\ndid not pay 81 per hundred pounds for\npicking cotton. Pickers who worked\nfor less were threatened in the same\nnote with like treatment. The note\nwas signed \"W. c, o.\" supposed to\nstand for Working Glass Union\"\nstrong labor organization among un-\nskilled laborers in this section.\n\n\nMulberry was aroused by a report\nthat nightriders were whipping cotton\ngrowers and pickers. A posse was\nsent to the bottoms, but found no evi-\ndence to substantiate the report"
        ],
        [
         "46286",
         "32_1916-01-28_p3_sn86091128_00415666263_1916012801_0465",
         "Niqhtriders Convicted.",
         "Clearwater Republican. [volume] (Orofino, Idaho) 1912-1922",
         "1916-01-28 00:00:00",
         "New Madrid, Mo.-John Elder and\nDick Gamble were convicted of parti-\ncipating in a nightrider attack on M.\nr. ADHESION, landowner living near\nGideon, Mo. Fifty alleged nightriders\nremain to be tried Ed. Miller, one of\nthe alleged nightriders turned states\nevidence."
        ],
        [
         "46859",
         "28_1916-01-27_p6_sn90051144_00513680776_1916012701_0691",
         null,
         "The Arvada enterprise.",
         "1916-01-27 00:00:00",
         "New Madrid, Mo Thirtythreo do.\nPENDANTS in the nightrIder trials here\npleaded guilty. thus bringing the trials\nto sudden end."
        ],
        [
         "51858",
         "70_1916-02-10_p1_sn84024283_0029455676A_1916021001_0046",
         null,
         "Iron County register. [volume] (Ironton, Iron County, Mo.) 1867-1965",
         "1916-02-10 00:00:00",
         "u. w. CroWdeT, CITY attorney VI\nCarthage, has filed a petition with\nthe Missouri public utilities commits\nsion asking that the Carthage Gas\nCompany be compelled to provide bet\nter service. During the cold weather\nCarthage practically has been without\ngas and much suffering has resulted.\n\n\nJudge Henry Lamm, former justice\nOf the supreme court of Missouri, in\nan address before the Lammfor-Gov-\nernor club at Sedalia, formally an\nnounced his candidacy for nomination\non the Republican ticket for governor\no. Missouri.\n\n\nThe city council of Mt. Vernon has\ncalled a special election for February\nIs to vote on the proposal of issuing\nbonds of $500 for the construction\nof a municipal lighting plant to re-\nplace the municipal plant which was\ndestroyed by fire recently.\nThe record price in Missouri for a\nbushel of corr was paid in Carroll\nton recently. scores of farmers were\nthere to buy seed corr and SIPS was\npaid for a bushel of pure Yellow Dent.\nThirty ears brought $25 and ten ex-\nexceptionally choice ears brought $26.\n\n\nA proposition to bond Odessa for\n$500 for a water works was defeat\ned there recently at a special election\nby a vote of 154 to 1853.\n\n\nPetitions are being circulated among\nthe voters of Greene county for sig\nnatures asking the county court to\ndeclare Greene county a district in\nwhich bonds may be voted for the es-\ntablishment of a sanitarium for the\ntreatment of tuberculosis sufferers.\n\n\n\n\n\nOne of the few who crossed the\ngreat plains in buffalo and Indian\ndays to reach the California gold\ncamps, was Abram Franklin Faucet,\n81 years old, sho died at his farm,\nnorth of Columbia, the other day.\nJohn Jackson, So years old, for many\nyears proprietor of a string of hard\nware and implement stores in Iowa,\nis dead at his home in st. Joseph.\n\n\n= y y\n, John M. Atkinson and John Ken\nnish of the Missouri public service\ncommission heard testimony at Jop'\nlin recently concerning an application\ne of the Home Telephone Company Of\nJoplin for az permanent increase il\ng rates.\n\n\nd Joseph W. Folk, chief council fol\n9 the Interstate Commerce Commission\nd and formerly governor of Missouri, has\nissued a prepared statement saying\ne he would not be a candidate for gov\nernor.\n\n\nThree citizens Of Montgomery diet\nO of grip and fever in one day recently\na Mrs John Br%andenburg and Mrs Mag\n=. gle Reed, both old residents, and Leon\nd ard Brandenburg, SO years old, su\n\n\ncumbed.\n\n\nJohn J. Murphy, CT, a farmer resic\n. ing south of Macon, died from a para\n> lytic stroke recently. Mr.. Murphy wa\n\n\nan extensive contributor to newspa\n\n\npers and farm journals, writing unde\n- the pen name of uncle Reuben\"\n~\n\n\ne Robert B. Monroe, assistant casf\nIs Ter of the Jefferson County bank, wa\nIL acquitted at Hillsboro on a charg\nof accepting deposits after he knee\nVI the bank to be insolvent. The jur\nI was out three hours.\n\n\nFulton went dry the other da\n~ by a majority of 17S, the vote bein\n610 to 1872. An especially large vot\nwas polled. The licenses of both\nIT. Fulton,s saloons expire February 1\nRS Thirty-three defendants in tn\nnightrider trials at New Madri\n~ pleaded guilty, thus bringing tn\nne trials to a sudden end. ALI were SCI\n1t fenced to six months imprisonme1\n\n\nand then Immediately were parole\nhe on good behavior. Two who were G\ntrial at the time were allowed to plea\nhe guilty and were paroled with the res\nOh The sentences of the eighteen who's\nm cases already had been disposed\nwill stand unless the trial judge shoul\nparole them.\n\n\nJ. L. Frederick Of st. Joseph W;\n\n\nelected president Of the Missouri Ora.\n\n\nDealers Association before its annu\nlr convention at st. Louis. The associ\nton went on record as favoring III\n\n\nform grading and inspection Of gra\n~ under the auspices of the Unit\nvs.. States department of agriculture.\nis\n\n\nA second gift Of $780, 900 has be,\n\n\ngiven to Underwood college at {\n\n\nCharles by James Gay Butler, a !\n\n\ntired tobacco manufacturer Of {\n\n\nLouis, 1t was announced recently\n\n\nDR.. John l.. Roemer, president Of t\n\n\ncollege. The new gift Of 100000 W\n\n\nbe used for q domltory.\n\n\n\nL. G.. Hood of Bolivar, who finish\nq his work in the school Of journals\n\n\nOf Missouri University this semest'\n\n\nhas left for Minneapolis, where\n20 will become a member of the Journ\n40 ism faculty of the University of M\naz nesota.\n\n\nhe Rains varying from 2k inches\nyar LIT rult Isl"
        ],
        [
         "60231",
         "50_1917-02-02_p3_sn89058154_00415622004_1917020201_0843",
         "LATE NEWS\nNxNNN CONDENSED NNxxxy\nHappenings Over\n| Commonwealth\n\n\nas Cleaned from\n| Various Places",
         "McNairy County independent. (Selmer, McNairy County, Tenn.) 1902-1969",
         "1917-02-02 00:00:00",
         "nlb o5tn year.\n\n\nManchester-No action has yet been\ntaken by the city council regarding\nthe ordinance calling an election to\nvote on issuing waterworks bonds for\nManchester.\n\n\nCarthage.-Announcementh has just\nbeen made that the district conven-\nton Of Knights of Pythfas will be held\nwith Orion lodge of this city on the\nnight of March %.\nLexington.-The explosion Of coal\noil stove resulted in the destruction\nby fire of the residence and its con-\ntents of S. G. Parker, merchant at\n| Darden.\n\n\nJackson.-In the case of the state\nvs. Walter ]. Burke, charged with sell\ning liquor in Jackson in violation of\nthe statutes, there was mistrial in\nthe criminal court.\n\n\n\n\n\nJackson.-Mrs. John r. Dodds, SO,\nwho sustained burns on her face and\nhands four weeks ago, when she fell\ninto an open fireplace, died at her\nhome, south Of the city.\nBristol.-It is announced that Small\ning G Cody of Bristol have sold their\nlimestone quarry near Bluff City to a\nVirginia operator who is soon to in\nstall an extensive plant.\nWinchester.-The oldest co-opera-\ntive creamery in the state, and prob\nably the Oldest cooperative creamery\nin the southeast has entered on it's\neighth year of operation.\n\n\n\n\n\nChattanooga.-C. Frazier, private\ndetective, and former sheriff of Rhea\ncounty, was killed, and his nephew,\nHomer Frazier, was critically wound\ned in a pistol duel here.\nNashville.-J. A. Parker, charged\nwith shooting and probably fatally\nwounding his wife, has been unable\nto make bond. Parker claims the\nshooting was an accident.\nf\nCleveland. Seven Bradley county\nbirds took eight ribbons at the big\nGold Special poultry show at Okla\nhoma City, Okla, on exhibition with\nthe strongest competition in the west.\nDecherd.-There is almost an cpl\ndemic of grip and measles at this\nplace. Entire families are confined to\ntheir beds with the two maladies in\nsome cases. Pneumonia is also prev\nalent.\n\n\nMemphis. -Recognizing the value of\ncow-testing association to COM\nmunity where good cows are kept, rs\ndairymen and business men of Shelby\ncounty have organized an association\nhere.\nWaverly.-Capt. Thos. WHY, one of\nHumphreys county's best and most\nlikeable citizens, died at his home in\nold Reynoldsburg, formerly the county\nseat, on Tennessee river, aged about\n68 years.\n\n\nBristol.-W. B. McSpadden, Bris-\ntoll young man, has been advised he Is\nthe winner of the national prize for\nwindow electric decorations. He was\nin a contest with decorators in all\nstates. His prize will be Ford car.\nClarksville.-At a meeting OF the\nMontgomery county medical associa-\nton held here, the following officers\nwere elected. DR.. ]. w. Ross, presi-\ndent; DR.. R. B. Mawn, vice-president;\nDR.. B. M. Little, secretary; DR.. Ray\nWebb, delegate to the staf conven-\nton.\n\n\nMemphis.-William H. Taylor, dep\nuty sheriff, died at st. Joseph's hos\npital from a pistol wound in the head.\nThe shot was fired by B. Browning, 81\nyears old, florist. Browning is lock-\ned up at the central police station on\n| a charge Of murder. Jealousy over a\nyoung wife, police say, is responsible\n| for the killing of the officer.\nCleveland.-Dr. J. l.. Mackey, a\nprominent physician of this county,\nresiding near Charleston, received Sc\nrious injury in an accident at Cal\nhoun. While driving along in his car\nhe was caught by three telephone\nwires which were being strung across\nthe pike road and were elevated just\nenough to jerk the doctors hands\nfrom the steering wheel and throw\nhim to the back of the car with ter\nrifle force. One rib was broken and\n| his spine injured to the extent that\n| paralysis Is feared\n\n\nChattanooga.-All that now remains\non the Queen & Crescent Route\" one\nof Chattanooga's noted railroad sys-\nTENS, is the name on various Offices in\nthe city, ard these are being obliter-\nated.\n\n\nKnoxville-Garfield Carter, charged\nwith robbing the lakewood postoffice,\nsuburb OF Knoxville, has escaped\nfrom the Anderson county Jail at Clin-\nton. Frank Massengil, another pris-\noner, escaped at the same time. They\ngained their liberty by digging through\nbrick wall.\n\n\nNashville.-A Dunlap special says\nthat verdict of acqrittal was re-\nturned there in so-called ''nightrider'\ncase In which six defendants were\ncharged with whipping Robert King\nand Mrs. Dennis in Sequachie coun-\n| w In Cactamher 1914"
        ],
        [
         "60232",
         "96_1917-02-02_p3_sn89058154_00415622004_1917020201_0843",
         null,
         "McNairy County independent. (Selmer, McNairy County, Tenn.) 1902-1969",
         "1917-02-02 00:00:00",
         "Nashville-A Dunlap special says\nthat verdict of acqrittal was re-\nturned there in a so-called ''nightrider'\ncase In which six defendants were\ncharged with whipping Robert King\nand a Mrs. Dennis in Sequachie coun-\nty in September, 1914.\n\n\n\n\n\nKnoxville.-A white woman was\nfound in the mountains near Middles-\nboro almost frozen to death. She later\ndied, but before expiring stated that\nshe had been In the habit of living in\nthe open the year around and that she\nhad never expected to succumb TO cold.\nInjuries failed to reveal her identity."
        ],
        [
         "65476",
         "10_1917-01-27_p4_sn85042907_00415622223_1917012701_0045",
         "TENNESSEE\n\nEpitome of Interest\ning Events That Are\nTrans spring Over\nthe State - - -",
         "The Knoxville independent. [volume] (Knoxville, Tenn.) 1894-current",
         "1917-01-27 00:00:00",
         "1k&2uol COuNOnllOu uSIC. teN4t\nDunlap. jury in the night rider\ncase, which has been on trial all week,\nreturned verdict of not guilty.\nstss*\nPulaski.-The Pulaski Civic league\nhad an important meeting at Mary\nWhite restroom, when officers for 1917\nwere installed.\n\n\nPulaski.-German Collins, assistant\nexpress agent, who suffered conclusion\nOf the brain as the result of fall on\nthe ice and who has been confined to\nbed, is recovering.\n\n\nColumbia.-The barn of Mrs. Fanny\nBrown Graves in Highland Park was\ndestroyed by fire together with the\nservants house, two horses, a buggy\nmare, wagons, corn, hay, etc.\n\n\nKnoxville. the result, Of the col\nlapse of large water tank at the\nplant where he was employed, Bruce\nEllenberry is seriously injured. He\n\n\n\n\n\n\n\n\nChattanooga.-All that now remains\non the Queen & Crescent Route one\nOF Chattanooga noted railroad sys-\ntens, is the name on various Offices in\nthe city, and these are being obliter-\natsd\n\n\nColumb ia-The boiler at the court\nhouse has blown up and the officials\nhave been shivering in the cold Prac-\ntically all of the coal oil stoves that\ncould be gathered together have been\nput into service.\n\n\nRockwood.-Frank Gambill, commits\nsioner of pixies of Roane county, was\nshot and killed here and Thos. Brown,\nassistant superintendent of the Roane\niron company, is held in $4,000 bail\ncharged with the killing.\nNashville.--A Dunlap special says\nthat a verdict of acquittal was re-\nturned there in so-called \"nightrider\"\ncase In which six defendants were\ncharged with whipping Robert King\nand Mrs. Dennis in Sequachie coun\nty in September, 1914.\n|\n\n\nKnoxville. death of Admiral\nGeorge Dewey recalls the fact that he\nvisited here in the spring of 1890,\nwhen he dedicated the tablet marking\nthe birthplace of Admiral Farragut at\nloves Ferry. Admiral Dewey SEA w\nhere for three days and was royalty\nentertained\n\n\nKnoxville.-Roy P. Robinson, claim\ning his home as Memphis, is held\nhere on complaint of several negro\nwomen who claim that he obtained\nmoney from them by false pretenses.\nRobinson says he conducted legiti-\nmate business, taking orders for en-\nlarged portraits.\n\n\nBristol.-In the election of James\nW. Lynn to the vice presidency of the\nFirst National bank of Bristol the\nstockholders and directors conferred\nan honor that was well deserved. Mr..\nLynn has been identified with the in\nstitution since his boyhood, having\nbegun as a messenger.\n!\n\n\nKnoxville-A white woman was\nfound in the mountains near Middles.\nboro almost frozen to death. She later\ndied, but before expiring stated that\nshe had been in the habit of living in\nthe open the year around and that she\nhad never expected to succumb to cold.\nInquiries failed to reveal her identity.\n|\n\n\nKnoxville.-The city of Knoxville\nmay erect modern tuberculosis SAM\ntarium on the site of the East Tonnes\nsee sanitarium property, seven miles\nnorth of the city A proposition has\nbeen made by the city to erect the\nstructure IL the acreage of the santa\nrum is given to the city for the pur-\npose. n\n\n\nClarksville. Green, proprie\ntor of the Arlington hotel, has made an\ninnovation in regard to his helpers\nthat is entirely new to the people OF\nClarksville. Having learned that his\nentire force was arranging to strike\nfor higher wages, Mr.. Green quietly\nwent to work to secure, II possible\nwhite girls for his dining room and\nwhite men for porters. He had no diff\nficuNy in getting the help needed, and\nwhen they were ready to begin\nwork he discharged his old crew. The\ngirls employed are residents Of the city\nas well as the boys, and they are per\nforming their duties in such manner\nas to meet the appreciation not only Of\nthe hotel management, but the patron:\nalso.\n\n\nAcknowledging from the new\nbuildings now in course Of construc\nton, the new ones contemplated in thu\n,, early spring and the many improve\nments being made ON old business\n, houses, prosperity has struck Athens\n: % never before.\n\n\nManchester meeting Of the teach\n: ers and others interested people wa\nheld to arrange for the organization o\ncommunity corn clubs, under the di\nrection of ]. T. Belue, the county dem\n\n\noua0f of n dana -"
        ],
        [
         "79588",
         "8_1918-10-03_p6_sn85052141_00202195106_1918100301_0242",
         "MARSHALL SHOT\n\nDick Marshall Probably Fatally shot\n\n\nbA Jim Fate Glover.",
         "The Hickman courier. [volume] (Hickman, Ky.) 1859-current",
         "1918-10-03 00:00:00",
         "Jim Fate Glover shot and probably\nfatally wounded Dick Marshall. an\nUnion city. Monday afternoon. only\none shot took effect this pa ssing\nthrough the lower part of the abdomen.\nWhile IN \"a critical condition. there Is\nsaid 90 bee q chance for recovery.\n\n\nThe two men are brofhcrs-in-law.\nand both own farms south of Hick-\nman. Both are wei % do. Their\ntrouble occurred ON one Of the bust\nness streets ia Union City. and il\nthought 90 be- the elimination of bad\nfeeling Of several years pastor since\nthe old Nightrider troubles"
        ],
        [
         "83845",
         "8_1918-10-29_p6_sn98069867_00415621644_1918102901_0128",
         "OCTOBER %. fons",
         "The news scimitar. (Memphis, Tenn.) 1907-1926",
         "1918-10-29 00:00:00",
         "A state appropriation Of S40.0 900 may\nbe used partially to outfit Memphis\nmilitia companies with an armory, ac-\ncording to rumors emanating from the\nReelfoot nightrider difficulties.\n\n\nMiss Louise Stacey, Of Pulaski, Tenn,\nIs visiting Mrs. r. l.. Jordan, of Beve-\ndere boulevard.\n\n\nThe marriage of Miss Charlie Blan\nton and Cliff r. Blackburn will be cele\nbrated Thursday, Oct. 30, at the Blan\nton home, so Talbot avenue.\n\n\nJohn S. Thurman, OF St. Louis, ha'\ninvented what cotton growers bellows\nis the first actually successful cotton\npicking machine,\n\n\nGen. Luke E. Wright, speaking in the\ninterest Of. the Republican ticket, In\nRichmond, Var declared W. ]. Bryan,\ndemocratic candidate, and %adventurer.\n\n\nThe party Of young people enjoying\nthe duck shooting at Menasha, Ark.\ninclude DIR, Max Henning, r. Henry\nLake, Gordon Erskine, Miss Amelia\nRussell, Miss Pauline Henning, Miss\nJesse Tully and Miss Lake, chaperon ID\nby Mr.. and Mrs. r. p, Lake."
        ],
        [
         "85270",
         "8_1918-05-06_p3_sn96060004_00414185848_1918050601_0195",
         "CALFORNlANS\n\n OPERATE LIKE KU KLUX KHAN",
         "The weekly Alaska citizen.",
         "1918-05-06 00:00:00",
         "\n\n SAN JOSE. Cal. May 2.-An or ganization known as the Knights of Liberty, the members of which ope- rate incognito, tonight hanged H. Steinmoltz. an Oakland tailor and an alleged alien enemy, until he became unconscious. They tied him to a tree later and then took him away in an automobile. After they had hung him they took him down just as he was strangling, and he was still in semi-conscious state when taken into the automobile. An attempt on the part of bystanders to interfere with the work of the Knights resulted in a sullen order to the would-be samaritans to be about their business if they would not be visited by a similar fate.\n\n Last night the Knights tarred and feathered George Koetzer, an alleged pro-German, and then tied him to cannon in the park. They later notified the police of their work by telephone and also told the newspa- pers of what they had done. Koetzer was immediately brought to jail by the police and is to be given a fair trial on the charge, the names of available witnesses in his case hay ing been given the police.\n\n The Knights of Liberty are ope- rating absolutely in the dark. and the names of none of their members are known. That they are consider able in number is evidenced by the fact that large numbers of them ap- peared armed to the teeth when the two alleged pro-Germans were so roughly handled. California newspa- pers are comparing the organization with the Ku Klux Klan and the Ken lucky Nightriders.\n\n CAN'T BE FOUND\n\n SAN JOSE. Cal. May 2.-No trace has been found of the whereabouts of Henry Steinmoltz, a tailor of Oak land, whom the Knights of Liberty hanged until unconscious then spirit ed away in an automobile, although the county authorities have been searching for him. Nor can any of the members of the organization of Knights be identified, owing to the fact that all of them were heavily masked.\n\n It now develops that Steinmoltz and George Koetzer were tried for seditious utterances and were found guilty and fined. Koetzer was last night chained to a cannon in the park after being tarred and feath- cred, but is now in the county jail, where he voluntarily remains for his own protection With him is Her man Schmidt. another pro-German, who sought refuge there two weeks ago.\n\n Buy Liberty Bond."
        ],
        [
         "85864",
         "9_1918-10-23_p1_sn98069867_00415621644_1918102301_0070",
         "News Of Memphis\nIS Years Ago.",
         "The news scimitar. (Memphis, Tenn.) 1907-1926",
         "1918-10-23 00:00:00",
         "r. II. Duke, of Memphis, a detective\nemployed in the nightrider operations\nat Reelfoot lake, Is missing and friends\nfear he has been assassinated.\n\n\nwilliam Jennings Bryan has been\nelected president of the United States.\nThe election was held Thursday night\nby the association congress of the Y.\nNJ, C. A. and Bryan won hands down.\n\n\nThe total ruin of the Turkish empire\nwas predicted in a sermon on the\nSeven Last Plaques\" by Rev, j.. s.\nWashburn in a tent meeting last night.\n\n\nA horse and buggy belonging to JUS\ntice J. II. Helms was stolen at noon\nSaturday from In front Of his office\nal 175 North Main street.\n\n\nOwing to conditions prevailing In the\nReelfoot lake region, Gov. NJ. X, Pat\nterson ha3 Cancelled his engagement to\nspeak in Memphis tonight.\n\n\nMike Shanley's famous old r~oadhouse\nen- the New Raleigh road vas destroyed\nat y o'clock this morning by fire.\n\n\nBarney Oldfield will drive against\nseveral racers at the auto races at\nDriving park Saturday.\n\n\nMrs. Walter e. Zimmerman Of st.\nLouis, is visiting her sister, Mrs. Ernest\nParham, Poplar avenue.\n\n\nParadise Alley is keeping the audi\nences at the Orpheum this week con\nvulsed with laughter.\n\n\nReports to the local weather bureau\nshow that Missouri, Kansas, Texas and\nOklahoma are in grip Of floods, rain,\nsnow, sleet and exceptionally cold\nweather.\n\n\nThe anniversary of the financial panic\nOf 1907 In New York passed yesterday\nand business men are marvellng at the\nrapid recovery made."
        ],
        [
         "87878",
         "9_1918-11-12_p6_sn98069867_00415621644_1918111201_0240",
         null,
         "The news scimitar. (Memphis, Tenn.) 1907-1926",
         "1918-11-12 00:00:00",
         "The nightrider : situation vas dis\ncussed by the convention of cotton\ngrowers of the South, who met yes\nterday at the Auditorium.\n\n\nMrs. S. X. Jones, of New York, Is\nthe guest of Mrs. Sam F%riedlander,\n1922 Poplar avenue.\n\n\nNearly 1000 people were present at\nthe first annual \\charity ball OF the\nB. F. o. E., which was held last night\nat the Auditorium.\n\n\nRev. Anna Shaw, president Of the\nNational Woman's Suffrage associa-\nton, will lecture tonight at the Good\nwyn institute.\n\n\nThe sixty-ninth annual session Of\nthe Memphis Methodist conference, at\nCovington, Tenn, is one of the most\nsuccessful ever held.\n\n\nA rainfall of IA inch was expert\nenced by Memphis last night, the first\nsince Sept. %,\n\n\nMr.. II Mrs. NJ. w. Wheeler and\nMrs. Josie Hicks, of Milan, Tenn, are\nguests of Mrs. l. N. Cursey, 1915\nWalker avenue,"
        ],
        [
         "106971",
         "3_1919-05-24_p6_sn86069398_00202195842_1919052401_0132",
         null,
         "The Kentuckian. [volume] (Hopkinsville, Ky.) 191?-19??",
         "1919-05-24 00:00:00",
         "Bernice B. Gooch, a former Hep\nkinsville soldier of the nightrider\ncampaign of 1908, who went to Tex\nas and later to California, was here\nthis week with his wife to whom H.\nwas married in 1914 at Ell Paso, Tex.\nThey are the guests of Col. and Mrs.\nq. B. Bassett. Mr. Gooch, being a\ntrained soldier, caught the military\nfever as soon as war was declared\nand volunteered in the marine ser\nvice, expecting service in the war\nzone. Instead he was caught in a\ndetail sent to the far away island of\nGuam in the Pacific ocean, where he\nremained almost the entire period OF\nthe war, not even getting mail from\n-AheU United States oftener than once\nmonth.\neoyer Guam pronounced warm ana\ntrue to its nancy as a place to es-\n4ablish a happy home. 1t is mere\ndot on the tropical sea, 30 miles\nlong and miles wide, and rising IN\nthe center to an elevation of 1000\nfeet. Fringed around the water\nfronts there is a population OF l5,OOO\npeople. -\n\n\n1dThe island is not at all exciting\"\nremarked Bernice, 1--WE have one PIC\n.4ture show on the island, that is still\nshowing John Bunny. You know\nJohn has ben dead about four years,\nhut his fame goes on in Guam, obliv-\nions Of that fact\"\n\n\n0Once in awhile ship comes IN,\ngenerally about every thirty days and\n6eIated news of the outside world is\nreceiyed. During the war, wireless\n,,ews of the briefest character was\nssent sometimes daily to the officers\nINIT as the only paper on the island\nwas a sort of bulletin issued month\nNv the news came in vague rumors\nfrom mouth to mouth\"\n\n\n-s6Tke marines had two ways OF Kill\nling time. When not on duty sery-\nNe the country they had the priyi-l"
        ],
        [
         "130987",
         "3_1920-10-29_p5_sn87057262_00295875288_1920102901_0871",
         "President Of Lee County Horse THIEF\nAssociation Returns from State\nMeeting in Missouri-One\n\n\nOf 800 Delegates.\n\nIT'S LEGISLATIVE WORK\n\nQuestion of Penalty to Impose Upon\nOffenders of Law and Violation\nof Parole Privileges Were\n\n\nDiscussed.",
         "The daily Gate City and constitution-Democrat. (Keokuk, Iowa) 1916-1922",
         "1920-10-29 00:00:00",
         "County Recorder e. G. Vaughan\nmas returned from the Missouri state\nconvention of the Anti-Horsethief as\nISOLATION, which was held this week\nat Chllicothe, Mo-. and of which or\nsanlzation the Lee county branch Of\nIowa is part A number of i'm\nportant matters were discussed at\nthis session, in all of which the Keo-\nkuk man, as president of the Lee\ncounty lodge, had part\n\n\nOther men from this county to at\ntend the meeting were: Harry Tai\nbott, from Valley lodge, Jackson (out-\nslde); John Lowry Argyle, member\nOF the Missouri state executive board;\nBen Heron, Of Warren, Iowa, Mis-\nsouri, state president; W. A. Wirsig,\nWarren, and Mr.. Bricker, DonneH-\nson. There were 800 delegates at the\nconvention.\n\n\nOne of the most important mat\nters to be discussed was the penalty\nfor stealing automobiles, and also the\nviolation of the parole privilege. The\nlegislative committee drafted bill,\nto be presented to the Missouri state\nLegislature, asking that the penalty\nfor stealing automobiles in that state\nbe fifteen years imprisonment. The\ncommittee also expressed their dis\napproval Of the parole system as it\nis now used.\n\n\nThe committee ON resolutions, with\nE. G. Vaughan as chairman, recon-\nmended eight resolutions which were\npresented to this committee, the reso-\nlutions affecting the people in the\nprotection of their property.\n\n\nEnblems For Autos.\n\n\nMembers of the Anti-Horsethief\nassociation were presented with en-\nblems which were to be used on\ntheir automobiles The emblems are\nmade of light steel and are nodded\nin the form Of a horseshoe, with the\ninitials A. H. T. A. printed on it.\nThere is a bar across the horseshoe\nwith the picture of nightrider on\nit. In addition to these emblems, the\nmembers of this organization were\neach given a steel die which they are\nto use in marking their automobiles\nwith the A. II. T. A. stamp, and\nwhich will serve as an Identification\ntag if the car is ever stolen.\nThe Anti-Horsethief association\nmen are furnished with sufficient\namount of dies that they can stamp\ntheir automobiles with the A. H. r.\nA. in number Of places, and this\naction must be recorded with the\nsecretary Of the lodge to which the\nperson belongs. If his car is stolen,\nthe steel die mark, A Fl. T. A, re-\ncorded in the secretary's book in &C\ncordance with the marks on the auto\nmobile, will serve as means Of\nIdentification in searching for the\nstolen machine. When cars marked\nin this manner are stolen, reports of\nthe theft and the marks OF identifi-\ncation are sent to the Anti-Horsethief\nassociations all over the country, and\nall Of the lodges assist in the location\nof the stolen property."
        ],
        [
         "134264",
         "27_1920-03-28_p1_sn89053138_00517010297_1920032801_0492",
         "NIGHT RIDERS BURN\n\n\nTOBACCO HOUSES",
         "The Cordele dispatch.",
         "1920-03-28 00:00:00",
         "Mayfield, KY, Mar, 27.-T\",.,a\nfirst outbreak of nightrider\ntroubles in some years in Wes-\ntern Kentucky occurred last\nnight when several hundred 10\nbacco growers from the rc2th-\nern section of Graves county\nvisited Mayfield tobacco chu Q\nand applied the torch, TIN\ntrouble was the result Of\nfight of growers against the fall\ning prices."
        ],
        [
         "135906",
         "11_1920-10-07_p6_sn85038485_00340582998_1920100701_0779",
         null,
         "The Birmingham age-herald.",
         "1920-10-07 00:00:00",
         "four years ago and Cox has great deal of strength in that section, not withstanding the press reports sent out by the special correspondents working in the interest of republican propaganda. Western farmers arc progressive; never reactionary. Hence their democratic leaning.\n\n But the talk about Texas, Tennessee and North Carolina is enough to make a horse laugh.\n\n Shutting up stores in Alabama until cotton reaches 40 cents a pound is not economically sound, but you can't ex- pect nightriders to know or care much about economies.\n\n A negro orator wants to know il Alabama Is going to be greater than the union. Alabama has the right to regulate her election laws without consulting Washington. # # #\n\n There are indications that Mrs Roosevelt's appeal to the country to elect Harding and Coolidge didn't melt the heart of Battling Bill\" Borah.\n\n < 4\n\n Joe Jackson has returned to his home in Georgia. The natives will kindly refrain from asking embarrassing questions.\n\n The heir to the Turkish throne shows a disinclUation to live, which isn't so strange, when you consider what Dr. Eliots scholarly articles on poll tics are probably reaching more. peo- pie than his 'five-foot shelf of books ever did\n\n # # # Makers of high priced silk shirts are reported anxious for somebody to come in and buy That's another sign that we are getting back to normalcy < # # The White House sheep have been sent back to Maryland, where they will soon forget that they were ever in the public eye.\n\n Japan prates about her '1egitfmate te expansion\" in the-Far East. Genghis Khan regarded his expansion as quite legitimate\n\n Smart manufacturers may make arti- ficial honeycombs, but bees stfIl hold monopoly on the honey making busi- ness.\n\n The late Murray Crane learned pussyfooting early in life and reduced\n\n \n\n # j. # The extent of President Wilson's re covery is shown by the way he landed on Senator Spencer of Missouri.\n\n ~* # #\n\n The Poles show great moderation ir fixing eleven points as a basis of~peace They might have laid down fourteen * # x Senator Spencer was unwilling te take Joe Tumulty's word for it, St he got it straight from headquarters # # x The anti suffragists are still fight ing. There is nothing like knowing when you are whipped. # ;. x No state fair is a success these days unless it has an aviator who defies tht law of gravity."
        ],
        [
         "138053",
         "26_1920-11-25_p9_sn86075272_00415666871_1920112501_0576",
         null,
         "The Wolf Point herald. (Wolf Point, Mont.) 1913-1940",
         "1920-11-25 00:00:00",
         "drew alongside the Dodge coupe.\nThere were three men in the car, one\nof whom ran toward the coupe, re-\nvolver in hand. After an attempt at\nrobbery the shooting of the coupe's\noccupants followed. The bandit trio\nescaped.\n\n\nFor a number of years Chester has\nbeen prominently identified with a\ngang of criminals who have loafed\nin the saloons and gambling houses\nnear Twelfth street and Grand av-\nenue.\n\n\nA Nightrider, Police Say\n\n\nAccording to the police, Chester\nhas been a \"nightrider'' for many\nmonths, robbing couples on lonely\ncountry roads near Kansas City. On\nmany occasions, the police have\nlearned, Chester has been one of a\nband of \"nightriders\" who rode mo-\ntor cycles. More often, however, he\nand his companions used motor cars.\nThe Evans brothers, George and\nJim, underworld characters, now\nawaiting trial on charge of partici-\npatton in the robbery of the South\nSide bank, are associates of Chester,\nthe police say. Fred Roberts and\n\"Wop\" MCGOWAN, other pals of Ches-\nter, have long police records.\n\n\nChester's photograph has been in\nthe rogues' gallery at police head\nquarters for many months, with the\nrecord of numerous arrests for Grim\ninal acts, which included charges of\nhighway robbery and motor car\nthievery. At the time Chester left\nKansas City he was out on bond of\n$4,000 and was to have been tried\nOctober 20 in the criminal court on\na charge of stealing motor cars. He\nfailed to appear for trial and the case\nwas continued."
        ],
        [
         "160101",
         "31_1921-03-09_p1_sn95047222_00271766269_1921030901_0439",
         "NIGHT RIDERS UNDER\n+. .,a. ~, CONTROL I'm ALABAMA",
         "The Lakeland evening telegram. (Lakeland, Fla.) 1911-1922",
         "1921-03-09 00:00:00",
         "Stevenson, Ala... March 9.-Whilt\nfurther sporadic trouble is, expected\nthe nightrider situation IS we'll undel\ncontrol today, according to state Of\nflcials.a Twenty men are under arres\nas the result of. outbeakss and mot'\narrests are expected."
        ]
       ],
       "shape": {
        "columns": 5,
        "rows": 82
       }
      },
      "text/html": [
       "<div>\n",
       "<style scoped>\n",
       "    .dataframe tbody tr th:only-of-type {\n",
       "        vertical-align: middle;\n",
       "    }\n",
       "\n",
       "    .dataframe tbody tr th {\n",
       "        vertical-align: top;\n",
       "    }\n",
       "\n",
       "    .dataframe thead th {\n",
       "        text-align: right;\n",
       "    }\n",
       "</style>\n",
       "<table border=\"1\" class=\"dataframe\">\n",
       "  <thead>\n",
       "    <tr style=\"text-align: right;\">\n",
       "      <th></th>\n",
       "      <th>index</th>\n",
       "      <th>headline</th>\n",
       "      <th>newspaper_name</th>\n",
       "      <th>date</th>\n",
       "      <th>article</th>\n",
       "    </tr>\n",
       "  </thead>\n",
       "  <tbody>\n",
       "    <tr>\n",
       "      <th>2626</th>\n",
       "      <td>14_1915-07-23_p2_sn89058253_0041562189A_191507...</td>\n",
       "      <td>NIohtrlders plead Guilty.</td>\n",
       "      <td>The Fayette falcon. (Somerville, Tenn.) 190?-c...</td>\n",
       "      <td>1915-07-23</td>\n",
       "      <td>Clarksville.-When the nightrider\\ncases were c...</td>\n",
       "    </tr>\n",
       "    <tr>\n",
       "      <th>2845</th>\n",
       "      <td>4_1915-04-29_p8_sn85052141_00202195064_1915042...</td>\n",
       "      <td>PHILLIPS BROUGHT BACK\\nFOR NIGHTRIDER TRIAL.</td>\n",
       "      <td>The Hickman courier. [volume] (Hickman, Ky.) 1...</td>\n",
       "      <td>1915-04-29</td>\n",
       "      <td>Jim Phillips, formerly resi-.\\ndent of the low...</td>\n",
       "    </tr>\n",
       "    <tr>\n",
       "      <th>4200</th>\n",
       "      <td>1_1915-11-19_p10_sn96091104_00415621589_191511...</td>\n",
       "      <td>NaN</td>\n",
       "      <td>The Columbia herald. [volume] (Columbia, Tenn....</td>\n",
       "      <td>1915-11-19</td>\n",
       "      <td>of the peace or city recorder to take\\nany act...</td>\n",
       "    </tr>\n",
       "    <tr>\n",
       "      <th>8218</th>\n",
       "      <td>11_1915-05-21_p3_sn88086023_00202194370_191505...</td>\n",
       "      <td>NaN</td>\n",
       "      <td>East Oregonian : E.O. (Pendleton, OR) 1888-cur...</td>\n",
       "      <td>1915-05-21</td>\n",
       "      <td>RAYMOND, Wash, May 21.-The\\ngrand jury. impane...</td>\n",
       "    </tr>\n",
       "    <tr>\n",
       "      <th>8313</th>\n",
       "      <td>3_1915-10-15_p5_sn89058321_00415621474_1915101...</td>\n",
       "      <td>Shoot Two Cayce Negroes.</td>\n",
       "      <td>The commercial. (Union City, Tenn.) 190?-193?</td>\n",
       "      <td>1915-10-15</td>\n",
       "      <td>The homes of Leonard Williams\\nand Isaac Deeri...</td>\n",
       "    </tr>\n",
       "    <tr>\n",
       "      <th>...</th>\n",
       "      <td>...</td>\n",
       "      <td>...</td>\n",
       "      <td>...</td>\n",
       "      <td>...</td>\n",
       "      <td>...</td>\n",
       "    </tr>\n",
       "    <tr>\n",
       "      <th>349704</th>\n",
       "      <td>10_1940-03-14_p1_sn82014085_00393347600_194003...</td>\n",
       "      <td>'NICHTRIDERS'\\n\\n\\nARE BUSY AGAIN\\n\\nEighteen ...</td>\n",
       "      <td>The Waterbury Democrat. [volume] (Waterbury, C...</td>\n",
       "      <td>1940-03-14</td>\n",
       "      <td>Atlanta, Ga, March l4.-(UP)-\\nA county grand j...</td>\n",
       "    </tr>\n",
       "    <tr>\n",
       "      <th>350206</th>\n",
       "      <td>8_1940-05-30_p27_sn83045462_00280602255_194005...</td>\n",
       "      <td>NaN</td>\n",
       "      <td>Evening star.</td>\n",
       "      <td>1940-05-30</td>\n",
       "      <td>the most likely general outline for\\nthe postw...</td>\n",
       "    </tr>\n",
       "    <tr>\n",
       "      <th>353999</th>\n",
       "      <td>4_1940-05-10_p1_sn87093377_00200291426_1940051...</td>\n",
       "      <td>xxx Acts Against\\nNegroes-Labor</td>\n",
       "      <td>The Northwest enterprise. [volume] (Seattle, W...</td>\n",
       "      <td>1940-05-10</td>\n",
       "      <td>(f0r Calvin Newspaper Servtce)\\n\\n\\nAtlanta, C...</td>\n",
       "    </tr>\n",
       "    <tr>\n",
       "      <th>367253</th>\n",
       "      <td>21_1943-07-22_p4_sn78002169_0027955873A_194307...</td>\n",
       "      <td>BY WESTBROOK PEGLER</td>\n",
       "      <td>The Wilmington morning star.</td>\n",
       "      <td>1943-07-22</td>\n",
       "      <td>\\n\\n\\nNEW YORK-The rider in an appropriation\\n...</td>\n",
       "    </tr>\n",
       "    <tr>\n",
       "      <th>371154</th>\n",
       "      <td>16_1943-07-21_p14_sn88063294_00340588599_19430...</td>\n",
       "      <td>By Westbrook Pegler:\\n\\n\\nCongress Vote Protes...</td>\n",
       "      <td>Detroit evening times. (Detroit, Mich) 1921-1958</td>\n",
       "      <td>1943-07-21</td>\n",
       "      <td>TIiE rider in an appropriation\\nL act by which...</td>\n",
       "    </tr>\n",
       "  </tbody>\n",
       "</table>\n",
       "<p>82 rows × 5 columns</p>\n",
       "</div>"
      ],
      "text/plain": [
       "                                                    index  \\\n",
       "2626    14_1915-07-23_p2_sn89058253_0041562189A_191507...   \n",
       "2845    4_1915-04-29_p8_sn85052141_00202195064_1915042...   \n",
       "4200    1_1915-11-19_p10_sn96091104_00415621589_191511...   \n",
       "8218    11_1915-05-21_p3_sn88086023_00202194370_191505...   \n",
       "8313    3_1915-10-15_p5_sn89058321_00415621474_1915101...   \n",
       "...                                                   ...   \n",
       "349704  10_1940-03-14_p1_sn82014085_00393347600_194003...   \n",
       "350206  8_1940-05-30_p27_sn83045462_00280602255_194005...   \n",
       "353999  4_1940-05-10_p1_sn87093377_00200291426_1940051...   \n",
       "367253  21_1943-07-22_p4_sn78002169_0027955873A_194307...   \n",
       "371154  16_1943-07-21_p14_sn88063294_00340588599_19430...   \n",
       "\n",
       "                                                 headline  \\\n",
       "2626                            NIohtrlders plead Guilty.   \n",
       "2845         PHILLIPS BROUGHT BACK\\nFOR NIGHTRIDER TRIAL.   \n",
       "4200                                                  NaN   \n",
       "8218                                                  NaN   \n",
       "8313                             Shoot Two Cayce Negroes.   \n",
       "...                                                   ...   \n",
       "349704  'NICHTRIDERS'\\n\\n\\nARE BUSY AGAIN\\n\\nEighteen ...   \n",
       "350206                                                NaN   \n",
       "353999                    xxx Acts Against\\nNegroes-Labor   \n",
       "367253                                BY WESTBROOK PEGLER   \n",
       "371154  By Westbrook Pegler:\\n\\n\\nCongress Vote Protes...   \n",
       "\n",
       "                                           newspaper_name       date  \\\n",
       "2626    The Fayette falcon. (Somerville, Tenn.) 190?-c... 1915-07-23   \n",
       "2845    The Hickman courier. [volume] (Hickman, Ky.) 1... 1915-04-29   \n",
       "4200    The Columbia herald. [volume] (Columbia, Tenn.... 1915-11-19   \n",
       "8218    East Oregonian : E.O. (Pendleton, OR) 1888-cur... 1915-05-21   \n",
       "8313        The commercial. (Union City, Tenn.) 190?-193? 1915-10-15   \n",
       "...                                                   ...        ...   \n",
       "349704  The Waterbury Democrat. [volume] (Waterbury, C... 1940-03-14   \n",
       "350206                                      Evening star. 1940-05-30   \n",
       "353999  The Northwest enterprise. [volume] (Seattle, W... 1940-05-10   \n",
       "367253                       The Wilmington morning star. 1943-07-22   \n",
       "371154   Detroit evening times. (Detroit, Mich) 1921-1958 1943-07-21   \n",
       "\n",
       "                                                  article  \n",
       "2626    Clarksville.-When the nightrider\\ncases were c...  \n",
       "2845    Jim Phillips, formerly resi-.\\ndent of the low...  \n",
       "4200    of the peace or city recorder to take\\nany act...  \n",
       "8218    RAYMOND, Wash, May 21.-The\\ngrand jury. impane...  \n",
       "8313    The homes of Leonard Williams\\nand Isaac Deeri...  \n",
       "...                                                   ...  \n",
       "349704  Atlanta, Ga, March l4.-(UP)-\\nA county grand j...  \n",
       "350206  the most likely general outline for\\nthe postw...  \n",
       "353999  (f0r Calvin Newspaper Servtce)\\n\\n\\nAtlanta, C...  \n",
       "367253  \\n\\n\\nNEW YORK-The rider in an appropriation\\n...  \n",
       "371154  TIiE rider in an appropriation\\nL act by which...  \n",
       "\n",
       "[82 rows x 5 columns]"
      ]
     },
     "execution_count": 43,
     "metadata": {},
     "output_type": "execute_result"
    }
   ],
   "source": [
    "data[data['article'].str.contains('nightrider', case=False, na=False, regex=True)]"
   ]
  },
  {
   "cell_type": "code",
   "execution_count": 24,
   "id": "74261d6a",
   "metadata": {},
   "outputs": [
    {
     "data": {
      "application/vnd.microsoft.datawrangler.viewer.v0+json": {
       "columns": [
        {
         "name": "index",
         "rawType": "int64",
         "type": "integer"
        },
        {
         "name": "index",
         "rawType": "object",
         "type": "string"
        },
        {
         "name": "headline",
         "rawType": "object",
         "type": "unknown"
        },
        {
         "name": "newspaper_name",
         "rawType": "object",
         "type": "string"
        },
        {
         "name": "date",
         "rawType": "datetime64[ns]",
         "type": "datetime"
        },
        {
         "name": "article",
         "rawType": "object",
         "type": "string"
        }
       ],
       "ref": "f1baf64e-11b3-4b81-8b4e-347b05857595",
       "rows": [
        [
         "57",
         "4_1915-02-12_p2_sn90051300_00340586153_1915021201_0050",
         null,
         "The Elbert County tribune.",
         "1915-02-12 00:00:00",
         "The window was not more than fifteen\nfeet above the ground. There were no\nbars and no restraining walls. Only\nthe sentries. passing busily upon their\nrounds. restrained the captive from\nescaping.\n\n\nMorton calculated the distance crit\nically- But for those armed men in\nfront of the prison 1t would be the\nwork of a moment to spring to the\nground, mount the horse and escape\nThe task was easy precisely because\nit was so difficult. Without horse\nMorton could not hope to reach the\nlimits of the encampment; with one,\neverything is possible\n\n\nThe rider did not come back Night\nhad fallen. The horse whinnied and\nsniffed the night air. The smell of\nburning wood from the campfires made\nthe prison room fragrant. An intense\nsadness filed Mortons heart as he\nthought of his Virginia home, and\nfreedom. He heard the tramp of\nmarching men, he saw the Confeder-\nate flag waving above the serried hosts\nOF Lee.\n\n\nSuddenly a single shot rang out\nfrom wood little distance away.\nShouts were heard. then followed\nfusillade. A bugle blast rang out.\n\n\nAnd instantly armed figures sprang\nfrom the lines of tents and rushed"
        ],
        [
         "58",
         "27_1915-12-09_p1_sn84020558_00202196172_1915120901_0193",
         "NIGHT RIDERS HELD\n\n FOR GRAND JURY",
         "Arizona republican.",
         "1915-12-09 00:00:00",
         "NEW MADRID, Mo. Dec. S. Thirty three men accused of par ticipating in the sO-called night rider depredations were bound over to the grand jury following their preliminary hearing here to- day The state is said to have obtained confessions from several of the men duplicating the others."
        ],
        [
         "117",
         "8_1915-05-14_p3_sn84024927_00414215555_1915051401_0527",
         "SIXTH EPISODE",
         "The Odanah star. [volume] (Odanah, Ashland Co., Wis.) 1912-1916",
         "1915-05-14 00:00:00",
         "\"The Vampire\"\n\n\nKennedy went the next day to the\nDodge house, and, as usual, Perry Ben\nnett, Elaine's lawyer, was there in the\nlibrary with Elaine, still going over\nthe Clutching Hand case in their en-\ndeavor to track down the mysterious\nmaster criminal\n\n\nBennett seemed as deeply as ever\nin love with Elaine. Still, as Jennings\nadmitted Craig, it was sufficiently evil\ndent by the manner in which Elaine\nleft Bennett and ran to greet Craig\nthat she had the highest regard for\nhim.\n\n\nI've brought you little document\nthat may interest you,\" remarked Ken\nnedy, reaching into his pocket and\nI pulling out an envelope.\n: Elaine tore it open and looked at\n. the paper within.\n\n\n\"Oh, how thoughtful of you!\" she\nexclaimed in surprise.\n\n\n1t was permit from the police made\nout in her name allowing her to car\n: ry a. revolver.\nZ A moment later, Kennedy reached\ninto his coat pocket and produced a\nlittle automatic which he handed to\nher.\n\n\nThank you,\" she cried, eagerly.\n\n\nElaine examined the gun with inter-\nest. then, raising it, pointed 1t play\nfully at Bennett.\n\n\nooh, no, MOI\" exclaimed Kennedy,\ntaking her arm quickly and gently, de-\n! fiecting the weapon away. \"You\nmustn't think it is a toy. 1t explodes\nat mere touch of the trigger-when\nthat safety ratchet is turned\"\n\n\nBennett had realized the danger and\nhad jumped back, almost mechanical\n1y. AS he did so, he bumped into\nsuit of medieval armor standing by\nsounding crash.\n\n\nII beg pardon\" he calculated, I'm\nvery sorry. That was very awkward\nof me-\"\n\n\nJennings, who had been busy about\nthe portieres at the doorway, started\nto pick up the fellen knight.\n\n\nTOO bad, too bad\" apologized Ben\nuSLC pIOluSSiy. really lOISOL uCW\nclose l was to the thing\"\n\n\nooh, never mind\" returned Elaine,\nlittle crestfallen, lit is smashed all\nright-but it was my fault Jennings,\nsend for someone to repair it.\"\n\n\n1t was late that night that a masked\nfigure succeeded in raising itself to\nthe narrow ornamental ledge under\nElaine's bedroom window.\n\n\nElaine was light sleeper, and, be-\nsides, Rusty, her faithful collie, now\nfully recovered from the poison, was\nIn her room.\n\n\nRusty growled and the sudden noise\nawakened her\n\n\nStartled, Elaine instantly thought of\nthe automatic. She reached under her\npillow, keeping very quiet, and drew\nforth the gun that Craig had given\nher. Stealthily concealing her actions\nunder the covers, she leveled the auto\nmatte at the figure silhouetted in her\nwindow and fired three times.\n\n\nThe figure fell back.\n\n\nDown in the street below, the as\nsistant of the Clutching Hand who\n\n\n\n\n\nelectrocuted, was waiting as his con-\nfederate, pitts Slim\"-which indicat-\ned that he was both wiry in stature\nand libelous in delegating his nativity\nmade the attempt.\n\n\nAs Slim came tumbling down, hay\ning fallen back from the window above\nMORALLY wounded, the confederate lift\ned him up and carried him out of sight\nhurriedly.\n\n\nElaine, by this time, had turned on\nthe lights and had run to the window\nto look out. Rusty was barking loud\nly.\n\n\nIn side street near by stood wait\ning automobile, at the wheel of which\nsat another of the emissaries of the\nClutching Hand. The driver looked\nup, startled, as he saw his fellow\nhurry around the corner carrying the\nwounded pitts Slim\" 1t was the\nwork of just moment to drop the\nwounded man, as comfortably as pos\neible under the circumstances, in the\nrear seat, while his pals started the\ncar of with a jerk In the hurry of es-\ncape.\n\n\nJennings, having hastily slip ped his\ntrousers on over his pajamas, came\nrunning down the hall. while Marie,\nfrightened. came In the other direc-\nton. Aunt Josephine appeared few\nseconds later. adding to the general\nexcitement.\n\n\nWhat's the matter?\" she asked,\nanxiously.\n\n\n\"A burglar. I think\" exclaimed\nElaine. stu holding the gun In her"
        ],
        [
         "131",
         "1_1915-10-14_p8_sn91068415_00296023280_1915101401_0375",
         "BANDITS GET RICH\n\n\nHAUL From TRAIN\n\n8. q o. EXPRESS TRAIN HELD UP\nAND ROBBED IN WEST\n\n\nVIRGINIA.\n\nGET. REGISTERED PACKAGES\n\nThere Were Federal Bank Certificates\nIn Packages Stoien.-Robbers\n\n\nCould Operate Train.",
         "The review. [volume] (High Point, N.C.) 1908-19??",
         "1915-10-14 00:00:00",
         "Wheeling, W. Va.-Posses continue\ntheir search for masked bandits who\n\n\ned up and robbed a Baltimore &\nOhio express train en- route from New\nYork to st. Louis, two miles west OF\nCentral, w. Va, but no trace of them\nhas been found.\n\n\nThe local government officials who\nhave been in touch with the situation\nare of the opinion that the bandits\nwe're aware money from Washington\nwas on the train as it has been def\nnitely learned they demanded the\nWashington packages of the mail\nclerks.\n\n\nEngineer Grant Helms of Parkers-\n. burg, who was at the throttle when\nthe hold-up occurred, said he be-\nlieved the robbers boarded the train\nbetween the engine and the mail car\nat Central when the train stopped to\ntake on water. Shortly after the\ntrain started again two men climbed\nover the tender and down into the\ncab covering him and Fireman T. R.\nknight of Grafton and ordered that\nthe train be stopped.\n\n\nThe command was not obeyed I'm.\none of the men, thinking for the mo-\nment it was somebody trying to play\na joke on him. However, on seeing\nthat the bandits meant business, he\nstopped the train. One of the men\nthen ordered the fireman off the en-\nCINE. The two bandits commanded\nHelms to run mis- engine short dis.\nlance ahead. At the points of their\nrevolvers, Helms was then ordered\nto leave the cab. Three mail clerks\nwere in the car when the bandits en-\ntered and the clerks thought they\nwere some Of the trainmen. At the\npoint of revolvers the robbers de-\nmanded the registered mail, Of which\nthere were about 80 packages on the\nbench. Two of the clerks, Cecil\nPlummer and c. r. Phillips, were or\ndered to leave the car and the train\nwas then run a snort distance far\nTheir, Haines Huff, clerk in charge of\nthe car. being retained in order to\npoint out where other registered mail\nwas kept. He was then ordered to\nleave the car also and the engine and\nmail car were taken on to Tollgate\nby the bandits.\n\n\nAt Tollgate the two men abandon\ned the engine and car and got into\nan automobile which was in charge\nof an accomplice. They were seen\nto go in an easterly direction from\nthat place."
        ],
        [
         "133",
         "13_1915-08-20_p2_sn99063957_00200294440_1915082001_1350",
         null,
         "Daily capital journal. (Salem, Oregon) 1903-1919",
         "1915-08-20 00:00:00",
         "~ ~ rrrl. NJ. OIL. la\nves,c,dsv nm business trin m Fails\nCi,y and RlocL Rock\n\n\nT. r stipsop retnrred today from a\nvisit IN Crater lake where he went ia\nknights of pyfbia. on Wizard island.\nlast Wednesday.\nJoe Haiues win spend the weekend\nin Portland\n\n\nMrs. H. Rach. Of independence, was\nin the city yesterday.\n\n\nMrs +. A. Stinson Of Rickreall is in\nthe city today\n\n\nMrs. l.. j Frachtenberg, Of Chemawa\nwas attending to business in Salem to-.\nday.\n\n\nJohn Roland and wife left last even.\ning on the Southern Pacific for an\nextended visit at the San Francisco\nexposition\n\n\n+. NJ. Scott, OF Montrose Colo, who\nspent a month here early in the spring\nvisiting his brothers. writes that he\nregards the Willamette valley as the\nmost beautiful country he had seen dur.\nlnS hIs extensive 'Is'els'\n\n\nFloyd j. Campbell, manager Of the\nPortland Mausoleum company, is here\ntoday on business.\n\n\nMrs J. II. Upton, Of Prineyine, is\nin the city this week visiting her\nbrother, j. W. Gaskill, crner Of Mission\nand Twelfth streets\n\n\nGeorge W. Wick is in Portland TODAY\non business\n\n\nl.. r. Ripdon was In Ouinaby yester\ndav.\n\n\nWilliam Schott was in the city YES.\nterday from Subimitv.\n\n\nFrank Yates. life insurance man\nOf Portland, was here Thursday on busi. |.\nness.\n\n\nMrs. r. R. McAlpin. of OREGON CITY, /\nis in the city this week visiting with\nMrs. T.. W. Wallace. 1889 b street.\n\n\nMrs. r. c. Muchmorc returned to Los\nAngeles Yesterday after a stay here\nIf several weeks on business.\n\n\nNJ ~ O. lyI,t,.,. I,Ft y,r D,rt"
        ],
        [
         "152",
         "1_1915-11-24_p1_sn82014086_00295866020_1915112401_0225",
         "DEPREDATING FARM LABoRERs\n\n CLASH WITH DETECTIVES.\n\nLaborers Had Terrorized Countryside\n\n About CIarkton, Mo.",
         "Norwich bulletin.",
         "1915-11-24 00:00:00",
         "Cape Girardeau, Mo-, Nov. 30.-A band of farm laborers which had been waging a war of deprecation on the property of their employers clashed in marsh near Clarkton Mo- with a posse of private detectives with the result that seven of the laborers and two officers were wounded. The farm hands. seeking higher wages and low C priced food prices recently have terrorized the countryside about Clark ton by night rider tactics.\n\n The fegd has been in progress here for several months and has spread throughout New Madrid county in southeast Missouri. Six detectives have been camping secretly for two weeks in shack on a sfamp on the farm of T. s. Heisser, a wealthy land owner and banker, against whom the night riders have centered their attacks\n\n Yesterday the hiding place of the detectives was discovered.\n\n Shortly after midnight about thirty men with one accord rose from behind as many stumps, fired volIey at the detectives shack and then dodged be- hind the stumps. These volleys con- tinued more than an hour, about 300 rounds being fired on each side. The detectives replied through improvised portholes in the shack.\n\n At about 2 o'clock the attack party began to retreat, carrying off their wounded. The detectives then ernerg- ed and a brief battle ensued, in which two of the defenders were slightly wounded."
        ],
        [
         "166",
         "6_1915-02-07_p18_sn99021999_0028077909A_1915020701_0547",
         "CHAPTER vi.\nThe Vampire",
         "Omaha daily bee.",
         "1915-02-07 00:00:00",
         "III WIN Halne Still going over the Clutch\n\n\ning Hand case in their endeavor to track\ndown the mysterious master criminal.\n\n\nBennett seemed as deeply as ever in love with\nElaine. Stl Jennings admitted Craig II was\nsufficiently evident by the manner in which Elaine\nleft Bennett aand ran TO greet Craig that she had\nthe highest regard for him.\n\n\nI've brought you n little document that may in\nterest you\" remarked Kennedy. reaching into HIS\npocket and pulling out envelope.\n\n\nElaine tore IL open and looked at the paper\nwithin.\n\n\n\"oh. how thoughtful Of youi\" she exclaimed in\nsurprise.\n\n\nIt was permit from the police made out in her\nname allowing her TO carry a revolver.\n\n\nmoment later, Kennedy reached into his coat\npocket and produced little automatic which he\nhanded to her.\n\n\nThank YOU\" she cried eagerly.\n\n\nElaine examined the with interest, then. rails\ning II playfully at Bennett.\n\n\n\"Oh, no. moi\" exclaimed Kennedy, taking her arm\nquickly and gently, DETECTING the weapon away\n\"You mustn't think II 10 a toy. Il explodes At\nmere touch Of the trgger-when that safety ratchet\nis turned\"\n\n\nBennett had realized the danger and had jumped\nback. almost mechanically. AS he did co. he bumped\ninto suit of medieval armor standing by the WALL\nknocking It over With q resounding crash.\n\n\nII beg pardon\" he calculated. I'm very sorry\nThat was very awkward Of me-\"\n\n\njennings who had been busy about the por-\nthere's at the doorway started TO pick up the fallen\nknight Some OF the pieces were broken. and the\nthree gathered about the butler tried to fit them\ntogether again best he could.\n\n\nTOO bad too bad\" apologized Bennett protusely\nII really forgot how close l was to the thing\"\n\n\n\"Oh, never mind\" returned Elaine. little crest\nfallen, ut Is smashed alIrightbut II was my fault\nJennings. send for someone to repair IT,\"\n\n\nShe turned to Kennedy. 'But do wish you would\nteach how to use this thing\" she added, touch\ning the automatic gingerly.\n\n\nGladly\" he returned.\n\n\nwon't you Join us. Mr.. BennettG\" asked Elaine\nmo-\" the young lawyer smiled I'm afraid\ncant. You see had an engagement with another\nclient and I'm already late\"\n\n\nHe took his hat and coat and. with a reluctant\nfarewell. moved toward the hallway.\n\n\nmoment later Elaine and Craig followed, while\nJennings finished restoring the armor as nearly as\npossible as it had been.\n\n\nII was late that night that masked figure sue\neeeded in raising itself TO the narrow ornamental\nledge under Elaine's bedroom window.\n\n\nElaine was u light sleeper. and besides Rusty,\nher faithful collie. now fully recovered from the\npoison. was in her room.\n\n\nRusty grOwled and the sudden noise awakened\nher.\n\n\nStartled, Elaine instantly Thought of the automa-\ntic. she reached under her pillow. keeping very\nquiet. and drew forth the that Craig had given\nher. stealthiy eoncealing her actions under the\ncovers, she levelled the automatic at the figure sill\nhouetted In her window and fired three times.\n\n\nThe figure fell back.\n\n\nDown in the street below the assistant OF the\nclutching Hand who had waited while Taylor Dodge\nwas eleetrocuted. was waiting as his confederate,\npitts slim\"-which indicated that he was both\nwry in stature and libellous in delegating his ma\ntyity-made the attempt\n\n\nAs Slim came tumbling down. having fallen\nback from the window above MORALLY wounded, the\nconfederate lifted him up and carried him out of\nsight hurrledly. .\nelaine. BY this time. had turned on the lights\nand had run 10 the window TO look out Rusty was\nbarking loudly.\n\n\nIn side street near by. stood waiting automo-\nbile Al the wheel OF which sat another OF the ennis\nsaries OF the clutching Hand. The driver looked up\nstartled as he saw his fellow hurry around the cor\nner carrying the wounded pitts Slim\" II was the\nwork Of just a moment to drop the wounded man."
        ],
        [
         "171",
         "1_1915-05-27_p10_sn86069460_0020219526A_1915052701_0699",
         "Indictments In Wood.\n\n\nruff Murder Case.",
         "Crittenden record-press. [volume] (Marion, Ky.) 1909-191?",
         "1915-05-27 00:00:00",
         "jacksonville, KY, May 25. -\nKim Robinson and Floyd Cray\nnor, of Handy Station, were in\ndicted by the grand jury here\ntoday charged with the willfull\nmurder Of Demmett Woodruff\nand Grover Hoard there in Feb\nurary last. c. S. Bookwalter,\npresident of the Carbonate Coal\nCompany; Grover Todd and Otto\nHamilton were indicted as ac-\ncessories before the fact. The\nmurders are said to have been\nthe result of night rider troubles.\n\n\nHamilton is said to be a men,\nDer of the police force at Padu-\ncab. but formerly was employed\nby the coal company as a guard.\nHamilton, Todd and Bookwalter\nall are supposed to be in Paducah\nand warrants were sent there\ntoday for their arrest."
        ],
        [
         "184",
         "5_1915-08-12_p1_sn92073908_00416156529_1915081201_0387",
         null,
         "The commonwealth. (Scotland Neck, N.C.) 1896-1929",
         "1915-08-12 00:00:00",
         "Had Ridden to Cal! Upon Estner.\nHarding. had occupied Stanley hall.\nThe generous minded young men We're\nkeen to realize there was yelled hos\ntiitY against the strangers who now\nhad taken up their abode at Stanley\nhall.\n\n\nYes\" Bert Randolph ratified on,\n\"Aunt is ii stunner-she's broad mind\ned. too, not stiff and narrow like our\nFiirfax women folks. l do not know\nwhy she is going to visit Blair Stan\niey's mother instead of mine, but any\nway, A5int Burton Randolph Will be\nhere to attend the Fairfax tournament.\nwhich comes off in d couple Of days.\n[ have Il bill OF it with I.le. It's the\nbiggest event we have i'll Fairfax, and\npoor Arthur Stanley was set on WIN\nning the wreath this year. How he\nnracticel fer it. He would have won\nit last year, but Blair Stanley, who IS\nolder and much heavier than he. beat\nhim out by Il nasty bit Of interference\nDidn't he, Isalph?\"\n\n\nRalph was quick to say he thought\nBlair he'd ridden unfairly, and Bert\nwent Oh WIN HIS cuAttS. tOilCHlIli ii&,\nhis stunning aunt and the coming tour\nnameHt.\n\n\nq would be surprised If Aunt Bur\nton didn't so wild about Esther\" Bert\n! continued. 'Sha loves to have pretty\ngirls around her, and any girl she\nchaperons is made a belle Of Richmond\nfor Aunt Burton Randolph surely\ndoes queen it nightly in Richmond\nsociety,\"\n\n\nWhile he was speaking the young\nRandolph Of Fairfax produced hand\nbill printed in old English text. vhicl\nlead:\n\n\nYE OLDE TINE\n\n\nT 0 Z r n A II E n T\n\n\nYE GALLANT CAVALIERS AND\n\n\nSQUIRES AND KNIGHTS OF\n\n\nFAIRFAX COUNTY\n\n\nWILL HOLD AN\n\n\nOLDF, TINE TOURNAMENT\n\n\nAT YE FAIRFAX GROUNDS\n\n\nNEXT SATURDAY AFTERNOON.\n, ALL RIDERS MUST 3E MASKED,\n\n\nYE VICTORIOUS KNIGHT SHALL\n, CROWN HIS LADYE FAYRE\nI QUEEN OF LOVE AND BEAUT1E:"
        ],
        [
         "185",
         "10_1915-08-12_p1_sn92073908_00416156529_1915081201_0387",
         null,
         "The commonwealth. (Scotland Neck, N.C.) 1896-1929",
         "1915-08-12 00:00:00",
         "\"H R UT poor Arthur Stanley Won't\n\n\n@A he here to ride this year.\"\nLIZ exclaimed the good natured\n\n\nyoung man when they had\na4i Hnlshed reading the announcement\n\n\nInc idea OF them suspecting he kill\ned Old DR.. Lee!\" chimed in the equally\ngenerous minded Ralph Hunter. \"Why.\narthur for all his wild ways had the\nDeSt and kindest heart In the world.\nAnd he loved Or. Lee like q son. even\nII they did have some jolly old rows\nABOUT the way Arthur spent money like\nwater and got in debt\n\n\nBut why did Arthur run avav7\nNone OF US believe him guilty, and we\nmay have our faults in Fairfax. hnt\nWe are all kin, and we all stand to-\nsether Wien outsiders make trouble\"\nasked Ralph Hunter.\n\n\nsmut UP, you big sillyr' cried Bert\nRandolph inpulsiveiy. Cant you see\nYou are making Miss Esther cry7\nDldn t you promise ne We wouldn't\nsay anything about Arthur's troubles ?\nYou Know Miss Esther liked him hcs+\nOf all of u.s.\n\n\n\"Oh, pray, do forgive me. Miss rs\ntner, cried the contrita young Hunter\nbue just cant keep quiet about tAr-\nthur. Keeping quiet implies we do be-\nheve those awful suspicious\"\n\n\nIl thank YOU for that\" said Esther\ntremuiously-. Let Us talk about him.\nWe know he is guilty OF nothing ex-\ncept being a reckless boy, with no ia\nther and 10 mother\"\n\n\nAdgar spoke up for the first tine.\nYes, she said huslzily, he had no\nmother\n\n\nIII tell you something about ar\nthur, spoke up Bert Randolph 1T\nwas a secret, he had only told me. He\n\n\ngoing to ride in the Tournament\n80 and wrest El.irss laareIs as\naz -, in Fairfax from him.\nW 4..b.\".-. .,,, al, Arthur was de-\nternineI il, win tLise D ~ v, ~\nwhen Hiss EstI:eg WAS 1t DR.. 'ee lie\ntold ne He was resolved 10 win S.. nc\ncould crown Miss Esther queer. Of love\nand beauty\"\n\n\n''Well, we'll do 1t for him. cried\nyoung Hunter. 'All the girls CT Fair\n\n\n\nwin it for Miss Esther. One Of us will\nblock Blair Stanley, and the other win\nwin the wreath\n\n\n'Eo.' chuckled young Randolph.\nrs that the chivalry of Il masked\nknight i'll the tournament of Fairfax\nThat's trick like Blair Stanley played\nalmost. | am astonished at you,\nRalph\" he added. with mock serious\nness.\n\n\nAll laughed, relieved Of the tension\nthe mention OF .ArtilUr's fight under its\nterrible suspicion had brought upon the\n| little group and soon after the young\n| men rode away, declaring that Esthe,\n| should be crowned at their hands and\nthe socially powerful female relative\n! from Richmond should take the young\nmistress Of Stanley hall UadcI the ben\nefice Of her esteem.\n\n\n| 1t WAS about at this same tine. OF\nthis same afternoon, that a sr!um faced\n| hunchbacl1 organ grinder with q mon\nkey linpel into the doOryaru Of Farm\ner Smiths. Poor Qua bba! Well coclC\nhe realize that riches seldom brins\nhappi1lcs;s-espec when we los\nthem almost as quickly rs they have\nbeen gained\n\n\nBut the JOY and glee Of the little\nfve-ycarold daughter OF the Smiths\nchaered Quabba.\n\n\nKids are always glad to see Us\nanyway. Clarence\" he said, and Il"
        ],
        [
         "187",
         "4_1915-12-31_p20_sn92053934_00295872561_1915123101_0769",
         "0lT0RE II.",
         "Rock Island Argus. (Rock Island, Ill.) 1893-1920",
         "1915-12-31 00:00:00",
         "OCTOBER.\n/ Committee of board of education\ndecides to erect portable school\nroom. TO be built adjoining Horace\nMann building, to relieve conges- i\nton.\nCity weighing station removed from\nold scales house on Market square\nwhere it has stood for years. tot\nOffice Of n, c. Benson.\nMargaret Dlbbern chosen editor OF\nthe Watch Tower, the official high\nschool monthly\nThomas Fitzpatrick, g. killed In\nstantly when dynamite expIodes in\nMatherville mine. Is second IA\ntality in Matherville in few days.\n2. George johnson. one Of the four\nmen implicated in the murder of\nJohn B. SchoesseI. sentenced to\nthe Joliet penitentiary for 20\nyears when he pleads guilty TO\nmurder charge.\n8 Lockjaw causes death Of Layon\nWashburn. aged TO- Tetanus\ntraced to infection in wound after\noperation.\n4 George A. Mcdonald. formerly\na grocer here, found dead in Santa\nMonica. Cal. beach; clothing,\nmoney and jewelry gone. He was\n10 years old,\n\n\nF. G. D. Walker. Rock Island chosen\npresident OF County Christian\nEndeavor societies.\n\n\n5, Examination of the teeth of all\nchildren in the public schools be\ngins By local dentists.\n\n\nAction designed TO relieve conges-\nton on Long View street car line\ntaken by council in request to car\ncompany to provide double truck\nconveyances for passengers.\nDecarie incineFator to cost $20250\npurchased by city council. to be\nerected north Of waterworks\n6 John Helfrich. 81, instantly killed\nwhen crushed by heavy loaded\nlumber truck at the Rock Island\nSash & Door works.\n\n\nFrank Hennigan, East Moline. for\nmer deputy sheriff. 81 years old,\ninstantly killed when automobile\noverturns near Mi Vernon, Iowa\n+. Military Tract Teachers associa-\nton meets in Monmouth for three\nday session. practically ali Rock\nIsland county city teachers attend\ning\n\n\nCommissioner establish new rule OF\nbeing in office at set time each\nday, selecting from 10 till II in\nthe morning.\n\n\nMasked highwaymen rob Leo\nThomas at point Of gun,\n\n\nPlans started to erect infrmary at\nVilla de ChantaL\n\n\nOne hundred and sixty men and so\nboys lined up for weeks member\nship campaign Of Y NJ. c. A,\nAmoo Grotto boosts membership to\n40 by initiating 50 candidates, one\nof whom is Mayor McConochie.\ns. Sebastian Corralla. Rapids City\nsage, aged \"A, takes Ludvicka P,\nGinetis, IS year old Chicago girl,\nas bride.\n8. Tag day for Bethany home results\nin raising a fund of SI,0I6.\nMiss Lou Harris again elected TO\noffice of secretary of Military\nTract Teachers association at\nmeeting at Monmouth\nDamage to corn totaling nearly 4\nmillion believed to be the result\nOF first visit Of Jack Frost\n10. Mayor MeConochie shows admin\nistration's hand with relation to\ngambling when he secures money\nfor woman which her husband lost\nin cigar store: warns all cigar\nstore owners not TO permit gam\ning and orders professional gam\nbier out of the city.\n\n\nII. Police ordered TO give notice 10\nowners of house boats near via\nduct TO move, city officials claim\ning they are a general nuisance.\nCharles f. Hunstan, As. found dead\nin wagon at Fourth avenue livery\nstable. Heart trouble is the\ncause.\n\n\nT. Ordinance designed 10 prevent\nBookkeeping considered by council\nand later adopted.\n\n\nSenator Robert La Toilette of Wis\nconsin addresses 200 members OF\nThe After Dinner club. Moline\nColumbus cay observed quietly IN\nRock Island with meeting at lii\nnois theatre at night under the\nauspices OF the Knights Of Column\nbus\n\n\n- William H Berry. 70. drops dead\non sidewalk in front of his home\nHeart trouble Is the cause\n\n\nStudents Of villa de Chantel enter"
        ],
        [
         "199",
         "10_1915-09-17_p7_sn88085187_00211108411_1915091701_0126",
         "INVESTIGATING\nMIGHT RIDER\n\n\nCASES AGAIN",
         "The Tacoma times. [volume] (Tacoma, Wash.) 1903-1949",
         "1915-09-17 00:00:00",
         "Justice OF the Peace w. \\.\nWaters of the North River dis\ntrict, Pacific county. who is in\nTacoma today, declared that the\nnight rider cases in Pacific county\nwill be threshed out thoroughly\nby the present grand jury. in the\nhope that charges Of lawlessness\nand unmentionaole crimes in his\ndistrict will be indicated.\n\n\nAlready 3S indictments have\nbeen returned, and Justice Wat\ntiers says that it is the hope of\nevery peace loving resident of the\nNorth River district that the good\nname of the locality can be re-\nstored through the grand jury\nprobe."
        ],
        [
         "218",
         "41_1915-12-10_p2_sn92050044_00393342900_1915121001_0274",
         null,
         "The Pulaskian.",
         "1915-12-10 00:00:00",
         "The Federdl council of the Church. es of Christ has designated the week of Jan. 2-9 as a \"week of prayer for the restoration of peace in E lropean countries.\n\n w W Canada, the American consul at Vera Cruz, has sailed on the steam CT Esperanza for New York.\n\n Cardinal Begin, archbishop of Que bee, has arrived at Rome and been granted an audience by the pope.\n\n Announcement was made by the At las Powder company that all employees Who have been with the company a year will receive a cash bonus of 10 per cent of their wages.\n\n Manufacture of naval projectiles will be begun at the Puget Sound navy yard March 1, 1916.\n\n An armed bandit held up Bruno Adams, ticket agent of the Wabash railroad at Springfield, IL, and ob- tanned S53 and escaped.\n\n Walter Willoughby, alleged leader of the night riders in New Madrid county, Mo-, was arrested in Cairo. III.\n\n Word comes from Malvern, Ark. that an attempted hold-up of the Iron Mountain train was foiled by the en- glneer and fireman of the crew. bnt that in the effort to apprehend the bandits the sheriff of Clark county was slightly wounded.\n\n Mrs. w. A. Griswold, 5S years old. died in a Kansas City hospital after being struck by police motor car driven by the chief, w. w. Gordon.\n\n Nick Damos, found guilty of tba murder of William Dick, Walsen- burg. Colo, merchant, was sentenced to be hanged during the week begin nlng March 10, 1916. Dick was killed en route to pay off miners.\n\n The sixty-seventh anniversary of the accession of Emperor Franz To- seph to the throne was celebrated on Dec. 3 with solemn services in the churches and patriotic meetings for relief funds.\n\n Damage estimated at $30o,O0O re- suited from fire which swept the buildings of F. J. Leslie & Go. and Barrett & Barrett, at St. Paul. Minn. Three girls trapped on the top floor were rescued by firemen.\n\n L. M. Bowers, one of the personal advisers of John D. Rockefeller. Jr. has rendered his resignation. effec- tive Jan. l. He received a salary of S60,O0O year. with $10,000 bonus each Christmas.\n\n The liner Minnesota, bound for London with grain on her farewell voyage under American registry, has put back to San Francisco because of disabled machinery.\n\n Sir Spencer Ponsonby-Fane. who was an attache of the British embassy at Washington in 1S46-47, is dead at the age of 91.\n\n Andrew Geisert, returning to his farm from Niles, Kan, saw 7-year- old boy with a stick fighting off five wolves. Geisert drove the beasts away with whip.\n\n A fourth son was born to the em- press of Japan on Thursday, Dec. 2.\n\n \n\n A six-foot channel in the Mississippi from St. Paul to the mouth of the Missouri was indorsed at the meeting of the Upper Mississippi River I'm provement association in Quincy.\n\n Two masked boys held up and robbed Chicago drug store after binding and gagging two clerks.\n\n Under construction of the new prohibition law of Colorado, it is found that mince pie, plum pudding and such other delicacies will come under the ban.\n\n The Washington state prohibition law has been found invalid by the state supreme court.\n\n \n\n Over 11,000 Cambridge men are fighting with the colors. Of these men 614 have been killed, 900 wound ed and 123 missing or prisoners of war.\n\n Two more British steamers, the Co., lenso and the Orange Prince, have been sunk, presumably by German submarines.\n\n Gov. Hiram Johnson of California is suffering from an acute attack of bronchitis, and is in bed at his home."
        ],
        [
         "242",
         "5_1915-08-19_p3_sn84027621_00295865751_1915081901_0416",
         "THE\nF ROM\nTHE SKY\n\nContinued from Page Two)",
         "The Ocala evening star.",
         "1915-08-19 00:00:00",
         "with bamboo lauces al small wreath\nsuspended some twelve feet from the\nground. Riding az full speed at this\nobject. the masked kui-Lt who could\nbear it of on his spear point was To be\nadjudged the victor and uS the best\nhorSemau OF all the knights uf Fairfax\nwould crown the uaiI or llS choosing,\nas queen OF love ana beauty. and\nalso by the presentation of great bOu-\nquets ready at hand select the queen :\nattendant ladies Of honor.\n\n\nThe buGles blew. Sheriff Swain as\nknight seneschaI distributed the Iances.\nand the knights lined up FAR down the\ntrack. The buGles blew agsrin. and on\nthey came. twenty Of them abreast.\nwearing the sashes OF their ladies.\nmasked and pIumed and all intent\nupon bearing of the guerdon.\n\n\nBlair Stanley. on n light bay hunter.\nwearing the crimson sash favor OF\nVivian MarStOn. was In the lead: close\nbehind was a Knight on q white horse\nwith a black star on its forehead. A\nstrange horse 10 Fairfax. where every\nhorse and man Of blood is known.\nWhat horse was it. and who was the\nrider? He wore a snow white scarf\nand sat his horse rs became Virginia\ngentleman-or perhaps n Kentuckian.\n\n\nBlair i'm the lead swerved 10 block\nthe oncOming knights behind him. but\nthe stranger seemed to be prepared for\nthe ruse. He spurred his horse around\nand crossed I'm the very front Of Blair\nThe shock threw the bay hunter over.\nand Blair fell headlonG 70 the ground.\nand the strange knights spear point\nlifted the wreath they strOve for from\nthe wire. As Blair fell ne got n glimpse\nOF the hOrseman who had unseated\nhim, close up. And then Blair Stanley\nknew him. II was Arthur Stanley\n\n\nA surge OF hate and humiliation rag\ned I'm the bosom Of Blair TO be un-\nseated I'm the presence Of Vivian Mar\nstOn, TO whom he had boasted he\nwould bear off the wreath and crown\nher on her first day in Fairfax \"a\nqueen OF love and beauty,\n\n\nHe limped from the scene TO where\nSheriff Swain stood by the end of the\ngrand stand, watching the surprising\nend OF the contest and ceaSing from\nhis clumsy jesting with his handouts\nat Quabba.\n\n\nThe defeated knights. with the ex-\nception of the unhorsed Blair. who had\nlimped away. ranged their horses I'm a\nsemicircle and held their lances at\nsalute.\n\n\nArthur, bearing the queens crown\nand the bouquets. approached the\nwhite faced. trembling Esther and said\nI'm feigned voice. II crown thee queen\nOF love and beautyr- Then he present\ned the bouquets OF the ladies OF honor\nto the nearest wOmen-Vivian MarstOn\nand Mrs. Burton Randolph.\n\n\nAt the far end of the grand stand the\nraging Blair was pointing TO the victor\nand saying. That is Arthur Stanley.\nthe murderer OF Dr. Lee. Go and get\nhim.\n\n\nHardly knowing what he was doing.\nbut I'm anger at the clumsy. jesting\nsheriff. a wild idea TO discomfit that\nofficial and the unhorsed informer for\nthe sake OF the gallant looking victor\nseized Quabba. With n deft clutch of\nhis quick fingers he clasped the dan\nCLING end OF the handouts TO the wrist\nOF Blair. The other end was around the\nsheriff's wrist. and that eager official\nand the informer were soon wildly\npulling in opposite directions Leaving\nhis organ and carrying the frightened\nmonkey I'm his arms. the nimble hunch-\nback ran through the grand stand and\nwhispered his warning to Arthur\n\n\nAT this very moment, obedient to a\nsignificant look from Blair's mother."
        ],
        [
         "243",
         "12_1915-08-19_p3_sn84027621_00295865751_1915081901_0416",
         null,
         "The Ocala evening star.",
         "1915-08-19 00:00:00",
         "Mrs. Randolph and Vivian MarstOn had\npointedly thrown down the bouquets\nand had turned their backs on Esther\nThe queen uf love AMI beauty was un-\nacknowledged ami GrthrOned-\n\n\nAt this open and direct humiliation\nOf the daughter uI Ilagar the whole as\nsemhIy grew still us dratH and the\nhOar~g shouts uf the EandcuTel sheriff\nwere. heard. stop that man. He il\nArthur STANLEY. wanted for murder.\n\n\n= loud roHr burst from the excited\nthr1u- Nlpu Sprau- to their feet and\nwo.lpu ~r.cImr, Arthur. NJ the cry\nfrom Esther Co S.t-r himself. ran down\nthe aisle and. clearing the rail at\nbound. v1ulted Ou his horse. snatching\nthe rciuS from the negro lad as he did\n50 Huf Ht rhH hrusgHe commands OF\nthe sheriff the masked knights closed\nin OH Arthur and. hemming him round\ndrove him and his horse toward the\ngrand stand. struggling. lighting for\nlife and liberty."
        ],
        [
         "245",
         "4_1915-02-26_p1_sn89058321_00415621474_1915022601_0067",
         "Urge Calling Out Militia.",
         "The commercial. (Union City, Tenn.) 190?-193?",
         "1915-02-26 00:00:00",
         "Tiptonville, Tenn, Feb. 22.-An\nappeal to the Governor to send the\nState Militia and end the night rider\n| troubles in this section is being\nurged by the citizens of Lake Coun-\nty as the result of continued depre-\ndations at various points, with\nwhich the sheriff and his deputies\nseem unable to cope.\n\n\nThe night riders have not only\nsucceeded in badly frightening the\nnegroes, whom they are attempting\nto drive out of this section, but the\nwhite people as well are in constant\ndread of further troubles.\n\n\nCharles L. Phillippy, a leading\ncitizen of the county near the Ken\nlucky border, who has taken Wig\norous stand against the outrages, has\nbeen forced to take precautions for\nfear his own life will be taken.\n\n\nLast night the night riders posted\nnotices commanding the negroes to\nleave Iu6 COuuCJ anu \"ch hAAAo |NAA\npeople who opposed night riding to\nremain quiet AS a result the color\ned school teacher at Phillippy came\nto Tiptonville this morning and sur\nrendered his commission to County\nSuperintendent Donaldson.\n\n\nPlans for a number of depreda-\ntions were revealed to officers here\nby man arrested at Titan, in the\nlower part of the county, who was\ncaught while attempting to burn a\nstore, and brought to Tiptonville.\nHe stated that the night riders plan\nned to burn cotton gins, stores and\ndwellings, and had also secured dy-\nMantle to be used in blowing up\nhouses.\n\n\nCapt. Charles B. Rogan, Adjutant-\nGeneral, was called over the tele-\nphone this morning and consulted\nin regard to the situation and the\nadvisability of calling out the mi\nlitia."
        ],
        [
         "263",
         "23_1915-11-25_p2_sn84020558_00202196172_1915112501_0029",
         "WATCH FOR NIGHr-RIDERs\n\nraepubll.an A. p. Leased wIrel",
         "Arizona republican.",
         "1915-11-25 00:00:00",
         "CLARKTON, Mo, Nov. 2b-Though there was no evidence of the night rider activity last night and today, Clarkton again was surrounded to- night by an armed guard to meet possible attacks from the night-rid- CTS. The latter have resorted to threatening letters and acts of vio- lence in an effort to force landown- CTS to pay higher wages and sell food supplies at lower prices."
        ],
        [
         "264",
         "11_1915-12-09_p1_sn78000873_00279524986_1915120901_0415",
         null,
         "The Republican journal. [volume] (Belfast, Me.) 1829-current",
         "1915-12-09 00:00:00",
         "Inc laules OF mason Mills chapel Will ha We q\nmasked social at the chapel to- morrow, Fri\nday, night. A 15-cent supper will be served.\nThe public are invited.\n\n\nLate reports from Marian Louise, the little\ndaughter of Mr. and Mrs. II. E. Knight, who\nwas taken to the Infantile Hospital in Boston\nfor treatment for stomach trouble, are very\nencouraging and she is gaining in weight\n\n\nADVERTISED LETTERS The following let\nters remained uncalled for in the Belfast post\noffice for the week ending Dec. 7th: Mrs. A..\nM, Gray. Mrs. Laura Robbins, DR.. E. Clear\nwater, Mr.. and Mrs. Frank Drischel, Roland\nDyer. Fred Gross, John w. Roberts, Captain\nYoung.\n\n\nThe story of Thrift Club that saved $780,\n600. told in our advertising columns. is follow\ned by an invitation to join the Holiday Saw\nings Fund at The City National Bank of Bel\nfast, which starts Monday, Dec. 9th. Call at\nthe bank and let them explain to you their\nmethod of encouraging thrift.\n\n\nAt special meeting of the Board of Trade\nlast Friday afternoon officers for the Food\nFair. to be held in the Opera House Feb l-5\nwere elected, as follows President, Charles R.\nCoombs; vice president. Clyde R. Holmes; Sec\nretary. Orrin J. Dickey; treasurer, Wilson Ell\nlis; advertising committee, Irving 7. Dinsmore;\nentertainment committee, Elbridge S. Pitcher;\ndecorating committee. Morris L. Slugg. Booths\nhave already been engaged. Mrs. John O.\nBlack will have lunch counter and the an\nmex will be made an interesting feature.\n\n\nThe Unitarian Alliance met Thursday AFTER\nneon, Dec. I'd, with Mrs Thomas B. Dinsmore\nand after brief business meeting Mrs. Dins-\nmore read paper entitled ga Journey\nThrough the South i'll which she told of the\nvisits of Mr. Dinsmore and herself to several\nof the most interesting cities of the South. As\nthe writer of this item was familiar with all of\nthese clties-some of them more than halt\ncentury ago-he asked the favor of reading\n| the paper, and then, the additional favor of\npermission to print it in full in The Journal,\nthat our readers might enjoy it. and it will be\npublished in our next issue. 1t is record of\npersonal experiences and personal impressions\ntold in the familiar style of letter home, and\nis both interesting and instructive\n\n\n! FAMILY RECORDS. The work of looking up\nthe family records of Belfast of the vital sta\ntistics of the State, which is in charge of AL\nfred johnson, is progressing slowly. Miss R\n( I. Newell, who had been engaged on the work\nTor nearly month finds that many of the old\ner family Bibles are in other towns or States\nand it is necessary to obtain the records from\nthem. While the conditions imposed are not\nquite clear to many families in town, who\nhave these old family records still in their pos\nsession, it is required that the Bible or other\nrecords that have been kept i'll the family\nfrom the time of settling in Belfast should,\nwhen possible, be seen and copied by the per-\nson collecting the stathtics; but when this is\nnot possible a true copy of the records may\nbe made and sent to Miss Newell. Anyone\nhaving family records which have not yet been\n/ called for will confer favor by communlcat-\ning with Miss Newell telephone It's 8. When\ntins is not convenient the records may be left\nwith Mrs. J. C. Durham in Belfast\n\n\nI The &. A. r. ELECTIONS. Thomas H. Mar\nshall Post and Circle, G. A. R.. at their annual\nmeetings last Tuesday afternoon elected officers\nfor the coming year, who with the appointed\nofficers will be installed early in January, The\nPost elected Capt. J. w. Frguson, commander;\nCapt E. S Mcdonald. senior vice commander;\nh. NJ. Bennett, Junior vice commander; Capt.\nGeo. I. Osborne. chaplain, A. K. Flelcter, sur\ngeon; Thomas Canon, adjutant; Daniel H.\nStrout, quartermaster; James H. Clark, officer\nof the day; Fitz W. Patterson, officer OF the\nguard, L. C. Putnam, quartermaster General:\nA. W Hassan, sergeant major, l. A. Conant\ndelegate, d. H. Strout and A. W. Hassan, alter\nhates; D. II. Strout, janitor. The Circle elected\nMrs. Lulie P. Nichols, president; Mrs. Mary\nCollins senior vice president: Mrs. Drusila P.\nFrisbee, junior vice president; Mrs. Julia G.\nMcKeen, treasurer; Mrs. Nettie M. Merrithew,\nchaplain; Mrs. lisa H. Ellis conductor; Mrs\nSusan Patterson guard. Both bodies extend\nthanks to the public for their general patron\nage to the supper Tuesday as benefit to the\nG. A. R., monument fund. 1t was successful in\nevery way and netted about $35.\n\n\nAn ADDRESS ON CIVIC DUTY. An open meet\ning of the Mems Club of the North church was\nheld at the church last Friday evening, with\ngood attendance Of members and guests Sup-\nper was served at 63O Mrs. John o. Black\n/ catering, anu aiteT supper Dr. W. l.. West,\npresident of the club, introduced Ion. Fred\neric H. Parkhurst Of Bangor, who delivered\nfine address Civic Duty. In his opening re-\nmarks he spoke of the government of the\n| United States the most remarkable form of\n! government the world had ever seen and con-\ntrasted it with the form of absolutism exem-\n| pliied in the government of Germany. With\nI us the will of the people is sovereign 1t is su.\npreme and finds its expression through the va\nrious channels of government, State and Fed\neral. The will of the people is expressed\nthrough officers and representatives chosen\ndirectly by the people and it is in the discharge\nof the duty of the ballot that a great respon-\nsibility rests upon each one having the right\nof sovereignty. The speaker then referred to\ncomplaints that are often heard regarding men\nwho chosen for Office in all branches of\ngovernment and when pressed for reasons these\nmen would admit that they hadn't attended\na primary and many times were careless about\nattendance upon election day. He gave many\nillustrations Of this lack of practical interest\nin government and regretted the fact that men\nwho were so very quick to resent some par\nticular act of any administration would them\nselves refuse to allow their names to be used for"
        ],
        [
         "283",
         "10_1915-02-19_p7_sn92050044_00393342900_1915021901_0037",
         null,
         "The Pulaskian.",
         "1915-02-19 00:00:00",
         "s'Wenzel says tn old man wants t see you. s in his office. Say, Mr Terrill, do yuh think they can play today? It's pretty wet\"\n\n Jo Haley was sunk in the depths of 1 his big leather chair He did not look up as Ted entered. \"Sit down.\" he said. Ted sat down and waited, puzzled.\n\n \"As a wizard at figures\" unused Jo Haley at last, softly as though to him. self, \"I'm frost. column of figures on paper makes my head swim But I can carry whole regiment of 'em in my head. know every time the bar keeper draws one in the dark. I've been watehin' this thing for the last two weeks hopin' you'd quit and come i and tell me-\" He turned suddenly and faced Ted. Ted, old kid\" he said sadly, \"what'n'ell made you do it again?\"\n\n What's the joker\" asked Ted.\n\n Now, Ted\" remonstrated Jo Ha- ley, that way of talkin' won't help matters none. As said, Pm rotten at ] figures. But you're the first invest ment that ever turned out bad, and let me tell you I've handled some mighty bad smelling ones. Why, kid, if you had just come to me on the quiet and asked for the loan of a hundred or so, why\"\n\n What's the joke, Jo?\" said Ted again slowly\n\n This aint my notion of a joke,' came the terse answer Were three hundred short\"\n\n The last flicker of Ted Terrill's old time radiance seemed to flicker and die, leaving him ashen and old\n\n \"Short?\" he repeated Then, My God!\" in strangely colorless voice. My God!\" He looked down at his fingers impersonally, as though they belonged to someone else. Then his hand clntched Jo Haley's arm with the grip of fear. \"Jo! Jo! That's the thing that has haunted me day and night, till my nerves are raw The fear of doing it again. Don't laugh at me, will you? l used to lie awake nights going over that cursed business of the bank-over and over-till the cold sweat would break out again, step by step, until-Jo, could a man steal and not know it? Could thinking of a thing like that drive man crazy? Be- cause if it could-if it could-then-\"\n\n q don't know\" sad Jo Haley, but it sounds darned fishy.\" He laid a hand on Teds shaking shoulder, and was looking into the white, drawn face. T had great plans for you, Ted But Minnie Wenzeps got it all down on slips of paper. l might as well call her in again, and we'll have the whole blamed thing out\"\n\n Minnie WenZel came. In her hand were slips of paper, and books with figures in them, and Ted looked and saw things written in his own hand that should not have been there And he covered his shamed face with his two hands and gave thanks that his mother was dead.\n\n There came three sharp raps at the office door. The tense figures within jumped nervously\n\n Keep out!\" called Jo Haley, \"who ever you are\" Whereupon the dool opened and Birdie Callahan breezed in\n\n Get out, Birdie Callahan,D roared Jo. You're in the wrong pew\"\n\n Birdie closed the door behind hel composedly and came farther into the room. Pete, tn pastry cook, just tells me that Minnie Wenzel told tn day clerk, who told the barkeep, who told tn janitor, who told tn chef, who told Pete, that Minnie had caught Ted stealin' some three hundred dollars\n\n Ted took quick step forward Birdie, for heavens sake keep out of this. You can't make things any bet ter. You may believe in me, but\n\n Where's the money?\" asked Birdie\n\n Ted stared at her a moment, his mouth open ludicrously.\n\n ''Why-I-don't- he articu lated painfully. q never thought of that\"\n\n Birdie snorted defantly. 'T thought so. Dye know,\" socially, q was wis. itin' with my aunt, Mis- Mulcahy, last evenin\"\n\n There was a quick rustic of silks from Minnie WenzePs direction.\n\n Say, look here\" began Jo Haley impatiently.\n\n Shut up, Jo Haley\" snapped Birdie As l was sayin', l was visitin' with my aunt, Mis- Mulcahy. She does fancy washin' an ironin' for the swells An Minnie Wenzel, there bein' none sweller, hires her to do up her weddin linens. Such smears av hand em bridery an Irish crochet she never see tn likes, Mis-. Mulcahy says, and she's seen a lot. And as a special treat to the poor ovid soul, why Min"
        ],
        [
         "293",
         "10_1915-11-20_p10_sn83045433_0023728883A_1915112001_0553",
         "CHAMPION CYCLIST\n\n\nGOING TO RETIRE",
         "The Washington herald. [volume] (Washington, D.C.) 1906-1939",
         "1915-11-20 00:00:00",
         "New York. Nov. 1s.-Frank Kramer\nannounced yesterday that he is ready\nto store away his silent steed and en-\nter the realms of business.\n\n\nThe last big race in which will\nparticipate\" said the famous cycling\nstar, will be the special event which\nwill be run on saturday night, De-\ncember 4. at the Garden This big\nrace. which is a prelude to the six\nday grind. I must win. for 1t will\nmean my farewell to the other course.\nto the great old theater IN which\nhave won many prizes and made thou\nsands of friends.\n\n\nII am satisfied\" concluded the\ncycling wizard, that this six-day race\nshould be greater than that OF its pre-\ndecessors. The class of riders has\ngreatly improved year by year. and\ncan safely say that the speediest\npedal-pushers in the world are now in\nAmerica\""
        ],
        [
         "294",
         "8_1915-09-24_p1_sn86092050_00279550286_1915092401_0447",
         null,
         "The McDowell times. [volume] (Keystone, W. Va.) 1904-1941",
         "1915-09-24 00:00:00",
         "and ths rsal birth of Natiou.\" Ever\nsines the organization Of The Ku Kluz\nKhan the popular voss in South Oaro,ins\nhas hssn dscressine. uptil now more than\ntwo-thirds Of the native white men Of\nvoting sge who are The sous Of nanve\nwhite pareno and mus therefore bslone\n70 the old nssivs vhiae sooek, are never\nhard from in popular elecsfons- They\ndo not count any more now than thsy\ndid In the old ariseocratic days before ths\ncivil war nor any more than do he plan\neasioo Nsgroo; bus perhaps that wes The\nwhite mans civilixasion the organiser ol\nThe Ku KIux Khan had h mind when, in\nwhite masxs, appearing like the knights\nof old. they rode through the ccuntry and\nwarned the Negroes, and other white\nmen too. that . popular election wss 10\nhe held, but they were not invited 10\ncome 70 the polls. II popular elecsions\nin South Carolina are the direct result Of\nthe Ku Klux Klan and illustrnss the true\nmeaning of the Birth Of . Nakion, is\nmay dispel some Of The illusions and cc ol\nsome OF The enthusiasm Of the people in\nthe North who are now applanding this\ngreat dramatic film.\n\n\nProhibition, it 10 said ny Capt. Hob\nson, should be submitted to the people\nthat . popular vote BY all the people may\ndecide this great moral and social ques-\ntion- In the South it was decided for\n500, 600 people, one-half of them white\nand les, 700 of them white men of voting\nage by $1,000 men casting the vote. On\nIN amendment to the Federal Constitu-\nton, these 50,OO white men would cast\nthe vote Of the great STATE of South Caro-\nlima and that vote would be equal TO the\nvote Of New York where I, ,569, 900 men\nvoted in 1912. What is . popular vote\nand what is q popular election?"
        ],
        [
         "297",
         "1_1915-06-17_p2_sn86069395_00280763457_1915061701_0574",
         "Last Of The Suits Against The\nCity Of Hopkins\n\n\nvile.\n\nBLANKENSHIP CASE TRIED\n\nOne Young Man Is Given a\nJail Sentence and\n\n\nFine.",
         "Hopkinsville Kentuckian. [volume] (Hopkinsville, Ky.) 1889-1918",
         "1915-06-17 00:00:00",
         "Lee Blankenship, young man in\ndicted this court for an attempt to\nviolate the age of consent law, the\ncomplainant being Vida Johnson,\ngirl under 16. was tried by a jury\nand given a year in the county Jail\nand a fine of 5000. The defendant\ndenied that the law was actually vio-\nlated and jury reduced the offense to\na misdemeanor with Jail sentence.\n\n\nDennis Thomas, indicted for shoot\ning, was tried and acquitted.\n\n\nYesterday the suit of W. T. Coop.\ner VS.. City of Hopkinsville, the last\nof the suits growing out of the night\nrider raid of Dec. Z, 1907, was dis\nmissed on motion of the plaintiff s\nattorney. The case was set for to-\nday.\n\n\nFINS Fields, grand larceny, given\n5 years. Houston Griffith, same of\nTense, was on trial at press hour.\nThey are the negroes indicted for\ntaking $258 from E. C. Cayce."
        ],
        [
         "384",
         "16_1915-04-06_p5_sn83045211_0023728754A_1915040601_0317",
         null,
         "Evening public ledger. [volume] (Philadelphia [Pa.]) 1914-1942",
         "1915-04-06 00:00:00",
         "her ''Tlllie's Punctured Romance\" has\n\n\nsigned a two years contract with Lubin's\n\n\n4 tho highest salary paid to a motion\n\n\npicture actress.\n\n\nTHE Avenglng Conscience\" which be-\n\n\nBRn n run at the Chestnut street Opera\n\n\nHouse yesterday was reviewed favorably\n\n\ntn this column when Il was shown pri-\n\n\nvately some weeks ago The Aim. for\n\n\nwhich Wizard Griffith is responsible, is\n\n\nbased on Edgar Allen Poe's THE Tell\n\n\ntale Heart\" The Aim version Is tre-\n\n\nmendously powerful fascinatlng-even\n\n\nhorrifylng, The photography is superla-\n\n\ntive and the acting OF Blanche Sweet. as\nthe girl \"called Annabel Lee\" Spottis\n\n\nwoode Aiken as the uncle and Henry h.\n\n\nWalthsll as the man plagued by the con\nscience is beyond criticism\n\n\nTaken ms whole. The Avenging Con-\nscience\" is well worth seeing either as\npicture PLAY, as a powerful sermon or\nas specimen of remarkable pantommo.\nGo and see 1t and be convinced\n\n\nBig Film Offer\n\n\nCharles Frohman and David Belasco. on\ntheir return from Boston, where they\nhave been rehearsing an all-star company\nIn \"A Celebrated Case\" were mot bv\nAdolph zukor, president of the Famous\nPlayers Film Company who offered them\nthe record king sum of $4,000 in the\nform of cash paid in advance, for the\nprivilege of taking moving picture OF\n\"A Celebrated Case acted by the stars\nwho win shortly appear i'm II at the Em-\npire Theatre\n\n\nMr.. Frohman and Mr.. Beasco have\npractically accepted the proposition-and\ncontracts ready for signatures have al\nresdy been exchanged 1t is stipulated\noy the Famous Players Film Companv\nthat the motlon-picture representation Of\na el\ntwo hours i'm performance and that it's\ncast shan 'tnclude all the stars in the\npresent Frohman- Belasco roster Tho piIr-\npose In taking the film Ia two-fold II\nis known now that II will be impossible\n70 Keep the present all-star cast together\npssono this season so that when this\norganization finishes with the plav II will\nstill be shown in the form of moving pir\nlures in frst-class theatres thro,Irbout\nthe country.\n\"The Tenderfoot\"\n\n\ny, FRANK Brookliss, European repre- |\nsentative of the Lubln COMPANY who 20 |\nmaking brief visit to Phi1adelnhjn and\nNeW YORK, had most interesting dav |\ntnis week with the cowpunchers and\nrough riders at the Lubin ranch. which is\nphia. '''''''iei-\n\n\nBrookliss had expressed a desire IN ride\nhorseback. so word was flashed m ~\nranch, and he was hurried out there I'm\nan automobile. The cowpunchers gave\nthe visiting Englishman real old-fash-\nloned western welcome. with plenty of\nnoise, gun work and spectacular stunts on\nnorseback He was conducted in state\n90 the headquarters OF the rough riders.\nwhere he was equipped with a complete\nwestern riding outft-chaps, spurs shirt\nhat. gun and all\n\n\nbrookliss does great deal of riding in\nbut he got his first introduction\n70 bucking horses on the ranch Two of\nme Lubln riders led from the corral n\nratner harmless looking broncho, and\nsroohliss swung into the saddle Then\nthings happened. The broncho reared\nplunged, bucked and did everything pos\niole in the repertoire OF a horse OF that\n'articular type of temperament. Brook\nlss stuck in the saddle; not gracefully\nerhaps but he stuck, and afterward he"
        ],
        [
         "437",
         "21_1915-03-17_p3_sn86063952_00295864187_1915031701_0444",
         "Night Rider Cases Dismissed.",
         "The Guthrie daily leader. [volume] (Guthrie, Okla.) 1893-1996",
         "1915-03-17 00:00:00",
         "Happy Matlock, who was arrested\nlast fall as a night rider in Love\ncounty, has been acquitted by jury\nin the district court at Marietta. ant\nsimilar cases on the docket agains\n\n\nother citizens have been dismissed"
        ],
        [
         "443",
         "2_1915-11-11_p8_sn86069460_0020219526A_1915111101_0919",
         null,
         "Crittenden record-press. [volume] (Marion, Ky.) 1909-191?",
         "1915-11-11 00:00:00",
         "ton oi the country and IN March,\n1910, Doe was the principal in the\nsensational trial held here at\nwhich he was charged with CONF\npIicity in the night rider raid\nmade upon HopkinsyiIle.\n\n\nThe jury returned a verdict\ndeclaring Dr. Amos not guilty.\nDR.. Amos had been in poor health\nfor the past two years.\n\n\nThe remains will be sent back\nto Cobb for burial. The funeral\nservices will be held at the\nChristian church at WaIIonia Sat.\nurday morning at II o'clock.\nDR.. Amos was born at Cobb on\nOct ~, 1857. He was married\non Aug. -, 1885, to Miss Carrie\nLindsay Of HopkinsviIle. and she\nsurvives him, also the children.\nDR.. Harold Amos and Mrs. Raw Is\nMoore Of Washington. d. c."
        ],
        [
         "472",
         "9_1915-06-08_p5_sn86092536_00414186373_1915060801_0835",
         "COMMENCEMENT\n\nExercises viii be Held Thursday\nEvening In High School Audi\n\n\ntorium-Ciass Night T~uesdsy.",
         "The Wheeling intelligencer. [volume] (Wheeling, W. Va.) 1903-1961",
         "1915-06-08 00:00:00",
         "Wheeling High schools annual com\nmencement will he held Thursday\nevening Of this week. a class Of sixty\none will be presented with diplomas\nby Superintendent Of Schools C. p\nCitizens.\n\n\nProf. p W limit. president Of\nWashington and Jefferson college. has\nbeen chosen to deliver the address\nProf limit b. a very noted speaker\nand will no doubt deliver an interest\ning address on this occasion.\n\n\nThe class orators are Miss Thelma\nknarr and Mr. Hildroth Rider\n\n\nGlass night a. the High school viii\nbe held on Wednesday evening. when\nthe students will exhibit their talents\nIN q mock commencement"
        ],
        [
         "487",
         "10_1915-07-17_p7_sn90059959_00271760073_1915071701_0412",
         null,
         "The Irish standard.",
         "1915-07-17 00:00:00",
         "nands are sun mapping up and down\non the grass. am looking back as\nII fascinated while my legs keep on\nadvancing.\n\n\nBut suddenly something begins to\nset up a rattle over there in the wood\nand buzzes like huge alarm-clocks\nrunning down.\n\n\n'Lie down.\"\n\n\nAnd there we are lying down, nat\non our stomachs, as II we had already\nbeen mown down, for every man Of\nus knows what that was. They have\nmasked machine-guns in the wood\nover there; they are opening fire on\nus. feel how my heart is humping\nagainst my ribs. A machine-gun is\nequivalent to company, the Old Man\nonce explained to US, after we had\nbeen shot down in heaps to the last\nman by the machine-guns In the au.\ntumn maneuvers.\n\n\nWhat's the next thing?\n\n\nCautiously, without raising It, I turn\nmy head. Behind us, too, the lines of\nskirmishers, close up to us, have dis\nappeared from the face Of the earth;\nthey too, have gone to cover in the\ngrass. Only outside the firing zone\nare they still being pushed forward.\n\n\nShall we have to retreat? Are we\ngoing to attack?\n\n\nThen the order to fire rings out, and\nIs zealously passed on from unit to\nunit.\n\n\nrapid fire! Into the wood!\"\n\n\nYes, but what are we to fire at?\nLying down, there is nothing to be\nseen of the sharpshooters. They\nwon't do us any harm; in another min.\nute they will have disappeared among\nthe trees. But the machines-they\nhave hidden them away among the\nfoliage to good purpose.\n\n\nOur subaltern, lying a bare five\nPAGES away from me in the grass,\nraises himself on his elbows, and\ngazes intently through his field\nglasses. know what is vexing his\nsoul. He is handsome, splendid lad,\nfor whom even we grizzled old-timers\nwould 60 through fire and water, for\nhe meets you as man to man, with\nout shifting or swagger, as 1t becomes\nq youngster. And the other day,\nwhen l was marching with the rear\nguard, we discussed Lilliencron's nov.\nels. Since then he has always ap-\npealed to me as If he had stepped\nstraight out of one of these romances\nOf war. He is all ablaze to CLEAN\nhis first laurels. But however much\nhe may twiddle the focus of his\nglasses up and down and crane his\nneck, he cannot discover a trace of\nthe enemy, and we blaze away fool\nishly at the wood, and may, for all I\nknow, be bringing down leaves or\nhrds from the trees there.\n\n\n\"Close to the big oak. To the right\nIn the underground\" some one of the\nrank and file sings out.\n\n\nI strain my eyes to the spot, and\nfail to see anything.\n\n\nAnd again hear the guns growing\nIll round us. But somewhere out Of\nthe far distance clear, long-drawn\nbugle-call rings out amid the iron bass.\n1t thrills nerve and brain against an\niron wall.\n\n\nBehind there, to the right-they are\non the run there! And from afar the\nrifle fire rattles like mad.\n\n\nmy men! Up with you! At the\ndouble!\"\n\n\nThat came from our lot our\nsubaltern is racing on with his drawn\nsword in his hand. am still\nprone. and have. almost automatically.\ndrawn my right knee close up under\nmy body they are rising to\ntheir feet to the left and right of me.\nand dashing on after him q\nwrench! and my knapsack slides lop-\nsided up the back of my neck I.\nthen Jump up with my rifle in my\nright hand, and am running for all\nmy legs are worth.\n\n\nBut as we rise to our feet the ma\nchine-guns in the woods begin to buzz,\nand to rain lead into our ranks, until\nright and left of me men yelp and\ndrop twisted and tumbled to the\nground.\n\n\nDown! Rapid fret\"\n\n\nThe line is prone and again we are\nblazing desperately into the wood, and\ncan catch no glimpse of our enemy.\nNever single arm raised against US,\nnever the eye of a single man to chal-\nlenge us. The wood, the green wood,\nIs numbering us from afar, before .\nsingle human face comes in view.\n\n\nAnd while to the right and left Of\nme the rifle fire chatters necessarily,\nthe grim mockery of it maddens my\nblood, and makes me see red before\nmy eyes. I see scale-armor and visors\nhigh in their stirrups the\nknights burst blazing out of the wood,\nand !, reckless horseman of the\npast, ! leap into the saddle-my broad\nsword flashes clear and kisses the\nmorning breeze-and now up and at\nthem like thunderbolt. Then eyes\nere flashing into mine and hands are\nraised for the melee-and stroke for\nstroke, breast to breast, the pride Of\nyouthful, virile strength Ha.\nha-ha-ha! What has happened!\nWhere have horse and rider vanished?\nWhere is my sword? We are not even\ncharging men. Machines are trained\non us. Why, we are only charging\nmachines. And the machine triumphs\ndeep into our very flesh. And the\nmachine is draining the life-blood from\nour veins. and tapping it up in buck"
        ],
        [
         "509",
         "1_1915-04-30_p1_sn89051084_00393342717_1915043001_0487",
         "20 MEN ARRESTED IN\n\n\nNIGHT NIGHT RIDER RIDER CASES CASES\n\nSheriff of Arkansas County\nHas Is in Jail and Thinks\nHe has Broken up Gang.",
         "The Newark journal.",
         "1915-04-30 00:00:00",
         "Stuttgart, Apr. 24.-The ar\nrest of Arthur Burris by Sher-\nif Lafargue and his deputies\nlast light made the twentieth\narrest as a result of the recent\nnight rider outbreaks in Ark\nansas County. Two have been\nreleased, one for lack of evil\ndence against him and the\nother because he was OF the\nman for whom a warrant had\nbeen issued. The other Is are\nbeing held on various charges\nFour are iharged with first de-\ngree murder and are awaiting\nthe action of the grand jury,\nwhich will convene in May.\n\n\nSheriff Lafargue believes he\nhas broken up the gang Of\nnight riders, but says he will\nmake other arrests, shuld the\nevidence Justify.\n\n\nThe trouble started in Janu-\nairy, when sevral hice plant\ners living in the vicinity of\nMud Lake employed negroes\nto cut wood. At once noaices\nwere pasted warning the neg\nroes to leave the vicinity. One\nplanter whose negro employees\nwere scared away by these no.\nhces, said lie was paying IDOL\nlar a cord for wood, and that\nonly one white man asked him\nfor work. He said he gave\nthis man enjoyment but that\nhe remained only few weeks.\n\n\nIn February a gang Of white\nmen, under cover of night. at\ntackled the cabin of several\nnegroes. They shot and killed\none negro aad set fire to his\ncabin. Sheriff Lafargue and his\nDeputies at once got into action\nand the 20 arrests followed.\nThere has been no trouble\nin that vicinity since."
        ],
        [
         "534",
         "16_1915-03-07_p5_sn95060905_00211106530_1915030701_0536",
         "\"wenzel says tn old man wants t",
         "Tombstone epitaph.",
         "1915-03-07 00:00:00",
         "\"Wenzel says tn old man wants t see you $ in his office Say, MT. Terrill. do yuh think they can play today? It's pretty wet\"\n\n Jo Haley was sunk in the depths of his big leather chair. He did not look up as Ted entered. Sit down.\" he said. Ted sat doyn and waited, puzzled\n\n As a wizard at figures unused Jo Haley at last. softly as though to him self, I'm frost. A column of figures on paper makes my head swim. But l can carry a whole regiment of 'em in my head. l know every time the bar keeper draws one in the dark. I've been watchin' this thing for the last two weeks hOpin' you'd quit and come and tell me\" He turned suddenly and faced Ted. Ted. old kid\" he said sadly. ''what'n'ell made you do it again?\n\n What's the joke?\" asked Ted.\n\n Now. Ted\" remonstrated Jo Ha- ley. that way of talkin' won't help matters none. As l said, I'm rotten at figures. But you're the first invest ment that ever turned out bad, and let me tell you I've handled some mighty bad smelling ones. Why. kid. if you had just come to me on the quiet and asked for the loan of hundred or so. why\n\n Whats the joke. Jo?\" said Ted again slowly.\n\n This ainI my notion of a joke\" came the terse answer. We're three hundred short\"\n\n The last flicker of Ted Terrills old time radiance seemed to flicker and die. leaving him ashen and old.\n\n 'Short?\" he repeated. Then, My God!\" in a strangely colorless voice My God.\" He looked down at his fingers impersonally. as though they belonged to someone else. Then his hand clutched Jo Haley's arm with the grip of fear. \"Jo, Jo! That's the thing that has haunted me day and night. till my nerves are raw. The fear of doing it again. Don't laugh at me, will you? I used to lie awake nights going over that cursed business Of the bank-OYer and over-till the cold sweat would break out again. step by step. until-Jo, could a man steal and not know it? Could thinking of thing like that drive a man crazy? Be cause if it could-if it could-then-\"\n\n \"l don't know\" said Jo Haley, but it sounds darned fishy.\" He laid a hand on Ted's shaking shoulder. and was looking into the white, drawn face. T had great plans for you. Ted. But Minnie Wenzels got it all down on slips of paper l might as well call her in again, and we'll have the whole blamed thing out\" Minnie WenZel came. In her hand were slips of paper and books with figures in them, and Ted looked and saw things written in his own hand that should not have been there. And he covered his shamed face with his two hands and gave thanks that his mother was dead.\n\n There came three sharp raps at the office door. The tense figures within jumped nervously.\n\n Nttp 'ul- CdlitO JO tldltl- HnC- ever you are\" Whereupon the door opened and Birdie Callahan breezed in.\n\n Get out. Birdie Callahan\" roared Jo. You're in the wrong pew\"\n\n Birdie closed the door behind her composedly and came farther into the room. Pete, tn pastry cook, just tells me that Minnie Wenzel told tn day clerk. who told the barkeep. who told tn janitor, who told tn chef, who told Pete. that Minnie had caught Ted stealin' some three hundred dollars\"\n\n Ted took a quick step forward. Birdie. for heavens sake keep out of this. You can't make things any bet ter You may believe in me, but\"\n\n Where's the money?\" asked Birdie.\n\n Ted stared at her a moment, his mouth open ludicrously.\n\n -I-don't-know,\" he articu- lated painfully. T never thought of that\"\n\n Birdie snorted defantiy. T thought so. Dye know\" socially. T was vis- itin' with my aunt. Mis- Mulcahy. last eyenin'\"\n\n There was quick rustic of silks from Minnie Wenzers direction.\n\n Say. look here\" began Jo Haley, impatiently\n\n Shut up, Jo Haley\" snapped Birdie As l was sayin'. was yisitin' with my aunt. Mis- Mulcahy She does fancy washin' an ironin' for the swells. An Minnie Wenzel. there beiu' none sweller. hires her 10 do up her weddin' linens. Such smears av hand em- bridery an Irish crochet she never see tn likes, Mis- MIlcahy says, and she's seen lot. And as a special treat to the poor owld soul. why Min nie Wenzel lets her see some av her weddin' clo'es. There never yet was a woman who cud resist showin' her weddin things 10 every other woman"
        ],
        [
         "569",
         "39_1915-03-02_p3_sn83009653_00279524214_1915030201_0459",
         "NORWAY.",
         "Oxford Democrat. [volume] (Paris, Me.) 1833-1933",
         "1915-03-02 00:00:00",
         "| NORWAY.\n/, No school In the village Thursday b,\ncause of the rain and bad travelling. Th\n\n\nweather also bit many of the socii\n\n\nevents which took place during the frs\n\n\nand middle part of the week rather hare\n\n\nbut none of them were postponed b.\ncause of It.\n\n\n| The masquerade ball at the Oper\n\n\nHouse Tuesday evening was much en-\nljoyed by the good sized number ths\n\n\nwas in attendance, large percent o\n\n\nwhom were in costume and masked\nThere was great variety of garment\n\n\nworn, many of which were very attract\ni've, and some 80 deceivipg that Their\n\n\nwas one man at least who did not know\nhis own wife. The stage was decorate,\nand advertiser ents of different Norwa\nand South Paris merchants appeared a\na part of the decorations. Harlequin\nics cream was served at intermission\nThe music was furnished by Shaw's OF\nchestra OF South Paris, there being seve1\npieces.\n\n\nThe Swastika Club was very plessan,\nly entertained Wednesday evening b.\nMiss Gabrielle DeCosta. The ladie\nspent the evening with sewing, Will\nS me of the men who were present a\nguests, enjoyed the evening at cards\nRefreshments of marshmallow fudge\nhome prepared sailed peanuts, peanu\nbutter sandwiches, welsh rarebit ant\ncoffee were served. The next meeting\nwill be with Miss Helen Holmes.\n\n\nTie meeting of the Browning Reading\nClub for this week has been postponed\nbecause of the Chapman concert. TIN\nmeeting next week will be with Mrs\nLena Andrews.\n\n\nWeduesd \" evening of this week TIT\nY. p. C. U of the Universalist ohurcl\nwill serve baked bean and salad supper\nat Concert Hall, to be followed by mu\nsteal entertainment and the farce \"a\nCase OF Suspicion\" with the following\ncast of characters:\n\n\nProfessor Edgerton. member Of the faculty\nMiss opheiia judiins. the preceptress\n\n\nJennie z. Mann\nDorothy, Seminary gIrl.---..-;A delins Decoste\n\n\n\n\n\nMildred, Seminary GIRL Ida Merrill\nHarold, College boy David M II\nTom. College boy Theodore Hum\nJack, College boy. Harry Gam m\nJonas. the hired man ...H u yh F. Pendexter\n\n\nAnother of the ten cent socials of the\nEastern Star was held Friday evening,\nthis time the affair taking place at the\nhome Of Mr.. and Mrs. Frank Kimball on\nCottage Street. The time passed quick.\n\" and pleasantly with music, whist and\nsocial hour with refreshments. The\ngatherings are proving very popular and\nat the same time good SUN OF money Ia\nbeing realized to be used as needed by\nthe chapter.\n\n\nMrs. Arthur Lewis entertained the\nPythian Sisters Sewing Club at her\nhome Friday afternoon.\n\n\nJohn F. Hutchins is doing work in the\npainting and papsring line at the MILL,\nmerry store of Mrs. R. L. Powers.\n\n\nThe annual meeting Of Abigail Whit\nman Chapter, D. A. R., takes place Wed\nnesday evening, Mrs. True c. Morrill, be-\nlog the hostess. The program will in\nclude roll call-quotations from Artemus\nWard; paper, Life and Works of Arte-\nmus Ward, by Margaret Baker; reading,\nElegy-written in Spring, by Mrs. Sadie\nV. Martin.\n\n\nThe proceeds of the dinner served on\ntown meeting day by the W. R. c. will\nbe added to the Soldiers Monument\nFund which that society is raising. A\nlarge patronage for so worthy an object\nis hoped for.\n\n\nMiss Josephine Waldron OF Portland\nhas been the guest of her cousin, Miss\nMildred Mclean, for few days.\n\n\nMrs. Alma Hartman entertained the\nSorosis Club Saturday evening, Feb.\n20. b, it being surprise party for Miss\nJennie Mann. Supper was served and\nthe meeting much enjoyed. The mem\nbers of the club presented Miss Mann\nwith handsome water color of the lake\nroad and lake.\n\n\nMrs. Ella Knightly is suffering from a\nbroken wrist, the result Of a fall on the\nice recently.\n\n\nThe annual Past Grands' Night Of Mt.\nHope Rebekah Lodge will be held Wed\nnesday evening, March 10th. The Past\nGrands of Mt. Pleasant Rebekah Lodge\nof South Paris have been invited as\nguests for the evening.\n\n\nMiss Helen Howe has been obliged to\ngive up her school because of poor\nhealth, and Miss Marion Smith Is SUBJ\nstituting for her.\n\n\nMrs. Alice Oxnard entertained her\nSunday School class at supper and for\nthe evening Wednesday.\n\n\nMrs. Ellen r. Stearns is the guest Of\nMr.. and Mrs. A. E. Stearns at Rumford\nfor a while.\n\n\nThe Young Married Ladies' Whist\nClub was entertained Wednesday even\ning at the home of Mr.. and Mrs. Ernest\nHutchins, Cedar Lodge Farm, 1t being\nsentlemen's night with twenty four\npresen. Those from the village were\nconveyed by Donald Andrews and a\npleasant ride was enjoyed despite the\nweather conditions. Refreshments Of\nfruit salad, sandwiches, olives, ice cream,\ncake and coffee we're served. The party\nbroke up at late hour after very\npleasant evening.\n\n\nA large number Of cellars had to be\npumped out during the rain OF last\nweek, and goods that were stored In\nthem bad to be moved to higher levels.\nIn one instance al ledSt uoTeos ouu hoBo\nthat had quarters in basement had to\nbe taken out on account OF the water.\n\n\nWildey Encampment, |. o. o. F., con-\nferred the Patriarchial Degree at the\nmeeting Friday evening, and at the next\nmeeting in two weeks there will be work\nin the Golden Rule Degree.\n\n\nNorway Lodge, o. o. F., will have\nrehearsal for the intatory degree Tues\nday evening in preparation for work ON\nclass on candidates which are soon to\ntake the degrees.\n\n\nA party Of about fifteen of those who\nhelp about the Opera House as ushers,\netc, went to the home of Eugene Libby\nSaturday evening and gave him very\npleasant surprise birthday party. Music,\nwhist and other amusements made the\ntime pass very quickly, and as the ami.\nversary of his birth did not occur until\nSunday, his friends remained until after\nmidnight to extend their congratu'a-\ntions.\n\n\nMrs. Jane Millett, an elderly lady who\nlives with Miss Ollie Woodsum, fell on\nthe ice recently and had the misfortune\nTo break her wrist."
        ],
        [
         "601",
         "8_1915-12-28_p6_sn85038485_0034058370A_1915122801_1019",
         null,
         "The Birmingham age-herald.",
         "1915-12-28 00:00:00",
         "glassless windows.\n\n This and more is the scene that this marvellous photo-play presents with the scourge of war, cruel war, devastation and waste, predominant. Yet out of it all, it's sorrow and it's misery, it's cruelty and it's shame, a nation is born!\n\n To me while the eerie ride of the Ku- Klux Klan, with it's thousand and one shrouded knights, staving on to ven- geance, and the Wagnerian call of the Valkyries, as they congregate to do their deadly work Cthat trumpet call is an opu- lent device of sound applied to the silent drama;'' no spoken word can duplicate it's thrilling cadences)-as I was about to say, even at that moment when the Ku- Klux Klan rides against @ red horizon, swift with uplifted embiems of vengeance which is a fine spectacular interval, to my mind the most artistic thing, real and photographic, in The Birth of Nation is the assassination of President Lin coin. There is a wonder work of action and stage management, with its irresist- ible attenuation of scenes, the audiences the play, the Presidents box the assassin, the everything as it should be-\n\n And~to think that the same mind-the marvellously powerful Griffith which con- ceived and produced 'The Birth of a Ma tion,\" almost immediately followed it with the Poe film, ''Tae Averaging Con- science\" running \"The Tell Tale Heart ' '.Annabel Lee,'' and \"The Black Cat into one spontaneous combustion, with MT. Henry Walthall doing even 8 finer and more artistice piece of acting. if pos sible than he has done in \"The Birth of a Nation\n\n sThe Birth of a Nation is compell- ing mile in \"movieland.\"\n\n It does not even need the uproar of"
        ],
        [
         "615",
         "7_1915-02-24_p8_sn88084272_00280765338_1915022401_0703",
         "To CATCH\n\n\nNIGHT RIDERS\n\nTennessee Sheriff Deputies\nAble Bodied Males; Mill\n\n\ntia May Be Called Out.",
         "El Paso herald. (El Paso, Tex.) 1901-1931",
         "1915-02-24 00:00:00",
         "Nashville, Tenn, Feb. IA majority\nof the able bodied men OF Lake county\nhave been appointed deputies under\nsheriff Hall and authorized to make\narrests to end the night rider outbreaks\nin that section. II that plan fails, Gov.\nRye, it is said, will order the militia\ncompany at Union City to proceed to\nTiptonville and place itself at the dis\nposal of sheriff Hall.\n\n\nFor the past week night riders have\ndirected their acts against the negro\npopulation in the neighborhood Of Titan\nand Phillippi, where many have been or\ndered to leave the country. A leading\nplanter in the vicinity, it is said, has\nbeen told to dismiss all Of his negro\ntenants.\n\n\nThe object of the night riders seems\nto be to drive negroes from that section\non the ground that they have been dis\neliminated against in the renting of\nlands to negroes."
        ],
        [
         "670",
         "8_1915-07-24_p8_sn83045433_00237288506_1915072401_0060",
         "BELMONT ENTRIES.",
         "The Washington herald. [volume] (Washington, D.C.) 1906-1939",
         "1915-07-24 00:00:00",
         "FIRST RACE-sellins: 2yesrold maidens; FIVE\nand one-haf furlongs. straight. 'Nollie. lG\nWizard. III: Doctor Fab. liz: Emily r.. 100: I'm.\nmune. ll2: Dorados. los; \"Tatiana. lN: Southern\nStar. lc9.\n\n\nSECOND RACE-Selling: 5yesr-olds and upward\nsiI furlouss. main course. Dinsh Do. los: Grumpy\n100: Frank Hudson, llS: San yesa. h: North\nlight. ia: Dengro 100; Striker. 10; Minstrel 100;\nMr. Specs. lla\n\n\nTHIRD RACE-Gentlemen Riders; 3year-olds\nand upward: high weight handicap; selling: mile.\nDoublet, ia; George Emo. III: Harmon Pass. 10:\nLittle Nearer. is: Starr and Stripes. ID; Perth\nRock, rs.\n\n\nFOURTH RACE-The Empire Handicap; Syear-\nolds and upward: & 500 added mile and one-eishth.\nRoamer. -: Hodge. ia: Gamer. 100; Buckhorn.\nia: FIsnny. 100: Addie NJ. %; Sam Jackson. los.\n\n\nFIFTH RACE-The Floral Park steeplechase:\nselling; +year-olds and upward: about two miles.\nDixon Park. 81; senesambian. IT: Little Hugh.\nIL; Shannon River. i6; 'Old Salt. Id: Elbart, II.\n\n\nSIXTH RACE-SellinG; 2year-old maidens; Eve\nfurlo1gs. straight Ball Band. lol; Chivator 100:\nEdith Olga. 100: 'MaEzie Ounce lo4; Nine. Hesf-\nmann. 100: PUSSY WILLOW. los: st. Isidoe. 10;\nReclu,e. III; Flsd Day. 10.\n\n\nsAprrentics Allowance clatUod"
        ],
        [
         "698",
         "53_1915-04-29_p6_sn2001063112_00415624736_1915042901_1170",
         null,
         "The Mitchell capital. (Mitchell, Dakota [S.D.]) 1879-1918",
         "1915-04-29 00:00:00",
         "by Miss Helen Gross; and n vocal solo\nby Harold Smith. During the even\ning, music was furnished by Fur\nmans orchestra. Guests present other\nthan the class members were, DIR.\nand Mrs. w. G.. Seaman DR.. and Mrs.\nErnest w. Burch, Mr.. and Mrs. s. ID.\nvan Benthnysen, DIR. ]. w. Hancher\nand Mics Cara Black. of Parker.\n\n\nThe junior-senior banquet is one\nOF the annual affairs of the nniver-\nsity, being given each year by the\njunior class. The occasion is always\nlooked forward to IA the most i'm\nportant social event In the junior and\nsenior years in college.\n\n\nTHE SOCIETY CIRCUS.\n\n\nThe 'Soclety Circus\" under the\nauspices OF the s. Mary's guild, as\nsisted by a advisory board consist\nIng Of Mrs. w. A. Heimberger, chair\nman, Mrs. Sid w. Smith, MRS. F..\nb. Barnett, Mrs. +. ]. Morgans and\nMrs. J.. d. Anderson. president of the\nguild will open at the city hall aud\nit0rium on Friday next,\n\n\nPreliminary to the show under the\n.sbig top\" d grand parade Will appear\non Main street, beginning promptly\nI'D z .3O o'clock In the evening, UNI\nder the direction Of Col, Jack Porter\nring master. At Sis q program of\nspeeiaities will be given by the Red\nline Opera troupe, Mesdames. Rob-\nert Burns and II. j. Blair, managers.\n\n\nSome OF the chief attractions are\n.\"Tile Wild West Show\" Thrilling\nBear Back Riders, 7\" THE Famous\nTedline Troupe\" \"Monsig ca;ruso','\nsn'Japanese Maidens.'' \"The Aesthe-\ntic Dancers, I 1.-THE Ringing Clowns\"\nThe Beautiful Masked Lady\" 1.-THE\nAnna Held, Lillian Russell, Billy\nRichie, Charles Chaplin and others.\n\n\nWith this company are many other\nside shows. The exhibition Of wild\nanimals, freaks. fortune tellers and\nsnake charmers will be under the di7\nrection Of Mesdames. Metcalfe, Her\nBoyles, Baughman. Smith and Por-\nter and Mrs. Charles Fowler, Three\nOF the leading feature will be the\nMcGinty dance, cane ringing and\nKangaroo court directed by Mcsdames\nr.. d. Barnettand Maybelle Anderson\nand the Judge OF thescourt.\n\n\n.rlhe p~ostoifice will have letters and\nr DdEGGI JUS Ia DS'S'\nMRS. Frank Shepherd will be post\nmistress. with four deputies. The art\nmuseum will contain curioaitics gath\ncred from the u. S. and many foreign\ncountrIes, Mrs. Francis Kear, man\nnger. y\"\n\n\nThe Dutch village will serve strict\nliz Dutch yiands, prepared in a man-\nner that will arouse the appetite at\n& !. u>~,n Nfrr r N Ay,inrcnn Z MlGa\nII. r.. Wallersteadt and ten Dutch\nma,dens.\n\n\nThe Oriental tent, a cozily ar\nranged affair. a place to snip your\ntea and chocolate. will be In charge\nOF Mesdames. Wilson, Radclife ana\nCaDh. with assistants. ISL.\n\n\nThe Lemon Squeeze\" will serve\ntho delicious circus Red Lemonade,\nwhere you also can get q prize for\nthe greatest number of seeds In the\nlemon you select. 1t will be directed\nby Meadames. Dawson, Boyce,\nterrified and Beckwith.\n\n\nThe Altar guild, Miss Jeannette\nSmith. manager, will serve home\nmade candles, pop corn and pen nuts.\n\n\nPUPILS GIVE RECITAL.\n\n\nAbout atty guests gathered in Miss\nDora Buffers studio last Saturday\nevening to listen to u song recital\ngiven by pupils of Mrs. w. G. Brack-\ncit. The occasion was one OF great\nenjoyment to all present.\n\n\nThe different nnmhers we're given\nwith an ease and beauty of tone\nquality throughout. which Shove\nconscientious work on the part OF the\nnupils. and reflected great credit up\nON their teacher. Mrs. Bracket n\nMiss Helen Powers assisted at the\npiano.\n\n\nFollowing is the program:\n\n\n4. with Verdure Clad Hayden\ns. Calm AS the Night Bonn\n\n\nMiss Terne l.. Medley.\n\n\nDuet. .The Land OF the Swallows\n\n\n....F. Mosini\nMrs. j. A. Erler and Mrs. r. G. Raines\n.Somewhere a Voice is calling\"\n\n\nMiss Anna Reichltng.\n.Goodbye\" ...........Tos ti\n\n\nMiss Florence C~harlesworth\nIl. s.Truc Liebe\" $3.50. Volksiied\nb.. \"The Rosary\" .... NeVlh\n\n\nMrs. II. Widmann.\n\n\ns.The Spirit Flower\" Campbell Upton\ns.The Villenelle'' .... De Acqua\n.shadows.. .... Carrie Jacobs Bond\n\n\nMiss Black\n\n\nssThe swallows\" CoWen\n\n\nMiss ellCharlesworth\nDuet. \"Hark to the Madoline'.\n\n\n1872. Parker\n\n\nMrs. Erlcr and Mrs. Raines.\n\n\nMRS. BROCK HOSTESS.\n\n\nMrs.T.sO. Brock was hostess to the"
        ],
        [
         "753",
         "25_1915-04-24_p11_sn84020558_00202196135_1915042401_0070",
         "MASTER KEY ATTRACTION",
         "Arizona republican.",
         "1915-04-24 00:00:00",
         "The seventh episode of the Master Kay\" will prove quite an attraction for this evenings motion picture show at at opera house. A second double reel feature. \"A Lucky Deception and single reel The Masked Rider\" makes full program of five reels."
        ],
        [
         "766",
         "5_1915-08-10_p6_sn85058246_00206536287_1915081001_0738",
         null,
         "The Logan Republican. [volume] (Logan, Utah) 1902-1924",
         "1915-08-10 00:00:00",
         "as Arthur suddenly wheeled his horse\nand drove 1t to the far end of the\ngrand stand and up the lower stairs\nand right In among the spectators.\n\n\nWhen the horse reached the center\naisle, the crowd in panic breaking the\nseats and benches as they gave way\nbefore horse and rider, Arthur turned\nthe gallant Starlight up this central\npassage, waved to Esther and Hagar\nas he Numbered by, then, breasting his\nhorse at the back rail of the stand, he\nplunged with Starlight down from the\nback of the stand to the ground, some\nfifteen feet below.\n\n\nNever had such wild feat of horse\nmanship been beheld in Fairfax. home\nof wild riders.\n\n\nAS with one accord the panic passed\nand tumut of curiosity succeeded.\nMen and women who had shrunk in\nalarm from the hoofs reverberating\nstand now rushed In one accord up the\naisles and over the benches and In\nwonderment beheld steed and rider.\nthe dizzy leap made In safety, disap.\npearing In the distance.\nAmong those who had rushed up the\nnisle were Mrs. Judge Stanley's party\nand Hagar and Esther. AS the gallant\nhorse and rider disappeared in cloud\nof dust down the road Vivian Marston\nturned and, with heaving breast and\n| flashing eyes, openly voiced her ad-\nmiration.\n\n\n\"There Is man.\" she cried, 'who is\nworth n woman's whilew\nEsther shrank back at the words,\nspoken, as It seemed, to her. She felt\na chill at her heart, and from that mo.\nment she realized that this woman had\ncrossed her path in life and Arthurs\nlike some baleful and yet beautiful\nserpent.\n\n\nThe mounted knights charged through\nthe gateway in pursuit. The sheriff,\ntossing the key of the handouts to\nBlair, had gained his horse and had\nfollowed after the pursuers.\n\n\nShielding and hiding the dangling\nhandcuff as best he could, for in his\nnervousness he could not open the lock\nupon his wrist, Blair cursed Quabba\nthe grinning hunchback organ grinder,\nand rejoined his mother and her\nfriends.\n\n\nHe had loosened the handcuff al\nlast, but the hooking Vivian had In\nsisted It be retained as souvenir OF\nwhat she termed \"the leap Of the white\nknight\"\n\n\nSO ended the last masked tourna\nment of the knights of Fairfax, and\nthe excited dowagers and maiden'\nwere driven to their homes recountine\nthe exciting events of the day, while\ntheir husbands, brothers and fathers\nwho had come on horseback, We're fal\non their way in hot pursuit OF thu\nfugitive.\n\n\nThe day had been too much for Ny\nBurton Randolphs poor nerves, ~\nshe expressed II. She regarded he\nFairfax relatives with smoldering AMI\nmostly.\n\n\nWhat had the Fairfax Stanleys don,\nbut break up her ball In Richmond witt\nshameful attendant nOtoriety? Ant\nnow when she had come to Fairfax Il\nforgot another horrid contretemps ha'\noccurred to further rack her alread."
        ],
        [
         "767",
         "12_1915-08-10_p6_sn85058246_00206536287_1915081001_0738",
         "By ROY L.. Mo CARDELL\n\nshattered nervous system.",
         "The Logan Republican. [volume] (Logan, Utah) 1902-1924",
         "1915-08-10 00:00:00",
         "shattered nervous system.\nShe resolved to return to Richmond\nand seek seclusion and. II possible, for\n| getfulness there.\n\n\nSome twenty miles away the Montl.\ncero nunr was RANG TO hounds. Tho\nMonticello hunt, a rival social organ.\nlzstion of the next county, made 1t\n| point to hold n fox hunt always upon\nthe day that the elite of Fairfax cOun-\nty held their masked old time tourna\nment. If you were socially prominent\nin Monticello you must consider that\nno such thing as the Fairfax tourna.\nment ever took place. In turn. the old\nfamilies Of Fairfax likewise ignored\nthe Monticello hunt with its throng of\nfox pursuers.\n\n\nArthur's daring and dramatic escape\nhad given him considerable lead over\nhis pursuers. This lead he increased\nconsiderably. and he had quieted Star\nlight TO less strenuous pace on an I'M\nfrequented road some fifteen miles\nfrom Fairfax when he beheld the Mon.\n|\nold dog fox crossing the fields some\nseveral hundred yards ahead. Starlight\nwas an old fox hunter.\n\n\nReused to renewed life and his IA\ntigue passing from him at the baying\nof the hounds and the crying of the\nhuntsmen, Arthur's no longer faded\nhorse turned briskly from the road and\nmade after the chase.\n\n\nArthur let Starlight follow his bent,\nnoting that the way he was taking\nacross the fields was shorter route\nto the safety and shelter of the Smith\nfarm.\n\n\nA small colored boy driving frac.\ntious pig beheld with mucl interest\nand some alarm the travel stu y / man\nand the horse join In the fox chase rs\nhe had drawn to the side of the road\nto let Arthur pass.\n\n\nThe colored lad had been nearly\n\n\nbowled over by the hunt stirred Star\n\n\nlight when that eager animals legs\n\n\nhad encountered the rope which was\nattached to the hind leg Of the frac'\n\n\ntious pig.\n\n\nJust ahead of him, I'm hollow at the\nbottom of the field by sunken fence\n\n\nArthur beheld the last Of the hunts\nmen make a leap upon his horse, only\nto come nasty cropper and to lay II\nhuddled heap. strangely still, agains\nq storm felled old tree.\nThe hunters horse stopped with az\nabrupt jerk as the fallen relns caught\n} and held him tightly by one Of tt\n, gnarled branches.\n\n\n, Arthur rode over and dsmounted\n} The hunter was dead, his face bruised\n\n\nand disligured where it had struck thu\nlog, breaking his neck.\n, Then Arthur remembered the coloreC\n\n\nboy with the pig and the pursuit tina\nhe had outdistanced. The colored DO.\n. would tell which way he had gone\n4 He had been a fool to leave the high\nway.\n\n\nJ Then wild idea seized Arthur Thi\n2 man was dead and beyond all aid. Ill\n, hurriedly changed his coat with 1t\n: white scarf, and his plumed hat TO\n}. the red hunting jacket and velvet ca\n\n\nof the dead fox hunter.\ne Then, engaging the bride of Star\nlight to the gnarled linz from whic\nt he had released the oId hunter\nl horse, he changed his mount and can\nq tered away.\n\n\ni When Sheriff Swain and his posse o\n: tournament riders reached the scene\n\n\ndirected by the coored boy with tn"
        ],
        [
         "768",
         "15_1915-08-10_p6_sn85058246_00206536287_1915081001_0738",
         null,
         "The Logan Republican. [volume] (Logan, Utah) 1902-1924",
         "1915-08-10 00:00:00",
         "struggle below them, Esther and IIa,\ngar had forgotten the sting of the hu.\ninitiation they had been subjected to\nIn being stlubbed and ignored by Mrs.\nLamar Stanley, her cousin, Mrs. Ran.\ndolph, the society leader fro Q Rich.\nmond, and Vivian Marston just at the\nmoment when Arthur as the masked\nvictorious knight had come to crown\nfair Esther.\n\n\na wild cry rose in unison from the\ncrowded stand. and men, women and\nchildren arose excitedly and shrieked"
        ],
        [
         "797",
         "14_1915-10-30_p8_sn85049554_00295876992_1915103001_0581",
         null,
         "Evening times-Republican. [volume] (Marshalltown, Iowa) 1890-1923",
         "1915-10-30 00:00:00",
         "Many social affairs turnout the city\nFriday night ushered in the Hallowe er\n\n\nseason. The largest was reception\n\n\ngiven by the teachers of the Ansor\n\n\nschool to the patrons of the district\n\n\nThree church societies observed the\n\n\nvigil of All Saints day, and tonight\n\n\nwill be seen another general observ-\n\n\nance of the eve that falls this year or\nSunday\n\n\nTwo hundred people We're in atten-\n\n\ndance at the pleasing south side af-\nfair, which was held at the school\n(, house. The guests were received be-\n\n\ntween the hours of 1880 and 10 o'clock\nand pleasant evening was spent in\nformally with the usual Halloween\ngames and pastimes. The spacious\nhalls and different rooms were attrac-\ntive with their decorations of jack\no'lantern. pumpkins. corn stalks, black\n/ and yellow cats. bats, and witches.\nDuring the evening an enjoyable pro-\ngram included musical numbers and\n| readings. A piano solo was played by\n! Thomas Haines: Mrs. c. A. Boggie\n! gave a whistling solo, and Mrs. Mar\ngaret Henderson two readings. Miss\nElizabeth Wellemever sang two songs.\nand flute solos were given by Joseph\nEldridge. At the close OF the program\nrefreshments were served\n\n\nThree Church Affairs.\n\n\n! Fifty young people. members of the\n. B. Y P. U. and the Monday Night\n! Club of the Baptist church. enjoyed a\n! Halloween party at the church. Hal\n! lowe'en decorations added to the ef-\nfectiveness of the affair and games\nD = no\nevening The feature of the party was\nghost wedding which created much\nI fun. The young people attended the\nparty in masked costumes and appro-\n( pirate refreshments were served dur\nI ing the evening.\n\n\n| At the Central Church Of Christ the\nmembers Of the Young Peoples So\nctety Of Christian Endeavor enter\ntanned the young people Of the church\n| at a corn jubilee. Cutler McGrew. as\nUncle JOSH received the guests, who\nnumbered fifty The rooms were dec\norted with corn stalks. Halloween\ngames and contests We're enjoyed, in\nwhich were a corn guessing contest\nand corn husking bee Miss Katherine\nLands sang a group OF songs and Will\nFenner gave reading. From a ''mys-\ntic bowl partners were matched for\nhike around few blocks after which\nrefreshme were served by a social\ncommittee.\n\n\nAnother interesting Halloween party\nVAS given az the Presbyterian church\nby the Y P. S. c. E. the hostesses\nfor the evening being Mrs. Glen Rey-\nnolds and Misses Katherine Bash.\nMarie Painter, Lillian Perrin, Frances\nDobson. Eva Savage, Mary Helen\nKetchum. and Alice Crawford. The\nrooms were attractive with corn stalks\nand jack-o'lanterns and Halloween\ngames and contests. including fortune\ntelling, were enjoyed by the young\nfolks During the evening refresh\n| ments were served by the hostesses.\nOther Parties.\n\n\nMembers OF the Needlecraft Club\n| entertained their husbands at a Hal\n! lowe'en and hard times party at the\n| home of Mr. and Mrs. George Wheat.\n/ sol North First street. Yellow and\nblack prevailed in the decorations in\n/ the rooms In an apple bobbing con-\ntest Ivan Hurto was awarded the prize\n| and in a guessing contest Ralph Wild\n4 man received a prize. Other games\nwe're enjoyed and several piano num-\n! hers were given by Miss Carrie\n:\n/ was served\n\n\nI Bertha Hoes. daughter OF Mr.. and\n| Mrs. Fred Hoes. 405 North First street,\n/ entertained fourteen Of her girl friends\nat a Halloween party Friday evening.\n| Games furnished the entertainm ent\nand the Halloween decorations were\nused about the rooms In serving re-\nfreshments Mrs. Hoes was assisted by\nher daughter, Miss Maude Hoes\n\n\nMaxine Pitcher, the little daughter\nof Mr.. and Mrs. George Pitcher. 105\nEast Church street. entertained TWEEN :\n! ty Of her friends at \"wienie roast\"\n\n\nin the back yard, after which a dessert\n\n\ncourse was served in the house Jack\n\n\no'lanterns and ghosts\" decorated the\n\n\nrooms and various Halloween games\n\n\nwere played by the little folks during\n\n\nthe early evening hours.\n\n\nMembers Of the Glover Club were\n\n\nentertained at the home Of Mr.. and\n\n\nMrs c. E. Forkner. SO East Church\n\n\nstreet The hours were enjoyed so\ncially, and in guessing contests prizes\n\n\nwere awarded to Mrs p. l.. Johannsen\n\n\nand r. W. Powell. and the consola-\nlions to w. o. Rutherford and A. n\nSmith Refreshments we're served dur\ning the evening.\n\n\nAn enjoyable evening was spent\n\n\nwhen the members Of st. Mary's alum\n\n\nnj entertained at Halloween and\n\n\ncrildren's party in the Knights OF\nColumbus hall The members and theil\n\n\nfriends. fifty in number. attended the\n\n\naffair dressed as children and happy\n\n\nevening was spent with games ant\n\n\ndancing. The hall was appropriated!\ndecorated and refreshments were\n\n\nserved during the evening.\n\n\nMiss Mildred Field, 112 Nortf\n\n\nTwelfth street, was hostess at Hal\n\n\nlowe'en party at her home, where sht\n\n\nentertained several friends. voca\n\n\nsolos were given by Edward Dunn and\n\n\nWilliam Nolan, and in games played\n\n\nprizes were awarded to Miss Cece1is\n\n\nClark and Leo Dervin. Assisted by\n\n\nher mother the hostess served refresh\n\n\nments.\n\n\nLUTHERAN YOUNG PEOPLE MEET\n= Ara a;aAA NV 0asSA1 IS 0l~aa~a Al"
        ],
        [
         "816",
         "6_1915-11-24_p6_sn86090369_00279520865_1915112401_0854",
         "MISSOURI COUNTY IS\n\n\nUNDER ARMS TO-DAY\n\nMORE TROUBLE Is FEARED As\nRESULT or BATTLE WITH\n\n\nNIGHT RIDERS.\n\nOne Detective Was Wounded in Fight\nLast Night and IL Is Believed\nSome of Attackers We're\n\n\nHit.",
         "The Waxahachie daily light. [volume] (Waxahachie, Tex.) 1894-current",
         "1915-11-24 00:00:00",
         "CHARLTON. Mo. November ~.\n\n\nNew Madrid county is under arms\ntoday as result OF night rider at\ntacks which eliminated in a battle\nlest night between six detectives bar\nrleaded in shanty In swamp and\nthirty night riders.\n\n\nJohn Matthews. one Of the de-\n9eetiyes. was slightly injured and il\nis believed a number OF the attackers\nwe're hit.\n\n\nNine men are under arrest today.\nSeven are at New Madrid, one 8,\nMaiden and one at Alden.\n\n\nPractically all citizens are armed\nin fear of q repetition OF the trouble."
        ],
        [
         "846",
         "7_1915-10-31_p3_sn84024827_00211106086_1915103101_0418",
         null,
         "Bisbee daily review.",
         "1915-10-31 00:00:00",
         "lowe'en party on Friday evening at\nthe church. The interior was decor\nated with the Halloween lanterns,\nwitches and other decorations that go\nwith Halloween. The guests were\nmasked i'm sheets and pillow slips and\nother fancy costumes. There was the\nfortune teller, the fish pond, and the\naeroplane for the amusement of the\nguests. Doughnuts and COTE were\nserved at the conclusion of the enter\ntainment.\n\n\nThe Knights of Columbus Hall was"
        ],
        [
         "880",
         "3_1915-11-03_p7_sn83016689_00414218635_1915110301_0614",
         "YPSILANTI",
         "The Detroit times.",
         "1915-11-03 00:00:00",
         "The Normal Senior class met Tues\nday afternoon In Normal hall and\nelected the following officers: Vice\n!anti; sccretary. Miss Florence Mar\nTin. Corunna: treasurer, Thomas\nClayton. Beileville; assistant treas4r-\nerr Miss Mica Roode; Newaygo; yen\nMass; yell master. James Jameson.\nDarling, Ohio: sergeant-at-ar Va\nlois Crossley. Ypsilanti. The presi-\ndent, Ethan b Quincy. OF Owosso,\n\n\nThe case Of Solomon Bow vs.. r. T.\nBessimer. which is damage suit\narising over the removal Of q house.\nhas been adjourned until Nov. 10. The\n\n\nTwo N. c. r. r. freight cars loaded\nwith sheep were wrecked Tuesday\nnear WARDS crossing. Twenty-Five\nsheep were killed. 4 broken draw\n\n\nFrank zimm SaTss OF through Mo his at\ntorney. Mayor Lee \". Brown. has filed\nsuit for divorce against his wife,\nMay Zimmerman.\n\n\nand 'G Ypsan o OF the A1 Christian hfHSr\nTemperance Union will be held next\nTuesday afternoon In the parlors OF\nthe M. +: church. A supper will be\nserved with the following acting as\nLeland, Mrs. Everett W. Wizard, Mrs.\nKate Allan, Mrs George Strong and\nMrs. William knight\n\n\nNo site has been accepted as yet\nby the city council for the hospital\nwhich IL to be built from the Boyer\nlegacy. The following four offers\nhave been received One at the COR\nner OF Michigan and Summit sts.. sub\nmitted by J. u. Lawrence for Mrs.\nwhitford and Mrs. l.. ]. Kitchen. The\nprice IN $500. Charles II. Newton Of\nfers a lot at No. 1Ss South. Grove st.\nfor $1,000. Frank r.. Worden offers\nhis property on Chicago ave-. and\nfronting on Summitt-st.. for $500, The\npect-stc 10 offered at $4,000.\n\n\nMrs. Ella Fuller, president OF the\nWillis and Derbyshire w. C. T. u. will\nbe one Of the speakers Thursday af-\nternoon at the thirty-seventh annual\nconvention of the county association\nin the Congregational church In Chel-\nsea. On Friday morning paper Will\nbe read by Mrs Chester Alban."
        ],
        [
         "912",
         "9_1915-05-01_pNone_sn88076013_00199917912_1915050101_0653",
         "SIXTH EPISODE",
         "The Dickinson press.",
         "1915-05-01 00:00:00",
         "SIXIH EFISUUE\n\n\n\"The Vampire\"\n\n\nKennedy went the next day to the\nDodge house, and, as usual, Perry Ben\nhett, Elaine's lawyer. was there in the\nlibrary with Elaine, still going over\nthe Clutching Hand case in their en-\nheavor to track down the mysterious\nmaster criminal.\n\n\nBennett seemed as deeply as ever\npn love with Elaine. Still, as Jennings\nhdnitted Craig 1t was sufficiently evil\ndent by the manner in which Elaine\nleft Bennett and ran to greet Craig\nfhat she had the highest regard for\nhim.\n\n\nI've brought you little document\nthat may interest you,,\" remarked Ken\nhedy, reaching into his pocket and\npulling out an envelope.\n\n\nElaine tore it open and looked at\nthe paper within.\n\n\n\"Oh, how thoughtful of you'll\" she\nExclaimed in surprise.\n\n\n1t was apermit from the police made\nput in her name allowing her to car\nFy revolver.\n\n\nA moment later, Kennedy reached\ninto his coat pocket and produced a\nlittle automatic which he handed to\nher\n\n\nThank you,\" she cried, eagerly.\n\n\nElaine examined the gun with inter-\nPst, then, raising it, pointed it play\nfully at Bennett.\n\n\n\"Oh, no, no.\" exclaimed Kennedy,\nbaking her arm quickly and gently, de-\ndecting the weapon away. you\nmustn't think it is toy. 1t explodes\nat mere touch of the trigger-when\n&at safety ratchet is turned\"\n\n\nBennett had realized the danger and\nW. AS he did so, he bumped into a\nsuit Of medieval armor standing by\nehe wall, knocking 1t over with re-\nbounding crash.\n\n\nIl beg PARDON\" he calculated, I'm\nvery sorry. That was very awkward\nbf me-\"\n\n\nJennings, who had been busy about\nChe portieres at the doorway, started\neo pick up the fallen knight.\n\n\n\"Too bad, too bad\" apologized Ben.\nnett profusely. Il really forgot how\nDlose I was to the thing\"\n\n\n\"Oh, never mind\" returned Elaine,\nD little crestfallen, 1T is smashed all\nF1ght-but it was my fault. Jennings,\nsend for someone to repair it.\"\n\n\n1t was late that night that a masked\nagure succeeded in raising itself to\nthe narrow ornamental ledge under\nElaine's bedroom window\n\n\nElaine was light sleeper, and, be.\ngides, Rusty, her faithful collie, now\ngully recovered from the poison, was\nI'm her room.\n\n\nRusty growled and the sudden noise\nawakened her.\n\n\nStartled, Elaine instantly thought OF\nthe automatic. She reached under her\npillow, keeping very quiet, and drew\nforth the gun that Craig had given\nher. Stealthily concealing her actions\nunder the covers, she leveled the auto.\nmatic at the figure silhouetted in her\nwindow and fired three times.\n\n\nThe figure fell back.\n\n\nDown in the street below the as\nDaatant of the Clutching Hand who\nhad waited while Taylor Dodge was\nelectrocuted. was waiting as his con.\nSederate, pitts Slim\"-which indicat.\ned that he was both wiry ia stature\nand libelous in delegating his nativity\nmade the attempt.\n\n\nAS Slim came tumbling dows2, hav.\ning fallen back from the window above\nmortally wounded, the confederate lift\ned him up and carried him out of sight\nhurriedly.\n\n\nElaine, by this time, had turned on\nthe lights and had run to the window\nto look out. Rusty was barking loud.\n1y.\n\n\nIn side street near by stood watt\nmt automobile, at the wheel CO which\nsat another of the emissaries of the\nClutching Hand. The driver looked\nup, startled, as he saw his fellow\nhurry around the corner carrying the\nwounded \"Pitts Slim\" It was the\nwork Of Just moment to drop the\nwounded man, as comfortably as pos\nBible under the circumstances, in the\nrear seat, while his pals started the\ncar of with jerk in the hurry of es.\ncape.\n\n\nJennings, having hastily slipped his\ntrousers on over his pajamas, came\nrunning down the hall, while Marie,\nfrightened, came in the other direc.\nton. Aunt Josephine appeared a few\nseconds later, adding to the general\nexcitement.\n\n\nwhats the matter?\" she asked,\nan1ious]y.\n\n\n\"A burglar, 1 think\" exclaimed\na8laine, still holding the gun in her\n"
        ],
        [
         "919",
         "23_1915-04-15_p1_sn86063730_00332894559_1915041501_0076",
         "Seven Missourians Are Indicted.",
         "Brownsville herald. [volume] (Brownsville, Tex.) 1910-current",
         "1915-04-15 00:00:00",
         "cape Girarlcau Mo- April Nm The\nfederal grand jury to day indicted\nseven mru iu connection with night\nrider activities u tins section"
        ],
        [
         "927",
         "14_1915-07-23_p2_sn89058253_0041562189A_1915072301_0226",
         "NIohtrlders plead Guilty.",
         "The Fayette falcon. (Somerville, Tenn.) 190?-current",
         "1915-07-23 00:00:00",
         "Clarksville.-When the nightrider\ncases were called at Dover the follow\ning defendants pleaded guilty to the\nfourth count in the indictments which\nis a misdemeanor: Willard Robinson,\nJohn Terrell, Raymond Lancaster, Lon\nLawrence, Ode Terrell, Herbert Cato,\nHop steppe. Jesse Cohoon, Hanson\nGarden, Claude Cohoon, Dave Kenne.\nda, Sam Stalls and Holly Trauber.\nThis plea carries with 1t fine of $40\neach, six months Jail sentence, both\nfine and sentence being suspended in\neach case during good behavior."
        ],
        [
         "952",
         "14_1915-08-04_p8_sn82014086_00295866007_1915080401_0324",
         null,
         "Norwich bulletin. [volume] (Norwich, Conn.) 1895-2011",
         "1915-08-04 00:00:00",
         "In addition to the big Keith vaude-\nvile act, Captain Kidder & Co. who\nare making a big hit with their beau\ntiful singing sketch, there will be a\ncomplete change of photoplays at the\nDavis today, and there will be three\ntwo-reel features shown. The sixth\nchapter of The Diamond from the Sky\nwill be the headl.Ee attraction in the\npictures, and this chapter is called\nShadows at Sunrise. The following is\na brief synopsis Of this weeks in\nstallment:\n\n\nHagar the gypsy mother, leases\nStanley hall. intent on restoring to\nEsther her birthright. Esther immedi-\nateIy becomes a social favorite. Then\ncomes the great Fairfax tournament.\nArthur Stanley as John Powell works\nas a farmland, learns of the approach\ning event He borrows his employers\nthoroughbred horse and, wearing a\nblack silken mask to hide his feaI-\nlures, he returns to ride in the races!\nThe masked rider wins highest honors\nand crowns Esther queen of love and\nbeauty\" Vivian Marston and Mrs.\nStanley ignore the honor bestowed on\nHagar's daughter Then Blair Stanley,\nin bitter cnagrin, betrays Arthur,\nwhom he recognized. In a moment all\nis confusion. He is Arthur Stanley,\nwanted for the murder of old DR.. Lee -\nis heard on every side as Arthur\nstruggles u1adiy with his captors. The\nsum of $4,000 is offered for the most\nsuitable suggestion for a. sequel to\nthis marvellous phoSoplay\n\n\nThe Floating Death is a powerful\ntwo reel X. +. drama, and there will\nalso be a special two reel Keystone\ncomedy called Dirty Work il Laun-\ndry, with Ford Sterling featured. This\nIs one Of the funniest of these popular\ntwo reel comedies and Ford never\nmade more laughs in all his life than\nhe does in this picture\n\n\nMatinee daily at 2.30, all seats 10c,\nchildren, &c. Evenings at and S.45,\n10c, 15c and zoe; and the coolest the\natre In the city."
        ],
        [
         "975",
         "10_1915-11-27_p10_sn87055779_00295872093_1915112701_0638",
         null,
         "South Bend news-times. (South Bend, Ind.) 1913-1938",
         "1915-11-27 00:00:00",
         "stroyed by fire. for the purpose Of\nmaking the drama complete, The\nreproduction of the interior Of\nFord's theater. Washington, on the\nnight that Pres't Lincoln was assasi-\nmated. is so splendidly executed that\non seeing il one is amazed at its ap-\nparent reality. 1t shows Wilkes\nBooth firing the fatal shot that re-\nmoved from earth the best friend\nthe south would have had had he\nlived. There are a series of wild\nrides by members of tins Klu KluX\nKhan. that for daring horsecHanship,\nspeed and artistic riding nave never\nbeen surpassed This is one of the\nmost thrilling scenes of the entire\npageant and brings forth, from every\nportion Of the house. most pro-\nnounced peals of approval and adj\nmiratiOn. There were utilized more\nthan $4,000 yards of materials with\nwhich dresses FOR the women, APP\npcaring in this spectacle, were made.\nThere were more than 10000 yards\nOF cloth consumed in making the\ncostumes worn by the Klu KluX\nriders. Night photography of battle\nscenes,-a new invention, is another\nof the amazing features of the af-\nfair. There are wonderful artillery\nduels in which real shells were used,\nnot mere make-believes but the\nreal thing. There are many miles of\ntrenches. and thousands of fighters.\nwar as it actually is. In addition\nthere is a musical score of 40 pieces.\nsynchrOnized to the several thousand\ndistinct and individual scenes.\nThere are 10000 feet of actual pho\ntOgraphy-the longest picture that\nwas ever taken. When measured in\nmagnitude The Birth of a Nation\ncan well be classed as a stupendous,\ndramatic and spectacular enterprise.\nby far the most pretentious that the\nbrain of man has visiOned and real\nlied"
        ],
        [
         "995",
         "6_1915-02-27_p6_sn86069395_00280763457_1915022701_0202",
         "Capt. Winfree's Medal.",
         "Hopkinsville Kentuckian. [volume] (Hopkinsville, Ky.) 1889-1918",
         "1915-02-27 00:00:00",
         "Capt. Ben S. Winfres has COM\npleted Is years of service in the\nState Guard and has received a\nbror re medal in acknowledgment Of\nhis long and faithful service. sent\nfrom the Adjutsnt Generals office,\nCapt. Winfree is an enthusiastic\nsoldier and is a vete an of the night\nrider campaign of seven years ago.\nHis father before him was soldier\nand the son is a thorough military\nman. courageous and loyal to his\ncountry."
        ],
        [
         "1012",
         "4_1915-04-29_p8_sn85052141_00202195064_1915042901_0441",
         "PHILLIPS BROUGHT BACK\nFOR NIGHTRIDER TRIAL.",
         "The Hickman courier. [volume] (Hickman, Ky.) 1859-current",
         "1915-04-29 00:00:00",
         "Jim Phillips, formerly resi-.\ndent of the lower bottom, and\nwanted here ON charge OF might\nriding, as a co-defendant with\nthirteen Others, who were tried IN\nJudge Stairs court here in the\nearly spring, was caught at a saw\nmill near Sharon, Tenn, Friday,\nand brought back to Fulton coun\n~ by Sheriff Huddleston.\n\n\nLon Binford, of Fulton, went\non Phillips bond Of $1,000 for his\nappearance at Hickman at the\nMay term of circuit court.\n\n\nConsiderable reference was mad,\nIN the preliminary trial 10 a fat\nman who is alleged TO have\nbeen in the raid when negro\ncabins ON the farms of w. Z,\nUpton, W. j. Harper and others\nwere shot into. Mr.. Phillips\nIs said to fit the description OF\nthe tat man in the ease. He left\nabout the time the trouble came\nto a head, but says he left in\nsearch of work.\n\n\nThe nightrider trial conducted\nby Judge Stair was one of un-\nusual interest. II will be thresh.\ned out again next week. The\ndefendants were held under\nbond."
        ],
        [
         "1036",
         "4_1915-11-03_p2_sn88061179_0017503383A_1915110301_1020",
         "Halloween Party For Miss\n\n\nAdelaide Petit.",
         "The Big Stone Gap post. [volume] (Big Stone Gap, Wise County, Va.) 1892-1928",
         "1915-11-03 00:00:00",
         "Miss julie Bullitt was the\nlovely hostess of beautifully\nplanned Masquerade Hallow-\ncen Party for the younger\nboys and girls at her home on\nPoplar Hill in honor of Miss\nAdelaide Pettit, Saturday night\nt.eight o'clock.\n\n\nThe whole lower floor of the\nhome was miniature forest,\nthe floor being occyered with\nautumn leaves, under which\nwere hidden chestnuts. In one\ncorner of the hall, shining be-\nhind the trees, was big\nautumn moon, which made a\nvery attractive setting for the\nyoung people.\n\n\nEach guest was masked and\nrepresented different charac-\nters. The hcnoree. Miss Ade-\nlaide Petit, represented Queen\nElizabeth Miss Eleanor Baker\nguessed correctly the masked\nguests and won the prize, box\nof candy.\n\n\nA ghost, which was Miss Jess\nMcCorkle, ushered the guests\nto the Hall of Mystery, where.\nat the end in n regular den, was\na witch, who told their fortunes.\n\n\nAfter many other interesting\ngames they were invited into\nthe dining room, which was\nbeautifully decorated in the\nHalloween Colors of orange and\nblack, the centerpiece of the\ntable being large bowl of\nfruit. Attractive place cards\nassigned the guests to their\nplaces at the table where Pump\nkin Pie, Orange Sherbet and\nCake were served.\n\n\nThose who were invited to\nattend this very delightful\naffair were; Misses Adelaide\nPetit and Kate Lewis Petit\nHelen Mccormick Bruce Skeen,\nDorthy Owens, Betty Reader,\nElanor Baker, Nitn Goodloe,\nMary Elizabeth Kelly, Clara\nMcCorkle, Louise Horsely\nIreland Wells, Juliet Knight,\nMargaret Barron, William,\nGordon, Edward, Tom and\nGeorge Goodloe, Isaac Martin,\nJUNIOR McCorkie, Clifford and\nReginald Smith William\nBeverly, Frank Parks, Rufus\nPetit."
        ]
       ],
       "shape": {
        "columns": 5,
        "rows": 8939
       }
      },
      "text/html": [
       "<div>\n",
       "<style scoped>\n",
       "    .dataframe tbody tr th:only-of-type {\n",
       "        vertical-align: middle;\n",
       "    }\n",
       "\n",
       "    .dataframe tbody tr th {\n",
       "        vertical-align: top;\n",
       "    }\n",
       "\n",
       "    .dataframe thead th {\n",
       "        text-align: right;\n",
       "    }\n",
       "</style>\n",
       "<table border=\"1\" class=\"dataframe\">\n",
       "  <thead>\n",
       "    <tr style=\"text-align: right;\">\n",
       "      <th></th>\n",
       "      <th>index</th>\n",
       "      <th>headline</th>\n",
       "      <th>newspaper_name</th>\n",
       "      <th>date</th>\n",
       "      <th>article</th>\n",
       "    </tr>\n",
       "  </thead>\n",
       "  <tbody>\n",
       "    <tr>\n",
       "      <th>57</th>\n",
       "      <td>4_1915-02-12_p2_sn90051300_00340586153_1915021...</td>\n",
       "      <td>NaN</td>\n",
       "      <td>The Elbert County tribune.</td>\n",
       "      <td>1915-02-12</td>\n",
       "      <td>The window was not more than fifteen\\nfeet abo...</td>\n",
       "    </tr>\n",
       "    <tr>\n",
       "      <th>58</th>\n",
       "      <td>27_1915-12-09_p1_sn84020558_00202196172_191512...</td>\n",
       "      <td>NIGHT RIDERS HELD\\n\\n FOR GRAND JURY</td>\n",
       "      <td>Arizona republican.</td>\n",
       "      <td>1915-12-09</td>\n",
       "      <td>NEW MADRID, Mo. Dec. S. Thirty three men accus...</td>\n",
       "    </tr>\n",
       "    <tr>\n",
       "      <th>117</th>\n",
       "      <td>8_1915-05-14_p3_sn84024927_00414215555_1915051...</td>\n",
       "      <td>SIXTH EPISODE</td>\n",
       "      <td>The Odanah star. [volume] (Odanah, Ashland Co....</td>\n",
       "      <td>1915-05-14</td>\n",
       "      <td>\"The Vampire\"\\n\\n\\nKennedy went the next day t...</td>\n",
       "    </tr>\n",
       "    <tr>\n",
       "      <th>131</th>\n",
       "      <td>1_1915-10-14_p8_sn91068415_00296023280_1915101...</td>\n",
       "      <td>BANDITS GET RICH\\n\\n\\nHAUL From TRAIN\\n\\n8. q ...</td>\n",
       "      <td>The review. [volume] (High Point, N.C.) 1908-19??</td>\n",
       "      <td>1915-10-14</td>\n",
       "      <td>Wheeling, W. Va.-Posses continue\\ntheir search...</td>\n",
       "    </tr>\n",
       "    <tr>\n",
       "      <th>133</th>\n",
       "      <td>13_1915-08-20_p2_sn99063957_00200294440_191508...</td>\n",
       "      <td>NaN</td>\n",
       "      <td>Daily capital journal. (Salem, Oregon) 1903-1919</td>\n",
       "      <td>1915-08-20</td>\n",
       "      <td>~ ~ rrrl. NJ. OIL. la\\nves,c,dsv nm business t...</td>\n",
       "    </tr>\n",
       "    <tr>\n",
       "      <th>...</th>\n",
       "      <td>...</td>\n",
       "      <td>...</td>\n",
       "      <td>...</td>\n",
       "      <td>...</td>\n",
       "      <td>...</td>\n",
       "    </tr>\n",
       "    <tr>\n",
       "      <th>144181</th>\n",
       "      <td>24_1944-09-01_p4_sn83016804_00393340526_194409...</td>\n",
       "      <td>Will Ku KluX Klan\\n\\n\\nRide Again? Writer\\nWon...</td>\n",
       "      <td>St. Paul recorder. [volume] (St. Paul, Minn.) ...</td>\n",
       "      <td>1944-09-01</td>\n",
       "      <td>lowing article is a member of the Hamline\\nMet...</td>\n",
       "    </tr>\n",
       "    <tr>\n",
       "      <th>144204</th>\n",
       "      <td>5_1944-11-04_p2_sn97063183_00414187730_1944110...</td>\n",
       "      <td>Calendar OF Social Events</td>\n",
       "      <td>The Ypsilanti daily press. (Ypsilanti, Mich.) ...</td>\n",
       "      <td>1944-11-04</td>\n",
       "      <td>\\nPvt Lawrence stOckdale the J.\\nMoore funeral...</td>\n",
       "    </tr>\n",
       "    <tr>\n",
       "      <th>144245</th>\n",
       "      <td>22_1944-10-13_p6_sn96060774_00414217539_194410...</td>\n",
       "      <td>NaN</td>\n",
       "      <td>Nogales international.</td>\n",
       "      <td>1944-10-13</td>\n",
       "      <td>WadSworth, John\\nWaggoner, Lawrence g.\\nWaggon...</td>\n",
       "    </tr>\n",
       "    <tr>\n",
       "      <th>144267</th>\n",
       "      <td>18_1944-10-27_p6_sn96060774_00414217539_194410...</td>\n",
       "      <td>NaN</td>\n",
       "      <td>Nogales international.</td>\n",
       "      <td>1944-10-27</td>\n",
       "      <td>Uribe, Geo. H.\\nUribe, Jose A.\\nUrquidi. Augus...</td>\n",
       "    </tr>\n",
       "    <tr>\n",
       "      <th>144289</th>\n",
       "      <td>15_1944-07-01_p6_sn83045324_00414188126_194407...</td>\n",
       "      <td>DETROIT'S FIFTH COLUMN</td>\n",
       "      <td>The Michigan chronicle. [volume] (Detroit, Mic...</td>\n",
       "      <td>1944-07-01</td>\n",
       "      <td>story appearing in the Atlanta Journal two\\nwe...</td>\n",
       "    </tr>\n",
       "  </tbody>\n",
       "</table>\n",
       "<p>8939 rows × 5 columns</p>\n",
       "</div>"
      ],
      "text/plain": [
       "                                                    index  \\\n",
       "57      4_1915-02-12_p2_sn90051300_00340586153_1915021...   \n",
       "58      27_1915-12-09_p1_sn84020558_00202196172_191512...   \n",
       "117     8_1915-05-14_p3_sn84024927_00414215555_1915051...   \n",
       "131     1_1915-10-14_p8_sn91068415_00296023280_1915101...   \n",
       "133     13_1915-08-20_p2_sn99063957_00200294440_191508...   \n",
       "...                                                   ...   \n",
       "144181  24_1944-09-01_p4_sn83016804_00393340526_194409...   \n",
       "144204  5_1944-11-04_p2_sn97063183_00414187730_1944110...   \n",
       "144245  22_1944-10-13_p6_sn96060774_00414217539_194410...   \n",
       "144267  18_1944-10-27_p6_sn96060774_00414217539_194410...   \n",
       "144289  15_1944-07-01_p6_sn83045324_00414188126_194407...   \n",
       "\n",
       "                                                 headline  \\\n",
       "57                                                    NaN   \n",
       "58                   NIGHT RIDERS HELD\\n\\n FOR GRAND JURY   \n",
       "117                                         SIXTH EPISODE   \n",
       "131     BANDITS GET RICH\\n\\n\\nHAUL From TRAIN\\n\\n8. q ...   \n",
       "133                                                   NaN   \n",
       "...                                                   ...   \n",
       "144181  Will Ku KluX Klan\\n\\n\\nRide Again? Writer\\nWon...   \n",
       "144204                          Calendar OF Social Events   \n",
       "144245                                                NaN   \n",
       "144267                                                NaN   \n",
       "144289                             DETROIT'S FIFTH COLUMN   \n",
       "\n",
       "                                           newspaper_name       date  \\\n",
       "57                             The Elbert County tribune. 1915-02-12   \n",
       "58                                    Arizona republican. 1915-12-09   \n",
       "117     The Odanah star. [volume] (Odanah, Ashland Co.... 1915-05-14   \n",
       "131     The review. [volume] (High Point, N.C.) 1908-19?? 1915-10-14   \n",
       "133      Daily capital journal. (Salem, Oregon) 1903-1919 1915-08-20   \n",
       "...                                                   ...        ...   \n",
       "144181  St. Paul recorder. [volume] (St. Paul, Minn.) ... 1944-09-01   \n",
       "144204  The Ypsilanti daily press. (Ypsilanti, Mich.) ... 1944-11-04   \n",
       "144245                             Nogales international. 1944-10-13   \n",
       "144267                             Nogales international. 1944-10-27   \n",
       "144289  The Michigan chronicle. [volume] (Detroit, Mic... 1944-07-01   \n",
       "\n",
       "                                                  article  \n",
       "57      The window was not more than fifteen\\nfeet abo...  \n",
       "58      NEW MADRID, Mo. Dec. S. Thirty three men accus...  \n",
       "117     \"The Vampire\"\\n\\n\\nKennedy went the next day t...  \n",
       "131     Wheeling, W. Va.-Posses continue\\ntheir search...  \n",
       "133     ~ ~ rrrl. NJ. OIL. la\\nves,c,dsv nm business t...  \n",
       "...                                                   ...  \n",
       "144181  lowing article is a member of the Hamline\\nMet...  \n",
       "144204  \\nPvt Lawrence stOckdale the J.\\nMoore funeral...  \n",
       "144245  WadSworth, John\\nWaggoner, Lawrence g.\\nWaggon...  \n",
       "144267  Uribe, Geo. H.\\nUribe, Jose A.\\nUrquidi. Augus...  \n",
       "144289  story appearing in the Atlanta Journal two\\nwe...  \n",
       "\n",
       "[8939 rows x 5 columns]"
      ]
     },
     "execution_count": 24,
     "metadata": {},
     "output_type": "execute_result"
    }
   ],
   "source": [
    "data[data['article'].str.contains('knight|rider', case=False, na=False, regex=True)]"
   ]
  },
  {
   "cell_type": "code",
   "execution_count": 19,
   "id": "66c0fc5b",
   "metadata": {},
   "outputs": [
    {
     "data": {
      "application/vnd.microsoft.datawrangler.viewer.v0+json": {
       "columns": [
        {
         "name": "index",
         "rawType": "int64",
         "type": "integer"
        },
        {
         "name": "index",
         "rawType": "object",
         "type": "string"
        },
        {
         "name": "headline",
         "rawType": "object",
         "type": "unknown"
        },
        {
         "name": "newspaper_name",
         "rawType": "object",
         "type": "string"
        },
        {
         "name": "date",
         "rawType": "datetime64[ns]",
         "type": "datetime"
        },
        {
         "name": "article",
         "rawType": "object",
         "type": "string"
        }
       ],
       "ref": "be46ffdb-c557-4736-a6d1-718492f47350",
       "rows": [
        [
         "7",
         "29_1915-06-11_p4_sn92070146_00414189465_1915061101_0638",
         "\"THE CLANSMAN\" TO\n\n\nDRAW BIG CROWDS",
         "Imperial Valley press.",
         "1915-06-11 00:00:00",
         "The advance sale of tickets fo~\n\"The Clansman,\" which opens a sea\nson at the Theatre Tulane tonight, in\ndicates crowded houses while this\ngreat film show is in town.\n\n\nToday members of the Ku KluX\nKlan paraded the strets, attracting\nwide attention."
        ],
        [
         "44",
         "10_1915-10-23_p17_sn83045211_00237287538_1915102301_0980",
         "WHAT MUSIC DOES FOR THE MOVIES,\n\n\nAND SOME THINGS IT MAY DO\n\nWithout Music Movie House Would Be Too Terrible\nto Sit In-Some Music Is Worse\n\n\nThan None",
         "Evening public ledger. [volume] (Philadelphia [Pa.]) 1914-1942",
         "1915-10-23 00:00:00",
         "HlHE first thing that ought to be said\n\n\nlabOut mrsic and the movies is that the\nmovies owe a lot to music, and 30 far\nmusic owes nothing to the movies. That\nis not a knock Music is old enough to\ngive away a little. and Il Is strong enough\nnot to need any help.\n\n\nLooking at pictures occupies only one\nsense-sight Now the intense stare which\nyou and give to the screen Is little\ntoo much for us. II picture were shown\nin dead silence. without any leaders. the\nsilence and the suspense would be unbear-\nable. We'd want TO get up and yell In\nsimplest terms. the music does our yell\ning for us.\n\n\nToo often that is literally true. The\nloud piano. the organ pushed to the ut\nmost, or the orchestra playing what the\ncritics might call a tutti. fortissimo, are\nall mistakes. because they distract from\nthe picture. But the well-regulated pro-\ngram, played by an intelligent accom-\npanist, is a necessitv to the success Of a\npicture\n\n\nI saw sfnteIligent .,,ompanist'' because\nthe music must be only an accompani-\nment and should never have special\npart of its own, except between pictures\nTo show what I mean. let me illustrate\nfrom a picture recently shown here, as\ncompared with a song recital The great\nsong writers have realized the position\nOf the piano and have subdued II at GER\ntain moments. let II sing out bravely at\nothers and sometimes carried along the\nfeeling of the song after the song is done.\nThey have also known the value OF let\nting the voice 20 Il alone. In The Iron\nStrain\" CTriangle) there was a tremen-\ndous scene between two girls concerning\na man. One of the girls was the mans\nwife the other a Tilted sweetheart As\nthe two fought with fists, tool. the\n\n\nmusic swept up, growing in volume and\n| IN effectiveness as the hght progressed.\n| Then the sweetheart broke free from the\nother girl and swung around with a mood\nof words. You could hear her talk. You\ncould feel the silence In the room as the\nman and his wife watched her, afraid\nto interrupt You knew what she was\n| saving and why she was saying IL. And\n| the total effect Of this whole scene was\ndue TO the fact that the music had\n\n\nstopped-stopped absolutely.\n\n\nOF course that was an exception.\nUsually you have to blend music and\naction, as Is done notably in The Birth\n| Of a Nation\" The choice Of old Southern\ntunes and Of Northern military tunes\nwas dictated by history more than by Mt\nness, although. they are all admirable.\nBut the use Of the Wallyrie music, from\nthe Nfbelungen Lied Of Wagner, is a pos\nlive inspiration. II is played whenever\nthe Klan Is shown flying over the coun-\ntryside. It stirs the audience uncon-\nsciously No one realizes that the music\nis helping the color and the action and\n| the plot TO excite him But the music\ndoes help.\n\n\nSome criticism OF the use Of 'In the Hall\nOf the Mountain King\" from the famous\nPeer Gynt suite, has been made. This\nmusic Is used in the scenes showing Pc\n\n\ntersburg and the burning Of Atlanta df\n\n\nmemory does not play me tricks). The\nonly answer is that IL the music fits II\n| ought to be. used. Probably more people\nwin associate the music with ''The Birth\nOF a Nation\" than with Ibsen's play.\nThe great danger OF music in the\n| movies is that IL tends to become stale.\nEvery time a bride is shown the accom-\npanist plays Here Comes the Bride\" :\"\n! EVERY time a queer hat appears you\nhear where Did You Get That Hat7\"\nIN the bass. Last year every love scene\n\n\nwent to the Partisan tune, ''Un Peu\n1 d'Amor'' ('.Just a Little Love. a Little\n\n\nKiss'0; and 50 on. That's a great pity,\nbecause the audience viii eventually get\ntired and because a fresh picture needs\nmusic to carry II over The life OF an\n\n\naccornpanist no doubt, is not a very\nmerry one although IL may be exciting\ntc watch Jack Dalton nine times a day\n\n\ncome within half an inch Of killing lit\n1 tie Mary Pickstein. The accompanist has"
        ],
        [
         "68",
         "9_1915-02-26_p5_sn85053024_00340581581_1915022601_0076",
         null,
         "The circle banner. [volume] (Circle, Mont.) 1914-1939",
         "1915-02-26 00:00:00",
         "achievement Of his was the assassina.\n\n\nton of the king and queen OF Por-\n| tugal. 1t was their wedding day. All\npossible precautions had been taken\n| against the terrorists, and the way\n| from the cathedral, through Lisbon's\n| streets, was double-banked with troops\n| while a squad of two hundred mounted\n| troopers surrounded the carriage. Sud-\ndenly the amazing thing happened.\n| The automatic rifles of the troopers\n| began to go off, as well as the rifles\n| of the double-banked infantry in the\n| immediate vicinity. In the settlement\n| the muzzles of the exploding rifles\n! were turned in all directions. The\n| slaughter was terrible-horses, troops,\nspectators, and the king and queen\nwere riddIed with bullets. To COM\nplicate the affair, in different parts of\nthe crowds behind the foot soldiers,\ntwo terrorists had bombs explode on\ntheir persons. These bombs they had\n\n\nintended to throw if they got the OPP\nportunity. But who was to know this?\nThe frightful havoc wrought by the\n\n\nbursting bombs but added to the con-\n\n\nfusion; it was considered part of the\n\n\ngeneral attack.\n\n\nAnd Emil Gluck chuckled and went\nhis way. He knew. But how was the\n\n\nworld to know? He had stumbled up\n\n\non the secret in his old electroplating\n\n\nshop on Telegraph avenue in the city\n\n\nof Oakland 1t happened, at that time,\n\n\nthat wireless telegraph station was\n\n\nestablished by the Thurston Power\n\n\ncompany close to his shop. In a short\n\n\ntime his electroplating vat was put\n\n\nout of order. The vat wiring had many\n\n\nbad joints, and, upon investigation,\n\n\nGluck discovered minute Yields at the\n\n\njoints in the wiring. These, by lower\n\n\ning the resistance, had caused an ex-\n\n\ncessive current to pass through the\n\n\nsolution, boiling\" it and spelling the\n\n\nwork But what had caused the\n\n\nwelds?' was the question in Gluck's\n\n\nmind. His reasoning was simple. Be-\n\n\nfore the establishment OF the wireless\n\n\nstation, the vat had worked well. Not\n\n\nuntil after the establishment of the\n\n\nwireless station had the vat been\n\n\nruined. Therefore, the wireless station\n\n\nhad been the cause. But how? He\n\n\nquickly answered the question. If an\n\n\nelectric discharge was capable of oper-\nating a coherer across three thousand\nmiles of ocean, then, certainly the cleo\ntrio discharge from the wireless sta\nton four hundred feet away could pro-\nduce coherer effects on the bad joints |\nin the vat wiring.\n\n\nGluck thought no more about it at |\nthe time. He merely rewired his vat |\nand went on electroplating. But after\nward, in prison, he remembered the in |\ncident, and like flash there came into |\nhis mind the full significance of it. He |\nsaw in it the silent, secret weapon with |\nwhich to revenge himself on the |\nworld. His great discovery, which |\ndied with him, was control over the |\ndirection and scope of the electric dis\ncharge. At the time, this was ne I'M\nsolved problem of wireless telegraphy |\nas it still is today-but Emil Gluck, |\nin his prison cell, mastered it. And |\nwhen he was released, he applied it.\n\n\nIt was Emil Gluck that caused the\nterrible German-American war, with\nthe loss of 100000 lives, and the con-\nof almost incalculable treas\nure. 1t will be remembered that in\n1889 strained relations existed be-\ntween the two countries. Germany,\nthough aggrieved, was not anxious for\ntnlrOT ant tha\ncrown prince and seven battleships\non a friendly visit to the United\nStates. On the night of February Is,\nthe seven warships lay at anchor in\nthe Hudson opposite New York city.\nAnd on that night, Emil Gluck, alone,\nwith all his apparatus on board, was\nout in a launch. This launch, it was\nproved, was bought by him\nfrom the Ross-Turner company, while\nmuch of the apparatus he used that\nnight had been purchased from the\nColumbia Electric works. But this\nwas not known at the time. All that\nwas known was that the seven battle\nships blew I'D, one after another, at\nregular, four-minute intervals. Ninety :\nDer cent of the crews and officers,\nalong with the crown prince, persisted, ;\nGermany believed that it had been !.\nlone by a submarine, and Immediately |,\ndeclared war. 1t was six months after !\nSluck's confession, that she returned 7\nhe Philippines and Hawaii to the\nUnited States.\n\n\nIn the meanwhile, Emil Gluck, ma\nevolent wizard and arch-hater, travel\nID his whirlwind path of destruction. 7\nlie left no traces. Scientifically thor =\nugh, he always cleaned up after him :\nelf. His method was to rent room\nr house, and secretly to install his :\npparatus-which apparatus, by the :\nTay, he so perfected and simplified\nnat it occupied little space. After he :.\nad accomplished his purpose, he care !,\nlily removed the apparatus. He babe !,\nlir to live out long life of horrible =\n-ime. !\n\n\nThe epidemic Of the shooting Of New !,\nork city policemen was remark a\nBILE affair. 1t became one of the hor-\n,r mysteries of the time In two :"
        ],
        [
         "74",
         "11_1915-05-13_p5_sn78000873_00279524986_1915051301_0171",
         null,
         "The Republican journal. [volume] (Belfast, Me.) 1829-current",
         "1915-05-13 00:00:00",
         "\n\n\nparty of ten motor-cyclists came from\nBangor via Searsport last Sunday. Four young\nladies occupied rear seats and seemed to be\nenjoying the ride.\n\n\npetition in bankruptcy has been filed by\nLewis W. Young. Winterport. Liabilities 1897.\nAssets s51s Principal creditors listed, N. H.\nBragg Co., Bangor, Millinocket Trust Com\npany. Mayo & Snare, Bangor, attorneys.\n\n\nBASE BALL. The B. H. S. team went to\nCastine last Thursday to plav Castine High\nand were defeated by score of IL to 0. The\nline-u up of the Belfast team was follows:\nH. Hatch. rf; E. Hatch, S.; Moves, 2 b; Jipson.\nD. and b; Manson, l b; Pendleton, 8 b and SIS\nShute, IT,: Cannon, C; Norris, CT. The game\nscheduled for Saturday, May 9Th, with the E.\nM C. S. team on the Congress street grounds\nwas cancelled on account of the rain. Yes\nterday B. H. S. went to Freedom in automo-\nbiles and played the Academy team, and next\nSaturday will play Rockand High on the Con-\ngress street grounds.\n\n\n\n\n\nyears ago Mr.. l. L. Perry had charge of the\nshore road in East Belfast from the bridge hill\nto the Searsport line and did some good work\nwith less money than had been expended on\nthis piece of road in former years. He first\nremoved all the loose rock and dug out those\nin the roadway that were obstacle to travel,\nfilled in the holes and ruts, cleared the bitches\nNo IF val\nThere was one hill which had been in bad con-\ndition for years and here the grade was re-\nduced and rocks removed After repairs we're\nmade the King drag was used with good re-\nsuits. The road has since been allowed to get\nin bad condition here, as elsewhere, the gravel\nhas been covered with mud from the cutters.\nThis prompted Mr.. Perry 20 offer to furnish\nthe gravel and to superintend surfacing the\nroad from his house to the Knowlton store,\nthe city to pay for the labor, and his offer has\nbeen accepted. This ensures good piece of\nroad, and like work should be done on the re-\nnaming section to the Searsport line.\n\n\nDAUGHTERS OF VETERANS. At the business\nmeeting of Emma White Barker Tent, D. of\n\", Wednesday evening, May 9th, it was de-\ncided to accept the invitation of the Thomas\nH. Marshall Post to furnish one number of\nthe Memorial Day program, and Mrs. Annie\nM. Frost, president, and Mrs Nettie Merrl-\nthew, secretary, were appointed to select the\nnumber and confer with the other members of\nthe committee in regard to the arrangements\nMrs. Nettie Merrithew and Mrs. Belle Nicker-\noil taa dol IN State\nDepartment meeting in Portland June 23d\nand Mrs Dora j. Bridges and Mrs. Nina ID\nCook, alternates. The president is ex-officio\ndelegate, with the senior vice president, Miss\nNellie Guptill, alternate The tent accepted\nthe invitation to attend services at the Bap-\nfist church Sunday, May 9th, Mothers Day.\nThe following program, arranged by the patri-\notto instructor, Mrs. Belle Nickerson, was\ngiven after the business meeting: Song,\nBattle Hymn of the Republic\" by the Tent;\n\"How to make Memorial Day More Sacred\"\nby Fred A. Seward, who quoted from the\ngrand commander OF the Sons of Veterans and\nread poem the infect; piano solo, Miss\nAlice E. Simmons: brief and appropriate\naddress, '.Ole Honoted Dead\" by Clarence E.\nFrost; reading Nj emoriai Day.\" Miss Alice E.\nSimmons; rem .rks by Walter Lyons. The adj\ndress by Mr.. Frost was appropriate and re-\nmarkedly well delivered. The next regular\nmeeting will be May 26th, as the hall is en-\ngagged for the 10th. The subject will be Peace\nand Arbitration. A memorial service will be\ninc Scribner Grant.\n\n\nTHE SKATING CARNIVAL. The masquerade\nskating carnival at the coliseum Monday even.\ning was a great success. There were 1900\npeople present, including large party from\nRockland and several from Bangor. Forty\nmasked couples competed for the $38 in prizes.\nThe judges were Mrs. S. S. L. Shute and\nMessrs. John T. Mcdonald and Morse Frankell,\nwho awarded the prizes as follows; The first\ntwo went to Rockland people, who had won\nprizes in Rockland with the same costumes;\n$40 for the best and most original l4dy's cos\ntune, Mrs Carl Morse; $40 for the osst and\nmost original gentleman's costume. M Carl\nMorse, who wore Spanish suits; IS for the\nmost comical and original lady's costume, Ar\nthur Stevens as very fat woman in a strik-\ning house dress with red hose; S. for the most\ncomical and original gentleman's costume.\nEarl Hammons as farmer; s. for the next\nbest and most original lady's costume. Mrs.\nMargaret s. vinal as Turkish lady; S. for the\nnext best and most original gentleman's cos.\ntune, Thomas w. Lothrop US French cour-\ntier of the Louis 14th period; 81 for the next\nbest comical and original lady's costume. Leon\nT. Shute as an old-time lady in very gay\ncostume with an immense hoop skirt; 81 for\nthe next best comical and original gents cos\ntune to Bertrand L. Davis as frisky old man\nin youthful and gay suit Honorable men.\nton was made of DR.. Ansel W. Lothrop's cos :\ntune as Napoleon. Little Miss lola Leayitt of\nRockland. aged IA years, did some fancy skat.\nnfo mill"
        ],
        [
         "85",
         "19_1915-06-16_p6_sn85038485_0034058269A_1915061601_0760",
         "DOLLY DALRYMPLE IN SERIES OF STORIES TELLS OF SOME THINGS SHE SAW AND\n\n HEARD ON RECENT VISIT TO NEW YORK",
         "The Birmingham age-herald.",
         "1915-06-16 00:00:00",
         "North America. Its further progress is closely related to varied phases of the slavery question and its bearing upon the history of the United States. In the wake or the abolition movement comes the civ4f war. with its terrific battles and the toll or death and broken hearts; Sherman's march to the sea; the burning of Atlanta; tho downfall of Petersburg: Lees surren- der to Grant at Appomattox; the assas- sination of Abraham Lincoln; the ordeal of the reconstruction period; the Ku klux Klan's solution of the problem; the establishment of an everlasting peace in the end. These historic scenes are given in accurate detail.\n\n When I saw The Birth of a Naion'' was so overwhelmed by its immensity, so overcome by its spectacular effect so wrought up by it's vivideness and beauty that l said to myself:\n\n Tt makes the biggest achievements of the real stage look like mere child's play: IL reduces to littleness the hughest things the theatre has ever done or can ever hope to do.\"\n\n Of course, size has little to do with art.\n\n That's true we all admit a perfect stat uette like one of the exquisite figures of Tanagra is as great in a sense as the Vat lcan; a fiawless sonnet of Byrons need not yield It's place to great epic like Dante's 'Inferno;\" 8 short story of de Maupassant's has nothing to fear from\n\n \n\n the \"Suwanee River anything to be afraid of from Wagnerian troiogy\n\n And yet, the spectator after seeing The Birth of Nation\" cannot help feeling that higher power has created the larger work, since the larger work in- cludes the problems of the smaller and countless others.\n\n ''The Birth of a Nation Is a choral symphony of light-light in all of it's mag ic; the sun flashing through A Tit of brown black lace. and giving immortal beauty to its pattern; quivering n a pair of eyes, or on snowdrift of bridal veil, on a moonlit brook or 8 moun- tain side.\n\n The leagues of film uncoil ard uncoi1 and pour fourth beauty of scene and face and expression. beauty of fabric and ate titude and motion\n\n Here Is the epic of a proud brave pso- pie beaten Into the dust but refusing to stay there.\n\n E The pictures shift from huge canvasses with hundreds and hundreds of the white capped ku Klux Klan charging and laundering and rearing and galloping on superb horses, with heart quickening glory of speed down road and lane. through flying waters, now the thrill of a charge or a plunging steed caught back on his launches in sudden arrest-now the terror of bestial mob, the hurrah of rescue, streets filled with panic and with carnival.\n\n A moment later we see Abraham Lin- coin breeding over his Emancipation Proclama tion,\" another moment and na Is yielding to mothers tears -poors wretched, broken, tired Mrs. Cameron begging for her boy-the Little Colonel;\" later we are in & crowded theatre, watch. ing the assassin making his way to and from the awful deed.\n\n What could the stage give to rival this2\n\n \n\n Nothing-everything else. music, poetry, song, depreciate into mere nothingness in comparison to such marvellous DO 'tf 4yal of life and love and honor and patrirtism.\n\n Here we have hundreds of scenes in place of four or five; thousands of actors in place of a score armies in landscape\n\n instead of squads of supers jostlinS on a platform among canvas screens; here was the evolution of a people the living chron- icle of statesmen, civil war, a racial problem, rising gradually to a puzzle yet unsolved; here was a whole gallery of scenery of humanity, of still life, aud life in its widest career. Here were portraits of things, of furniture of streets, of homes, of wilderness; pictures of conven- tions. cabinets. senates. mobs, festivals, bathrooms, flower gardens. hypocrisy, jeal- ousy, pride, Humiliation, battlefeds, hos- pitals, 1irtations, anguish devotion, treachery, self-sacrifice and tyranny; here were the luxurious southern homes, the wind-swept cotton fields; here were the dancers, and the soldiers riding away to battle. the soldiers trudging home de- feated, cast down, with poverty ahead of them, and new and ghastly diff culties arising at every handl\n\n There is little left to tell after all this. To Ben Cameron and Elsie Stoneman, Phil Stoneman and Margaret Cameron, the sweethearts of the story, the sequel was beautiful double honeymoon by the sea-to the American people it was the outcome of four years of frar cdal strife; the nightmare of reconstruction, (Continued on Page Tens"
        ],
        [
         "135",
         "8_1915-02-19_p5_sn88076639_00199918205_1915021901_0129",
         "achieveme.t Of his WITS the assassina.",
         "Sioux County pioneer. (Fort Yates, Sioux County, N.D.) 1914-1929",
         "1915-02-19 00:00:00",
         "achievement Of his WIS the assassina-\nton Of the king anG queen Of Por-\ntugal. 1t was their wedding day. All\npossible precautions had been taken\nagainst the terrorists. and the way\nfrom the cathedral, through Lisbon's\nstreets, was double banked with troops\nwhile a squad of two hundred mounted\ntroopers surrounded the carriage. Sud-\ndenly the amazing thing happened.\nThe automatic rifles of the troopers\nbegan to go off, as we'll as the rifles\nof the double-banked infantry in the\nimmediate vicinity. In the settlement\nthe muzzles Of the exploding rifles\nwere turned in all directions. The\nslaughter was terrible-horses, troops.\nspectators. and the king and queen\nwere riddled with bullets. To COM\nplicate the affair.\" in different parts of\nthe crowds behind the foot soldiers,\ntwo terrorists had bombs explode on\ntheir persons. These bombs they had\nintended to throw If they got the op-\nportunity. But who was to know this?\nThe frightful havoc wrought by the\nbursting bombs but added to the con-\nfusion; it was considered part Of the\ngeneral attack.\n\n\nAnd Emil Gluck chuckled and went\nhis way. He knew. But how was the\nworld to know? lie had stumbled up\non the secret in his old electroplating\nshop on Telegraph avenue in the city\nof Oakland. 1t happened at that time,\nthat wireless telegraph station was\nestablished by the Thurston Power\ncompany close TO his shop. In short\ntime his electroplating vat was put\ncut of order. The vat wiring had many\nbad joints, and. upon investigation,\nChuck discovered minute YIELDS at the\njoints in the wiring. These, by lower\ning the resistance. had caused an ex-\ncessive current to pass through the\nsolution, boiling\" it and spelling the\nwork. But what had caused the\nwelds?\" was the question in Gluck's\nmind. His reasoning was simple. Be-\nfore the establishment of the wireless\nstation, the vat had worked we'll. Not\nuntil after the establishment Of the\nwireless station had the vat been\nruined. Therefore, the wireless station\nhad been the cause. But how? He\nquickly answered the question. If an\nelectric discharge was capable of oper-\nating coherer across three thousand\nmiles of ocean, then, certainly the cleo\ntrio discharge from the wireless sta\nton four hundred feet away could pro-\nduce coherer effects on the bad joints\nin the vat wiring.\n\n\nChuck thought no more about 1t at\nthe time. He merely rewired his vat\nand went on electroplating. But after\nward, in prison, he remembered the in\ncident, and like flash there came into\nhis mind the full significance of it. He\nsaw in it the silent, secret weapon with\nwhich to revenge himself on the\nworld. His great discovery, which\ndied with him, was control over the\ndirection and scope Of the electric dis.\ncharge At the time, this was the un.\nsolved problem of wireless telegraphy\nas it still is today-but Emil Gluck\nin his prison cell, mastered 1t. And\nwhen he was released, he applied 1t.\n\n\nIt was Emil Gluck that caused the\nterrible German-American war, with\nthe loss of 100000 lives. and the con\nsumption of almost incalculable treas\nure. 1t will be remembered that in\n1889 strained relations existed be-\ntween the two countries. Germany\nthough aggrieved, was not anxious fol\nwar, and, as a peace token, sent the\ncrown prince and seven battleships\non a friendly visit to the United\nStates. On the night of February 49,\nthe seven warships lay at anchor in\nthe Hudson opposite New York city.\nAnd on that night, Emil Gluck, alone\nwith all his apparatus on board, was\nout in a launch. This launch, it was\nafterward proved, was bought by him\nfrom the Ross-Turner company, while\nmuch Of the apparatus he used that\nnight had been purchased from the\nColumbia Electric works. But this\nwas not known at the time. All that\nwas known was that the seven battle\n, ships blew up, one after another, at\nregular, four-minute intervals. Ninety\n! per cent of the crews and officers\nalong with the crown prince, persisted\n2 Germany believed that it had been\ndone by submarine, and Immediately\ndeclared war. 1t was six months after\nGluck's confession, that she returned\nthe Philippines and Hawaii to the\nUnited States.\n\n\nI, In the meanwhile, Emil Gluck, ma.\n, levolent wizard and arch-hater, travel.\n, ed his whirlwind path of destruction\nHe left no traces. Scientifically thor.\nough, he always cleaned up after him.\n, self. His method was to rent room\nor house, and secretly to install his\napparatus-which apparatus, by the\nway, he so perfected and simplified\n, that it occupied little space. After he\nhad accomplished his purpose. he care.\nfully removed the apparatus. He babe\nfair to live out a long life of horrible\ncrime.\n\n\nThe epidemic of the shooting of New\n, York city policemen was remark.\nable affair. 1t became one of the hor.\n"
        ],
        [
         "204",
         "2_1915-03-11_p1_sn86063782_00295862579_1915031101_0017",
         null,
         "Cheraw chronicle. [volume] (Cheraw, S.C.) 1896-2005",
         "1915-03-11 00:00:00",
         "formed a circle Of protection around\nthe homes of the south, great circle of\nlight illumined with deeds of love and\npatriotism.\n\n\nIn our dire extremity and darkest\ndays, the Ku KluX Klan, the great\nsilent, mysterious organization, ap-\npeared upon the scene, and relieved the\ndreadful and humiliating distress.\n\n\nThe Ku Kluy Klan has justly been\ncalled the Salvation Of the South and\nits history should be written in letters\nOf light."
        ],
        [
         "205",
         "3_1915-03-11_p1_sn86063782_00295862579_1915031101_0017",
         null,
         "Cheraw chronicle. [volume] (Cheraw, S.C.) 1896-2005",
         "1915-03-11 00:00:00",
         "1t They often road up to a Church\nor meeting house of some description,\nwhere negroes were assembled, seem.\ningly for water A Ku klax would say,\nHere, Sambo, hold my head while j\ndrink. On handing the negro the skull,\nthe superstitious creature with q\nscream Of fright would take to the\nwoods. When a false hand was used,\nthe Ku Klux would offer to shake\nhands, leaving the false one In the\nLANDS OF the negro as q souvenir.\n\n\nYou will ask, why all this mystery\nWe all know the superstition Of the\nEeGro and also Of the uLeducated white.\nThe negroes were made to believe\ntheir old masters had risen from their\ngraves in this ghostly garb and under\nthe conviction that if they did wrong,\nspirits from the other world would\nvisit them, hence the negroes became\nmuch subdued.\n\n\nIt must not be understood that this\n~\"'le band that took their lives into\ntheir own hands, were ever unkind\nor cruel to an innocent negro. Far\nfrom 1t; many instances could BE\nrelated where they protected the Just\nright Of the faithful ones. Mercy was\nalways uppermost In the heart Of a\ntrue X. X.\n\n\nThe Klan's watch words were, the\ncunning Of the fox, the bravery Of the\nlion. The sign to distinguish broth\nTer was thus: described by the read\ner) ~\n\n\nThere was at all times perfect CO.\noperation between the Klans. 1t was\noften necessary to secure the assis-\ntance Of a brother Klan and a member\nof the Klan was sent. This was con-\nsidered an honor as only those of un:\nFashionable bravery We're selected.\nAS soon as the neighbcring Khan was\nlocated, the message was delivered\nthe Grand Cyclops blew his whistle,\ntheir sign Of command ID q s{s1"
        ],
        [
         "207",
         "7_1915-03-11_p1_sn86063782_00295862579_1915031101_0017",
         null,
         "Cheraw chronicle. [volume] (Cheraw, S.C.) 1896-2005",
         "1915-03-11 00:00:00",
         "q mission OF stern duty. d deed\njustice is about to be performed and\nwoe to the guilty wretch that falls\nunder the condemnation of the Klan.\n\n\nThe sworn secrecy and binding oath\nmade a bulwark Of defense as strong\nas Gibraltar.\n\n\nIn February 1859, Gen. Forrest,\nGrand Wizard of the Invisible EN-\nplre issued a proclamation to his\nsubjects to disband and this strange\nand mysterious order, having accom-\nplished its great mission in relieving\nthe South Of Carpet-bas rule, passed\nout of existence forever. They"
        ],
        [
         "208",
         "9_1915-03-11_p1_sn86063782_00295862579_1915031101_0017",
         null,
         "Cheraw chronicle. [volume] (Cheraw, S.C.) 1896-2005",
         "1915-03-11 00:00:00",
         "gYScalawags, Of all men most detested.\nThey were native born Southerners,\nbut lo& miserable traitors to the South,\nthe lowest Of the low and hated even\nby the negroes. 1t Is impossible to,\nportray In language how these Scala\nwags were detested and dispised. The\nIrish orator and patriot, Emmett, once\ndeclared 1.-THE meanest Of all mean\nthings is an anti-Irish Irshman\". II\nhe had lived during the Reconstruction.\nhe would have said THAT the meanest\nOF all mean things, was an anti-South-\nerner Southerner.\" These dangerous\nleaders were the organizers Of the\nfearful Black League, the negroes\nbeing used simply as means to an end.\nThe Black and Tan Government\ncomposed Of Carpet Baggers, Scala\nwags, and brutal negroes, now held full\nsway. In this demoralized state,\nprivate property was seized in the\nname of the United States Govern\n'ment This was the situation, the\nSouth, overpcwered, exhausted,\nFrustrated. but not degraded.\nHope remained in the hearts of the\nnoble heroes who were willing to give\ntheir lives and to bleed afresh for\ntheir loved ones. This condition Of\naffairs brought into existence the Ku-\nKlux Klan, and this organization\nprovided the solution of the dark\nproblem.\n\n\nThe Ku Klux Klan had its birth in\nthe town of Pulaski, Tenn, during the\nwinter Of 1866 and 1866. There were\nsix charter members, all honorableCon-\nfederate soldiers. The word Ku Klux\nwas really coined by them, being i'll\nway formed from the Greek word Ku\nKlos, meaning circle. They added\nKlan, thus making the name at once\nunique mysterious and fascinating\nThe klan was also termed the Invi-\nsible Empire. The Klan spread rapid\nly and in year had reached sucf\nlarged numbers. it was found neces-\nsary to have some experienced leader.\nso General Nathan Bedford Forrest, a\ndistinguished Cavalry leader Of the\nConfederacy, was selected He took\nthe solemn oath in No. 10 of the Max\nwell House. Nashville, Tenn, in the\nfall Of sc and was made Grand Wiz\nard of the Invisible Empire. Gen. Geo\nW. Gordan. Of Tennessee, prepared\nthe rituals and oath of the Klan, which\nare as follows:\n\n\nCONSTITUTION.\n\n\nThis is an institution of Chivalry,\nHumanity, Mercy and Patriotism, en-\nbodying in conduct noble in sentiment,\ngenerous in manhood, and patriotic in\npurpose. It's peculiar objects being\nist: to protect the weak the innocent\nand defenceless from indignities.\nwrongs and outrages of the lawless\nviolent, and the brutal; to relieve the\ninjured and oppressed; to succor the"
        ],
        [
         "209",
         "11_1915-03-11_p1_sn86063782_00295862579_1915031101_0017",
         null,
         "Cheraw chronicle. [volume] (Cheraw, S.C.) 1896-2005",
         "1915-03-11 00:00:00",
         "has been construed as an ac6nowl-\nedgement Of shame Of being connect\ned with the X. K. X. and It's history,\nwhereas. it should be our proudest\nboast that 1t was organized and kept\niup By our bravest men. Gladstone\nwrites, mo greater calamity can be-\nfalf q people than to break utterly\nwith her past and If we forget our\nANCESTORS, We ourselves are unWor-\nl'thy to be remembered.\n\n\nMany Of the secrets were locked\nup In the breasts of the Ku Klux\nand mover given to the world. The Ku\nKlux warnings to offenders were In\nkeeping with their mode Of carrying on\naffairs, mysterious and terrifying,\noften by figure dangling from a tree\nor some such gruesome emblem with\nd warning to a negro or Scalawag, to\nBeware.\n\n\nThe Ku Klux were opposed to shed,\nding Of blood and violence was never\nused except in extreme cases. Many\nviolent deeds were put upon the shoul,\nders Of the Klan Of which they were\nentirely innocent. They did only\n\n\ntheir stern duty and silently stole\nawdY\n\n\nThe Invisible Army gave back to\nits beloved land much that she lost\nduring four years Of bloody carnival OF\ndeath Restored in a measure the\ngrandeur and majesty that was the\nenvy of all the world In days gone by\nNoiAsbler or grander men ever gathered\non fhe earth than those assembled In\ntie peeting places Of the Klan. No\n| M me hearts were ever moved with\nEtiobl - impulses. The love Of law and\nl5 fss ;pf virtue Of the\n, : : ! J ! ! !"
        ],
        [
         "210",
         "17_1915-03-11_p1_sn86063782_00295862579_1915031101_0017",
         null,
         "Cheraw chronicle. [volume] (Cheraw, S.C.) 1896-2005",
         "1915-03-11 00:00:00",
         "or EoutHland was 30 dfm 20 her\n| ief, that she was constitutionally'\niAht; so|prcud OF her heroes that she\n\"a MOI felt the necessity OF\nher acts, but 1t behooves\nisl now to turn the search light Of\nrdlth on her past in the war and let\nhi world know the true history. Some\nlaIy when she comes to her own and the\nale is oil told, no brighter chain In\n,dr history, no fairer page will ever be\n.aad than that which tells Of the\nllustrious and glorious organization\n,aIlled the Ku Klux Klan. It's his\nDRY is a precious heritage. 1t indeed"
        ],
        [
         "294",
         "8_1915-09-24_p1_sn86092050_00279550286_1915092401_0447",
         null,
         "The McDowell times. [volume] (Keystone, W. Va.) 1904-1941",
         "1915-09-24 00:00:00",
         "and ths rsal birth of Natiou.\" Ever\nsines the organization Of The Ku Kluz\nKhan the popular voss in South Oaro,ins\nhas hssn dscressine. uptil now more than\ntwo-thirds Of the native white men Of\nvoting sge who are The sous Of nanve\nwhite pareno and mus therefore bslone\n70 the old nssivs vhiae sooek, are never\nhard from in popular elecsfons- They\ndo not count any more now than thsy\ndid In the old ariseocratic days before ths\ncivil war nor any more than do he plan\neasioo Nsgroo; bus perhaps that wes The\nwhite mans civilixasion the organiser ol\nThe Ku KIux Khan had h mind when, in\nwhite masxs, appearing like the knights\nof old. they rode through the ccuntry and\nwarned the Negroes, and other white\nmen too. that . popular election wss 10\nhe held, but they were not invited 10\ncome 70 the polls. II popular elecsions\nin South Carolina are the direct result Of\nthe Ku Klux Klan and illustrnss the true\nmeaning of the Birth Of . Nakion, is\nmay dispel some Of The illusions and cc ol\nsome OF The enthusiasm Of the people in\nthe North who are now applanding this\ngreat dramatic film.\n\n\nProhibition, it 10 said ny Capt. Hob\nson, should be submitted to the people\nthat . popular vote BY all the people may\ndecide this great moral and social ques-\ntion- In the South it was decided for\n500, 600 people, one-half of them white\nand les, 700 of them white men of voting\nage by $1,000 men casting the vote. On\nIN amendment to the Federal Constitu-\nton, these 50,OO white men would cast\nthe vote Of the great STATE of South Caro-\nlima and that vote would be equal TO the\nvote Of New York where I, ,569, 900 men\nvoted in 1912. What is . popular vote\nand what is q popular election?"
        ],
        [
         "350",
         "6_1915-02-27_p7_sn83030193_00280766094_1915022701_0803",
         "\"DIRTH or A NATION\"\nLIBERTY THEATRE EVENT.",
         "The evening world.",
         "1915-02-27 00:00:00",
         "On Wednesday night. at the lib\nsrty Theatre, d. W. 0ri6ith will pre-\nsent for the nrst time In New York\nn photographs spectacle entitled the\nBirth Of . Nation\" The story upon\nwhich tho work 10 based II Thomas\nDixon's novel and play. Tho Clans\n\n\nMt. orimth has been known here\ntofore as the foremost producer Of\nmotion picture successes In houses\ndevoted TO this style Of entertain\nmcnt. His present production u a\nthe marvellous scope and artistic\nvalues Of the camera play a. q work\nOF dramatic appeal. There arc no\nestablished standards by which his\nnewest production can be gauged.\nTho producer devoted eight months\nto its making and employed $4,000\npeople and 1000 horses to get the\nneeded effects. A music score has\nbeen written By Joseph Carl Briel.\nTho accompaniment will be played\nBY an orchestra Of forty musicians,\n\n\nTho story begins In the seventeenth\ncentury With the coming Of African\nprogress 10 closely related to varied\nphases Of the slavery question and It's\nbearing upon the history Of the\nUnited Statos. In the wake OF the\nabolition movement comes the Civil\nWar. with its terrific battles and the\ntoll of death, and broken hearts;\n9her1nan's march to tho sea: the\nburning Of Atlanta; the downfall Of\nPetersburg; Lees surrender to Grant\nat Appomattox: the assassination Of\nAbraham Lincoln: the ordeal Of the\n| reconstruction period; the Ku kux\nklan's part In the problem, and the\n\n\nestablishment Of peace In tho end."
        ],
        [
         "514",
         "28_1915-04-01_p6_sn83045211_0023728754A_1915040101_0256",
         null,
         "Evening public ledger. [volume] (Philadelphia [Pa.]) 1914-1942",
         "1915-04-01 00:00:00",
         "Three hours of beauty and emotion; the\nfinest stagings of battle scenes yet ac-\ncompished; the most poetic handling OF\nnature and man in the large; the biggest\n'thrlll' on Broadway-that is the monster\nphotoplay. THE Birth of n Nation\"\n\n\nNot the least marvellous thing about\n\"The Birth of n Nation\" is that It sue\nceeds in putting over\" at last Thomas\nDixon's \"Clansman.\" Mr.. Griffith,\nSoutherner himself, has kept the thesis\nof the book a picture OF the sufferlngs of\nthe South under the atrocities of recon-\nstruction. But he has so ennobled It pic\ntorically and so massed the whole strug-\ngle of the Civil War about 1t that the\nresult achieves a dignity and interest that\nMr.. Dixon is not at all responsible for.\nNThe story Is as romantic and impos-\nslble as in the book. The Northern cou-\nsins meet the Southern cousins before\nwar breaks out and acquire attachments\nboth friendly and sentimental. The boys,\ntwo pairs of them, meet on the battlefield.\nThe men and women, two more pairs fall\nin love and wed. But all this common\nplace romance is driven into the back\nground by the power and terror of the\nscenes of war.\n\n\nAfter preliminary views of tho South\nCarolina town of Piedmont, resting in the\nsot, leaf-hecked light of the rosy days\nbehre the war, the film throws us bodily\ninto the most remarkable battle scenes\neVet staged. One shows us the taking\nanH burning of Atlanta, swinging the\nNsion of the lense from a ruined noun\ntin shack down 1O-mile valley of\n.. ferman's charging army, to the fame\nliked streets of the city. Still more re-\nrhrkable is the final battle where the\nclsins meet. The camera shows alter\nnaly the battling trenches of the oppos-\ninlarmies and the sweep of the rebels\nspss another great valley, taking line\nter line of entrenchments, and falling\n\n\ntho last man as THE Little Colonel\"\nANS the flag of Lis State down the\nmoking cannon in Federal breech.\nThe handling of crowds-1s0O0, the man\nagement tells us; and 1t looks fully as\nmany-is marvellous. The intensity and\nyet the clocklike and perfect pre- cision;\nthe sweep of the armies and mobs, and\nyet the myriad individual detail of fall\ning men. stricken horses, bursting shells!\nThe acting-never obtrusive, always per-\nfeet, even when Lincoln, Grant and Lee\nare on the screen-is a thing to admire\nfor itself. But 1t fades before the han\nding of mass In the last act, devoted\nmainly to the vengeance of the Ku Klux\nKlan, the white array of the marshaled\n\n\n\n\n\nand then whrl past at the charge is only\nfinal proof of the wonderful art that\nlies before the cinematograph in the\ncreation Of scenes of sweeping stirring\nbeauty\n\n\nChanges in KriteriOn\n\n\nA complete reorganization has been ef-\nfected in the Kriterlon Film Corporation\nThe former officers have been supplanted\nand complete new policy instituted.\nA. Nj. Kennedy. who has been long\nknown to the motion picture business as\nn man of the initiative, supplants j.\nAuchincloss as president A. B. Graham\nIs now treasurer. succeeding c. Whitmore.\nWhile the kriterlon under the old regime\nhad enjoyed splendid success, II Is ex-\npected that with man at the head who |\nis as thoroughly familiar with every\nangle of the business as is Mr.. Kennedy, |\nand with his broad experience in the ex-\necutive end of the game. 1t will propser\neven better than 1t has in the past.\nAbout Mary Pickford\n\n\nThere is an unconhrmed rumor in the |\nfilm world that Mary Pickford will leave |\nher present employers and appear under |\nthe emblem of the Fox Film Corporation. |\nIL was impossible to substantiate this |\nreport either in this city or in New York. !\nThere have been no Pickford releases for |\nthe last two months. and the curiosity |\n\n\n\nfor this Photographic silence on the part |\nof the producers,\n\n\nAnswers to Correspondents\n\n\nJOE KEENAN-Charles Chaplin was\nnot injured. a broker named Chaplin\nwas hurt in an automobile accident In\nLos Angeles not long ago and 1t is\nthought that this is what started the ru-\nmors OF chaplin's death. He was born\nIn England.\n\n\naRAcE-cannOt reply to first question:\n\n\nCHTT,DR EN'"
        ],
        [
         "515",
         "31_1915-04-01_p6_sn83045211_0023728754A_1915040101_0256",
         null,
         "Evening public ledger. [volume] (Philadelphia [Pa.]) 1914-1942",
         "1915-04-01 00:00:00",
         "THE BIRTH OF A NATIoN-H Historical drama\nIn two acte. founded on Thomas Dixon :\n..clansmap.\" Produced BY. y. w, Grlthth.\njoseph Cart Briei, Liberty Theatre, New\nYork.\n\n\nColonel Ben cameron. on.,.........H Henry walthall\nMargaret Cameron, the elder sister,\n\n\nMiriam Cooper\nFlora. tho pet sister. :. Mac Marsh\nMfH, cameron ..ss.,.,.s..... Josephine. CtoMeH\nDoctor Cameron ,s..t.t..,. 81 )ttlsWoode AIKEN\nWade Cameron, the second son u. A. Berlnger\nDuke Cameron, the youngest son. John French\nNanny, their faithful old servant. Jennie Lee\nHon. Austin Stoneman, leader Of the House,\n\n\nRalph Lewis\nElaie, MS daughler. ...s..s..s.. Lillian Glsh\nPM, MS elder son ...ss..s...... Elmer llttton\nTod, the younger son. ,.,,...., Robert Harrol\nJen, the blacksmith ..... ..,....,.. wallace Reed\nLydia Brown, Stoneman's mulatto housekeepr,\nslas Lynch, mulatto Lieutenant Governor,\n\n\nGeorge Sigmann\nAn9raham LINCOLN ....s....,,. Joseph Hennbery\nJonl Mi,keH. ijOotn ....s..,..,.... Haoul Maisn\ntfeUeTe! u. >. NtIant II OnNld Crlsp\nGeEefAl RobCrt E Lce,,......... Howard Gaye\nCabinet mentors. generals, military aides and\nattaches, Secretaries. Senators, Rcrresenta-\ntives, visitors soldiers, Abolltlonsts,\n\n\nku KluX klansmen plantation\n\n\n~"
        ],
        [
         "544",
         "3_1915-04-01_p2_sn86063790_00295863067_1915040101_0300",
         null,
         "The Bamberg herald. [volume] (Bamberg, S.C.) 1891-1972",
         "1915-04-01 00:00:00",
         "tails is all told. no brighter chain\nin her history. no fairer page will be\nread than that which tells of the\nillustrious and glorious organization\ncalled the Ku kluX klan. Its history\nis a precious heritage. 1t indeed\nformed a circle of protection around\nthe homes of the South. great cir\nGle OF light illumined with deeds OF\nlove and patriotism.\n\n\nIn our dire extremity and dark\nest days, the Ku kluX Khan, the great\nsilent, mysterious organization, ap-\npeared upon the scene. and relieved\nthe dreadful and humilating dis\ntress.\n\n\nThe ku kluX klan has justly been\ncalled the salvation OF the South and\nits history should be written in let\nters OF light."
        ],
        [
         "546",
         "24_1915-04-01_p2_sn86063790_00295863067_1915040101_0300",
         null,
         "The Bamberg herald. [volume] (Bamberg, S.C.) 1891-1972",
         "1915-04-01 00:00:00",
         "from the other world would Visit\nthem. hence the negroes became\nmuch subdued.\n\n\n1t must not be understood that this\nnoble band that took their lives into\ntheir own hands. were ever unkind\nor cruel TO an innocent negro. Far\nfrom it: many instances could be re-\nlated where they protected the just\nright to the faithful ones. Mercy was\nalways uppermost in the heart of a\ntrue X. X. X.\n\n\nThe klan's watch words were. the\ncunning of the fox, the bravery of the\nlion. The sign to distinguish broth\ner was thus: described by reader)\n\n\nThere was at all times perfect CO.\noperation between the klans. 1t was\noften necessary to secure the assist\nance OF a brother klan and MEM\nDer of the Klan was sent. This was\nconsidered an honor as only those OF\nunquestiOnable bravery were select.\ned. AS soon as the neighbOring klan\nwas located. the message was deliv-\ncred, the Grand Cyclops blew his\nwhistle. their sign OF command. In\na few minutes every horse and man\nwas disguised, and at the second\n\n\nhn\nmoved away. not a word was spoken.\nBut we will not follow the klan.\nThey are on a mission of stern duty;\na deed of justice is about to be per-\nformed and woe to the guilty wretch\nthat falls under the condemnation OF\nthe Klan.\n\n\nThe sworn secrecy and binding\noath made a bulwark OF defense as\nstrong as Gibraltor. Many OF the\nsecrets were locked up in the breasts\nof the ku KluX and never given to\nthe world. The Ku kluX warnings\nto offenders were in keeping with\ntheir mode of carrying on affairs.\nmysterious and terrifying, often by a\nfigure dangling from tree or some\nsuch sruesome emblem with a warn\ning to negro or scalaWag. to be-\nware.\n\n\nThe Eu Klux were opposed to\nshedding OF blood and violence was\nnever used except in extreme cases.\nMany violent deeds We're put upon\nthe shoulders OF the klan Of which\nthey we're entirely innocent. They\ndid only their stern duty and silent\nly stole away.\n\n\nThe Invisible Army gave back to\nits beloved land much that she lost\nduring four years of bloody carn!-\nval OF death Restored in a meas\nure tie grandeur and majesty that\nwas the envy Of all the world in days\ngone by. no nobler or grander men\never gathered on the earth than\nthose assembled in the meeting places\nof the Klan. No human hearts were\never moved with nObler impulses.\nThe love OF law and order. the pre-\nse.yat:0n Of the home. the protec-\nr;on OF virtue Of their nohlest wo-\na:arhood in all annals Of time moved\nthese men 70 action.\n\n\nIN February. 1859. Gen. Forrest,\nGrand Wizard Of the Invisible En-\nr;re. i&sned a proclamation to his\nsubjects to disband and this strange\nand mysterious order having accom-\nul:shed its great mission in relieving\nthe South Of Carpet bag rule. passed\nout OF existence forever. They\nmarched silently through Nashville.\nthough it was crowded with militia\nand police. whose orders were TO\ntace them dead or alive. but who\nwere so overawed by the brave, mys-\nterious band as not to make the\nSllSnpSt mo! ciIlSIi vi aiiVoN' '\"N 60\nlowed them to silently march up\nCapitol Hill. then down and out OF\nthe city into the forest to the meet\ning place. where the chaplain led in\nPRAYER for the last time. The men\ndisrobed, drew from their horses the\ndisguise and solemnly buried the\nregalia. sprinkling them with the\nashes of the burned ritual. This\nweired ceremony ended the most re-\nmarkable revolution in many re-\nspects in history. The Ku kluX Khan\nwas born in mystery. lived in mys-\nterry. and mystery will ever shroud\nits grave. The Invisible Empire\nvanished in a night and has been\nseen no more by mortal man.\n\n\nToo long have we Of the South re-\nmanned silent and perhaps our 81\nlence has been construed as an ac-\nknowledgement OF shame Of being\nconnected with the X. X. X. and its\nhistory. whereas. it should be our\nproudest boast that it was organized\nand kept up by our bravest men.\n\n\n"
        ],
        [
         "547",
         "25_1915-04-01_p2_sn86063790_00295863067_1915040101_0300",
         null,
         "The Bamberg herald. [volume] (Bamberg, S.C.) 1891-1972",
         "1915-04-01 00:00:00",
         "! OF the United States and all laws\n! passed in conformity thereto and pro-\ntect the States and the people there\nof from all invasionS from any source\nwhatever: 3rd. to aid and assist in\n! execution of all constitutional laws\nand to protect the people from un-\n| lawful seizure and from trials. eN-\n! cert by their peers in conformity to\n; the laws of the land\n\n\nCreed.\n\n\nWe. the order OF the ku kluX\n! Klan. reverentially acknowledge the\nmajesty and supremacy of the Divine\n\n\nBeing. and recognize the goodness\nand providence of same. We recog-\nniZe our relation TO the United States\ngovernment, the supremacy OF the\n| constitution. the constitutional laws\nthereof and the union of States there\nunder.\n\n\nMost solemnly OF all, was the oath\nalways given under the most awe\ninspiring circumstances possible.\nThus. | before the great immaculate\nGod of heaven and earth do take and\nsubscribe to the following sacred\nbinding oath and obligation.\npromise and swear that | will uphold\nand defend the constitution OF the\nUnited States. as it was handed down\nbv our forefathers in its original pur-\nitv. | promise and swear that | will\nreject and oppose the principle Of\nthe Radical party in all its forms and\nforever maintain and contend that\nintelligent men shall govern the\ncountry. | promise and pledge my\nself to assist according to my pecun-\niary circumstances all brothers IN\ndistress. Females. widows, and their\nhouseholds shall ever be especially\nin my care and protection. | promise\nand swear that | will obey all in\nstruct;ons given by my chief. and\nshould | ever divulge or cause to be\ndivulged. any secrets. signs, or pass\nwords of the Invisible Empire. ] must\nmeet with the fearful and just penal\n\" of the traitor, which is death.\ndeath, death, at the hands OF my\nbrethren.\n\n\nBanner.\n\n\nThe banner. or ensign, Of the X.\n*. k. was a triangle in shape. five\nfeet long and three feet wide at\nstaff. The material was yellow with\nred inverted scalloped border. On\nthis banner was painted black fly\ning dragon and the following motto\nin Latin: What always. what every\nwhere. What by all is held 10 be\ntrue\"\n\n\nThe Invisible Empire extended\nrom Virginia to Texas, covering\nfourteen States. The empire was\nsuhdiyided into realms. realms into\ndominion<. domin;ons into provinces.\nand provinces into dens. Each de-\npartment had its head officer, their\nduties being definitely DESIGNATED.\neyceNt chose Of the Grand Wizard,\nwhose control was supreme. The\nfollowing is the list CT officers ANA\ntheir drrartments in regular order:\nThe Grand Wizard. assisted by his\nten Gems: the Grand Dragon. OF Tie\nrealm and his eight Hydras: the\nGrand Giant. Of the province. ana his\nfour Goblins: the Grand CyclOps.\nOf the Den. aud his Two Night Hawks.\n\\ Grand Turk, Grand Monk. Grand\nEXchegUer. Grand Serb, Grand Sen\ntinel we're oFcers OF the local dens.\nThe Genii. Hydras. Furies. Gobiins.\nana Nialt Hawks we're staff officers\nand the private members were called\nGhouls. TIE deIs or places OF rem\ndeZvous were generally in dark dis\nnal places. caves. etc Their an-\npearance WAS always sudden, as If\nthey rose from the earth. and dis\nappearance was quite as mysterious.\nThese mysterious maneuvers were al\nwavs born in the brain of the ku\nkluX. and the weired. unearthly and\nshostly always predominated.\n\n\nThe costumes were intended to\nwork upon the superstitiouS fears o:\nthe negroes. No special instructions\nwere given as TO the color or the\nmakeup of these costumes. How\never. the robes were nearly always\nwhite with cross of fiery red. a\nmask. and high conical hat. The\nhorses were also. covered with a\nsheet. These costumes were all made\nby the women OF the South, those\nnoble women who during the war\nmade clothing. etc. counting no sac\nrifice 100 great to aid their protect\nors. \\ note to mother. sister. or\nsweetheart always met with\n\n\n"
        ],
        [
         "557",
         "7_1915-02-08_p1_sn90052005_00393349785_1915020801_0404",
         "MASKED BANDITS, ON\n\n\nTRAIN, LOSE NERVE\n\nAFTER BOARDING PALM BEACH\nLIMITED AND PULLING\n\n\n\nGUNS, THEY QUIT.",
         "The Richmond Virginian. (Richmond, Va.) 1910-1920",
         "1915-02-08 00:00:00",
         "Palm Beach. Fla, Feb. -Four\nMASKED bandits climbed onto the OBJ\nseryation platform of the Palm Beach\nlimited. southbound. while the train\nwas taking water at Stuart, thirty\nmiles north of here, tonight, drew re-\nyoivcrs on the passengers ana appaf-\nentity losing their nerve. had the train\nstopped and escaped without nring\nshot or making theft.\n\n\nA brakeman locked the forward\ndoors Of the car the moment the\nalarm was given, but the bandits\nforced him to open it and sent all\nthe women ahead, saying they want\ned nothing from them.\n\n\nDonald harness, an Atlanta pub\nUsher, and his seven-year- son, r.\nw. Kirkland, freight traffic manager.\nand f. p Boyer general freight\nagent OF the Florida East Coast Rail-\nroad Company, were on the rear plat\nform as the men swung aboard while\nthe train was getting under way.\n\n\nForcing thSm ahead into the car.\nthey pulled revolvers and shouted for\nall passengers to hold their hands\nup. Mr.. harness offered to give UP\nall he had with him and asked that\nthe ladies, who were greatly fright\nened. be let out Of Ii. One OF the\nbandits shouted. No. we don't want\nanything from them\" and marched\nthem into the next car forward.\nwhere they gave the alarm. The\nengineer. receiving warning, stopped\nthe train. while they were going\nthrough the mons pockets, and the\nbandits jumped off and escaped. Men\nsupposed to be the bandits have been\narrested in Stuart. and are awaiting\nIdentification."
        ],
        [
         "601",
         "8_1915-12-28_p6_sn85038485_0034058370A_1915122801_1019",
         null,
         "The Birmingham age-herald.",
         "1915-12-28 00:00:00",
         "glassless windows.\n\n This and more is the scene that this marvellous photo-play presents with the scourge of war, cruel war, devastation and waste, predominant. Yet out of it all, it's sorrow and it's misery, it's cruelty and it's shame, a nation is born!\n\n To me while the eerie ride of the Ku- Klux Klan, with it's thousand and one shrouded knights, staving on to ven- geance, and the Wagnerian call of the Valkyries, as they congregate to do their deadly work Cthat trumpet call is an opu- lent device of sound applied to the silent drama;'' no spoken word can duplicate it's thrilling cadences)-as I was about to say, even at that moment when the Ku- Klux Klan rides against @ red horizon, swift with uplifted embiems of vengeance which is a fine spectacular interval, to my mind the most artistic thing, real and photographic, in The Birth of Nation is the assassination of President Lin coin. There is a wonder work of action and stage management, with its irresist- ible attenuation of scenes, the audiences the play, the Presidents box the assassin, the everything as it should be-\n\n And~to think that the same mind-the marvellously powerful Griffith which con- ceived and produced 'The Birth of a Ma tion,\" almost immediately followed it with the Poe film, ''Tae Averaging Con- science\" running \"The Tell Tale Heart ' '.Annabel Lee,'' and \"The Black Cat into one spontaneous combustion, with MT. Henry Walthall doing even 8 finer and more artistice piece of acting. if pos sible than he has done in \"The Birth of a Nation\n\n sThe Birth of a Nation is compell- ing mile in \"movieland.\"\n\n It does not even need the uproar of"
        ],
        [
         "629",
         "12_1915-12-28_p12_sn85038485_0034058370A_1915122801_1025",
         null,
         "The Birmingham age-herald.",
         "1915-12-28 00:00:00",
         "The remarkable development of the motion picture, from the first crude at tempts made only few years ago, to D. w, Griffith's celebra ted film drama, \"The Birth of a Nation\" illustrates in striking manner the possibilities of a comparatively new art. Last night at the Jefferson theatre this truly great picture was presented for the first time in Birmingham, opening an engagement of one week with daily matinees for the remainder of the week and a perform ance each night. To say that the large crowd which filled the Jefferson was deeply moved would but feebly express the power of this ma sterpiece of motion photoplay. The effect on all who saw it was tremendous. One who had seen a thousand moving pictures could not re- sist the thrilling realism of this drama The presentation lasted three hours, with only one short intermission yet every one present was held spellbound from be- ginning to end.\n\n Starting with the causes which led up to the Civil war and showing the south Tn antebellum times the drama swiftly touches upon the incident which set the smouldering fires ablaze and depicts with remarkable vividness and minutencss of detail some of the memorable events of the Civil war, in which familiar charac- ters of Thomas Dixons novels \"The Clansman' and \"The Leopard's Spots\" play their respective roles. Then the agonizing days just after the war are portrayed. sweeping on to the organiza- uon of the Ku-Klux Klan and the re- dempt1on of the south from the rule of the carpetba ggers.\n\n The battle scenes are in themselves a remarkable achievement. In numbers of men and horses taking part in the stir ring panorama of war; with it's desperate Valof, its sharp hand to- hand fighting. swift charges, artillery duels and all the sFlin realism of actual conflict there is nothlng lacking, and this part of the plcture aroused the greatest enthusiasm. II IS hard to realize at times that it is merely acted before camera\n\n The assassination of Lincoln gives in vivid and historically accurate manner the, details of this deplorable tra gedv \"iich proved so great a calamity to the south and led up to those chaotic condi tions which brought the Ku-Klux T<Ian into being. Great care was exercised to makes the historical personages as true 10 hte as possible and to make the scenes i'll Which they figure conform in every particular to the accounts of the hest authorities. It is said that the assassin- atioh or Lincoln was one of the most ulftlcult parts of The Birth of Ma loh to stage\" but the soenes as photographed will be found as nearly in accord with the actual tragedy as if was possible to make them.\n\n fefhaps the latter part of the drama makes a more lasting impression. at ieast on the southern mind. Recon stfuctlon days in South Carolina which 'ypi1ied many other parts of the soutb at the same period, are portrayed in way that reveals as probably nothing\n\n se coulu the horrors of those times aiu Justilles the organization of the 'nnu-Nlux klan to right the wrongs en- dured by the south under negro doni-\n\n atloh. . Faillcularly thrilling are the scenes showing the inception of tbn ku-KluX Klan. the gathering nf tbe clans and their work of vengeance at tune when no other help was at hand\n\n Ihe family histories of the Stone mans and the Camerons are woven into the drama, alternating tender love scenes with some of the most appalling tragedies of the civil war and the oark days following Lees surrender wealth of dramatic material has been utilized with remarkable skill by MT Griffiths. the producer It is quite impossible to describe in limited space the scope of this unique and epoch marking motion picture.\n\n From local point of view addi tlonal interest is created by the fact mat the principal role in \"The Birth or a Nation is acted by Henry Wal. thall, an Alabama man, who has sey- eral brothers in Birmingham, and in short while leaped into fame as one of the foremost motion picture actors"
        ],
        [
         "656",
         "36_1915-09-10_p2_sn89055004_00415666500_1915091001_0191",
         "RECORD or THE IMPORTANT\nEVENTS TOLD IN BRlEFEsT\n\n\nMANNER POSSIBLE.\n\nhappenings That Are Making History\nInformation Gathered from All\n| Quarters OF the Globe and\n\n\nGiven In a Few Lines.\n\n,nrERMouNrAiN.",
         "The Meridian times. (Meridian, Idaho) 1909-1938",
         "1915-09-10 00:00:00",
         "0rekon SHOWS improvements, although\nseveral fires In the state are still UNI\ncontrolled\n\n\nA conspiracy TO disrupt the Nation\nal Guard OF Colorado and to secure\nwholesale indictments OF state officers\nand coal mine operators was charged\nin partial report OF the military\ncourt of inquiry made public at Den\nYer BY order OF Governor George A..\nCarlson.\n\n\nThe bodies OF Mrs. John J. Pershing\nand her three daughters were buried\nat Cheyenne Ia single grave Mrs\nPershing and three young daughters\npersisted In a FIRE at the Persidio mill\niary reservation at San Francisco last\nweek.\n\n\nForest Ares are reported along the\nPacific slope from Vancouver to the\nMexican line and east TO Idaho. None\nare large. all seem stubborn. For the\nmost part the damage threatened is\n20 watersheds rather than standing\ntimber.\n\n\nMichael Messerliss, a Greek. is I'M\nder arrest at Bingham. Utah. charged\nwith the shooting and killing last\nFebruary of William Dick. paymaster\nfor mining company in Waisenburg,\nColo.\n\n\nA machine gun, said to be the best\nOF its kind ever conceived and one\nthat promises to mark an epoch in\nthe history OF rapid-frers. is the lat\nest invention OF John M. Browning.\nthe firearms wizard of ogden. Utah.\n\n\nDOMESTIC.\n\n\nErnest Reeder. a saloonkeeper and\none OF the more than 100 men indict.\ned along with Thomas Taggart and\nMayor Joseph f. Bell. charged with\nconspiring to commit felonies In the\nprimary and election OF 1914. pleaded\nguilty at Indianapolis,\n\n\n( Five murderers we're put to death\nin the electric chair at Sing Sing prison\non Friday inside OF sixty-fiye minutes.\n\n\nTwo Americans were murdered by\nMexican bandits near Brownsville,\nTexas. on Thursday. while the Mext\ncans lost one man In a running fight\nwith American soldiers following the\nmurder.\n\n\nWilliam Howard Taft advocated pre-\nparedness for war, illustrated Its ne\ncessity and detailed the means TO that\nend In an address at the Panama-Pa-\ncific exposition delivered at Taft\nday\" exercises.\n\n\nPeter c. Duen, wealthy Charlotte,\nIowa. property owner. bank cashier\nand former postmaster and merchant.\ndied al a hospital. the result Of being\nstruck in the eye with baseball\nwhile playing catch.\n\n\nArrangements for the official trials\nnext month OF the battleship Nevada,\nnow nearly completed at Quincy,\nMass. have been announced. The Ne\nyada win 20 into dry dock al Brook\navn on October IL The trials will be-\ngin on the Penobscott course on DC.\ntober 8.\n\n\nI While his wife was assisting In\nreceiving at reception given in\nhonor OF Vice-President Thomas r.\nMarshall by his business partner. DIR.\nRobert NJ. Bryan. well known veteri-\nnary surgeon OF Lexington, KY, shot\nhimself through the head at his home.\n\n\nForty-hve survivors OF the torpedoed\nsteamer Arabic reached New York on\nThursday aboard the American liner\nST. Paul and White star liner Adriatic.\n\n\nJoseph J. Ettor. a member OF the\nIndustrial Workers OF the World. who\nhas been addressing meetings in\n;halI al Waterbury. Conn. after the\npolice refused him permission TO hold\nmeetings on the streets. has been\nsentenced 10 jail for six months in the\ncity court for breach OF the peace\n\n\nsilyio Pettirossi, the Argentine ayia-\ntor. fell into San Francisco bay while\ngiving an exhibition flight from the\nPanama. Pacific exposition. He was\npicked up BY tug and is reported un-\ninjured\n\n\nAnother year Of war and Austria\nHill face starvation. The food sup.\nplies already are growing scarce\"\nsaid Frank G. Davis Of Minneapolis,\nWho arrived Wednesday at New York\nVII 1Odfh TIC HtNdA4Fi sNDDt uAttAs\n\n\nHarry Thaw has filed suit for d.\nvorce against Evelyn Nesbit Thaw. He\nnames as correspondent John Francis\nwho Is described as New Yorker.\n\n\nThe Swedish Baptist General Con\nference OF America began sessions at\nOakland or Wednesday with 500 dele.\ngates present.\n\n\n\n\n\nThe Chicago board OF education has\npassed resolution BY a vote Of ii\n70 3, providing fine. suspension or\ndismissal for any teacher Or member\nOF the education department VINO\nshall at the end OF three months be\n4 member OF any organization having\npaid officers or representatives who\nare not members Of the teaching body.\n\n\nFinal tabulatioBs compiled and\nmade public ~ the coroner's office\nshow that si2 persons, 45i being Wo-\nmen, Lost their lives when the steam.\n3r Eastland, with $500 on board. cap\neized 81 the Chicago river, July \"a."
        ],
        [
         "757",
         "36_1915-06-29_p4_sn85038485_0034058269A_1915062901_0968",
         null,
         "The Birmingham age-herald.",
         "1915-06-29 00:00:00",
         "A modern soldier looks like a mem Der of the Ku-Klux Klan when he gets his, respirator on"
        ],
        [
         "874",
         "17_1915-12-19_p59_sn83045462_0028065873A_1915121901_0760",
         null,
         "Evening star.",
         "1915-12-19 00:00:00",
         "- URING the great debates to be\nIll \" held in and out Of Congress\nIll \" for the next ten months the\n~ voice of Senator Lee Slater\nOverman will be heard among the best.\n\n\nOpinions, unmixed with fear. are one\nof the intellectual novelties of the\nsouth AS two classes only, democrats\nand negroes, inhabit that part of the\ncountry, public men seldom have oc-\ncasion TO pause until they can strike\na balance between contending inter\nests or to learn which way the wind\nIs blowing. They speak right out.\n\n\nFurthermore. the political value OF\nthe south at present is away above\npar. The south. in the Judgment Of\nwashington. will revise the tariff. IL\n1t is revised II will vote new taxes.\nII any are levied. 1t will fix the size\nof the reformed standing army. Also.\nIL will add to the navy. II that arm\nof the national defense is increased in\nefYiciency, and IL will choose the ships\nand specify their armament and dimen-\nSions.\n\n\nSouthern opinion. then. when uttered\nby an influential man, is much to the\npoint at this Juncture. Senator Over\nman is a leader OF the bar in North\nCarolina. He practiced many years at\nSalisbury. where he won both fame\nand money.\n\n\nFrom the legislature of his state, OF\nwhich he was speaker for a time, he\ncame, twelve years ago. to Congress\nNow he 10 chairman of the committee\non rules in the Senate and member\nOF the committees on appropriations\nand the judiciary. Lesser democrats\nwhen in doubt, consult with him on\nmatters of doctrine. Though he be-\nlongs to the new south. he was fol\nlowed around by a black body-serv.\nant in his boyhood. lived through the\nrough era of reconstruction and saw\nthe masked Ku-K1ux Klan ride forth\nat night on ghostly horses.\n\n\n\"Poor?\" he repeated at one stage OF\nthe interview he was giving me\nwhy\" he went on, I'VE were SO pooI\nthat we often needed bread. My\nfather was q Union man. but he went\nalong with his state into the Confed.\neracy.\n\n\nwhen the war was at an end. we hat\nneither farm machinery nor live stock\nOur slaves had disappeared. Our seed\nbins were empty. Besides. we hat\nparted with some Of our land. taking\nConfederate money in return. Oh,\n\\ don't like to think about those terrible\ndays OF poverty and mental distress"
        ],
        [
         "887",
         "44_1915-08-21_p2_sn85038485_00340582809_1915082101_0774",
         null,
         "The Birmingham age-herald.",
         "1915-08-21 00:00:00",
         "I last Tuesday morning but postponed the sitting for a week after hearing the evi- dence of two witnesses as to the identity l of the vigilance committees victim | Coroner Booth said today that thus far he had discovered only two witnesses who had seen the lynching party in au- tomobiles approaching the vicinity Of the giant oak near the Frey gin. ne of these witnesses Is William Frey himself but neither was able to fix the identity of any member of the party. Frank was | recognized, they say. because of his only partly clad figure. The members of the lynching committee\" wore heavy auto- mobile goggles which effectively served the purpose of masks.\n\n A representative of the Associated Press visited Coroner Booth at his little country home two miles out of Marietta today. He is Y years old, but has the appearance and vigor of a man many years his junior. Under direction of the county commissioners the coroner has employed Gordon Gam as special counsel for the inquest which will be resumed next Tuesday morning in the Marietta courthouse.\n\n MT. Booth was in reminiscent mood to- day. The oath bound secrecy of the vigilance committees\" which carried out so precisely the lynching of Frank, seemed to remind him of the old Ku-\n\n \n\n ton period.\n\n Was Member of Ku-Klux\n\n T was member of the Ku-Klux-Klan in Ebert county in those days said the coroner. \"We were organized by Gen. Nathan B. Forrest, and we were divided into four twelves; that Is the county was divided into four districts and there were 12 members of the Klan in each district\"\n\n The coroner recalled the terrible oath that was administered to the members of the F<lan and of the grim work some times undertaken.\n\n Did any member of the K1an ever violate his oath of secrecy?\" he was asked.\n\n Tn an adjoining county one did, I be- lieve, but he was never heard of again. Some of his relatives sort of looked for him for while, but no trace was ever found\" With regard to the Frank investigation. Coroner Booth said he was making every effort to learn the perpetrators of the lynching\n\n II am sworn to inquire, and to inquire diligently\" he said, 'and I am going to do it.\"\n\n So far as could be forecast tonight. however. the verdict of the coroners jury will be that Frank came to his death lat tHe ndHuS or persons unknOWn.\n\n Franks Body Buried\n\n New York, August 2o-The body of Leo M. Frank, who was lynched near Mari etta, Ga. was buried in Mount Carmel cemetery, Brooklyn. The automobile hearse and the cars carrying the im- mediate relatives of the dead man. travelled at high rate of speed over the sx-mile route from the home of Franks parents to the cemetery in vain attempt to elude newspaper men and moving picture photographers. xr\n\n Franks parents, MT. and Mrs. Rudolph Frank, the widow and Franks sister Mrs Otto Stern. and her huseband oc- cupied the automobile that followed the hearse. A dozen other relatives and friends occupied three additional automo- piles. crowd of scarcely more than 100 people was in front of the Frank home when the casket was carried out at 9:l0 o'clock. Twenty minutes later the hearse had arrived at the cemetery, and 10 minutes after that the last Dur:ai serv- ices were concluded.. About 40 curious persons were in the cemetery when Franks body arrived and they crowded close to the grave. during the services. Perfect order was maintained both at the Frank home and at the cemetery. and the police at both places found noth- ing to do.\n\n Mrs. Lucille Frank, the widow. ap- peared calm and restrained until the burial service had been concluded Then she collapsed and was assisted to an au- tomobile. The services were conducted by Rabbi Alexander E. Lyons of Brook lyn and Rabbi David Marx of Atlanta."
        ],
        [
         "908",
         "4_1915-06-11_p3_sn89051210_00513688611_1915061101_0712",
         "KANSAS HISTORY IN\n\n\nRURAL SCHOOL EXAMINATION",
         "Pocahontas star herald.",
         "1915-06-11 00:00:00",
         "/. Who was Lovely? What\ns the Lovely Purchase?\n\n\n2. GIVE the date Of our territori-\n\n\nperiod and name the territorial\nlvernors.\n\n\n3. Make an outline showing the\nynershIp of the territory now\nlbraCed in Arkansas from\nrliest account to the present,\nanIoning dates and some of the\nidenoes of former occupancy.\na.. Tell about the preparation\nr statehood aud name some Of the\nmen connected with this movement.\n\n\n5. What is meant by the Noun.\ntam Meadows Massacre?\n\n\ng. Name and locate our State\nInstitutions.\n\n\n7. Give the purpose and the\ncharacter of the Regulators: Of the\nKu Klux Klan.\n\n\n8. Discuss two of the following:\nHolford Bonds, - Hinemon Amend\nObservation-Disclosures of State Nor.\nNAL School, = Arkansas on Wheels.\n\n\n9. 10. Write biographies Of\nthe following:\n\n\nCleburne, Baxter, Pike, Crit\ntenden,-Jeff Davis, DAVID o.\nDodd."
        ],
        [
         "964",
         "22_1915-01-30_p6_sn84026749_0029455791A_1915013001_0401",
         "Woman Stole Child\n\n\nAS Pawn for Debt",
         "The Washington times.",
         "1915-01-30 00:00:00",
         "ena Civin. of Klan, is charged with\nseizing in Austria. Mary Folkman.\nthirteen, and bringing her. a prisoner.\nto this country as living pledge for\nfather defrauded her She will be de-\nported.\n\n\nAt Ellis Island Mrs. Civin pretended\nthe girl was her own. The child was\nfound deserted at Gary. Ind."
        ],
        [
         "980",
         "2_1915-02-08_p3_sn84026749_0029455791A_1915020801_0527",
         ".HOLD.UP SUSPECTS\n\n\nCAUGHT BY POSSE\n\nAttempted Robbery Of Luxurious\n\n\nTrain Foi|ed as Bandits Lose\nTheir Courage.",
         "The Washington times.",
         "1915-02-08 00:00:00",
         "PALM BEACH, Fla, Feb. S.--Several\narrests have been made by q sheriff's\nposse Of suspects following the spec\ntacular hold-up Of the \"milloinaire's q\nspecial of the Florida East Coast\nRailway. at Stuart, yesterday.\n\n\nNot satisfied with the arrests, the\nsheriff has continued the search with\nbloodhounds. and all suspicious char\nacters are being placed under arrest\nwithin n radius of several miles of the\nscene of the attempted robbery.\n\n\nThe masked bandits. four in number\nclimbed aboard the Palm Beach limited\nas 1t was leaving Stuart, where the\nlocomotive had been taking water. They\nswung to the rear platform. where r.\np. Roger, general freight agent; +. w\nKirkland, general traffic manager, and\nDonald Laritess, al Atlanta publisher\nand his seven-year-old son were sitting\n\n\nThey forced these passengers at ths\npoints OF their revolvers to enter tn,\ncar and called to the passengers Il\nthrow up their hands.\n\n\nAll the women were ordered into tn,\ncar ahead. and the porters were order\ned to lock the connecting door. Ther\nas they were about to go through tn,\npockets OF the male passengers tn,\ngrinding Of the brakes caused the ban\ndts to lose their nerve, and as the trail\nslowed down they jumped from the ca\nand disappeared. The women had givel\nthe alarm and the conductor had order\ned the train stopped. Many Of tn\nsuit on the spot but not until toda.\nwere any arrests made.\n\n\nThe Palm Beach limited is one Of tn\nmost luxurious trains In the service."
        ],
        [
         "1050",
         "10_1915-04-16_p4_sn91068765_00415667759_1915041601_0093",
         null,
         "Jackson County journal. (Sylva, N.C.) 19??-19??",
         "1915-04-16 00:00:00",
         "Demonstration?\n\n\nThe Greensboro Daily News of\nFriday had a most able editorial\nunder the heading, Fifty Years Al\nter Appomatox The Daily News\nspeaking of the nightmare of Recon-\nstruction and the weapons which\nthe SOutherner was forced to use,\nsays: Yet for 40 years he has\nhandled pitch. Dare we say that\nne is undehled? North Carolina\nlast year was disgraced by two\nlynchiIgs. It's not that the scar OF\nthe ku kiux Khan? The men that\ndid the lynching we're not the type\nOF men that made % the famous\nKhan, OF course. But did not the\nhard necessity that made the best\ncitizens Of the South not counte-\nnance only but join the Klan insid-\niously undermine respect for all\nlaw? 1t is hard thing to say but\nhow else are we to account for the\npublic Indifference that made two\nmoo murders possible? The sancti-\nty OK the ballot IS violated at every\nelection in North Carolina-not gen\norally, of course, but far too often\ntor the public good. Il is a relic OF\nthe days when the North destroyed\nthe sancity OF tie ballot by putting\nit il hands unfit to use it. There\nwas a time when elections were\nSystematically stolen in parts of\nNorth Carolina because they had to\nbe 70 keep the state fit to live in.\nNevertheless the practice inflicted\na wound On the body polite that\nhas not yet entirely healed. In\nsome places elCc ons ale s il stole1l\nand the public countenaEces it be-\ncause it became familiar in other\nand more stressful days. This /:\nthe com in which the south has\npaid and is still paying for its\ndeliverance from the race peril.\nBut the debt is settled now, and if\nwe continue to pay it will be con-\nfessiOn OF Our own weakness. What\nthe new generation will DO about It\nis the most important question that\nfaces Dixie in 1915. Ancient evil\nis a harder foe than Grant, but if\nthe sons Of Lee5 soldiers surrender\nthat day will bear more bitter fruit\nfor the south by d dozen times than\nAppomatoX."
        ],
        [
         "1122",
         "6_1915-12-10_p2_sn99063812_00280760043_1915121001_1147",
         null,
         "The evening herald. (Klamath Falls, Or.) 1906-1942",
         "1915-12-10 00:00:00",
         "Administratrix Not1ee\nIn the County Court Of the Seass ~\n\n\nOregon, for the County Of Klan.\nath. !.\nIn the Matter Of the Estate OF 0eoree\n\n\nNoland, Deceased.\n\n\nNotice IL hereby given by the m\ndsrsignsd, administrators with the\nwill annexed Of the estate OF 0eoreei\nholland. deceased. to the creditors o.\nand all persons having claims aUaiuse\nthe said deceased. to exhibit such\nclaims. with the necessary voueherp,\nwithin six months after the ilrst pub\nlication Of this notice, to the said ad-\nministratrix. at the once Of H. O.\nMerryman, in the First state ana\nSavings Bank building, K1smath\nFalls. Oregon, which said once the\nundersigned selects as her place Of\nbusiness in all matters connected with\nsaid estate Of George Noland, a..\nceased.\n\n\nLoTT1E GooDELL NoLAND.\nAdministrators with the will ANNEXED.\n\n\nOf the Estate Of George Noland.\n\n\nDeceased.\n\n\nDater and hrst published at Klam-\nath Falls. Oregon on this 3eth day Of\nNovember, 1915.\n\n\nH. c. MERRYMAN. Attorney for said\n\n\nAdministratrix.\n\n\n9s-2-1o-l7.34 &"
        ],
        [
         "1159",
         "9_1915-04-20_p7_sn87093407_00200290653_1915042001_0839",
         "cNEr RUNS INTO\nNATIVE SON STUFF",
         "The Seattle star. [volume] (Seattle, Wash.) 1899-1947",
         "1915-04-20 00:00:00",
         "tA1O ONE can blame Chef Nc\nN Intyre. boxing instructor,\nfor being good and sore AT\nthe treatment accorded his boxers\n\n\nat the San Francisco championship\nbouts. Particularly is this true\n\n\nwith regard to Archie Wyard. who\n\n\nran MP against the California ma.\ntive son\" stuff In It's rottenest and\n\n\nmost malignant form. Even Cali.\nfornians. and there are some Of\nthem who stand for fair play, were\n\n\nnauseated at the way in which the\nreferee robbed WIZARD in his title\n\n\nbout, for the benefit OF a Native\nSon They hooted and jeered the\n\n\nverdict, and the following bouts\n\n\nwere conducted only with difficulty\n\n\nwith the crowd against the referee.\nII IL said that after the WIZARD bout\neven the Oakland lad. whom he"
        ],
        [
         "1219",
         "5_1915-10-29_p1_sn93067853_00295861642_1915102901_0077",
         "CHILDREN OF CONFEDERACY",
         "The Union times. [volume] (Union, S.C.) 1894-1918",
         "1915-10-29 00:00:00",
         "The Jefferson Davis chapter, Chill\ndren of the Confederacy, met Tuesday\nafternoon with Leonora Arthur and\na most interesting program was car\nried out.\n\n\nReconstruction\" was the subject\nfor study and some excellent papers\nwere given.\n\n\nDan Wallace, a grandson of Gen.\nw. H. Wallace, read paper on the\nfamous wallace House\" and Ted\nGarner on the \"Ku Klux Klan.\" Sallie\nWallace read several letters describ-\ning the visit of jefferson Davis to\nUnion.\n\n\nReadings were given by Albert\nMoore and Clough Wallace and Marion\nMixson recited \"My Shadow\"\n\n\nAlice Arthur furnished beautiful\nmusic.\n\n\nThe hostess served refreshments,\nassisted by her mother, Mrs. w. D.\nArthur, and Miss Elizabeth Arthur."
        ],
        [
         "1300",
         "22_1915-01-14_p1_sn93061711_00280773748_1915011401_0478",
         null,
         "The Tucumcari news and Tucumcari times. [volume] (Tucumcari, N.M.) 1907-1921",
         "1915-01-14 00:00:00",
         "On Friday evening Of this week\nthere will be two interesting games\nOf basketball at the opera house.\nThe first game is the second girls\ngame in the Clio and Klassic Klan\ninter-society series, and should prove\ninteresting from the sound of the\nfirst whistle until the close Of the\ngame. All former members Of these\nsocieties are urged to come out and\nroot for their favorite team.\n\n\nThe second game will no doubt be\nthe best boys game played in the\nopera house this year. The high\nschool boys are working hard so that\nthey will be in condition to defeat\nthe aggressive Santa Rosa team on\nJanuary 20. The game on January\nl5 will be the last game with the\ntown boys before Santa Rosa comes\nup with the avowed intention of\nscalping the local boys.\n\n\nOn Friday evening January 20\nthere will be no picture show at the\nopera house. The entire evening\nwill be given up to basketball. The\nfirst game, Santa Rosa girls vs.. Tu-\ncumcari High School girls will begin\npromptly at 7:45. Those who saw\nthe game at Santa Rosa know that\nthis will be the hardest fought game\nof girls basketball ever played in\nTucumcari. The score at Santa\nRosa was IL to IA in favor of Tucum-\ncarl, and the local girls are deter\nmined to win the coming game by q\nwider margin.\n\n\nThe game between the Santa Rosa\nboys and Tucumcari boys will be\neven more hotly contested than the\ngirls game. It is impossible for\nteams to be more evenly matched\nthan these two teams were at Santa\nRosa. The score was tied six diff\nferent times during the game. and\nthe local boys won by a margin of\none point. The score at the end of\nthe game stood: Santa Rosa %, Tu-\ncumcari 25. Our boys are working\nhard and look forward to the coming\ngame with confidence. However.\nthey need hearty support, Come\nout and give it to them.\n\n\nThe Santa Rosa boys and girls are\nto be the guests of Tucumcari on\nFriday, Jan. 20. How will Tucum-\ncarl treat them? This is not school\nproposition alone. The entire city\nshould be interested. Show them\nyou are glad TO have them as guests.\n\n\nWhen the Tucumcari teams went\nTO Santa Rosa, the business men in\ncases even closed their stores to take\nthe visitors for an auto ride. They\ncame out to see the game and. In\nfact, were tie jolly hosts to the visi-\ntors. We do not expect the mer-\nchants to discommode themselves to\nthe extent of closing their stores.\nbut we would appreciate II IL you\nwould lend US your hearty support\nand cooperate with the school to\nshow to Santa Rosa that we can en-\ntertain as royalty as they."
        ],
        [
         "1362",
         "2_1915-12-03_p25_sn86063758_00202194151_1915120301_0163",
         "The History of People is 7ypifedm\n\n\nWhat They do for Posterity",
         "The herald and news. [volume] (Newberry S.C.) 1903-1937",
         "1915-12-03 00:00:00",
         "of the government, and all of the act\nivitfes of the life of that day and time.\nIn all of the vicissitudes of the young\nstate the people Of this district ser6\ntheir part nobly and well. Whea\n\n\nstatesmen struggled with grave prob\nlens and situations fraught with dan\nger, Newberryis sons aided with wise\nand conservative counsel, with the\nhonor Of the state ever foremost in\ntheir thoughts. In the stress Of war\nand the dark period Of reconstruction\nno section of the state did more than\nNewberry to save the civilization OF\nthe south, and her people paid the pen\nalties extracted of them with fortituGe,\nand ever with hope Of better things\nThe famous Ku Klux Klan which did\nso much to save the civilization Of the\nwhite man and free the state from the\nrobber rule of the adVenturer and the\nnewly freed negro, fourished in New\nberry and it's influence was felt far and\nwide. 1t cost Newberry some Of her\nbrightest and best sons, but it saved\nthe homes and established the future\nof the people: Not few of the most\ninfluential and most worthy of the men\nof. this district were obliged to leavt\ntheir; homes and families to escape\npersecution from the dominant ele-\nment. Same have returned since ths\nclouds spassed away, but others nave\nbeen permanently lost to the conn"
        ],
        [
         "1375",
         "56_1915-02-09_p6_sn83030214_00206531861_1915020901_0184",
         null,
         "New-York tribune. [volume] (New York [N.Y.]) 1866-1924",
         "1915-02-09 00:00:00",
         "C!oaks and suits.\n\n\nAUSTRIAN y N-Heizhsrimer & shaui. }\nATIANIA-P : Allen q Co. Allen. 1901 BHa5'\nBrFrALo- seuist 4 FrnoJ; Smith 20\nBTfTSio\"iIens Kelly CO. n Looby: 81 union\ncr I9 Il Co. sproui. 81 18Th\nTfIcAGo-siesel- Cooper Co: II I. Bsrnbsum Miss\nGo.Jtsrg childrens and misses 10 2-i o.\nH,..ss Ii5 .a It l, H sSS2 and Miss\nCHICAGO-Chas 4 Stevens Bros willard; 70\nEND OKLA Kcnn,.lv Mere 70. Mics Hogan. %\nGr6yERsvuIE. \\ Y-lrar,in a MAYOR. Mr.\nHt,NTiNGTON. v VA-zeuner Bradshaw Co. Mr.\nZenuer. 1870 B\"sy. 9th door ,- ~. Va,\nHOUSTON TN Foley Bros u 20. MISS \"'''-\nNpifGYAp0IIs- p WATSON; Miss Grsuman. Il\npnDr1NAroLIs. VIM II Block Co. Miss ssd.er.\nNksSiiiivIIiTH' 7TEfNSS-Leb,ck Bros. Mr. Leaecs.\no,KEIASD' CAi-Gbrahamscu Rros. Abraham\noI,t1AE ~ !. B Bra a sous. nj\" Archer and\nVI McCarthy i26i BTay. I'm Hao,}}TTc,,,-,o, Co.\nOKLAHOMA CITY; ohlA ,o.S a. H'IH0''.'' w.\nPEj'BLO. Coll-Crews Besgs Go. Hart l4'o\nPlTT Tsi re Boys, & Bull; MccfeeD. a W\ns,iTrYAXn0AH. PENN L Goldin: 1870 BwsJ.\nST HI L@tis h Nugcnt Rro j G Co Mr White\nhouse. Miss Brntnn. suits go ''n o., III ..i .i.\nST rAi.i-C%2'Ths Golden RUE Mr. Kurz. 1870 B\"ay'\nST p'Ir GUL-Bannou Bros \\ Weinberg and Mr.\nRueer, 1851 Bvav, lin floor -. -. e,.-,.\nsAN JOSE. CA1l-Sull sonniAson Co: N' S''''\"'\nSIOUX CITY-Dayidson HTos; Davidson ana '''\nfishuu; l9el BT9y IN ~ noe\" sTd sun Co. Br\nNever 40 ith y. 10Th moor\nWATERLOO-Burch Bros Co; lSaacs'n' -\nSan 81 ,.,...\n\n\nBUFFALo-siesris' s Fraley; Smith: 20 \"\ncHiIICr HH,pmans. Miss Mansson. ns W S2d\ncfs66yiT sRs y MARTIN & Naylof: Nr\nStronr. 1870 fyway. an floor. A.,\nnj STlSGT0N. W yA-zenuer Bradshaw Co. NJ\nz,Y.s 2IG BT.g in n h9G Co. Mis-, sad,\nxt 81 HE TTENS%Iebeck Bros Mr Ie6sck'\npI IETs BgsG Box as\" Bull MccreeD II\nPkD ,r KY~E Guthrie, Co: Guthrie\nwash waists 81 Union 50 Sd 1cor. c,..o,.,. 200\nSAN FRANCfsCO-PraSer Co; Miss 'ofcorSn' wv\nsI11EH * 5i.H PENN-H GOldin 1870 B\"ay\nST EI T6Ii - Nuseut & Bro CO. Mr White\nsqaif t7S IN % P si Royal Miss Miller\na. W sd S.\n\n\nArLANTA-P J Allen d Co: J Alien. 1901 b\"V'\naNlsTFHDANf \\ Y--iIoiaLenler & shsul.\nShaul. ll30 Bwsy. 9Th floor ,., o, ~\nBUFFALO-siegrst a Fraley SmA' ~\ngT -id Al ai Kelly Co. NJ LOBBY 81 Union\nc so, co noSr eco, Conner TO. Mss Goldberg\nmisse1'. chiidrens and juniors is = ~ ~ 'O-''\nCHICAGO Hn Human's; Miss Manson. misses aud\n/ Observation-Disclosures Won Nlauf: II h~ne1'\n\n\nerss dresses 81 Tn!0n 81 81 ~ nor MAYOR Mr.\nS,rong: 1870 Bsay an floor c.,t,,.,r\nIH6IASAP0IIs - Goldstein Bros. Goidssn.\nrI sfISS VahFoLis% william ii Block GO. Hiss Sad\n/ Ter: 1867 BWay. lin hoo, ,.- ~. l. co. Ios\nnj Srbir six dresses : W I'D 8. 5tn nop'. ,,.,\n/ 0yAT4\"J Brandrs \\ sons; Mss Archer I-'l\npI FISH 1 FGH Boggs Bull Mccresy =\nsT -S1 fiN s h20 Bros, weinberg 1881 B\"ay.\nsl t5th hH SSiirY-pauason Bros. Davidson 1861\n. Bvay llth floor ~. ,,ts\nDdn'eI'y chiIdfcl's: 40 1ih sy l2th noof -,\n/ WhTERIOO-Bu Bros Co; lsaacsoh' -\nw Itlq -rallis Raa. Sns' Moscow\nmisses - W I'D 81.\n\n\nskirts.\n\n\nAMSTERDAM. y Y-Hollhcmsf & snau. y J\n\n\nSnauI 1870 BWy. Gu no9I. 4, roob,. -\nI HI'FFlLO- Kelly Co. lOoY %\nc,[T i!SG - &Hilmans. N Hnlman: llS W cd\ncasiIC A i(G;oc A stevens Bro'. WIZARD\nDA2IAS' TEx-Neiman. Marcus 60: Neimsn {;\nrxtGGnh ok SGKennedy Merchandise Co; Miss Ho-\ngan; 80 W S2d 81 I'm moor r.. Ma, we.t.\n| H0USTON-Foley Bros DDsoods 90 Nl'' \"'S'\n| phaling: ~ 22d a. ION moor -,....,. ne\nKLASD-Abrahamson Bros. Abfahsmson. llo\npI4Ts sfa R III 5a Bull: Mecres7 81\nsGf8 S2 Il s,a r0I PENy-H Godn: 1870 B\"H\nsac tSO Jos ST, cAL-s,an. soaniaon Co Mr. Son\n~ nsh'I TIR.ty ;T Cloak and suit Co;\n| i Meyer: 40 AN sv. 10Th ho0f\n\n\nPettioosts.\n\n\nCIovERsYILLE-Msrti MAYOR: Nh strong\nuIT 5;T SCT W VA-zennsr. Bradshaw Co: Mr.\nPt-T.Bpio-Grews. BegGs Co. i \\ Har. 1879\nST HT P&ri%Bannon Bros; Mr. Ra,ier 1851 Bway.\nr65RR ORR Bros Bancroft: Mr. East\n81 Ioris-B Nugent 4 Bro d Co; Miss c\n\n\nBackrnan. 40 4th az. I'm noor. M. ,,...,,, .\nwASIINGToN-The Palss Royal hi' ho''o\" :\n\n\na. \" 2&d :.\n\n\nCmCAGo-Chas 4 Stevens s. Bros, Mr. Rossnthai;\n\n\n40 ??d ., ION moor r.. A., y s,,,,,\nnr Fc,V IN III-IiHr scross, Co Miss Dam\n\n\nGu, gl linton 50 81 floor\n\n\nossKJILiNbL A ARA Bros Mu Gnber: lls \"\nEISc;HHNfoNp'. VA Mosby s Co; Mss Gun.\n\n\nninghaIo. Miss Kay and Miss Mann ~ ga\nst PAuI,\"Manheiner Bros Miss Fletcher. 1910\n\n\nBgay. 4th floor\n\n\nMu,Iln Underwear and infants Wear.\nCHICAGO-siese Coopcr Go; Miss Carey. muslin\n\n\nunderwear: Miss Nandeli. infants wear 10\nc6ipM Nh IS oHIo-Moorehouse Martens Co: Mis-.\n. fip\nPORTLAND MF-EastmAn Bros Bancroft. Mr.\n! Eastman: 1870 Bwsy. An floor -\nsan FRANCISCO -PrAger Co; Mss Corcorsn. 200\n\n\n9TH ay llth floor\n\n\nsilks Wash Goods and tln.D.\nBOsTON-R II White Co: Jennings: white\nRtfff FIFE - t Kelly Co. Nj poolsy silks\ncI HRS d.IS SoS T.sor Son Co; Ayrss\n\n\n40 Ith av 18th noor.\n\n\nCHICAGO slegsl Cooper Co Matthews. silks\nand Telyets: L Katz wash goods and fanucls. \"\n\n\nNorth dress goods and Innings. y Z ed q.\nNiIWATKEE-HerE,eld. Phnlirson Co. Mr Nc\n\n\nCsrthy. silks and dress goods. 81 Union Sd\noNAHA@J L Rrandeis & sons. Mr. Reidy. white\n\n\ngoods 1861 BwSr. lith floor.\n\n\noAKLAND-A c CGpven Co.. Mr. sullivan piece\nIR0RiA- Clarke s Co: Mt InrekIs wash goods\n\n\naud linens. 81 Union 50. 50 door\n\n\nST PAuI.-MInheiDcr Bros. Mr. Hopkins. linens\nST LOrIs-B Nugcnt 4 Bro Dry Good, Co: \"\n\n\nT Bostcn. silks: Mr. s,hns7zneyer ln'n.. 6\n\n\nPope wash goods Mattingb. dress GOODS 40\n\n\nan az. l2th floor.\n\n\nLAes. EnbrOldsrfss ard kset~.sr.\nCufCAGO-Chas 4 Stevens a Br,s; Mr. HON %\nCdIC6Go sicysl Cooper CO.. Miss TrrAk. II 2\nMiiLIwArkfsI-iIier,fo rhiuip.on Co: IL Mer.\nPITTSBl RGll-Jos Horne co. Miss kultz. neck\nst LOJlS-B Nugeut Bro Dry Goods Co. Mr.\nElumeuthal 40 an ar 18th fpor"
        ],
        [
         "1407",
         "8_1915-09-16_p1_sn86072054_00415660376_1915091601_0115",
         "to a Sofia dispatch.\n\nOrder of.Mules\n\n\nMay Be Received",
         "The West Virginian. [volume] (Fairmont, W. Va.) 1914-1974",
         "1915-09-16 00:00:00",
         "HUNTINGTON, w. Va, Sept. 1s.-\nThe picturesque but powerful protec-\ntive Order OF Mules, a famous eastern\nKentucky association organized in\n1896 to fight horse thieves and Other\ncrime In the rough counties OF the\nBlue Grass state may be reorganized\nImmediately as the result OF wave\nOf crime over the district. The Boyd\ncounty grand jury now in session at\nCatlettsburg has already returned\ntwo hundred indictments for murder,\nhighway robbery, burglary and other\nFcriems. =. The authorities are not able\nto cope with the ,situationssos the bust.\nness men have decided to step in y\n1.-THE Mules\" abandoned Ine1s11 Iat-\nterEthey had effectnally cleaned up\nthe eastern part OF the state as did the\npowerful Ku Klux Klan in the South\nafter the. war. \"The Mules\" unlike\nthe Ku Kluxs are not an order which\nmasquerades or keeps: the identity Of\nmembers secret."
        ],
        [
         "1420",
         "7_1915-10-08_p11_sn87093407_00200290677_1915100801_0303",
         "EDUCATIONI IS\n\n\nCURSE, He SAYS",
         "The Seattle star. [volume] (Seattle, Wash.) 1899-1947",
         "1915-10-08 00:00:00",
         "OAKLAND. Oct. s.-The curse\nof modern childhood is over-educa.\nton.\n\n\nThis is what Luther Burbank,\nCalifornia plant wizard. today told\ndelegates TO the convention OF the\nSocial Workers Conference for the\nPacific Slope.\n\n\n\"The first ten years OF a child's\nlife should be spent In preparing\nhim for education He should not\ngo TO school before that time\" Ear-\nbank declared\n\n\nIl would not bother with a dis\neased plant. It only spreads disease\namong healthy ones and accom-\nplishes nothing. so. why encourage\nsick children he asked.\n\n\nThe time spent out OF school,\nbuilding the body. Burbank said,\nwill be made up for by the child\nin perfect health."
        ],
        [
         "1425",
         "32_1915-06-19_p4_sn86064187_00200295213_1915061901_0235",
         null,
         "The Oklahoma City times. [volume] (Oklahoma City, Okla.) 1908-1984",
         "1915-06-19 00:00:00",
         "Thomas jefferson. now acting IN\nphotopluys nj the Reliance aud Ma.\nJestlc studios recently refused Il\ntempting offer to present revival Of\n\"Itip Van Wrinkle\" his fathers old\nvehicle, un the legitimate stage. Mfr\njefferson said that he WAS little\ntired Of the speaking stage and pre-.\nfcrrrd for the present the newer art\nOf motion pictures. He Is being feat\nurod In IL number Of character parts\n\n\nConnie Mack, the wizard Of base,\nball IL said to have carried 100000\nworth Of insurance on his great infield\nconsisting Of McGinnis. Collins, Barry\nand Baker \\ s. Hutchinson, presl\ndent Of the American Film corporation\nproducing The Diamond From the\n| Sky hus established new record Of\nthis kind, however by subscribing for\n100000 worth Of policies on the lives\nOf Lottie Pickford, Irving Cummings\n| Charlotte. Burton aud William Rus\nsell who are starring In the great\n\n\nphotoplay\n\n\ny. W GrIffIth's famous film spec\n\n\ntaclc The Birth Of Nation,\" has\nbeen seen by nearly 100000 Ameri\n\n\ncans IN five different cities since 1t\n\n\nwas originally brought out In March\n\n\nIn Los Angeles 100000 people saw the\n| picture during lts run Of fourteen\n\n\nweeks In New York iu twelve weeks\n\n\n25O,0OO attendants have filled the Lib.\nerty Thenter In Boston over 10000\n\n\nplnygoers have already viewed II and\n\n\nIN San Francisco and Oakland, Cal,\nanother FILM has been seen By 225,OOO\npatrons.\n\n\nIn filming Two Of the Finest\" the\n\n\nWorld Comedy Stars Film corporation\nforthcoming release, the famous come.\ndians, Weber and Fields, are said TO be\n\n\nnt the pinnacle u their delivery OF\n\n\nsuperb comedy Inclement weather did\n\n\nnot daunt them nor dampen the ardor\n\n\nOf their comedy and they were able to\n\n\nuse the streets OF Chicago as a vast\n\n\nstage upon which they produced what\n\n\nhas been snld to be one Of their most\n\n\nlaughable productions.\n\n\nDressed IN the garb Of two German\n\n\npolicemen, they cut cupers on the busl.\nest thOroughfares Of that city, causing\ngreat crowds 10 collect The thousands\n0f people who daily watched their an\nties, sometimes standing to thgir an\n\n\nkles In slush and snow, were Wlldly\nenthusiastic at seeing their fayorlte\n\n\ncomedians In close proximity acting\n\n\nbefore them\n\n\nEvery visitor 10 los Angeles now Il\n\n\nescorted to the Selig Jungle-Zoo, ont\n\n\n\" the sights VI the PHSifict COnst\nThis great institution Il the culmina\ntiun \" plans long formulated by Mr.\nSellg and the JungleZOo will stant\nfor years aud years as a monument 4\nthe artistic sense and wOrthlness O\nMr.. Sellg, pisleer In the motion pic\nturc art. who has unselflshly planne,\na wonderland for the enjoyment o.\n, generations 10 come\n\n\nMadison Square Garden has hen\n\n\neverything from prize cats 10 six dn!\n\n\nriders. II \" said to he the larges\nmotion picture \"theatcr\" In the world\n\n\nThey have built In big canvas settinI\nnt the Fourth avenue end, with larg\n\n\nscreen In the center. A very goo,\norchestra plays classic and popula\nI music Perhaps the most strikln\n| thing about Madison Square Garde\n/ as n picture house II that the films ar\nd projected u distance Of three hundrc\n! feet, the machine being situated In\n\n\nfire brick booth on the Madison ave\n\n\nnue end The pencil of light cuts m\nu darkness the entire length Of IN\n3 arena. THE Sporting Duchess wa\nq to have been the film, but chang\ng was made and the principal featur\n\\ was \"Silyer Threads Among the Gold,\na And now China Is waking TO III\n\n\npossibilities ~ film entertainment\nY Strange as II may seem, humor il |\na strong demand there. The Wester\n\n\nImport company, foreign agents fC\nII the Reliance. the Majestic and OthC\ny big film concerns, reports that n\nII \"Komlc\" comedies and various funn\n|. Reliance aud Majestic photo play\n= are In big demand for China.\n\n\nn Miss Geraldine Farrar who has lat\n% ly been signed by the Jesse Lash\n10 Film company win be met at Los Al\nb gees hy the mayor and delegate\nNo from the chamber Of commerce, wi\nm win welcome her as the greatest arti\nIn who has ever visited Los Angeles\n( he filmed Five thousand school chi\n- dren win shower flowers upon her\nNJ she makes her triumphant entry In\nr. Los Angeles. The pictures will be I\n70 ken nj the Jesse 1asky studios at ht\nIN lywood. where Miss Farrar and h\nlr party viii occupy a large villa leas'\nu. Tor their exclusive use,\n\n\nAl the largest salary ever paid 4\n., appearance In motion pictures AM\n- pavlowa and her famous Ballet Rus\n-, have been engaged by the Univers\n.I Film Manufacturing company for\n=, elsht.reel supreme photoplay Aubel\ny grand opern, \"The Dumb Girl ~ PC\n-, ticl,\" which was represented In graz\nSs opera form twenty.one wears ago\n~ the Metropolitan Opera House In N,\n~, ~, York. viii he the subject. II II p\n~ turesQue aud full Of action and W\nw. w. afford plentiful opportunity for III\nIN Iowa and her dancing troupe TO exhil\n= their skill The Interior scenes will\n\"A begun July 3 In Chicago during I\nno engagement of Pavlowa In that ci\n,is full comDany Of forty seven peol\n-. viii he used.\n\n\nWhen the wife Of a lazy man\nire f,nes 10 take IN washing to supp\n\n\nhim he begins 10 talk about marriI\nne being a failure.\n\n\nIln -=s=s==aaa===s-=- aa-==a=a-a-t\nII Speak hut little and let that III\nids be IT, .---''"
        ],
        [
         "1428",
         "9_1915-11-09_p4_sn83007465_00415620524_1915110901_0743",
         "rnn WONDERFUL PRODUCTION\n\n'Thc Birth of Il Nation\" to he Staged\n\n\nin ChnrlOItc Nov Il.IH.lz",
         "The Lancaster news. [volume] (Lancaster, S.C.) 1905-current",
         "1915-11-09 00:00:00",
         "VII HaIfclIS Nov. ID-1N-fT\n\n\nID. w. Griffith's THE Birth of n\nNation, is decidedly the most re-\nmarkable historical spectacle ever\npresented in America. 1t will be seen\nin Charlotte for three DAYS beginning\nMonday. November 18th at the Acad-\nemy of Music. with daily matinees\nafter the opening day.\n\n\nPetersburg and Atlanta Apnomat-\ntox and Ford's Theatre. the foothills\nOF South Carolina and the wild rides\nOf the Ku Klux Klan live again in\nMr.. Griffith's $4,000 feet of supt,rb\nmotion picture, which took eieht\nmonths to produce cost 100000\nemployed $4,000 people and 3 600\nhorses. The great spectacle is an\nepftome of scenes, incidents, char\nacters. passions and emotions of the\nwhole great period from 1861 to\nl87O-the period occupied by thu\nCIVIL War and Reconstruction. Sue-\noesfed by Thomas Dixon's \"The\n'ansWan\" and \"The Leona rd,s\nSoots,' 1t Is a grandly epical work los\n\"\"n'us. The eno~n1ons non-Ia ritv\nachieved bv \" in New York. Boston.\nEht\"a\"o. San Francisco and Los\nNoR\"'es has hAen rannaa tod in T,irb\n,nnnnd, Norfolk, Ashevt,ie. and aT\n,'o~\"s IN ne -nnte AMI the nrospeets\nere that ft7Wili' crGwd the Charlotte\np'o o'-rn\"on ~ evn-v nerformanoe\n\n\nThe advance sale ~ seats will ba\ne'r Tr'dav norn'Re November 10Th\nat the theatre box-ofjice Mail ordere\n3\"au he forwa-ded ~ Manager Johr, I,\n,Erovo. A\"ademv of Mne'c. Charlotte\nand ah ma'' orAers viii be filed iu\nthe order OF their receipt. ~"
        ],
        [
         "1455",
         "18_1915-03-12_p6_sn86066890_00513680715_1915031201_0608",
         null,
         "Gunnison news-champion.",
         "1915-03-12 00:00:00",
         "\n\n\nTrin.ss ae~sA sssa Cor yossr s~aasr For\nss'si sase. ssos 10 yss.EsaE .ss ssas\ntsas from Ansari1a.\n\n\nBat Alsa has more than once viz-\nitea America iacoenite and unknosu\n- Seneca Trias wa . seorss route Of\nhas o~n seseossoa\n\n\nhight asys out of Loudou. . SECOND\nclass pazseaess ne<ly LANDED from\none of the ca steamships. he xslsed\nthe streets ef Quebec-aas aEoppod\nQua % sight bet~eea ears and as~n\n- tsrn up presently IN the distant\nCanadian hamlet Of Baie ST Paul ap\nparently a very tena.rfooted AHerican\nSoosis.trsveier chapeFoned by a taci\ntuzn Indian guide picked up heaven\nsnoNs. u-here\n\n\nCrossing the 81 Lawrence by nichf.\nThe tue STRUCK on quietly into the\nhiuterlaad Of the Notre Dame range.\nthen crossed the Maine border\n\n\nGA the second noon thereafter.\ntrali-worn and weary as lean as their\ndapleted packs. the two paused oa 8\nridse-pole Of the wilderness up bach\nct the Ailagash couutry. and made\ntheir midday meal Ia a silence which.\nII normal in the Indian. vas one OF\ndeep misgiviags on klan's part\n\n\nContinually his gaze questioned the\nnorthern skies that lowered porteR-\ntuusly. foul with smoke-a county\nvide cnnfagration that threatenea an\nrrrthern Maine. boRe-dry with\ndrought\n\n\nOnly the south offered a fair pros.\nrect And the fires we're making\nsnuthward far faster than man might\nhone 20 travel through that grim and\nstubborn land\n\n\nEven as he stared. Alan saw fresh\ncolumns Of dun-colored smoke spring\nup IN the northwest\n\n\nAnxiously he consulted the impas.\nsive mask of the Indian. from whom\nhis questions gained Alan little com\nfort Jacob recommended forced\nmarches to Spirit lake. where canoes\nmight be found to aid their fight:\nand withdrew into sullen reserve.\n\n\nThey Travelled far and fast by dim\nforest trails before sundown. then\nagain paused for food and rest And\nas Jacob sat deftly about preparing\nthe meal, Alan stumbled on TO whip\nthe little trail-side stream for trout\n\n\nPerhaps a hundred yards upstream.\nthe baoklasf Of careless cast BY his\nweary hand hooked the state of Maine.\nToo tired even to remember the ap-\npropriate words. Alan scrambled\nashore. forced through the thick un-\ndergrowth that masked the trail.\nfound his ny, set the state Of Maine\nfree-and swinging on his heel\nbrought up, nose to . sap,ing. trans\nfixed by . rectangle Of white paste\nboard Axed to its trunk. . trey OF\nhearts. Of which each pip haI been\nneatly punctured by . 22-calibss bul\nlet.\n\n\nHe carried II hack to canp, mean\ning TO consult the guide, but % Sec\nond thought, held his tsaOUs. n vss\nnot likely that the lndian had over\nlooked ~ object % eoaspscuous %\nthe trail\n\n\nSo Alan waited for him to spsak-\nand meantime Aeterminsl 70 watch\nJacob more narrowly, though no other\nsuspicious circumstance had marked\nthe several days OF their association.\n\n\nThe FIRST half of the night yes, %\nthe day, devoted to relentless prog\nress southwark; thirty minutes Of\nsteady jogging, five minutes for rest\nand repeat.\n\n\nNo more question as to the need for\nsuch urgent haste; overhead the north\nwind muttered without ceasinG. Thin\nwells Of smoke drifted through the for\nest. hugging the ground, like some\nweird acrid mist; and ever the cur\ntsined heavens glared, livid with re-\nfiected fires.\n\n\nBY midnight Alan had come to the\nbounds Of endurance; flesh, bone and\nsinew could no longer stand the strain.\nThough Jacob declared that Spirit\nlake was now only six hours distant,\nas far as concerned Alan he might\nhave said 900. His blanket once un-\nrolled. Alan dropped upon 1t like ore\ndrugged.\n\n\nThe sun was high when he awak-\nened and sat up. rubbing heavy eyes,\nstretching aching limba wonAering\nwhat had come over the indian to let\nhim sleep 90 late\n\n\nOF a sudden he was assailed by sick\nening fears that needed only the brief\nest investigation to confirm. Jacob\nhad absconded with every valuable\nitem of their equipment\n\n\nNor was his motive far to seek.\nOvernight the fire had made tre-\nmendous gains. And ever and anon\nthe wind would bring down the roar\nOf the holocaust, dulled by distance\nbut not unlike the growing of wild\nanimals feeding on their kill\nAlan delayed long enough only to\nswallow a few mouthfuls of raw food.\ngulped water from spring, and set\nout at a dog-trot or the trail to Spirit\nLake\n\n\nFor hours he blundered blindly on.\nholding to the trail mainly by instinct\n\n\nAt length, painting. gasping. half\nBlinded, h staggered into a little nat"
        ],
        [
         "1472",
         "1_1915-12-09_p2_sn86063778_00415620263_1915120901_0224",
         "War Hero Buried in York.",
         "Fort Mill times. [volume] (Fort Mill, S.C.) 1892-current",
         "1915-12-09 00:00:00",
         "Following the production in\nthis section of what is now a pic\nture known all over the United\nStates, dramatized from DiXon's\n\"Clansman,\" people of York\nhave made the discovery that\nthe little colonel a famous fig\nure in both the novel and photo\nplay, is buried in Rose Hill ceme-\nterry in York. This information\nhas been obtained from a York\nwoman, who secured it by writ\ning to the author of The Clans\nman.\" The little colonel\" in\nthis famous play was Col. Will\nliam McAfee, a native of Shell\nby, N. c., and a colonel of the\n26th North Carolina regiment.\nHe was married to a woman of\nFairfield county, this State. and\nmade his home here, being one\nof the prominent organizers Of\nthe Ku Klux Klan. His second\nwife was living in Georgia at\nthe time of her marriage but was\noriginally from York. Only a\nslab erected by the United\nDaughters of the Confederacy\nmarks his grave and it is said a\nmovement will be launched to\nerect a monument. - York special\nto The State."
        ],
        [
         "1493",
         "2_1915-08-27_p10_sn83045487_00280761175_1915082701_2382",
         null,
         "The day book. [volume] (Chicago, Ill.) 1911-1917",
         "1915-08-27 00:00:00",
         "terest any intelligent crowd.\n\n\nMr.. .Laughman believes in the sep\naratiOn of church and state and he is\nalso out for free speech and a free\npress, and feels, through being an\nAmerican citizen, that he has the\nright to tell the public of the dangers\nthat are ahead of them if they do\nnot wake up.\n\n\nThe police claim that the business\nmen of RoseIand are opposed to these\ntalks, while the records of the police\ndept will show that each time Laugh\nman is pinched a Roseland business\nman will bail him out. If there is\nany doubt as to whether the people of\nROseland wish to hear Laughman\ntalk just visit one of the meetings.\nLayghman is out for free speech and\na free press and a few pinches will\nnot stop him in his effOrts.-A. K. w.\n\n\nTHAT VERDICT.-\"Death by I'M\nknown parties\" that was the verdict\nof the grand jury regarding Leo\nFranks demise. e..\n\n\nThis is the only justice for a mob\nthat disTegards a governors commu-\ntatiOn from death to life imprisOn-\nment and, Selling its victim from the\nstates prison, from under the watch\nfull CD eyes of it's guardians, Iynches\nhim.\n\n\nWhere is Atlanta, Ga? In Russia?\nNo! It is in the land of the free and\nthe home of the brave 'fthe United\nStates) It is in a community that\nprides itself on its culture, it's prog\nress and its growing population. It\nhas endorsed methods of the dark\nages and of the Ku KIux Klan when\nit ruled supreme in the south.\n\n\nWith this action it makes life a\nhazard in that state All man has\nto do if he has a grudge is to accuse\nanother man of an atrOcious crime,\nforvy grv7,, +I,f1nv.-"
        ],
        [
         "1500",
         "10_1915-12-01_p10_sn82014086_00295866020_1915120101_0301",
         "oRPHEUM THEATER, DANIELsoN.\n\n\"The Birth of a Nation.'",
         "Norwich bulletin.",
         "1915-12-01 00:00:00",
         "This greatest picture of all time comes to this theater Monday, Tues day and Wednesday, matinee and eve ming, next week. A presentation that has interested millions of people is still at the height of its popularity, as attested by the following from the New York Evening World of last Fri day:\n\n Contrary to the announcements made earlier in the week, The Birth of a Nation is not to leave the Liberty the atre tomorrow night. Six weeks have been added to its engagement there and nobody can tell what will come when the extension ends. This pie ture was first shown at the Liberty March 3 of this year. Its gross re- may reach $14,000. Few regular theat- rical productions in New York at pres ent are equalling these figures. To find one for the Liberty that would do as well might prove difficult\" That is always the story of The Birth of a Nation. The performance is more than an expressing entertain ment. The first part is an eloquent and impaSsioned protest against the horrors of warfare. The tragic leave takings, the wrecking of homes, the broken ties the fearful sights on the battlefield are depicted with relentless fidelity. The flower of young Amer ican manhood is shown going forth rom northern ana southern homes to certain destruction in the terrible con- f1ict which rages with appalling real ism. The calamity in Europe is brought home with sickening vivid ness.\n\n The production is valuable as les son in history, for besides the de- cisive battles of the Civil war, Lees surrender at Appomattox, Sherman's S march to the sea, President Lincoln in office and on the night of his assassi- nation and the rise of the Ku Klux Klan are among the incidents pie tured.\n\n It is the mightiest of all productions and Danielson may we'll feel gratified that it is to see and enjoy it in all af the magnitude and excellence of its Boston presentation.\n\n To avoid disappointment, however, the thoughtful ones will reserve their seats at an early hour for with only six performances to be given during the engagement, it may we'll be inn agined that there will be thousands who will not be able to secure seats for any of the performances.\n\n Late cars to Central Village and Putnam each night."
        ],
        [
         "1534",
         "66_1915-02-19_p1_sn99063812_00280760043_1915021901_0110",
         null,
         "The evening herald. (Klamath Falls, Or.) 1906-1942",
         "1915-02-19 00:00:00",
         "Police Judge OF the city Of klan'\nath Fails. Oregon.\n\n\nDated at Klamath Falls. Orto1a\nFebruary 9Th. 1915. 5bW"
        ],
        [
         "1573",
         "7_1915-09-10_p2_sn88076639_00199918205_1915091001_0368",
         "GENERAL,",
         "Sioux County pioneer. (Fort Yates, Sioux County, N.D.) 1914-1929",
         "1915-09-10 00:00:00",
         "The National Education association\n.donted a DECLARATION Of Principles\"\nin Oakland, Cal, commencing Presi-\ndent Wilson's policy concerning the\nMexican and European situation\"\n\n\n-\n\n\nThe army engineers river and har-\nbor board notified Congressman Bor-\nland. at Kansas City, it would hold q\nhearing at Washington. October IL.\non an appeal from a recent report OF\nlieutenant Colonel Deakyne that the\nMissouri river is not navigable and\ncannot be made 80 except at prohibi-\ntive cost.\n\n\nMrs. Pershing, wife Of Brigadier\nGeneral J. ]. Pershing, and her three\nchildren were burned to death at their\nhome at the Preside. San Francisco,\nCal. General Pershing 10 . former\nNebraska man.\n\n\nRepresentatives Of thirty-five col\nlege newspapers Of this country and\nCanada with . total circulation of\nmoro than 100000 at meeting held\nin New York, decided to bar liquor\nadvertising Of all kinds from their\ncolumns.\n\n\nFormer President William H. Taft\nargued for reasonable regulation OF\ncapital and cautioned labor against\nseetinx discriminatory legislation in\nan address before the San Francisco\nCommercial club.\n\n\nThe report that the state OF Mime\n.ota hopes to collect a large inherit\nance tax from the estate OF the late\nfrederick Weyerhaueuser. lumber\ntinx was confirmed by the attorney\n.onerars ONCE In st. Paul. 1t was\nGated that the amount the state may\nrealize approaches 100000.\n\n\nEneland, France and Canada have\n,,.ced With Philadelphia manufactur\n~. var orders for $10.000.Oo0 worth\n~ blankets. overcoats and material\nfor uniforms, and Italy has ordered\nkno ooo from the same workshops.\n\n\n\"I shall recommend to congress the\nannropriation Of 100000 dollars for\nsubmarines and aeroplanes. which\n-..lixe are the most powerful YEA\npons of warfare\" said Secretary OF\nthe Navy Daniels upon his arrival In\nposton to attend meeting OF gov\nernors.\n\n\nForcing their victims to lie on\n&ho,r stomachs and kicking them Il\nthey protested. I'VE masked bandits\nhold I'M nine autos, and got away with\n$4,000 ard jewelry worth $4,000, south\nof Butte, Mont"
        ],
        [
         "1608",
         "5_1915-08-13_p2_sn83016689_00279552301_1915081302_0793",
         "YPSILANTI",
         "The Detroit times. [volume] (Detroit, Mich.) 1903-1920",
         "1915-08-13 00:00:00",
         "The Z. s Pressed Steel Co. have\nnot only enlarged their working and\nOffice force but their floor capacity.\n\n\nMrs Mary Max. OF River-st.. Was\nhostess. Thursday afternoon. to the\nJolly Ten club.\n\n\nWedding bells will ring at least six\ntimes In Ypsilanti during the month\nOF September.\n\n\nstreet Commissioner John Law\nrenee Is recovering from q serious\nillness.\n\n\nMiss sarah Lewis will return about\nSept. 1. 10 Corunna. to begin her NTH\nwork as teacher In the public schools\nOF that place.\n\n\nThe annual reunion OF the Smith\nfamily will he held Sept. 8. at the\nhome of Mr.. and Mrs. William r.\nSmith\n\n\nThe annual meeting OF the Denton\nMissionary society viii be held Sept\n|. at the home OF George Burrell. near\nDenton\n\n\n]. T. Lowe. OF Adrian. is visiting\nhis niece, Mrs. J. II WEIGH.\n\n\nMrs. Chas. ID. Price has sold her\nfarm south OF the city to John Sell\neska; who will take possession in\nApril. 1915.\n\n\nThe Do what-You-Can circle OF\nKings Daughters will meet Saturday\nafternoon at the new home OF Miss\nJeanette Waterbury, on Pearl-st.\n\n\nThe Friends Church Christian En-\ndeavor. society will meet Wednesday\nevening at the home OF Mr.. and Mrs.\nWillard A. Freeman.\n\n\nA meeting of the Idle Hour club\nwill be held Wednesday afternoon\n\n\nThomas j. Keech. OF Ann Arbor,\nhusband OF the former Miss Jennie\nMoore. OF this city. died Tuesday.\nfollowing stroke of paralysis\n\n\nAugusta Kubin has purchased a lot\nin the Norris addition from Hannah\nYoungs\n\n\nMrs. Nettie w. Bird. OF Webster\ntownship. Is suing her husband. John\nW. Bird. for a bill OF divorce.\n\n\nThe w. r. C. win meet Friday aft\nernoon al O'clock: business meet\ning of the O. A. r. will he held at\n1880. the same evening\n\n\nA postponed meeting OF the Denton\nming at the home OF Mr. and Mrs.\n\n\nMr., and Mrs. E. W. wizard will\nspend sunday at whitmore laA-\n\n\nMr.; and Mrs. Otis e stephens. OF\nMichigan-ave.. will spend a few days\nat Portage lake.\n\n\nRev Albert f. Cook has been on\nthe sick list. but IL recovering\n\n\nThe w T. L. will have charge\nian congregational and Baptist union\nchurch.\n\n\nMr and Mrs. p. s. Odds and daush-\nter. Miss Daphne. will go TO Maybee.\nreunion of the Throop family One\nhunored and nifty guests are expect\ned. The gathering will be held at\nthe home OF c. =. Herkimer.\nMISS Alice Moore writes she Is en-\njoying an outing at Duluth\nMiss Harriet Shankland will leave\nIN rev days for a visit I'm Flint.\nlist y\" '\"' ''eA\n\n\nMiss Frances Hardness, of 81.\nCiaire. n visiting at the home OF her\nsister, Mrs. f. Fred weinmann."
        ],
        [
         "1619",
         "6_1915-12-21_p1_sn83045377_00271765563_1915122101_1067",
         "\n\n\"a LETO 1916",
         "Proletarec. [volume] (Chicago, Ill.) 1906-19??",
         "1915-12-21 00:00:00",
         "je izsel. Koledar j, vezan v trde platnice, steje $40 strani in ina sle.\nKoledar Il lco 1916. - stOletna pratika. - splosen kalendari in\nzbirka raznh podatkov Nase osolncje. Zemra in luna. stanje panetov\n1916. vOlni koledar. Casovna raznka. Mnozitvena tabela. Casovna\nmera Mere v zedinjenh drzavah. Raznka med amersko ii evropsko\nmetr1sko nero. Nepismenost v zedinjenih drzavah. obrestna tabela.\nslovensko prebivalstvo v Zedinjenih drzavah. Najvecje stvar N a svetu.\nsmrtna kazen v zedinjenih drzavah- Monroe-doktrna. zentveni zakoni\nIN razporoka' hako SO pokhc razdeIeni v zedinjenih drzavah. Drzav-\nGanska pravica. Naturalizacjski zakon. Kohko je civinih zveznih\nvsluzbencev. Koonje zedinjenih draw, Kanada in Mehka. Republic\nv juzni in centralni Ameriki. vladni sistem v zedinjenih drzavah.\nProglas neOdvisnOti- Ustava zednjenih draw. KakO je bia ustava\nz dodatki sprejeta) - Letni pregled. - Ivan Molek: Cemu 81 rodna\nsina? \" verzih). - John Reed: Hi revolucije. venkani liz davne\ndobe. - joe AmbrOzic: \" krvi. - Ivan Molek: svObOda \" verzih).\nEtbin Krtstan: Jan Illus. - Flip Godina: Kako je v Alaski. - joe\nglib. - Ivan Molek: oparnice \" ver,In Krnn.nt n\"m, ,N~eu rmO\nPehn: Ma onem svetu. - Pravlica o Evinem jabolku. - Ivan Molek:\nkaj BIO po vojni. - Etbin Krtstan: Izkusnjava. - M. Arcibasev: Re-\nvoucionaE - Joe zavetnIk: oko postave. - sociansticno gibanie\nslovenskih delavcev v Amerki. - Frank Petric: Poglavje O organiza-\nciji - Theodore cvetkov: zakaj Sc bo!e ljudje teme. = Howard Moore:\nostanki barbarizma v civilziranih ludeh. = odomki. - scegetarks.\n- oglasi.\n\n\nUvodna shka v dveh barvah. - Planet Saturn. - &c h Sc sovrazni-\nka zmenna - stop bisnev d a razstavi v San Francisco. - Pre-\nkucnjeni parnfk Eastland. - Madi Rockefeller - Starr Rockefeller. -\nJohn R. Walsh. - John R. Lawson. - Usmrcenje 'nezvestih, v Me-\nhiki- Mrlti a bojnem polju. - Prior IL francoskega bojisca. -\nKruppOv najnovejA mortar. - Kmet kopue grob padnm vojakom v Ga\nlicti - Nemska vojaska kuhnja. - \"Civilni boievnikd' v Belgiti ca\nkajo n \"a snIt. otrOoi Y Nen:iji SC vczbajo \"a klan:e. - Mrita.ts.cat\nduh med Otroci ma Japonskem. - Ruski vojni ujetnih v Nemcii -\n1nsunkctja sensk \"a sprevodnisko suzbo n Nemskem. - Frsneoske\npremogarji ma Angeskem. cemu 81 rodila sinai - Dinozaur \"corytho-\nsaurus''. - Lobanja dinozaua 'corythosaurusa\" - Kristus in srap-\nnell. Jan Hs. - Kajzerjev grad v Prusit. Jan Hus Ia grmadi\nkucnjenega parnika Eastlanda. - Kako 90 v,osr ,a aSv.n nr.ve pre-\n- Doina bakrenih rudnikov v Bingham Canyonu. Utah. - Breznlaena\nvoznja \"a delom ma farme. - Prior z rusko avsriiskepa boiis6a\nRuska carinja in carjevic, pokazujoca sledove bolezni. - cha,,o,t,\nblazna 'mehiska cesarca\". - Bablonska tabica 8 pravIuco o nrvsm\ngrehu. - Diva francoska voaka - in samo dive roki SLOW o kluh\nv clevelandu' o - SLOW. soc. kub v Canonsburgu, Pa. - SLOW 500 klub\n\" Dunlo, a. - SLOW. sc kub v syganu, Pa. - Jugosoy. SOC. skun,n,\nv Huntingdon, Ark. - SLOW. zoe. klb v Erankinu, Kans - SLOW sc\nkmo v chntonu, Ind - SLOW. 10 klub \" Dunkirku, Kans. - SLOW soc.\nkmo v Jenny Lindu, Ark. - SLOW o klub v Rock sprngsu. wvo -\nSLOW. soc. kub v Superior, wyo. - SLOW. soc. kub v Kcnosht. wis -\nFranciska Tratnik. - Josip Dernac. - Ernest Untermap Ra,nh\nhorhgold - May Wood SImons. - Chas. Ed. Russell. - MN. z Ro-\ndrtguez. - John c. Kennedy.\n\n\nSkupaj Ga SILK.\n\n\nZEMIJEvIDNI oBRAZc1.\n\n\nbomi pas v Relgji in FrancUi - Rusko nemsko avstrjski bojni\npas\" - Observation-Disclosures bojni pas.\n\n\nGEM 40 CENTOV\n\n\ns postnino vred \"a ve kraje Zedinjenih draw.\n\n\nhoedar je letos pet centov drazji ZATo PA INA 40 sTRANI VEG.\nooe siovenski delavec hi n 10 smell bii brez tie zanimtye in koistna\nknJige. Narcotic ga Sc danes. Narocla spreiema\n\n\nPRoLETAREc. 4Oos W. 81. ct. CHICAGO. Ill.\n\n\n"
        ],
        [
         "1623",
         "1_1915-02-20_p7_sn84026749_0029455791A_1915022001_0708",
         "birth of Nation\"\n\n\nHas Premiere Here\n\nMembers Of Supreme Court, Con.\ngress, and Diplomatic Corps\n\n\nGuests OF Press Club.",
         "The Washington times.",
         "1915-02-20 00:00:00",
         "Members Of the Supreme Court. the\nsenate, the House. and the Diplomatic\nCorps were present last night ut the\npresentation. under the auspices OF the\nNational Press club, OF the gigantic\nmotion drama. The Birth Of the Ma\ntion,\" based on Thomas Dixon's \"The\nClansman. Owing to the Limitations\nOF the Press Club quarters. the pic\nture\" was given it's first public showing\nIn the big ball room Of the Raleigh\nHotel.\n\n\nchief Justice White. Of the Supreme\nCourt, and Mrs. White. in whose honor\nthe premiere was given, occupied re.\nserved seats. There were five hundred\nin the audience. including members OF\nthe press and OF Washington officia\nlife, and they cheered and applauded\nthroughout The three hours required t.\nshow the drama.\n\n\nDavid W. Griffith. the producer, asked\nthat no review OF the drama be giver\n\n\nuntil II has its New York premiere\nMarch 3, when 1t will be shown to the\ngeneral public for the first time. Thurs\nday night the picture was shown at the\nWhite House.\n\n\n1t took Mr.. Griffith eight months t.\nproduce this drama, at a cost said to bt\n$780, Eighteen thousand people wer,\nused in staging the spectacular feature.\nand battle scenes and more than zoo\n\n\nhorses were used in the charges Of tn,\nKu klux klan."
        ],
        [
         "1628",
         "20_1915-08-20_p6_sn87062224_00514156451_1915082001_0410",
         "SLAUGHTER BEACH.",
         "Milford chronicle.",
         "1915-08-20 00:00:00",
         "One of the most severe electric\n\n\nstorms of the season passed over this |\nfamous bayshore resort last Sunday |\nafternoon. The storm came up rapid |\nly, as a result of which number OF |\nautomobile parties were caught on |\nthe beach. The hotel propiretors and |\nthe cottagers provided ample protec-\ntion for them until after the storm had\nabated.\n\n\nAs the Chronicle goes to press one\nof the largest crowds of recent years\nis enjoying Big Thursday\" along the\nwaterfront of \"Old Slaughters.\" I'm\nlike the crowds that go to Bowers and\nsome other of the bayshore resorts.\nthe big gathering of people is prOvid-\ning amusements for itself At the\nother resorts fakirs provide a source\nOf amusements for the crowds. The\nold country fiddler, together with the\nJig dancers, were in evidence A G\nfew years ago they were seen in num- a\noers; but now only few Of the older\n)nes are left. \"\n\n\nThe fishermen haven't been catching b\nmany trout during the past few weeks y\nmd this week has been no exception. L\nSeveral seins have been hauled but\nI\naught at any one time.\n\n\nGeorge Grier of Milford, who is a N\nuest at the Hotel Grain, is posing as\nne of the resorts heroes this week. W\nhe cause for this chestiness is the\nact that, unaided, he pulled two young ye\nldies who had gone too far into the 81\nater back to safety. Mr.. Grier is ex-\needingly modest in relating the story\nhis thrilling rescues. Z\nThe Sherwood Cottage\" has been\ne scene of one of the most enjoyable\n)use parties during the past two\neeks, the family of Thomas Wilson,\ngether with a large number of 70\nlends, having occupied it. This\neek the family of Curry Macklin, of\nncoln, are in the cottage. Er\nGuests at Grahn's Hotel this week ON\nWe been numerous, and all report\ncellent meals. Judge Marvel, of\nilmington, and Mr.. Lands, brother\n\n\nthe Federal Judge who gave the u\nnous Standard Oil decision few 5es, va\nars ago, were among the prominent -N\nests there recently. Mr. and Mrs you\norge Grier and children are also at doe ~\nIt hosiery. fort\ndr. and Mrs. Simeon Richardson form\ndaughter, of Milford, are spending IL\nir vacation at the Hotel Wyatt, and from\n'ort splendid service. ing;\nThe Reed Cottage\" is the scene of bIsd\nlappy house party this week, Miss trou\nlen Tatman, of Milford, being the you\ntess. The members of this party use 'a\n-e been enjoying boating and bath drug\nin abundance. Ser\nhe \"FOulk Cottage\" housed a num- Dr. Dr.\nof the X. X. X. Club of Philadel- Ofic,\na, last week. They left on Monday, e;,n, eeyne\nch to the regret of the younger tons\nnbers of this resorts visitors, who\ne exceedingly anxious to learn the\nming of the three KS. One young\ntleman advanced the solution of -\n5, Kiss, Kiss Club, while others II\n\n\nKlu Klux Klan. II\nCarlisle Collins left on Tuesday II\nr a pleasant vacation, ostenta-\nsly to get back to the bank\" but\n5ibly to see some of the X. X. KS,\n\n\nare still in Milford.\nhe Short Cottage\" is occupied this\nk by a house party from Milford,\nguests of William Pierce and G.\nshall Townsend. They report a\nndid time. John Fisher Polk is\ning genius in serving the party,\ne Nan Cook is providing good eats\nJne gang.\n\n\n:. Frank Grier, Mrs. Geo. Macklin,\nles Helen Pierce, Rachel Frame.\nabeth Carlisle and Paris Carlisle,\nIilford, were guests at the Short\nage\" Monday evening. r\nill\" Pierce, of Milford, has been EII\nb in demand this week. He is\nlar with both the young and old d\nle, and during the week has been\nzed as as \"child's nurse\" by the VI\ners. Bills fOndness for children the,\nell-known. Bill's pet scheme at -,\nresent time is to organize a stock iiei\n,any and erect a large, modern\n\n\nat Slaughters, and to provide U\nmobile bus service between Mil obts\nand this place for the accommo-\nn of the guests. He hopes to have are\na place built before next sum WOr\n\n\nthan"
        ]
       ],
       "shape": {
        "columns": 5,
        "rows": 34133
       }
      },
      "text/html": [
       "<div>\n",
       "<style scoped>\n",
       "    .dataframe tbody tr th:only-of-type {\n",
       "        vertical-align: middle;\n",
       "    }\n",
       "\n",
       "    .dataframe tbody tr th {\n",
       "        vertical-align: top;\n",
       "    }\n",
       "\n",
       "    .dataframe thead th {\n",
       "        text-align: right;\n",
       "    }\n",
       "</style>\n",
       "<table border=\"1\" class=\"dataframe\">\n",
       "  <thead>\n",
       "    <tr style=\"text-align: right;\">\n",
       "      <th></th>\n",
       "      <th>index</th>\n",
       "      <th>headline</th>\n",
       "      <th>newspaper_name</th>\n",
       "      <th>date</th>\n",
       "      <th>article</th>\n",
       "    </tr>\n",
       "  </thead>\n",
       "  <tbody>\n",
       "    <tr>\n",
       "      <th>7</th>\n",
       "      <td>29_1915-06-11_p4_sn92070146_00414189465_191506...</td>\n",
       "      <td>\"THE CLANSMAN\" TO\\n\\n\\nDRAW BIG CROWDS</td>\n",
       "      <td>Imperial Valley press.</td>\n",
       "      <td>1915-06-11</td>\n",
       "      <td>The advance sale of tickets fo~\\n\"The Clansman...</td>\n",
       "    </tr>\n",
       "    <tr>\n",
       "      <th>44</th>\n",
       "      <td>10_1915-10-23_p17_sn83045211_00237287538_19151...</td>\n",
       "      <td>WHAT MUSIC DOES FOR THE MOVIES,\\n\\n\\nAND SOME ...</td>\n",
       "      <td>Evening public ledger. [volume] (Philadelphia ...</td>\n",
       "      <td>1915-10-23</td>\n",
       "      <td>HlHE first thing that ought to be said\\n\\n\\nla...</td>\n",
       "    </tr>\n",
       "    <tr>\n",
       "      <th>68</th>\n",
       "      <td>9_1915-02-26_p5_sn85053024_00340581581_1915022...</td>\n",
       "      <td>NaN</td>\n",
       "      <td>The circle banner. [volume] (Circle, Mont.) 19...</td>\n",
       "      <td>1915-02-26</td>\n",
       "      <td>achievement Of his was the assassina.\\n\\n\\nton...</td>\n",
       "    </tr>\n",
       "    <tr>\n",
       "      <th>74</th>\n",
       "      <td>11_1915-05-13_p5_sn78000873_00279524986_191505...</td>\n",
       "      <td>NaN</td>\n",
       "      <td>The Republican journal. [volume] (Belfast, Me....</td>\n",
       "      <td>1915-05-13</td>\n",
       "      <td>\\n\\n\\nparty of ten motor-cyclists came from\\nB...</td>\n",
       "    </tr>\n",
       "    <tr>\n",
       "      <th>85</th>\n",
       "      <td>19_1915-06-16_p6_sn85038485_0034058269A_191506...</td>\n",
       "      <td>DOLLY DALRYMPLE IN SERIES OF STORIES TELLS OF ...</td>\n",
       "      <td>The Birmingham age-herald.</td>\n",
       "      <td>1915-06-16</td>\n",
       "      <td>North America. Its further progress is closely...</td>\n",
       "    </tr>\n",
       "    <tr>\n",
       "      <th>...</th>\n",
       "      <td>...</td>\n",
       "      <td>...</td>\n",
       "      <td>...</td>\n",
       "      <td>...</td>\n",
       "      <td>...</td>\n",
       "    </tr>\n",
       "    <tr>\n",
       "      <th>144251</th>\n",
       "      <td>8_1944-10-24_p4_sn92070146_00414189064_1944102...</td>\n",
       "      <td>Major Campaign\\nTalks Slated</td>\n",
       "      <td>Imperial Valley press.</td>\n",
       "      <td>1944-10-24</td>\n",
       "      <td>Gov. Thomas E. Dewey carried\\nthe Republican s...</td>\n",
       "    </tr>\n",
       "    <tr>\n",
       "      <th>144275</th>\n",
       "      <td>11_1944-11-21_p14_sn88063294_00340588885_19441...</td>\n",
       "      <td>NaN</td>\n",
       "      <td>Detroit evening times. (Detroit, Mich) 1921-1958</td>\n",
       "      <td>1944-11-21</td>\n",
       "      <td>IL cluSively that free economy is\\nessential t...</td>\n",
       "    </tr>\n",
       "    <tr>\n",
       "      <th>144276</th>\n",
       "      <td>23_1944-10-09_p10_sn82014085_00393347065_19441...</td>\n",
       "      <td>Fiery Speeches Made\\n\\n By Rival Nominees\\n\\nS...</td>\n",
       "      <td>The Waterbury Democrat.</td>\n",
       "      <td>1944-10-09</td>\n",
       "      <td>| tionists were trying to seize control of vit...</td>\n",
       "    </tr>\n",
       "    <tr>\n",
       "      <th>144284</th>\n",
       "      <td>4_1944-02-04_p4_sn83045499_00393342304_1944020...</td>\n",
       "      <td>WILLIAM ALLEN WHITE</td>\n",
       "      <td>The Daily Alaska empire. [volume] (Juneau, Ala...</td>\n",
       "      <td>1944-02-04</td>\n",
       "      <td>The world beat path to the cuttered desk OF\\nw...</td>\n",
       "    </tr>\n",
       "    <tr>\n",
       "      <th>144289</th>\n",
       "      <td>15_1944-07-01_p6_sn83045324_00414188126_194407...</td>\n",
       "      <td>DETROIT'S FIFTH COLUMN</td>\n",
       "      <td>The Michigan chronicle. [volume] (Detroit, Mic...</td>\n",
       "      <td>1944-07-01</td>\n",
       "      <td>story appearing in the Atlanta Journal two\\nwe...</td>\n",
       "    </tr>\n",
       "  </tbody>\n",
       "</table>\n",
       "<p>34133 rows × 5 columns</p>\n",
       "</div>"
      ],
      "text/plain": [
       "                                                    index  \\\n",
       "7       29_1915-06-11_p4_sn92070146_00414189465_191506...   \n",
       "44      10_1915-10-23_p17_sn83045211_00237287538_19151...   \n",
       "68      9_1915-02-26_p5_sn85053024_00340581581_1915022...   \n",
       "74      11_1915-05-13_p5_sn78000873_00279524986_191505...   \n",
       "85      19_1915-06-16_p6_sn85038485_0034058269A_191506...   \n",
       "...                                                   ...   \n",
       "144251  8_1944-10-24_p4_sn92070146_00414189064_1944102...   \n",
       "144275  11_1944-11-21_p14_sn88063294_00340588885_19441...   \n",
       "144276  23_1944-10-09_p10_sn82014085_00393347065_19441...   \n",
       "144284  4_1944-02-04_p4_sn83045499_00393342304_1944020...   \n",
       "144289  15_1944-07-01_p6_sn83045324_00414188126_194407...   \n",
       "\n",
       "                                                 headline  \\\n",
       "7                  \"THE CLANSMAN\" TO\\n\\n\\nDRAW BIG CROWDS   \n",
       "44      WHAT MUSIC DOES FOR THE MOVIES,\\n\\n\\nAND SOME ...   \n",
       "68                                                    NaN   \n",
       "74                                                    NaN   \n",
       "85      DOLLY DALRYMPLE IN SERIES OF STORIES TELLS OF ...   \n",
       "...                                                   ...   \n",
       "144251                       Major Campaign\\nTalks Slated   \n",
       "144275                                                NaN   \n",
       "144276  Fiery Speeches Made\\n\\n By Rival Nominees\\n\\nS...   \n",
       "144284                                WILLIAM ALLEN WHITE   \n",
       "144289                             DETROIT'S FIFTH COLUMN   \n",
       "\n",
       "                                           newspaper_name       date  \\\n",
       "7                                  Imperial Valley press. 1915-06-11   \n",
       "44      Evening public ledger. [volume] (Philadelphia ... 1915-10-23   \n",
       "68      The circle banner. [volume] (Circle, Mont.) 19... 1915-02-26   \n",
       "74      The Republican journal. [volume] (Belfast, Me.... 1915-05-13   \n",
       "85                             The Birmingham age-herald. 1915-06-16   \n",
       "...                                                   ...        ...   \n",
       "144251                             Imperial Valley press. 1944-10-24   \n",
       "144275   Detroit evening times. (Detroit, Mich) 1921-1958 1944-11-21   \n",
       "144276                            The Waterbury Democrat. 1944-10-09   \n",
       "144284  The Daily Alaska empire. [volume] (Juneau, Ala... 1944-02-04   \n",
       "144289  The Michigan chronicle. [volume] (Detroit, Mic... 1944-07-01   \n",
       "\n",
       "                                                  article  \n",
       "7       The advance sale of tickets fo~\\n\"The Clansman...  \n",
       "44      HlHE first thing that ought to be said\\n\\n\\nla...  \n",
       "68      achievement Of his was the assassina.\\n\\n\\nton...  \n",
       "74      \\n\\n\\nparty of ten motor-cyclists came from\\nB...  \n",
       "85      North America. Its further progress is closely...  \n",
       "...                                                   ...  \n",
       "144251  Gov. Thomas E. Dewey carried\\nthe Republican s...  \n",
       "144275  IL cluSively that free economy is\\nessential t...  \n",
       "144276  | tionists were trying to seize control of vit...  \n",
       "144284  The world beat path to the cuttered desk OF\\nw...  \n",
       "144289  story appearing in the Atlanta Journal two\\nwe...  \n",
       "\n",
       "[34133 rows x 5 columns]"
      ]
     },
     "execution_count": 19,
     "metadata": {},
     "output_type": "execute_result"
    }
   ],
   "source": [
    "data[data['article'].str.contains('klan', case=False, na=False)]"
   ]
  },
  {
   "cell_type": "code",
   "execution_count": 13,
   "id": "cc39c8c7",
   "metadata": {},
   "outputs": [
    {
     "data": {
      "application/vnd.microsoft.datawrangler.viewer.v0+json": {
       "columns": [
        {
         "name": "date",
         "rawType": "datetime64[ns]",
         "type": "datetime"
        },
        {
         "name": "count",
         "rawType": "int64",
         "type": "integer"
        }
       ],
       "ref": "a26c9b54-c352-4642-9acf-a1b1c163f3d5",
       "rows": [
        [
         "1915-01-01 00:00:00",
         "41"
        ],
        [
         "1915-01-02 00:00:00",
         "35"
        ],
        [
         "1915-01-03 00:00:00",
         "19"
        ],
        [
         "1915-01-04 00:00:00",
         "13"
        ],
        [
         "1915-01-05 00:00:00",
         "14"
        ],
        [
         "1915-01-06 00:00:00",
         "19"
        ],
        [
         "1915-01-07 00:00:00",
         "43"
        ],
        [
         "1915-01-08 00:00:00",
         "41"
        ],
        [
         "1915-01-09 00:00:00",
         "20"
        ],
        [
         "1915-01-10 00:00:00",
         "20"
        ],
        [
         "1915-01-11 00:00:00",
         "8"
        ],
        [
         "1915-01-12 00:00:00",
         "19"
        ],
        [
         "1915-01-13 00:00:00",
         "23"
        ],
        [
         "1915-01-14 00:00:00",
         "36"
        ],
        [
         "1915-01-15 00:00:00",
         "41"
        ],
        [
         "1915-01-16 00:00:00",
         "33"
        ],
        [
         "1915-01-17 00:00:00",
         "19"
        ],
        [
         "1915-01-18 00:00:00",
         "11"
        ],
        [
         "1915-01-19 00:00:00",
         "17"
        ],
        [
         "1915-01-20 00:00:00",
         "22"
        ],
        [
         "1915-01-21 00:00:00",
         "28"
        ],
        [
         "1915-01-22 00:00:00",
         "38"
        ],
        [
         "1915-01-23 00:00:00",
         "21"
        ],
        [
         "1915-01-24 00:00:00",
         "15"
        ],
        [
         "1915-01-25 00:00:00",
         "13"
        ],
        [
         "1915-01-26 00:00:00",
         "17"
        ],
        [
         "1915-01-27 00:00:00",
         "22"
        ],
        [
         "1915-01-28 00:00:00",
         "31"
        ],
        [
         "1915-01-29 00:00:00",
         "34"
        ],
        [
         "1915-01-30 00:00:00",
         "26"
        ],
        [
         "1915-01-31 00:00:00",
         "11"
        ],
        [
         "1915-02-01 00:00:00",
         "17"
        ],
        [
         "1915-02-02 00:00:00",
         "19"
        ],
        [
         "1915-02-03 00:00:00",
         "16"
        ],
        [
         "1915-02-04 00:00:00",
         "46"
        ],
        [
         "1915-02-05 00:00:00",
         "23"
        ],
        [
         "1915-02-06 00:00:00",
         "16"
        ],
        [
         "1915-02-07 00:00:00",
         "21"
        ],
        [
         "1915-02-08 00:00:00",
         "28"
        ],
        [
         "1915-02-09 00:00:00",
         "23"
        ],
        [
         "1915-02-10 00:00:00",
         "26"
        ],
        [
         "1915-02-11 00:00:00",
         "50"
        ],
        [
         "1915-02-12 00:00:00",
         "57"
        ],
        [
         "1915-02-13 00:00:00",
         "30"
        ],
        [
         "1915-02-14 00:00:00",
         "11"
        ],
        [
         "1915-02-15 00:00:00",
         "27"
        ],
        [
         "1915-02-16 00:00:00",
         "63"
        ],
        [
         "1915-02-17 00:00:00",
         "32"
        ],
        [
         "1915-02-18 00:00:00",
         "60"
        ],
        [
         "1915-02-19 00:00:00",
         "78"
        ]
       ],
       "shape": {
        "columns": 1,
        "rows": 10575
       }
      },
      "text/plain": [
       "date\n",
       "1915-01-01    41\n",
       "1915-01-02    35\n",
       "1915-01-03    19\n",
       "1915-01-04    13\n",
       "1915-01-05    14\n",
       "              ..\n",
       "1944-12-26     1\n",
       "1944-12-28     2\n",
       "1944-12-29     1\n",
       "1944-12-30     1\n",
       "1944-12-31     1\n",
       "Name: count, Length: 10575, dtype: int64"
      ]
     },
     "execution_count": 13,
     "metadata": {},
     "output_type": "execute_result"
    }
   ],
   "source": [
    "date_counts"
   ]
  },
  {
   "cell_type": "code",
   "execution_count": 14,
   "id": "80701e4a",
   "metadata": {},
   "outputs": [
    {
     "data": {
      "image/png": "[encoded data removed]",
      "text/plain": [
       "<Figure size 1000x600 with 1 Axes>"
      ]
     },
     "metadata": {},
     "output_type": "display_data"
    }
   ],
   "source": [
    "# Assuming you have a DataFrame with a date column\n",
    "# df = pd.read_csv('your_file.csv')\n",
    "# df['date_column'] = pd.to_datetime(df['date_column'])\n",
    "\n",
    "# Count occurrences of each date\n",
    "date_counts = data['date'].value_counts().sort_index()\n",
    "\n",
    "# Create the barplot\n",
    "plt.figure(figsize=(10, 6))\n",
    "plt.bar(date_counts.index, date_counts.values)\n",
    "plt.xlabel('Date')\n",
    "plt.ylabel('Count')\n",
    "plt.title('Count of Occurrences by Date')\n",
    "plt.xticks(rotation=45)\n",
    "plt.tight_layout()\n",
    "plt.show()"
   ]
  }
 ],
 "metadata": {
  "kernelspec": {
   "display_name": "kkk",
   "language": "python",
   "name": "python3"
  },
  "language_info": {
   "codemirror_mode": {
    "name": "ipython",
    "version": 3
   },
   "file_extension": ".py",
   "mimetype": "text/x-python",
   "name": "python",
   "nbconvert_exporter": "python",
   "pygments_lexer": "ipython3",
   "version": "3.10.19"
  }
 },
 "nbformat": 4,
 "nbformat_minor": 5
}
