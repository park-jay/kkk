{
 "cells": [
  {
   "cell_type": "code",
   "execution_count": 1,
   "id": "809ac084",
   "metadata": {},
   "outputs": [],
   "source": [
    "from llama_cpp import Llama\n",
    "import pandas as pd\n",
    "import os\n",
    "from tqdm import tqdm"
   ]
  },
  {
   "cell_type": "code",
   "execution_count": 2,
   "id": "1386ad3b",
   "metadata": {},
   "outputs": [],
   "source": [
    "data=pd.read_feather('/Volumes/T7/chroniclingamerica/american-stories/kkk-revival.feather')"
   ]
  },
  {
   "cell_type": "code",
   "execution_count": 5,
   "id": "26bd9b57",
   "metadata": {},
   "outputs": [
    {
     "data": {
      "application/vnd.microsoft.datawrangler.viewer.v0+json": {
       "columns": [
        {
         "name": "index",
         "rawType": "object",
         "type": "string"
        },
        {
         "name": "0",
         "rawType": "object",
         "type": "unknown"
        }
       ],
       "ref": "d1c48269-37d0-460a-b043-1536b0ae44f0",
       "rows": [
        [
         "index",
         "object"
        ],
        [
         "headline",
         "object"
        ],
        [
         "newspaper_name",
         "object"
        ],
        [
         "date",
         "datetime64[ns]"
        ],
        [
         "article",
         "object"
        ]
       ],
       "shape": {
        "columns": 1,
        "rows": 5
       }
      },
      "text/plain": [
       "index                     object\n",
       "headline                  object\n",
       "newspaper_name            object\n",
       "date              datetime64[ns]\n",
       "article                   object\n",
       "dtype: object"
      ]
     },
     "execution_count": 5,
     "metadata": {},
     "output_type": "execute_result"
    }
   ],
   "source": [
    "data.dtypes"
   ]
  },
  {
   "cell_type": "code",
   "execution_count": 17,
   "id": "b824a25a",
   "metadata": {},
   "outputs": [],
   "source": [
    "model_path='../../../data/kkk/llm/gpt-oss-20b-F16.gguf'\n",
    "#https://huggingface.co/unsloth/gpt-oss-20b-GGUF"
   ]
  },
  {
   "cell_type": "code",
   "execution_count": 56,
   "id": "201cf890",
   "metadata": {},
   "outputs": [
    {
     "name": "stderr",
     "output_type": "stream",
     "text": [
      "llama_context: n_ctx_per_seq (2048) < n_ctx_train (131072) -- the full capacity of the model will not be utilized\n",
      "ggml_metal_init: skipping kernel_get_rows_bf16                     (not supported)\n",
      "ggml_metal_init: skipping kernel_set_rows_bf16                     (not supported)\n",
      "ggml_metal_init: skipping kernel_mul_mv_bf16_f32                   (not supported)\n",
      "ggml_metal_init: skipping kernel_mul_mv_bf16_f32_c4                (not supported)\n",
      "ggml_metal_init: skipping kernel_mul_mv_bf16_f32_1row              (not supported)\n",
      "ggml_metal_init: skipping kernel_mul_mv_bf16_f32_l4                (not supported)\n",
      "ggml_metal_init: skipping kernel_mul_mv_bf16_bf16                  (not supported)\n",
      "ggml_metal_init: skipping kernel_mul_mv_id_bf16_f32                (not supported)\n",
      "ggml_metal_init: skipping kernel_mul_mm_bf16_f32                   (not supported)\n",
      "ggml_metal_init: skipping kernel_mul_mm_id_bf16_f16                (not supported)\n",
      "ggml_metal_init: skipping kernel_flash_attn_ext_bf16_h64           (not supported)\n",
      "ggml_metal_init: skipping kernel_flash_attn_ext_bf16_h80           (not supported)\n",
      "ggml_metal_init: skipping kernel_flash_attn_ext_bf16_h96           (not supported)\n",
      "ggml_metal_init: skipping kernel_flash_attn_ext_bf16_h112          (not supported)\n",
      "ggml_metal_init: skipping kernel_flash_attn_ext_bf16_h128          (not supported)\n",
      "ggml_metal_init: skipping kernel_flash_attn_ext_bf16_h192          (not supported)\n",
      "ggml_metal_init: skipping kernel_flash_attn_ext_bf16_hk192_hv128   (not supported)\n",
      "ggml_metal_init: skipping kernel_flash_attn_ext_bf16_h256          (not supported)\n",
      "ggml_metal_init: skipping kernel_flash_attn_ext_bf16_hk576_hv512   (not supported)\n",
      "ggml_metal_init: skipping kernel_flash_attn_ext_vec_bf16_h64       (not supported)\n",
      "ggml_metal_init: skipping kernel_flash_attn_ext_vec_bf16_h96       (not supported)\n",
      "ggml_metal_init: skipping kernel_flash_attn_ext_vec_bf16_h128      (not supported)\n",
      "ggml_metal_init: skipping kernel_flash_attn_ext_vec_bf16_h192      (not supported)\n",
      "ggml_metal_init: skipping kernel_flash_attn_ext_vec_bf16_hk192_hv128 (not supported)\n",
      "ggml_metal_init: skipping kernel_flash_attn_ext_vec_bf16_h256      (not supported)\n",
      "ggml_metal_init: skipping kernel_flash_attn_ext_vec_bf16_hk576_hv512 (not supported)\n",
      "ggml_metal_init: skipping kernel_cpy_f32_bf16                      (not supported)\n",
      "ggml_metal_init: skipping kernel_cpy_bf16_f32                      (not supported)\n",
      "ggml_metal_init: skipping kernel_cpy_bf16_bf16                     (not supported)\n",
      "llama_kv_cache_unified_iswa: using full-size SWA cache (ref: https://github.com/ggml-org/llama.cpp/pull/13194#issuecomment-2868343055)\n"
     ]
    }
   ],
   "source": [
    "llm=Llama(model_path=model_path,\n",
    "                    n_gpu_layers=-1, #Use Apple silicon GPU\n",
    "                    chat_format='llama-2', #To make the model chat like Llama-2\n",
    "                    verbose=False,\n",
    "                    max_tokens=2048,\n",
    "                    n_ctx=2048,\n",
    "                    temperature=0.1) #Lower temperature = more deterministic"
   ]
  },
  {
   "cell_type": "code",
   "execution_count": 57,
   "id": "c5fcb03f",
   "metadata": {},
   "outputs": [],
   "source": [
    "corrected_article=[]\n",
    "for article in data['article'].to_numpy()[:10]:\n",
    "    correction=llm.create_chat_completion(\n",
    "        messages=[\n",
    "            {\"role\": \"system\",\n",
    "            \"content\": \"\"\"\n",
    "                You will be given an article from a newspaper published between 1915 and 1944.\n",
    "                Because of damaged papers and poor scanning quality, the text may contain OCR errors.\n",
    "                Correct the spelling and grammar errors in the text without changing the meaning.\n",
    "                \"\"\"},\n",
    "            {\"role\": \"user\",\n",
    "            \"content\": article}\n",
    "        ],\n",
    "        # max_tokens=4096,\n",
    "        temperature=0.1,\n",
    "    )\n",
    "    corrected_article.append(correction['choices'][0]['message']['content'])\n",
    "    break"
   ]
  },
  {
   "cell_type": "code",
   "execution_count": 58,
   "id": "0d87670d",
   "metadata": {},
   "outputs": [
    {
     "data": {
      "text/plain": [
       "[\" The correct?\\n\\nMembers of the Y.M.T.A. and B. society possessing musical talent, and there are not a few, are planning to form an orchestra. President W. J. Kerin has the matter in hand, and those anxious to display their ability as musicians should communicate with him. Some of the society's talent, which has thus far signified the intention of joining the proposed orchestra, includes Edward J. Lynch, lead CT. and cornet player; Thomas Mack, cornet; James J. Bonney, Frank May, John Jacobs, John Hannon, Edward Sullivan, James Mccarthy, and Charles Dunn violinists; Henry Kane, John Maerz, Anthony Contoise, and George H. Lynch clarionet; William Lowe and Thomas Lowe, flute; Joseph Boskowski, flute and piccolo; Peter McCrann, drum; James Keegan, bass drum.\\n\\nThe correct?\\n\\nMembers of the Y.M.T.A. and B. society possessing musical talent, and there are not a few, are planning to form an orchestra. President W. J. Kerin has the matter in hand, and those anxious to display their ability as musicians should communicate with him. Some of the society's talent, which has thus far signified the intention of joining the proposed orchestra, includes Edward J. Lynch, lead CT. and cornet player; Thomas Mack, cornet; James J. Bonney, Frank May, John Jacobs, John Hannon, Edward Sullivan, James Mccarthy, and Charles Dunn violinists; Henry Kane, John Maerz, Anthony Contoise, and George H. Lynch clarionet; William Lowe and Thomas Lowe, flute; Joseph Boskowski, flute and piccolo; Peter McCrann, drum; James Keegan, bass drum.\\n\\nMembers of the Y.M.T.A. and B. society\\n\\nMembers of the Y.M.T.A. and B. society\\n\\nMembers of the Y.M.T.A. and B. society\\n\\nMembers of the Y.M.T.A. and B. society\\n\\nMembers of the Y.M.T.A. and B. society\\n\\nMembers of the Y.M.T.A. and B. society\\n\\nMembers of the Y.M.T.A. and B. society\\n\\nMembers of the Y.M.T.A. and\\n\\nIt seems like you might be looking for a corrected version of the text you provided earlier. Here's a refined version:\\n\\nMembers of the Y.M.T.A. and B. society, possessing musical talent, are planning to form an orchestra. President W. J. Kerin has the matter in hand, and those eager to showcase their musical abilities should communicate with him. Some of the society's talent, which has thus far signified the intention of joining the proposed orchestra, includes Edward J. Lynch, lead CT. and cornet player; Thomas Mack, cornet; James J. Bonney, Frank May, John Jacobs, John Hannon, Edward Sullivan, James Mccarthy, and Charles Dunn violinists; Henry Kane, John Maerz, Anthony Contoise, and George H. Lynch clarionet; William Lowe and Thomas Lowe, flute; Joseph Boskowski, flute and piccolo; Peter McCrann, drum; James Keegan, bass drum.\\n\\nIt seems you're looking for a corrected version of the text. Here's a revised version:\\n\\nMembers\\n\\nIt appears that your message got cut off. If you need help with a specific text or have a question, feel free to provide more details, and I'll do my best to assist you.\\n\\nIt seems like your message got cut off again. If you have a specific text or question you'd like assistance with, please provide more details, and I'll be happy to help.\\n\\nIt appears that your message got cut off. If you have a specific\\n\\nIt looks like your message got cut off again. If you have a specific question or need assistance with something, feel free to let me know, and I'll do my best to help.\\n\\nIt seems your message got cut off. If you're looking for a corrected version of the text you provided earlier, here's a revised\\n\\nIt appears that your message got cut off again. If you need a corrected version of the text you provided earlier, here's a revised version:\\n\\nMembers of the Y.M.T.A. and B. society, possessing musical talent, are planning to form an orchestra. President W. J. Kerin has the matter in hand, and those eager to showcase their musical abilities should communicate with him. Some of the society's talent, which has thus far signified the intention of joining the proposed orchestra, includes Edward J. Lynch, lead CT. and cornet player; Thomas Mack, cornet; James J. Bonney, Frank May, John Jacobs, John Hannon, Edward Sullivan, James Mccarthy, and Charles Dunn violinists; Henry Kane, John Maerz, Anthony Contoise, and George H. Lynch clarionet; William Lowe and Thomas Lowe, flute; Joseph Boskowski, flute and piccolo; Peter McCrann, drum; James Keegan, bass drum.\\n\\nIt seems your message got cut off again. If you need a corrected version of the text you provided earlier, here's a revised\\n\\nIt appears that your message got cut off again. If you need a corrected version of the text you provided earlier, here's a revised version:\\n\\nMembers of the Y.M.T.A. and B. society, possessing musical talent, are planning to form an orchestra. President W. J. Kerin has the matter in hand, and those eager to showcase their musical abilities should communicate with him. Some of the society's talent, which has thus far signified the intention of joining the proposed orchestra, includes Edward J. Lynch, lead CT. and cornet player; Thomas Mack, cornet; James J. Bonney, Frank May, John Jacobs, John Hannon, Edward Sullivan, James Mccarthy, and Charles Dunn violinists; Henry Kane, John Maerz, Anthony Contoise, and George H. Lynch clarion\\n\\nIt seems your message got cut off again. If you need a corrected version of the text you provided earlier, here's a revised version:\\n\\nMembers\\n\\nIt appears that your message got cut off again. If you need a corrected version of the text you provided earlier, here's a revised version:\\n\\nMembers of the Y.M.T.A. and\\n\\nIt looks like your message got cut off again. If you need a corrected version of the text you provided earlier, here's a revised version:\\n\\nMembers of the Y.M.T.A. and B. society, possessing\\n\\nIt seems your message got cut off again. If you need a corrected version of the text you provided earlier, here's a revised\\n\\nIt appears that your message got cut off again. If you need a corrected version of the text you provided earlier, here's a revised version:\\n\\nMembers of the Y.M.T.A. and B.\\n\\nIt seems your message got cut off again. If you need a corrected version of the text you provided earlier, here's a revised version:\\n\\nMembers\\n\\nIt appears that your message got cut off again. If you need a corrected\\n\\nIt looks like your message got cut off again. If you need a corrected version of the text you provided earlier, here's a revised version:\\n\\nMembers\\n\\nIt appears that your message got cut off again. If you need a corrected version of the text\\n\\nIt seems your message got cut off again. If you need a corrected version of the text\\n\\nIt appears that your message got cut off again. If you need a corrected version\\n\\nIt seems your message got cut off again. If you need a corrected\\n\\nIt appears that your message got cut\\n\\nIt seems your message got cut off again. If you need a corrected version of the text, please let me know.\\n\\nIt appears that your message got cut off again. If you need a corrected version of the text, please let me know.\\n\\nIt looks like your message got cut off again. If you need a corrected version of the text, please let me know.\\n\\nIt appears that your message got cut off again. If you need a corrected version of the text, please let me know.\\n\\nIt seems your message got cut off again. If you need a corrected version of the text, please let me know.\\n\\nIt appears that your message got cut off again. If you need a corrected version of the text, please let me know.\\n\\nIt looks like your message got cut off again. If you need a corrected version of the text, please let me know.\\n\\nIt appears that your message got cut off again. If you need a corrected version of the text, please let me know.\\n\\nIt seems your message got cut off again. If you need a corrected version of the text, please let me know.\\n\\nIt appears that your message got cut off again.\"]"
      ]
     },
     "execution_count": 58,
     "metadata": {},
     "output_type": "execute_result"
    }
   ],
   "source": [
    "corrected_article"
   ]
  },
  {
   "cell_type": "code",
   "execution_count": 42,
   "id": "5175ea75",
   "metadata": {},
   "outputs": [
    {
     "data": {
      "text/plain": [
       "'Members of the Y. M. T. A, & B. society possessing musical talent, and there are not a few, are planning to form an orchestra. President w. J Kerin has the matter in hand and those anxious to display their ability as musicians should communicate with him. Some of the society talent which has thus far signified inten- tion of Joining the proposed orches- tra includes Edward J. Lynch, lead- CT. and cornet player; Thomas Mack, cornet; James J. Bonney, Frank May, John Jacobs, John Hannon, Edward Sullivan James Mccarthy and Charles Dunn violinists; Henry Kane, John Maerz, Anthony Contoise and George H. Lynch clarionet; William Lowe and Thomas Lowe, flute; Joseph Bos kowski, flute and piccolo; Peter McCrann, drum; James Keegan, bass drum.'"
      ]
     },
     "execution_count": 42,
     "metadata": {},
     "output_type": "execute_result"
    }
   ],
   "source": [
    "data['article'][0]"
   ]
  }
 ],
 "metadata": {
  "kernelspec": {
   "display_name": "uncensored-hate",
   "language": "python",
   "name": "python3"
  },
  "language_info": {
   "codemirror_mode": {
    "name": "ipython",
    "version": 3
   },
   "file_extension": ".py",
   "mimetype": "text/x-python",
   "name": "python",
   "nbconvert_exporter": "python",
   "pygments_lexer": "ipython3",
   "version": "3.10.18"
  }
 },
 "nbformat": 4,
 "nbformat_minor": 5
}
