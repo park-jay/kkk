{
 "cells": [
  {
   "cell_type": "code",
   "execution_count": 1,
   "metadata": {},
   "outputs": [],
   "source": [
    "import requests\n",
    "import time\n",
    "from datetime import timedelta\n",
    "from datetime import datetime\n",
    "import pandas as pd\n",
    "import urllib.request\n",
    "from tqdm import tqdm\n",
    "import json\n",
    "import asyncio\n",
    "import numpy as np\n",
    "import os\n",
    "from nltk import sent_tokenize\n",
    "from nltk import word_tokenize"
   ]
  },
  {
   "cell_type": "code",
   "execution_count": 6,
   "metadata": {},
   "outputs": [
    {
     "name": "stderr",
     "output_type": "stream",
     "text": [
      "  1%|▏         | 1/72 [00:20<24:30, 20.72s/it]\n"
     ]
    },
    {
     "ename": "KeyboardInterrupt",
     "evalue": "",
     "output_type": "error",
     "traceback": [
      "\u001b[0;31m---------------------------------------------------------------------------\u001b[0m",
      "\u001b[0;31mKeyboardInterrupt\u001b[0m                         Traceback (most recent call last)",
      "\u001b[1;32m/Users/mstudio/repository/research/kkk/ticket.ipynb Cell 2\u001b[0m line \u001b[0;36m4\n\u001b[1;32m     <a href='vscode-notebook-cell:/Users/mstudio/repository/research/kkk/ticket.ipynb#W1sZmlsZQ%3D%3D?line=45'>46</a>\u001b[0m     \u001b[39mcontinue\u001b[39;00m\n\u001b[1;32m     <a href='vscode-notebook-cell:/Users/mstudio/repository/research/kkk/ticket.ipynb#W1sZmlsZQ%3D%3D?line=46'>47</a>\u001b[0m \u001b[39melse\u001b[39;00m:\n\u001b[0;32m---> <a href='vscode-notebook-cell:/Users/mstudio/repository/research/kkk/ticket.ipynb#W1sZmlsZQ%3D%3D?line=47'>48</a>\u001b[0m     scrape_and_save_data(no)\n",
      "\u001b[1;32m/Users/mstudio/repository/research/kkk/ticket.ipynb Cell 2\u001b[0m line \u001b[0;36m3\n\u001b[1;32m     <a href='vscode-notebook-cell:/Users/mstudio/repository/research/kkk/ticket.ipynb#W1sZmlsZQ%3D%3D?line=32'>33</a>\u001b[0m     os\u001b[39m.\u001b[39mmakedirs(output_dir, exist_ok\u001b[39m=\u001b[39m\u001b[39mTrue\u001b[39;00m)\n\u001b[1;32m     <a href='vscode-notebook-cell:/Users/mstudio/repository/research/kkk/ticket.ipynb#W1sZmlsZQ%3D%3D?line=33'>34</a>\u001b[0m     df\u001b[39m.\u001b[39mto_csv(\u001b[39mf\u001b[39m\u001b[39m'\u001b[39m\u001b[39m{\u001b[39;00moutput_dir\u001b[39m}\u001b[39;00m\u001b[39mticket_\u001b[39m\u001b[39m{\u001b[39;00mpageno\u001b[39m}\u001b[39;00m\u001b[39m.csv\u001b[39m\u001b[39m'\u001b[39m, index\u001b[39m=\u001b[39m\u001b[39mFalse\u001b[39;00m)\n\u001b[0;32m---> <a href='vscode-notebook-cell:/Users/mstudio/repository/research/kkk/ticket.ipynb#W1sZmlsZQ%3D%3D?line=34'>35</a>\u001b[0m     time\u001b[39m.\u001b[39;49msleep(\u001b[39m30\u001b[39;49m)\n\u001b[1;32m     <a href='vscode-notebook-cell:/Users/mstudio/repository/research/kkk/ticket.ipynb#W1sZmlsZQ%3D%3D?line=35'>36</a>\u001b[0m \u001b[39mexcept\u001b[39;00m requests\u001b[39m.\u001b[39mexceptions\u001b[39m.\u001b[39mRequestException \u001b[39mas\u001b[39;00m e:\n\u001b[1;32m     <a href='vscode-notebook-cell:/Users/mstudio/repository/research/kkk/ticket.ipynb#W1sZmlsZQ%3D%3D?line=36'>37</a>\u001b[0m     \u001b[39m# print(f\"Error: {e}\")\u001b[39;00m\n\u001b[1;32m     <a href='vscode-notebook-cell:/Users/mstudio/repository/research/kkk/ticket.ipynb#W1sZmlsZQ%3D%3D?line=37'>38</a>\u001b[0m     failed_page\u001b[39m.\u001b[39mappend(pageno)\n",
      "\u001b[0;31mKeyboardInterrupt\u001b[0m: "
     ]
    }
   ],
   "source": [
    "def scrape_and_save_data(pageno):\n",
    "    city = []\n",
    "    state = []\n",
    "    date = []\n",
    "    lccn = []\n",
    "    text = []\n",
    "    title = []\n",
    "\n",
    "    try:\n",
    "        # https://chroniclingamerica.loc.gov/search/pages/results/?state=&date1=1770&date2=1963&proxtext=white+man+ticket&format=json&page=1\n",
    "        r = s.get(f'https://chroniclingamerica.loc.gov/search/pages/results/?state=&date1=1770&date2=1963&proxtext=white+man+ticket&format=json&page={pageno}', timeout=5)\n",
    "        r.raise_for_status()  # Check if the request was successful\n",
    "        data = r.json()\n",
    "\n",
    "        for item in data.get('items', []):\n",
    "            city.append(item.get('city', np.nan))\n",
    "            date.append(item.get('date', np.nan))\n",
    "            state.append(item.get('state', np.nan))\n",
    "            lccn.append(item.get('lccn', np.nan))\n",
    "            text.append(item.get('ocr_eng', np.nan))\n",
    "            title.append(item.get('title', np.nan))\n",
    "\n",
    "        df = pd.DataFrame({\n",
    "            'city': city,\n",
    "            'state': state,\n",
    "            'date': date,\n",
    "            'lCCN': lccn,\n",
    "            'text': text,\n",
    "            'title': title\n",
    "        })\n",
    "\n",
    "        output_dir =  '/Users/mstudio/Library/CloudStorage/Box-Box/ticket/raw-data/'\n",
    "        os.makedirs(output_dir, exist_ok=True)\n",
    "        df.to_csv(f'{output_dir}ticket_{pageno}.csv', index=False)\n",
    "        time.sleep(30)\n",
    "    except requests.exceptions.RequestException as e:\n",
    "        # print(f\"Error: {e}\")\n",
    "        failed_page.append(pageno)\n",
    "\n",
    "failed_page = []\n",
    "s = requests.Session()\n",
    "\n",
    "for pageno in tqdm(range(int(np.round(1418 / 20)) + 1)): #6226\n",
    "    no = pageno+1\n",
    "    if str(no) in [i.strip('ticket_').strip('.csv') for i in os.listdir('/Users/mstudio/Library/CloudStorage/Box-Box/ticket/raw-data/')]:\n",
    "        continue\n",
    "    else:\n",
    "        scrape_and_save_data(no)\n"
   ]
  }
 ],
 "metadata": {
  "kernelspec": {
   "display_name": "py3.10",
   "language": "python",
   "name": "python3"
  },
  "language_info": {
   "codemirror_mode": {
    "name": "ipython",
    "version": 3
   },
   "file_extension": ".py",
   "mimetype": "text/x-python",
   "name": "python",
   "nbconvert_exporter": "python",
   "pygments_lexer": "ipython3",
   "version": "3.10.9"
  }
 },
 "nbformat": 4,
 "nbformat_minor": 2
}
