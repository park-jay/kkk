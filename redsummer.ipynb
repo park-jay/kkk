{
 "cells": [
  {
   "cell_type": "code",
   "execution_count": 2,
   "metadata": {},
   "outputs": [
    {
     "name": "stderr",
     "output_type": "stream",
     "text": [
      "/Users/mstudio/miniconda3/envs/py3.10/lib/python3.10/site-packages/tqdm/auto.py:22: TqdmWarning: IProgress not found. Please update jupyter and ipywidgets. See https://ipywidgets.readthedocs.io/en/stable/user_install.html\n",
      "  from .autonotebook import tqdm as notebook_tqdm\n"
     ]
    }
   ],
   "source": [
    "from datasets import load_dataset\n",
    "from tqdm import tqdm\n",
    "from nltk.tokenize import word_tokenize\n",
    "from datetime import datetime\n",
    "import pandas as pd"
   ]
  },
  {
   "cell_type": "code",
   "execution_count": 3,
   "metadata": {},
   "outputs": [
    {
     "name": "stderr",
     "output_type": "stream",
     "text": [
      "Using custom data configuration subset_years-4a53ef432855b27a\n"
     ]
    },
    {
     "name": "stdout",
     "output_type": "stream",
     "text": [
      "Downloading and preparing dataset american_stories/subset_years to /Users/mstudio/.cache/huggingface/datasets/dell-research-harvard___american_stories/subset_years-4a53ef432855b27a/0.1.0/75a916c5166c4f1fe51a57e0f5074cc72e19157c2bb064a2dc3e6362e19892fb...\n",
      "Only taking a subset of years. Change name to 'all_years' to use all years in the dataset.\n",
      "{'1919': 'https://huggingface.co/datasets/dell-research-harvard/AmericanStories/resolve/main/faro_1919.tar.gz'}\n"
     ]
    },
    {
     "name": "stderr",
     "output_type": "stream",
     "text": [
      "Downloading data files: 100%|██████████| 1/1 [00:00<00:00, 162.53it/s]\n",
      "Generating 1919 split: 4148 examples [00:00, 20670.66 examples/s]"
     ]
    },
    {
     "name": "stdout",
     "output_type": "stream",
     "text": [
      "Loading associated\n"
     ]
    },
    {
     "name": "stderr",
     "output_type": "stream",
     "text": [
      "                                                                    \r"
     ]
    },
    {
     "name": "stdout",
     "output_type": "stream",
     "text": [
      "Dataset american_stories downloaded and prepared to /Users/mstudio/.cache/huggingface/datasets/dell-research-harvard___american_stories/subset_years-4a53ef432855b27a/0.1.0/75a916c5166c4f1fe51a57e0f5074cc72e19157c2bb064a2dc3e6362e19892fb. Subsequent calls will reuse this data.\n"
     ]
    },
    {
     "name": "stderr",
     "output_type": "stream",
     "text": [
      "100%|██████████| 1/1 [00:00<00:00, 29.95it/s]\n"
     ]
    }
   ],
   "source": [
    "#  Download data for the year 1809 at the associated article level (Default)\n",
    "dataset = load_dataset(\"dell-research-harvard/AmericanStories\",\n",
    "    # \"all_years\"\n",
    "    \"subset_years\",\n",
    "    year_list=[\"1919\"])"
   ]
  },
  {
   "cell_type": "code",
   "execution_count": 4,
   "metadata": {},
   "outputs": [
    {
     "name": "stdout",
     "output_type": "stream",
     "text": [
      "{'article_id': '1_1919-04-24_p22_sn84026749_00280764577_1919042401_0444', 'newspaper_name': 'The Washington times.', 'edition': '01', 'date': '1919-04-24', 'page': 'p22', 'headline': 'RELATIVES NAY GET BODIES\\n\\n\\nOF SOLDIERS FROM FRANCE', 'byline': '', 'article': 'Bodies Of American soldiers killed\\nIn action are being collected and in\\nTERED in American cemeteries scat\\ntered all along the battle lines IN\\nFrance. former Attorney General\\nGregory announces, upon his return\\nfrom Paris.\\n\\n\\nSome cemeteries contain only a\\ndozen bodies In others the bodies\\ntotal hundreds Every care Is being\\ntaken to preserve the Identification\\nOF the men buried and TO keep the\\ngraves in good condition and preserve\\nthe cemeteries sites from desecra-\\nton.\\n\\n\\nwhether the United States Govern\\nment will adopt a policy OF returning\\nAll the bodies to the United States\\nwill be determined later, Gregory\\nsaid. Meanwhile the temporary ex-\\npedient OF laying out cemeteries has\\nbeen adopted. Relatives in the Uni-\\nted States who may wish to return\\nbodies of soldiers TO this country will\\nbe obliged to take up the matter with\\nthe Government, which will act\\nthrough the French government.\\n\\n\\nPublic sentiment in France favors\\nleaving there in several national\\ncemeteries the bodies OF soldiers, ae-\\ncording to Gregory. The French, he\\nsaid, point out such cemeteries. could\\nbe made memorial plots commemo-\\nrating sacrifices OF the great war.'}\n"
     ]
    }
   ],
   "source": [
    "for i in dataset['1919']:\n",
    "    print(i)\n",
    "    break"
   ]
  },
  {
   "cell_type": "code",
   "execution_count": 4,
   "metadata": {},
   "outputs": [
    {
     "name": "stderr",
     "output_type": "stream",
     "text": [
      "100%|██████████| 1981192/1981192 [33:09<00:00, 995.66it/s] \n"
     ]
    }
   ],
   "source": [
    "chicago_red_summer={}\n",
    "search_term_1 = ['race', 'riot']\n",
    "search_term_2 = ['mob', 'killed']\n",
    "for data in tqdm(dataset['1919']):\n",
    "    date_object = datetime.strptime(data['date'], '%Y-%m-%d').date()\n",
    "    if date_object >= datetime.strptime('1919-01-01', '%Y-%m-%d').date():\n",
    "        overlap=set(search_term_1).intersection(set(word_tokenize(data['article'].lower())))\n",
    "        if len(overlap) == 2:\n",
    "            chicago_red_summer[data['article_id']]={'headline':data['headline'], 'newspaper_name':data['newspaper_name'], 'date':data['date'], 'article':data['article']}\n",
    "        overlap=set(search_term_2).intersection(set(word_tokenize(data['article'].lower())))\n",
    "        if len(overlap) == 2:\n",
    "            chicago_red_summer[data['article_id']]={'headline':data['headline'], 'newspaper_name':data['newspaper_name'], 'date':data['date'], 'article':data['article']}\n",
    " "
   ]
  },
  {
   "cell_type": "code",
   "execution_count": 5,
   "metadata": {},
   "outputs": [],
   "source": [
    "pd.DataFrame.from_dict(chicago_red_summer).T.reset_index().to_csv('/Volumes/T7/chroniclingamerica/american-stories/redsummer-again.csv', index=False)"
   ]
  }
 ],
 "metadata": {
  "kernelspec": {
   "display_name": "py3.11",
   "language": "python",
   "name": "python3"
  },
  "language_info": {
   "codemirror_mode": {
    "name": "ipython",
    "version": 3
   },
   "file_extension": ".py",
   "mimetype": "text/x-python",
   "name": "python",
   "nbconvert_exporter": "python",
   "pygments_lexer": "ipython3",
   "version": "3.10.9"
  },
  "orig_nbformat": 4
 },
 "nbformat": 4,
 "nbformat_minor": 2
}
