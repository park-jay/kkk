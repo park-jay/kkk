{
 "cells": [
  {
   "cell_type": "code",
   "execution_count": 9,
   "metadata": {},
   "outputs": [],
   "source": [
    "from datasets import load_dataset\n",
    "from tqdm import tqdm\n",
    "from nltk.tokenize import word_tokenize\n",
    "from datetime import datetime\n",
    "import pandas as pd"
   ]
  },
  {
   "cell_type": "code",
   "execution_count": 31,
   "metadata": {},
   "outputs": [
    {
     "name": "stderr",
     "output_type": "stream",
     "text": [
      "Using custom data configuration subset_years-be163dbc31e2a880\n"
     ]
    },
    {
     "name": "stdout",
     "output_type": "stream",
     "text": [
      "Downloading and preparing dataset american_stories/subset_years to /Users/mstudio/.cache/huggingface/datasets/dell-research-harvard___american_stories/subset_years-be163dbc31e2a880/0.1.0/75a916c5166c4f1fe51a57e0f5074cc72e19157c2bb064a2dc3e6362e19892fb...\n",
      "Only taking a subset of years. Change name to 'all_years' to use all years in the dataset.\n",
      "{'1866': 'https://huggingface.co/datasets/dell-research-harvard/AmericanStories/resolve/main/faro_1866.tar.gz', '1867': 'https://huggingface.co/datasets/dell-research-harvard/AmericanStories/resolve/main/faro_1867.tar.gz', '1868': 'https://huggingface.co/datasets/dell-research-harvard/AmericanStories/resolve/main/faro_1868.tar.gz', '1869': 'https://huggingface.co/datasets/dell-research-harvard/AmericanStories/resolve/main/faro_1869.tar.gz', '1870': 'https://huggingface.co/datasets/dell-research-harvard/AmericanStories/resolve/main/faro_1870.tar.gz', '1871': 'https://huggingface.co/datasets/dell-research-harvard/AmericanStories/resolve/main/faro_1871.tar.gz'}\n"
     ]
    },
    {
     "name": "stderr",
     "output_type": "stream",
     "text": [
      "Downloading data files: 100%|██████████| 6/6 [00:00<00:00, 2554.13it/s]\n",
      "Generating 1866 split: 866 examples [00:00, 8048.77 examples/s]"
     ]
    },
    {
     "name": "stdout",
     "output_type": "stream",
     "text": [
      "Loading associated\n"
     ]
    },
    {
     "name": "stderr",
     "output_type": "stream",
     "text": [
      "Generating 1867 split: 1203 examples [00:00, 11989.48 examples/s] "
     ]
    },
    {
     "name": "stdout",
     "output_type": "stream",
     "text": [
      "Loading associated\n"
     ]
    },
    {
     "name": "stderr",
     "output_type": "stream",
     "text": [
      "Generating 1868 split: 868 examples [00:00, 8554.57 examples/s]    "
     ]
    },
    {
     "name": "stdout",
     "output_type": "stream",
     "text": [
      "Loading associated\n"
     ]
    },
    {
     "name": "stderr",
     "output_type": "stream",
     "text": [
      "Generating 1869 split: 1141 examples [00:00, 10992.89 examples/s]  "
     ]
    },
    {
     "name": "stdout",
     "output_type": "stream",
     "text": [
      "Loading associated\n"
     ]
    },
    {
     "name": "stderr",
     "output_type": "stream",
     "text": [
      "Generating 1870 split: 1222 examples [00:00, 12218.79 examples/s]  "
     ]
    },
    {
     "name": "stdout",
     "output_type": "stream",
     "text": [
      "Loading associated\n"
     ]
    },
    {
     "name": "stderr",
     "output_type": "stream",
     "text": [
      "Generating 1871 split: 1199 examples [00:00, 11921.23 examples/s]  "
     ]
    },
    {
     "name": "stdout",
     "output_type": "stream",
     "text": [
      "Loading associated\n"
     ]
    },
    {
     "name": "stderr",
     "output_type": "stream",
     "text": [
      "                                                                   \r"
     ]
    },
    {
     "name": "stdout",
     "output_type": "stream",
     "text": [
      "Dataset american_stories downloaded and prepared to /Users/mstudio/.cache/huggingface/datasets/dell-research-harvard___american_stories/subset_years-be163dbc31e2a880/0.1.0/75a916c5166c4f1fe51a57e0f5074cc72e19157c2bb064a2dc3e6362e19892fb. Subsequent calls will reuse this data.\n"
     ]
    },
    {
     "name": "stderr",
     "output_type": "stream",
     "text": [
      "100%|██████████| 6/6 [00:00<00:00, 184.36it/s]\n"
     ]
    }
   ],
   "source": [
    "#  Download data for the year 1809 at the associated article level (Default)\n",
    "dataset = load_dataset(\"dell-research-harvard/AmericanStories\",\n",
    "    # \"all_years\"\n",
    "    \"subset_years\",\n",
    "    year_list=[\"1866\", \"1867\", \"1868\", \"1869\", \"1870\", \"1871\"]\n",
    "    #Only ['1774', '1798', '1799', '1800', '1801', '1802', '1803', '1804', '1805', '1806', '1807', '1808', '1809', '1810', '1811', '1812', '1813', '1814', '1815', '1816', '1817', '1818', '1819', '1820', '1821', '1822', '1823', '1824', '1825', '1826', '1827', '1828', '1829', '1830', '1831', '1832', '1833', '1834', '1835', '1836', '1837', '1838', '1839', '1840', '1841', '1842', '1843', '1844', '1845', '1846', '1847', '1848', '1849', '1850', '1851', '1852', '1853', '1854', '1855', '1856', '1857', '1858', '1859', '1860', '1861', '1862', '1863', '1864', '1865', '1866', '1867', '1868', '1869', '1870', '1871', '1872', '1873', '1874', '1875', '1876', '1877', '1878', '1879', '1880', '1881', '1882', '1883', '1884', '1885', '1886', '1887', '1888', '1889', '1890', '1891', '1892', '1893', '1894', '1895', '1896', '1897', '1898', '1899', '1900', '1901', '1902', '1903', '1904', '1905', '1906', '1907', '1908', '1909', '1910', '1911', '1912', '1913', '1914', '1915', '1916', '1917', '1918', '1919', '1920', '1921', '1922', '1923', '1924', '1925', '1926', '1927', '1928', '1929', '1930', '1931', '1932', '1933', '1934', '1935', '1936', '1937', '1938', '1939', '1940', '1941', '1942', '1943', '1944', '1945', '1946', '1947', '1948', '1949', '1950', '1951', '1952', '1953', '1954', '1955', '1956', '1957', '1958', '1959', '1960', '1961', '1962', '1963'] are supported. Please provide a valid year_list\n",
    ")"
   ]
  },
  {
   "cell_type": "code",
   "execution_count": 4,
   "metadata": {},
   "outputs": [
    {
     "name": "stdout",
     "output_type": "stream",
     "text": [
      "{'article_id': '1_1919-04-24_p22_sn84026749_00280764577_1919042401_0444', 'newspaper_name': 'The Washington times.', 'edition': '01', 'date': '1919-04-24', 'page': 'p22', 'headline': 'RELATIVES NAY GET BODIES\\n\\n\\nOF SOLDIERS FROM FRANCE', 'byline': '', 'article': 'Bodies Of American soldiers killed\\nIn action are being collected and in\\nTERED in American cemeteries scat\\ntered all along the battle lines IN\\nFrance. former Attorney General\\nGregory announces, upon his return\\nfrom Paris.\\n\\n\\nSome cemeteries contain only a\\ndozen bodies In others the bodies\\ntotal hundreds Every care Is being\\ntaken to preserve the Identification\\nOF the men buried and TO keep the\\ngraves in good condition and preserve\\nthe cemeteries sites from desecra-\\nton.\\n\\n\\nwhether the United States Govern\\nment will adopt a policy OF returning\\nAll the bodies to the United States\\nwill be determined later, Gregory\\nsaid. Meanwhile the temporary ex-\\npedient OF laying out cemeteries has\\nbeen adopted. Relatives in the Uni-\\nted States who may wish to return\\nbodies of soldiers TO this country will\\nbe obliged to take up the matter with\\nthe Government, which will act\\nthrough the French government.\\n\\n\\nPublic sentiment in France favors\\nleaving there in several national\\ncemeteries the bodies OF soldiers, ae-\\ncording to Gregory. The French, he\\nsaid, point out such cemeteries. could\\nbe made memorial plots commemo-\\nrating sacrifices OF the great war.'}\n"
     ]
    }
   ],
   "source": [
    "for i in dataset['1919']:\n",
    "    print(i)\n",
    "    break"
   ]
  },
  {
   "cell_type": "code",
   "execution_count": 38,
   "metadata": {},
   "outputs": [
    {
     "ename": "KeyError",
     "evalue": "'1919'",
     "output_type": "error",
     "traceback": [
      "\u001b[0;31m---------------------------------------------------------------------------\u001b[0m",
      "\u001b[0;31mKeyError\u001b[0m                                  Traceback (most recent call last)",
      "\u001b[1;32m/Users/mstudio/repository/research/kkk/american-stories.ipynb Cell 4\u001b[0m line \u001b[0;36m4\n\u001b[1;32m      <a href='vscode-notebook-cell:/Users/mstudio/repository/research/kkk/american-stories.ipynb#W3sZmlsZQ%3D%3D?line=1'>2</a>\u001b[0m search_term_1 \u001b[39m=\u001b[39m [\u001b[39m'\u001b[39m\u001b[39mrace\u001b[39m\u001b[39m'\u001b[39m, \u001b[39m'\u001b[39m\u001b[39mriot\u001b[39m\u001b[39m'\u001b[39m]\n\u001b[1;32m      <a href='vscode-notebook-cell:/Users/mstudio/repository/research/kkk/american-stories.ipynb#W3sZmlsZQ%3D%3D?line=2'>3</a>\u001b[0m search_term_2 \u001b[39m=\u001b[39m [\u001b[39m'\u001b[39m\u001b[39mmob\u001b[39m\u001b[39m'\u001b[39m, \u001b[39m'\u001b[39m\u001b[39mkilled\u001b[39m\u001b[39m'\u001b[39m]\n\u001b[0;32m----> <a href='vscode-notebook-cell:/Users/mstudio/repository/research/kkk/american-stories.ipynb#W3sZmlsZQ%3D%3D?line=3'>4</a>\u001b[0m \u001b[39mfor\u001b[39;00m data \u001b[39min\u001b[39;00m tqdm(dataset[\u001b[39m'\u001b[39;49m\u001b[39m1919\u001b[39;49m\u001b[39m'\u001b[39;49m]):\n\u001b[1;32m      <a href='vscode-notebook-cell:/Users/mstudio/repository/research/kkk/american-stories.ipynb#W3sZmlsZQ%3D%3D?line=4'>5</a>\u001b[0m     date_object \u001b[39m=\u001b[39m datetime\u001b[39m.\u001b[39mstrptime(data[\u001b[39m'\u001b[39m\u001b[39mdate\u001b[39m\u001b[39m'\u001b[39m], \u001b[39m'\u001b[39m\u001b[39m%\u001b[39m\u001b[39mY-\u001b[39m\u001b[39m%\u001b[39m\u001b[39mm-\u001b[39m\u001b[39m%d\u001b[39;00m\u001b[39m'\u001b[39m)\u001b[39m.\u001b[39mdate()\n\u001b[1;32m      <a href='vscode-notebook-cell:/Users/mstudio/repository/research/kkk/american-stories.ipynb#W3sZmlsZQ%3D%3D?line=5'>6</a>\u001b[0m     \u001b[39mif\u001b[39;00m date_object \u001b[39m>\u001b[39m\u001b[39m=\u001b[39m datetime\u001b[39m.\u001b[39mstrptime(\u001b[39m'\u001b[39m\u001b[39m1919-01-01\u001b[39m\u001b[39m'\u001b[39m, \u001b[39m'\u001b[39m\u001b[39m%\u001b[39m\u001b[39mY-\u001b[39m\u001b[39m%\u001b[39m\u001b[39mm-\u001b[39m\u001b[39m%d\u001b[39;00m\u001b[39m'\u001b[39m)\u001b[39m.\u001b[39mdate():\n",
      "File \u001b[0;32m~/miniconda3/envs/py3.10/lib/python3.10/site-packages/datasets/dataset_dict.py:56\u001b[0m, in \u001b[0;36mDatasetDict.__getitem__\u001b[0;34m(self, k)\u001b[0m\n\u001b[1;32m     54\u001b[0m \u001b[39mdef\u001b[39;00m \u001b[39m__getitem__\u001b[39m(\u001b[39mself\u001b[39m, k) \u001b[39m-\u001b[39m\u001b[39m>\u001b[39m Dataset:\n\u001b[1;32m     55\u001b[0m     \u001b[39mif\u001b[39;00m \u001b[39misinstance\u001b[39m(k, (\u001b[39mstr\u001b[39m, NamedSplit)) \u001b[39mor\u001b[39;00m \u001b[39mlen\u001b[39m(\u001b[39mself\u001b[39m) \u001b[39m==\u001b[39m \u001b[39m0\u001b[39m:\n\u001b[0;32m---> 56\u001b[0m         \u001b[39mreturn\u001b[39;00m \u001b[39msuper\u001b[39;49m()\u001b[39m.\u001b[39;49m\u001b[39m__getitem__\u001b[39;49m(k)\n\u001b[1;32m     57\u001b[0m     \u001b[39melse\u001b[39;00m:\n\u001b[1;32m     58\u001b[0m         available_suggested_splits \u001b[39m=\u001b[39m [\n\u001b[1;32m     59\u001b[0m             split \u001b[39mfor\u001b[39;00m split \u001b[39min\u001b[39;00m (Split\u001b[39m.\u001b[39mTRAIN, Split\u001b[39m.\u001b[39mTEST, Split\u001b[39m.\u001b[39mVALIDATION) \u001b[39mif\u001b[39;00m split \u001b[39min\u001b[39;00m \u001b[39mself\u001b[39m\n\u001b[1;32m     60\u001b[0m         ]\n",
      "\u001b[0;31mKeyError\u001b[0m: '1919'"
     ]
    }
   ],
   "source": [
    "chicago_red_summer={}\n",
    "search_term_1 = ['race', 'riot']\n",
    "search_term_2 = ['mob', 'killed']\n",
    "for data in tqdm(dataset['1919']):\n",
    "    date_object = datetime.strptime(data['date'], '%Y-%m-%d').date()\n",
    "    if date_object >= datetime.strptime('1919-01-01', '%Y-%m-%d').date():\n",
    "        overlap=set(search_term_1).intersection(set(word_tokenize(data['article'].lower())))\n",
    "        if len(overlap) == 2:\n",
    "            chicago_red_summer[data['article_id']]={'headline':data['headline'], 'newspaper_name':data['newspaper_name'], 'date':data['date'], 'article':data['article']}\n",
    "        overlap=set(search_term_2).intersection(set(word_tokenize(data['article'].lower())))\n",
    "        if len(overlap) == 2:\n",
    "            chicago_red_summer[data['article_id']]={'headline':data['headline'], 'newspaper_name':data['newspaper_name'], 'date':data['date'], 'article':data['article']}\n",
    " "
   ]
  },
  {
   "cell_type": "code",
   "execution_count": 39,
   "metadata": {},
   "outputs": [
    {
     "name": "stderr",
     "output_type": "stream",
     "text": [
      "100%|██████████| 135316/135316 [01:37<00:00, 1389.15it/s]\n"
     ]
    }
   ],
   "source": [
    "kkk_first={}\n",
    "search_term_1 = ['klan']\n",
    "for data in tqdm(dataset['1866']):\n",
    "    date_object = datetime.strptime(data['date'], '%Y-%m-%d').date()\n",
    "    if date_object >= datetime.strptime('1866-01-01', '%Y-%m-%d').date():\n",
    "        overlap=set(search_term_1).intersection(set(word_tokenize(data['article'].lower())))\n",
    "        if len(overlap) == 1:\n",
    "            kkk_first[data['article_id']]={'headline':data['headline'], 'newspaper_name':data['newspaper_name'], 'date':data['date'], 'article':data['article']}"
   ]
  },
  {
   "cell_type": "code",
   "execution_count": 40,
   "metadata": {},
   "outputs": [
    {
     "name": "stderr",
     "output_type": "stream",
     "text": [
      "100%|██████████| 161180/161180 [01:51<00:00, 1443.57it/s]\n"
     ]
    }
   ],
   "source": [
    "for data in tqdm(dataset['1867']):\n",
    "    date_object = datetime.strptime(data['date'], '%Y-%m-%d').date()\n",
    "    if date_object >= datetime.strptime('1867-01-01', '%Y-%m-%d').date():\n",
    "        overlap=set(search_term_1).intersection(set(word_tokenize(data['article'].lower())))\n",
    "        if len(overlap) == 1:\n",
    "            kkk_first[data['article_id']]={'headline':data['headline'], 'newspaper_name':data['newspaper_name'], 'date':data['date'], 'article':data['article']}"
   ]
  },
  {
   "cell_type": "code",
   "execution_count": 41,
   "metadata": {},
   "outputs": [
    {
     "name": "stderr",
     "output_type": "stream",
     "text": [
      "100%|██████████| 140521/140521 [01:43<00:00, 1361.98it/s]\n"
     ]
    }
   ],
   "source": [
    "for data in tqdm(dataset['1868']):\n",
    "    date_object = datetime.strptime(data['date'], '%Y-%m-%d').date()\n",
    "    if date_object >= datetime.strptime('1868-01-01', '%Y-%m-%d').date():\n",
    "        overlap=set(search_term_1).intersection(set(word_tokenize(data['article'].lower())))\n",
    "        if len(overlap) == 1:\n",
    "            kkk_first[data['article_id']]={'headline':data['headline'], 'newspaper_name':data['newspaper_name'], 'date':data['date'], 'article':data['article']}"
   ]
  },
  {
   "cell_type": "code",
   "execution_count": 42,
   "metadata": {},
   "outputs": [
    {
     "name": "stderr",
     "output_type": "stream",
     "text": [
      "100%|██████████| 171455/171455 [02:05<00:00, 1371.10it/s]\n"
     ]
    }
   ],
   "source": [
    "for data in tqdm(dataset['1869']):\n",
    "    date_object = datetime.strptime(data['date'], '%Y-%m-%d').date()\n",
    "    if date_object >= datetime.strptime('1869-01-01', '%Y-%m-%d').date():\n",
    "        overlap=set(search_term_1).intersection(set(word_tokenize(data['article'].lower())))\n",
    "        if len(overlap) == 1:\n",
    "            kkk_first[data['article_id']]={'headline':data['headline'], 'newspaper_name':data['newspaper_name'], 'date':data['date'], 'article':data['article']}"
   ]
  },
  {
   "cell_type": "code",
   "execution_count": 43,
   "metadata": {},
   "outputs": [
    {
     "name": "stderr",
     "output_type": "stream",
     "text": [
      "100%|██████████| 174061/174061 [02:05<00:00, 1384.39it/s]\n"
     ]
    }
   ],
   "source": [
    "for data in tqdm(dataset['1870']):\n",
    "    date_object = datetime.strptime(data['date'], '%Y-%m-%d').date()\n",
    "    if date_object >= datetime.strptime('1870-01-01', '%Y-%m-%d').date():\n",
    "        overlap=set(search_term_1).intersection(set(word_tokenize(data['article'].lower())))\n",
    "        if len(overlap) == 1:\n",
    "            kkk_first[data['article_id']]={'headline':data['headline'], 'newspaper_name':data['newspaper_name'], 'date':data['date'], 'article':data['article']}"
   ]
  },
  {
   "cell_type": "code",
   "execution_count": 44,
   "metadata": {},
   "outputs": [
    {
     "name": "stderr",
     "output_type": "stream",
     "text": [
      "100%|██████████| 151652/151652 [01:47<00:00, 1415.40it/s]\n"
     ]
    }
   ],
   "source": [
    "for data in tqdm(dataset['1871']):\n",
    "    date_object = datetime.strptime(data['date'], '%Y-%m-%d').date()\n",
    "    if date_object >= datetime.strptime('1871-01-01', '%Y-%m-%d').date():\n",
    "        overlap=set(search_term_1).intersection(set(word_tokenize(data['article'].lower())))\n",
    "        if len(overlap) == 1:\n",
    "            kkk_first[data['article_id']]={'headline':data['headline'], 'newspaper_name':data['newspaper_name'], 'date':data['date'], 'article':data['article']}"
   ]
  },
  {
   "cell_type": "code",
   "execution_count": 47,
   "metadata": {},
   "outputs": [
    {
     "name": "stderr",
     "output_type": "stream",
     "text": [
      "100%|██████████| 135316/135316 [01:38<00:00, 1379.83it/s]\n"
     ]
    }
   ],
   "source": [
    "search_term_1 = ['knight', 'rider']\n",
    "for data in tqdm(dataset['1866']):\n",
    "    date_object = datetime.strptime(data['date'], '%Y-%m-%d').date()\n",
    "    if date_object >= datetime.strptime('1866-01-01', '%Y-%m-%d').date():\n",
    "        overlap=set(search_term_1).intersection(set(word_tokenize(data['article'].lower())))\n",
    "        if len(overlap) == 2:\n",
    "            kkk_first[data['article_id']]={'headline':data['headline'], 'newspaper_name':data['newspaper_name'], 'date':data['date'], 'article':data['article']}"
   ]
  },
  {
   "cell_type": "code",
   "execution_count": 50,
   "metadata": {},
   "outputs": [
    {
     "name": "stderr",
     "output_type": "stream",
     "text": [
      "100%|██████████| 161180/161180 [01:52<00:00, 1435.70it/s]\n"
     ]
    }
   ],
   "source": [
    "for data in tqdm(dataset['1867']):\n",
    "    date_object = datetime.strptime(data['date'], '%Y-%m-%d').date()\n",
    "    if date_object >= datetime.strptime('1867-01-01', '%Y-%m-%d').date():\n",
    "        overlap=set(search_term_1).intersection(set(word_tokenize(data['article'].lower())))\n",
    "        if len(overlap) == 2:\n",
    "            kkk_first[data['article_id']]={'headline':data['headline'], 'newspaper_name':data['newspaper_name'], 'date':data['date'], 'article':data['article']}"
   ]
  },
  {
   "cell_type": "code",
   "execution_count": 51,
   "metadata": {},
   "outputs": [
    {
     "name": "stderr",
     "output_type": "stream",
     "text": [
      "100%|██████████| 140521/140521 [01:43<00:00, 1357.55it/s]\n"
     ]
    }
   ],
   "source": [
    "for data in tqdm(dataset['1868']):\n",
    "    date_object = datetime.strptime(data['date'], '%Y-%m-%d').date()\n",
    "    if date_object >= datetime.strptime('1868-01-01', '%Y-%m-%d').date():\n",
    "        overlap=set(search_term_1).intersection(set(word_tokenize(data['article'].lower())))\n",
    "        if len(overlap) == 2:\n",
    "            kkk_first[data['article_id']]={'headline':data['headline'], 'newspaper_name':data['newspaper_name'], 'date':data['date'], 'article':data['article']}"
   ]
  },
  {
   "cell_type": "code",
   "execution_count": 52,
   "metadata": {},
   "outputs": [
    {
     "name": "stderr",
     "output_type": "stream",
     "text": [
      "100%|██████████| 171455/171455 [02:05<00:00, 1367.72it/s]\n"
     ]
    }
   ],
   "source": [
    "for data in tqdm(dataset['1869']):\n",
    "    date_object = datetime.strptime(data['date'], '%Y-%m-%d').date()\n",
    "    if date_object >= datetime.strptime('1869-01-01', '%Y-%m-%d').date():\n",
    "        overlap=set(search_term_1).intersection(set(word_tokenize(data['article'].lower())))\n",
    "        if len(overlap) == 2:\n",
    "            kkk_first[data['article_id']]={'headline':data['headline'], 'newspaper_name':data['newspaper_name'], 'date':data['date'], 'article':data['article']}"
   ]
  },
  {
   "cell_type": "code",
   "execution_count": 53,
   "metadata": {},
   "outputs": [
    {
     "name": "stderr",
     "output_type": "stream",
     "text": [
      "100%|██████████| 174061/174061 [02:05<00:00, 1389.02it/s]\n"
     ]
    }
   ],
   "source": [
    "for data in tqdm(dataset['1870']):\n",
    "    date_object = datetime.strptime(data['date'], '%Y-%m-%d').date()\n",
    "    if date_object >= datetime.strptime('1870-01-01', '%Y-%m-%d').date():\n",
    "        overlap=set(search_term_1).intersection(set(word_tokenize(data['article'].lower())))\n",
    "        if len(overlap) == 2:\n",
    "            kkk_first[data['article_id']]={'headline':data['headline'], 'newspaper_name':data['newspaper_name'], 'date':data['date'], 'article':data['article']}"
   ]
  },
  {
   "cell_type": "code",
   "execution_count": 54,
   "metadata": {},
   "outputs": [
    {
     "name": "stderr",
     "output_type": "stream",
     "text": [
      "100%|██████████| 151652/151652 [01:46<00:00, 1425.29it/s]\n"
     ]
    }
   ],
   "source": [
    "for data in tqdm(dataset['1871']):\n",
    "    date_object = datetime.strptime(data['date'], '%Y-%m-%d').date()\n",
    "    if date_object >= datetime.strptime('1871-01-01', '%Y-%m-%d').date():\n",
    "        overlap=set(search_term_1).intersection(set(word_tokenize(data['article'].lower())))\n",
    "        if len(overlap) == 2:\n",
    "            kkk_first[data['article_id']]={'headline':data['headline'], 'newspaper_name':data['newspaper_name'], 'date':data['date'], 'article':data['article']}"
   ]
  },
  {
   "cell_type": "code",
   "execution_count": 55,
   "metadata": {},
   "outputs": [
    {
     "data": {
      "text/plain": [
       "414"
      ]
     },
     "execution_count": 55,
     "metadata": {},
     "output_type": "execute_result"
    }
   ],
   "source": [
    "len(kkk_first)"
   ]
  },
  {
   "cell_type": "code",
   "execution_count": 57,
   "metadata": {},
   "outputs": [],
   "source": [
    "pd.DataFrame.from_dict(kkk_first).T.reset_index().to_csv('/Volumes/T7/chroniclingamerica/american-stories/kkk-first.csv', index=False)"
   ]
  }
 ],
 "metadata": {
  "kernelspec": {
   "display_name": "py3.11",
   "language": "python",
   "name": "python3"
  },
  "language_info": {
   "codemirror_mode": {
    "name": "ipython",
    "version": 3
   },
   "file_extension": ".py",
   "mimetype": "text/x-python",
   "name": "python",
   "nbconvert_exporter": "python",
   "pygments_lexer": "ipython3",
   "version": "3.10.9"
  },
  "orig_nbformat": 4
 },
 "nbformat": 4,
 "nbformat_minor": 2
}
