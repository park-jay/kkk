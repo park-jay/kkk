{
 "cells": [
  {
   "cell_type": "code",
   "execution_count": 1,
   "metadata": {},
   "outputs": [],
   "source": [
    "import pandas as pd"
   ]
  },
  {
   "cell_type": "code",
   "execution_count": 2,
   "metadata": {},
   "outputs": [],
   "source": [
    "first=pd.read_csv('/Volumes/T7/chroniclingamerica/american-stories/keywords/kkk-first-new2.csv')\n",
    "second=pd.read_csv('/Volumes/T7/chroniclingamerica/american-stories/keywords/kkk-second-new2.csv')\n",
    "between=pd.read_csv('/Volumes/T7/chroniclingamerica/american-stories/keywords/kkk-between-new2.csv')\n",
    "klan_paper=pd.read_excel('VRT - White Surpremacist Newspapers to Investigate.xlsx')\n",
    "african_paper=pd.read_csv('african-american.csv')\n",
    "klan_paper=klan_paper.rename(columns={'ID':'sn'})"
   ]
  },
  {
   "cell_type": "code",
   "execution_count": 3,
   "metadata": {},
   "outputs": [
    {
     "name": "stdout",
     "output_type": "stream",
     "text": [
      "(2099, 5) (46613, 5) (44492, 5)\n"
     ]
    }
   ],
   "source": [
    "print(first.shape, second.shape, between.shape)"
   ]
  },
  {
   "cell_type": "code",
   "execution_count": 4,
   "metadata": {},
   "outputs": [],
   "source": [
    "regex_pattern_klan = r'^(?:[^_]*_){3}([^_]+)'\n",
    "regex_pattern_african = r'/lccn/([^/]+)'\n",
    "first['sn']=first['index'].str.extract(regex_pattern_klan)\n",
    "second['sn']=second['index'].str.extract(regex_pattern_klan)\n",
    "between['sn']=second['index'].str.extract(regex_pattern_klan)\n",
    "african_paper['sn']=african_paper['series'].str.extract(regex_pattern_african)"
   ]
  },
  {
   "cell_type": "code",
   "execution_count": 5,
   "metadata": {},
   "outputs": [
    {
     "name": "stdout",
     "output_type": "stream",
     "text": [
      "(15, 12)\n"
     ]
    }
   ],
   "source": [
    "merge_klan_first=pd.merge(\n",
    "    first,\n",
    "    klan_paper,\n",
    "    how=\"inner\",\n",
    "    on='sn')\n",
    "print(merge_klan_first.shape)"
   ]
  },
  {
   "cell_type": "code",
   "execution_count": 6,
   "metadata": {},
   "outputs": [
    {
     "data": {
      "text/plain": [
       "Index(['sn84026536'], dtype='object', name='sn')"
      ]
     },
     "execution_count": 6,
     "metadata": {},
     "output_type": "execute_result"
    }
   ],
   "source": [
    "merge_klan_first.groupby(by='sn').count().index"
   ]
  },
  {
   "cell_type": "code",
   "execution_count": 7,
   "metadata": {},
   "outputs": [
    {
     "name": "stdout",
     "output_type": "stream",
     "text": [
      "(4, 7)\n"
     ]
    }
   ],
   "source": [
    "merge_african_first=pd.merge(\n",
    "    first,\n",
    "    african_paper,\n",
    "    how='inner',\n",
    "    on='sn'\n",
    ")\n",
    "print(merge_african_first.shape)"
   ]
  },
  {
   "cell_type": "code",
   "execution_count": 8,
   "metadata": {},
   "outputs": [
    {
     "data": {
      "text/plain": [
       "Index(['sn83025745', 'sn83025751'], dtype='object', name='sn')"
      ]
     },
     "execution_count": 8,
     "metadata": {},
     "output_type": "execute_result"
    }
   ],
   "source": [
    "merge_african_first.groupby(by='sn').count().index"
   ]
  },
  {
   "cell_type": "code",
   "execution_count": 9,
   "metadata": {},
   "outputs": [
    {
     "name": "stdout",
     "output_type": "stream",
     "text": [
      "(110, 12)\n"
     ]
    }
   ],
   "source": [
    "merge_klan_between=pd.merge(\n",
    "    between,\n",
    "    klan_paper,\n",
    "    how=\"inner\",\n",
    "    on='sn')\n",
    "print(merge_klan_between.shape)"
   ]
  },
  {
   "cell_type": "code",
   "execution_count": 10,
   "metadata": {},
   "outputs": [
    {
     "data": {
      "text/plain": [
       "Index(['sn89052197', 'sn89059303', 'sn90059391', 'sn90059426'], dtype='object', name='sn')"
      ]
     },
     "execution_count": 10,
     "metadata": {},
     "output_type": "execute_result"
    }
   ],
   "source": [
    "merge_klan_between.groupby(by='sn').count().index"
   ]
  },
  {
   "cell_type": "code",
   "execution_count": 11,
   "metadata": {},
   "outputs": [
    {
     "name": "stdout",
     "output_type": "stream",
     "text": [
      "(865, 7)\n"
     ]
    }
   ],
   "source": [
    "merge_african_between=pd.merge(\n",
    "    between,\n",
    "    african_paper,\n",
    "    how=\"inner\",\n",
    "    on='sn')\n",
    "print(merge_african_between.shape)"
   ]
  },
  {
   "cell_type": "code",
   "execution_count": 12,
   "metadata": {},
   "outputs": [
    {
     "data": {
      "text/plain": [
       "Index(['sn83016810', 'sn83025514', 'sn83025803', 'sn84024055', 'sn84025815',\n",
       "       'sn84025837', 'sn84025887', 'sn85049804', 'sn86056950', 'sn87065408',\n",
       "       'sn90060427', 'sn90060931', 'sn90060932', 'sn91055359', 'sn92050012',\n",
       "       'sn92072999', 'sn95060626', 'sn96060881', 'sn96076588'],\n",
       "      dtype='object', name='sn')"
      ]
     },
     "execution_count": 12,
     "metadata": {},
     "output_type": "execute_result"
    }
   ],
   "source": [
    "merge_african_between.groupby(by='sn').count().index"
   ]
  },
  {
   "cell_type": "code",
   "execution_count": 13,
   "metadata": {},
   "outputs": [
    {
     "name": "stdout",
     "output_type": "stream",
     "text": [
      "(110, 12)\n"
     ]
    }
   ],
   "source": [
    "merge_klan_second=pd.merge(\n",
    "    second,\n",
    "    klan_paper,\n",
    "    how=\"inner\",\n",
    "    on='sn')\n",
    "print(merge_klan_second.shape)"
   ]
  },
  {
   "cell_type": "code",
   "execution_count": 14,
   "metadata": {},
   "outputs": [
    {
     "data": {
      "text/plain": [
       "Index(['sn89052197', 'sn89059303', 'sn90059391', 'sn90059426'], dtype='object', name='sn')"
      ]
     },
     "execution_count": 14,
     "metadata": {},
     "output_type": "execute_result"
    }
   ],
   "source": [
    "merge_klan_second.groupby(by='sn').count().index"
   ]
  },
  {
   "cell_type": "code",
   "execution_count": 15,
   "metadata": {},
   "outputs": [
    {
     "name": "stdout",
     "output_type": "stream",
     "text": [
      "(900, 7)\n"
     ]
    }
   ],
   "source": [
    "merge_african_second=pd.merge(\n",
    "    second,\n",
    "    african_paper,\n",
    "    how=\"inner\",\n",
    "    on='sn')\n",
    "print(merge_african_second.shape)"
   ]
  },
  {
   "cell_type": "code",
   "execution_count": 16,
   "metadata": {},
   "outputs": [
    {
     "data": {
      "text/plain": [
       "Index(['sn83016810', 'sn83025514', 'sn83025803', 'sn84024055', 'sn84025815',\n",
       "       'sn84025837', 'sn84025887', 'sn85049804', 'sn86056950', 'sn87065408',\n",
       "       'sn90060427', 'sn90060931', 'sn90060932', 'sn91055359', 'sn92050012',\n",
       "       'sn92072999', 'sn93062828', 'sn95060626', 'sn96060866', 'sn96060881',\n",
       "       'sn96076588'],\n",
       "      dtype='object', name='sn')"
      ]
     },
     "execution_count": 16,
     "metadata": {},
     "output_type": "execute_result"
    }
   ],
   "source": [
    "merge_african_second.groupby(by='sn').count().index"
   ]
  },
  {
   "cell_type": "code",
   "execution_count": 17,
   "metadata": {},
   "outputs": [
    {
     "name": "stderr",
     "output_type": "stream",
     "text": [
      "/var/folders/3_/r8z51q092v566bd_r0g_zj640000gn/T/ipykernel_2483/840069632.py:2: SettingWithCopyWarning: \n",
      "A value is trying to be set on a copy of a slice from a DataFrame.\n",
      "Try using .loc[row_indexer,col_indexer] = value instead\n",
      "\n",
      "See the caveats in the documentation: https://pandas.pydata.org/pandas-docs/stable/user_guide/indexing.html#returning-a-view-versus-a-copy\n",
      "  first_neither['label']='neither'\n",
      "/var/folders/3_/r8z51q092v566bd_r0g_zj640000gn/T/ipykernel_2483/840069632.py:4: SettingWithCopyWarning: \n",
      "A value is trying to be set on a copy of a slice from a DataFrame.\n",
      "Try using .loc[row_indexer,col_indexer] = value instead\n",
      "\n",
      "See the caveats in the documentation: https://pandas.pydata.org/pandas-docs/stable/user_guide/indexing.html#returning-a-view-versus-a-copy\n",
      "  first_klan['label']='ws'\n",
      "/var/folders/3_/r8z51q092v566bd_r0g_zj640000gn/T/ipykernel_2483/840069632.py:6: SettingWithCopyWarning: \n",
      "A value is trying to be set on a copy of a slice from a DataFrame.\n",
      "Try using .loc[row_indexer,col_indexer] = value instead\n",
      "\n",
      "See the caveats in the documentation: https://pandas.pydata.org/pandas-docs/stable/user_guide/indexing.html#returning-a-view-versus-a-copy\n",
      "  first_african['label']='aa'\n"
     ]
    }
   ],
   "source": [
    "first_neither=first[(~first['index'].isin(merge_klan_first['index']))&(~first['index'].isin(merge_african_first['index']))]\n",
    "first_neither['label']='neither'\n",
    "first_klan=first[first['index'].isin(merge_klan_first['index'])]\n",
    "first_klan['label']='ws'\n",
    "first_african=first[first['index'].isin(merge_african_first['index'])]\n",
    "first_african['label']='aa'"
   ]
  },
  {
   "cell_type": "code",
   "execution_count": 21,
   "metadata": {},
   "outputs": [
    {
     "name": "stderr",
     "output_type": "stream",
     "text": [
      "/var/folders/3_/r8z51q092v566bd_r0g_zj640000gn/T/ipykernel_2483/470156896.py:2: SettingWithCopyWarning: \n",
      "A value is trying to be set on a copy of a slice from a DataFrame.\n",
      "Try using .loc[row_indexer,col_indexer] = value instead\n",
      "\n",
      "See the caveats in the documentation: https://pandas.pydata.org/pandas-docs/stable/user_guide/indexing.html#returning-a-view-versus-a-copy\n",
      "  between_neither['label']='neither'\n",
      "/var/folders/3_/r8z51q092v566bd_r0g_zj640000gn/T/ipykernel_2483/470156896.py:4: SettingWithCopyWarning: \n",
      "A value is trying to be set on a copy of a slice from a DataFrame.\n",
      "Try using .loc[row_indexer,col_indexer] = value instead\n",
      "\n",
      "See the caveats in the documentation: https://pandas.pydata.org/pandas-docs/stable/user_guide/indexing.html#returning-a-view-versus-a-copy\n",
      "  between_klan['label']='ws'\n",
      "/var/folders/3_/r8z51q092v566bd_r0g_zj640000gn/T/ipykernel_2483/470156896.py:6: SettingWithCopyWarning: \n",
      "A value is trying to be set on a copy of a slice from a DataFrame.\n",
      "Try using .loc[row_indexer,col_indexer] = value instead\n",
      "\n",
      "See the caveats in the documentation: https://pandas.pydata.org/pandas-docs/stable/user_guide/indexing.html#returning-a-view-versus-a-copy\n",
      "  between_african['label']='aa'\n"
     ]
    }
   ],
   "source": [
    "between_neither=between[(~between['index'].isin(merge_klan_between['index']))&(~between['index'].isin(merge_african_between['index']))]\n",
    "between_neither['label']='neither'\n",
    "between_klan=between[between['index'].isin(merge_klan_between['index'])]\n",
    "between_klan['label']='ws'\n",
    "between_african=between[between['index'].isin(merge_african_between['index'])]\n",
    "between_african['label']='aa'"
   ]
  },
  {
   "cell_type": "code",
   "execution_count": 26,
   "metadata": {},
   "outputs": [
    {
     "name": "stderr",
     "output_type": "stream",
     "text": [
      "/var/folders/3_/r8z51q092v566bd_r0g_zj640000gn/T/ipykernel_2483/4048937850.py:2: SettingWithCopyWarning: \n",
      "A value is trying to be set on a copy of a slice from a DataFrame.\n",
      "Try using .loc[row_indexer,col_indexer] = value instead\n",
      "\n",
      "See the caveats in the documentation: https://pandas.pydata.org/pandas-docs/stable/user_guide/indexing.html#returning-a-view-versus-a-copy\n",
      "  second_neither['label']='neither'\n",
      "/var/folders/3_/r8z51q092v566bd_r0g_zj640000gn/T/ipykernel_2483/4048937850.py:4: SettingWithCopyWarning: \n",
      "A value is trying to be set on a copy of a slice from a DataFrame.\n",
      "Try using .loc[row_indexer,col_indexer] = value instead\n",
      "\n",
      "See the caveats in the documentation: https://pandas.pydata.org/pandas-docs/stable/user_guide/indexing.html#returning-a-view-versus-a-copy\n",
      "  second_klan['label']='ws'\n",
      "/var/folders/3_/r8z51q092v566bd_r0g_zj640000gn/T/ipykernel_2483/4048937850.py:6: SettingWithCopyWarning: \n",
      "A value is trying to be set on a copy of a slice from a DataFrame.\n",
      "Try using .loc[row_indexer,col_indexer] = value instead\n",
      "\n",
      "See the caveats in the documentation: https://pandas.pydata.org/pandas-docs/stable/user_guide/indexing.html#returning-a-view-versus-a-copy\n",
      "  second_african['label']='aa'\n"
     ]
    }
   ],
   "source": [
    "second_neither=second[(~second['index'].isin(merge_klan_second['index']))&(~second['index'].isin(merge_african_second['index']))]\n",
    "second_neither['label']='neither'\n",
    "second_klan=second[second['index'].isin(merge_klan_second['index'])]\n",
    "second_klan['label']='ws'\n",
    "second_african=second[second['index'].isin(merge_african_second['index'])]\n",
    "second_african['label']='aa'"
   ]
  },
  {
   "cell_type": "code",
   "execution_count": 32,
   "metadata": {},
   "outputs": [],
   "source": [
    "first_label=pd.concat([first_neither, first_african, first_klan])\n",
    "first_label.sort_values(by='date')\n",
    "first_label.to_csv('/Volumes/T7/chroniclingamerica/american-stories/keywords/kkk-first-label.csv', index=False)"
   ]
  },
  {
   "cell_type": "code",
   "execution_count": 33,
   "metadata": {},
   "outputs": [],
   "source": [
    "second_label=pd.concat([second_neither, second_african, second_klan])\n",
    "second_label.sort_values(by='date')\n",
    "second_label.to_csv('/Volumes/T7/chroniclingamerica/american-stories/keywords/kkk-second-label.csv', index=False)"
   ]
  },
  {
   "cell_type": "code",
   "execution_count": 34,
   "metadata": {},
   "outputs": [],
   "source": [
    "between_label=pd.concat([between_neither, between_klan, between_african])\n",
    "between_label.sort_values(by='date')\n",
    "between_label.to_csv('/Volumes/T7/chroniclingamerica/american-stories/keywords/kkk-between-label.csv', index=False)"
   ]
  },
  {
   "cell_type": "code",
   "execution_count": 3,
   "metadata": {},
   "outputs": [],
   "source": [
    "first=pd.read_csv('/Volumes/T7/chroniclingamerica/american-stories/keywords/kkk-first-label.csv')\n",
    "between=pd.read_csv('/Volumes/T7/chroniclingamerica/american-stories/keywords/kkk-between-label.csv')\n",
    "second=pd.read_csv('/Volumes/T7/chroniclingamerica/american-stories/keywords/kkk-second-label.csv')"
   ]
  },
  {
   "cell_type": "code",
   "execution_count": 4,
   "metadata": {},
   "outputs": [
    {
     "name": "stderr",
     "output_type": "stream",
     "text": [
      "/Users/mstudio/miniconda3/envs/py3.10/lib/python3.10/site-packages/umap/distances.py:1063: NumbaDeprecationWarning: The 'nopython' keyword argument was not supplied to the 'numba.jit' decorator. The implicit default value for this argument is currently False, but it will be changed to True in Numba 0.59.0. See https://numba.readthedocs.io/en/stable/reference/deprecation.html#deprecation-of-object-mode-fall-back-behaviour-when-using-jit for details.\n",
      "  @numba.jit()\n",
      "/Users/mstudio/miniconda3/envs/py3.10/lib/python3.10/site-packages/umap/distances.py:1071: NumbaDeprecationWarning: The 'nopython' keyword argument was not supplied to the 'numba.jit' decorator. The implicit default value for this argument is currently False, but it will be changed to True in Numba 0.59.0. See https://numba.readthedocs.io/en/stable/reference/deprecation.html#deprecation-of-object-mode-fall-back-behaviour-when-using-jit for details.\n",
      "  @numba.jit()\n",
      "/Users/mstudio/miniconda3/envs/py3.10/lib/python3.10/site-packages/umap/distances.py:1086: NumbaDeprecationWarning: The 'nopython' keyword argument was not supplied to the 'numba.jit' decorator. The implicit default value for this argument is currently False, but it will be changed to True in Numba 0.59.0. See https://numba.readthedocs.io/en/stable/reference/deprecation.html#deprecation-of-object-mode-fall-back-behaviour-when-using-jit for details.\n",
      "  @numba.jit()\n",
      "/Users/mstudio/miniconda3/envs/py3.10/lib/python3.10/site-packages/tqdm/auto.py:22: TqdmWarning: IProgress not found. Please update jupyter and ipywidgets. See https://ipywidgets.readthedocs.io/en/stable/user_install.html\n",
      "  from .autonotebook import tqdm as notebook_tqdm\n",
      "/Users/mstudio/miniconda3/envs/py3.10/lib/python3.10/site-packages/umap/umap_.py:660: NumbaDeprecationWarning: The 'nopython' keyword argument was not supplied to the 'numba.jit' decorator. The implicit default value for this argument is currently False, but it will be changed to True in Numba 0.59.0. See https://numba.readthedocs.io/en/stable/reference/deprecation.html#deprecation-of-object-mode-fall-back-behaviour-when-using-jit for details.\n",
      "  @numba.jit()\n"
     ]
    }
   ],
   "source": [
    "from top2vec import Top2Vec\n",
    "from tqdm import tqdm\n",
    "import nltk\n",
    "stop=nltk.corpus.stopwords.words('english')\n",
    "import spacy\n",
    "nlp=spacy.load('en_core_web_sm')\n",
    "from nltk import word_tokenize"
   ]
  },
  {
   "cell_type": "code",
   "execution_count": 5,
   "metadata": {},
   "outputs": [],
   "source": [
    "def lemmatization(dataframe:pd.DataFrame()):\n",
    "    dataframe['article']=dataframe['article'].str.lower()\n",
    "    dataframe['stopword']=dataframe['article'].apply(lambda x: ' '.join([word for word in x.split() if word not in (stop)]))\n",
    "    dataframe['punct']=dataframe['stopword'].str.replace('[^\\w\\s]','')\n",
    "    dataframe['lemma']=dataframe['punct'].apply(lambda row: ' '.join([w.lemma_ for w in nlp(row)]))\n",
    "    dataframe['token']=dataframe['lemma'].apply(word_tokenize)\n",
    "    return dataframe"
   ]
  },
  {
   "cell_type": "code",
   "execution_count": 6,
   "metadata": {},
   "outputs": [],
   "source": [
    "african_second_lemma=lemmatization(second)\n",
    "#second: 25m 30s"
   ]
  },
  {
   "cell_type": "code",
   "execution_count": 7,
   "metadata": {},
   "outputs": [
    {
     "name": "stderr",
     "output_type": "stream",
     "text": [
      "2023-10-12 19:54:48,939 - top2vec - INFO - Pre-processing documents for training\n",
      "2023-10-12 19:54:57,649 - top2vec - INFO - Creating joint document/word embedding\n",
      "2023-10-12 20:06:54,960 - top2vec - INFO - Creating lower dimension embedding of documents\n",
      "2023-10-12 20:07:08,293 - top2vec - INFO - Finding dense areas of documents\n",
      "2023-10-12 20:07:09,576 - top2vec - INFO - Finding topics\n"
     ]
    }
   ],
   "source": [
    "model=Top2Vec(documents=african_second_lemma['lemma'].tolist(), speed='learn', workers=4)\n",
    "#second: 12m 21s"
   ]
  },
  {
   "cell_type": "code",
   "execution_count": 8,
   "metadata": {},
   "outputs": [],
   "source": [
    "topic_sizes, topic_nums = model.get_topic_sizes()"
   ]
  },
  {
   "cell_type": "code",
   "execution_count": 9,
   "metadata": {},
   "outputs": [
    {
     "name": "stdout",
     "output_type": "stream",
     "text": [
      "292 292\n"
     ]
    }
   ],
   "source": [
    "print(len(topic_sizes), len(topic_nums))"
   ]
  },
  {
   "cell_type": "code",
   "execution_count": 10,
   "metadata": {},
   "outputs": [],
   "source": [
    "id_dic={}\n",
    "topic_id={}\n",
    "for element in zip(topic_nums, topic_sizes):\n",
    "    documents, document_scores, document_ids = model.search_documents_by_topic(topic_num=element[0], num_docs=element[1])\n",
    "    for score, id in zip(document_scores, document_ids):\n",
    "        id_dic[id]=score\n",
    "        topic_id[id]=element[0]"
   ]
  },
  {
   "cell_type": "code",
   "execution_count": 11,
   "metadata": {},
   "outputs": [],
   "source": [
    "topic_words, word_scores, topic_scores = model.get_topics(len(topic_sizes))"
   ]
  },
  {
   "cell_type": "code",
   "execution_count": 12,
   "metadata": {},
   "outputs": [
    {
     "data": {
      "text/plain": [
       "array([['americanism', 'creed', 'citizenship', ..., 'unjust', 'freedom',\n",
       "        'minded'],\n",
       "       ['bandit', 'robber', 'holdup', ..., 'hallway', 'notify',\n",
       "        'policeman'],\n",
       "       ['stare', 'she', 'softly', ..., 'shoulder', 'glanced', 'cheek'],\n",
       "       ...,\n",
       "       ['kennel', 'terri', 'dog', ..., 'lish', 'comer', 'brace'],\n",
       "       ['revenue', 'internal', 'income', ..., 'earning', 'branch',\n",
       "        'bookkeeper'],\n",
       "       ['aileen', 'crane', 'synopsis', ..., 'yourself', 'cinema', 'cn']],\n",
       "      dtype='<U15')"
      ]
     },
     "execution_count": 12,
     "metadata": {},
     "output_type": "execute_result"
    }
   ],
   "source": [
    "topic_words"
   ]
  },
  {
   "cell_type": "code",
   "execution_count": 13,
   "metadata": {},
   "outputs": [],
   "source": [
    "df_words=pd.DataFrame(topic_words).transpose()\n",
    "df_words.columns=topic_nums\n",
    "df_words.columns = df_words.columns.astype(str)"
   ]
  },
  {
   "cell_type": "code",
   "execution_count": 16,
   "metadata": {},
   "outputs": [],
   "source": [
    "df_words.to_csv('/Volumes/T7/chroniclingamerica/american-stories/keywords/second-topic-words.csv')"
   ]
  },
  {
   "cell_type": "code",
   "execution_count": 17,
   "metadata": {},
   "outputs": [],
   "source": [
    "topic_words, word_scores, topic_scores, topic_nums = model.search_topics(keywords=[\"lynch\"], num_topics=10)"
   ]
  },
  {
   "cell_type": "code",
   "execution_count": 18,
   "metadata": {},
   "outputs": [
    {
     "data": {
      "text/plain": [
       "[array(['jail', 'mob', 'jailer', 'riddled', 'lynch', 'sheriff', 'prisoner',\n",
       "        'overpower', 'cell', 'hang', 'coroner', 'deputy', 'disperse',\n",
       "        'custody', 'negro', 'arrest', 'shoot', 'bullet', 'limb', 'posse',\n",
       "        'assaulted', 'flog', 'keeping', 'murder', 'inquest', 'pistol',\n",
       "        'slayer', 'negroes', 'kidnap', 'dep', 'nearby', 'assault',\n",
       "        'shooting', 'shotgun', 'guard', 'assailant', 'slain', 'killing',\n",
       "        'bullock', 'kidnapping', 'convict', 'jury', 'bastrop', 'release',\n",
       "        'victim', 'lynching', 'prison', 'body', 'death', 'seize'],\n",
       "       dtype='<U15'),\n",
       " array(['baird', 'jasper', 'wilkinson', 'lancaster', 'tuscaloosa', 'jail',\n",
       "        'jailer', 'riddled', 'kilby', 'solicitor', 'lynch', 'trial', 'ala',\n",
       "        'mob', 'springer', 'venue', 'bankhead', 'juror', 'jury',\n",
       "        'guardsman', 'birmingham', 'killing', 'horace', 'prisoner',\n",
       "        'pennington', 'musgrove', 'testify', 'witness', 'testi',\n",
       "        'lynching', 'coroner', 'sergt', 'flog', 'sheriff', 'testimony',\n",
       "        'courthouse', 'reconvene', 'circuit', 'bastrop', 'flogging',\n",
       "        'bama', 'county', 'cell', 'defendant', 'courtroom', 'foreman',\n",
       "        'keeping', 'burnett', 'odom', 'custody'], dtype='<U15'),\n",
       " array(['texarkana', 'jordan', 'ashdown', 'ark', 'shreveport', 'flog',\n",
       "        'sheriff', 'negro', 'bowie', 'assailant', 'tex', 'arrest',\n",
       "        'norman', 'mob', 'whipping', 'deputy', 'lynch', 'jail', 'dictment',\n",
       "        'custody', 'seize', 'bastrop', 'kidnap', 'tar', 'indict', 'porter',\n",
       "        'release', 'severely', 'jury', 'victim', 'bootlegging', 'robed',\n",
       "        'implicate', 'whereabouts', 'kidnapping', 'fiogge', 'pistol',\n",
       "        'herrin', 'dep', 'abduct', 'outskirt', 'mckoin', 'lynching',\n",
       "        'skipwith', 'jailer', 'flogging', 'apprehend', 'beaumont',\n",
       "        'morehouse', 'negroes'], dtype='<U15'),\n",
       " array(['tar', 'feather', 'lash', 'beaumont', 'flog', 'assailant',\n",
       "        'whipping', 'feath', 'strip', 'seize', 'severely', 'kidnap',\n",
       "        'victim', 'tex', 'dallas', 'captor', 'outskirt', 'fiogge',\n",
       "        'abduct', 'automobile', 'beating', 'flogging', 'whip', 'robed',\n",
       "        'mob', 'pinto', 'administer', 'abductor', 'dump', 'naping',\n",
       "        'sheriff', 'kidnapping', 'warn', 'tulsa', 'blindfold', 'clothing',\n",
       "        'police', 'kidnaper', 'naked', 'arrest', 'texarkana', 'strap',\n",
       "        'july', 'fog', 'nap', 'shreveport', 'lonely', 'abduction', 'jail',\n",
       "        'severe'], dtype='<U15'),\n",
       " array(['weekend', 'coverdale', 'spend', 'wilmington', 'derrickson',\n",
       "        'lewe', 'milford', 'mrs', 'parent', 'sunday', 'spending',\n",
       "        'mington', 'motored', 'elwood', 'halloween', 'jester', 'kenton',\n",
       "        'guest', 'refreshment', 'relative', 'philadelphia', 'emma',\n",
       "        'seaford', 'visit', 'dickerson', 'greenwood', 'dover', 'entertain',\n",
       "        'miss', 'webb', 'annie', 'entertained', 'warrington', 'georgetown',\n",
       "        'freshment', 'evening', 'epworth', 'donovan', 'rachel', 'edna',\n",
       "        'mr', 'jennie', 'laura', 'elizabeth', 'ennis', 'salisbury', 'ella',\n",
       "        'chester', 'lowe', 'mildred'], dtype='<U15'),\n",
       " array(['advancement', 'weldon', 'lynching', 'dyer', 'colored',\n",
       "        'injustice', 'color', 'condemnation', 'negroes', 'tuskegee',\n",
       "        'irrespective', 'negro', 'association', 'enactment', 'citation',\n",
       "        'sociation', 'associa', 'racial', 'legislation', 'urge',\n",
       "        'prejudice', 'democracy', 'citizenship', 'tague', 'creed',\n",
       "        'welfare', 'gress', 'oppression', 'discrimination', 'peo',\n",
       "        'editorial', 'kux', 'bigotry', 'ameri', 'garvey', 'infamous',\n",
       "        'people', 'organization', 'legislative', 'cooperation', 'denounce',\n",
       "        'citizens', 'congress', 'voter', 'coolidge', 'doctrine',\n",
       "        'departments', 'jews', 'representa', 'klun'], dtype='<U15'),\n",
       " array(['klansmen', 'riot', 'rioting', 'disturbance', 'klansman',\n",
       "        'disperse', 'disorder', 'parade', 'marcher', 'klans', 'perse',\n",
       "        'police', 'herrin', 'clash', 'trooper', 'galligan', 'nearby',\n",
       "        'policeman', 'injure', 'patrol', 'rade', 'kiansman', 'nile', 'mob',\n",
       "        'carnegie', 'regalia', 'guardsman', 'outbreak', 'lice', 'wound',\n",
       "        'bomb', 'crowd', 'robed', 'patrolman', 'sheriff', 'casualty',\n",
       "        'demonstration', 'perth', 'affray', 'constable', 'melee',\n",
       "        'unlawful', 'lilly', 'parader', 'troop', 'weapon', 'fire',\n",
       "        'arrest', 'militia', 'attacker'], dtype='<U15'),\n",
       " array(['butte', 'mines', 'bisbee', 'striker', 'miner', 'mont', 'outskirt',\n",
       "        'arizona', 'industrial', 'copper', 'ari', 'mining', 'deportation',\n",
       "        'zona', 'agitator', 'worker', 'mine', 'labor', 'workers', 'hang',\n",
       "        'globe', 'gomper', 'cripple', 'forceful', 'ariz', 'radical',\n",
       "        'deport', 'montana', 'shopman', 'members', 'interference',\n",
       "        'vigilante', 'mob', 'union', 'ernor', 'coal', 'executive', 'aug',\n",
       "        'lynch', 'rankin', 'prominent', 'lynching', 'phoenix',\n",
       "        'federation', 'output', 'soldiers', 'haywood', 'lowden',\n",
       "        'kilogram', 'utah'], dtype='<U15'),\n",
       " array(['flog', 'yarbrough', 'macon', 'fiogge', 'whipping', 'solicitor',\n",
       "        'flogging', 'ging', 'dentist', 'mills', 'acquittal', 'trial',\n",
       "        'administer', 'rioting', 'lash', 'jury', 'testi', 'kidnap', 'fog',\n",
       "        'assault', 'mob', 'barnett', 'severely', 'kidnapping', 'testimony',\n",
       "        'defendant', 'whip', 'assailant', 'abduct', 'prosecution', 'lehi',\n",
       "        'bibb', 'testify', 'mccall', 'odom', 'tes', 'strap', 'robed',\n",
       "        'indict', 'bastrop', 'hardwick', 'naping', 'ga', 'accuse',\n",
       "        'morehouse', 'indictment', 'outrage', 'arrest', 'connection',\n",
       "        'dictment'], dtype='<U15'),\n",
       " array(['margaret', 'mildred', 'gladys', 'helen', 'miss', 'catherine',\n",
       "        'ethel', 'mrs', 'louise', 'elizabeth', 'edna', 'martha', 'dorothy',\n",
       "        'anna', 'refreshment', 'evelyn', 'katherine', 'mary', 'frances',\n",
       "        'irene', 'ruth', 'clara', 'thelma', 'gertrude', 'messrs', 'hazel',\n",
       "        'edith', 'kathryn', 'kathleen', 'ella', 'beatrice', 'alice',\n",
       "        'eleanor', 'halloween', 'jennie', 'doris', 'pauline', 'laura',\n",
       "        'emma', 'marguerite', 'marjorie', 'bessie', 'lucille', 'katharine',\n",
       "        'mabel', 'annie', 'ellen', 'garet', 'florence', 'julia'],\n",
       "       dtype='<U15')]"
      ]
     },
     "execution_count": 18,
     "metadata": {},
     "output_type": "execute_result"
    }
   ],
   "source": [
    "topic_words"
   ]
  },
  {
   "cell_type": "code",
   "execution_count": 19,
   "metadata": {},
   "outputs": [],
   "source": [
    "topic_words, word_scores, topic_scores, topic_nums = model.search_topics(keywords=[\"wizard\"], num_topics=10)"
   ]
  },
  {
   "cell_type": "code",
   "execution_count": 21,
   "metadata": {},
   "outputs": [
    {
     "data": {
      "text/plain": [
       "[array(['influenza', 'flu', 'atomizer', 'snuff', 'throat', 'germ', 'grip',\n",
       "        'nose', 'mixture', 'gist', 'gargle', 'bog', 'dangerous',\n",
       "        'epidemic', 'spray', 'cold', 'treatment', 'develop', 'drug', 'soc',\n",
       "        'satisfied', 'druggist', 'defense', 'sore', 'constipate', 'bottle',\n",
       "        'sick', 'pleasant', 'chest', 'liver', 'ache', 'pill', 'pink',\n",
       "        'guarantee', 'wall', 'antiseptic', 'whip', 'oil', 'lust',\n",
       "        'defence', 'stop', 'satisfy', 'ehe', 'part', 'ever', 'satis', 'ud',\n",
       "        'water', 'ua', 'aa'], dtype='<U15'),\n",
       " array(['mop', 'csc', 'enamel', 'houseware', 'saucepan', 'quart',\n",
       "        'aluminium', 'enameled', 'galvanize', 'each', 'chemically',\n",
       "        'polish', 'shopworn', 'toilet', 'sweeper', 'dustless', 'cooker',\n",
       "        'soc', 'size', 'porcelain', 'qt', 'garbage', 'duster', 'sl',\n",
       "        'boiler', 'refrigerator', 'imperfect', 'ssc', 'tub', 'wax',\n",
       "        'regularly', 'dish', 'broom', 'tray', 'wv', 'kettle', 'carpet',\n",
       "        'dust', 'soap', 'assorted', 'scrub', 'slightly', 'burner',\n",
       "        'buster', 'oc', 'triangle', 'heater', 'kitchen', 'basket', 'sip'],\n",
       "       dtype='<U15'),\n",
       " array(['sore', 'canker', 'loosen', 'cold', 'soothe', 'toothache',\n",
       "        'earache', 'gargle', 'heal', 'constipation', 'chest', 'relief',\n",
       "        'tired', 'troubled', 'hamiin', 'quick', 'often', 'rub', 'neck',\n",
       "        'bottle', 'headache', 'sprain', 'aration', 'generous', 'medicine',\n",
       "        'prep', 'sick', 'bruise', 'druggist', 'shelf', 'liver', 'throat',\n",
       "        'ache', 'pleasant', 'pill', 'occur', 'deep', 'satisfied', 'pink',\n",
       "        'dependable', 'stings', 'reliable', 'simple', 'hamlin', 'burn',\n",
       "        'stiff', 'guarantee', 'ard', 'trouble', 'treatment'], dtype='<U15'),\n",
       " array(['simmons', 'evans', 'perial', 'simmon', 'kloncilium', 'imperial',\n",
       "        'kamelia', 'emperor', 'atlanta', 'clarke', 'propagation',\n",
       "        'founder', 'knights', 'lanta', 'peror', 'banish', 'hiram', 'ga',\n",
       "        'injunction', 'etheridge', 'receivership', 'deposition', 'tyler',\n",
       "        'terrell', 'wesley', 'colonel', 'kleagle', 'coburn', 'dragon',\n",
       "        'restrain', 'palace', 'enjoin', 'goblin', 'khan', 'charter',\n",
       "        'evan', 'knight', 'kian', 'elrod', 'klan', 'resignation', 'klans',\n",
       "        'oust', 'edict', 'organiza', 'organization', 'realm', 'petition',\n",
       "        'temporary', 'bossert'], dtype='<U15'),\n",
       " array(['soothe', 'heal', 'constipation', 'penetrate', 'troubled',\n",
       "        'reliable', 'generous', 'stings', 'ache', 'hamiin', 'sprain',\n",
       "        'sore', 'headache', 'soreness', 'sick', 'bruise', 'bite',\n",
       "        'absolutely', 'druggist', 'sooth', 'sting', 'canker', 'earache',\n",
       "        'stiff', 'medicine', 'liver', 'pleasant', 'toothache', 'limber',\n",
       "        'pill', 'hamlin', 'pink', 'antiseptic', 'bottle', 'readily',\n",
       "        'guarantee', 'satisfied', 'stiffness', 'nis', 'burn', 'muscle',\n",
       "        'chest', 'healing', 'reli', 'lust', 'croup', 'application',\n",
       "        'quality', 'constipate', 'etc'], dtype='<U15'),\n",
       " array(['sooth', 'penetrate', 'heal', 'readily', 'absolutely', 'reli',\n",
       "        'druggist', 'sick', 'satisfied', 'sting', 'bite', 'sprain',\n",
       "        'pleasant', 'ache', 'bruise', 'liver', 'headache', 'soreness',\n",
       "        'stings', 'lust', 'pink', 'pill', 'constipate', 'stiff',\n",
       "        'guarantee', 'soothe', 'bottle', 'constipation', 'sore',\n",
       "        'application', 'antiseptic', 'generous', 'reliable', 'earache',\n",
       "        'limber', 'quality', 'troubled', 'whip', 'canker', 'burn',\n",
       "        'toothache', 'hamiin', 'cent', 'rheumatism', 'joint', 'croup',\n",
       "        'muscle', 'lame', 'cut', 'hamlin'], dtype='<U15'),\n",
       " array(['cutl', 'soothe', 'canker', 'sore', 'poisoning', 'constipation',\n",
       "        'lockjaw', 'stings', 'earache', 'toothache', 'prep', 'medicine',\n",
       "        'aration', 'reliable', 'hamiin', 'sprain', 'healing', 'troubled',\n",
       "        'antiseptic', 'lessen', 'infection', 'headache', 'generous',\n",
       "        'dependable', 'bruise', 'heal', 'handy', 'neglect', 'poi', 'chest',\n",
       "        'bite', 'hamlin', 'often', 'aid', 'neck', 'sting', 'bottle',\n",
       "        'cold', 'liver', 'druggist', 'burn', 'sick', 'loosen', 'promptly',\n",
       "        'blood', 'pill', 'danger', 'stiff', 'gargle', 'oil'], dtype='<U15'),\n",
       " array(['constipation', 'troubled', 'sprain', 'headache', 'generous',\n",
       "        'stings', 'healing', 'canker', 'bite', 'applica', 'sting',\n",
       "        'bruise', 'sore', 'soothe', 'druggist', 'medicine', 'mediate',\n",
       "        'hamiin', 'earache', 'sick', 'antiseptic', 'liver', 'penetrate',\n",
       "        'toothache', 'soreness', 'stiff', 'reliable', 'pleasant', 'bottle',\n",
       "        'heal', 'pink', 'pill', 'ache', 'ailment', 'dependable', 'hamlin',\n",
       "        'septic', 'burn', 'chest', 'satisfied', 'croup', 'neck',\n",
       "        'constipate', 'infection', 'ease', 'guarantee', 'pain', 'lust',\n",
       "        'quality', 'shoul'], dtype='<U15'),\n",
       " array(['raggedy', 'mama', 'willywiggle', 'andy', 'magical', 'daddy',\n",
       "        'ann', 'hobby', 'spect', 'magic', 'puff', 'nice', 'sanky', 'charm',\n",
       "        'soda', 'fat', 'mister', 'goodness', 'treasure', 'rag', 'pirate',\n",
       "        'maybe', 'boat', 'sail', 'fool', 'lit', 'sailor', 'howl', 'penny',\n",
       "        'wooden', 'everyone', 'magician', 'fountain', 'cry', 'walters',\n",
       "        'walter', 'wand', 'cream', 'lovely', 'cone', 'creature', 'wish',\n",
       "        'dough', 'anyway', 'willy', 'cunne', 'captain', 'straighten',\n",
       "        'fun', 'you'], dtype='<U15'),\n",
       " array(['soreness', 'etrate', 'ache', 'stings', 'bago', 'druggist', 'bite',\n",
       "        'mishap', 'lame', 'ailment', 'limber', 'sting', 'stiff',\n",
       "        'headache', 'sprain', 'satisfied', 'liver', 'lust', 'rheuma',\n",
       "        'constipate', 'pink', 'penetrate', 'septic', 'bruise', 'joint',\n",
       "        'sick', 'pill', 'application', 'immediate', 'croup', 'useful',\n",
       "        'pleasant', 'sciatica', 'heal', 'healing', 'hamiin', 'ot',\n",
       "        'bottle', 'constipation', 'earache', 'muscle', 'tism', 'lum',\n",
       "        'guarantee', 'sooth', 'hamlin', 'quickly', 'toothache', 'troubled',\n",
       "        'harmless'], dtype='<U15')]"
      ]
     },
     "execution_count": 21,
     "metadata": {},
     "output_type": "execute_result"
    }
   ],
   "source": [
    "topic_words"
   ]
  },
  {
   "cell_type": "code",
   "execution_count": 22,
   "metadata": {},
   "outputs": [
    {
     "data": {
      "text/plain": [
       "[array(['klansmen', 'riot', 'rioting', 'disturbance', 'klansman',\n",
       "        'disperse', 'disorder', 'parade', 'marcher', 'klans', 'perse',\n",
       "        'police', 'herrin', 'clash', 'trooper', 'galligan', 'nearby',\n",
       "        'policeman', 'injure', 'patrol', 'rade', 'kiansman', 'nile', 'mob',\n",
       "        'carnegie', 'regalia', 'guardsman', 'outbreak', 'lice', 'wound',\n",
       "        'bomb', 'crowd', 'robed', 'patrolman', 'sheriff', 'casualty',\n",
       "        'demonstration', 'perth', 'affray', 'constable', 'melee',\n",
       "        'unlawful', 'lilly', 'parader', 'troop', 'weapon', 'fire',\n",
       "        'arrest', 'militia', 'attacker'], dtype='<U15'),\n",
       " array(['lilly', 'affray', 'riot', 'unlawful', 'johnstown', 'klansmen',\n",
       "        'alleged', 'resident', 'defendant', 'trial', 'rioting',\n",
       "        'assemblage', 'klansman', 'fatal', 'acquit', 'indictment',\n",
       "        'guilty', 'acquittal', 'dictment', 'verdict', 'murder', 'indict',\n",
       "        'kiansman', 'perse', 'sentence', 'counsel', 'prosecution',\n",
       "        'thirteen', 'klans', 'disorder', 'jury', 'weapon', 'rade',\n",
       "        'allege', 'bail', 'fense', 'corpus', 'fendant', 'prosecu',\n",
       "        'motion', 'mur', 'jail', 'courtroom', 'habeas', 'convict',\n",
       "        'assault', 'waive', 'robed', 'testify', 'oberholtzer'],\n",
       "       dtype='<U15'),\n",
       " array(['strike', 'avert', 'railway', 'overwhelmingly', 'wage', 'striker',\n",
       "        'subway', 'elevate', 'braddock', 'annually', 'railroad', 'rail',\n",
       "        'shopman', 'carnegie', 'union', 'brotherhood', 'youngstown',\n",
       "        'riot', 'employee', 'everett', 'corpora', 'sept', 'labor', 'coal',\n",
       "        'steel', 'garment', 'pittsburgh', 'nov', 'aug', 'textile',\n",
       "        'worker', 'arbitration', 'bronx', 'industrial', 'mill', 'workers',\n",
       "        'borough', 'rioting', 'miner', 'increase', 'men', 'surface',\n",
       "        'richmond', 'federation', 'unemployment', 'anthracite', 'chicago',\n",
       "        'confer', 'strik', 'manhattan'], dtype='<U15'),\n",
       " array(['striker', 'shopman', 'railroad', 'railway', 'strike', 'picket',\n",
       "        'employee', 'riot', 'rail', 'disorder', 'injunction',\n",
       "        'sympathizer', 'strik', 'deputize', 'denison', 'ployes', 'wage',\n",
       "        'employe', 'textile', 'worker', 'miner', 'yards', 'union',\n",
       "        'freight', 'youngstown', 'locomotive', 'patrol', 'interfere',\n",
       "        'workers', 'train', 'july', 'employ', 'frisco', 'ploye', 'foreman',\n",
       "        'shop', 'guardsman', 'sheriff', 'mob', 'injure', 'disturbance',\n",
       "        'coal', 'armed', 'rioting', 'overwhelmingly', 'isolated', 'troop',\n",
       "        'labor', 'outskirt', 'klansmen'], dtype='<U15'),\n",
       " array(['herrin', 'galligan', 'williamson', 'glenn', 'ora', 'layman',\n",
       "        'sheriff', 'raider', 'deputy', 'guardsman', 'constable', 'shelton',\n",
       "        'liquor', 'slain', 'marion', 'deputize', 'massacre', 'coroner',\n",
       "        'raid', 'bloody', 'shooting', 'inquest', 'hanson', 'caesar',\n",
       "        'killing', 'factional', 'county', 'gunman', 'klansman', 'feud',\n",
       "        'riot', 'mosher', 'affray', 'carlos', 'militia', 'sympathizer',\n",
       "        'shoot', 'supervisor', 'forbes', 'herein', 'cleanup', 'outbreak',\n",
       "        'rioting', 'bootlegger', 'bootlegging', 'roadhouse', 'kill',\n",
       "        'miner', 'bloodshed', 'disturbance'], dtype='<U15'),\n",
       " array(['jail', 'mob', 'jailer', 'riddled', 'lynch', 'sheriff', 'prisoner',\n",
       "        'overpower', 'cell', 'hang', 'coroner', 'deputy', 'disperse',\n",
       "        'custody', 'negro', 'arrest', 'shoot', 'bullet', 'limb', 'posse',\n",
       "        'assaulted', 'flog', 'keeping', 'murder', 'inquest', 'pistol',\n",
       "        'slayer', 'negroes', 'kidnap', 'dep', 'nearby', 'assault',\n",
       "        'shooting', 'shotgun', 'guard', 'assailant', 'slain', 'killing',\n",
       "        'bullock', 'kidnapping', 'convict', 'jury', 'bastrop', 'release',\n",
       "        'victim', 'lynching', 'prison', 'body', 'death', 'seize'],\n",
       "       dtype='<U15'),\n",
       " array(['dublin', 'feiner', 'ireland', 'fein', 'belfast', 'cork',\n",
       "        'limerick', 'sim', 'reprisal', 'ulster', 'irish', 'ambush',\n",
       "        'constabulary', 'valera', 'lorry', 'parliament', 'barrack',\n",
       "        'civilian', 'londonderry', 'unionist', 'constable', 'armed',\n",
       "        'shoot', 'viscount', 'riddled', 'bomb', 'truce', 'wound',\n",
       "        'casualty', 'military', 'kill', 'liverpool', 'raider', 'raid',\n",
       "        'incendiary', 'shooting', 'hunger', 'ire', 'attacker', 'killing',\n",
       "        'rioting', 'commons', 'sergeant', 'magistrate', 'nationalist',\n",
       "        'policeman', 'wounded', 'occupant', 'dali', 'disturbance'],\n",
       "       dtype='<U15'),\n",
       " array(['lorena', 'waco', 'buchanan', 'crow', 'parade', 'sheriff', 'stab',\n",
       "        'klansmen', 'marcher', 'parader', 'melee', 'affray', 'klansman',\n",
       "        'tex', 'clash', 'wound', 'rade', 'neff', 'marching', 'knife',\n",
       "        'austin', 'robed', 'posse', 'disturbance', 'halt', 'participant',\n",
       "        'fatally', 'deputy', 'jury', 'demonstration', 'regalia',\n",
       "        'disperse', 'shooting', 'klans', 'riot', 'injury', 'precipitate',\n",
       "        'rioting', 'fiery', 'lung', 'alleged', 'injure', 'bob',\n",
       "        'vestigation', 'dangerously', 'burton', 'unlawful', 'investigate',\n",
       "        'stration', 'wr'], dtype='<U15'),\n",
       " array(['labor', 'wage', 'worker', 'railroad', 'union', 'federation',\n",
       "        'industrial', 'railway', 'soviet', 'workers', 'ruhr', 'premier',\n",
       "        'trade', 'increase', 'arbitration', 'strike', 'president',\n",
       "        'striker', 'shopman', 'commission', 'ooo', 'miner', 'gomper',\n",
       "        'unemployment', 'agreement', 'treaty', 'coal', 'employee',\n",
       "        'harding', 'proposal', 'policy', 'commons', 'russia', 'shipping',\n",
       "        'radical', 'congress', 'employment', 'textile', 'communist',\n",
       "        'capitalist', 'anthracite', 'international', 'reduction', 'states',\n",
       "        'commerce', 'famine', 'germany', 'industry', 'indus', 'rail'],\n",
       "       dtype='<U15'),\n",
       " array(['ardmore', 'carroll', 'sims', 'bootlegger', 'raiser', 'jeff',\n",
       "        'okla', 'slain', 'affray', 'sheriff', 'illicit', 'defendant',\n",
       "        'pasture', 'curley', 'alleged', 'butcher', 'shooting', 'murder',\n",
       "        'trial', 'hilton', 'herrin', 'patrolman', 'julius', 'arrest',\n",
       "        'roadhouse', 'fatally', 'harlow', 'flog', 'garrett', 'held',\n",
       "        'killing', 'allege', 'leon', 'pistol', 'prosecution', 'kidnapping',\n",
       "        'tist', 'bootleg', 'shelton', 'prosecu', 'galligan', 'shoot',\n",
       "        'fiogge', 'odom', 'preliminary', 'robed', 'carter', 'accuse',\n",
       "        'tulsa', 'jail'], dtype='<U15')]"
      ]
     },
     "execution_count": 22,
     "metadata": {},
     "output_type": "execute_result"
    }
   ],
   "source": [
    "topic_words, word_scores, topic_scores, topic_nums = model.search_topics(keywords=[\"riot\"], num_topics=10)\n",
    "topic_words"
   ]
  },
  {
   "cell_type": "code",
   "execution_count": 34,
   "metadata": {},
   "outputs": [
    {
     "data": {
      "text/plain": [
       "(12700, 11)"
      ]
     },
     "execution_count": 34,
     "metadata": {},
     "output_type": "execute_result"
    }
   ],
   "source": [
    "word_of_interest='wizard'\n",
    "second[second['article'].str.contains(word_of_interest)].shape"
   ]
  },
  {
   "cell_type": "code",
   "execution_count": 37,
   "metadata": {},
   "outputs": [],
   "source": [
    "second[second['article'].str.contains(word_of_interest)].to_csv('/Volumes/T7/chroniclingamerica/american-stories/keywords/second-wizard.csv')"
   ]
  },
  {
   "cell_type": "code",
   "execution_count": 38,
   "metadata": {},
   "outputs": [],
   "source": [
    "documents, document_scores, document_ids = model.search_documents_by_keywords(keywords=[\"wizard\"], num_docs=second.shape[0])\n",
    "wizard_df=pd.DataFrame({'doc':documents, 'id':document_ids, 'score':document_scores})"
   ]
  },
  {
   "cell_type": "code",
   "execution_count": 44,
   "metadata": {},
   "outputs": [
    {
     "data": {
      "text/html": [
       "<div>\n",
       "<style scoped>\n",
       "    .dataframe tbody tr th:only-of-type {\n",
       "        vertical-align: middle;\n",
       "    }\n",
       "\n",
       "    .dataframe tbody tr th {\n",
       "        vertical-align: top;\n",
       "    }\n",
       "\n",
       "    .dataframe thead th {\n",
       "        text-align: right;\n",
       "    }\n",
       "</style>\n",
       "<table border=\"1\" class=\"dataframe\">\n",
       "  <thead>\n",
       "    <tr style=\"text-align: right;\">\n",
       "      <th></th>\n",
       "      <th>doc</th>\n",
       "      <th>id</th>\n",
       "      <th>score</th>\n",
       "    </tr>\n",
       "  </thead>\n",
       "  <tbody>\n",
       "    <tr>\n",
       "      <th>0</th>\n",
       "      <td>wizard adftor .</td>\n",
       "      <td>16730</td>\n",
       "      <td>0.447062</td>\n",
       "    </tr>\n",
       "    <tr>\n",
       "      <th>1</th>\n",
       "      <td>s2.40 . &amp; c cans wiz ard paste wax polish ing ...</td>\n",
       "      <td>34279</td>\n",
       "      <td>0.335218</td>\n",
       "    </tr>\n",
       "    <tr>\n",
       "      <th>2</th>\n",
       "      <td>atlanta , jan . 14 - wm . joseph simmons found...</td>\n",
       "      <td>30105</td>\n",
       "      <td>0.307969</td>\n",
       "    </tr>\n",
       "    <tr>\n",
       "      <th>3</th>\n",
       "      <td>convenient triangle shape . may . chemically t...</td>\n",
       "      <td>12002</td>\n",
       "      <td>0.297324</td>\n",
       "    </tr>\n",
       "    <tr>\n",
       "      <th>4</th>\n",
       "      <td>5iic bottle wizard oil , woodwork . every one ...</td>\n",
       "      <td>8505</td>\n",
       "      <td>0.285545</td>\n",
       "    </tr>\n",
       "    <tr>\n",
       "      <th>...</th>\n",
       "      <td>...</td>\n",
       "      <td>...</td>\n",
       "      <td>...</td>\n",
       "    </tr>\n",
       "    <tr>\n",
       "      <th>46608</th>\n",
       "      <td>chicago , march il 0n.sj . police squad search...</td>\n",
       "      <td>43242</td>\n",
       "      <td>-0.219123</td>\n",
       "    </tr>\n",
       "    <tr>\n",
       "      <th>46609</th>\n",
       "      <td>/ port angel , wash , march 81 armed posse &amp; c...</td>\n",
       "      <td>21793</td>\n",
       "      <td>-0.220910</td>\n",
       "    </tr>\n",
       "    <tr>\n",
       "      <th>46610</th>\n",
       "      <td>girl chauffeur truck line tell go shot . one g...</td>\n",
       "      <td>37912</td>\n",
       "      <td>-0.222742</td>\n",
       "    </tr>\n",
       "    <tr>\n",
       "      <th>46611</th>\n",
       "      <td>two young woman , mabel husa ailene holmes , r...</td>\n",
       "      <td>38337</td>\n",
       "      <td>-0.223544</td>\n",
       "    </tr>\n",
       "    <tr>\n",
       "      <th>46612</th>\n",
       "      <td>mr .. h. l. johnson , re- side cente r street ...</td>\n",
       "      <td>45924</td>\n",
       "      <td>-0.236677</td>\n",
       "    </tr>\n",
       "  </tbody>\n",
       "</table>\n",
       "<p>46613 rows × 3 columns</p>\n",
       "</div>"
      ],
      "text/plain": [
       "                                                     doc     id     score\n",
       "0                                        wizard adftor .  16730  0.447062\n",
       "1      s2.40 . & c cans wiz ard paste wax polish ing ...  34279  0.335218\n",
       "2      atlanta , jan . 14 - wm . joseph simmons found...  30105  0.307969\n",
       "3      convenient triangle shape . may . chemically t...  12002  0.297324\n",
       "4      5iic bottle wizard oil , woodwork . every one ...   8505  0.285545\n",
       "...                                                  ...    ...       ...\n",
       "46608  chicago , march il 0n.sj . police squad search...  43242 -0.219123\n",
       "46609  / port angel , wash , march 81 armed posse & c...  21793 -0.220910\n",
       "46610  girl chauffeur truck line tell go shot . one g...  37912 -0.222742\n",
       "46611  two young woman , mabel husa ailene holmes , r...  38337 -0.223544\n",
       "46612  mr .. h. l. johnson , re- side cente r street ...  45924 -0.236677\n",
       "\n",
       "[46613 rows x 3 columns]"
      ]
     },
     "execution_count": 44,
     "metadata": {},
     "output_type": "execute_result"
    }
   ],
   "source": [
    "wizard_df"
   ]
  },
  {
   "cell_type": "code",
   "execution_count": 40,
   "metadata": {},
   "outputs": [],
   "source": [
    "documents, document_scores, document_ids = model.search_documents_by_keywords(keywords=[\"lynch\"], num_docs=second.shape[0])\n",
    "lynch_df=pd.DataFrame({'doc':documents, 'id':document_ids, 'score':document_scores})"
   ]
  },
  {
   "cell_type": "code",
   "execution_count": 43,
   "metadata": {},
   "outputs": [
    {
     "data": {
      "text/html": [
       "<div>\n",
       "<style scoped>\n",
       "    .dataframe tbody tr th:only-of-type {\n",
       "        vertical-align: middle;\n",
       "    }\n",
       "\n",
       "    .dataframe tbody tr th {\n",
       "        vertical-align: top;\n",
       "    }\n",
       "\n",
       "    .dataframe thead th {\n",
       "        text-align: right;\n",
       "    }\n",
       "</style>\n",
       "<table border=\"1\" class=\"dataframe\">\n",
       "  <thead>\n",
       "    <tr style=\"text-align: right;\">\n",
       "      <th></th>\n",
       "      <th>doc</th>\n",
       "      <th>id</th>\n",
       "      <th>score</th>\n",
       "    </tr>\n",
       "  </thead>\n",
       "  <tbody>\n",
       "    <tr>\n",
       "      <th>0</th>\n",
       "      <td>durham . n. c. , july ed roach . young negro ,...</td>\n",
       "      <td>11672</td>\n",
       "      <td>0.463085</td>\n",
       "    </tr>\n",
       "    <tr>\n",
       "      <th>1</th>\n",
       "      <td>lumpkin , dec . 22.-j ohnnie webb , negro shot...</td>\n",
       "      <td>7358</td>\n",
       "      <td>0.449288</td>\n",
       "    </tr>\n",
       "    <tr>\n",
       "      <th>2</th>\n",
       "      <td>durham . n. c .. july 2 . - take county jail r...</td>\n",
       "      <td>10237</td>\n",
       "      <td>0.448869</td>\n",
       "    </tr>\n",
       "    <tr>\n",
       "      <th>3</th>\n",
       "      <td>durham , n. c. , july 8 - take county jail rox...</td>\n",
       "      <td>10939</td>\n",
       "      <td>0.443844</td>\n",
       "    </tr>\n",
       "    <tr>\n",
       "      <th>4</th>\n",
       "      <td>durham , n. c. , july 7.-taken county jail , r...</td>\n",
       "      <td>11772</td>\n",
       "      <td>0.433400</td>\n",
       "    </tr>\n",
       "    <tr>\n",
       "      <th>...</th>\n",
       "      <td>...</td>\n",
       "      <td>...</td>\n",
       "      <td>...</td>\n",
       "    </tr>\n",
       "    <tr>\n",
       "      <th>46608</th>\n",
       "      <td>bluntly , appear behind sharp bend road . we '...</td>\n",
       "      <td>5274</td>\n",
       "      <td>-0.199678</td>\n",
       "    </tr>\n",
       "    <tr>\n",
       "      <th>46609</th>\n",
       "      <td>| mas host adn,,,.- . ~ , ~ tar tne large crow...</td>\n",
       "      <td>44578</td>\n",
       "      <td>-0.204039</td>\n",
       "    </tr>\n",
       "    <tr>\n",
       "      <th>46610</th>\n",
       "      <td>large fund receive month around s15,000 , sinc...</td>\n",
       "      <td>28437</td>\n",
       "      <td>-0.207544</td>\n",
       "    </tr>\n",
       "    <tr>\n",
       "      <th>46611</th>\n",
       "      <td>colorado 's governor , originally announce sup...</td>\n",
       "      <td>32677</td>\n",
       "      <td>-0.207952</td>\n",
       "    </tr>\n",
       "    <tr>\n",
       "      <th>46612</th>\n",
       "      <td>competitor across way sell great many wonder c...</td>\n",
       "      <td>25061</td>\n",
       "      <td>-0.212735</td>\n",
       "    </tr>\n",
       "  </tbody>\n",
       "</table>\n",
       "<p>46613 rows × 3 columns</p>\n",
       "</div>"
      ],
      "text/plain": [
       "                                                     doc     id     score\n",
       "0      durham . n. c. , july ed roach . young negro ,...  11672  0.463085\n",
       "1      lumpkin , dec . 22.-j ohnnie webb , negro shot...   7358  0.449288\n",
       "2      durham . n. c .. july 2 . - take county jail r...  10237  0.448869\n",
       "3      durham , n. c. , july 8 - take county jail rox...  10939  0.443844\n",
       "4      durham , n. c. , july 7.-taken county jail , r...  11772  0.433400\n",
       "...                                                  ...    ...       ...\n",
       "46608  bluntly , appear behind sharp bend road . we '...   5274 -0.199678\n",
       "46609  | mas host adn,,,.- . ~ , ~ tar tne large crow...  44578 -0.204039\n",
       "46610  large fund receive month around s15,000 , sinc...  28437 -0.207544\n",
       "46611  colorado 's governor , originally announce sup...  32677 -0.207952\n",
       "46612  competitor across way sell great many wonder c...  25061 -0.212735\n",
       "\n",
       "[46613 rows x 3 columns]"
      ]
     },
     "execution_count": 43,
     "metadata": {},
     "output_type": "execute_result"
    }
   ],
   "source": [
    "lynch_df.sort_values(by='score', ascending=False)"
   ]
  },
  {
   "cell_type": "code",
   "execution_count": null,
   "metadata": {},
   "outputs": [],
   "source": []
  }
 ],
 "metadata": {
  "kernelspec": {
   "display_name": "py3.11",
   "language": "python",
   "name": "python3"
  },
  "language_info": {
   "codemirror_mode": {
    "name": "ipython",
    "version": 3
   },
   "file_extension": ".py",
   "mimetype": "text/x-python",
   "name": "python",
   "nbconvert_exporter": "python",
   "pygments_lexer": "ipython3",
   "version": "3.10.9"
  }
 },
 "nbformat": 4,
 "nbformat_minor": 2
}
