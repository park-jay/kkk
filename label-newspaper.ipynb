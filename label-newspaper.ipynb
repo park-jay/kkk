{
 "cells": [
  {
   "cell_type": "code",
   "execution_count": 1,
   "metadata": {},
   "outputs": [],
   "source": [
    "import pandas as pd"
   ]
  },
  {
   "cell_type": "code",
   "execution_count": 2,
   "metadata": {},
   "outputs": [],
   "source": [
    "first=pd.read_csv('/Volumes/T7/chroniclingamerica/american-stories/keywords/kkk-first-new2.csv')\n",
    "second=pd.read_csv('/Volumes/T7/chroniclingamerica/american-stories/keywords/kkk-second-new2.csv')\n",
    "between=pd.read_csv('/Volumes/T7/chroniclingamerica/american-stories/keywords/kkk-between-new2.csv')\n",
    "klan_paper=pd.read_excel('VRT - White Surpremacist Newspapers to Investigate.xlsx')\n",
    "african_paper=pd.read_csv('african-american.csv')\n",
    "klan_paper=klan_paper.rename(columns={'ID':'sn'})"
   ]
  },
  {
   "cell_type": "code",
   "execution_count": 3,
   "metadata": {},
   "outputs": [
    {
     "name": "stdout",
     "output_type": "stream",
     "text": [
      "(2099, 5) (46613, 5) (44492, 5)\n"
     ]
    }
   ],
   "source": [
    "print(first.shape, second.shape, between.shape)"
   ]
  },
  {
   "cell_type": "code",
   "execution_count": 4,
   "metadata": {},
   "outputs": [],
   "source": [
    "regex_pattern_klan = r'^(?:[^_]*_){3}([^_]+)'\n",
    "regex_pattern_african = r'/lccn/([^/]+)'\n",
    "first['sn']=first['index'].str.extract(regex_pattern_klan)\n",
    "second['sn']=second['index'].str.extract(regex_pattern_klan)\n",
    "between['sn']=second['index'].str.extract(regex_pattern_klan)\n",
    "african_paper['sn']=african_paper['series'].str.extract(regex_pattern_african)"
   ]
  },
  {
   "cell_type": "code",
   "execution_count": 5,
   "metadata": {},
   "outputs": [
    {
     "name": "stdout",
     "output_type": "stream",
     "text": [
      "(15, 12)\n"
     ]
    }
   ],
   "source": [
    "merge_klan_first=pd.merge(\n",
    "    first,\n",
    "    klan_paper,\n",
    "    how=\"inner\",\n",
    "    on='sn')\n",
    "print(merge_klan_first.shape)"
   ]
  },
  {
   "cell_type": "code",
   "execution_count": 6,
   "metadata": {},
   "outputs": [
    {
     "data": {
      "text/plain": [
       "Index(['sn84026536'], dtype='object', name='sn')"
      ]
     },
     "execution_count": 6,
     "metadata": {},
     "output_type": "execute_result"
    }
   ],
   "source": [
    "merge_klan_first.groupby(by='sn').count().index"
   ]
  },
  {
   "cell_type": "code",
   "execution_count": 7,
   "metadata": {},
   "outputs": [
    {
     "name": "stdout",
     "output_type": "stream",
     "text": [
      "(4, 7)\n"
     ]
    }
   ],
   "source": [
    "merge_african_first=pd.merge(\n",
    "    first,\n",
    "    african_paper,\n",
    "    how='inner',\n",
    "    on='sn'\n",
    ")\n",
    "print(merge_african_first.shape)"
   ]
  },
  {
   "cell_type": "code",
   "execution_count": 8,
   "metadata": {},
   "outputs": [
    {
     "data": {
      "text/plain": [
       "Index(['sn83025745', 'sn83025751'], dtype='object', name='sn')"
      ]
     },
     "execution_count": 8,
     "metadata": {},
     "output_type": "execute_result"
    }
   ],
   "source": [
    "merge_african_first.groupby(by='sn').count().index"
   ]
  },
  {
   "cell_type": "code",
   "execution_count": 9,
   "metadata": {},
   "outputs": [
    {
     "name": "stdout",
     "output_type": "stream",
     "text": [
      "(110, 12)\n"
     ]
    }
   ],
   "source": [
    "merge_klan_between=pd.merge(\n",
    "    between,\n",
    "    klan_paper,\n",
    "    how=\"inner\",\n",
    "    on='sn')\n",
    "print(merge_klan_between.shape)"
   ]
  },
  {
   "cell_type": "code",
   "execution_count": 10,
   "metadata": {},
   "outputs": [
    {
     "data": {
      "text/plain": [
       "Index(['sn89052197', 'sn89059303', 'sn90059391', 'sn90059426'], dtype='object', name='sn')"
      ]
     },
     "execution_count": 10,
     "metadata": {},
     "output_type": "execute_result"
    }
   ],
   "source": [
    "merge_klan_between.groupby(by='sn').count().index"
   ]
  },
  {
   "cell_type": "code",
   "execution_count": 11,
   "metadata": {},
   "outputs": [
    {
     "name": "stdout",
     "output_type": "stream",
     "text": [
      "(865, 7)\n"
     ]
    }
   ],
   "source": [
    "merge_african_between=pd.merge(\n",
    "    between,\n",
    "    african_paper,\n",
    "    how=\"inner\",\n",
    "    on='sn')\n",
    "print(merge_african_between.shape)"
   ]
  },
  {
   "cell_type": "code",
   "execution_count": 12,
   "metadata": {},
   "outputs": [
    {
     "data": {
      "text/plain": [
       "Index(['sn83016810', 'sn83025514', 'sn83025803', 'sn84024055', 'sn84025815',\n",
       "       'sn84025837', 'sn84025887', 'sn85049804', 'sn86056950', 'sn87065408',\n",
       "       'sn90060427', 'sn90060931', 'sn90060932', 'sn91055359', 'sn92050012',\n",
       "       'sn92072999', 'sn95060626', 'sn96060881', 'sn96076588'],\n",
       "      dtype='object', name='sn')"
      ]
     },
     "execution_count": 12,
     "metadata": {},
     "output_type": "execute_result"
    }
   ],
   "source": [
    "merge_african_between.groupby(by='sn').count().index"
   ]
  },
  {
   "cell_type": "code",
   "execution_count": 13,
   "metadata": {},
   "outputs": [
    {
     "name": "stdout",
     "output_type": "stream",
     "text": [
      "(110, 12)\n"
     ]
    }
   ],
   "source": [
    "merge_klan_second=pd.merge(\n",
    "    second,\n",
    "    klan_paper,\n",
    "    how=\"inner\",\n",
    "    on='sn')\n",
    "print(merge_klan_second.shape)"
   ]
  },
  {
   "cell_type": "code",
   "execution_count": 14,
   "metadata": {},
   "outputs": [
    {
     "data": {
      "text/plain": [
       "Index(['sn89052197', 'sn89059303', 'sn90059391', 'sn90059426'], dtype='object', name='sn')"
      ]
     },
     "execution_count": 14,
     "metadata": {},
     "output_type": "execute_result"
    }
   ],
   "source": [
    "merge_klan_second.groupby(by='sn').count().index"
   ]
  },
  {
   "cell_type": "code",
   "execution_count": 15,
   "metadata": {},
   "outputs": [
    {
     "name": "stdout",
     "output_type": "stream",
     "text": [
      "(900, 7)\n"
     ]
    }
   ],
   "source": [
    "merge_african_second=pd.merge(\n",
    "    second,\n",
    "    african_paper,\n",
    "    how=\"inner\",\n",
    "    on='sn')\n",
    "print(merge_african_second.shape)"
   ]
  },
  {
   "cell_type": "code",
   "execution_count": 16,
   "metadata": {},
   "outputs": [
    {
     "data": {
      "text/plain": [
       "Index(['sn83016810', 'sn83025514', 'sn83025803', 'sn84024055', 'sn84025815',\n",
       "       'sn84025837', 'sn84025887', 'sn85049804', 'sn86056950', 'sn87065408',\n",
       "       'sn90060427', 'sn90060931', 'sn90060932', 'sn91055359', 'sn92050012',\n",
       "       'sn92072999', 'sn93062828', 'sn95060626', 'sn96060866', 'sn96060881',\n",
       "       'sn96076588'],\n",
       "      dtype='object', name='sn')"
      ]
     },
     "execution_count": 16,
     "metadata": {},
     "output_type": "execute_result"
    }
   ],
   "source": [
    "merge_african_second.groupby(by='sn').count().index"
   ]
  },
  {
   "cell_type": "code",
   "execution_count": 17,
   "metadata": {},
   "outputs": [
    {
     "name": "stderr",
     "output_type": "stream",
     "text": [
      "/var/folders/3_/r8z51q092v566bd_r0g_zj640000gn/T/ipykernel_2483/840069632.py:2: SettingWithCopyWarning: \n",
      "A value is trying to be set on a copy of a slice from a DataFrame.\n",
      "Try using .loc[row_indexer,col_indexer] = value instead\n",
      "\n",
      "See the caveats in the documentation: https://pandas.pydata.org/pandas-docs/stable/user_guide/indexing.html#returning-a-view-versus-a-copy\n",
      "  first_neither['label']='neither'\n",
      "/var/folders/3_/r8z51q092v566bd_r0g_zj640000gn/T/ipykernel_2483/840069632.py:4: SettingWithCopyWarning: \n",
      "A value is trying to be set on a copy of a slice from a DataFrame.\n",
      "Try using .loc[row_indexer,col_indexer] = value instead\n",
      "\n",
      "See the caveats in the documentation: https://pandas.pydata.org/pandas-docs/stable/user_guide/indexing.html#returning-a-view-versus-a-copy\n",
      "  first_klan['label']='ws'\n",
      "/var/folders/3_/r8z51q092v566bd_r0g_zj640000gn/T/ipykernel_2483/840069632.py:6: SettingWithCopyWarning: \n",
      "A value is trying to be set on a copy of a slice from a DataFrame.\n",
      "Try using .loc[row_indexer,col_indexer] = value instead\n",
      "\n",
      "See the caveats in the documentation: https://pandas.pydata.org/pandas-docs/stable/user_guide/indexing.html#returning-a-view-versus-a-copy\n",
      "  first_african['label']='aa'\n"
     ]
    }
   ],
   "source": [
    "first_neither=first[(~first['index'].isin(merge_klan_first['index']))&(~first['index'].isin(merge_african_first['index']))]\n",
    "first_neither['label']='neither'\n",
    "first_klan=first[first['index'].isin(merge_klan_first['index'])]\n",
    "first_klan['label']='ws'\n",
    "first_african=first[first['index'].isin(merge_african_first['index'])]\n",
    "first_african['label']='aa'"
   ]
  },
  {
   "cell_type": "code",
   "execution_count": 21,
   "metadata": {},
   "outputs": [
    {
     "name": "stderr",
     "output_type": "stream",
     "text": [
      "/var/folders/3_/r8z51q092v566bd_r0g_zj640000gn/T/ipykernel_2483/470156896.py:2: SettingWithCopyWarning: \n",
      "A value is trying to be set on a copy of a slice from a DataFrame.\n",
      "Try using .loc[row_indexer,col_indexer] = value instead\n",
      "\n",
      "See the caveats in the documentation: https://pandas.pydata.org/pandas-docs/stable/user_guide/indexing.html#returning-a-view-versus-a-copy\n",
      "  between_neither['label']='neither'\n",
      "/var/folders/3_/r8z51q092v566bd_r0g_zj640000gn/T/ipykernel_2483/470156896.py:4: SettingWithCopyWarning: \n",
      "A value is trying to be set on a copy of a slice from a DataFrame.\n",
      "Try using .loc[row_indexer,col_indexer] = value instead\n",
      "\n",
      "See the caveats in the documentation: https://pandas.pydata.org/pandas-docs/stable/user_guide/indexing.html#returning-a-view-versus-a-copy\n",
      "  between_klan['label']='ws'\n",
      "/var/folders/3_/r8z51q092v566bd_r0g_zj640000gn/T/ipykernel_2483/470156896.py:6: SettingWithCopyWarning: \n",
      "A value is trying to be set on a copy of a slice from a DataFrame.\n",
      "Try using .loc[row_indexer,col_indexer] = value instead\n",
      "\n",
      "See the caveats in the documentation: https://pandas.pydata.org/pandas-docs/stable/user_guide/indexing.html#returning-a-view-versus-a-copy\n",
      "  between_african['label']='aa'\n"
     ]
    }
   ],
   "source": [
    "between_neither=between[(~between['index'].isin(merge_klan_between['index']))&(~between['index'].isin(merge_african_between['index']))]\n",
    "between_neither['label']='neither'\n",
    "between_klan=between[between['index'].isin(merge_klan_between['index'])]\n",
    "between_klan['label']='ws'\n",
    "between_african=between[between['index'].isin(merge_african_between['index'])]\n",
    "between_african['label']='aa'"
   ]
  },
  {
   "cell_type": "code",
   "execution_count": 26,
   "metadata": {},
   "outputs": [
    {
     "name": "stderr",
     "output_type": "stream",
     "text": [
      "/var/folders/3_/r8z51q092v566bd_r0g_zj640000gn/T/ipykernel_2483/4048937850.py:2: SettingWithCopyWarning: \n",
      "A value is trying to be set on a copy of a slice from a DataFrame.\n",
      "Try using .loc[row_indexer,col_indexer] = value instead\n",
      "\n",
      "See the caveats in the documentation: https://pandas.pydata.org/pandas-docs/stable/user_guide/indexing.html#returning-a-view-versus-a-copy\n",
      "  second_neither['label']='neither'\n",
      "/var/folders/3_/r8z51q092v566bd_r0g_zj640000gn/T/ipykernel_2483/4048937850.py:4: SettingWithCopyWarning: \n",
      "A value is trying to be set on a copy of a slice from a DataFrame.\n",
      "Try using .loc[row_indexer,col_indexer] = value instead\n",
      "\n",
      "See the caveats in the documentation: https://pandas.pydata.org/pandas-docs/stable/user_guide/indexing.html#returning-a-view-versus-a-copy\n",
      "  second_klan['label']='ws'\n",
      "/var/folders/3_/r8z51q092v566bd_r0g_zj640000gn/T/ipykernel_2483/4048937850.py:6: SettingWithCopyWarning: \n",
      "A value is trying to be set on a copy of a slice from a DataFrame.\n",
      "Try using .loc[row_indexer,col_indexer] = value instead\n",
      "\n",
      "See the caveats in the documentation: https://pandas.pydata.org/pandas-docs/stable/user_guide/indexing.html#returning-a-view-versus-a-copy\n",
      "  second_african['label']='aa'\n"
     ]
    }
   ],
   "source": [
    "second_neither=second[(~second['index'].isin(merge_klan_second['index']))&(~second['index'].isin(merge_african_second['index']))]\n",
    "second_neither['label']='neither'\n",
    "second_klan=second[second['index'].isin(merge_klan_second['index'])]\n",
    "second_klan['label']='ws'\n",
    "second_african=second[second['index'].isin(merge_african_second['index'])]\n",
    "second_african['label']='aa'"
   ]
  },
  {
   "cell_type": "code",
   "execution_count": 32,
   "metadata": {},
   "outputs": [],
   "source": [
    "first_label=pd.concat([first_neither, first_african, first_klan])\n",
    "first_label.sort_values(by='date')\n",
    "first_label.to_csv('/Volumes/T7/chroniclingamerica/american-stories/keywords/kkk-first-label.csv', index=False)"
   ]
  },
  {
   "cell_type": "code",
   "execution_count": 33,
   "metadata": {},
   "outputs": [],
   "source": [
    "second_label=pd.concat([second_neither, second_african, second_klan])\n",
    "second_label.sort_values(by='date')\n",
    "second_label.to_csv('/Volumes/T7/chroniclingamerica/american-stories/keywords/kkk-second-label.csv', index=False)"
   ]
  },
  {
   "cell_type": "code",
   "execution_count": 34,
   "metadata": {},
   "outputs": [],
   "source": [
    "between_label=pd.concat([between_neither, between_klan, between_african])\n",
    "between_label.sort_values(by='date')\n",
    "between_label.to_csv('/Volumes/T7/chroniclingamerica/american-stories/keywords/kkk-between-label.csv', index=False)"
   ]
  },
  {
   "cell_type": "code",
   "execution_count": 3,
   "metadata": {},
   "outputs": [],
   "source": [
    "first=pd.read_csv('/Volumes/T7/chroniclingamerica/american-stories/keywords/kkk-first-label.csv')\n",
    "between=pd.read_csv('/Volumes/T7/chroniclingamerica/american-stories/keywords/kkk-between-label.csv')\n",
    "second=pd.read_csv('/Volumes/T7/chroniclingamerica/american-stories/keywords/kkk-second-label.csv')"
   ]
  },
  {
   "cell_type": "code",
   "execution_count": 4,
   "metadata": {},
   "outputs": [
    {
     "name": "stderr",
     "output_type": "stream",
     "text": [
      "/Users/mstudio/miniconda3/envs/py3.10/lib/python3.10/site-packages/umap/distances.py:1063: NumbaDeprecationWarning: The 'nopython' keyword argument was not supplied to the 'numba.jit' decorator. The implicit default value for this argument is currently False, but it will be changed to True in Numba 0.59.0. See https://numba.readthedocs.io/en/stable/reference/deprecation.html#deprecation-of-object-mode-fall-back-behaviour-when-using-jit for details.\n",
      "  @numba.jit()\n",
      "/Users/mstudio/miniconda3/envs/py3.10/lib/python3.10/site-packages/umap/distances.py:1071: NumbaDeprecationWarning: The 'nopython' keyword argument was not supplied to the 'numba.jit' decorator. The implicit default value for this argument is currently False, but it will be changed to True in Numba 0.59.0. See https://numba.readthedocs.io/en/stable/reference/deprecation.html#deprecation-of-object-mode-fall-back-behaviour-when-using-jit for details.\n",
      "  @numba.jit()\n",
      "/Users/mstudio/miniconda3/envs/py3.10/lib/python3.10/site-packages/umap/distances.py:1086: NumbaDeprecationWarning: The 'nopython' keyword argument was not supplied to the 'numba.jit' decorator. The implicit default value for this argument is currently False, but it will be changed to True in Numba 0.59.0. See https://numba.readthedocs.io/en/stable/reference/deprecation.html#deprecation-of-object-mode-fall-back-behaviour-when-using-jit for details.\n",
      "  @numba.jit()\n",
      "/Users/mstudio/miniconda3/envs/py3.10/lib/python3.10/site-packages/tqdm/auto.py:22: TqdmWarning: IProgress not found. Please update jupyter and ipywidgets. See https://ipywidgets.readthedocs.io/en/stable/user_install.html\n",
      "  from .autonotebook import tqdm as notebook_tqdm\n",
      "/Users/mstudio/miniconda3/envs/py3.10/lib/python3.10/site-packages/umap/umap_.py:660: NumbaDeprecationWarning: The 'nopython' keyword argument was not supplied to the 'numba.jit' decorator. The implicit default value for this argument is currently False, but it will be changed to True in Numba 0.59.0. See https://numba.readthedocs.io/en/stable/reference/deprecation.html#deprecation-of-object-mode-fall-back-behaviour-when-using-jit for details.\n",
      "  @numba.jit()\n"
     ]
    }
   ],
   "source": [
    "from top2vec import Top2Vec\n",
    "from tqdm import tqdm\n",
    "import nltk\n",
    "stop=nltk.corpus.stopwords.words('english')\n",
    "import spacy\n",
    "nlp=spacy.load('en_core_web_sm')\n",
    "from nltk import word_tokenize"
   ]
  },
  {
   "cell_type": "code",
   "execution_count": 20,
   "metadata": {},
   "outputs": [],
   "source": [
    "def lemmatization(dataframe:pd.DataFrame()):\n",
    "    dataframe['article']=dataframe['article'].str.lower()\n",
    "    dataframe['stopword']=dataframe['article'].apply(lambda x: ' '.join([word for word in x.split() if word not in (stop)]))\n",
    "    dataframe['punct']=dataframe['stopword'].str.replace('[^\\w\\s]','')\n",
    "    dataframe['lemma']=dataframe['punct'].apply(lambda row: ' '.join([w.lemma_ for w in nlp(row)]))\n",
    "    dataframe['token']=dataframe['lemma'].apply(word_tokenize)\n",
    "    return dataframe"
   ]
  },
  {
   "cell_type": "code",
   "execution_count": 39,
   "metadata": {},
   "outputs": [],
   "source": [
    "dic_sample={'article':['article', 'he looked satisfied', 'he killed emma', 'she died due to flogging']}"
   ]
  },
  {
   "cell_type": "code",
   "execution_count": 40,
   "metadata": {},
   "outputs": [
    {
     "name": "stdout",
     "output_type": "stream",
     "text": [
      "flogging flog\n"
     ]
    }
   ],
   "source": [
    "doc=nlp('flogging')\n",
    "for token in doc:\n",
    "    print(token, token.lemma_)"
   ]
  },
  {
   "cell_type": "code",
   "execution_count": 41,
   "metadata": {},
   "outputs": [
    {
     "data": {
      "text/html": [
       "<div>\n",
       "<style scoped>\n",
       "    .dataframe tbody tr th:only-of-type {\n",
       "        vertical-align: middle;\n",
       "    }\n",
       "\n",
       "    .dataframe tbody tr th {\n",
       "        vertical-align: top;\n",
       "    }\n",
       "\n",
       "    .dataframe thead th {\n",
       "        text-align: right;\n",
       "    }\n",
       "</style>\n",
       "<table border=\"1\" class=\"dataframe\">\n",
       "  <thead>\n",
       "    <tr style=\"text-align: right;\">\n",
       "      <th></th>\n",
       "      <th>article</th>\n",
       "      <th>stopword</th>\n",
       "      <th>punct</th>\n",
       "      <th>lemma</th>\n",
       "      <th>token</th>\n",
       "    </tr>\n",
       "  </thead>\n",
       "  <tbody>\n",
       "    <tr>\n",
       "      <th>0</th>\n",
       "      <td>article</td>\n",
       "      <td>article</td>\n",
       "      <td>article</td>\n",
       "      <td>article</td>\n",
       "      <td>[article]</td>\n",
       "    </tr>\n",
       "    <tr>\n",
       "      <th>1</th>\n",
       "      <td>he looked satisfied</td>\n",
       "      <td>looked satisfied</td>\n",
       "      <td>looked satisfied</td>\n",
       "      <td>look satisfied</td>\n",
       "      <td>[look, satisfied]</td>\n",
       "    </tr>\n",
       "    <tr>\n",
       "      <th>2</th>\n",
       "      <td>he killed emma</td>\n",
       "      <td>killed emma</td>\n",
       "      <td>killed emma</td>\n",
       "      <td>kill emma</td>\n",
       "      <td>[kill, emma]</td>\n",
       "    </tr>\n",
       "    <tr>\n",
       "      <th>3</th>\n",
       "      <td>she died due to flogging</td>\n",
       "      <td>died due flogging</td>\n",
       "      <td>died due flogging</td>\n",
       "      <td>die due flog</td>\n",
       "      <td>[die, due, flog]</td>\n",
       "    </tr>\n",
       "  </tbody>\n",
       "</table>\n",
       "</div>"
      ],
      "text/plain": [
       "                    article           stopword              punct  \\\n",
       "0                   article            article            article   \n",
       "1       he looked satisfied   looked satisfied   looked satisfied   \n",
       "2            he killed emma        killed emma        killed emma   \n",
       "3  she died due to flogging  died due flogging  died due flogging   \n",
       "\n",
       "            lemma              token  \n",
       "0         article          [article]  \n",
       "1  look satisfied  [look, satisfied]  \n",
       "2       kill emma       [kill, emma]  \n",
       "3    die due flog   [die, due, flog]  "
      ]
     },
     "execution_count": 41,
     "metadata": {},
     "output_type": "execute_result"
    }
   ],
   "source": [
    "lemmatization(pd.DataFrame.from_dict(dic_sample))"
   ]
  },
  {
   "cell_type": "code",
   "execution_count": 42,
   "metadata": {},
   "outputs": [],
   "source": [
    "african_second_lemma=lemmatization(second)\n",
    "#second: 25m 30s"
   ]
  },
  {
   "cell_type": "code",
   "execution_count": 43,
   "metadata": {},
   "outputs": [
    {
     "name": "stderr",
     "output_type": "stream",
     "text": [
      "2023-10-14 13:54:11,558 - top2vec - INFO - Pre-processing documents for training\n",
      "2023-10-14 13:54:20,293 - top2vec - INFO - Creating joint document/word embedding\n",
      "2023-10-14 14:06:09,323 - top2vec - INFO - Creating lower dimension embedding of documents\n",
      "2023-10-14 14:06:21,598 - top2vec - INFO - Finding dense areas of documents\n",
      "2023-10-14 14:06:22,848 - top2vec - INFO - Finding topics\n"
     ]
    }
   ],
   "source": [
    "model=Top2Vec(documents=african_second_lemma['lemma'].tolist(), speed='learn', workers=4)\n",
    "#second: 12m 21s"
   ]
  },
  {
   "cell_type": "code",
   "execution_count": 44,
   "metadata": {},
   "outputs": [],
   "source": [
    "topic_sizes, topic_nums = model.get_topic_sizes()"
   ]
  },
  {
   "cell_type": "code",
   "execution_count": 45,
   "metadata": {},
   "outputs": [
    {
     "name": "stdout",
     "output_type": "stream",
     "text": [
      "293 293\n"
     ]
    }
   ],
   "source": [
    "print(len(topic_sizes), len(topic_nums))"
   ]
  },
  {
   "cell_type": "code",
   "execution_count": 54,
   "metadata": {},
   "outputs": [],
   "source": [
    "topic_sizes, topic_nums = model.get_topic_sizes()"
   ]
  },
  {
   "cell_type": "code",
   "execution_count": 46,
   "metadata": {},
   "outputs": [],
   "source": [
    "id_dic={}\n",
    "topic_id={}\n",
    "for element in zip(topic_nums, topic_sizes):\n",
    "    documents, document_scores, document_ids = model.search_documents_by_topic(topic_num=element[0], num_docs=element[1])\n",
    "    for score, id in zip(document_scores, document_ids):\n",
    "        id_dic[id]=score\n",
    "        topic_id[id]=element[0]"
   ]
  },
  {
   "cell_type": "code",
   "execution_count": 47,
   "metadata": {},
   "outputs": [],
   "source": [
    "topic_words, word_scores, topic_scores = model.get_topics(len(topic_sizes))"
   ]
  },
  {
   "cell_type": "code",
   "execution_count": 48,
   "metadata": {},
   "outputs": [
    {
     "data": {
      "text/plain": [
       "array([['creed', 'citizenship', 'americanism', ..., 'worship',\n",
       "        'organization', 'americans'],\n",
       "       ['robber', 'bandit', 'holdup', ..., 'victim', 'theft', 'shotgun'],\n",
       "       ['democratic', 'democrats', 'republicans', ..., 'presidency',\n",
       "        'brookhart', 'paulen'],\n",
       "       ...,\n",
       "       ['overflow', 'collision', 'declara', ..., 'reparation', 'revenue',\n",
       "        'senger'],\n",
       "       ['prodigy', 'aida', 'chess', ..., 'player', 'song', 'faculty'],\n",
       "       ['steamship', 'southampton', 'lorraine', ..., 'states', 'sixty',\n",
       "        'bolshevist']], dtype='<U15')"
      ]
     },
     "execution_count": 48,
     "metadata": {},
     "output_type": "execute_result"
    }
   ],
   "source": [
    "topic_words"
   ]
  },
  {
   "cell_type": "code",
   "execution_count": 49,
   "metadata": {},
   "outputs": [],
   "source": [
    "df_words=pd.DataFrame(topic_words).transpose()\n",
    "df_words.columns=topic_nums\n",
    "df_words.columns = df_words.columns.astype(str)"
   ]
  },
  {
   "cell_type": "code",
   "execution_count": 50,
   "metadata": {},
   "outputs": [],
   "source": [
    "df_words.to_csv('/Volumes/T7/chroniclingamerica/american-stories/keywords/second-topic-words.csv')"
   ]
  },
  {
   "cell_type": "code",
   "execution_count": 74,
   "metadata": {},
   "outputs": [
    {
     "data": {
      "text/plain": [
       "[array(['sore', 'canker', 'loosen', 'cold', 'soothe', 'heal', 'earache',\n",
       "        'toothache', 'tired', 'gargle', 'constipation', 'chest', 'rub',\n",
       "        'relief', 'hamiin', 'sprain', 'troubled', 'often', 'neck', 'sick',\n",
       "        'quick', 'generous', 'druggist', 'throat', 'headache', 'medicine',\n",
       "        'bottle', 'bruise', 'liver', 'ache', 'prep', 'shelf', 'pleasant',\n",
       "        'pink', 'deep', 'pill', 'aration', 'simple', 'occur', 'trouble',\n",
       "        'hamlin', 'stings', 'satisfied', 'burn', 'reliable', 'ard', 'cut',\n",
       "        'stiff', 'treatment', 'dependable'], dtype='<U15'),\n",
       " array(['influenza', 'flu', 'snuff', 'atomizer', 'germ', 'nose', 'grip',\n",
       "        'throat', 'mixture', 'dangerous', 'gist', 'epidemic', 'bog',\n",
       "        'gargle', 'spray', 'develop', 'cold', 'treatment', 'drug',\n",
       "        'defense', 'druggist', 'satisfied', 'soc', 'sore', 'sick',\n",
       "        'constipate', 'chest', 'bottle', 'liver', 'antiseptic', 'wall',\n",
       "        'pink', 'ache', 'pill', 'pleasant', 'lust', 'guarantee', 'oil',\n",
       "        'whip', 'ehe', 'defence', 'satisfy', 'stop', 'try', 'ud', 'wan',\n",
       "        'fh', 'ua', 'wizard', 'aa'], dtype='<U15'),\n",
       " array(['soothe', 'heal', 'constipation', 'penetrate', 'reliable',\n",
       "        'troubled', 'stings', 'generous', 'sore', 'hamiin', 'ache',\n",
       "        'sprain', 'sick', 'sting', 'soreness', 'sooth', 'headache',\n",
       "        'absolutely', 'bite', 'earache', 'pleasant', 'stiff', 'canker',\n",
       "        'druggist', 'bruise', 'medicine', 'toothache', 'liver', 'pill',\n",
       "        'limber', 'antiseptic', 'pink', 'burn', 'hamlin', 'bottle',\n",
       "        'readily', 'stiffness', 'muscle', 'satisfied', 'healing',\n",
       "        'guarantee', 'cut', 'lust', 'reli', 'application', 'chest',\n",
       "        'depend', 'mediate', 'constipate', 'nis'], dtype='<U15'),\n",
       " array(['raggedy', 'mama', 'willywiggle', 'andy', 'ann', 'daddy',\n",
       "        'magical', 'spect', 'hobby', 'magic', 'puff', 'nice', 'sanky',\n",
       "        'mister', 'soda', 'charm', 'fat', 'rag', 'goodness', 'treasure',\n",
       "        'boat', 'fool', 'pirate', 'maybe', 'howl', 'sailor', 'penny',\n",
       "        'sail', 'wooden', 'magician', 'everyone', 'lovely', 'cone', 'lit',\n",
       "        'cream', 'dough', 'anyway', 'wand', 'walter', 'creature',\n",
       "        'walters', 'fountain', 'captain', 'little', 'you', 'fun', 'cry',\n",
       "        'what', 'willy', 'higgins'], dtype='<U15'),\n",
       " array(['constipation', 'troubled', 'sprain', 'healing', 'generous',\n",
       "        'headache', 'stings', 'sting', 'applica', 'bite', 'sore',\n",
       "        'mediate', 'medicine', 'soothe', 'hamiin', 'canker', 'antiseptic',\n",
       "        'druggist', 'bruise', 'sick', 'liver', 'soreness', 'stiff',\n",
       "        'earache', 'pleasant', 'pill', 'reliable', 'pink', 'penetrate',\n",
       "        'ailment', 'ache', 'toothache', 'bottle', 'heal', 'dependable',\n",
       "        'burn', 'hamlin', 'cut', 'constipate', 'chest', 'septic', 'useful',\n",
       "        'ease', 'lust', 'croup', 'guarantee', 'satisfied', 'neck',\n",
       "        'preparation', 'pain'], dtype='<U15'),\n",
       " array(['mop', 'enamel', 'csc', 'houseware', 'aluminium', 'saucepan',\n",
       "        'quart', 'enameled', 'each', 'galvanize', 'chemically', 'dustless',\n",
       "        'shopworn', 'toilet', 'garbage', 'sweeper', 'cooker', 'polish',\n",
       "        'qt', 'soc', 'porcelain', 'sl', 'size', 'duster', 'wax',\n",
       "        'refrigerator', 'tub', 'imperfect', 'broom', 'boiler', 'ssc',\n",
       "        'dish', 'regularly', 'wv', 'soap', 'tray', 'dust', 'kettle',\n",
       "        'scrub', 'kitchen', 'buster', 'triangle', 'burner', 'oval',\n",
       "        'heater', 'assorted', 'carpet', 'vacuum', 'sip', 'pint'],\n",
       "       dtype='<U15'),\n",
       " array(['sore', 'canker', 'frost', 'headache', 'neuralgia', 'invariably',\n",
       "        'rely', 'bite', 'sprain', 'hamiin', 'lection', 'tonic', 'healing',\n",
       "        'druggist', 'sick', 'relief', 'nerve', 'sting', 'constipation',\n",
       "        'liver', 'neck', 'rub', 'bruise', 'torture', 'troubled', 'pill',\n",
       "        'soothe', 'antiseptic', 'pleasant', 'cold', 'quality', 'heal',\n",
       "        'quick', 'lust', 'satisfied', 'bottle', 'constipate', 'earache',\n",
       "        'generous', 'pink', 'cut', 'stings', 'stiff', 'too', 'toothache',\n",
       "        'medicine', 'serious', 'burn', 'guarantee', 'treatment'],\n",
       "       dtype='<U15'),\n",
       " array(['soothe', 'cutl', 'canker', 'sore', 'poisoning', 'constipation',\n",
       "        'stings', 'earache', 'hamiin', 'prep', 'sprain', 'lockjaw',\n",
       "        'medicine', 'toothache', 'healing', 'reliable', 'antiseptic',\n",
       "        'aration', 'dependable', 'troubled', 'heal', 'generous', 'lessen',\n",
       "        'headache', 'neglect', 'bruise', 'poi', 'cold', 'infection',\n",
       "        'chest', 'sting', 'handy', 'hamlin', 'neck', 'often', 'loosen',\n",
       "        'bite', 'bottle', 'druggist', 'liver', 'burn', 'aid', 'sick',\n",
       "        'cut', 'stiff', 'gargle', 'pill', 'doctor', 'promptly', 'itself'],\n",
       "       dtype='<U15'),\n",
       " array(['sooth', 'penetrate', 'sick', 'readily', 'absolutely', 'heal',\n",
       "        'sting', 'reli', 'satisfied', 'druggist', 'pleasant', 'bite',\n",
       "        'ache', 'lust', 'soreness', 'liver', 'pink', 'sprain', 'stings',\n",
       "        'constipate', 'pill', 'headache', 'guarantee', 'soothe',\n",
       "        'application', 'stiff', 'bruise', 'bottle', 'antiseptic', 'burn',\n",
       "        'sore', 'constipation', 'limber', 'reliable', 'cut', 'quality',\n",
       "        'earache', 'troubled', 'canker', 'generous', 'whip', 'hamiin',\n",
       "        'toothache', 'rheumatism', 'muscle', 'cent', 'liable', 'joint',\n",
       "        'croup', 'too'], dtype='<U15'),\n",
       " array(['sore', 'soothe', 'canker', 'cutl', 'infection', 'reliable',\n",
       "        'healing', 'sprain', 'antiseptic', 'earache', 'poisoning',\n",
       "        'stings', 'lockjaw', 'pow', 'constipation', 'erful', 'toothache',\n",
       "        'effec', 'sting', 'headache', 'druggist', 'bite', 'hamiin',\n",
       "        'liver', 'heal', 'troubled', 'sick', 'medicine', 'bruise', 'neck',\n",
       "        'cold', 'scratch', 'pill', 'bottle', 'generous', 'neglect', 'lust',\n",
       "        'constipate', 'cut', 'burn', 'treatment', 'pleasant', 'pink',\n",
       "        'satisfied', 'aid', 'stiff', 'frost', 'ham', 'too', 'chest'],\n",
       "       dtype='<U15'),\n",
       " array(['rules', 'simmon', 'simmons', 'perial', 'upshaw', 'imperial',\n",
       "        'tague', 'tyler', 'campbell', 'atlanta', 'clarke', 'kloncilium',\n",
       "        'collapse', 'inquiry', 'kamelia', 'chairman', 'founder',\n",
       "        'investigation', 'testimony', 'propagation', 'wright', 'quiry',\n",
       "        'evans', 'colonel', 'congressional', 'witness', 'khan', 'illness',\n",
       "        'probe', 'denial', 'examina', 'committee', 'kiux', 'spector',\n",
       "        'williamson', 'mittee', 'reiterate', 'kian', 'vestigation',\n",
       "        'hearing', 'coburn', 'publicity', 'klau', 'confidential',\n",
       "        'factional', 'gressional', 'etheridge', 'peror', 'improper',\n",
       "        'bossert'], dtype='<U15'),\n",
       " array(['phonograph', 'cello', 'edison', 'artist', 'violin', 'sung',\n",
       "        'genius', 'singer', 'music', 'invention', 'melody', 'violinist',\n",
       "        'marvellous', 'wonderful', 'baritone', 'reproduce', 'song',\n",
       "        'piano', 'pianist', 'inven', 'menlo', 'comparison', 'instrument',\n",
       "        'orchestral', 'inventor', 'solos', 'psychic', 'soprano',\n",
       "        'symphony', 'sing', 'beethoven', 'musician', 'tenor', 'scientific',\n",
       "        'composer', 'laboratory', 'achievement', 'aria', 'invent', 'epoch',\n",
       "        'verdi', 'classical', 'chopin', 'concerto', 'composition',\n",
       "        'accompanist', 'concert', 'duet', 'recital', 'soloist'],\n",
       "       dtype='<U15'),\n",
       " array(['croup', 'earache', 'toothache', 'stings', 'sprain', 'sting',\n",
       "        'ache', 'sick', 'headache', 'soreness', 'penetrate',\n",
       "        'constipation', 'lumbago', 'druggist', 'hamiin', 'collie', 'bite',\n",
       "        'liable', 'liver', 'limber', 'pleasant', 'stiff', 'cine', 'ach',\n",
       "        'bruise', 'mishap', 'troubled', 'reliable', 'lust', 'pink',\n",
       "        'satisfied', 'pill', 'sore', 'generous', 'medi', 'rheumatism',\n",
       "        'heal', 'lame', 'bottle', 'constipate', 'preparation', 'cident',\n",
       "        'canker', 'burn', 'guarantee', 'soothe', 'sooth', 'too', 'cut',\n",
       "        'sudden'], dtype='<U15'),\n",
       " array(['soreness', 'etrate', 'ache', 'sting', 'stings', 'bite', 'bago',\n",
       "        'limber', 'ailment', 'useful', 'druggist', 'mishap', 'lust',\n",
       "        'stiff', 'headache', 'rheuma', 'sprain', 'lame', 'liver', 'sick',\n",
       "        'pleasant', 'constipate', 'satisfied', 'pink', 'sciatica',\n",
       "        'septic', 'pill', 'joint', 'immediate', 'application', 'healing',\n",
       "        'croup', 'bruise', 'penetrate', 'tism', 'constipation', 'hamiin',\n",
       "        'bottle', 'heal', 'guarantee', 'lum', 'troubled', 'burn',\n",
       "        'harmless', 'quickly', 'earache', 'muscle', 'hamlin', 'pen',\n",
       "        'idea'], dtype='<U15'),\n",
       " array(['invention', 'electrical', 'inventor', 'edison', 'steinmetz',\n",
       "        'inven', 'electricity', 'trical', 'experiment', 'menlo',\n",
       "        'laboratory', 'scientific', 'research', 'marconi', 'device',\n",
       "        'scientist', 'schenectady', 'inventive', 'science', 'electric',\n",
       "        'genius', 'apparatus', 'wireless', 'experimental', 'invent', 'edi',\n",
       "        'transmission', 'lightning', 'incandescent', 'mankind',\n",
       "        'phonograph', 'mechanical', 'radio', 'energy', 'horsepower',\n",
       "        'development', 'current', 'engineering', 'achievement', 'system',\n",
       "        'phenomenon', 'artificial', 'practical', 'elec', 'metz',\n",
       "        'reproduce', 'bulb', 'engineer', 'cleo', 'telegraph'], dtype='<U15'),\n",
       " array(['baum', 'oz', 'fairy', 'tale', 'book', 'woodman', 'scarecrow',\n",
       "        'adventure', 'author', 'goose', 'kingdom', 'fiction', 'illustrate',\n",
       "        'illustration', 'chil', 'emerald', 'magic', 'poem', 'literary',\n",
       "        'child', 'story', 'juvenile', 'charm', 'fantasy', 'dorothy',\n",
       "        'judy', 'childhood', 'cyclone', 'delightful', 'romance',\n",
       "        'romantic', 'volume', 'circus', 'edition', 'princess', 'novel',\n",
       "        'rabbit', 'delight', 'grown', 'novelist', 'witch', 'movie',\n",
       "        'magical', 'dren', 'picture', 'biography', 'katharine',\n",
       "        'hollywood', 'adaptation', 'wicked'], dtype='<U15'),\n",
       " array(['nancy', 'fairy', 'magical', 'magic', 'nick', 'raggedy', 'wand',\n",
       "        'flap', 'wicked', 'daddy', 'nice', 'you', 'why', 'willywiggle',\n",
       "        'charm', 'goodness', 'mama', 'fool', 'nea', 'what', 'sanky',\n",
       "        'twin', 'copyright', 'zeb', 'dream', 'dear', 'maybe', 'queer',\n",
       "        'how', 'oh', 'mister', 'my', 'sigh', 'ann', 'stupid', 'softly',\n",
       "        'murmur', 'aloud', 'puff', 'spect', 'hobby', 'witch', 'creature',\n",
       "        'dad', 'patch', 'then', 'now', 'cry', 'treasure', 'smile'],\n",
       "       dtype='<U15'),\n",
       " array(['woodman', 'scarecrow', 'emerald', 'bug', 'zeb', 'oz', 'baum',\n",
       "        'fairy', 'wicked', 'magical', 'creature', 'magic', 'tin', 'throne',\n",
       "        'kingdom', 'witch', 'raggedy', 'goodness', 'charm', 'queer', 'why',\n",
       "        'tip', 'circus', 'stupid', 'you', 'murmur', 'princess', 'surely',\n",
       "        'dear', 'brain', 'grown', 'cyclone', 'wrinkle', 'copyright',\n",
       "        'conquer', 'ruler', 'fool', 'thing', 'indeed', 'gracious',\n",
       "        'dorothy', 'cowardly', 'judy', 'lovely', 'willywiggle', 'educate',\n",
       "        'derful', 'queen', 'scare', 'nancy'], dtype='<U15'),\n",
       " array(['judy', 'oz', 'hollywood', 'goldwyn', 'role', 'film', 'comedian',\n",
       "        'actor', 'scarecrow', 'woodman', 'metro', 'movie', 'picture',\n",
       "        'adaptation', 'loew', 'fantasy', 'comedy', 'production', 'actress',\n",
       "        'baum', 'screen', 'theater', 'rooney', 'drama', 'romance',\n",
       "        'cinema', 'garland', 'photoplay', 'vaudeville', 'acrobatic',\n",
       "        'theatre', 'lyric', 'dorothy', 'portray', 'thrill', 'stage',\n",
       "        'photography', 'haley', 'mickey', 'attraction', 'stellar',\n",
       "        'adventure', 'jackie', 'heroine', 'musical', 'scenario', 'cyclone',\n",
       "        'romantic', 'matinee', 'broadway'], dtype='<U15'),\n",
       " array(['disease', 'patient', 'symptom', 'medical', 'diet', 'health',\n",
       "        'appendicitis', 'germ', 'tuberculosis', 'physician', 'healthy',\n",
       "        'mercury', 'sufferer', 'dose', 'doctor', 'medicine', 'gland',\n",
       "        'acute', 'surgical', 'infection', 'treatment', 'specialist',\n",
       "        'surgeon', 'remedy', 'tissue', 'cure', 'medi', 'epidemic', 'fever',\n",
       "        'sickness', 'illness', 'ache', 'physical', 'headache', 'suffer',\n",
       "        'lung', 'vegetable', 'scientist', 'suffering', 'skin', 'paralysis',\n",
       "        'sick', 'throat', 'antiseptic', 'reader', 'chemist', 'rheumatism',\n",
       "        'liver', 'pain', 'septic'], dtype='<U15')]"
      ]
     },
     "execution_count": 74,
     "metadata": {},
     "output_type": "execute_result"
    }
   ],
   "source": [
    "topic_words, word_scores, topic_scores, topic_nums = model.search_topics(keywords=[\"wizard\"], num_topics=20)\n",
    "topic_words"
   ]
  },
  {
   "cell_type": "code",
   "execution_count": 57,
   "metadata": {},
   "outputs": [
    {
     "data": {
      "text/plain": [
       "array([ 78,  99, 227,  73, 252,   8,  88, 230, 125, 155,  60, 213])"
      ]
     },
     "execution_count": 57,
     "metadata": {},
     "output_type": "execute_result"
    }
   ],
   "source": [
    "topic_nums"
   ]
  },
  {
   "cell_type": "code",
   "execution_count": 58,
   "metadata": {},
   "outputs": [
    {
     "data": {
      "text/plain": [
       "array([0.2568594 , 0.24912324, 0.21733481, 0.21703125, 0.20951494,\n",
       "       0.20759094, 0.20482032, 0.20377045, 0.19908715, 0.19699399,\n",
       "       0.19534362, 0.19287813])"
      ]
     },
     "execution_count": 58,
     "metadata": {},
     "output_type": "execute_result"
    }
   ],
   "source": [
    "topic_scores"
   ]
  },
  {
   "cell_type": "code",
   "execution_count": 64,
   "metadata": {},
   "outputs": [
    {
     "data": {
      "text/plain": [
       "'washington , oct . 14 - illness today prevent colonel simmon , imperial wizard ku klux house rules committee investi gate klan activity . colonel sim mon collapse yesterday afternoon make a. long statement defend klan .'"
      ]
     },
     "execution_count": 64,
     "metadata": {},
     "output_type": "execute_result"
    }
   ],
   "source": [
    "african_second_lemma.loc[16259, 'lemma']"
   ]
  },
  {
   "cell_type": "code",
   "execution_count": 65,
   "metadata": {},
   "outputs": [
    {
     "data": {
      "text/plain": [
       "(46613, 11)"
      ]
     },
     "execution_count": 65,
     "metadata": {},
     "output_type": "execute_result"
    }
   ],
   "source": [
    "african_second_lemma.shape"
   ]
  },
  {
   "cell_type": "code",
   "execution_count": 67,
   "metadata": {},
   "outputs": [],
   "source": [
    "wizard_relevant_index=[]\n",
    "wizard_relevant_score=[]\n",
    "wizard_relevant_lemma=[]\n",
    "documents, document_scores, document_ids = model.search_documents_by_topic(topic_num=60, num_docs=208)\n",
    "for doc, score, doc_id in zip(documents, document_scores, document_ids):\n",
    "    wizard_relevant_index.append(doc_id)\n",
    "    wizard_relevant_score.append(score)\n",
    "    wizard_relevant_lemma.append(doc)"
   ]
  },
  {
   "cell_type": "code",
   "execution_count": 69,
   "metadata": {},
   "outputs": [],
   "source": [
    "pd.DataFrame.from_dict({'index':wizard_relevant_index, 'score':wizard_relevant_score, 'lemma':wizard_relevant_lemma}).to_csv('/Volumes/T7/chroniclingamerica/american-stories/keywords/wizard-relevant-df.csv', index=False)"
   ]
  },
  {
   "cell_type": "code",
   "execution_count": 73,
   "metadata": {},
   "outputs": [
    {
     "data": {
      "text/plain": [
       "[array(['jail', 'mob', 'jailer', 'riddled', 'lynch', 'prisoner', 'sheriff',\n",
       "        'overpower', 'cell', 'deputy', 'coroner', 'custody', 'hang',\n",
       "        'disperse', 'bullet', 'arrest', 'negro', 'flog', 'inquest',\n",
       "        'kidnap', 'shoot', 'slayer', 'keeping', 'limb', 'negroes',\n",
       "        'fatally', 'posse', 'county', 'assaulted', 'abduct', 'jury',\n",
       "        'assailant', 'kidnapping', 'shotgun', 'dep', 'nearby', 'slain',\n",
       "        'bullock', 'lynching', 'seize', 'shortly', 'wound', 'pistol',\n",
       "        'shooting', 'police', 'guard', 'automobile', 'convict',\n",
       "        'implicate', 'armed'], dtype='<U15'),\n",
       " array(['baird', 'jasper', 'wilkinson', 'tuscaloosa', 'lancaster', 'jail',\n",
       "        'jailer', 'kilby', 'solicitor', 'lynch', 'riddled', 'ala', 'jury',\n",
       "        'trial', 'guardsman', 'mob', 'juror', 'springer', 'lynching',\n",
       "        'venue', 'county', 'sheriff', 'bankhead', 'horace', 'pennington',\n",
       "        'prisoner', 'sergt', 'witness', 'killing', 'testify', 'birmingham',\n",
       "        'circuit', 'keeping', 'montgomery', 'coroner', 'bama', 'morris',\n",
       "        'flog', 'bessemer', 'convict', 'reconvene', 'musgrove', 'testi',\n",
       "        'galligan', 'tes', 'defendant', 'custody', 'charg', 'flogging',\n",
       "        'miner'], dtype='<U15'),\n",
       " array(['texarkana', 'ashdown', 'jordan', 'norman', 'flog', 'ark',\n",
       "        'shreveport', 'bowie', 'whipping', 'abduct', 'fiogge', 'mob',\n",
       "        'negro', 'tex', 'sheriff', 'kidnap', 'robed', 'kidnapping',\n",
       "        'arrest', 'assailant', 'lynch', 'flogging', 'jail', 'bootlegging',\n",
       "        'tar', 'indict', 'dictment', 'skipwith', 'bastrop', 'severely',\n",
       "        'seize', 'herrin', 'custody', 'outskirt', 'jury', 'abduction',\n",
       "        'deputy', 'feath', 'dallas', 'nize', 'lash', 'arkansa', 'naping',\n",
       "        'addie', 'ging', 'porter', 'mckoin', 'morehouse', 'conway',\n",
       "        'misdemeanor'], dtype='<U15'),\n",
       " array(['tulsa', 'flog', 'penitentiary', 'okla', 'arrow', 'whipping',\n",
       "        'confess', 'sentence', 'flogging', 'martial', 'fiogge', 'convict',\n",
       "        'markham', 'guilty', 'grover', 'ging', 'muskogee', 'participation',\n",
       "        'mob', 'tence', 'lash', 'plead', 'trial', 'oklahoma', 'jewett',\n",
       "        'okmulgee', 'jail', 'kidnap', 'homa', 'jury', 'acquit', 'wagner',\n",
       "        'abduct', 'plea', 'allege', 'walton', 'prison', 'punishment',\n",
       "        'verdict', 'conviction', 'imprison', 'implication', 'county',\n",
       "        'indict', 'yarbrough', 'implicate', 'defendant', 'imprisonment',\n",
       "        'associated', 'broken'], dtype='<U15'),\n",
       " array(['weekend', 'coverdale', 'derrickson', 'wilmington', 'lewe',\n",
       "        'milford', 'spend', 'mrs', 'mington', 'elwood', 'sunday',\n",
       "        'spending', 'motored', 'guest', 'parent', 'jester', 'halloween',\n",
       "        'entertain', 'kenton', 'dover', 'dickerson', 'seaford', 'visit',\n",
       "        'refreshment', 'philadelphia', 'relative', 'emma', 'evening',\n",
       "        'greenwood', 'mr', 'warrington', 'miss', 'entertained', 'webb',\n",
       "        'chester', 'georgetown', 'annie', 'donovan', 'epworth', 'jennie',\n",
       "        'supper', 'rachel', 'daughter', 'enjoy', 'smyrna', 'salisbury',\n",
       "        'delaware', 'ennis', 'emory', 'freshment'], dtype='<U15')]"
      ]
     },
     "execution_count": 73,
     "metadata": {},
     "output_type": "execute_result"
    }
   ],
   "source": [
    "topic_words, word_scores, topic_scores, topic_nums = model.search_topics(keywords=[\"lynch\"], num_topics=5)\n",
    "topic_words"
   ]
  },
  {
   "cell_type": "code",
   "execution_count": 70,
   "metadata": {},
   "outputs": [
    {
     "data": {
      "text/plain": [
       "[array(['lilly', 'riot', 'affray', 'unlawful', 'johnstown', 'defendant',\n",
       "        'assemblage', 'klansmen', 'acquit', 'rioting', 'alleged',\n",
       "        'resident', 'trial', 'klansman', 'fatal', 'kiansman', 'thirteen',\n",
       "        'indictment', 'disorder', 'jury', 'acquittal', 'carnegie',\n",
       "        'guilty', 'odom', 'corpus', 'perse', 'fendant', 'habeas',\n",
       "        'verdict', 'robed', 'dictment', 'inglewood', 'counsel', 'indict',\n",
       "        'arrest', 'waive', 'murder', 'jail', 'testify', 'prosecution',\n",
       "        'courtroom', 'weapon', 'perth', 'sentence', 'testimony', 'arraign',\n",
       "        'bail', 'witness', 'fense', 'pa'], dtype='<U15'),\n",
       " array(['klansmen', 'rioting', 'riot', 'disturbance', 'disorder',\n",
       "        'klansman', 'disperse', 'perse', 'marcher', 'clash', 'police',\n",
       "        'parade', 'herrin', 'patrol', 'kiansman', 'galligan', 'nearby',\n",
       "        'injure', 'trooper', 'carnegie', 'wound', 'outbreak', 'rade',\n",
       "        'robed', 'lice', 'klans', 'regalia', 'patrolman', 'policeman',\n",
       "        'nile', 'sheriff', 'bomb', 'resident', 'guardsman', 'crowd',\n",
       "        'bombing', 'casualty', 'arrest', 'melee', 'hurl', 'crosse',\n",
       "        'flame', 'mob', 'firing', 'constable', 'lilly', 'troop',\n",
       "        'attacker', 'fiery', 'fire'], dtype='<U15'),\n",
       " array(['strike', 'overwhelmingly', 'subway', 'avert', 'railway',\n",
       "        'elevate', 'striker', 'wage', 'shopman', 'brotherhood', 'braddock',\n",
       "        'garment', 'union', 'rail', 'aug', 'sept', 'nov', 'coal',\n",
       "        'youngstown', 'worker', 'steel', 'bronx', 'employee', 'railroad',\n",
       "        'annually', 'carnegie', 'everett', 'riot', 'corpora', 'surface',\n",
       "        'labor', 'textile', 'mill', 'arbitration', 'richmond', 'borough',\n",
       "        'rioting', 'pittsburgh', 'anthracite', 'manhattan', 'strik',\n",
       "        'workers', 'miner', 'men', 'federation', 'industrial', 'increase',\n",
       "        'chicago', 'unemployment', 'indus'], dtype='<U15'),\n",
       " array(['striker', 'shopman', 'strike', 'railroad', 'railway', 'picket',\n",
       "        'employee', 'rail', 'worker', 'disorder', 'union', 'strik', 'wage',\n",
       "        'riot', 'ployes', 'deputize', 'textile', 'shop', 'sympathizer',\n",
       "        'overwhelmingly', 'locomotive', 'rioting', 'injunction',\n",
       "        'youngstown', 'mobilize', 'coal', 'denison', 'freight', 'workers',\n",
       "        'brotherhood', 'labor', 'workman', 'miner', 'employe', 'troop',\n",
       "        'disturbance', 'yards', 'interfere', 'july', 'jewell', 'avert',\n",
       "        'employment', 'steel', 'herrin', 'maintenance', 'outskirt', 'lice',\n",
       "        'mill', 'guardsman', 'unemployed'], dtype='<U15'),\n",
       " array(['herrin', 'galligan', 'williamson', 'glenn', 'ora', 'sheriff',\n",
       "        'raider', 'deputy', 'guardsman', 'layman', 'raid', 'deputize',\n",
       "        'massacre', 'slain', 'constable', 'bloody', 'shelton', 'coroner',\n",
       "        'inquest', 'marion', 'shooting', 'caesar', 'hanson', 'liquor',\n",
       "        'county', 'killing', 'feud', 'carlos', 'mosher', 'gunman', 'riot',\n",
       "        'sympathizer', 'affray', 'militia', 'supervisor', 'troop',\n",
       "        'roadhouse', 'forbes', 'rioting', 'booze', 'shoot', 'outbreak',\n",
       "        'cleanup', 'factional', 'bootlegger', 'inglewood', 'herein',\n",
       "        'bombing', 'foreman', 'kill'], dtype='<U15')]"
      ]
     },
     "execution_count": 70,
     "metadata": {},
     "output_type": "execute_result"
    }
   ],
   "source": [
    "topic_words, word_scores, topic_scores, topic_nums = model.search_topics(keywords=[\"riot\"], num_topics=5)\n",
    "topic_words"
   ]
  },
  {
   "cell_type": "code",
   "execution_count": 71,
   "metadata": {},
   "outputs": [
    {
     "data": {
      "text/plain": [
       "[array(['jail', 'mob', 'jailer', 'riddled', 'lynch', 'prisoner', 'sheriff',\n",
       "        'overpower', 'cell', 'deputy', 'coroner', 'custody', 'hang',\n",
       "        'disperse', 'bullet', 'arrest', 'negro', 'flog', 'inquest',\n",
       "        'kidnap', 'shoot', 'slayer', 'keeping', 'limb', 'negroes',\n",
       "        'fatally', 'posse', 'county', 'assaulted', 'abduct', 'jury',\n",
       "        'assailant', 'kidnapping', 'shotgun', 'dep', 'nearby', 'slain',\n",
       "        'bullock', 'lynching', 'seize', 'shortly', 'wound', 'pistol',\n",
       "        'shooting', 'police', 'guard', 'automobile', 'convict',\n",
       "        'implicate', 'armed'], dtype='<U15'),\n",
       " array(['tar', 'feather', 'lash', 'flog', 'assailant', 'whipping', 'feath',\n",
       "        'severely', 'kidnap', 'seize', 'beaumont', 'abduct', 'robed',\n",
       "        'fiogge', 'dallas', 'flogging', 'captor', 'strip', 'outskirt',\n",
       "        'tex', 'victim', 'whip', 'beating', 'abductor', 'automobile',\n",
       "        'mob', 'dump', 'kidnapping', 'tulsa', 'blindfold', 'pinto',\n",
       "        'naping', 'strap', 'nap', 'warn', 'kidnaper', 'arrest', 'clothing',\n",
       "        'administer', 'texarkana', 'lonely', 'july', 'police', 'jail',\n",
       "        'sheriff', 'fog', 'ging', 'naked', 'severe', 'abduction'],\n",
       "       dtype='<U15'),\n",
       " array(['baird', 'jasper', 'wilkinson', 'tuscaloosa', 'lancaster', 'jail',\n",
       "        'jailer', 'kilby', 'solicitor', 'lynch', 'riddled', 'ala', 'jury',\n",
       "        'trial', 'guardsman', 'mob', 'juror', 'springer', 'lynching',\n",
       "        'venue', 'county', 'sheriff', 'bankhead', 'horace', 'pennington',\n",
       "        'prisoner', 'sergt', 'witness', 'killing', 'testify', 'birmingham',\n",
       "        'circuit', 'keeping', 'montgomery', 'coroner', 'bama', 'morris',\n",
       "        'flog', 'bessemer', 'convict', 'reconvene', 'musgrove', 'testi',\n",
       "        'galligan', 'tes', 'defendant', 'custody', 'charg', 'flogging',\n",
       "        'miner'], dtype='<U15'),\n",
       " array(['goose', 'flog', 'fiogge', 'whipping', 'mob', 'buckley', 'creek',\n",
       "        'tar', 'feather', 'bonnie', 'harrison', 'flogging', 'kidnap',\n",
       "        'severely', 'assailant', 'assault', 'ging', 'lash', 'houston',\n",
       "        'tex', 'bastrop', 'immortality', 'jury', 'dallas', 'arrest',\n",
       "        'woerner', 'outskirt', 'identification', 'kidnapping', 'confess',\n",
       "        'strap', 'jail', 'whip', 'administer', 'tulsa', 'abductor',\n",
       "        'abduct', 'victim', 'odom', 'beaumont', 'lehi', 'identify',\n",
       "        'fourche', 'grady', 'indict', 'seize', 'beating', 'mischief',\n",
       "        'beat', 'sheriff'], dtype='<U15'),\n",
       " array(['tulsa', 'flog', 'penitentiary', 'okla', 'arrow', 'whipping',\n",
       "        'confess', 'sentence', 'flogging', 'martial', 'fiogge', 'convict',\n",
       "        'markham', 'guilty', 'grover', 'ging', 'muskogee', 'participation',\n",
       "        'mob', 'tence', 'lash', 'plead', 'trial', 'oklahoma', 'jewett',\n",
       "        'okmulgee', 'jail', 'kidnap', 'homa', 'jury', 'acquit', 'wagner',\n",
       "        'abduct', 'plea', 'allege', 'walton', 'prison', 'punishment',\n",
       "        'verdict', 'conviction', 'imprison', 'implication', 'county',\n",
       "        'indict', 'yarbrough', 'implicate', 'defendant', 'imprisonment',\n",
       "        'associated', 'broken'], dtype='<U15')]"
      ]
     },
     "execution_count": 71,
     "metadata": {},
     "output_type": "execute_result"
    }
   ],
   "source": [
    "topic_words, word_scores, topic_scores, topic_nums = model.search_topics(keywords=[\"mob\"], num_topics=5)\n",
    "topic_words"
   ]
  },
  {
   "cell_type": "code",
   "execution_count": 34,
   "metadata": {},
   "outputs": [
    {
     "data": {
      "text/plain": [
       "(12700, 11)"
      ]
     },
     "execution_count": 34,
     "metadata": {},
     "output_type": "execute_result"
    }
   ],
   "source": [
    "word_of_interest='wizard'\n",
    "second[second['article'].str.contains(word_of_interest)].shape"
   ]
  },
  {
   "cell_type": "code",
   "execution_count": 37,
   "metadata": {},
   "outputs": [],
   "source": [
    "second[second['article'].str.contains(word_of_interest)].to_csv('/Volumes/T7/chroniclingamerica/american-stories/keywords/second-wizard.csv')"
   ]
  },
  {
   "cell_type": "code",
   "execution_count": 53,
   "metadata": {},
   "outputs": [],
   "source": [
    "documents, document_scores, document_ids = model.search_documents_by_keywords(keywords=[\"wizard\"], num_docs=second.shape[0])\n",
    "wizard_df=pd.DataFrame({'doc':documents, 'id':document_ids, 'score':document_scores})\n",
    "wizard_df.to_csv('/Volumes/T7/chroniclingamerica/american-stories/keywords/second-wizard-topic.csv')"
   ]
  },
  {
   "cell_type": "code",
   "execution_count": 54,
   "metadata": {},
   "outputs": [],
   "source": [
    "documents, document_scores, document_ids = model.search_documents_by_keywords(keywords=[\"lynch\"], num_docs=second.shape[0])\n",
    "lynch_df=pd.DataFrame({'doc':documents, 'id':document_ids, 'score':document_scores})\n",
    "lynch_df.to_csv('/Volumes/T7/chroniclingamerica/american-stories/keywords/second-lynch-topic.csv')"
   ]
  },
  {
   "cell_type": "code",
   "execution_count": 55,
   "metadata": {},
   "outputs": [],
   "source": [
    "documents, document_scores, document_ids = model.search_documents_by_keywords(keywords=[\"riot\"], num_docs=second.shape[0])\n",
    "riot_df=pd.DataFrame({'doc':documents, 'id':document_ids, 'score':document_scores})\n",
    "riot_df.to_csv('/Volumes/T7/chroniclingamerica/american-stories/keywords/second-riot-topic.csv')"
   ]
  },
  {
   "cell_type": "code",
   "execution_count": 56,
   "metadata": {},
   "outputs": [],
   "source": [
    "documents, document_scores, document_ids = model.search_documents_by_keywords(keywords=[\"mob\"], num_docs=second.shape[0])\n",
    "mob_df=pd.DataFrame({'doc':documents, 'id':document_ids, 'score':document_scores})\n",
    "mob_df.to_csv('/Volumes/T7/chroniclingamerica/american-stories/keywords/second-mob-topic.csv')"
   ]
  }
 ],
 "metadata": {
  "kernelspec": {
   "display_name": "py3.11",
   "language": "python",
   "name": "python3"
  },
  "language_info": {
   "codemirror_mode": {
    "name": "ipython",
    "version": 3
   },
   "file_extension": ".py",
   "mimetype": "text/x-python",
   "name": "python",
   "nbconvert_exporter": "python",
   "pygments_lexer": "ipython3",
   "version": "3.10.9"
  }
 },
 "nbformat": 4,
 "nbformat_minor": 2
}
